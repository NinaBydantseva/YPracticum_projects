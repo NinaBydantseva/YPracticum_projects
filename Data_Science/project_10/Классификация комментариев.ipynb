{
 "cells": [
  {
   "cell_type": "markdown",
   "metadata": {},
   "source": [
    "# Проект для «Викишоп»"
   ]
  },
  {
   "cell_type": "markdown",
   "metadata": {},
   "source": [
    "Интернет-магазин «Викишоп» запускает новый сервис. Теперь пользователи могут редактировать и дополнять описания товаров, как в вики-сообществах. То есть клиенты предлагают свои правки и комментируют изменения других. Магазину нужен инструмент, который будет искать токсичные комментарии и отправлять их на модерацию. \n",
    "\n",
    "Обучите модель классифицировать комментарии на позитивные и негативные. В вашем распоряжении набор данных с разметкой о токсичности правок.\n",
    "\n",
    "Постройте модель со значением метрики качества *F1* не меньше 0.75. \n",
    "\n",
    "**Инструкция по выполнению проекта**\n",
    "\n",
    "1. Загрузите и подготовьте данные.\n",
    "2. Обучите разные модели. \n",
    "3. Сделайте выводы.\n",
    "\n",
    "Для выполнения проекта применять *BERT* необязательно, но вы можете попробовать.\n",
    "\n",
    "**Описание данных**\n",
    "\n",
    "Данные находятся в файле `toxic_comments.csv`. Столбец *text* в нём содержит текст комментария, а *toxic* — целевой признак."
   ]
  },
  {
   "cell_type": "code",
   "execution_count": 1,
   "metadata": {},
   "outputs": [],
   "source": [
    "# загружаем все необходимые библиотеки\n",
    "import pandas as pd\n",
    "import numpy as np\n",
    "\n",
    "import nltk\n",
    "import torch\n",
    "import transformers\n",
    "from nltk.corpus import stopwords as nltk_stopwords\n",
    "from tqdm import notebook\n",
    "from pymystem3 import Mystem\n",
    "\n",
    "from sklearn.linear_model import (\n",
    "    LogisticRegression,\n",
    "    RidgeClassifierCV\n",
    ")\n",
    "from sklearn.model_selection import cross_val_score\n",
    "from sklearn.model_selection import train_test_split\n",
    "from sklearn.feature_extraction.text import TfidfVectorizer\n",
    "from sklearn.ensemble import RandomForestClassifier\n",
    "\n",
    "from sklearn.metrics import (\n",
    "    f1_score,\n",
    "    make_scorer\n",
    ")\n",
    "import matplotlib.pyplot as plt\n",
    "\n",
    "from scipy.stats import uniform"
   ]
  },
  {
   "cell_type": "markdown",
   "metadata": {},
   "source": [
    "## Подготовка"
   ]
  },
  {
   "cell_type": "code",
   "execution_count": 2,
   "metadata": {},
   "outputs": [],
   "source": [
    "# считываем данные комментариев\n",
    "try:\n",
    "    df_comm = pd.read_csv(\"c:/users/bny7/toxic_comments.csv\")\n",
    "except:\n",
    "    df_comm = pd.read_csv(\"/datasets/toxic_comments.csv\")"
   ]
  },
  {
   "cell_type": "code",
   "execution_count": 3,
   "metadata": {},
   "outputs": [
    {
     "data": {
      "text/html": [
       "<div>\n",
       "<style scoped>\n",
       "    .dataframe tbody tr th:only-of-type {\n",
       "        vertical-align: middle;\n",
       "    }\n",
       "\n",
       "    .dataframe tbody tr th {\n",
       "        vertical-align: top;\n",
       "    }\n",
       "\n",
       "    .dataframe thead th {\n",
       "        text-align: right;\n",
       "    }\n",
       "</style>\n",
       "<table border=\"1\" class=\"dataframe\">\n",
       "  <thead>\n",
       "    <tr style=\"text-align: right;\">\n",
       "      <th></th>\n",
       "      <th>Unnamed: 0</th>\n",
       "      <th>text</th>\n",
       "      <th>toxic</th>\n",
       "    </tr>\n",
       "  </thead>\n",
       "  <tbody>\n",
       "    <tr>\n",
       "      <th>0</th>\n",
       "      <td>0</td>\n",
       "      <td>Explanation\\nWhy the edits made under my usern...</td>\n",
       "      <td>0</td>\n",
       "    </tr>\n",
       "    <tr>\n",
       "      <th>1</th>\n",
       "      <td>1</td>\n",
       "      <td>D'aww! He matches this background colour I'm s...</td>\n",
       "      <td>0</td>\n",
       "    </tr>\n",
       "    <tr>\n",
       "      <th>2</th>\n",
       "      <td>2</td>\n",
       "      <td>Hey man, I'm really not trying to edit war. It...</td>\n",
       "      <td>0</td>\n",
       "    </tr>\n",
       "    <tr>\n",
       "      <th>3</th>\n",
       "      <td>3</td>\n",
       "      <td>\"\\nMore\\nI can't make any real suggestions on ...</td>\n",
       "      <td>0</td>\n",
       "    </tr>\n",
       "    <tr>\n",
       "      <th>4</th>\n",
       "      <td>4</td>\n",
       "      <td>You, sir, are my hero. Any chance you remember...</td>\n",
       "      <td>0</td>\n",
       "    </tr>\n",
       "  </tbody>\n",
       "</table>\n",
       "</div>"
      ],
      "text/plain": [
       "   Unnamed: 0                                               text  toxic\n",
       "0           0  Explanation\\nWhy the edits made under my usern...      0\n",
       "1           1  D'aww! He matches this background colour I'm s...      0\n",
       "2           2  Hey man, I'm really not trying to edit war. It...      0\n",
       "3           3  \"\\nMore\\nI can't make any real suggestions on ...      0\n",
       "4           4  You, sir, are my hero. Any chance you remember...      0"
      ]
     },
     "metadata": {},
     "output_type": "display_data"
    }
   ],
   "source": [
    "# выведем на экран данные для просмотра\n",
    "display(df_comm.head())"
   ]
  },
  {
   "cell_type": "code",
   "execution_count": 4,
   "metadata": {},
   "outputs": [
    {
     "data": {
      "text/html": [
       "<div>\n",
       "<style scoped>\n",
       "    .dataframe tbody tr th:only-of-type {\n",
       "        vertical-align: middle;\n",
       "    }\n",
       "\n",
       "    .dataframe tbody tr th {\n",
       "        vertical-align: top;\n",
       "    }\n",
       "\n",
       "    .dataframe thead th {\n",
       "        text-align: right;\n",
       "    }\n",
       "</style>\n",
       "<table border=\"1\" class=\"dataframe\">\n",
       "  <thead>\n",
       "    <tr style=\"text-align: right;\">\n",
       "      <th></th>\n",
       "      <th>num</th>\n",
       "      <th>text</th>\n",
       "      <th>toxic</th>\n",
       "    </tr>\n",
       "  </thead>\n",
       "  <tbody>\n",
       "    <tr>\n",
       "      <th>0</th>\n",
       "      <td>0</td>\n",
       "      <td>Explanation\\nWhy the edits made under my usern...</td>\n",
       "      <td>0</td>\n",
       "    </tr>\n",
       "    <tr>\n",
       "      <th>1</th>\n",
       "      <td>1</td>\n",
       "      <td>D'aww! He matches this background colour I'm s...</td>\n",
       "      <td>0</td>\n",
       "    </tr>\n",
       "    <tr>\n",
       "      <th>2</th>\n",
       "      <td>2</td>\n",
       "      <td>Hey man, I'm really not trying to edit war. It...</td>\n",
       "      <td>0</td>\n",
       "    </tr>\n",
       "    <tr>\n",
       "      <th>3</th>\n",
       "      <td>3</td>\n",
       "      <td>\"\\nMore\\nI can't make any real suggestions on ...</td>\n",
       "      <td>0</td>\n",
       "    </tr>\n",
       "    <tr>\n",
       "      <th>4</th>\n",
       "      <td>4</td>\n",
       "      <td>You, sir, are my hero. Any chance you remember...</td>\n",
       "      <td>0</td>\n",
       "    </tr>\n",
       "    <tr>\n",
       "      <th>...</th>\n",
       "      <td>...</td>\n",
       "      <td>...</td>\n",
       "      <td>...</td>\n",
       "    </tr>\n",
       "    <tr>\n",
       "      <th>159287</th>\n",
       "      <td>159446</td>\n",
       "      <td>\":::::And for the second time of asking, when ...</td>\n",
       "      <td>0</td>\n",
       "    </tr>\n",
       "    <tr>\n",
       "      <th>159288</th>\n",
       "      <td>159447</td>\n",
       "      <td>You should be ashamed of yourself \\n\\nThat is ...</td>\n",
       "      <td>0</td>\n",
       "    </tr>\n",
       "    <tr>\n",
       "      <th>159289</th>\n",
       "      <td>159448</td>\n",
       "      <td>Spitzer \\n\\nUmm, theres no actual article for ...</td>\n",
       "      <td>0</td>\n",
       "    </tr>\n",
       "    <tr>\n",
       "      <th>159290</th>\n",
       "      <td>159449</td>\n",
       "      <td>And it looks like it was actually you who put ...</td>\n",
       "      <td>0</td>\n",
       "    </tr>\n",
       "    <tr>\n",
       "      <th>159291</th>\n",
       "      <td>159450</td>\n",
       "      <td>\"\\nAnd ... I really don't think you understand...</td>\n",
       "      <td>0</td>\n",
       "    </tr>\n",
       "  </tbody>\n",
       "</table>\n",
       "<p>159292 rows × 3 columns</p>\n",
       "</div>"
      ],
      "text/plain": [
       "           num                                               text  toxic\n",
       "0            0  Explanation\\nWhy the edits made under my usern...      0\n",
       "1            1  D'aww! He matches this background colour I'm s...      0\n",
       "2            2  Hey man, I'm really not trying to edit war. It...      0\n",
       "3            3  \"\\nMore\\nI can't make any real suggestions on ...      0\n",
       "4            4  You, sir, are my hero. Any chance you remember...      0\n",
       "...        ...                                                ...    ...\n",
       "159287  159446  \":::::And for the second time of asking, when ...      0\n",
       "159288  159447  You should be ashamed of yourself \\n\\nThat is ...      0\n",
       "159289  159448  Spitzer \\n\\nUmm, theres no actual article for ...      0\n",
       "159290  159449  And it looks like it was actually you who put ...      0\n",
       "159291  159450  \"\\nAnd ... I really don't think you understand...      0\n",
       "\n",
       "[159292 rows x 3 columns]"
      ]
     },
     "execution_count": 4,
     "metadata": {},
     "output_type": "execute_result"
    }
   ],
   "source": [
    "# переименуем первый столбец, потому что исходный имеет весьма странное название\n",
    "df_comm.rename(columns={'Unnamed: 0': 'num'})"
   ]
  },
  {
   "cell_type": "code",
   "execution_count": 5,
   "metadata": {},
   "outputs": [
    {
     "name": "stdout",
     "output_type": "stream",
     "text": [
      "<class 'pandas.core.frame.DataFrame'>\n",
      "RangeIndex: 159292 entries, 0 to 159291\n",
      "Data columns (total 3 columns):\n",
      " #   Column      Non-Null Count   Dtype \n",
      "---  ------      --------------   ----- \n",
      " 0   Unnamed: 0  159292 non-null  int64 \n",
      " 1   text        159292 non-null  object\n",
      " 2   toxic       159292 non-null  int64 \n",
      "dtypes: int64(2), object(1)\n",
      "memory usage: 3.6+ MB\n"
     ]
    },
    {
     "data": {
      "text/plain": [
       "None"
      ]
     },
     "metadata": {},
     "output_type": "display_data"
    }
   ],
   "source": [
    "# выведем на экран информацию о наборе данных\n",
    "display(df_comm.info())"
   ]
  },
  {
   "cell_type": "code",
   "execution_count": 6,
   "metadata": {},
   "outputs": [],
   "source": [
    "# подсчитаем длину комментариев в каждой строке\n",
    "list=[]\n",
    "for i in df_comm['text']:\n",
    "    list.append(len(i))\n",
    "\n",
    "# добавим поле в набор данных\n",
    "df_comm['len']=list"
   ]
  },
  {
   "cell_type": "markdown",
   "metadata": {},
   "source": [
    "Модель Bert имеет ограничение на 512 токенов, поэтому максимальная длина должна быть не более 512.     \n",
    "Подсчитаем количество строк, у которых длина более 512 слов:"
   ]
  },
  {
   "cell_type": "code",
   "execution_count": 7,
   "metadata": {},
   "outputs": [
    {
     "data": {
      "text/plain": [
       "32943"
      ]
     },
     "metadata": {},
     "output_type": "display_data"
    }
   ],
   "source": [
    "# подсчитаем, сколько комментариев имеют длину более 512\n",
    "display(df_comm.query('len>512')['len'].count())\n",
    "\n",
    "# создадим отдельный набор с количеством токенов менее 512\n",
    "df_comm_512 = df_comm.query('len<=512')"
   ]
  },
  {
   "cell_type": "markdown",
   "metadata": {},
   "source": [
    "Около 20% всех записей. Не мало. Будем использовать только TF-IDF"
   ]
  },
  {
   "cell_type": "code",
   "execution_count": 8,
   "metadata": {},
   "outputs": [
    {
     "name": "stdout",
     "output_type": "stream",
     "text": [
      "CPU times: user 30.9 s, sys: 7.77 s, total: 38.7 s\n",
      "Wall time: 1min 29s\n"
     ]
    }
   ],
   "source": [
    "%%time\n",
    "# добавим в наш набор столбец с лемматизированным текстом\n",
    "corpus=[]\n",
    "m=Mystem()\n",
    "\n",
    "for i in df_comm['text']:\n",
    "    new_i = \"\".join(m.lemmatize(i))\n",
    "    corpus.append(new_i)"
   ]
  },
  {
   "cell_type": "code",
   "execution_count": 9,
   "metadata": {},
   "outputs": [
    {
     "data": {
      "text/plain": [
       "0    Explanation\\nWhy the edits made under my usern...\n",
       "1    D'aww! He matches this background colour I'm s...\n",
       "2    Hey man, I'm really not trying to edit war. It...\n",
       "3    \"\\nMore\\nI can't make any real suggestions on ...\n",
       "4    You, sir, are my hero. Any chance you remember...\n",
       "Name: text_lem, dtype: object"
      ]
     },
     "metadata": {},
     "output_type": "display_data"
    }
   ],
   "source": [
    "df_comm['text_lem'] = corpus\n",
    "display(df_comm['text_lem'][:5])"
   ]
  },
  {
   "cell_type": "markdown",
   "metadata": {},
   "source": [
    "**Вывод:**    \n",
    "- данные загружены и преобразованы в датафрейм;\n",
    "- данные лемматизированы и очищены;\n",
    "- принято решение, что для построения модели мы не будем использовать Bert, а воспользуемся привычными инструментами с использованием TF-IDF."
   ]
  },
  {
   "cell_type": "markdown",
   "metadata": {},
   "source": [
    "## Обучение"
   ]
  },
  {
   "cell_type": "markdown",
   "metadata": {},
   "source": [
    "### Разделим выборку на обучающую, тестовую и валидационную и сформируем TF-IDF"
   ]
  },
  {
   "cell_type": "code",
   "execution_count": 10,
   "metadata": {},
   "outputs": [],
   "source": [
    "X = df_comm['text_lem']\n",
    "y = df_comm['toxic']\n",
    "TEST_SIZE=0.4\n",
    "VAL_SIZE=0.5\n",
    "RANDOM_STATE=42"
   ]
  },
  {
   "cell_type": "code",
   "execution_count": 11,
   "metadata": {},
   "outputs": [],
   "source": [
    "X_train, X_temp, y_train, y_temp = train_test_split(\n",
    "    X,\n",
    "    y,\n",
    "    test_size=TEST_SIZE,\n",
    "    random_state=RANDOM_STATE\n",
    ")"
   ]
  },
  {
   "cell_type": "code",
   "execution_count": 12,
   "metadata": {},
   "outputs": [],
   "source": [
    "X_valid, X_test, y_valid, y_test = train_test_split(\n",
    "    X_temp,\n",
    "    y_temp,\n",
    "    test_size=VAL_SIZE,\n",
    "    random_state=RANDOM_STATE\n",
    ")"
   ]
  },
  {
   "cell_type": "code",
   "execution_count": 13,
   "metadata": {},
   "outputs": [
    {
     "name": "stderr",
     "output_type": "stream",
     "text": [
      "[nltk_data] Downloading package stopwords to /home/jovyan/nltk_data...\n",
      "[nltk_data]   Package stopwords is already up-to-date!\n"
     ]
    }
   ],
   "source": [
    "# загружаем стоп-слова\n",
    "nltk.download('stopwords')\n",
    "stopwords = set(nltk_stopwords.words('english'))"
   ]
  },
  {
   "cell_type": "code",
   "execution_count": 14,
   "metadata": {},
   "outputs": [],
   "source": [
    "vectorize = TfidfVectorizer(stop_words=stopwords)"
   ]
  },
  {
   "cell_type": "code",
   "execution_count": 15,
   "metadata": {},
   "outputs": [
    {
     "name": "stdout",
     "output_type": "stream",
     "text": [
      "CPU times: user 7.64 s, sys: 0 ns, total: 7.64 s\n",
      "Wall time: 7.64 s\n"
     ]
    }
   ],
   "source": [
    "%%time\n",
    "tf_idf_train = vectorize.fit_transform(X_train)\n",
    "tf_idf_test = vectorize.transform(X_test)\n",
    "tf_idf_valid = vectorize.transform(X_valid)"
   ]
  },
  {
   "cell_type": "code",
   "execution_count": 16,
   "metadata": {},
   "outputs": [
    {
     "data": {
      "text/plain": [
       "(95575, 138806)"
      ]
     },
     "metadata": {},
     "output_type": "display_data"
    },
    {
     "data": {
      "text/plain": [
       "(31859, 138806)"
      ]
     },
     "metadata": {},
     "output_type": "display_data"
    },
    {
     "data": {
      "text/plain": [
       "(31858, 138806)"
      ]
     },
     "metadata": {},
     "output_type": "display_data"
    }
   ],
   "source": [
    "display(tf_idf_train.shape, tf_idf_test.shape, tf_idf_valid.shape)"
   ]
  },
  {
   "cell_type": "markdown",
   "metadata": {},
   "source": [
    "Поскольку задача относится к классификации, то модель будем строить с использованием:\n",
    "- LogisticRegression,\n",
    "- RidgeClassifierCV,\n",
    "- RandomForestClassifier."
   ]
  },
  {
   "cell_type": "markdown",
   "metadata": {},
   "source": [
    "### Логистическая регрессия"
   ]
  },
  {
   "cell_type": "code",
   "execution_count": 17,
   "metadata": {
    "scrolled": true
   },
   "outputs": [
    {
     "name": "stdout",
     "output_type": "stream",
     "text": [
      "CPU times: user 25.7 s, sys: 0 ns, total: 25.7 s\n",
      "Wall time: 25.7 s\n"
     ]
    },
    {
     "data": {
      "text/plain": [
       "LogisticRegression(penalty='l1', solver='saga')"
      ]
     },
     "execution_count": 17,
     "metadata": {},
     "output_type": "execute_result"
    }
   ],
   "source": [
    "%%time\n",
    "lr = LogisticRegression(penalty='l1', solver='saga')\n",
    "lr.fit(tf_idf_train, y_train)"
   ]
  },
  {
   "cell_type": "code",
   "execution_count": 18,
   "metadata": {},
   "outputs": [
    {
     "data": {
      "text/plain": [
       "'F1 на обучающей выборке: '"
      ]
     },
     "metadata": {},
     "output_type": "display_data"
    },
    {
     "data": {
      "text/plain": [
       "array([0.74432023, 0.75236903, 0.75982063])"
      ]
     },
     "metadata": {},
     "output_type": "display_data"
    },
    {
     "name": "stdout",
     "output_type": "stream",
     "text": [
      "CPU times: user 44 s, sys: 0 ns, total: 44 s\n",
      "Wall time: 44 s\n"
     ]
    }
   ],
   "source": [
    "%%time\n",
    "display(\"F1 на обучающей выборке: \", cross_val_score(lr, tf_idf_train, y_train, scoring='f1', cv=3))"
   ]
  },
  {
   "cell_type": "markdown",
   "metadata": {},
   "source": [
    "Метрика F1 для LogisticRegression на обучающей выборке составила **0,75**:    \n",
    "array([0.74432023, 0.75236903, 0.75982063])"
   ]
  },
  {
   "cell_type": "code",
   "execution_count": 20,
   "metadata": {},
   "outputs": [
    {
     "data": {
      "text/html": [
       "<div>\n",
       "<style scoped>\n",
       "    .dataframe tbody tr th:only-of-type {\n",
       "        vertical-align: middle;\n",
       "    }\n",
       "\n",
       "    .dataframe tbody tr th {\n",
       "        vertical-align: top;\n",
       "    }\n",
       "\n",
       "    .dataframe thead th {\n",
       "        text-align: right;\n",
       "    }\n",
       "</style>\n",
       "<table border=\"1\" class=\"dataframe\">\n",
       "  <thead>\n",
       "    <tr style=\"text-align: right;\">\n",
       "      <th></th>\n",
       "      <th>Unnamed: 0</th>\n",
       "      <th>text</th>\n",
       "      <th>toxic</th>\n",
       "      <th>len</th>\n",
       "      <th>text_lem</th>\n",
       "    </tr>\n",
       "  </thead>\n",
       "  <tbody>\n",
       "    <tr>\n",
       "      <th>67856</th>\n",
       "      <td>67924</td>\n",
       "      <td>and when i done popin 17 1/2 capp in yo black ...</td>\n",
       "      <td>1</td>\n",
       "      <td>150</td>\n",
       "      <td>and when i done popin 17 1/2 capp in yo black ...</td>\n",
       "    </tr>\n",
       "    <tr>\n",
       "      <th>155007</th>\n",
       "      <td>155164</td>\n",
       "      <td>\"\\n\\nThat's great that you observed how it's o...</td>\n",
       "      <td>0</td>\n",
       "      <td>373</td>\n",
       "      <td>\"\\n\\nThat's great that you observed how it's o...</td>\n",
       "    </tr>\n",
       "    <tr>\n",
       "      <th>151166</th>\n",
       "      <td>151322</td>\n",
       "      <td>ISIS massacred many civilians, including child...</td>\n",
       "      <td>1</td>\n",
       "      <td>102</td>\n",
       "      <td>ISIS massacred many civilians, including child...</td>\n",
       "    </tr>\n",
       "    <tr>\n",
       "      <th>155918</th>\n",
       "      <td>156076</td>\n",
       "      <td>, you are a fake and a fraud as a Wikipedia ed...</td>\n",
       "      <td>1</td>\n",
       "      <td>204</td>\n",
       "      <td>, you are a fake and a fraud as a Wikipedia ed...</td>\n",
       "    </tr>\n",
       "    <tr>\n",
       "      <th>51240</th>\n",
       "      <td>51296</td>\n",
       "      <td>An announcement i would like to make: \\n\\nI am...</td>\n",
       "      <td>1</td>\n",
       "      <td>169</td>\n",
       "      <td>An announcement i would like to make: \\n\\nI am...</td>\n",
       "    </tr>\n",
       "    <tr>\n",
       "      <th>...</th>\n",
       "      <td>...</td>\n",
       "      <td>...</td>\n",
       "      <td>...</td>\n",
       "      <td>...</td>\n",
       "      <td>...</td>\n",
       "    </tr>\n",
       "    <tr>\n",
       "      <th>8653</th>\n",
       "      <td>8665</td>\n",
       "      <td>You undid my changes to the A.G.S.B article \\n...</td>\n",
       "      <td>1</td>\n",
       "      <td>297</td>\n",
       "      <td>You undid my changes to the A.G.S.B article \\n...</td>\n",
       "    </tr>\n",
       "    <tr>\n",
       "      <th>113967</th>\n",
       "      <td>114065</td>\n",
       "      <td>Thanks a lot! \\n\\nThanks for deleting my artic...</td>\n",
       "      <td>1</td>\n",
       "      <td>164</td>\n",
       "      <td>Thanks a lot! \\n\\nThanks for deleting my artic...</td>\n",
       "    </tr>\n",
       "    <tr>\n",
       "      <th>151179</th>\n",
       "      <td>151335</td>\n",
       "      <td>Why can't you find a significant other\\noh wai...</td>\n",
       "      <td>1</td>\n",
       "      <td>145</td>\n",
       "      <td>Why can't you find a significant other\\noh wai...</td>\n",
       "    </tr>\n",
       "    <tr>\n",
       "      <th>64163</th>\n",
       "      <td>64230</td>\n",
       "      <td>\"\\n\\nROTFL! I've not found that idiot, but I t...</td>\n",
       "      <td>0</td>\n",
       "      <td>308</td>\n",
       "      <td>\"\\n\\nROTFL! I've not found that idiot, but I t...</td>\n",
       "    </tr>\n",
       "    <tr>\n",
       "      <th>45462</th>\n",
       "      <td>45515</td>\n",
       "      <td>I'll tell you what you are... \\n\\n...you're a ...</td>\n",
       "      <td>1</td>\n",
       "      <td>147</td>\n",
       "      <td>I'll tell you what you are... \\n\\n...you're a ...</td>\n",
       "    </tr>\n",
       "  </tbody>\n",
       "</table>\n",
       "<p>1282 rows × 5 columns</p>\n",
       "</div>"
      ],
      "text/plain": [
       "        Unnamed: 0                                               text  toxic  \\\n",
       "67856        67924  and when i done popin 17 1/2 capp in yo black ...      1   \n",
       "155007      155164  \"\\n\\nThat's great that you observed how it's o...      0   \n",
       "151166      151322  ISIS massacred many civilians, including child...      1   \n",
       "155918      156076  , you are a fake and a fraud as a Wikipedia ed...      1   \n",
       "51240        51296  An announcement i would like to make: \\n\\nI am...      1   \n",
       "...            ...                                                ...    ...   \n",
       "8653          8665  You undid my changes to the A.G.S.B article \\n...      1   \n",
       "113967      114065  Thanks a lot! \\n\\nThanks for deleting my artic...      1   \n",
       "151179      151335  Why can't you find a significant other\\noh wai...      1   \n",
       "64163        64230  \"\\n\\nROTFL! I've not found that idiot, but I t...      0   \n",
       "45462        45515  I'll tell you what you are... \\n\\n...you're a ...      1   \n",
       "\n",
       "        len                                           text_lem  \n",
       "67856   150  and when i done popin 17 1/2 capp in yo black ...  \n",
       "155007  373  \"\\n\\nThat's great that you observed how it's o...  \n",
       "151166  102  ISIS massacred many civilians, including child...  \n",
       "155918  204  , you are a fake and a fraud as a Wikipedia ed...  \n",
       "51240   169  An announcement i would like to make: \\n\\nI am...  \n",
       "...     ...                                                ...  \n",
       "8653    297  You undid my changes to the A.G.S.B article \\n...  \n",
       "113967  164  Thanks a lot! \\n\\nThanks for deleting my artic...  \n",
       "151179  145  Why can't you find a significant other\\noh wai...  \n",
       "64163   308  \"\\n\\nROTFL! I've not found that idiot, but I t...  \n",
       "45462   147  I'll tell you what you are... \\n\\n...you're a ...  \n",
       "\n",
       "[1282 rows x 5 columns]"
      ]
     },
     "metadata": {},
     "output_type": "display_data"
    }
   ],
   "source": [
    "# посмотрим, что модель определила как токсичные сообщения\n",
    "tt_lr=lr.predict(tf_idf_test)-y_test\n",
    "display(df_comm.iloc[tt_lr[tt_lr!=0].index])"
   ]
  },
  {
   "cell_type": "markdown",
   "metadata": {},
   "source": [
    "По словам **massacred, fraud** можно поверить, что модель отработала неплохо.     \n",
    "Общее количество отбракованных сообщений на тестовой выборке составило **1282**."
   ]
  },
  {
   "cell_type": "markdown",
   "metadata": {},
   "source": [
    "### RIDGE"
   ]
  },
  {
   "cell_type": "code",
   "execution_count": 21,
   "metadata": {},
   "outputs": [],
   "source": [
    "model_ridge = RidgeClassifierCV(cv=3,scoring='f1')"
   ]
  },
  {
   "cell_type": "code",
   "execution_count": 22,
   "metadata": {},
   "outputs": [
    {
     "name": "stdout",
     "output_type": "stream",
     "text": [
      "CPU times: user 1min 22s, sys: 1min 32s, total: 2min 55s\n",
      "Wall time: 2min 55s\n"
     ]
    },
    {
     "data": {
      "text/plain": [
       "RidgeClassifierCV(alphas=array([ 0.1,  1. , 10. ]), cv=3, scoring='f1')"
      ]
     },
     "execution_count": 22,
     "metadata": {},
     "output_type": "execute_result"
    }
   ],
   "source": [
    "%%time\n",
    "model_ridge.fit(tf_idf_train, y_train)"
   ]
  },
  {
   "cell_type": "code",
   "execution_count": 23,
   "metadata": {},
   "outputs": [
    {
     "name": "stdout",
     "output_type": "stream",
     "text": [
      "0.971561600837039\n"
     ]
    }
   ],
   "source": [
    "print(model_ridge.score(tf_idf_train, y_train))"
   ]
  },
  {
   "cell_type": "markdown",
   "metadata": {},
   "source": [
    "Метрика f1 для Ridge на обучающей выборке составила **0,97**"
   ]
  },
  {
   "cell_type": "code",
   "execution_count": 25,
   "metadata": {},
   "outputs": [],
   "source": [
    "y_pred_ridge = model_ridge.predict(tf_idf_test)"
   ]
  },
  {
   "cell_type": "code",
   "execution_count": 26,
   "metadata": {},
   "outputs": [
    {
     "data": {
      "text/html": [
       "<div>\n",
       "<style scoped>\n",
       "    .dataframe tbody tr th:only-of-type {\n",
       "        vertical-align: middle;\n",
       "    }\n",
       "\n",
       "    .dataframe tbody tr th {\n",
       "        vertical-align: top;\n",
       "    }\n",
       "\n",
       "    .dataframe thead th {\n",
       "        text-align: right;\n",
       "    }\n",
       "</style>\n",
       "<table border=\"1\" class=\"dataframe\">\n",
       "  <thead>\n",
       "    <tr style=\"text-align: right;\">\n",
       "      <th></th>\n",
       "      <th>Unnamed: 0</th>\n",
       "      <th>text</th>\n",
       "      <th>toxic</th>\n",
       "      <th>len</th>\n",
       "      <th>text_lem</th>\n",
       "    </tr>\n",
       "  </thead>\n",
       "  <tbody>\n",
       "    <tr>\n",
       "      <th>4088</th>\n",
       "      <td>4088</td>\n",
       "      <td>I swear, you're extremely stupid and oblivious...</td>\n",
       "      <td>1</td>\n",
       "      <td>109</td>\n",
       "      <td>I swear, you're extremely stupid and oblivious...</td>\n",
       "    </tr>\n",
       "    <tr>\n",
       "      <th>62381</th>\n",
       "      <td>62448</td>\n",
       "      <td>\"\\n\\n I have a better idea. \\n\\nTell your \"\"fr...</td>\n",
       "      <td>1</td>\n",
       "      <td>78</td>\n",
       "      <td>\"\\n\\n I have a better idea. \\n\\nTell your \"\"fr...</td>\n",
       "    </tr>\n",
       "    <tr>\n",
       "      <th>151166</th>\n",
       "      <td>151322</td>\n",
       "      <td>ISIS massacred many civilians, including child...</td>\n",
       "      <td>1</td>\n",
       "      <td>102</td>\n",
       "      <td>ISIS massacred many civilians, including child...</td>\n",
       "    </tr>\n",
       "    <tr>\n",
       "      <th>155918</th>\n",
       "      <td>156076</td>\n",
       "      <td>, you are a fake and a fraud as a Wikipedia ed...</td>\n",
       "      <td>1</td>\n",
       "      <td>204</td>\n",
       "      <td>, you are a fake and a fraud as a Wikipedia ed...</td>\n",
       "    </tr>\n",
       "    <tr>\n",
       "      <th>51240</th>\n",
       "      <td>51296</td>\n",
       "      <td>An announcement i would like to make: \\n\\nI am...</td>\n",
       "      <td>1</td>\n",
       "      <td>169</td>\n",
       "      <td>An announcement i would like to make: \\n\\nI am...</td>\n",
       "    </tr>\n",
       "    <tr>\n",
       "      <th>...</th>\n",
       "      <td>...</td>\n",
       "      <td>...</td>\n",
       "      <td>...</td>\n",
       "      <td>...</td>\n",
       "      <td>...</td>\n",
       "    </tr>\n",
       "    <tr>\n",
       "      <th>113967</th>\n",
       "      <td>114065</td>\n",
       "      <td>Thanks a lot! \\n\\nThanks for deleting my artic...</td>\n",
       "      <td>1</td>\n",
       "      <td>164</td>\n",
       "      <td>Thanks a lot! \\n\\nThanks for deleting my artic...</td>\n",
       "    </tr>\n",
       "    <tr>\n",
       "      <th>6904</th>\n",
       "      <td>6912</td>\n",
       "      <td>Hey... Dont add any crap you like... agarwals ...</td>\n",
       "      <td>1</td>\n",
       "      <td>162</td>\n",
       "      <td>Hey... Dont add any crap you like... agarwals ...</td>\n",
       "    </tr>\n",
       "    <tr>\n",
       "      <th>151179</th>\n",
       "      <td>151335</td>\n",
       "      <td>Why can't you find a significant other\\noh wai...</td>\n",
       "      <td>1</td>\n",
       "      <td>145</td>\n",
       "      <td>Why can't you find a significant other\\noh wai...</td>\n",
       "    </tr>\n",
       "    <tr>\n",
       "      <th>37583</th>\n",
       "      <td>37629</td>\n",
       "      <td>\"your undo of my edit iis totaly stupid im red...</td>\n",
       "      <td>1</td>\n",
       "      <td>137</td>\n",
       "      <td>\"your undo of my edit iis totaly stupid im red...</td>\n",
       "    </tr>\n",
       "    <tr>\n",
       "      <th>45462</th>\n",
       "      <td>45515</td>\n",
       "      <td>I'll tell you what you are... \\n\\n...you're a ...</td>\n",
       "      <td>1</td>\n",
       "      <td>147</td>\n",
       "      <td>I'll tell you what you are... \\n\\n...you're a ...</td>\n",
       "    </tr>\n",
       "  </tbody>\n",
       "</table>\n",
       "<p>1550 rows × 5 columns</p>\n",
       "</div>"
      ],
      "text/plain": [
       "        Unnamed: 0                                               text  toxic  \\\n",
       "4088          4088  I swear, you're extremely stupid and oblivious...      1   \n",
       "62381        62448  \"\\n\\n I have a better idea. \\n\\nTell your \"\"fr...      1   \n",
       "151166      151322  ISIS massacred many civilians, including child...      1   \n",
       "155918      156076  , you are a fake and a fraud as a Wikipedia ed...      1   \n",
       "51240        51296  An announcement i would like to make: \\n\\nI am...      1   \n",
       "...            ...                                                ...    ...   \n",
       "113967      114065  Thanks a lot! \\n\\nThanks for deleting my artic...      1   \n",
       "6904          6912  Hey... Dont add any crap you like... agarwals ...      1   \n",
       "151179      151335  Why can't you find a significant other\\noh wai...      1   \n",
       "37583        37629  \"your undo of my edit iis totaly stupid im red...      1   \n",
       "45462        45515  I'll tell you what you are... \\n\\n...you're a ...      1   \n",
       "\n",
       "        len                                           text_lem  \n",
       "4088    109  I swear, you're extremely stupid and oblivious...  \n",
       "62381    78  \"\\n\\n I have a better idea. \\n\\nTell your \"\"fr...  \n",
       "151166  102  ISIS massacred many civilians, including child...  \n",
       "155918  204  , you are a fake and a fraud as a Wikipedia ed...  \n",
       "51240   169  An announcement i would like to make: \\n\\nI am...  \n",
       "...     ...                                                ...  \n",
       "113967  164  Thanks a lot! \\n\\nThanks for deleting my artic...  \n",
       "6904    162  Hey... Dont add any crap you like... agarwals ...  \n",
       "151179  145  Why can't you find a significant other\\noh wai...  \n",
       "37583   137  \"your undo of my edit iis totaly stupid im red...  \n",
       "45462   147  I'll tell you what you are... \\n\\n...you're a ...  \n",
       "\n",
       "[1550 rows x 5 columns]"
      ]
     },
     "metadata": {},
     "output_type": "display_data"
    }
   ],
   "source": [
    "# посмотрим, что модель определила как токсичные сообщения\n",
    "tt=y_pred_ridge-y_test\n",
    "display(df_comm.iloc[tt[tt!=0].index])"
   ]
  },
  {
   "cell_type": "markdown",
   "metadata": {},
   "source": [
    "По словам **massacred, fraud** можно поверить, что модель отработала качественно.     \n",
    "Общее количество отбракованных сообщений на тестовой выборке составило **1550**."
   ]
  },
  {
   "cell_type": "markdown",
   "metadata": {},
   "source": [
    "### RandomForestClassifier"
   ]
  },
  {
   "cell_type": "code",
   "execution_count": 27,
   "metadata": {},
   "outputs": [],
   "source": [
    "rf = RandomForestClassifier(n_jobs=-1,\n",
    "                            random_state=RANDOM_STATE)"
   ]
  },
  {
   "cell_type": "code",
   "execution_count": 28,
   "metadata": {},
   "outputs": [
    {
     "name": "stdout",
     "output_type": "stream",
     "text": [
      "CPU times: user 5min 40s, sys: 0 ns, total: 5min 40s\n",
      "Wall time: 5min 40s\n"
     ]
    },
    {
     "data": {
      "text/plain": [
       "RandomForestClassifier(n_jobs=-1, random_state=42)"
      ]
     },
     "execution_count": 28,
     "metadata": {},
     "output_type": "execute_result"
    }
   ],
   "source": [
    "%%time\n",
    "rf.fit(tf_idf_train, y_train)"
   ]
  },
  {
   "cell_type": "code",
   "execution_count": 29,
   "metadata": {},
   "outputs": [
    {
     "data": {
      "text/plain": [
       "'F1 на обучающей выборке: '"
      ]
     },
     "metadata": {},
     "output_type": "display_data"
    },
    {
     "data": {
      "text/plain": [
       "array([0.69394056, 0.70082202, 0.70826178])"
      ]
     },
     "metadata": {},
     "output_type": "display_data"
    },
    {
     "name": "stdout",
     "output_type": "stream",
     "text": [
      "CPU times: user 29min 38s, sys: 0 ns, total: 29min 38s\n",
      "Wall time: 29min 40s\n"
     ]
    }
   ],
   "source": [
    "%%time\n",
    "display(\"F1 на обучающей выборке: \", cross_val_score(rf, tf_idf_train, y_train, scoring='f1', cv=3))"
   ]
  },
  {
   "cell_type": "markdown",
   "metadata": {},
   "source": [
    "Метрика **F1** RandomForestClassifier на обучающей выборке составила **0,70**:  array([0.69394056, 0.70082202, 0.70826178])"
   ]
  },
  {
   "cell_type": "code",
   "execution_count": 31,
   "metadata": {},
   "outputs": [
    {
     "data": {
      "text/html": [
       "<div>\n",
       "<style scoped>\n",
       "    .dataframe tbody tr th:only-of-type {\n",
       "        vertical-align: middle;\n",
       "    }\n",
       "\n",
       "    .dataframe tbody tr th {\n",
       "        vertical-align: top;\n",
       "    }\n",
       "\n",
       "    .dataframe thead th {\n",
       "        text-align: right;\n",
       "    }\n",
       "</style>\n",
       "<table border=\"1\" class=\"dataframe\">\n",
       "  <thead>\n",
       "    <tr style=\"text-align: right;\">\n",
       "      <th></th>\n",
       "      <th>Unnamed: 0</th>\n",
       "      <th>text</th>\n",
       "      <th>toxic</th>\n",
       "      <th>len</th>\n",
       "      <th>text_lem</th>\n",
       "    </tr>\n",
       "  </thead>\n",
       "  <tbody>\n",
       "    <tr>\n",
       "      <th>67856</th>\n",
       "      <td>67924</td>\n",
       "      <td>and when i done popin 17 1/2 capp in yo black ...</td>\n",
       "      <td>1</td>\n",
       "      <td>150</td>\n",
       "      <td>and when i done popin 17 1/2 capp in yo black ...</td>\n",
       "    </tr>\n",
       "    <tr>\n",
       "      <th>150025</th>\n",
       "      <td>150181</td>\n",
       "      <td>I am not planning any personal attack except o...</td>\n",
       "      <td>1</td>\n",
       "      <td>304</td>\n",
       "      <td>I am not planning any personal attack except o...</td>\n",
       "    </tr>\n",
       "    <tr>\n",
       "      <th>151166</th>\n",
       "      <td>151322</td>\n",
       "      <td>ISIS massacred many civilians, including child...</td>\n",
       "      <td>1</td>\n",
       "      <td>102</td>\n",
       "      <td>ISIS massacred many civilians, including child...</td>\n",
       "    </tr>\n",
       "    <tr>\n",
       "      <th>159036</th>\n",
       "      <td>159195</td>\n",
       "      <td>http://www.nysun.com/article/23698 - public in...</td>\n",
       "      <td>1</td>\n",
       "      <td>59</td>\n",
       "      <td>http://www.nysun.com/article/23698 - public in...</td>\n",
       "    </tr>\n",
       "    <tr>\n",
       "      <th>155918</th>\n",
       "      <td>156076</td>\n",
       "      <td>, you are a fake and a fraud as a Wikipedia ed...</td>\n",
       "      <td>1</td>\n",
       "      <td>204</td>\n",
       "      <td>, you are a fake and a fraud as a Wikipedia ed...</td>\n",
       "    </tr>\n",
       "    <tr>\n",
       "      <th>...</th>\n",
       "      <td>...</td>\n",
       "      <td>...</td>\n",
       "      <td>...</td>\n",
       "      <td>...</td>\n",
       "      <td>...</td>\n",
       "    </tr>\n",
       "    <tr>\n",
       "      <th>113967</th>\n",
       "      <td>114065</td>\n",
       "      <td>Thanks a lot! \\n\\nThanks for deleting my artic...</td>\n",
       "      <td>1</td>\n",
       "      <td>164</td>\n",
       "      <td>Thanks a lot! \\n\\nThanks for deleting my artic...</td>\n",
       "    </tr>\n",
       "    <tr>\n",
       "      <th>6904</th>\n",
       "      <td>6912</td>\n",
       "      <td>Hey... Dont add any crap you like... agarwals ...</td>\n",
       "      <td>1</td>\n",
       "      <td>162</td>\n",
       "      <td>Hey... Dont add any crap you like... agarwals ...</td>\n",
       "    </tr>\n",
       "    <tr>\n",
       "      <th>151179</th>\n",
       "      <td>151335</td>\n",
       "      <td>Why can't you find a significant other\\noh wai...</td>\n",
       "      <td>1</td>\n",
       "      <td>145</td>\n",
       "      <td>Why can't you find a significant other\\noh wai...</td>\n",
       "    </tr>\n",
       "    <tr>\n",
       "      <th>79206</th>\n",
       "      <td>79282</td>\n",
       "      <td>\"\\nI beg to differ. His edit summary clearly s...</td>\n",
       "      <td>0</td>\n",
       "      <td>99</td>\n",
       "      <td>\"\\nI beg to differ. His edit summary clearly s...</td>\n",
       "    </tr>\n",
       "    <tr>\n",
       "      <th>45462</th>\n",
       "      <td>45515</td>\n",
       "      <td>I'll tell you what you are... \\n\\n...you're a ...</td>\n",
       "      <td>1</td>\n",
       "      <td>147</td>\n",
       "      <td>I'll tell you what you are... \\n\\n...you're a ...</td>\n",
       "    </tr>\n",
       "  </tbody>\n",
       "</table>\n",
       "<p>1509 rows × 5 columns</p>\n",
       "</div>"
      ],
      "text/plain": [
       "        Unnamed: 0                                               text  toxic  \\\n",
       "67856        67924  and when i done popin 17 1/2 capp in yo black ...      1   \n",
       "150025      150181  I am not planning any personal attack except o...      1   \n",
       "151166      151322  ISIS massacred many civilians, including child...      1   \n",
       "159036      159195  http://www.nysun.com/article/23698 - public in...      1   \n",
       "155918      156076  , you are a fake and a fraud as a Wikipedia ed...      1   \n",
       "...            ...                                                ...    ...   \n",
       "113967      114065  Thanks a lot! \\n\\nThanks for deleting my artic...      1   \n",
       "6904          6912  Hey... Dont add any crap you like... agarwals ...      1   \n",
       "151179      151335  Why can't you find a significant other\\noh wai...      1   \n",
       "79206        79282  \"\\nI beg to differ. His edit summary clearly s...      0   \n",
       "45462        45515  I'll tell you what you are... \\n\\n...you're a ...      1   \n",
       "\n",
       "        len                                           text_lem  \n",
       "67856   150  and when i done popin 17 1/2 capp in yo black ...  \n",
       "150025  304  I am not planning any personal attack except o...  \n",
       "151166  102  ISIS massacred many civilians, including child...  \n",
       "159036   59  http://www.nysun.com/article/23698 - public in...  \n",
       "155918  204  , you are a fake and a fraud as a Wikipedia ed...  \n",
       "...     ...                                                ...  \n",
       "113967  164  Thanks a lot! \\n\\nThanks for deleting my artic...  \n",
       "6904    162  Hey... Dont add any crap you like... agarwals ...  \n",
       "151179  145  Why can't you find a significant other\\noh wai...  \n",
       "79206    99  \"\\nI beg to differ. His edit summary clearly s...  \n",
       "45462   147  I'll tell you what you are... \\n\\n...you're a ...  \n",
       "\n",
       "[1509 rows x 5 columns]"
      ]
     },
     "metadata": {},
     "output_type": "display_data"
    }
   ],
   "source": [
    "# посмотрим, что модель определила как токсичные сообщения\n",
    "tt_rf=rf.predict(tf_idf_test)-y_test\n",
    "display(df_comm.iloc[tt_rf[tt_rf!=0].index])"
   ]
  },
  {
   "cell_type": "markdown",
   "metadata": {},
   "source": [
    "По словам **massacred, fraud** можно поверить, что модель отработала качественно.     \n",
    "Общее количество отбракованных сообщений на тестовой выборке составило **1509**."
   ]
  },
  {
   "cell_type": "markdown",
   "metadata": {},
   "source": [
    "По результатам построения модели на обучающей выборке порядок такой:     \n",
    "- Метрика f1 для Ridge на обучающей выборке составила **0,97**;\n",
    "- Метрика F1 для LogisticRegression на обучающей выборке составила **0,75**;\n",
    "- Метрика F1 RandomForestClassifier на обучающей выборке составила **0,70**."
   ]
  },
  {
   "cell_type": "markdown",
   "metadata": {},
   "source": [
    "### Проводим оценку моделей на валидационной выборке"
   ]
  },
  {
   "cell_type": "code",
   "execution_count": 32,
   "metadata": {},
   "outputs": [
    {
     "name": "stdout",
     "output_type": "stream",
     "text": [
      "CPU times: user 14.6 ms, sys: 0 ns, total: 14.6 ms\n",
      "Wall time: 12.9 ms\n"
     ]
    }
   ],
   "source": [
    "%%time\n",
    "f1_lr = f1_score(y_valid, lr.predict(tf_idf_valid))"
   ]
  },
  {
   "cell_type": "code",
   "execution_count": 33,
   "metadata": {},
   "outputs": [
    {
     "name": "stdout",
     "output_type": "stream",
     "text": [
      "CPU times: user 12.7 ms, sys: 0 ns, total: 12.7 ms\n",
      "Wall time: 12.4 ms\n"
     ]
    }
   ],
   "source": [
    "%%time\n",
    "f1_ridge = f1_score(y_valid, model_ridge.predict(tf_idf_valid))"
   ]
  },
  {
   "cell_type": "code",
   "execution_count": 34,
   "metadata": {},
   "outputs": [
    {
     "name": "stdout",
     "output_type": "stream",
     "text": [
      "CPU times: user 5.7 s, sys: 0 ns, total: 5.7 s\n",
      "Wall time: 5.73 s\n"
     ]
    }
   ],
   "source": [
    "%%time\n",
    "f1_rf = f1_score(y_valid, rf.predict(tf_idf_valid))"
   ]
  },
  {
   "cell_type": "code",
   "execution_count": 36,
   "metadata": {},
   "outputs": [
    {
     "data": {
      "text/plain": [
       "'F1 на валидационной выборке моделью ridge: '"
      ]
     },
     "metadata": {},
     "output_type": "display_data"
    },
    {
     "data": {
      "text/plain": [
       "0.6833855799373042"
      ]
     },
     "metadata": {},
     "output_type": "display_data"
    },
    {
     "data": {
      "text/plain": [
       "'F1 на валидационной выборке логистической моделью: '"
      ]
     },
     "metadata": {},
     "output_type": "display_data"
    },
    {
     "data": {
      "text/plain": [
       "0.7609081234480313"
      ]
     },
     "metadata": {},
     "output_type": "display_data"
    },
    {
     "data": {
      "text/plain": [
       "'F1 на валидационной выборке моделью случайный лес: '"
      ]
     },
     "metadata": {},
     "output_type": "display_data"
    },
    {
     "data": {
      "text/plain": [
       "0.6958534233365478"
      ]
     },
     "metadata": {},
     "output_type": "display_data"
    }
   ],
   "source": [
    "display(\"F1 на валидационной выборке моделью ridge: \", f1_ridge)\n",
    "display(\"F1 на валидационной выборке логистической моделью: \", f1_lr)\n",
    "display(\"F1 на валидационной выборке моделью случайный лес: \", f1_rf)"
   ]
  },
  {
   "cell_type": "markdown",
   "metadata": {},
   "source": [
    "Выбираем модель **LogisticRegression**."
   ]
  },
  {
   "cell_type": "markdown",
   "metadata": {},
   "source": [
    "### Оценим выбранную модель LogisticRegression на тестовой выборке"
   ]
  },
  {
   "cell_type": "code",
   "execution_count": 37,
   "metadata": {},
   "outputs": [
    {
     "name": "stdout",
     "output_type": "stream",
     "text": [
      "CPU times: user 15.7 ms, sys: 0 ns, total: 15.7 ms\n",
      "Wall time: 14.2 ms\n"
     ]
    }
   ],
   "source": [
    "%%time\n",
    "f1_lr = f1_score(y_test, lr.predict(tf_idf_test))"
   ]
  },
  {
   "cell_type": "code",
   "execution_count": 38,
   "metadata": {},
   "outputs": [
    {
     "data": {
      "text/plain": [
       "'F1 на тестовой выборке логистической моделью: '"
      ]
     },
     "metadata": {},
     "output_type": "display_data"
    },
    {
     "data": {
      "text/plain": [
       "0.7695073714491191"
      ]
     },
     "metadata": {},
     "output_type": "display_data"
    }
   ],
   "source": [
    "display(\"F1 на тестовой выборке логистической моделью: \", f1_lr)"
   ]
  },
  {
   "cell_type": "markdown",
   "metadata": {},
   "source": [
    "Метрика **F1** на тестовой выборке составила **0,76**, что удовлетворяет условию задачи."
   ]
  },
  {
   "cell_type": "markdown",
   "metadata": {},
   "source": [
    "## Выводы"
   ]
  },
  {
   "cell_type": "markdown",
   "metadata": {},
   "source": [
    "1. Данные исходных сообщений загружены и сохранены в датафрейм.\n",
    "2. Проведена подготовка данных, загружены стоп-слова, лемматизирован текст, получен TF-IDF для корпуса текстов, выбраны и обучены 3 модели:\n",
    "    - LogisticRegression,\n",
    "    - RidgeClassifierCV,\n",
    "    - RandomForestClassifier.\n",
    "3. Построенная модель логистической регрессии (LogisticRegression) показала результаты:\n",
    "    - на обучающей выборке метрика f1 составила 0,75;\n",
    "    - количество найденных угроз на тестовой выборке = 1282.\n",
    "4. Построенная модель классификации RidgeClassifier со встроенной крос-валидацией (RidgeClassifierCV) показала результаты:\n",
    "    - на обучающей выборке метрика f1 составила 0,97;\n",
    "    - количество найденных угроз на тестовой выборке = 1522.   \n",
    "5. Построенная модель классификации Случайный лес (RandomForestClassifier) показала результаты:\n",
    "    - на обучающей выборке метрика f1 составила 0,70;\n",
    "    - количество найденных угроз на тестовой выборке = 1509.  \n",
    "6. Провели тестирование построенных моделей на валидационной выборке:\n",
    "    - на тестовой выборке метрика f1 LogisticRegression составила **0,76**;\n",
    "    - на тестовой выборке метрика f1 RandomForestClassifier составила **0,70**;    \n",
    "    - на тестовой выборке метрика f1 RidgeClassifier составила **0,68**;\n",
    "8. Отобрали модель LogisticRegression как лучшую.  \n",
    "7. Проверили выбранную модель на тестовой выборке и получили метрику f1 = 0,76, что удовлетворяет условию задачи.\n",
    "\n",
    "**Итоги:   лучшей моделью по качеству метрики оказалась LogisticRegression.**"
   ]
  }
 ],
 "metadata": {
  "ExecuteTimeLog": [
   {
    "duration": 96,
    "start_time": "2024-11-30T15:24:08.623Z"
   },
   {
    "duration": 51,
    "start_time": "2024-11-30T15:24:35.669Z"
   },
   {
    "duration": 9,
    "start_time": "2024-11-30T15:24:52.045Z"
   },
   {
    "duration": 79,
    "start_time": "2024-11-30T15:25:45.685Z"
   },
   {
    "duration": 7,
    "start_time": "2024-11-30T15:25:51.973Z"
   },
   {
    "duration": 2238,
    "start_time": "2024-11-30T15:25:55.860Z"
   },
   {
    "duration": 193,
    "start_time": "2024-11-30T15:25:58.100Z"
   },
   {
    "duration": 68,
    "start_time": "2024-11-30T15:26:13.333Z"
   },
   {
    "duration": 143,
    "start_time": "2024-11-30T15:26:26.948Z"
   },
   {
    "duration": 120,
    "start_time": "2024-11-30T15:27:00.261Z"
   },
   {
    "duration": 2,
    "start_time": "2024-11-30T15:27:04.781Z"
   },
   {
    "duration": 61,
    "start_time": "2024-11-30T15:27:05.765Z"
   },
   {
    "duration": 68,
    "start_time": "2024-11-30T15:27:12.349Z"
   },
   {
    "duration": 62,
    "start_time": "2024-11-30T15:27:48.406Z"
   },
   {
    "duration": 2266,
    "start_time": "2024-11-30T15:28:26.461Z"
   },
   {
    "duration": 48,
    "start_time": "2024-11-30T15:28:45.852Z"
   },
   {
    "duration": 2587,
    "start_time": "2024-11-30T15:28:51.122Z"
   },
   {
    "duration": 1310,
    "start_time": "2024-11-30T15:28:53.712Z"
   },
   {
    "duration": 13,
    "start_time": "2024-11-30T15:28:55.025Z"
   },
   {
    "duration": 180,
    "start_time": "2024-11-30T15:30:25.135Z"
   },
   {
    "duration": 12,
    "start_time": "2024-11-30T15:30:34.487Z"
   },
   {
    "duration": 12,
    "start_time": "2024-11-30T15:31:23.696Z"
   },
   {
    "duration": 4,
    "start_time": "2024-11-30T15:31:36.351Z"
   },
   {
    "duration": 15,
    "start_time": "2024-11-30T15:32:36.553Z"
   },
   {
    "duration": 13,
    "start_time": "2024-11-30T15:33:07.408Z"
   },
   {
    "duration": 25,
    "start_time": "2024-11-30T15:34:15.384Z"
   },
   {
    "duration": 26,
    "start_time": "2024-11-30T15:34:30.432Z"
   },
   {
    "duration": 140231,
    "start_time": "2024-11-30T15:38:36.649Z"
   },
   {
    "duration": 83,
    "start_time": "2024-11-30T15:41:56.409Z"
   },
   {
    "duration": 141,
    "start_time": "2024-11-30T15:42:30.130Z"
   },
   {
    "duration": 6,
    "start_time": "2024-11-30T15:42:38.106Z"
   },
   {
    "duration": 885,
    "start_time": "2024-11-30T15:42:45.747Z"
   },
   {
    "duration": 1060,
    "start_time": "2024-11-30T15:43:08.186Z"
   },
   {
    "duration": 4765,
    "start_time": "2024-11-30T15:44:46.626Z"
   },
   {
    "duration": 65,
    "start_time": "2024-11-30T15:45:03.466Z"
   },
   {
    "duration": 387,
    "start_time": "2024-11-30T15:45:35.226Z"
   },
   {
    "duration": 7814,
    "start_time": "2024-11-30T15:48:17.228Z"
   },
   {
    "duration": 41,
    "start_time": "2024-11-30T15:48:36.141Z"
   },
   {
    "duration": 13,
    "start_time": "2024-11-30T15:49:18.868Z"
   },
   {
    "duration": 3,
    "start_time": "2024-11-30T15:49:24.868Z"
   },
   {
    "duration": 4,
    "start_time": "2024-11-30T15:49:31.012Z"
   },
   {
    "duration": 3,
    "start_time": "2024-11-30T15:49:44.484Z"
   },
   {
    "duration": 4,
    "start_time": "2024-11-30T15:50:58.403Z"
   },
   {
    "duration": 3,
    "start_time": "2024-11-30T15:51:11.253Z"
   },
   {
    "duration": 3,
    "start_time": "2024-11-30T15:52:34.253Z"
   },
   {
    "duration": 203,
    "start_time": "2024-11-30T15:54:30.735Z"
   },
   {
    "duration": 1596,
    "start_time": "2024-11-30T16:00:17.133Z"
   },
   {
    "duration": 2524,
    "start_time": "2024-11-30T16:01:32.058Z"
   },
   {
    "duration": 1204,
    "start_time": "2024-11-30T16:01:34.584Z"
   },
   {
    "duration": 12,
    "start_time": "2024-11-30T16:01:35.790Z"
   },
   {
    "duration": 20,
    "start_time": "2024-11-30T16:01:35.804Z"
   },
   {
    "duration": 26,
    "start_time": "2024-11-30T16:01:35.825Z"
   },
   {
    "duration": 81,
    "start_time": "2024-11-30T16:04:13.960Z"
   },
   {
    "duration": 43,
    "start_time": "2024-11-30T16:04:29.931Z"
   },
   {
    "duration": 6,
    "start_time": "2024-11-30T16:04:37.195Z"
   },
   {
    "duration": 2437,
    "start_time": "2024-11-30T16:04:45.724Z"
   },
   {
    "duration": 1237,
    "start_time": "2024-11-30T16:04:48.163Z"
   },
   {
    "duration": 12,
    "start_time": "2024-11-30T16:04:49.401Z"
   },
   {
    "duration": 23,
    "start_time": "2024-11-30T16:04:49.415Z"
   },
   {
    "duration": 25,
    "start_time": "2024-11-30T16:04:51.780Z"
   },
   {
    "duration": 4,
    "start_time": "2024-11-30T16:04:53.803Z"
   },
   {
    "duration": 132,
    "start_time": "2024-11-30T16:05:13.324Z"
   },
   {
    "duration": 3,
    "start_time": "2024-11-30T16:05:29.260Z"
   },
   {
    "duration": 11,
    "start_time": "2024-11-30T16:05:36.755Z"
   },
   {
    "duration": 9,
    "start_time": "2024-11-30T16:06:58.692Z"
   },
   {
    "duration": 15,
    "start_time": "2024-11-30T16:07:19.133Z"
   },
   {
    "duration": 64,
    "start_time": "2024-11-30T16:08:42.100Z"
   },
   {
    "duration": 100,
    "start_time": "2024-11-30T16:09:59.244Z"
   },
   {
    "duration": 95,
    "start_time": "2024-11-30T16:10:35.628Z"
   },
   {
    "duration": 81,
    "start_time": "2024-11-30T16:10:52.324Z"
   },
   {
    "duration": 129,
    "start_time": "2024-11-30T16:11:03.069Z"
   },
   {
    "duration": 77,
    "start_time": "2024-11-30T16:11:12.725Z"
   },
   {
    "duration": 43104,
    "start_time": "2024-11-30T16:12:43.253Z"
   },
   {
    "duration": 91,
    "start_time": "2024-11-30T16:15:17.374Z"
   },
   {
    "duration": 10,
    "start_time": "2024-11-30T16:15:32.205Z"
   },
   {
    "duration": 9,
    "start_time": "2024-11-30T16:16:01.549Z"
   },
   {
    "duration": 12,
    "start_time": "2024-11-30T16:16:10.837Z"
   },
   {
    "duration": 177,
    "start_time": "2024-11-30T19:02:28.826Z"
   },
   {
    "duration": 7211,
    "start_time": "2024-11-30T19:02:37.339Z"
   },
   {
    "duration": 3,
    "start_time": "2024-11-30T19:02:47.043Z"
   },
   {
    "duration": 16,
    "start_time": "2024-11-30T19:05:02.219Z"
   },
   {
    "duration": 22,
    "start_time": "2024-11-30T19:05:37.300Z"
   },
   {
    "duration": 2651,
    "start_time": "2024-11-30T19:06:01.408Z"
   },
   {
    "duration": 901,
    "start_time": "2024-11-30T19:06:04.060Z"
   },
   {
    "duration": 18,
    "start_time": "2024-11-30T19:06:04.964Z"
   },
   {
    "duration": 32,
    "start_time": "2024-11-30T19:06:04.984Z"
   },
   {
    "duration": 92,
    "start_time": "2024-11-30T19:06:05.018Z"
   },
   {
    "duration": 77,
    "start_time": "2024-11-30T19:06:05.112Z"
   },
   {
    "duration": 45,
    "start_time": "2024-11-30T19:06:05.191Z"
   },
   {
    "duration": 8,
    "start_time": "2024-11-30T19:06:05.238Z"
   },
   {
    "duration": 1371,
    "start_time": "2024-11-30T19:06:05.247Z"
   },
   {
    "duration": 0,
    "start_time": "2024-11-30T19:06:06.620Z"
   },
   {
    "duration": 0,
    "start_time": "2024-11-30T19:06:06.622Z"
   },
   {
    "duration": 2428,
    "start_time": "2024-11-30T19:07:01.039Z"
   },
   {
    "duration": 873,
    "start_time": "2024-11-30T19:07:03.469Z"
   },
   {
    "duration": 15,
    "start_time": "2024-11-30T19:07:04.344Z"
   },
   {
    "duration": 24,
    "start_time": "2024-11-30T19:07:04.361Z"
   },
   {
    "duration": 43,
    "start_time": "2024-11-30T19:07:04.387Z"
   },
   {
    "duration": 191,
    "start_time": "2024-11-30T19:07:04.431Z"
   },
   {
    "duration": 33,
    "start_time": "2024-11-30T19:07:04.624Z"
   },
   {
    "duration": 86,
    "start_time": "2024-11-30T19:07:04.658Z"
   },
   {
    "duration": 251,
    "start_time": "2024-11-30T19:07:04.745Z"
   },
   {
    "duration": 2999,
    "start_time": "2024-11-30T19:07:04.997Z"
   },
   {
    "duration": 3,
    "start_time": "2024-11-30T19:07:07.998Z"
   },
   {
    "duration": 4,
    "start_time": "2024-11-30T19:13:02.844Z"
   },
   {
    "duration": 2,
    "start_time": "2024-11-30T19:15:16.013Z"
   },
   {
    "duration": 4121,
    "start_time": "2024-11-30T19:15:20.652Z"
   },
   {
    "duration": 3,
    "start_time": "2024-11-30T19:15:36.164Z"
   },
   {
    "duration": 146,
    "start_time": "2024-11-30T19:17:32.661Z"
   },
   {
    "duration": 2566,
    "start_time": "2024-11-30T19:17:43.853Z"
   },
   {
    "duration": 926,
    "start_time": "2024-11-30T19:17:46.421Z"
   },
   {
    "duration": 14,
    "start_time": "2024-11-30T19:17:47.348Z"
   },
   {
    "duration": 31,
    "start_time": "2024-11-30T19:17:47.364Z"
   },
   {
    "duration": 29,
    "start_time": "2024-11-30T19:17:47.396Z"
   },
   {
    "duration": 73,
    "start_time": "2024-11-30T19:17:47.426Z"
   },
   {
    "duration": 25,
    "start_time": "2024-11-30T19:17:47.506Z"
   },
   {
    "duration": 7,
    "start_time": "2024-11-30T19:17:47.532Z"
   },
   {
    "duration": 246,
    "start_time": "2024-11-30T19:17:47.540Z"
   },
   {
    "duration": 2,
    "start_time": "2024-11-30T19:17:47.789Z"
   },
   {
    "duration": 3013,
    "start_time": "2024-11-30T19:17:47.793Z"
   },
   {
    "duration": 4,
    "start_time": "2024-11-30T19:17:50.807Z"
   },
   {
    "duration": 4239,
    "start_time": "2024-11-30T19:17:50.813Z"
   },
   {
    "duration": 3,
    "start_time": "2024-11-30T19:17:55.054Z"
   },
   {
    "duration": 39,
    "start_time": "2024-11-30T19:17:55.059Z"
   },
   {
    "duration": 158,
    "start_time": "2024-11-30T19:18:19.669Z"
   },
   {
    "duration": 2,
    "start_time": "2024-11-30T19:29:28.176Z"
   },
   {
    "duration": 10,
    "start_time": "2024-11-30T19:29:30.078Z"
   },
   {
    "duration": 3,
    "start_time": "2024-11-30T19:29:36.159Z"
   },
   {
    "duration": 10,
    "start_time": "2024-11-30T19:29:36.982Z"
   },
   {
    "duration": 20,
    "start_time": "2024-11-30T19:29:42.487Z"
   },
   {
    "duration": 2,
    "start_time": "2024-11-30T19:29:44.055Z"
   },
   {
    "duration": 6730,
    "start_time": "2024-11-30T19:29:45.680Z"
   },
   {
    "duration": 11,
    "start_time": "2024-11-30T19:29:56.409Z"
   },
   {
    "duration": 42193,
    "start_time": "2024-11-30T19:30:04.919Z"
   },
   {
    "duration": 93693,
    "start_time": "2024-11-30T19:33:23.715Z"
   },
   {
    "duration": 6608,
    "start_time": "2024-11-30T19:34:57.410Z"
   },
   {
    "duration": 5,
    "start_time": "2024-11-30T19:35:18.377Z"
   },
   {
    "duration": 2,
    "start_time": "2024-11-30T19:35:23.354Z"
   },
   {
    "duration": 16,
    "start_time": "2024-11-30T19:35:39.456Z"
   },
   {
    "duration": 84296,
    "start_time": "2024-11-30T19:37:48.722Z"
   },
   {
    "duration": 91194,
    "start_time": "2024-11-30T19:40:18.025Z"
   },
   {
    "duration": 4,
    "start_time": "2024-11-30T19:42:02.003Z"
   },
   {
    "duration": 7851,
    "start_time": "2024-11-30T19:42:05.289Z"
   },
   {
    "duration": 243,
    "start_time": "2024-11-30T19:42:23.386Z"
   },
   {
    "duration": 5,
    "start_time": "2024-11-30T19:42:53.418Z"
   },
   {
    "duration": 8,
    "start_time": "2024-11-30T19:44:56.322Z"
   },
   {
    "duration": 294,
    "start_time": "2024-11-30T19:45:07.426Z"
   },
   {
    "duration": 22,
    "start_time": "2024-11-30T19:45:32.712Z"
   },
   {
    "duration": 5,
    "start_time": "2024-11-30T19:46:00.843Z"
   },
   {
    "duration": 4,
    "start_time": "2024-11-30T19:46:02.002Z"
   },
   {
    "duration": 569,
    "start_time": "2024-11-30T19:46:05.658Z"
   },
   {
    "duration": 6,
    "start_time": "2024-11-30T19:46:12.612Z"
   },
   {
    "duration": 2464,
    "start_time": "2024-11-30T19:46:49.184Z"
   },
   {
    "duration": 1246,
    "start_time": "2024-11-30T19:46:51.650Z"
   },
   {
    "duration": 12,
    "start_time": "2024-11-30T19:46:52.897Z"
   },
   {
    "duration": 18,
    "start_time": "2024-11-30T19:46:52.911Z"
   },
   {
    "duration": 26,
    "start_time": "2024-11-30T19:46:52.931Z"
   },
   {
    "duration": 121,
    "start_time": "2024-11-30T19:46:52.958Z"
   },
   {
    "duration": 41,
    "start_time": "2024-11-30T19:46:53.081Z"
   },
   {
    "duration": 56,
    "start_time": "2024-11-30T19:46:53.123Z"
   },
   {
    "duration": 241,
    "start_time": "2024-11-30T19:46:53.181Z"
   },
   {
    "duration": 2,
    "start_time": "2024-11-30T19:46:53.424Z"
   },
   {
    "duration": 18,
    "start_time": "2024-11-30T19:46:53.428Z"
   },
   {
    "duration": 11,
    "start_time": "2024-11-30T19:46:53.448Z"
   },
   {
    "duration": 2104,
    "start_time": "2024-11-30T19:46:53.461Z"
   },
   {
    "duration": 5,
    "start_time": "2024-11-30T19:46:55.567Z"
   },
   {
    "duration": 17597,
    "start_time": "2024-11-30T19:46:55.573Z"
   },
   {
    "duration": 408,
    "start_time": "2024-11-30T19:47:13.171Z"
   },
   {
    "duration": 0,
    "start_time": "2024-11-30T19:47:13.580Z"
   },
   {
    "duration": 0,
    "start_time": "2024-11-30T19:47:13.581Z"
   },
   {
    "duration": 0,
    "start_time": "2024-11-30T19:47:13.582Z"
   },
   {
    "duration": 0,
    "start_time": "2024-11-30T19:47:13.583Z"
   },
   {
    "duration": 1,
    "start_time": "2024-11-30T19:47:13.584Z"
   },
   {
    "duration": 0,
    "start_time": "2024-11-30T19:47:13.585Z"
   },
   {
    "duration": 0,
    "start_time": "2024-11-30T19:47:13.586Z"
   },
   {
    "duration": 0,
    "start_time": "2024-11-30T19:47:13.587Z"
   },
   {
    "duration": 0,
    "start_time": "2024-11-30T19:47:13.588Z"
   },
   {
    "duration": 0,
    "start_time": "2024-11-30T19:47:13.607Z"
   },
   {
    "duration": 0,
    "start_time": "2024-11-30T19:47:13.608Z"
   },
   {
    "duration": 0,
    "start_time": "2024-11-30T19:47:13.609Z"
   },
   {
    "duration": 20,
    "start_time": "2024-11-30T19:50:10.843Z"
   },
   {
    "duration": 8,
    "start_time": "2024-11-30T19:50:11.386Z"
   },
   {
    "duration": 5,
    "start_time": "2024-11-30T19:50:13.586Z"
   },
   {
    "duration": 3,
    "start_time": "2024-11-30T19:50:16.987Z"
   },
   {
    "duration": 6,
    "start_time": "2024-11-30T19:50:18.418Z"
   },
   {
    "duration": 4,
    "start_time": "2024-11-30T19:50:19.419Z"
   },
   {
    "duration": 522,
    "start_time": "2024-11-30T19:50:25.082Z"
   },
   {
    "duration": 4,
    "start_time": "2024-11-30T19:50:27.691Z"
   },
   {
    "duration": 2266,
    "start_time": "2024-11-30T19:50:35.035Z"
   },
   {
    "duration": 80,
    "start_time": "2024-11-30T19:50:40.628Z"
   },
   {
    "duration": 18,
    "start_time": "2024-11-30T19:51:02.146Z"
   },
   {
    "duration": 8,
    "start_time": "2024-11-30T19:51:02.378Z"
   },
   {
    "duration": 5,
    "start_time": "2024-11-30T19:51:02.571Z"
   },
   {
    "duration": 3,
    "start_time": "2024-11-30T19:51:03.171Z"
   },
   {
    "duration": 6,
    "start_time": "2024-11-30T19:51:03.570Z"
   },
   {
    "duration": 4,
    "start_time": "2024-11-30T19:51:03.746Z"
   },
   {
    "duration": 535,
    "start_time": "2024-11-30T19:51:03.908Z"
   },
   {
    "duration": 4,
    "start_time": "2024-11-30T19:51:04.899Z"
   },
   {
    "duration": 2008,
    "start_time": "2024-11-30T19:51:13.116Z"
   },
   {
    "duration": 2476,
    "start_time": "2024-11-30T19:51:51.737Z"
   },
   {
    "duration": 1212,
    "start_time": "2024-11-30T19:51:54.215Z"
   },
   {
    "duration": 12,
    "start_time": "2024-11-30T19:51:55.428Z"
   },
   {
    "duration": 24,
    "start_time": "2024-11-30T19:51:55.442Z"
   },
   {
    "duration": 45,
    "start_time": "2024-11-30T19:51:55.467Z"
   },
   {
    "duration": 90,
    "start_time": "2024-11-30T19:51:55.514Z"
   },
   {
    "duration": 25,
    "start_time": "2024-11-30T19:51:55.605Z"
   },
   {
    "duration": 7,
    "start_time": "2024-11-30T19:51:55.631Z"
   },
   {
    "duration": 144,
    "start_time": "2024-11-30T19:51:55.640Z"
   },
   {
    "duration": 2,
    "start_time": "2024-11-30T19:51:55.787Z"
   },
   {
    "duration": 15,
    "start_time": "2024-11-30T19:51:55.790Z"
   },
   {
    "duration": 18,
    "start_time": "2024-11-30T19:51:55.806Z"
   },
   {
    "duration": 2069,
    "start_time": "2024-11-30T19:51:55.825Z"
   },
   {
    "duration": 5,
    "start_time": "2024-11-30T19:51:57.895Z"
   },
   {
    "duration": 8199,
    "start_time": "2024-11-30T19:51:57.906Z"
   },
   {
    "duration": 0,
    "start_time": "2024-11-30T19:52:06.107Z"
   },
   {
    "duration": 0,
    "start_time": "2024-11-30T19:52:06.108Z"
   },
   {
    "duration": 0,
    "start_time": "2024-11-30T19:52:06.109Z"
   },
   {
    "duration": 0,
    "start_time": "2024-11-30T19:52:06.110Z"
   },
   {
    "duration": 0,
    "start_time": "2024-11-30T19:52:06.110Z"
   },
   {
    "duration": 0,
    "start_time": "2024-11-30T19:52:06.111Z"
   },
   {
    "duration": 0,
    "start_time": "2024-11-30T19:52:06.112Z"
   },
   {
    "duration": 0,
    "start_time": "2024-11-30T19:52:06.113Z"
   },
   {
    "duration": 0,
    "start_time": "2024-11-30T19:52:06.114Z"
   },
   {
    "duration": 0,
    "start_time": "2024-11-30T19:52:06.115Z"
   },
   {
    "duration": 0,
    "start_time": "2024-11-30T19:52:06.116Z"
   },
   {
    "duration": 0,
    "start_time": "2024-11-30T19:52:06.116Z"
   },
   {
    "duration": 0,
    "start_time": "2024-11-30T19:52:06.117Z"
   },
   {
    "duration": 2062,
    "start_time": "2024-11-30T19:52:23.909Z"
   },
   {
    "duration": 6,
    "start_time": "2024-11-30T19:53:16.771Z"
   },
   {
    "duration": 5,
    "start_time": "2024-11-30T19:53:17.115Z"
   },
   {
    "duration": 477,
    "start_time": "2024-11-30T19:53:17.803Z"
   },
   {
    "duration": 5,
    "start_time": "2024-11-30T19:53:19.179Z"
   },
   {
    "duration": 2226,
    "start_time": "2024-11-30T19:53:20.227Z"
   },
   {
    "duration": 115,
    "start_time": "2024-11-30T19:53:24.707Z"
   },
   {
    "duration": 5,
    "start_time": "2024-11-30T19:55:59.917Z"
   },
   {
    "duration": 1410,
    "start_time": "2024-11-30T19:55:59.924Z"
   },
   {
    "duration": 7,
    "start_time": "2024-11-30T19:56:01.335Z"
   },
   {
    "duration": 75,
    "start_time": "2024-11-30T19:56:01.344Z"
   },
   {
    "duration": 24,
    "start_time": "2024-11-30T19:56:01.421Z"
   },
   {
    "duration": 85,
    "start_time": "2024-11-30T19:56:01.447Z"
   },
   {
    "duration": 20,
    "start_time": "2024-11-30T19:56:01.533Z"
   },
   {
    "duration": 20,
    "start_time": "2024-11-30T19:56:01.555Z"
   },
   {
    "duration": 119,
    "start_time": "2024-11-30T19:56:01.576Z"
   },
   {
    "duration": 25,
    "start_time": "2024-11-30T19:56:01.696Z"
   },
   {
    "duration": 22,
    "start_time": "2024-11-30T19:56:01.722Z"
   },
   {
    "duration": 26,
    "start_time": "2024-11-30T19:56:01.746Z"
   },
   {
    "duration": 468,
    "start_time": "2024-11-30T19:56:01.773Z"
   },
   {
    "duration": 4,
    "start_time": "2024-11-30T19:56:02.243Z"
   },
   {
    "duration": 2537,
    "start_time": "2024-11-30T19:56:18.989Z"
   },
   {
    "duration": 1224,
    "start_time": "2024-11-30T19:56:21.528Z"
   },
   {
    "duration": 12,
    "start_time": "2024-11-30T19:56:22.753Z"
   },
   {
    "duration": 72,
    "start_time": "2024-11-30T19:56:22.766Z"
   },
   {
    "duration": 33,
    "start_time": "2024-11-30T19:56:22.840Z"
   },
   {
    "duration": 79,
    "start_time": "2024-11-30T19:56:22.875Z"
   },
   {
    "duration": 27,
    "start_time": "2024-11-30T19:56:22.955Z"
   },
   {
    "duration": 8,
    "start_time": "2024-11-30T19:56:22.983Z"
   },
   {
    "duration": 235,
    "start_time": "2024-11-30T19:56:22.992Z"
   },
   {
    "duration": 3,
    "start_time": "2024-11-30T19:56:23.229Z"
   },
   {
    "duration": 13,
    "start_time": "2024-11-30T19:56:23.234Z"
   },
   {
    "duration": 12,
    "start_time": "2024-11-30T19:56:23.248Z"
   },
   {
    "duration": 2015,
    "start_time": "2024-11-30T19:56:23.261Z"
   },
   {
    "duration": 4,
    "start_time": "2024-11-30T19:56:25.279Z"
   },
   {
    "duration": 7726,
    "start_time": "2024-11-30T19:56:25.284Z"
   },
   {
    "duration": 2903,
    "start_time": "2024-11-30T19:56:33.012Z"
   },
   {
    "duration": 3,
    "start_time": "2024-11-30T19:56:35.916Z"
   },
   {
    "duration": 4155,
    "start_time": "2024-11-30T19:56:35.921Z"
   },
   {
    "duration": 4,
    "start_time": "2024-11-30T19:56:40.078Z"
   },
   {
    "duration": 68,
    "start_time": "2024-11-30T19:56:40.084Z"
   },
   {
    "duration": 67,
    "start_time": "2024-11-30T19:56:40.153Z"
   },
   {
    "duration": 3,
    "start_time": "2024-11-30T19:56:40.221Z"
   },
   {
    "duration": 6701,
    "start_time": "2024-11-30T19:56:40.225Z"
   },
   {
    "duration": 5,
    "start_time": "2024-11-30T19:56:46.927Z"
   },
   {
    "duration": 16,
    "start_time": "2024-11-30T19:56:46.933Z"
   },
   {
    "duration": 67055,
    "start_time": "2024-11-30T19:56:46.950Z"
   },
   {
    "duration": 19,
    "start_time": "2024-11-30T19:58:01.468Z"
   },
   {
    "duration": 2531,
    "start_time": "2024-11-30T19:58:16.089Z"
   },
   {
    "duration": 883,
    "start_time": "2024-11-30T19:58:18.622Z"
   },
   {
    "duration": 12,
    "start_time": "2024-11-30T19:58:19.508Z"
   },
   {
    "duration": 14,
    "start_time": "2024-11-30T19:58:19.522Z"
   },
   {
    "duration": 46,
    "start_time": "2024-11-30T19:58:19.538Z"
   },
   {
    "duration": 76,
    "start_time": "2024-11-30T19:58:19.586Z"
   },
   {
    "duration": 25,
    "start_time": "2024-11-30T19:58:19.663Z"
   },
   {
    "duration": 21,
    "start_time": "2024-11-30T19:58:19.690Z"
   },
   {
    "duration": 201,
    "start_time": "2024-11-30T19:58:19.713Z"
   },
   {
    "duration": 3,
    "start_time": "2024-11-30T19:58:19.916Z"
   },
   {
    "duration": 13,
    "start_time": "2024-11-30T19:58:19.920Z"
   },
   {
    "duration": 10,
    "start_time": "2024-11-30T19:58:19.934Z"
   },
   {
    "duration": 1950,
    "start_time": "2024-11-30T19:58:19.946Z"
   },
   {
    "duration": 9,
    "start_time": "2024-11-30T19:58:21.898Z"
   },
   {
    "duration": 2141,
    "start_time": "2024-11-30T19:58:21.908Z"
   },
   {
    "duration": 2892,
    "start_time": "2024-11-30T19:58:24.050Z"
   },
   {
    "duration": 4,
    "start_time": "2024-11-30T19:58:26.944Z"
   },
   {
    "duration": 4059,
    "start_time": "2024-11-30T19:58:26.950Z"
   },
   {
    "duration": 4,
    "start_time": "2024-11-30T19:58:31.011Z"
   },
   {
    "duration": 15,
    "start_time": "2024-11-30T19:58:31.017Z"
   },
   {
    "duration": 26,
    "start_time": "2024-11-30T19:58:31.034Z"
   },
   {
    "duration": 2,
    "start_time": "2024-11-30T19:58:31.062Z"
   },
   {
    "duration": 6752,
    "start_time": "2024-11-30T19:58:31.065Z"
   },
   {
    "duration": 4,
    "start_time": "2024-11-30T19:58:37.819Z"
   },
   {
    "duration": 328,
    "start_time": "2024-11-30T19:58:37.824Z"
   },
   {
    "duration": 0,
    "start_time": "2024-11-30T19:58:38.153Z"
   },
   {
    "duration": 34035,
    "start_time": "2024-11-30T19:58:56.678Z"
   },
   {
    "duration": 153566,
    "start_time": "2024-11-30T20:00:52.943Z"
   },
   {
    "duration": 1175,
    "start_time": "2024-11-30T20:05:09.199Z"
   },
   {
    "duration": 96963,
    "start_time": "2024-11-30T20:05:19.559Z"
   },
   {
    "duration": 6992,
    "start_time": "2024-11-30T20:09:08.696Z"
   },
   {
    "duration": 3,
    "start_time": "2024-11-30T20:09:20.152Z"
   },
   {
    "duration": 23,
    "start_time": "2024-11-30T20:09:21.072Z"
   },
   {
    "duration": 18,
    "start_time": "2024-11-30T20:09:22.307Z"
   },
   {
    "duration": 6917,
    "start_time": "2024-11-30T20:09:31.193Z"
   },
   {
    "duration": 6,
    "start_time": "2024-11-30T20:09:42.584Z"
   },
   {
    "duration": 41523,
    "start_time": "2024-11-30T20:10:25.488Z"
   },
   {
    "duration": 11910,
    "start_time": "2024-11-30T20:11:11.210Z"
   },
   {
    "duration": 96462,
    "start_time": "2024-11-30T20:11:28.945Z"
   },
   {
    "duration": 57732,
    "start_time": "2024-11-30T20:13:28.585Z"
   },
   {
    "duration": 122,
    "start_time": "2024-11-30T20:16:45.120Z"
   },
   {
    "duration": 3,
    "start_time": "2024-11-30T20:18:16.994Z"
   },
   {
    "duration": 2,
    "start_time": "2024-11-30T20:18:19.866Z"
   },
   {
    "duration": 39,
    "start_time": "2024-11-30T20:18:54.602Z"
   },
   {
    "duration": 3,
    "start_time": "2024-11-30T20:19:16.530Z"
   },
   {
    "duration": 230,
    "start_time": "2024-11-30T20:19:18.107Z"
   },
   {
    "duration": 341518,
    "start_time": "2024-11-30T20:20:15.394Z"
   },
   {
    "duration": 3,
    "start_time": "2024-11-30T20:26:28.371Z"
   },
   {
    "duration": 2,
    "start_time": "2024-11-30T20:26:30.380Z"
   },
   {
    "duration": 2,
    "start_time": "2024-11-30T20:26:32.252Z"
   },
   {
    "duration": 15,
    "start_time": "2024-11-30T20:26:32.957Z"
   },
   {
    "duration": 2,
    "start_time": "2024-11-30T20:27:30.172Z"
   },
   {
    "duration": 14,
    "start_time": "2024-11-30T20:27:30.923Z"
   },
   {
    "duration": 2,
    "start_time": "2024-11-30T20:29:38.692Z"
   },
   {
    "duration": 25,
    "start_time": "2024-11-30T20:29:39.332Z"
   },
   {
    "duration": 71,
    "start_time": "2024-11-30T20:29:48.316Z"
   },
   {
    "duration": 20,
    "start_time": "2024-11-30T20:30:22.987Z"
   },
   {
    "duration": 17,
    "start_time": "2024-11-30T20:31:51.501Z"
   },
   {
    "duration": 3,
    "start_time": "2024-11-30T20:32:05.436Z"
   },
   {
    "duration": 418939,
    "start_time": "2024-11-30T20:32:06.381Z"
   },
   {
    "duration": 3,
    "start_time": "2024-11-30T20:39:10.213Z"
   },
   {
    "duration": 2,
    "start_time": "2024-11-30T20:39:13.926Z"
   },
   {
    "duration": 3349,
    "start_time": "2024-11-30T20:39:14.460Z"
   },
   {
    "duration": 3,
    "start_time": "2024-11-30T20:39:35.214Z"
   },
   {
    "duration": 9,
    "start_time": "2024-11-30T20:39:58.909Z"
   },
   {
    "duration": 2,
    "start_time": "2024-11-30T20:40:48.542Z"
   },
   {
    "duration": 19289,
    "start_time": "2024-11-30T20:40:49.222Z"
   },
   {
    "duration": 21,
    "start_time": "2024-11-30T20:41:12.286Z"
   },
   {
    "duration": 8,
    "start_time": "2024-11-30T20:41:15.149Z"
   },
   {
    "duration": 3,
    "start_time": "2024-11-30T20:41:46.591Z"
   },
   {
    "duration": 3,
    "start_time": "2024-11-30T20:43:04.247Z"
   },
   {
    "duration": 35,
    "start_time": "2024-11-30T20:43:06.758Z"
   },
   {
    "duration": 14,
    "start_time": "2024-11-30T20:43:22.383Z"
   },
   {
    "duration": 2,
    "start_time": "2024-11-30T20:43:50.183Z"
   },
   {
    "duration": 135197,
    "start_time": "2024-11-30T20:43:55.431Z"
   },
   {
    "duration": 20,
    "start_time": "2024-11-30T20:46:24.295Z"
   },
   {
    "duration": 7,
    "start_time": "2024-11-30T20:46:26.255Z"
   },
   {
    "duration": 15,
    "start_time": "2024-11-30T20:47:25.695Z"
   },
   {
    "duration": 13,
    "start_time": "2024-11-30T20:47:43.552Z"
   },
   {
    "duration": 13,
    "start_time": "2024-11-30T20:47:58.658Z"
   },
   {
    "duration": 6,
    "start_time": "2024-11-30T20:48:03.727Z"
   },
   {
    "duration": 7,
    "start_time": "2024-11-30T20:50:47.728Z"
   },
   {
    "duration": 5,
    "start_time": "2024-11-30T20:53:25.840Z"
   },
   {
    "duration": 18,
    "start_time": "2024-11-30T20:53:27.608Z"
   },
   {
    "duration": 13,
    "start_time": "2024-11-30T20:55:28.687Z"
   },
   {
    "duration": 11,
    "start_time": "2024-11-30T20:56:27.833Z"
   },
   {
    "duration": 18,
    "start_time": "2024-11-30T20:56:46.929Z"
   },
   {
    "duration": 24,
    "start_time": "2024-11-30T20:57:42.841Z"
   },
   {
    "duration": 1503,
    "start_time": "2024-11-30T20:58:11.218Z"
   },
   {
    "duration": 74,
    "start_time": "2024-11-30T20:58:37.977Z"
   },
   {
    "duration": 15,
    "start_time": "2024-11-30T20:58:46.721Z"
   },
   {
    "duration": 1558,
    "start_time": "2024-11-30T20:59:19.082Z"
   },
   {
    "duration": 1478,
    "start_time": "2024-11-30T21:00:22.370Z"
   },
   {
    "duration": 21,
    "start_time": "2024-11-30T21:00:42.890Z"
   },
   {
    "duration": 17,
    "start_time": "2024-11-30T21:01:10.490Z"
   },
   {
    "duration": 85,
    "start_time": "2024-11-30T21:03:23.267Z"
   },
   {
    "duration": 24,
    "start_time": "2024-11-30T21:03:27.954Z"
   },
   {
    "duration": 23,
    "start_time": "2024-11-30T21:03:33.595Z"
   },
   {
    "duration": 17,
    "start_time": "2024-11-30T21:03:39.675Z"
   },
   {
    "duration": 6,
    "start_time": "2024-11-30T21:04:11.466Z"
   },
   {
    "duration": 15,
    "start_time": "2024-11-30T21:04:13.091Z"
   },
   {
    "duration": 15,
    "start_time": "2024-11-30T21:05:11.346Z"
   },
   {
    "duration": 129,
    "start_time": "2024-11-30T21:05:47.322Z"
   },
   {
    "duration": 15,
    "start_time": "2024-11-30T21:06:05.658Z"
   },
   {
    "duration": 97,
    "start_time": "2024-11-30T21:06:09.682Z"
   },
   {
    "duration": 17,
    "start_time": "2024-11-30T21:06:25.651Z"
   },
   {
    "duration": 16,
    "start_time": "2024-11-30T21:06:30.899Z"
   },
   {
    "duration": 10,
    "start_time": "2024-11-30T21:06:51.596Z"
   },
   {
    "duration": 13,
    "start_time": "2024-11-30T21:07:02.179Z"
   },
   {
    "duration": 14,
    "start_time": "2024-11-30T21:07:14.115Z"
   },
   {
    "duration": 14,
    "start_time": "2024-11-30T21:07:22.986Z"
   },
   {
    "duration": 14,
    "start_time": "2024-11-30T21:07:37.539Z"
   },
   {
    "duration": 4,
    "start_time": "2024-11-30T21:09:25.435Z"
   },
   {
    "duration": 17,
    "start_time": "2024-11-30T21:09:37.715Z"
   },
   {
    "duration": 5,
    "start_time": "2024-11-30T21:09:47.291Z"
   },
   {
    "duration": 4,
    "start_time": "2024-11-30T21:10:00.116Z"
   },
   {
    "duration": 536,
    "start_time": "2024-11-30T21:11:12.748Z"
   },
   {
    "duration": 615,
    "start_time": "2024-11-30T21:12:05.628Z"
   },
   {
    "duration": 6,
    "start_time": "2024-11-30T21:13:28.780Z"
   },
   {
    "duration": 5,
    "start_time": "2024-11-30T21:13:43.188Z"
   },
   {
    "duration": 6,
    "start_time": "2024-11-30T21:13:45.773Z"
   },
   {
    "duration": 5,
    "start_time": "2024-11-30T21:13:59.341Z"
   },
   {
    "duration": 28,
    "start_time": "2024-11-30T21:14:18.387Z"
   },
   {
    "duration": 6,
    "start_time": "2024-11-30T21:14:25.781Z"
   },
   {
    "duration": 5,
    "start_time": "2024-11-30T21:14:34.443Z"
   },
   {
    "duration": 6,
    "start_time": "2024-11-30T21:14:38.596Z"
   },
   {
    "duration": 7,
    "start_time": "2024-11-30T21:14:45.860Z"
   },
   {
    "duration": 5,
    "start_time": "2024-11-30T21:15:04.125Z"
   },
   {
    "duration": 18,
    "start_time": "2024-11-30T21:15:26.061Z"
   },
   {
    "duration": 13,
    "start_time": "2024-11-30T21:16:22.988Z"
   },
   {
    "duration": 2633,
    "start_time": "2024-12-06T14:26:52.116Z"
   },
   {
    "duration": 1284,
    "start_time": "2024-12-06T14:26:54.752Z"
   },
   {
    "duration": 14,
    "start_time": "2024-12-06T14:26:56.038Z"
   },
   {
    "duration": 13,
    "start_time": "2024-12-06T14:26:56.054Z"
   },
   {
    "duration": 33,
    "start_time": "2024-12-06T14:26:56.069Z"
   },
   {
    "duration": 114,
    "start_time": "2024-12-06T14:26:56.104Z"
   },
   {
    "duration": 35,
    "start_time": "2024-12-06T14:26:56.220Z"
   },
   {
    "duration": 8,
    "start_time": "2024-12-06T14:26:56.257Z"
   },
   {
    "duration": 143,
    "start_time": "2024-12-06T14:26:56.267Z"
   },
   {
    "duration": 3,
    "start_time": "2024-12-06T14:26:56.412Z"
   },
   {
    "duration": 26,
    "start_time": "2024-12-06T14:26:56.417Z"
   },
   {
    "duration": 11,
    "start_time": "2024-12-06T14:26:56.445Z"
   },
   {
    "duration": 2157,
    "start_time": "2024-12-06T14:26:56.458Z"
   },
   {
    "duration": 5,
    "start_time": "2024-12-06T14:26:58.617Z"
   },
   {
    "duration": 2412,
    "start_time": "2024-12-06T14:26:58.632Z"
   },
   {
    "duration": 3212,
    "start_time": "2024-12-06T14:27:01.046Z"
   },
   {
    "duration": 4,
    "start_time": "2024-12-06T14:27:04.259Z"
   },
   {
    "duration": 4562,
    "start_time": "2024-12-06T14:27:04.264Z"
   },
   {
    "duration": 4,
    "start_time": "2024-12-06T14:27:08.829Z"
   },
   {
    "duration": 12,
    "start_time": "2024-12-06T14:27:08.835Z"
   },
   {
    "duration": 37,
    "start_time": "2024-12-06T14:27:08.848Z"
   },
   {
    "duration": 10,
    "start_time": "2024-12-06T14:27:08.886Z"
   },
   {
    "duration": 7730,
    "start_time": "2024-12-06T14:27:08.897Z"
   },
   {
    "duration": 5,
    "start_time": "2024-12-06T14:27:16.632Z"
   },
   {
    "duration": 49302,
    "start_time": "2024-12-06T14:27:16.639Z"
   },
   {
    "duration": 106992,
    "start_time": "2024-12-06T14:28:05.943Z"
   },
   {
    "duration": 63305,
    "start_time": "2024-12-06T14:29:52.937Z"
   },
   {
    "duration": 483,
    "start_time": "2024-12-06T14:30:56.336Z"
   },
   {
    "duration": 12,
    "start_time": "2024-12-06T14:30:56.821Z"
   },
   {
    "duration": 344,
    "start_time": "2024-12-06T14:30:56.835Z"
   },
   {
    "duration": 0,
    "start_time": "2024-12-06T14:30:57.181Z"
   },
   {
    "duration": 0,
    "start_time": "2024-12-06T14:30:57.183Z"
   },
   {
    "duration": 0,
    "start_time": "2024-12-06T14:30:57.185Z"
   },
   {
    "duration": 0,
    "start_time": "2024-12-06T14:30:57.186Z"
   },
   {
    "duration": 0,
    "start_time": "2024-12-06T14:30:57.188Z"
   },
   {
    "duration": 0,
    "start_time": "2024-12-06T14:30:57.189Z"
   },
   {
    "duration": 0,
    "start_time": "2024-12-06T14:30:57.191Z"
   },
   {
    "duration": 0,
    "start_time": "2024-12-06T14:30:57.192Z"
   },
   {
    "duration": 0,
    "start_time": "2024-12-06T14:30:57.194Z"
   },
   {
    "duration": 0,
    "start_time": "2024-12-06T14:30:57.196Z"
   },
   {
    "duration": 0,
    "start_time": "2024-12-06T14:30:57.197Z"
   },
   {
    "duration": 0,
    "start_time": "2024-12-06T14:30:57.199Z"
   },
   {
    "duration": 0,
    "start_time": "2024-12-06T14:30:57.200Z"
   },
   {
    "duration": 0,
    "start_time": "2024-12-06T14:30:57.232Z"
   },
   {
    "duration": 0,
    "start_time": "2024-12-06T14:30:57.234Z"
   },
   {
    "duration": 4,
    "start_time": "2024-12-06T17:18:14.089Z"
   },
   {
    "duration": 2,
    "start_time": "2024-12-06T17:18:16.409Z"
   },
   {
    "duration": 4,
    "start_time": "2024-12-06T17:18:16.880Z"
   },
   {
    "duration": 3,
    "start_time": "2024-12-06T17:18:20.337Z"
   },
   {
    "duration": 2876,
    "start_time": "2024-12-06T17:27:11.432Z"
   },
   {
    "duration": 949,
    "start_time": "2024-12-06T17:27:14.310Z"
   },
   {
    "duration": 12,
    "start_time": "2024-12-06T17:27:15.261Z"
   },
   {
    "duration": 23,
    "start_time": "2024-12-06T17:27:15.274Z"
   },
   {
    "duration": 48,
    "start_time": "2024-12-06T17:27:15.299Z"
   },
   {
    "duration": 122,
    "start_time": "2024-12-06T17:27:15.348Z"
   },
   {
    "duration": 28,
    "start_time": "2024-12-06T17:27:15.472Z"
   },
   {
    "duration": 8,
    "start_time": "2024-12-06T17:27:15.502Z"
   },
   {
    "duration": 160,
    "start_time": "2024-12-06T17:27:15.512Z"
   },
   {
    "duration": 3,
    "start_time": "2024-12-06T17:27:15.673Z"
   },
   {
    "duration": 16,
    "start_time": "2024-12-06T17:27:15.678Z"
   },
   {
    "duration": 24,
    "start_time": "2024-12-06T17:27:15.695Z"
   },
   {
    "duration": 2208,
    "start_time": "2024-12-06T17:27:15.720Z"
   },
   {
    "duration": 4,
    "start_time": "2024-12-06T17:27:17.932Z"
   },
   {
    "duration": 2522,
    "start_time": "2024-12-06T17:27:17.938Z"
   },
   {
    "duration": 3089,
    "start_time": "2024-12-06T17:27:20.462Z"
   },
   {
    "duration": 3,
    "start_time": "2024-12-06T17:27:23.553Z"
   },
   {
    "duration": 4618,
    "start_time": "2024-12-06T17:27:23.558Z"
   },
   {
    "duration": 4,
    "start_time": "2024-12-06T17:27:28.177Z"
   },
   {
    "duration": 9,
    "start_time": "2024-12-06T17:27:28.183Z"
   },
   {
    "duration": 43,
    "start_time": "2024-12-06T17:27:28.193Z"
   },
   {
    "duration": 2,
    "start_time": "2024-12-06T17:27:28.238Z"
   },
   {
    "duration": 7576,
    "start_time": "2024-12-06T17:27:28.242Z"
   },
   {
    "duration": 5,
    "start_time": "2024-12-06T17:27:35.819Z"
   },
   {
    "duration": 49102,
    "start_time": "2024-12-06T17:27:35.833Z"
   },
   {
    "duration": 107117,
    "start_time": "2024-12-06T17:28:24.937Z"
   },
   {
    "duration": 63990,
    "start_time": "2024-12-06T17:30:12.056Z"
   },
   {
    "duration": 3,
    "start_time": "2024-12-06T17:31:16.047Z"
   },
   {
    "duration": 12,
    "start_time": "2024-12-06T17:31:16.051Z"
   },
   {
    "duration": 7,
    "start_time": "2024-12-06T17:31:16.064Z"
   },
   {
    "duration": 625891,
    "start_time": "2024-12-06T17:31:16.073Z"
   },
   {
    "duration": 0,
    "start_time": "2024-12-06T17:41:41.966Z"
   },
   {
    "duration": 0,
    "start_time": "2024-12-06T17:41:41.967Z"
   },
   {
    "duration": 0,
    "start_time": "2024-12-06T17:41:41.968Z"
   },
   {
    "duration": 0,
    "start_time": "2024-12-06T17:41:41.969Z"
   },
   {
    "duration": 0,
    "start_time": "2024-12-06T17:41:41.970Z"
   },
   {
    "duration": 0,
    "start_time": "2024-12-06T17:41:41.972Z"
   },
   {
    "duration": 1,
    "start_time": "2024-12-06T17:41:41.972Z"
   },
   {
    "duration": 0,
    "start_time": "2024-12-06T17:41:41.973Z"
   },
   {
    "duration": 1,
    "start_time": "2024-12-06T17:41:41.974Z"
   },
   {
    "duration": 1,
    "start_time": "2024-12-06T17:41:41.975Z"
   },
   {
    "duration": 0,
    "start_time": "2024-12-06T17:41:41.977Z"
   },
   {
    "duration": 0,
    "start_time": "2024-12-06T17:41:41.977Z"
   },
   {
    "duration": 0,
    "start_time": "2024-12-06T17:41:41.978Z"
   },
   {
    "duration": 3,
    "start_time": "2024-12-06T17:41:48.060Z"
   },
   {
    "duration": 232644,
    "start_time": "2024-12-06T17:41:49.123Z"
   },
   {
    "duration": 3,
    "start_time": "2024-12-06T17:45:46.220Z"
   },
   {
    "duration": 209370,
    "start_time": "2024-12-06T17:45:47.067Z"
   },
   {
    "duration": 208,
    "start_time": "2024-12-06T17:49:16.439Z"
   },
   {
    "duration": 9,
    "start_time": "2024-12-06T17:50:55.749Z"
   },
   {
    "duration": 6,
    "start_time": "2024-12-06T17:50:56.861Z"
   },
   {
    "duration": 15,
    "start_time": "2024-12-06T17:50:58.652Z"
   },
   {
    "duration": 13,
    "start_time": "2024-12-06T17:52:37.606Z"
   },
   {
    "duration": 4,
    "start_time": "2024-12-06T17:52:43.037Z"
   },
   {
    "duration": 20,
    "start_time": "2024-12-06T17:52:44.870Z"
   },
   {
    "duration": 3,
    "start_time": "2024-12-06T17:53:32.398Z"
   },
   {
    "duration": 18,
    "start_time": "2024-12-06T17:53:33.190Z"
   },
   {
    "duration": 500,
    "start_time": "2024-12-06T17:54:22.990Z"
   },
   {
    "duration": 116,
    "start_time": "2024-12-06T17:54:51.200Z"
   },
   {
    "duration": 79,
    "start_time": "2024-12-06T17:54:59.222Z"
   },
   {
    "duration": 1055,
    "start_time": "2024-12-06T17:55:08.094Z"
   },
   {
    "duration": 3,
    "start_time": "2024-12-06T17:55:33.422Z"
   },
   {
    "duration": 1082,
    "start_time": "2024-12-06T17:55:33.933Z"
   },
   {
    "duration": 12,
    "start_time": "2024-12-06T17:59:10.167Z"
   },
   {
    "duration": 3,
    "start_time": "2024-12-06T17:59:43.158Z"
   },
   {
    "duration": 572440,
    "start_time": "2024-12-06T18:00:50.894Z"
   },
   {
    "duration": 2493191,
    "start_time": "2024-12-06T18:12:05.456Z"
   },
   {
    "duration": 333522,
    "start_time": "2024-12-06T18:53:38.649Z"
   },
   {
    "duration": 5748,
    "start_time": "2024-12-06T19:01:19.671Z"
   },
   {
    "duration": 15,
    "start_time": "2024-12-06T19:19:52.037Z"
   },
   {
    "duration": 2623,
    "start_time": "2024-12-06T19:26:08.882Z"
   },
   {
    "duration": 924,
    "start_time": "2024-12-06T19:26:11.506Z"
   },
   {
    "duration": 10,
    "start_time": "2024-12-06T19:26:12.432Z"
   },
   {
    "duration": 13,
    "start_time": "2024-12-06T19:26:12.444Z"
   },
   {
    "duration": 33,
    "start_time": "2024-12-06T19:26:12.459Z"
   },
   {
    "duration": 119,
    "start_time": "2024-12-06T19:26:12.494Z"
   },
   {
    "duration": 37,
    "start_time": "2024-12-06T19:26:12.614Z"
   },
   {
    "duration": 3,
    "start_time": "2024-12-06T19:26:12.653Z"
   },
   {
    "duration": 48,
    "start_time": "2024-12-06T19:26:12.657Z"
   },
   {
    "duration": 159,
    "start_time": "2024-12-06T19:26:12.707Z"
   },
   {
    "duration": 0,
    "start_time": "2024-12-06T19:26:12.868Z"
   },
   {
    "duration": 0,
    "start_time": "2024-12-06T19:26:12.869Z"
   },
   {
    "duration": 0,
    "start_time": "2024-12-06T19:26:12.870Z"
   },
   {
    "duration": 0,
    "start_time": "2024-12-06T19:26:12.872Z"
   },
   {
    "duration": 0,
    "start_time": "2024-12-06T19:26:12.873Z"
   },
   {
    "duration": 0,
    "start_time": "2024-12-06T19:26:12.874Z"
   },
   {
    "duration": 0,
    "start_time": "2024-12-06T19:26:12.875Z"
   },
   {
    "duration": 0,
    "start_time": "2024-12-06T19:26:12.876Z"
   },
   {
    "duration": 0,
    "start_time": "2024-12-06T19:26:12.877Z"
   },
   {
    "duration": 0,
    "start_time": "2024-12-06T19:26:12.878Z"
   },
   {
    "duration": 0,
    "start_time": "2024-12-06T19:26:12.878Z"
   },
   {
    "duration": 0,
    "start_time": "2024-12-06T19:26:12.880Z"
   },
   {
    "duration": 0,
    "start_time": "2024-12-06T19:26:12.881Z"
   },
   {
    "duration": 0,
    "start_time": "2024-12-06T19:26:12.882Z"
   },
   {
    "duration": 0,
    "start_time": "2024-12-06T19:26:12.882Z"
   },
   {
    "duration": 0,
    "start_time": "2024-12-06T19:26:12.884Z"
   },
   {
    "duration": 0,
    "start_time": "2024-12-06T19:26:12.885Z"
   },
   {
    "duration": 208,
    "start_time": "2024-12-06T19:41:04.425Z"
   },
   {
    "duration": 2699,
    "start_time": "2024-12-06T19:41:13.919Z"
   },
   {
    "duration": 915,
    "start_time": "2024-12-06T19:41:16.620Z"
   },
   {
    "duration": 15,
    "start_time": "2024-12-06T19:41:17.538Z"
   },
   {
    "duration": 26,
    "start_time": "2024-12-06T19:41:17.555Z"
   },
   {
    "duration": 48,
    "start_time": "2024-12-06T19:41:17.584Z"
   },
   {
    "duration": 102,
    "start_time": "2024-12-06T19:41:17.634Z"
   },
   {
    "duration": 32,
    "start_time": "2024-12-06T19:41:17.738Z"
   },
   {
    "duration": 3,
    "start_time": "2024-12-06T19:41:17.771Z"
   },
   {
    "duration": 35,
    "start_time": "2024-12-06T19:41:17.776Z"
   },
   {
    "duration": 156,
    "start_time": "2024-12-06T19:41:17.813Z"
   },
   {
    "duration": 3,
    "start_time": "2024-12-06T19:41:17.970Z"
   },
   {
    "duration": 7452,
    "start_time": "2024-12-06T19:41:17.975Z"
   },
   {
    "duration": 5,
    "start_time": "2024-12-06T19:41:25.429Z"
   },
   {
    "duration": 49497,
    "start_time": "2024-12-06T19:41:25.436Z"
   },
   {
    "duration": 108300,
    "start_time": "2024-12-06T19:42:14.934Z"
   },
   {
    "duration": 65001,
    "start_time": "2024-12-06T19:44:03.236Z"
   },
   {
    "duration": 15,
    "start_time": "2024-12-06T19:45:08.238Z"
   },
   {
    "duration": 3,
    "start_time": "2024-12-06T19:45:08.254Z"
   },
   {
    "duration": 200084,
    "start_time": "2024-12-06T19:45:08.258Z"
   },
   {
    "duration": 112,
    "start_time": "2024-12-06T19:48:28.434Z"
   },
   {
    "duration": 9,
    "start_time": "2024-12-06T19:48:28.548Z"
   },
   {
    "duration": 5,
    "start_time": "2024-12-06T19:48:28.559Z"
   },
   {
    "duration": 19,
    "start_time": "2024-12-06T19:48:28.566Z"
   },
   {
    "duration": 3,
    "start_time": "2024-12-06T19:48:28.586Z"
   },
   {
    "duration": 559291,
    "start_time": "2024-12-06T19:48:28.591Z"
   },
   {
    "duration": 2487580,
    "start_time": "2024-12-06T19:57:47.883Z"
   },
   {
    "duration": 331490,
    "start_time": "2024-12-06T20:39:15.465Z"
   },
   {
    "duration": 5604,
    "start_time": "2024-12-06T20:44:46.956Z"
   },
   {
    "duration": 3071,
    "start_time": "2024-12-07T09:26:32.595Z"
   },
   {
    "duration": 5,
    "start_time": "2024-12-07T09:31:19.949Z"
   },
   {
    "duration": 1308,
    "start_time": "2024-12-07T09:31:19.955Z"
   },
   {
    "duration": 13,
    "start_time": "2024-12-07T09:31:21.264Z"
   },
   {
    "duration": 15,
    "start_time": "2024-12-07T09:31:21.280Z"
   },
   {
    "duration": 54,
    "start_time": "2024-12-07T09:31:21.297Z"
   },
   {
    "duration": 109,
    "start_time": "2024-12-07T09:31:21.352Z"
   },
   {
    "duration": 32,
    "start_time": "2024-12-07T09:31:21.463Z"
   },
   {
    "duration": 3,
    "start_time": "2024-12-07T09:31:21.496Z"
   },
   {
    "duration": 212,
    "start_time": "2024-12-07T09:31:21.500Z"
   },
   {
    "duration": 0,
    "start_time": "2024-12-07T09:31:21.713Z"
   },
   {
    "duration": 19,
    "start_time": "2024-12-07T09:33:07.625Z"
   },
   {
    "duration": 687,
    "start_time": "2024-12-07T09:33:26.712Z"
   },
   {
    "duration": 5,
    "start_time": "2024-12-07T09:33:45.105Z"
   },
   {
    "duration": 28,
    "start_time": "2024-12-07T09:35:28.442Z"
   },
   {
    "duration": 56,
    "start_time": "2024-12-07T09:36:54.818Z"
   },
   {
    "duration": 3,
    "start_time": "2024-12-07T09:40:19.915Z"
   },
   {
    "duration": 1308074,
    "start_time": "2024-12-07T09:40:45.979Z"
   },
   {
    "duration": 7,
    "start_time": "2024-12-07T10:05:36.392Z"
   },
   {
    "duration": 2237,
    "start_time": "2024-12-07T10:06:16.488Z"
   },
   {
    "duration": 5,
    "start_time": "2024-12-07T10:06:20.343Z"
   },
   {
    "duration": 5,
    "start_time": "2024-12-07T10:10:23.828Z"
   },
   {
    "duration": 916,
    "start_time": "2024-12-07T10:10:23.835Z"
   },
   {
    "duration": 8,
    "start_time": "2024-12-07T10:10:24.752Z"
   },
   {
    "duration": 15,
    "start_time": "2024-12-07T10:10:24.762Z"
   },
   {
    "duration": 35,
    "start_time": "2024-12-07T10:10:24.779Z"
   },
   {
    "duration": 154,
    "start_time": "2024-12-07T10:10:24.815Z"
   },
   {
    "duration": 46,
    "start_time": "2024-12-07T10:10:24.971Z"
   },
   {
    "duration": 4,
    "start_time": "2024-12-07T10:10:25.019Z"
   },
   {
    "duration": 3899810,
    "start_time": "2024-12-07T10:10:25.025Z"
   },
   {
    "duration": 23,
    "start_time": "2024-12-07T11:15:24.838Z"
   },
   {
    "duration": 723,
    "start_time": "2024-12-07T11:17:41.155Z"
   },
   {
    "duration": 811,
    "start_time": "2024-12-07T11:18:01.960Z"
   },
   {
    "duration": 6,
    "start_time": "2024-12-07T11:18:43.575Z"
   },
   {
    "duration": 1056,
    "start_time": "2024-12-07T11:18:43.582Z"
   },
   {
    "duration": 16,
    "start_time": "2024-12-07T11:18:44.640Z"
   },
   {
    "duration": 16,
    "start_time": "2024-12-07T11:18:44.663Z"
   },
   {
    "duration": 32,
    "start_time": "2024-12-07T11:18:44.680Z"
   },
   {
    "duration": 124,
    "start_time": "2024-12-07T11:18:44.713Z"
   },
   {
    "duration": 57,
    "start_time": "2024-12-07T11:18:44.839Z"
   },
   {
    "duration": 96357,
    "start_time": "2024-12-07T11:18:44.898Z"
   },
   {
    "duration": 36,
    "start_time": "2024-12-07T11:20:21.258Z"
   },
   {
    "duration": 3,
    "start_time": "2024-12-07T11:21:49.572Z"
   },
   {
    "duration": 32,
    "start_time": "2024-12-07T11:21:51.979Z"
   },
   {
    "duration": 147,
    "start_time": "2024-12-07T11:21:52.955Z"
   },
   {
    "duration": 3,
    "start_time": "2024-12-07T11:24:52.252Z"
   },
   {
    "duration": 7996,
    "start_time": "2024-12-07T11:24:52.940Z"
   },
   {
    "duration": 12,
    "start_time": "2024-12-07T11:25:00.938Z"
   },
   {
    "duration": 53358,
    "start_time": "2024-12-07T11:25:20.603Z"
   },
   {
    "duration": 131042,
    "start_time": "2024-12-07T11:26:27.428Z"
   },
   {
    "duration": 55022,
    "start_time": "2024-12-07T11:30:04.135Z"
   },
   {
    "duration": 40,
    "start_time": "2024-12-07T11:31:30.299Z"
   },
   {
    "duration": 3,
    "start_time": "2024-12-07T11:32:22.413Z"
   },
   {
    "duration": 215049,
    "start_time": "2024-12-07T11:32:43.910Z"
   },
   {
    "duration": 26,
    "start_time": "2024-12-07T11:37:24.615Z"
   },
   {
    "duration": 9,
    "start_time": "2024-12-07T11:37:31.511Z"
   },
   {
    "duration": 6,
    "start_time": "2024-12-07T11:37:33.663Z"
   },
   {
    "duration": 14,
    "start_time": "2024-12-07T11:37:44.893Z"
   },
   {
    "duration": 3,
    "start_time": "2024-12-07T11:38:26.263Z"
   },
   {
    "duration": 3,
    "start_time": "2024-12-07T11:38:44.527Z"
   },
   {
    "duration": 678248,
    "start_time": "2024-12-07T11:38:44.951Z"
   },
   {
    "duration": 1781088,
    "start_time": "2024-12-07T11:52:37.698Z"
   },
   {
    "duration": 6,
    "start_time": "2024-12-07T12:22:29.815Z"
   },
   {
    "duration": 56,
    "start_time": "2024-12-07T12:22:30.272Z"
   },
   {
    "duration": 15,
    "start_time": "2024-12-07T12:22:30.951Z"
   },
   {
    "duration": 162,
    "start_time": "2024-12-07T12:22:32.255Z"
   },
   {
    "duration": 17,
    "start_time": "2024-12-07T12:22:34.095Z"
   },
   {
    "duration": 7057,
    "start_time": "2024-12-07T12:22:34.623Z"
   },
   {
    "duration": 13,
    "start_time": "2024-12-07T12:22:41.682Z"
   },
   {
    "duration": 8243,
    "start_time": "2024-12-07T12:23:00.359Z"
   },
   {
    "duration": 7,
    "start_time": "2024-12-07T12:23:20.999Z"
   },
   {
    "duration": 2885,
    "start_time": "2024-12-07T12:23:38.453Z"
   },
   {
    "duration": 972,
    "start_time": "2024-12-07T12:23:41.340Z"
   },
   {
    "duration": 12,
    "start_time": "2024-12-07T12:23:42.314Z"
   },
   {
    "duration": 28,
    "start_time": "2024-12-07T12:23:42.328Z"
   },
   {
    "duration": 43,
    "start_time": "2024-12-07T12:23:42.358Z"
   },
   {
    "duration": 120,
    "start_time": "2024-12-07T12:23:42.403Z"
   },
   {
    "duration": 40,
    "start_time": "2024-12-07T12:23:42.525Z"
   },
   {
    "duration": 92545,
    "start_time": "2024-12-07T12:23:42.567Z"
   },
   {
    "duration": 40,
    "start_time": "2024-12-07T12:25:15.114Z"
   },
   {
    "duration": 14,
    "start_time": "2024-12-07T12:25:15.156Z"
   },
   {
    "duration": 50,
    "start_time": "2024-12-07T12:25:15.172Z"
   },
   {
    "duration": 15,
    "start_time": "2024-12-07T12:25:15.224Z"
   },
   {
    "duration": 146,
    "start_time": "2024-12-07T12:25:15.241Z"
   },
   {
    "duration": 4,
    "start_time": "2024-12-07T12:25:15.389Z"
   },
   {
    "duration": 8106,
    "start_time": "2024-12-07T12:25:15.395Z"
   },
   {
    "duration": 7,
    "start_time": "2024-12-07T12:25:23.503Z"
   },
   {
    "duration": 42340,
    "start_time": "2024-12-07T12:25:23.512Z"
   },
   {
    "duration": 123613,
    "start_time": "2024-12-07T12:26:05.854Z"
   },
   {
    "duration": 54581,
    "start_time": "2024-12-07T12:28:09.470Z"
   },
   {
    "duration": 43,
    "start_time": "2024-12-07T12:29:04.053Z"
   },
   {
    "duration": 3,
    "start_time": "2024-12-07T12:29:04.098Z"
   },
   {
    "duration": 159061,
    "start_time": "2024-12-07T12:29:04.103Z"
   },
   {
    "duration": 113,
    "start_time": "2024-12-07T12:31:43.251Z"
   },
   {
    "duration": 10,
    "start_time": "2024-12-07T12:31:43.366Z"
   },
   {
    "duration": 7,
    "start_time": "2024-12-07T12:31:43.377Z"
   },
   {
    "duration": 17,
    "start_time": "2024-12-07T12:31:43.386Z"
   },
   {
    "duration": 5,
    "start_time": "2024-12-07T12:31:43.404Z"
   },
   {
    "duration": 401199,
    "start_time": "2024-12-07T12:31:43.413Z"
   },
   {
    "duration": 1781840,
    "start_time": "2024-12-07T12:38:24.614Z"
   },
   {
    "duration": 327983,
    "start_time": "2024-12-07T13:08:06.455Z"
   },
   {
    "duration": 5579,
    "start_time": "2024-12-07T13:13:34.450Z"
   },
   {
    "duration": 51927,
    "start_time": "2024-12-07T13:13:40.031Z"
   },
   {
    "duration": 120490,
    "start_time": "2024-12-07T13:14:31.960Z"
   },
   {
    "duration": 331029,
    "start_time": "2024-12-07T13:16:32.452Z"
   },
   {
    "duration": 11,
    "start_time": "2024-12-07T13:22:03.483Z"
   },
   {
    "duration": 11,
    "start_time": "2024-12-07T13:22:49.815Z"
   },
   {
    "duration": 113974,
    "start_time": "2024-12-07T13:23:47.079Z"
   },
   {
    "duration": 11,
    "start_time": "2024-12-07T13:25:53.439Z"
   },
   {
    "duration": 233264,
    "start_time": "2024-12-07T13:26:02.095Z"
   },
   {
    "duration": 10,
    "start_time": "2024-12-07T13:32:08.098Z"
   },
   {
    "duration": 5,
    "start_time": "2024-12-07T13:32:37.281Z"
   },
   {
    "duration": 689131,
    "start_time": "2024-12-07T13:35:56.772Z"
   },
   {
    "duration": 12,
    "start_time": "2024-12-07T13:48:27.091Z"
   },
   {
    "duration": 3224,
    "start_time": "2024-12-08T11:09:25.464Z"
   },
   {
    "duration": 3929,
    "start_time": "2024-12-08T11:09:28.690Z"
   },
   {
    "duration": 10,
    "start_time": "2024-12-08T11:09:32.621Z"
   },
   {
    "duration": 15,
    "start_time": "2024-12-08T11:09:32.633Z"
   },
   {
    "duration": 42,
    "start_time": "2024-12-08T11:09:32.650Z"
   },
   {
    "duration": 113,
    "start_time": "2024-12-08T11:09:32.693Z"
   },
   {
    "duration": 30,
    "start_time": "2024-12-08T11:09:32.807Z"
   },
   {
    "duration": 81577,
    "start_time": "2024-12-08T11:09:32.838Z"
   },
   {
    "duration": 26,
    "start_time": "2024-12-08T11:10:54.417Z"
   },
   {
    "duration": 12,
    "start_time": "2024-12-08T11:10:54.446Z"
   },
   {
    "duration": 39,
    "start_time": "2024-12-08T11:10:54.460Z"
   },
   {
    "duration": 13,
    "start_time": "2024-12-08T11:10:54.500Z"
   },
   {
    "duration": 141,
    "start_time": "2024-12-08T11:10:54.515Z"
   },
   {
    "duration": 3,
    "start_time": "2024-12-08T11:10:54.657Z"
   },
   {
    "duration": 7557,
    "start_time": "2024-12-08T11:10:54.661Z"
   },
   {
    "duration": 6,
    "start_time": "2024-12-08T11:11:02.220Z"
   },
   {
    "duration": 35667,
    "start_time": "2024-12-08T11:11:02.229Z"
   },
   {
    "duration": 115908,
    "start_time": "2024-12-08T11:11:37.897Z"
   },
   {
    "duration": 52989,
    "start_time": "2024-12-08T11:13:33.806Z"
   },
   {
    "duration": 36,
    "start_time": "2024-12-08T11:14:26.796Z"
   },
   {
    "duration": 3,
    "start_time": "2024-12-08T11:14:26.833Z"
   },
   {
    "duration": 144665,
    "start_time": "2024-12-08T11:14:26.837Z"
   },
   {
    "duration": 100,
    "start_time": "2024-12-08T11:16:51.505Z"
   },
   {
    "duration": 17,
    "start_time": "2024-12-08T11:16:51.607Z"
   },
   {
    "duration": 6,
    "start_time": "2024-12-08T11:16:51.625Z"
   },
   {
    "duration": 34,
    "start_time": "2024-12-08T11:16:51.632Z"
   },
   {
    "duration": 10,
    "start_time": "2024-12-08T11:16:51.668Z"
   },
   {
    "duration": 315161,
    "start_time": "2024-12-08T11:16:51.681Z"
   },
   {
    "duration": 1571167,
    "start_time": "2024-12-08T11:22:06.844Z"
   },
   {
    "duration": 299243,
    "start_time": "2024-12-08T11:48:18.012Z"
   },
   {
    "duration": 5118,
    "start_time": "2024-12-08T11:53:17.256Z"
   },
   {
    "duration": 20,
    "start_time": "2024-12-08T11:53:22.376Z"
   },
   {
    "duration": 16,
    "start_time": "2024-12-08T11:53:22.397Z"
   },
   {
    "duration": 5074,
    "start_time": "2024-12-08T11:53:22.414Z"
   },
   {
    "duration": 10,
    "start_time": "2024-12-08T11:53:27.491Z"
   },
   {
    "duration": 18,
    "start_time": "2024-12-08T13:16:05.913Z"
   },
   {
    "duration": 18,
    "start_time": "2024-12-08T13:16:06.810Z"
   },
   {
    "duration": 5097,
    "start_time": "2024-12-08T13:16:07.265Z"
   },
   {
    "duration": 8,
    "start_time": "2024-12-08T13:16:12.364Z"
   },
   {
    "duration": 238,
    "start_time": "2024-12-08T13:20:33.306Z"
   },
   {
    "duration": 87,
    "start_time": "2024-12-08T13:20:43.058Z"
   },
   {
    "duration": 22918,
    "start_time": "2024-12-08T13:21:16.554Z"
   },
   {
    "duration": 40548,
    "start_time": "2024-12-08T13:22:17.634Z"
   },
   {
    "duration": 8212,
    "start_time": "2024-12-08T13:23:41.794Z"
   },
   {
    "duration": 16,
    "start_time": "2024-12-08T13:24:01.139Z"
   },
   {
    "duration": 9,
    "start_time": "2024-12-08T13:24:04.338Z"
   },
   {
    "duration": 26,
    "start_time": "2024-12-08T14:02:08.792Z"
   },
   {
    "duration": 3,
    "start_time": "2024-12-08T14:05:07.080Z"
   },
   {
    "duration": 152602,
    "start_time": "2024-12-08T14:05:11.241Z"
   },
   {
    "duration": 3,
    "start_time": "2024-12-08T14:07:48.506Z"
   },
   {
    "duration": 54,
    "start_time": "2024-12-08T14:08:05.530Z"
   },
   {
    "duration": 6,
    "start_time": "2024-12-08T14:08:37.874Z"
   },
   {
    "duration": 2902,
    "start_time": "2024-12-08T14:10:16.582Z"
   },
   {
    "duration": 3871,
    "start_time": "2024-12-08T14:10:19.486Z"
   },
   {
    "duration": 10,
    "start_time": "2024-12-08T14:10:23.359Z"
   },
   {
    "duration": 14,
    "start_time": "2024-12-08T14:10:23.371Z"
   },
   {
    "duration": 37,
    "start_time": "2024-12-08T14:10:23.386Z"
   },
   {
    "duration": 106,
    "start_time": "2024-12-08T14:10:23.425Z"
   },
   {
    "duration": 29,
    "start_time": "2024-12-08T14:10:23.533Z"
   },
   {
    "duration": 86985,
    "start_time": "2024-12-08T14:10:23.563Z"
   },
   {
    "duration": 26,
    "start_time": "2024-12-08T14:11:50.550Z"
   },
   {
    "duration": 14,
    "start_time": "2024-12-08T14:11:50.579Z"
   },
   {
    "duration": 65,
    "start_time": "2024-12-08T14:11:50.595Z"
   },
   {
    "duration": 21,
    "start_time": "2024-12-08T14:11:50.662Z"
   },
   {
    "duration": 148,
    "start_time": "2024-12-08T14:11:50.686Z"
   },
   {
    "duration": 2,
    "start_time": "2024-12-08T14:11:50.836Z"
   },
   {
    "duration": 7579,
    "start_time": "2024-12-08T14:11:50.840Z"
   },
   {
    "duration": 6,
    "start_time": "2024-12-08T14:11:58.420Z"
   },
   {
    "duration": 21624,
    "start_time": "2024-12-08T14:11:58.428Z"
   },
   {
    "duration": 44943,
    "start_time": "2024-12-08T14:12:20.053Z"
   },
   {
    "duration": 8696,
    "start_time": "2024-12-08T14:13:04.997Z"
   },
   {
    "duration": 34,
    "start_time": "2024-12-08T14:13:13.695Z"
   },
   {
    "duration": 3,
    "start_time": "2024-12-08T14:13:13.730Z"
   },
   {
    "duration": 2733,
    "start_time": "2024-12-08T14:29:52.407Z"
   },
   {
    "duration": 3823,
    "start_time": "2024-12-08T14:29:55.142Z"
   },
   {
    "duration": 10,
    "start_time": "2024-12-08T14:29:58.968Z"
   },
   {
    "duration": 13,
    "start_time": "2024-12-08T14:29:58.980Z"
   },
   {
    "duration": 31,
    "start_time": "2024-12-08T14:29:58.994Z"
   },
   {
    "duration": 108,
    "start_time": "2024-12-08T14:29:59.027Z"
   },
   {
    "duration": 28,
    "start_time": "2024-12-08T14:29:59.136Z"
   },
   {
    "duration": 82806,
    "start_time": "2024-12-08T14:29:59.165Z"
   },
   {
    "duration": 34,
    "start_time": "2024-12-08T14:31:21.972Z"
   },
   {
    "duration": 10,
    "start_time": "2024-12-08T14:31:22.007Z"
   },
   {
    "duration": 33,
    "start_time": "2024-12-08T14:31:22.018Z"
   },
   {
    "duration": 14,
    "start_time": "2024-12-08T14:31:22.053Z"
   },
   {
    "duration": 246,
    "start_time": "2024-12-08T14:31:22.070Z"
   },
   {
    "duration": 3,
    "start_time": "2024-12-08T14:31:22.318Z"
   },
   {
    "duration": 7563,
    "start_time": "2024-12-08T14:31:22.322Z"
   },
   {
    "duration": 6,
    "start_time": "2024-12-08T14:31:29.891Z"
   },
   {
    "duration": 23284,
    "start_time": "2024-12-08T14:31:29.898Z"
   },
   {
    "duration": 43121,
    "start_time": "2024-12-08T14:31:53.183Z"
   },
   {
    "duration": 7939,
    "start_time": "2024-12-08T14:32:36.306Z"
   },
   {
    "duration": 47,
    "start_time": "2024-12-08T14:32:44.247Z"
   },
   {
    "duration": 3,
    "start_time": "2024-12-08T14:32:44.296Z"
   },
   {
    "duration": 2782,
    "start_time": "2024-12-08T14:38:12.522Z"
   },
   {
    "duration": 3860,
    "start_time": "2024-12-08T14:38:15.306Z"
   },
   {
    "duration": 11,
    "start_time": "2024-12-08T14:38:19.168Z"
   },
   {
    "duration": 13,
    "start_time": "2024-12-08T14:38:19.180Z"
   },
   {
    "duration": 34,
    "start_time": "2024-12-08T14:38:19.195Z"
   },
   {
    "duration": 118,
    "start_time": "2024-12-08T14:38:19.230Z"
   },
   {
    "duration": 31,
    "start_time": "2024-12-08T14:38:19.349Z"
   },
   {
    "duration": 88208,
    "start_time": "2024-12-08T14:38:19.392Z"
   },
   {
    "duration": 24,
    "start_time": "2024-12-08T14:39:47.602Z"
   },
   {
    "duration": 3,
    "start_time": "2024-12-08T14:39:47.629Z"
   },
   {
    "duration": 50,
    "start_time": "2024-12-08T14:39:47.633Z"
   },
   {
    "duration": 16,
    "start_time": "2024-12-08T14:39:47.685Z"
   },
   {
    "duration": 155,
    "start_time": "2024-12-08T14:39:47.703Z"
   },
   {
    "duration": 3,
    "start_time": "2024-12-08T14:39:47.860Z"
   },
   {
    "duration": 7859,
    "start_time": "2024-12-08T14:39:47.865Z"
   },
   {
    "duration": 5,
    "start_time": "2024-12-08T14:39:55.726Z"
   },
   {
    "duration": 22734,
    "start_time": "2024-12-08T14:39:55.732Z"
   },
   {
    "duration": 45906,
    "start_time": "2024-12-08T14:40:18.467Z"
   },
   {
    "duration": 8252,
    "start_time": "2024-12-08T14:41:04.375Z"
   },
   {
    "duration": 32,
    "start_time": "2024-12-08T14:41:12.629Z"
   },
   {
    "duration": 3,
    "start_time": "2024-12-08T14:41:12.662Z"
   },
   {
    "duration": 174032,
    "start_time": "2024-12-08T14:41:12.667Z"
   },
   {
    "duration": 197,
    "start_time": "2024-12-08T14:44:06.701Z"
   },
   {
    "duration": 9,
    "start_time": "2024-12-08T14:44:06.900Z"
   },
   {
    "duration": 6,
    "start_time": "2024-12-08T14:44:06.911Z"
   },
   {
    "duration": 21,
    "start_time": "2024-12-08T14:44:06.918Z"
   },
   {
    "duration": 2,
    "start_time": "2024-12-08T14:44:06.941Z"
   },
   {
    "duration": 1227,
    "start_time": "2024-12-08T14:44:06.946Z"
   },
   {
    "duration": 10347,
    "start_time": "2024-12-08T14:44:08.175Z"
   },
   {
    "duration": 2397,
    "start_time": "2024-12-08T14:44:18.524Z"
   },
   {
    "duration": 500,
    "start_time": "2024-12-08T14:44:20.923Z"
   },
   {
    "duration": 15,
    "start_time": "2024-12-08T14:44:21.425Z"
   },
   {
    "duration": 15,
    "start_time": "2024-12-08T14:44:21.442Z"
   },
   {
    "duration": 510,
    "start_time": "2024-12-08T14:44:21.459Z"
   },
   {
    "duration": 24,
    "start_time": "2024-12-08T14:44:21.971Z"
   },
   {
    "duration": 2719,
    "start_time": "2024-12-08T14:53:40.958Z"
   },
   {
    "duration": 901,
    "start_time": "2024-12-08T14:53:43.679Z"
   },
   {
    "duration": 15,
    "start_time": "2024-12-08T14:53:44.581Z"
   },
   {
    "duration": 28,
    "start_time": "2024-12-08T14:53:44.598Z"
   },
   {
    "duration": 30,
    "start_time": "2024-12-08T14:53:44.628Z"
   },
   {
    "duration": 113,
    "start_time": "2024-12-08T14:53:44.660Z"
   },
   {
    "duration": 41,
    "start_time": "2024-12-08T14:53:44.774Z"
   },
   {
    "duration": 89023,
    "start_time": "2024-12-08T14:53:44.817Z"
   },
   {
    "duration": 27,
    "start_time": "2024-12-08T14:55:13.842Z"
   },
   {
    "duration": 21,
    "start_time": "2024-12-08T14:55:13.872Z"
   },
   {
    "duration": 55,
    "start_time": "2024-12-08T14:55:13.895Z"
   },
   {
    "duration": 14,
    "start_time": "2024-12-08T14:55:13.952Z"
   },
   {
    "duration": 251,
    "start_time": "2024-12-08T14:55:13.968Z"
   },
   {
    "duration": 3,
    "start_time": "2024-12-08T14:55:14.221Z"
   },
   {
    "duration": 7710,
    "start_time": "2024-12-08T14:55:14.226Z"
   },
   {
    "duration": 8,
    "start_time": "2024-12-08T14:55:21.937Z"
   },
   {
    "duration": 25725,
    "start_time": "2024-12-08T14:55:21.947Z"
   },
   {
    "duration": 44006,
    "start_time": "2024-12-08T14:55:47.673Z"
   },
   {
    "duration": 8846,
    "start_time": "2024-12-08T14:56:31.691Z"
   },
   {
    "duration": 34,
    "start_time": "2024-12-08T14:56:40.539Z"
   },
   {
    "duration": 17,
    "start_time": "2024-12-08T14:56:40.575Z"
   },
   {
    "duration": 176006,
    "start_time": "2024-12-08T14:56:40.594Z"
   },
   {
    "duration": 111,
    "start_time": "2024-12-08T14:59:36.696Z"
   },
   {
    "duration": 10,
    "start_time": "2024-12-08T14:59:36.809Z"
   },
   {
    "duration": 11,
    "start_time": "2024-12-08T14:59:36.820Z"
   },
   {
    "duration": 14,
    "start_time": "2024-12-08T14:59:36.833Z"
   },
   {
    "duration": 6,
    "start_time": "2024-12-08T14:59:36.849Z"
   },
   {
    "duration": 340680,
    "start_time": "2024-12-08T14:59:36.859Z"
   },
   {
    "duration": 1780441,
    "start_time": "2024-12-08T15:05:17.541Z"
   },
   {
    "duration": 330168,
    "start_time": "2024-12-08T15:34:57.983Z"
   },
   {
    "duration": 5579,
    "start_time": "2024-12-08T15:40:28.153Z"
   },
   {
    "duration": 16,
    "start_time": "2024-12-08T15:40:33.733Z"
   },
   {
    "duration": 17,
    "start_time": "2024-12-08T15:40:33.751Z"
   },
   {
    "duration": 5731,
    "start_time": "2024-12-08T15:40:33.770Z"
   },
   {
    "duration": 21,
    "start_time": "2024-12-08T15:40:39.503Z"
   },
   {
    "duration": 11,
    "start_time": "2024-12-08T15:58:48.628Z"
   },
   {
    "duration": 18,
    "start_time": "2024-12-08T15:59:33.756Z"
   },
   {
    "duration": 6,
    "start_time": "2024-12-08T15:59:36.524Z"
   }
  ],
  "kernelspec": {
   "display_name": "Python 3 (ipykernel)",
   "language": "python",
   "name": "python3"
  },
  "language_info": {
   "codemirror_mode": {
    "name": "ipython",
    "version": 3
   },
   "file_extension": ".py",
   "mimetype": "text/x-python",
   "name": "python",
   "nbconvert_exporter": "python",
   "pygments_lexer": "ipython3",
   "version": "3.9.5"
  },
  "toc": {
   "base_numbering": 1,
   "nav_menu": {},
   "number_sections": true,
   "sideBar": true,
   "skip_h1_title": true,
   "title_cell": "Содержание",
   "title_sidebar": "Contents",
   "toc_cell": true,
   "toc_position": {
    "height": "calc(100% - 180px)",
    "left": "10px",
    "top": "150px",
    "width": "302.391px"
   },
   "toc_section_display": true,
   "toc_window_display": false
  }
 },
 "nbformat": 4,
 "nbformat_minor": 2
}
