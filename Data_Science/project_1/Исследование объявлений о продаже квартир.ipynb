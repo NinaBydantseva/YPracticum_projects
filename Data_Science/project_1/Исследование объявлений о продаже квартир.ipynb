{
 "cells": [
  {
   "cell_type": "markdown",
   "metadata": {
    "id": "-VFbjcb3Awb7"
   },
   "source": [
    "# Исследование объявлений о продаже квартир\n",
    "\n",
    "Задача: научиться определять рыночную стоимость объектов недвижимости на основе архива объявлений о продаже квартир в Санкт-Петербурге и соседних населённых пунктах за несколько лет.\n",
    "Необходимо провести исследовательский анализ данных и установить параметры, влияющие на цену объектов. Это позволит построить автоматизированную систему: она отследит аномалии и мошенническую деятельность.\n",
    "\n",
    "Исходные данные: Архив объявлений о продаже квартир в Санкт-Петербурге и соседних населённых пунктах за несколько лет. По каждой квартире на продажу доступны два вида данных. Первые вписаны пользователем, вторые — получены автоматически на основе картографических данных. Например, расстояние до центра, аэропорта и других объектов — эти данные автоматически получены из геосервисов. Количество парков и водоёмов также заполняется без участия пользователя."
   ]
  },
  {
   "cell_type": "markdown",
   "metadata": {
    "id": "aeFLH07FAwb9"
   },
   "source": [
    "### Загружаем файл с исходными данными и изучаем общую информацию"
   ]
  },
  {
   "cell_type": "markdown",
   "metadata": {},
   "source": [
    "Импортируем библиотеку pandas, открываем csv с разделителем '\\t'.\n",
    "Выводим первые 5 строк датафрейма.\n",
    "Выводим общую информацию о датафрейме."
   ]
  },
  {
   "cell_type": "code",
   "execution_count": 1,
   "metadata": {},
   "outputs": [],
   "source": [
    "import pandas as pd\n",
    "import matplotlib.pyplot as plt"
   ]
  },
  {
   "cell_type": "code",
   "execution_count": 2,
   "metadata": {
    "id": "7MZxY65pAwb9"
   },
   "outputs": [
    {
     "data": {
      "text/html": [
       "<div>\n",
       "<style scoped>\n",
       "    .dataframe tbody tr th:only-of-type {\n",
       "        vertical-align: middle;\n",
       "    }\n",
       "\n",
       "    .dataframe tbody tr th {\n",
       "        vertical-align: top;\n",
       "    }\n",
       "\n",
       "    .dataframe thead th {\n",
       "        text-align: right;\n",
       "    }\n",
       "</style>\n",
       "<table border=\"1\" class=\"dataframe\">\n",
       "  <thead>\n",
       "    <tr style=\"text-align: right;\">\n",
       "      <th></th>\n",
       "      <th>total_images</th>\n",
       "      <th>last_price</th>\n",
       "      <th>total_area</th>\n",
       "      <th>first_day_exposition</th>\n",
       "      <th>rooms</th>\n",
       "      <th>ceiling_height</th>\n",
       "      <th>floors_total</th>\n",
       "      <th>living_area</th>\n",
       "      <th>floor</th>\n",
       "      <th>is_apartment</th>\n",
       "      <th>...</th>\n",
       "      <th>kitchen_area</th>\n",
       "      <th>balcony</th>\n",
       "      <th>locality_name</th>\n",
       "      <th>airports_nearest</th>\n",
       "      <th>cityCenters_nearest</th>\n",
       "      <th>parks_around3000</th>\n",
       "      <th>parks_nearest</th>\n",
       "      <th>ponds_around3000</th>\n",
       "      <th>ponds_nearest</th>\n",
       "      <th>days_exposition</th>\n",
       "    </tr>\n",
       "  </thead>\n",
       "  <tbody>\n",
       "    <tr>\n",
       "      <th>0</th>\n",
       "      <td>20</td>\n",
       "      <td>13000000.0</td>\n",
       "      <td>108.0</td>\n",
       "      <td>2019-03-07T00:00:00</td>\n",
       "      <td>3</td>\n",
       "      <td>2.70</td>\n",
       "      <td>16.0</td>\n",
       "      <td>51.0</td>\n",
       "      <td>8</td>\n",
       "      <td>NaN</td>\n",
       "      <td>...</td>\n",
       "      <td>25.0</td>\n",
       "      <td>NaN</td>\n",
       "      <td>Санкт-Петербург</td>\n",
       "      <td>18863.0</td>\n",
       "      <td>16028.0</td>\n",
       "      <td>1.0</td>\n",
       "      <td>482.0</td>\n",
       "      <td>2.0</td>\n",
       "      <td>755.0</td>\n",
       "      <td>NaN</td>\n",
       "    </tr>\n",
       "    <tr>\n",
       "      <th>1</th>\n",
       "      <td>7</td>\n",
       "      <td>3350000.0</td>\n",
       "      <td>40.4</td>\n",
       "      <td>2018-12-04T00:00:00</td>\n",
       "      <td>1</td>\n",
       "      <td>NaN</td>\n",
       "      <td>11.0</td>\n",
       "      <td>18.6</td>\n",
       "      <td>1</td>\n",
       "      <td>NaN</td>\n",
       "      <td>...</td>\n",
       "      <td>11.0</td>\n",
       "      <td>2.0</td>\n",
       "      <td>посёлок Шушары</td>\n",
       "      <td>12817.0</td>\n",
       "      <td>18603.0</td>\n",
       "      <td>0.0</td>\n",
       "      <td>NaN</td>\n",
       "      <td>0.0</td>\n",
       "      <td>NaN</td>\n",
       "      <td>81.0</td>\n",
       "    </tr>\n",
       "    <tr>\n",
       "      <th>2</th>\n",
       "      <td>10</td>\n",
       "      <td>5196000.0</td>\n",
       "      <td>56.0</td>\n",
       "      <td>2015-08-20T00:00:00</td>\n",
       "      <td>2</td>\n",
       "      <td>NaN</td>\n",
       "      <td>5.0</td>\n",
       "      <td>34.3</td>\n",
       "      <td>4</td>\n",
       "      <td>NaN</td>\n",
       "      <td>...</td>\n",
       "      <td>8.3</td>\n",
       "      <td>0.0</td>\n",
       "      <td>Санкт-Петербург</td>\n",
       "      <td>21741.0</td>\n",
       "      <td>13933.0</td>\n",
       "      <td>1.0</td>\n",
       "      <td>90.0</td>\n",
       "      <td>2.0</td>\n",
       "      <td>574.0</td>\n",
       "      <td>558.0</td>\n",
       "    </tr>\n",
       "    <tr>\n",
       "      <th>3</th>\n",
       "      <td>0</td>\n",
       "      <td>64900000.0</td>\n",
       "      <td>159.0</td>\n",
       "      <td>2015-07-24T00:00:00</td>\n",
       "      <td>3</td>\n",
       "      <td>NaN</td>\n",
       "      <td>14.0</td>\n",
       "      <td>NaN</td>\n",
       "      <td>9</td>\n",
       "      <td>NaN</td>\n",
       "      <td>...</td>\n",
       "      <td>NaN</td>\n",
       "      <td>0.0</td>\n",
       "      <td>Санкт-Петербург</td>\n",
       "      <td>28098.0</td>\n",
       "      <td>6800.0</td>\n",
       "      <td>2.0</td>\n",
       "      <td>84.0</td>\n",
       "      <td>3.0</td>\n",
       "      <td>234.0</td>\n",
       "      <td>424.0</td>\n",
       "    </tr>\n",
       "    <tr>\n",
       "      <th>4</th>\n",
       "      <td>2</td>\n",
       "      <td>10000000.0</td>\n",
       "      <td>100.0</td>\n",
       "      <td>2018-06-19T00:00:00</td>\n",
       "      <td>2</td>\n",
       "      <td>3.03</td>\n",
       "      <td>14.0</td>\n",
       "      <td>32.0</td>\n",
       "      <td>13</td>\n",
       "      <td>NaN</td>\n",
       "      <td>...</td>\n",
       "      <td>41.0</td>\n",
       "      <td>NaN</td>\n",
       "      <td>Санкт-Петербург</td>\n",
       "      <td>31856.0</td>\n",
       "      <td>8098.0</td>\n",
       "      <td>2.0</td>\n",
       "      <td>112.0</td>\n",
       "      <td>1.0</td>\n",
       "      <td>48.0</td>\n",
       "      <td>121.0</td>\n",
       "    </tr>\n",
       "  </tbody>\n",
       "</table>\n",
       "<p>5 rows × 22 columns</p>\n",
       "</div>"
      ],
      "text/plain": [
       "   total_images  last_price  total_area first_day_exposition  rooms  \\\n",
       "0            20  13000000.0       108.0  2019-03-07T00:00:00      3   \n",
       "1             7   3350000.0        40.4  2018-12-04T00:00:00      1   \n",
       "2            10   5196000.0        56.0  2015-08-20T00:00:00      2   \n",
       "3             0  64900000.0       159.0  2015-07-24T00:00:00      3   \n",
       "4             2  10000000.0       100.0  2018-06-19T00:00:00      2   \n",
       "\n",
       "   ceiling_height  floors_total  living_area  floor is_apartment  ...  \\\n",
       "0            2.70          16.0         51.0      8          NaN  ...   \n",
       "1             NaN          11.0         18.6      1          NaN  ...   \n",
       "2             NaN           5.0         34.3      4          NaN  ...   \n",
       "3             NaN          14.0          NaN      9          NaN  ...   \n",
       "4            3.03          14.0         32.0     13          NaN  ...   \n",
       "\n",
       "   kitchen_area  balcony    locality_name  airports_nearest  \\\n",
       "0          25.0      NaN  Санкт-Петербург           18863.0   \n",
       "1          11.0      2.0   посёлок Шушары           12817.0   \n",
       "2           8.3      0.0  Санкт-Петербург           21741.0   \n",
       "3           NaN      0.0  Санкт-Петербург           28098.0   \n",
       "4          41.0      NaN  Санкт-Петербург           31856.0   \n",
       "\n",
       "  cityCenters_nearest  parks_around3000  parks_nearest  ponds_around3000  \\\n",
       "0             16028.0               1.0          482.0               2.0   \n",
       "1             18603.0               0.0            NaN               0.0   \n",
       "2             13933.0               1.0           90.0               2.0   \n",
       "3              6800.0               2.0           84.0               3.0   \n",
       "4              8098.0               2.0          112.0               1.0   \n",
       "\n",
       "   ponds_nearest  days_exposition  \n",
       "0          755.0              NaN  \n",
       "1            NaN             81.0  \n",
       "2          574.0            558.0  \n",
       "3          234.0            424.0  \n",
       "4           48.0            121.0  \n",
       "\n",
       "[5 rows x 22 columns]"
      ]
     },
     "metadata": {},
     "output_type": "display_data"
    },
    {
     "name": "stdout",
     "output_type": "stream",
     "text": [
      "<class 'pandas.core.frame.DataFrame'>\n",
      "RangeIndex: 23699 entries, 0 to 23698\n",
      "Data columns (total 22 columns):\n",
      " #   Column                Non-Null Count  Dtype  \n",
      "---  ------                --------------  -----  \n",
      " 0   total_images          23699 non-null  int64  \n",
      " 1   last_price            23699 non-null  float64\n",
      " 2   total_area            23699 non-null  float64\n",
      " 3   first_day_exposition  23699 non-null  object \n",
      " 4   rooms                 23699 non-null  int64  \n",
      " 5   ceiling_height        14504 non-null  float64\n",
      " 6   floors_total          23613 non-null  float64\n",
      " 7   living_area           21796 non-null  float64\n",
      " 8   floor                 23699 non-null  int64  \n",
      " 9   is_apartment          2775 non-null   object \n",
      " 10  studio                23699 non-null  bool   \n",
      " 11  open_plan             23699 non-null  bool   \n",
      " 12  kitchen_area          21421 non-null  float64\n",
      " 13  balcony               12180 non-null  float64\n",
      " 14  locality_name         23650 non-null  object \n",
      " 15  airports_nearest      18157 non-null  float64\n",
      " 16  cityCenters_nearest   18180 non-null  float64\n",
      " 17  parks_around3000      18181 non-null  float64\n",
      " 18  parks_nearest         8079 non-null   float64\n",
      " 19  ponds_around3000      18181 non-null  float64\n",
      " 20  ponds_nearest         9110 non-null   float64\n",
      " 21  days_exposition       20518 non-null  float64\n",
      "dtypes: bool(2), float64(14), int64(3), object(3)\n",
      "memory usage: 3.7+ MB\n"
     ]
    }
   ],
   "source": [
    "df=pd.read_csv('/datasets/real_estate_data.csv', sep='\\t')\n",
    "display(df.head())\n",
    "df.info()"
   ]
  },
  {
   "cell_type": "markdown",
   "metadata": {},
   "source": [
    "Из вывода датасета видим, что есть незаполненные поля:\n",
    "- ceiling_height, floors_total, living_area, is_apartment, kitchen_area, balkony, locality_name, airports_nearest,\n",
    "- cityCenters_nearest, parks_around3000, parks_nearest, ponds_around3000, ponds_nearest, days_exposition"
   ]
  },
  {
   "cell_type": "markdown",
   "metadata": {},
   "source": [
    "Строим гистограмму для всех числовых полей и смотрим на распределение величин"
   ]
  },
  {
   "cell_type": "code",
   "execution_count": 3,
   "metadata": {},
   "outputs": [
    {
     "data": {
      "image/png": "[encoded data removed]",
      "text/plain": [
       "<Figure size 1080x1440 with 20 Axes>"
      ]
     },
     "metadata": {
      "needs_background": "light"
     },
     "output_type": "display_data"
    }
   ],
   "source": [
    "df.hist(figsize=(15, 20));"
   ]
  },
  {
   "cell_type": "markdown",
   "metadata": {
    "id": "-O5NtivEAwb9"
   },
   "source": [
    "### Выполняем предобработку данных"
   ]
  },
  {
   "cell_type": "markdown",
   "metadata": {
    "id": "7v3vAeTuAwb-"
   },
   "source": [
    "Определяем столбцы с пропусками:"
   ]
  },
  {
   "cell_type": "code",
   "execution_count": 4,
   "metadata": {},
   "outputs": [
    {
     "name": "stdout",
     "output_type": "stream",
     "text": [
      "total_images                0\n",
      "last_price                  0\n",
      "total_area                  0\n",
      "first_day_exposition        0\n",
      "rooms                       0\n",
      "ceiling_height           9195\n",
      "floors_total               86\n",
      "living_area              1903\n",
      "floor                       0\n",
      "is_apartment            20924\n",
      "studio                      0\n",
      "open_plan                   0\n",
      "kitchen_area             2278\n",
      "balcony                 11519\n",
      "locality_name              49\n",
      "airports_nearest         5542\n",
      "cityCenters_nearest      5519\n",
      "parks_around3000         5518\n",
      "parks_nearest           15620\n",
      "ponds_around3000         5518\n",
      "ponds_nearest           14589\n",
      "days_exposition          3181\n",
      "dtype: int64\n"
     ]
    }
   ],
   "source": [
    "print(df.isna().sum())"
   ]
  },
  {
   "cell_type": "markdown",
   "metadata": {},
   "source": [
    "Пропуски обнаружились в следующих столбцах:\n",
    "- ceiling_height, living_area, kitchen_area: возможно, значения этих показателей не очень привлекательны (маленькие), поэтому владельцы решили не отпугивать клиентов сразу, а дождаться первых звонков для уточнения данных. Также возможен вариант, что многие просто не знают этих величин или лениво было найти/запросить документы БТИ.\n",
    "- is_apartment: скорее всего, люди не стали заполнять это поле, потому что продают не апартаменты.\n",
    "- floors_total: отсутствующих значений мало, так что предположим, что забыли указать. Заполним этот параметр значением из поля floor, потому что дом уж точно этажностью не ниже этажа продаваемой квартиры.\n",
    "- balcony: возможно, люди решили, что заполнять поля по отсутствующим объектам необязательно (можно с ними согласиться).\n",
    "- airports_nearest,cityCenters_nearest,parks_around3000,parks_nearest,ponds_around3000,ponds_nearest: это вычисляемые с помощью геосервисов параметры. Возможно, их просто забыли вычислить.\n",
    "- days_exposition: отсутствует дата размещения объявления, так как объявление еще не снято с публикации.\n",
    "- locality_name: думаю, что большинство таких квартир находятся в Санкт-Петербурге, поэтому люди не стали заполнять. Удалим эти значения.\n",
    "- airports_nearest,cityCenters_nearest,parks_around3000,parks_nearest,ponds_around3000,ponds_nearest - поля, которые заполнялись на основе анализа картографических данных, оставим их без изменений.\n",
    "\n",
    "Заменяем пропущенные значения в следующих столбцах:\n",
    "- balcony - меняем на 0,\n",
    "- is_apartment - меняем на 0 (не апартаменты).\n",
    "\n",
    "Высоту потолков и площадь кухни заполним медианными значениями.\n",
    "\n",
    "Для заполнения жилой площади вычислим медианное значение, сколько она в % составляет от общей площади квартиры.\n",
    "\n",
    "Удаляем строки с пустыми значениями в поле locality_name."
   ]
  },
  {
   "cell_type": "code",
   "execution_count": 5,
   "metadata": {},
   "outputs": [
    {
     "data": {
      "text/plain": [
       "total_images                0\n",
       "last_price                  0\n",
       "total_area                  0\n",
       "first_day_exposition        0\n",
       "rooms                       0\n",
       "ceiling_height              0\n",
       "floors_total                0\n",
       "living_area                 0\n",
       "floor                       0\n",
       "is_apartment                0\n",
       "studio                      0\n",
       "open_plan                   0\n",
       "kitchen_area                0\n",
       "balcony                     0\n",
       "locality_name               0\n",
       "airports_nearest         5534\n",
       "cityCenters_nearest      5511\n",
       "parks_around3000         5510\n",
       "parks_nearest           15586\n",
       "ponds_around3000         5510\n",
       "ponds_nearest           14565\n",
       "days_exposition          3180\n",
       "dtype: int64"
      ]
     },
     "metadata": {},
     "output_type": "display_data"
    }
   ],
   "source": [
    "df['balcony']=df['balcony'].fillna(0)\n",
    "df['floors_total']=df['floors_total'].fillna(df['floor'])\n",
    "df['is_apartment']=df['is_apartment'].fillna(0)\n",
    "df['ceiling_height']=df['ceiling_height'].fillna(df['ceiling_height'].median())\n",
    "df['kitchen_area']=df['kitchen_area'].fillna(df['kitchen_area'].median())\n",
    "df['living_area']=df['living_area'].fillna(df['total_area']*(df['living_area']/df['total_area']).median())\n",
    "df.dropna(axis='index', subset=['locality_name'], inplace=True)\n",
    "display(df.isna().sum())"
   ]
  },
  {
   "cell_type": "markdown",
   "metadata": {},
   "source": [
    "Рассматриваем типы данных в каждом столбце:"
   ]
  },
  {
   "cell_type": "code",
   "execution_count": 6,
   "metadata": {},
   "outputs": [
    {
     "name": "stdout",
     "output_type": "stream",
     "text": [
      "<class 'pandas.core.frame.DataFrame'>\n",
      "Int64Index: 23650 entries, 0 to 23698\n",
      "Data columns (total 22 columns):\n",
      " #   Column                Non-Null Count  Dtype  \n",
      "---  ------                --------------  -----  \n",
      " 0   total_images          23650 non-null  int64  \n",
      " 1   last_price            23650 non-null  float64\n",
      " 2   total_area            23650 non-null  float64\n",
      " 3   first_day_exposition  23650 non-null  object \n",
      " 4   rooms                 23650 non-null  int64  \n",
      " 5   ceiling_height        23650 non-null  float64\n",
      " 6   floors_total          23650 non-null  float64\n",
      " 7   living_area           23650 non-null  float64\n",
      " 8   floor                 23650 non-null  int64  \n",
      " 9   is_apartment          23650 non-null  object \n",
      " 10  studio                23650 non-null  bool   \n",
      " 11  open_plan             23650 non-null  bool   \n",
      " 12  kitchen_area          23650 non-null  float64\n",
      " 13  balcony               23650 non-null  float64\n",
      " 14  locality_name         23650 non-null  object \n",
      " 15  airports_nearest      18116 non-null  float64\n",
      " 16  cityCenters_nearest   18139 non-null  float64\n",
      " 17  parks_around3000      18140 non-null  float64\n",
      " 18  parks_nearest         8064 non-null   float64\n",
      " 19  ponds_around3000      18140 non-null  float64\n",
      " 20  ponds_nearest         9085 non-null   float64\n",
      " 21  days_exposition       20470 non-null  float64\n",
      "dtypes: bool(2), float64(14), int64(3), object(3)\n",
      "memory usage: 3.8+ MB\n"
     ]
    }
   ],
   "source": [
    "df.info()"
   ]
  },
  {
   "cell_type": "markdown",
   "metadata": {},
   "source": [
    "Поля с ошибочными типами данных:\n",
    "- first_day_exposition - дата публикации, д.б. timestamp, для корректного преобразования поля дополнительно проверим формат записи даты и времени,\n",
    "- is_apartment - признак апартаментов, д.б. bool,\n",
    "- floors_total - количество этажей в доме, д.б. int64,\n",
    "- balcony - количество балконов, д.б. int64,\n",
    "- days_exposition - количество дней размещения объявления, д.б. int64.\n",
    "Преобразуем типы данных в выбранных столбцах на указанные и проверяем изменения:"
   ]
  },
  {
   "cell_type": "code",
   "execution_count": 7,
   "metadata": {},
   "outputs": [
    {
     "name": "stdout",
     "output_type": "stream",
     "text": [
      "<class 'pandas.core.frame.DataFrame'>\n",
      "Int64Index: 23650 entries, 0 to 23698\n",
      "Data columns (total 22 columns):\n",
      " #   Column                Non-Null Count  Dtype         \n",
      "---  ------                --------------  -----         \n",
      " 0   total_images          23650 non-null  int64         \n",
      " 1   last_price            23650 non-null  float64       \n",
      " 2   total_area            23650 non-null  float64       \n",
      " 3   first_day_exposition  23650 non-null  datetime64[ns]\n",
      " 4   rooms                 23650 non-null  int64         \n",
      " 5   ceiling_height        23650 non-null  float64       \n",
      " 6   floors_total          23650 non-null  int64         \n",
      " 7   living_area           23650 non-null  float64       \n",
      " 8   floor                 23650 non-null  int64         \n",
      " 9   is_apartment          23650 non-null  bool          \n",
      " 10  studio                23650 non-null  bool          \n",
      " 11  open_plan             23650 non-null  bool          \n",
      " 12  kitchen_area          23650 non-null  float64       \n",
      " 13  balcony               23650 non-null  int64         \n",
      " 14  locality_name         23650 non-null  object        \n",
      " 15  airports_nearest      18116 non-null  float64       \n",
      " 16  cityCenters_nearest   18139 non-null  float64       \n",
      " 17  parks_around3000      18140 non-null  float64       \n",
      " 18  parks_nearest         8064 non-null   float64       \n",
      " 19  ponds_around3000      18140 non-null  float64       \n",
      " 20  ponds_nearest         9085 non-null   float64       \n",
      " 21  days_exposition       20470 non-null  float64       \n",
      "dtypes: bool(3), datetime64[ns](1), float64(12), int64(5), object(1)\n",
      "memory usage: 3.7+ MB\n"
     ]
    }
   ],
   "source": [
    "df[['balcony','floors_total']] = df[['balcony','floors_total']].astype(int)\n",
    "df['first_day_exposition'] = pd.to_datetime(df['first_day_exposition'], format='%Y-%m-%dT%H:%M:%S')\n",
    "df['is_apartment'] = df['is_apartment'].astype(bool)\n",
    "df.info()"
   ]
  },
  {
   "cell_type": "markdown",
   "metadata": {},
   "source": [
    "Проверяем уникальные значения в столбце со строковыми значениями 'locality_name', для этого отсортируем его по алфавиту:"
   ]
  },
  {
   "cell_type": "code",
   "execution_count": 8,
   "metadata": {},
   "outputs": [
    {
     "data": {
      "text/plain": [
       "array(['Бокситогорск', 'Волосово', 'Волхов', 'Всеволожск', 'Выборг',\n",
       "       'Высоцк', 'Гатчина', 'Зеленогорск', 'Ивангород', 'Каменногорск',\n",
       "       'Кингисепп', 'Кириши', 'Кировск', 'Колпино', 'Коммунар',\n",
       "       'Красное Село', 'Кронштадт', 'Кудрово', 'Лодейное Поле',\n",
       "       'Ломоносов', 'Луга', 'Любань', 'Мурино', 'Никольское',\n",
       "       'Новая Ладога', 'Отрадное', 'Павловск', 'Петергоф', 'Пикалёво',\n",
       "       'Подпорожье', 'Приморск', 'Приозерск', 'Пушкин', 'Санкт-Петербург',\n",
       "       'Светогорск', 'Сертолово', 'Сестрорецк', 'Сланцы', 'Сосновый Бор',\n",
       "       'Сясьстрой', 'Тихвин', 'Тосно', 'Шлиссельбург',\n",
       "       'городской поселок Большая Ижора', 'городской поселок Янино-1',\n",
       "       'городской посёлок Будогощь', 'городской посёлок Виллози',\n",
       "       'городской посёлок Лесогорский', 'городской посёлок Мга',\n",
       "       'городской посёлок Назия', 'городской посёлок Новоселье',\n",
       "       'городской посёлок Павлово', 'городской посёлок Рощино',\n",
       "       'городской посёлок Свирьстрой', 'городской посёлок Советский',\n",
       "       'городской посёлок Фёдоровское', 'городской посёлок Янино-1',\n",
       "       'деревня Агалатово', 'деревня Аро', 'деревня Батово',\n",
       "       'деревня Бегуницы', 'деревня Белогорка', 'деревня Большая Вруда',\n",
       "       'деревня Большая Пустомержа', 'деревня Большие Колпаны',\n",
       "       'деревня Большое Рейзино', 'деревня Большой Сабск', 'деревня Бор',\n",
       "       'деревня Борисова Грива', 'деревня Ваганово', 'деревня Вартемяги',\n",
       "       'деревня Вахнова Кара', 'деревня Выскатка', 'деревня Гарболово',\n",
       "       'деревня Глинка', 'деревня Горбунки', 'деревня Гостилицы',\n",
       "       'деревня Заклинье', 'деревня Заневка', 'деревня Зимитицы',\n",
       "       'деревня Извара', 'деревня Иссад', 'деревня Калитино',\n",
       "       'деревня Кальтино', 'деревня Камышовка', 'деревня Каськово',\n",
       "       'деревня Келози', 'деревня Кипень', 'деревня Кисельня',\n",
       "       'деревня Колтуши', 'деревня Коркино', 'деревня Котлы',\n",
       "       'деревня Кривко', 'деревня Кудрово', 'деревня Кузьмолово',\n",
       "       'деревня Курковицы', 'деревня Куровицы', 'деревня Куттузи',\n",
       "       'деревня Лаврики', 'деревня Лаголово', 'деревня Лампово',\n",
       "       'деревня Лесколово', 'деревня Лопухинка', 'деревня Лупполово',\n",
       "       'деревня Малая Романовка', 'деревня Малое Верево',\n",
       "       'деревня Малое Карлино', 'деревня Малые Колпаны',\n",
       "       'деревня Мануйлово', 'деревня Меньково', 'деревня Мины',\n",
       "       'деревня Мистолово', 'деревня Ненимяки', 'деревня Нижние Осельки',\n",
       "       'деревня Нижняя', 'деревня Низино', 'деревня Новое Девяткино',\n",
       "       'деревня Новолисино', 'деревня Нурма', 'деревня Оржицы',\n",
       "       'деревня Парицы', 'деревня Пельгора', 'деревня Пеники',\n",
       "       'деревня Пижма', 'деревня Пикколово', 'деревня Пудомяги',\n",
       "       'деревня Пустынка', 'деревня Пчева', 'деревня Рабитицы',\n",
       "       'деревня Разбегаево', 'деревня Раздолье', 'деревня Разметелево',\n",
       "       'деревня Рапполово', 'деревня Реброво', 'деревня Русско',\n",
       "       'деревня Сижно', 'деревня Снегирёвка', 'деревня Старая',\n",
       "       'деревня Старая Пустошь', 'деревня Старое Хинколово',\n",
       "       'деревня Старополье', 'деревня Старосиверская',\n",
       "       'деревня Старые Бегуницы', 'деревня Суоранда',\n",
       "       'деревня Сяськелево', 'деревня Тарасово', 'деревня Терпилицы',\n",
       "       'деревня Тихковицы', 'деревня Тойворово', 'деревня Торосово',\n",
       "       'деревня Торошковичи', 'деревня Трубников Бор',\n",
       "       'деревня Фалилеево', 'деревня Фёдоровское', 'деревня Хапо-Ое',\n",
       "       'деревня Хязельки', 'деревня Чудской Бор', 'деревня Шпаньково',\n",
       "       'деревня Щеглово', 'деревня Юкки', 'деревня Ялгино',\n",
       "       'деревня Яльгелево', 'деревня Ям-Тесово',\n",
       "       'коттеджный поселок Кивеннапа Север', 'коттеджный поселок Счастье',\n",
       "       'коттеджный посёлок Лесное', 'поселок Аннино', 'поселок Барышево',\n",
       "       'поселок Бугры', 'поселок Возрождение', 'поселок Войсковицы',\n",
       "       'поселок Володарское', 'поселок Гаврилово', 'поселок Гарболово',\n",
       "       'поселок Гладкое', 'поселок Глажево', 'поселок Глебычево',\n",
       "       'поселок Гончарово', 'поселок Громово', 'поселок Дружноселье',\n",
       "       'поселок Елизаветино', 'поселок Жилгородок', 'поселок Жилпосёлок',\n",
       "       'поселок Житково', 'поселок Заводской', 'поселок Запорожское',\n",
       "       'поселок Зимитицы', 'поселок Ильичёво', 'поселок Калитино',\n",
       "       'поселок Каложицы', 'поселок Кингисеппский', 'поселок Кирпичное',\n",
       "       'поселок Кобралово', 'поселок Кобринское', 'поселок Коммунары',\n",
       "       'поселок Коробицыно', 'поселок Котельский',\n",
       "       'поселок Красная Долина', 'поселок Красносельское',\n",
       "       'поселок Лесное', 'поселок Лисий Нос', 'поселок Лукаши',\n",
       "       'поселок Любань', 'поселок Мельниково', 'поселок Мичуринское',\n",
       "       'поселок Молодцово', 'поселок Мурино', 'поселок Новый Свет',\n",
       "       'поселок Новый Учхоз', 'поселок Оредеж',\n",
       "       'поселок Пансионат Зелёный Бор', 'поселок Первомайское',\n",
       "       'поселок Перово', 'поселок Петровское', 'поселок Победа',\n",
       "       'поселок Поляны', 'поселок Почап', 'поселок Починок',\n",
       "       'поселок Пушное', 'поселок Пчевжа', 'поселок Рабитицы',\n",
       "       'поселок Романовка', 'поселок Ромашки', 'поселок Рябово',\n",
       "       'поселок Севастьяново', 'поселок Селезнёво', 'поселок Сельцо',\n",
       "       'поселок Семиозерье', 'поселок Семрино', 'поселок Серебрянский',\n",
       "       'поселок Совхозный', 'поселок Старая Малукса',\n",
       "       'поселок Стеклянный', 'поселок Сумино', 'поселок Суходолье',\n",
       "       'поселок Тельмана', 'поселок Терволово', 'поселок Торковичи',\n",
       "       'поселок Тёсово-4', 'поселок Углово', 'поселок Усть-Луга',\n",
       "       'поселок Ушаки', 'поселок Цвелодубово', 'поселок Цвылёво',\n",
       "       'поселок городского типа Большая Ижора',\n",
       "       'поселок городского типа Вырица',\n",
       "       'поселок городского типа Дружная Горка',\n",
       "       'поселок городского типа Дубровка',\n",
       "       'поселок городского типа Ефимовский',\n",
       "       'поселок городского типа Кондратьево',\n",
       "       'поселок городского типа Красный Бор',\n",
       "       'поселок городского типа Кузьмоловский',\n",
       "       'поселок городского типа Лебяжье',\n",
       "       'поселок городского типа Лесогорский',\n",
       "       'поселок городского типа Назия',\n",
       "       'поселок городского типа Никольский',\n",
       "       'поселок городского типа Приладожский',\n",
       "       'поселок городского типа Рахья', 'поселок городского типа Рощино',\n",
       "       'поселок городского типа Рябово',\n",
       "       'поселок городского типа Синявино',\n",
       "       'поселок городского типа Советский',\n",
       "       'поселок городского типа Токсово',\n",
       "       'поселок городского типа Форносово',\n",
       "       'поселок городского типа имени Свердлова',\n",
       "       'поселок станции Вещево', 'поселок станции Корнево',\n",
       "       'поселок станции Лужайка', 'поселок станции Приветнинское',\n",
       "       'посёлок Александровская', 'посёлок Алексеевка', 'посёлок Аннино',\n",
       "       'посёлок Белоостров', 'посёлок Бугры', 'посёлок Возрождение',\n",
       "       'посёлок Войскорово', 'посёлок Высокоключевой',\n",
       "       'посёлок Гаврилово', 'посёлок Дзержинского', 'посёлок Жилгородок',\n",
       "       'посёлок Ильичёво', 'посёлок Кикерино', 'посёлок Кобралово',\n",
       "       'посёлок Коробицыно', 'посёлок Левашово', 'посёлок Ленинское',\n",
       "       'посёлок Лисий Нос', 'посёлок Мельниково', 'посёлок Металлострой',\n",
       "       'посёлок Мичуринское', 'посёлок Молодёжное', 'посёлок Мурино',\n",
       "       'посёлок Мыза-Ивановка', 'посёлок Новогорелово',\n",
       "       'посёлок Новый Свет', 'посёлок Пансионат Зелёный Бор',\n",
       "       'посёлок Парголово', 'посёлок Перово', 'посёлок Песочный',\n",
       "       'посёлок Петро-Славянка', 'посёлок Петровское',\n",
       "       'посёлок Платформа 69-й километр', 'посёлок Плодовое',\n",
       "       'посёлок Плоское', 'посёлок Победа', 'посёлок Поляны',\n",
       "       'посёлок Понтонный', 'посёлок Пригородный', 'посёлок Пудость',\n",
       "       'посёлок Репино', 'посёлок Ропша', 'посёлок Сапёрное',\n",
       "       'посёлок Сапёрный', 'посёлок Сосново', 'посёлок Старая Малукса',\n",
       "       'посёлок Стеклянный', 'посёлок Стрельна', 'посёлок Суйда',\n",
       "       'посёлок Сумино', 'посёлок Тельмана', 'посёлок Терволово',\n",
       "       'посёлок Торфяное', 'посёлок Усть-Ижора', 'посёлок Усть-Луга',\n",
       "       'посёлок Форт Красная Горка', 'посёлок Шугозеро', 'посёлок Шушары',\n",
       "       'посёлок Щеглово', 'посёлок городского типа Важины',\n",
       "       'посёлок городского типа Вознесенье',\n",
       "       'посёлок городского типа Вырица',\n",
       "       'посёлок городского типа Красный Бор',\n",
       "       'посёлок городского типа Кузнечное',\n",
       "       'посёлок городского типа Кузьмоловский',\n",
       "       'посёлок городского типа Лебяжье', 'посёлок городского типа Мга',\n",
       "       'посёлок городского типа Павлово',\n",
       "       'посёлок городского типа Рощино', 'посёлок городского типа Рябово',\n",
       "       'посёлок городского типа Сиверский',\n",
       "       'посёлок городского типа Тайцы', 'посёлок городского типа Токсово',\n",
       "       'посёлок городского типа Ульяновка',\n",
       "       'посёлок городского типа Форносово',\n",
       "       'посёлок городского типа имени Морозова',\n",
       "       'посёлок городского типа имени Свердлова',\n",
       "       'посёлок при железнодорожной станции Вещево',\n",
       "       'посёлок при железнодорожной станции Приветнинское',\n",
       "       'посёлок станции Громово', 'посёлок станции Свирь',\n",
       "       'садоводческое некоммерческое товарищество Лесная Поляна',\n",
       "       'садовое товарищество Новая Ропша',\n",
       "       'садовое товарищество Приладожский', 'садовое товарищество Рахья',\n",
       "       'садовое товарищество Садко', 'село Копорье', 'село Никольское',\n",
       "       'село Павлово', 'село Паша', 'село Путилово', 'село Рождествено',\n",
       "       'село Русско-Высоцкое', 'село Старая Ладога', 'село Шум'],\n",
       "      dtype=object)"
      ]
     },
     "metadata": {},
     "output_type": "display_data"
    }
   ],
   "source": [
    "display(df['locality_name'].sort_values().unique())"
   ]
  },
  {
   "cell_type": "markdown",
   "metadata": {},
   "source": [
    "Создаем новый столбец, в котором устраним неявные дубликаты:"
   ]
  },
  {
   "cell_type": "code",
   "execution_count": 9,
   "metadata": {},
   "outputs": [
    {
     "data": {
      "text/plain": [
       "array(['Бокситогорск', 'Волосово', 'Волхов', 'Всеволожск', 'Выборг',\n",
       "       'Высоцк', 'Гатчина', 'Зеленогорск', 'Ивангород', 'Каменногорск',\n",
       "       'Кингисепп', 'Кириши', 'Кировск', 'Колпино', 'Коммунар',\n",
       "       'Красное Село', 'Кронштадт', 'Кудрово', 'Лодейное Поле',\n",
       "       'Ломоносов', 'Луга', 'Любань', 'Мурино', 'Никольское',\n",
       "       'Новая Ладога', 'Отрадное', 'Павловск', 'Петергоф', 'Пикалево',\n",
       "       'Подпорожье', 'Приморск', 'Приозерск', 'Пушкин', 'Санкт-Петербург',\n",
       "       'Светогорск', 'Сертолово', 'Сестрорецк', 'Сланцы', 'Сосновый Бор',\n",
       "       'Сясьстрой', 'Тихвин', 'Тосно', 'Шлиссельбург',\n",
       "       'деревня Агалатово', 'деревня Аро', 'деревня Батово',\n",
       "       'деревня Бегуницы', 'деревня Белогорка', 'деревня Большая Вруда',\n",
       "       'деревня Большая Пустомержа', 'деревня Большие Колпаны',\n",
       "       'деревня Большое Рейзино', 'деревня Большой Сабск', 'деревня Бор',\n",
       "       'деревня Борисова Грива', 'деревня Ваганово', 'деревня Вартемяги',\n",
       "       'деревня Вахнова Кара', 'деревня Выскатка', 'деревня Гарболово',\n",
       "       'деревня Глинка', 'деревня Горбунки', 'деревня Гостилицы',\n",
       "       'деревня Заклинье', 'деревня Заневка', 'деревня Зимитицы',\n",
       "       'деревня Извара', 'деревня Иссад', 'деревня Калитино',\n",
       "       'деревня Кальтино', 'деревня Камышовка', 'деревня Каськово',\n",
       "       'деревня Келози', 'деревня Кипень', 'деревня Кисельня',\n",
       "       'деревня Колтуши', 'деревня Коркино', 'деревня Котлы',\n",
       "       'деревня Кривко', 'деревня Кудрово', 'деревня Кузьмолово',\n",
       "       'деревня Курковицы', 'деревня Куровицы', 'деревня Куттузи',\n",
       "       'деревня Лаврики', 'деревня Лаголово', 'деревня Лампово',\n",
       "       'деревня Лесколово', 'деревня Лопухинка', 'деревня Лупполово',\n",
       "       'деревня Малая Романовка', 'деревня Малое Верево',\n",
       "       'деревня Малое Карлино', 'деревня Малые Колпаны',\n",
       "       'деревня Мануйлово', 'деревня Меньково', 'деревня Мины',\n",
       "       'деревня Мистолово', 'деревня Ненимяки', 'деревня Нижние Осельки',\n",
       "       'деревня Нижняя', 'деревня Низино', 'деревня Новое Девяткино',\n",
       "       'деревня Новолисино', 'деревня Нурма', 'деревня Оржицы',\n",
       "       'деревня Парицы', 'деревня Пельгора', 'деревня Пеники',\n",
       "       'деревня Пижма', 'деревня Пикколово', 'деревня Пудомяги',\n",
       "       'деревня Пустынка', 'деревня Пчева', 'деревня Рабитицы',\n",
       "       'деревня Разбегаево', 'деревня Раздолье', 'деревня Разметелево',\n",
       "       'деревня Рапполово', 'деревня Реброво', 'деревня Русско',\n",
       "       'деревня Сижно', 'деревня Снегиревка', 'деревня Старая',\n",
       "       'деревня Старая Пустошь', 'деревня Старое Хинколово',\n",
       "       'деревня Старополье', 'деревня Старосиверская',\n",
       "       'деревня Старые Бегуницы', 'деревня Суоранда',\n",
       "       'деревня Сяськелево', 'деревня Тарасово', 'деревня Терпилицы',\n",
       "       'деревня Тихковицы', 'деревня Тойворово', 'деревня Торосово',\n",
       "       'деревня Торошковичи', 'деревня Трубников Бор',\n",
       "       'деревня Фалилеево', 'деревня Федоровское', 'деревня Хапо-Ое',\n",
       "       'деревня Хязельки', 'деревня Чудской Бор', 'деревня Шпаньково',\n",
       "       'деревня Щеглово', 'деревня Юкки', 'деревня Ялгино',\n",
       "       'деревня Яльгелево', 'деревня Ям-Тесово',\n",
       "       'коттеджный поселок Кивеннапа Север', 'коттеджный поселок Лесное',\n",
       "       'коттеджный поселок Счастье', 'поселок Александровская',\n",
       "       'поселок Алексеевка', 'поселок Аннино', 'поселок Барышево',\n",
       "       'поселок Белоостров', 'поселок Большая Ижора', 'поселок Бугры',\n",
       "       'поселок Будогощь', 'поселок Важины', 'поселок Вещево',\n",
       "       'поселок Виллози', 'поселок Вознесенье', 'поселок Возрождение',\n",
       "       'поселок Войсковицы', 'поселок Войскорово', 'поселок Володарское',\n",
       "       'поселок Вырица', 'поселок Высокоключевой', 'поселок Гаврилово',\n",
       "       'поселок Гарболово', 'поселок Гладкое', 'поселок Глажево',\n",
       "       'поселок Глебычево', 'поселок Гончарово', 'поселок Громово',\n",
       "       'поселок Дзержинского', 'поселок Дружная Горка',\n",
       "       'поселок Дружноселье', 'поселок Дубровка', 'поселок Елизаветино',\n",
       "       'поселок Ефимовский', 'поселок Жилгородок', 'поселок Жилпоселок',\n",
       "       'поселок Житково', 'поселок Заводской', 'поселок Запорожское',\n",
       "       'поселок Зимитицы', 'поселок Ильичево', 'поселок Калитино',\n",
       "       'поселок Каложицы', 'поселок Кикерино', 'поселок Кингисеппский',\n",
       "       'поселок Кирпичное', 'поселок Кобралово', 'поселок Кобринское',\n",
       "       'поселок Коммунары', 'поселок Кондратьево', 'поселок Корнево',\n",
       "       'поселок Коробицыно', 'поселок Котельский',\n",
       "       'поселок Красная Долина', 'поселок Красносельское',\n",
       "       'поселок Красный Бор', 'поселок Кузнечное',\n",
       "       'поселок Кузьмоловский', 'поселок Лебяжье', 'поселок Левашово',\n",
       "       'поселок Ленинское', 'поселок Лесное', 'поселок Лесогорский',\n",
       "       'поселок Лисий Нос', 'поселок Лужайка', 'поселок Лукаши',\n",
       "       'поселок Любань', 'поселок Мга', 'поселок Мельниково',\n",
       "       'поселок Металлострой', 'поселок Мичуринское',\n",
       "       'поселок Молодежное', 'поселок Молодцово', 'поселок Мурино',\n",
       "       'поселок Мыза-Ивановка', 'поселок Назия', 'поселок Никольский',\n",
       "       'поселок Новогорелово', 'поселок Новоселье', 'поселок Новый Свет',\n",
       "       'поселок Новый Учхоз', 'поселок Оредеж', 'поселок Павлово',\n",
       "       'поселок Пансионат Зеленый Бор', 'поселок Парголово',\n",
       "       'поселок Первомайское', 'поселок Перово', 'поселок Песочный',\n",
       "       'поселок Петро-Славянка', 'поселок Петровское',\n",
       "       'поселок Платформа 69-й километр', 'поселок Плодовое',\n",
       "       'поселок Плоское', 'поселок Победа', 'поселок Поляны',\n",
       "       'поселок Понтонный', 'поселок Почап', 'поселок Починок',\n",
       "       'поселок Приветнинское', 'поселок Пригородный',\n",
       "       'поселок Приладожский', 'поселок Пудость', 'поселок Пушное',\n",
       "       'поселок Пчевжа', 'поселок Рабитицы', 'поселок Рахья',\n",
       "       'поселок Репино', 'поселок Романовка', 'поселок Ромашки',\n",
       "       'поселок Ропша', 'поселок Рощино', 'поселок Рябово',\n",
       "       'поселок Саперное', 'поселок Саперный', 'поселок Свирь',\n",
       "       'поселок Свирьстрой', 'поселок Севастьяново', 'поселок Селезнево',\n",
       "       'поселок Сельцо', 'поселок Семиозерье', 'поселок Семрино',\n",
       "       'поселок Серебрянский', 'поселок Сиверский', 'поселок Синявино',\n",
       "       'поселок Советский', 'поселок Совхозный', 'поселок Сосново',\n",
       "       'поселок Старая Малукса', 'поселок Стеклянный', 'поселок Стрельна',\n",
       "       'поселок Суйда', 'поселок Сумино', 'поселок Суходолье',\n",
       "       'поселок Тайцы', 'поселок Тельмана', 'поселок Терволово',\n",
       "       'поселок Тесово-4', 'поселок Токсово', 'поселок Торковичи',\n",
       "       'поселок Торфяное', 'поселок Углово', 'поселок Ульяновка',\n",
       "       'поселок Усть-Ижора', 'поселок Усть-Луга', 'поселок Ушаки',\n",
       "       'поселок Федоровское', 'поселок Форносово',\n",
       "       'поселок Форт Красная Горка', 'поселок Цвелодубово',\n",
       "       'поселок Цвылево', 'поселок Шугозеро', 'поселок Шушары',\n",
       "       'поселок Щеглово', 'поселок Янино-1', 'поселок имени Морозова',\n",
       "       'поселок имени Свердлова', 'садовое товарищество Лесная Поляна',\n",
       "       'садовое товарищество Новая Ропша',\n",
       "       'садовое товарищество Приладожский', 'садовое товарищество Рахья',\n",
       "       'садовое товарищество Садко', 'село Копорье', 'село Никольское',\n",
       "       'село Павлово', 'село Паша', 'село Путилово', 'село Рождествено',\n",
       "       'село Русско-Высоцкое', 'село Старая Ладога', 'село Шум'],\n",
       "      dtype=object)"
      ]
     },
     "metadata": {},
     "output_type": "display_data"
    }
   ],
   "source": [
    "df['locality_name_new'] = (\n",
    "    df['locality_name']\n",
    "    .str.replace('ё', 'е')\n",
    "    .replace(['поселок городского типа', 'городской поселок', 'поселок при железнодорожной станции', 'поселок станции'], 'поселок', regex=True)\n",
    "    .replace('садоводческое некоммерческое товарищество', 'садовое товарищество', regex=True)\n",
    ")\n",
    "display(df['locality_name_new'].sort_values().unique())"
   ]
  },
  {
   "cell_type": "markdown",
   "metadata": {},
   "source": [
    "Вычислим, сколько значений было до замены и сколько стало после:"
   ]
  },
  {
   "cell_type": "code",
   "execution_count": 10,
   "metadata": {},
   "outputs": [
    {
     "name": "stdout",
     "output_type": "stream",
     "text": [
      "Значений было до замены: 364\n",
      "Значений стало после замены: 319\n"
     ]
    }
   ],
   "source": [
    "print('Значений было до замены:', len(df['locality_name'].unique()))\n",
    "print('Значений стало после замены:', len(df['locality_name_new'].unique()))"
   ]
  },
  {
   "cell_type": "markdown",
   "metadata": {
    "id": "QCcvyY6YAwb-"
   },
   "source": [
    "### Добавляем в таблицу новые столбцы"
   ]
  },
  {
   "cell_type": "markdown",
   "metadata": {},
   "source": [
    "Рассмотрим детально значения в колонках.\n",
    "Для этого построим гистограммы hist(), таблицу статистики describe().\n",
    "Количество корзин  для гистограммы увеличим, чтобы были видны значения."
   ]
  },
  {
   "cell_type": "markdown",
   "metadata": {},
   "source": [
    "Добавляем новые столбцы в датафрейм.\n",
    "1. Цена одного квадратного метра."
   ]
  },
  {
   "cell_type": "code",
   "execution_count": 11,
   "metadata": {},
   "outputs": [
    {
     "name": "stdout",
     "output_type": "stream",
     "text": [
      "0\n"
     ]
    }
   ],
   "source": [
    "print(len(df.query('total_area==0.0')))"
   ]
  },
  {
   "cell_type": "markdown",
   "metadata": {},
   "source": [
    "0-х значений в поле с общей площадью нет, поэтому можно не бояться деления на 0."
   ]
  },
  {
   "cell_type": "code",
   "execution_count": 12,
   "metadata": {
    "scrolled": false
   },
   "outputs": [
    {
     "name": "stdout",
     "output_type": "stream",
     "text": [
      "0        120370.37\n",
      "1         82920.79\n",
      "2         92785.71\n",
      "3        408176.10\n",
      "4        100000.00\n",
      "           ...    \n",
      "23694     72490.85\n",
      "23695     52542.37\n",
      "23696     44091.71\n",
      "23697    149511.40\n",
      "23698     41795.67\n",
      "Name: sq_m_price, Length: 23650, dtype: float64\n"
     ]
    }
   ],
   "source": [
    "df['sq_m_price']=df[['last_price','total_area']].apply(lambda x: round(x['last_price']/x['total_area'],2), axis=1)\n",
    "print(df['sq_m_price'])"
   ]
  },
  {
   "cell_type": "markdown",
   "metadata": {},
   "source": [
    "2. День недели публикации объявления (0 — понедельник, 1 — вторник и так далее)."
   ]
  },
  {
   "cell_type": "code",
   "execution_count": 13,
   "metadata": {},
   "outputs": [
    {
     "name": "stdout",
     "output_type": "stream",
     "text": [
      "0    3606\n",
      "1    4175\n",
      "2    3966\n",
      "3    4286\n",
      "4    3992\n",
      "5    1933\n",
      "6    1692\n",
      "Name: day, dtype: int64\n"
     ]
    }
   ],
   "source": [
    "df['day']=df['first_day_exposition'].dt.dayofweek\n",
    "print(df['day'].value_counts().sort_index())"
   ]
  },
  {
   "cell_type": "markdown",
   "metadata": {},
   "source": [
    "3. Месяц публикации объявления."
   ]
  },
  {
   "cell_type": "code",
   "execution_count": 14,
   "metadata": {},
   "outputs": [
    {
     "name": "stdout",
     "output_type": "stream",
     "text": [
      "1     1491\n",
      "2     2639\n",
      "3     2582\n",
      "4     2373\n",
      "5     1270\n",
      "6     1755\n",
      "7     1690\n",
      "8     1742\n",
      "9     1979\n",
      "10    2124\n",
      "11    2367\n",
      "12    1638\n",
      "Name: month, dtype: int64\n"
     ]
    }
   ],
   "source": [
    "df['month']=df['first_day_exposition'].dt.month\n",
    "print(df['month'].value_counts().sort_index())"
   ]
  },
  {
   "cell_type": "markdown",
   "metadata": {},
   "source": [
    "4. Год публикации объявления."
   ]
  },
  {
   "cell_type": "code",
   "execution_count": 15,
   "metadata": {},
   "outputs": [
    {
     "name": "stdout",
     "output_type": "stream",
     "text": [
      "2014     136\n",
      "2015    1173\n",
      "2016    2765\n",
      "2017    8185\n",
      "2018    8512\n",
      "2019    2879\n",
      "Name: year, dtype: int64\n"
     ]
    }
   ],
   "source": [
    "df['year']=df['first_day_exposition'].dt.year\n",
    "print(df['year'].value_counts().sort_index())"
   ]
  },
  {
   "cell_type": "markdown",
   "metadata": {},
   "source": [
    "5. Тип этажа квартиры (значения — «первый», «последний», «другой»):"
   ]
  },
  {
   "cell_type": "code",
   "execution_count": 16,
   "metadata": {},
   "outputs": [
    {
     "name": "stdout",
     "output_type": "stream",
     "text": [
      "другой       17326\n",
      "последний     3412\n",
      "первый        2912\n",
      "Name: floor_cat, dtype: int64\n"
     ]
    }
   ],
   "source": [
    "def floor_cat(x):\n",
    "    if x['floor']==1:\n",
    "        return \"первый\"\n",
    "    elif x['floor']!=1 and x['floor']==x['floors_total']:\n",
    "        return \"последний\"\n",
    "    else:\n",
    "        return \"другой\"  \n",
    "df['floor_cat']=df[['floor','floors_total']].apply(floor_cat, axis=1)\n",
    "print(df['floor_cat'].value_counts())"
   ]
  },
  {
   "cell_type": "markdown",
   "metadata": {},
   "source": [
    "6. Расстояние до центра города в километрах (переведите из м в км и округлите до ближайших целых значений)."
   ]
  },
  {
   "cell_type": "code",
   "execution_count": 17,
   "metadata": {
    "scrolled": true
   },
   "outputs": [
    {
     "name": "stdout",
     "output_type": "stream",
     "text": [
      "0        16.0\n",
      "1        19.0\n",
      "2        14.0\n",
      "3         7.0\n",
      "4         8.0\n",
      "         ... \n",
      "23694     4.0\n",
      "23695     NaN\n",
      "23696     NaN\n",
      "23697    10.0\n",
      "23698     NaN\n",
      "Name: cityCenters_nearest_km, Length: 23650, dtype: float64\n"
     ]
    }
   ],
   "source": [
    "df['cityCenters_nearest_km']=round(df['cityCenters_nearest']/1000,0)\n",
    "print(df['cityCenters_nearest_km'])"
   ]
  },
  {
   "cell_type": "markdown",
   "metadata": {},
   "source": [
    "Проверяем, что получилось:"
   ]
  },
  {
   "cell_type": "code",
   "execution_count": 18,
   "metadata": {},
   "outputs": [
    {
     "name": "stdout",
     "output_type": "stream",
     "text": [
      "<class 'pandas.core.frame.DataFrame'>\n",
      "Int64Index: 23650 entries, 0 to 23698\n",
      "Data columns (total 29 columns):\n",
      " #   Column                  Non-Null Count  Dtype         \n",
      "---  ------                  --------------  -----         \n",
      " 0   total_images            23650 non-null  int64         \n",
      " 1   last_price              23650 non-null  float64       \n",
      " 2   total_area              23650 non-null  float64       \n",
      " 3   first_day_exposition    23650 non-null  datetime64[ns]\n",
      " 4   rooms                   23650 non-null  int64         \n",
      " 5   ceiling_height          23650 non-null  float64       \n",
      " 6   floors_total            23650 non-null  int64         \n",
      " 7   living_area             23650 non-null  float64       \n",
      " 8   floor                   23650 non-null  int64         \n",
      " 9   is_apartment            23650 non-null  bool          \n",
      " 10  studio                  23650 non-null  bool          \n",
      " 11  open_plan               23650 non-null  bool          \n",
      " 12  kitchen_area            23650 non-null  float64       \n",
      " 13  balcony                 23650 non-null  int64         \n",
      " 14  locality_name           23650 non-null  object        \n",
      " 15  airports_nearest        18116 non-null  float64       \n",
      " 16  cityCenters_nearest     18139 non-null  float64       \n",
      " 17  parks_around3000        18140 non-null  float64       \n",
      " 18  parks_nearest           8064 non-null   float64       \n",
      " 19  ponds_around3000        18140 non-null  float64       \n",
      " 20  ponds_nearest           9085 non-null   float64       \n",
      " 21  days_exposition         20470 non-null  float64       \n",
      " 22  locality_name_new       23650 non-null  object        \n",
      " 23  sq_m_price              23650 non-null  float64       \n",
      " 24  day                     23650 non-null  int64         \n",
      " 25  month                   23650 non-null  int64         \n",
      " 26  year                    23650 non-null  int64         \n",
      " 27  floor_cat               23650 non-null  object        \n",
      " 28  cityCenters_nearest_km  18139 non-null  float64       \n",
      "dtypes: bool(3), datetime64[ns](1), float64(14), int64(8), object(3)\n",
      "memory usage: 4.9+ MB\n"
     ]
    }
   ],
   "source": [
    "df.info()"
   ]
  },
  {
   "cell_type": "markdown",
   "metadata": {
    "id": "pPyxrKWTAwb-"
   },
   "source": [
    "### Проведем исследовательский анализ данных"
   ]
  },
  {
   "cell_type": "code",
   "execution_count": 19,
   "metadata": {},
   "outputs": [
    {
     "name": "stdout",
     "output_type": "stream",
     "text": [
      "19904     12.0\n",
      "19807     13.0\n",
      "17961     13.0\n",
      "19546     13.0\n",
      "19558     13.2\n",
      "         ...  \n",
      "5358     590.0\n",
      "15651    618.0\n",
      "3117     631.0\n",
      "12859    631.2\n",
      "19540    900.0\n",
      "Name: total_area, Length: 23650, dtype: float64\n",
      "\n",
      "count    23650.000000\n",
      "mean        60.329069\n",
      "std         35.661808\n",
      "min         12.000000\n",
      "25%         40.000000\n",
      "50%         52.000000\n",
      "75%         69.700000\n",
      "max        900.000000\n",
      "Name: total_area, dtype: float64\n"
     ]
    }
   ],
   "source": [
    "#общая площадь\n",
    "print(df['total_area'].sort_values())\n",
    "print()\n",
    "print(df['total_area'].describe())"
   ]
  },
  {
   "cell_type": "code",
   "execution_count": 20,
   "metadata": {},
   "outputs": [
    {
     "data": {
      "text/plain": [
       "Text(0.5, 1.0, 'Распределение общей площади')"
      ]
     },
     "execution_count": 20,
     "metadata": {},
     "output_type": "execute_result"
    },
    {
     "data": {
      "image/png": "[encoded data removed]",
      "text/plain": [
       "<Figure size 432x288 with 1 Axes>"
      ]
     },
     "metadata": {
      "needs_background": "light"
     },
     "output_type": "display_data"
    }
   ],
   "source": [
    "df['total_area'].plot(kind='hist', bins=100)\n",
    "plt.xlabel('total_area')\n",
    "plt.ylabel('number')\n",
    "plt.title('Распределение общей площади')"
   ]
  },
  {
   "cell_type": "markdown",
   "metadata": {},
   "source": [
    "Из статистики и гистограммы видно, что основной массив данных укладывается в показатели от 12 кв.м до 200 кв.м. \n",
    "Количество записей для квартир, площадь которых больше 200 кв.м., равно 227, то есть 227/23699 = 0,96 % от общего количества записей. Сделаем срезом данных, где общая площадь (total_area) будет меньше или равна 200 кв.м, чтобы получить нормальное распределение объявлений."
   ]
  },
  {
   "cell_type": "code",
   "execution_count": 21,
   "metadata": {},
   "outputs": [
    {
     "name": "stdout",
     "output_type": "stream",
     "text": [
      "227\n",
      "\n",
      "count    23423.000000\n",
      "mean        58.155492\n",
      "std         26.518218\n",
      "min         12.000000\n",
      "25%         40.000000\n",
      "50%         51.800000\n",
      "75%         68.800000\n",
      "max        200.000000\n",
      "Name: total_area, dtype: float64\n"
     ]
    },
    {
     "data": {
      "text/plain": [
       "Text(0.5, 1.0, 'Распределение общей площади <200кв.м')"
      ]
     },
     "execution_count": 21,
     "metadata": {},
     "output_type": "execute_result"
    },
    {
     "data": {
      "image/png": "[encoded data removed]",
      "text/plain": [
       "<Figure size 432x288 with 1 Axes>"
      ]
     },
     "metadata": {
      "needs_background": "light"
     },
     "output_type": "display_data"
    }
   ],
   "source": [
    "print(len(df.query('total_area>200')))\n",
    "print()\n",
    "print(df.query('total_area<=200')['total_area'].describe())\n",
    "df.query('total_area<=200')['total_area'].plot(kind='hist', bins=100, range=(0,200))\n",
    "plt.xlabel('total_area')\n",
    "plt.ylabel('number')\n",
    "plt.title('Распределение общей площади <200кв.м')"
   ]
  },
  {
   "cell_type": "markdown",
   "metadata": {},
   "source": [
    "Рассмотрим значения в колонке жилая площадь (living_area):"
   ]
  },
  {
   "cell_type": "code",
   "execution_count": 22,
   "metadata": {},
   "outputs": [
    {
     "name": "stdout",
     "output_type": "stream",
     "text": [
      "13915      2.000000\n",
      "21758      2.000000\n",
      "3242       3.000000\n",
      "23574      3.000000\n",
      "17582      5.000000\n",
      "            ...    \n",
      "4237     332.000000\n",
      "12401    347.500000\n",
      "3117     358.319596\n",
      "5358     409.000000\n",
      "19540    409.700000\n",
      "Name: living_area, Length: 23650, dtype: float64\n",
      "\n",
      "count    23650.000000\n",
      "mean        34.566441\n",
      "std         22.345625\n",
      "min          2.000000\n",
      "25%         19.000000\n",
      "50%         30.000000\n",
      "75%         42.100000\n",
      "max        409.700000\n",
      "Name: living_area, dtype: float64\n"
     ]
    },
    {
     "data": {
      "text/plain": [
       "Text(0.5, 1.0, 'Распределение жилой площади')"
      ]
     },
     "execution_count": 22,
     "metadata": {},
     "output_type": "execute_result"
    },
    {
     "data": {
      "image/png": "[encoded data removed]",
      "text/plain": [
       "<Figure size 432x288 with 1 Axes>"
      ]
     },
     "metadata": {
      "needs_background": "light"
     },
     "output_type": "display_data"
    }
   ],
   "source": [
    "#жилая площадь\n",
    "print(df['living_area'].sort_values())\n",
    "print()\n",
    "print(df['living_area'].describe())\n",
    "df['living_area'].plot(kind='hist', bins=100)\n",
    "plt.xlabel('living_area')\n",
    "plt.ylabel('number')\n",
    "plt.title('Распределение жилой площади')"
   ]
  },
  {
   "cell_type": "markdown",
   "metadata": {},
   "source": [
    "Из статистики видим, что в заполненных ячейках большинство значений жилой площади укладывается в диапазон от 0 до 200 кв.м.\n",
    "Сделаем срез с ограничением по площади и построим гистограмму заново:"
   ]
  },
  {
   "cell_type": "code",
   "execution_count": 23,
   "metadata": {},
   "outputs": [
    {
     "data": {
      "text/plain": [
       "Text(0.5, 1.0, 'Распределение жилой площади < 200 кв.м')"
      ]
     },
     "execution_count": 23,
     "metadata": {},
     "output_type": "execute_result"
    },
    {
     "data": {
      "image/png": "[encoded data removed]",
      "text/plain": [
       "<Figure size 432x288 with 1 Axes>"
      ]
     },
     "metadata": {
      "needs_background": "light"
     },
     "output_type": "display_data"
    }
   ],
   "source": [
    "df.query('living_area<200')['living_area'].plot(kind='hist', bins=100, range=(0,200))\n",
    "plt.xlabel('living_area')\n",
    "plt.ylabel('number')\n",
    "plt.title('Распределение жилой площади < 200 кв.м')"
   ]
  },
  {
   "cell_type": "code",
   "execution_count": 24,
   "metadata": {},
   "outputs": [
    {
     "data": {
      "text/plain": [
       "Text(0.5, 1.0, 'Распределение площади кухни')"
      ]
     },
     "execution_count": 24,
     "metadata": {},
     "output_type": "execute_result"
    },
    {
     "data": {
      "image/png": "[encoded data removed]",
      "text/plain": [
       "<Figure size 432x288 with 1 Axes>"
      ]
     },
     "metadata": {
      "needs_background": "light"
     },
     "output_type": "display_data"
    }
   ],
   "source": [
    "#площадь кухни\n",
    "df['kitchen_area'].plot(kind='hist', bins=100, range=(0,20))\n",
    "plt.xlabel('kitchen_area')\n",
    "plt.ylabel('number')\n",
    "plt.title('Распределение площади кухни')"
   ]
  },
  {
   "cell_type": "code",
   "execution_count": 25,
   "metadata": {},
   "outputs": [
    {
     "data": {
      "text/plain": [
       "count    2.365000e+04\n",
       "mean     6.541127e+06\n",
       "std      1.089640e+07\n",
       "min      1.219000e+04\n",
       "25%      3.400000e+06\n",
       "50%      4.650000e+06\n",
       "75%      6.799000e+06\n",
       "max      7.630000e+08\n",
       "Name: last_price, dtype: float64"
      ]
     },
     "execution_count": 25,
     "metadata": {},
     "output_type": "execute_result"
    },
    {
     "data": {
      "image/png": "[encoded data removed]",
      "text/plain": [
       "<Figure size 432x288 with 1 Axes>"
      ]
     },
     "metadata": {
      "needs_background": "light"
     },
     "output_type": "display_data"
    }
   ],
   "source": [
    "#цена объекта\n",
    "df['last_price'].plot(kind='hist', bins=100, range = (12190,20000000))\n",
    "plt.xlabel('last_price')\n",
    "plt.ylabel('number')\n",
    "plt.title('Распределение цен на квартиры')\n",
    "df['last_price'].describe()"
   ]
  },
  {
   "cell_type": "markdown",
   "metadata": {},
   "source": [
    "Диапазон цен от 12'190 до 17'500'000"
   ]
  },
  {
   "cell_type": "code",
   "execution_count": 26,
   "metadata": {},
   "outputs": [
    {
     "data": {
      "text/plain": [
       "count    23650.000000\n",
       "mean         2.070106\n",
       "std          1.078620\n",
       "min          0.000000\n",
       "25%          1.000000\n",
       "50%          2.000000\n",
       "75%          3.000000\n",
       "max         19.000000\n",
       "Name: rooms, dtype: float64"
      ]
     },
     "execution_count": 26,
     "metadata": {},
     "output_type": "execute_result"
    },
    {
     "data": {
      "image/png": "[encoded data removed]",
      "text/plain": [
       "<Figure size 432x288 with 1 Axes>"
      ]
     },
     "metadata": {
      "needs_background": "light"
     },
     "output_type": "display_data"
    }
   ],
   "source": [
    "#количество комнат\n",
    "df['rooms'].plot(kind='hist', bins=100, range=(0,19))\n",
    "plt.xlabel('rooms')\n",
    "plt.ylabel('number')\n",
    "plt.title('Распределение количества комнат')\n",
    "df['rooms'].describe()"
   ]
  },
  {
   "cell_type": "markdown",
   "metadata": {},
   "source": [
    "Не будем исключать данные."
   ]
  },
  {
   "cell_type": "code",
   "execution_count": 27,
   "metadata": {},
   "outputs": [
    {
     "data": {
      "text/plain": [
       "1     8036\n",
       "2     7924\n",
       "3     5797\n",
       "4     1175\n",
       "5      326\n",
       "0      197\n",
       "6      105\n",
       "7       59\n",
       "8       12\n",
       "9        8\n",
       "10       3\n",
       "11       2\n",
       "14       2\n",
       "19       1\n",
       "16       1\n",
       "12       1\n",
       "15       1\n",
       "Name: rooms, dtype: int64"
      ]
     },
     "metadata": {},
     "output_type": "display_data"
    }
   ],
   "source": [
    "display(df['rooms'].value_counts())"
   ]
  },
  {
   "cell_type": "markdown",
   "metadata": {},
   "source": [
    "Однокомнатных квартир на рынке больше всего, далее двушки и трешки."
   ]
  },
  {
   "cell_type": "code",
   "execution_count": 28,
   "metadata": {},
   "outputs": [
    {
     "name": "stdout",
     "output_type": "stream",
     "text": [
      "count    23650.000000\n",
      "mean         2.724311\n",
      "std          0.989255\n",
      "min          1.000000\n",
      "25%          2.600000\n",
      "50%          2.650000\n",
      "75%          2.700000\n",
      "max        100.000000\n",
      "Name: ceiling_height, dtype: float64\n",
      "1.00       1\n",
      "1.20       1\n",
      "1.75       1\n",
      "2.00      11\n",
      "2.20       1\n",
      "          ..\n",
      "26.00      1\n",
      "27.00      8\n",
      "27.50      1\n",
      "32.00      2\n",
      "100.00     1\n",
      "Name: ceiling_height, Length: 183, dtype: int64\n"
     ]
    },
    {
     "data": {
      "text/plain": [
       "Text(0, 0.5, 'Число квартир')"
      ]
     },
     "execution_count": 28,
     "metadata": {},
     "output_type": "execute_result"
    },
    {
     "data": {
      "image/png": "[encoded data removed]",
      "text/plain": [
       "<Figure size 432x288 with 1 Axes>"
      ]
     },
     "metadata": {
      "needs_background": "light"
     },
     "output_type": "display_data"
    }
   ],
   "source": [
    "#высота потолков\n",
    "print(df['ceiling_height'].describe())\n",
    "print(df['ceiling_height'].value_counts().sort_index())\n",
    "df['ceiling_height'].plot(kind='hist', bins=100, range=(1,32))\n",
    "plt.title('Высота потолков')\n",
    "plt.xlabel('Метры')\n",
    "plt.ylabel('Число квартир')"
   ]
  },
  {
   "cell_type": "markdown",
   "metadata": {},
   "source": [
    "Высота потолка в 100 метров - это аномалия, поэтому это значение заменим на медианное при дальнейшем анализе, а для ошибочных значений, похожих на ошибку в записи числительного, создадим новую колонку."
   ]
  },
  {
   "cell_type": "code",
   "execution_count": 29,
   "metadata": {},
   "outputs": [
    {
     "name": "stdout",
     "output_type": "stream",
     "text": [
      "count    23650.000000\n",
      "mean         2.720195\n",
      "std          0.760581\n",
      "min          1.000000\n",
      "25%          2.600000\n",
      "50%          2.650000\n",
      "75%          2.700000\n",
      "max         32.000000\n",
      "Name: ceiling_height, dtype: float64\n"
     ]
    },
    {
     "data": {
      "text/plain": [
       "Text(0, 0.5, 'Число квартир')"
      ]
     },
     "execution_count": 29,
     "metadata": {},
     "output_type": "execute_result"
    },
    {
     "data": {
      "image/png": "[encoded data removed]",
      "text/plain": [
       "<Figure size 432x288 with 1 Axes>"
      ]
     },
     "metadata": {
      "needs_background": "light"
     },
     "output_type": "display_data"
    }
   ],
   "source": [
    "df[df['ceiling_height']==100.0]=df['ceiling_height'].median()\n",
    "print(df['ceiling_height'].describe())\n",
    "df['ceiling_height'].plot(kind='hist', bins=100, range=(1,32))\n",
    "plt.title('Высота потолков')\n",
    "plt.xlabel('Метры')\n",
    "plt.ylabel('Число квартир')"
   ]
  },
  {
   "cell_type": "code",
   "execution_count": 30,
   "metadata": {},
   "outputs": [
    {
     "name": "stdout",
     "output_type": "stream",
     "text": [
      "       ceiling_height  ceiling_height_new\n",
      "0                2.70                2.70\n",
      "1                2.65                2.65\n",
      "2                2.65                2.65\n",
      "3                2.65                2.65\n",
      "4                3.03                3.03\n",
      "...               ...                 ...\n",
      "23694            3.70                3.70\n",
      "23695            2.65                2.65\n",
      "23696            2.65                2.65\n",
      "23697            3.00                3.00\n",
      "23698            2.50                2.50\n",
      "\n",
      "[23650 rows x 2 columns]\n",
      "count    23645.000000\n",
      "mean         2.697685\n",
      "std          0.231880\n",
      "min          2.000000\n",
      "25%          2.600000\n",
      "50%          2.650000\n",
      "75%          2.700000\n",
      "max          8.300000\n",
      "Name: ceiling_height_new, dtype: float64\n"
     ]
    },
    {
     "data": {
      "text/plain": [
       "Text(0, 0.5, 'Количество квартир')"
      ]
     },
     "execution_count": 30,
     "metadata": {},
     "output_type": "execute_result"
    },
    {
     "data": {
      "image/png": "[encoded data removed]",
      "text/plain": [
       "<Figure size 432x288 with 1 Axes>"
      ]
     },
     "metadata": {
      "needs_background": "light"
     },
     "output_type": "display_data"
    }
   ],
   "source": [
    "df['ceiling_height_new'] = df['ceiling_height'].apply(lambda x: x/10 if (x > 10) else x)\n",
    "print(df[['ceiling_height','ceiling_height_new']])    \n",
    "df.query('ceiling_height_new>=2')['ceiling_height_new']\n",
    "print(df.query('ceiling_height_new>=2')['ceiling_height_new'].describe())\n",
    "df.query('ceiling_height_new>=2')['ceiling_height_new'].plot(kind='hist', bins=100, range=(2,8.3))\n",
    "plt.title('Высота потолков')\n",
    "plt.xlabel('Высота потолка')\n",
    "plt.ylabel('Количество квартир')"
   ]
  },
  {
   "cell_type": "markdown",
   "metadata": {},
   "source": [
    "#тип этажа квартиры («первый», «последний», «другой»)"
   ]
  },
  {
   "cell_type": "code",
   "execution_count": 31,
   "metadata": {},
   "outputs": [
    {
     "name": "stdout",
     "output_type": "stream",
     "text": [
      "count      23650\n",
      "unique         4\n",
      "top       другой\n",
      "freq       17326\n",
      "Name: floor_cat, dtype: object\n",
      "другой       17326\n",
      "последний     3411\n",
      "первый        2912\n",
      "2.65             1\n",
      "Name: floor_cat, dtype: int64\n"
     ]
    },
    {
     "data": {
      "text/plain": [
       "Text(0.5, 1.0, 'Распределение квартир по категориям')"
      ]
     },
     "execution_count": 31,
     "metadata": {},
     "output_type": "execute_result"
    },
    {
     "data": {
      "image/png": "[encoded data removed]",
      "text/plain": [
       "<Figure size 432x288 with 1 Axes>"
      ]
     },
     "metadata": {
      "needs_background": "light"
     },
     "output_type": "display_data"
    }
   ],
   "source": [
    "print(df['floor_cat'].describe())\n",
    "print(df['floor_cat'].value_counts())\n",
    "df['floor_cat'].value_counts().plot(kind='bar')\n",
    "plt.xlabel('floor_cat')\n",
    "plt.ylabel('number')\n",
    "plt.title('Распределение квартир по категориям')"
   ]
  },
  {
   "cell_type": "markdown",
   "metadata": {},
   "source": [
    "Первый и последений этажи продают реже остальных."
   ]
  },
  {
   "cell_type": "code",
   "execution_count": 32,
   "metadata": {},
   "outputs": [
    {
     "name": "stdout",
     "output_type": "stream",
     "text": [
      "count    23650.000000\n",
      "mean        10.673685\n",
      "std          6.593558\n",
      "min          1.000000\n",
      "25%          5.000000\n",
      "50%          9.000000\n",
      "75%         16.000000\n",
      "max         60.000000\n",
      "Name: floors_total, dtype: float64\n",
      "1.00       28\n",
      "2.00      383\n",
      "2.65        1\n",
      "3.00      671\n",
      "4.00     1202\n",
      "5.00     5778\n",
      "6.00      919\n",
      "7.00      593\n",
      "8.00      396\n",
      "9.00     3763\n",
      "10.00    1177\n",
      "11.00     205\n",
      "12.00    1367\n",
      "13.00     232\n",
      "14.00     555\n",
      "15.00     368\n",
      "16.00    1375\n",
      "17.00     834\n",
      "18.00     508\n",
      "19.00     342\n",
      "20.00     273\n",
      "21.00     162\n",
      "22.00     287\n",
      "23.00     350\n",
      "24.00     464\n",
      "25.00    1075\n",
      "26.00     124\n",
      "27.00     164\n",
      "28.00      21\n",
      "29.00       1\n",
      "33.00       1\n",
      "34.00       1\n",
      "35.00      24\n",
      "36.00       3\n",
      "37.00       1\n",
      "52.00       1\n",
      "60.00       1\n",
      "Name: floors_total, dtype: int64\n"
     ]
    },
    {
     "data": {
      "text/plain": [
       "Text(0.5, 1.0, 'Этажность')"
      ]
     },
     "execution_count": 32,
     "metadata": {},
     "output_type": "execute_result"
    },
    {
     "data": {
      "image/png": "[encoded data removed]",
      "text/plain": [
       "<Figure size 432x288 with 1 Axes>"
      ]
     },
     "metadata": {
      "needs_background": "light"
     },
     "output_type": "display_data"
    }
   ],
   "source": [
    "#общее количество этажей в доме\n",
    "print(df['floors_total'].describe())\n",
    "print(df['floors_total'].value_counts().sort_index())\n",
    "df['floors_total'].plot(kind='hist', bins=100, range=(0,50))\n",
    "plt.xlabel('floors_total')\n",
    "plt.ylabel('количество квартир')\n",
    "plt.title('Этажность')"
   ]
  },
  {
   "cell_type": "markdown",
   "metadata": {},
   "source": [
    "Исключаем записи с 0-м количеством этажей и считаем распределение."
   ]
  },
  {
   "cell_type": "code",
   "execution_count": 33,
   "metadata": {},
   "outputs": [
    {
     "name": "stdout",
     "output_type": "stream",
     "text": [
      "count    23650.000000\n",
      "mean        10.673685\n",
      "std          6.593558\n",
      "min          1.000000\n",
      "25%          5.000000\n",
      "50%          9.000000\n",
      "75%         16.000000\n",
      "max         60.000000\n",
      "Name: floors_total, dtype: float64\n"
     ]
    },
    {
     "data": {
      "text/plain": [
       "Text(0.5, 1.0, 'Этажность')"
      ]
     },
     "execution_count": 33,
     "metadata": {},
     "output_type": "execute_result"
    },
    {
     "data": {
      "image/png": "[encoded data removed]",
      "text/plain": [
       "<Figure size 432x288 with 1 Axes>"
      ]
     },
     "metadata": {
      "needs_background": "light"
     },
     "output_type": "display_data"
    }
   ],
   "source": [
    "print(df.query('floors_total>0')['floors_total'].describe())\n",
    "df.query('floors_total>0')['floors_total'].plot(kind='hist', bins=100, range=(0,30))\n",
    "plt.xlabel('этажи')\n",
    "plt.ylabel('количество квартир')\n",
    "plt.title('Этажность')"
   ]
  },
  {
   "cell_type": "markdown",
   "metadata": {},
   "source": [
    "Дома высотой более 28 этажей и менее 2 продаются реже остальных."
   ]
  },
  {
   "cell_type": "code",
   "execution_count": 34,
   "metadata": {},
   "outputs": [
    {
     "name": "stdout",
     "output_type": "stream",
     "text": [
      "count    18139.000000\n",
      "mean     14197.404248\n",
      "std       8607.363601\n",
      "min          2.650000\n",
      "25%       9241.000000\n",
      "50%      13105.000000\n",
      "75%      16293.000000\n",
      "max      65968.000000\n",
      "Name: cityCenters_nearest, dtype: float64\n",
      "2.65        1\n",
      "181.00      1\n",
      "208.00      1\n",
      "215.00      1\n",
      "287.00      1\n",
      "           ..\n",
      "64857.00    1\n",
      "65105.00    1\n",
      "65764.00    1\n",
      "65952.00    1\n",
      "65968.00    1\n",
      "Name: cityCenters_nearest, Length: 7627, dtype: int64\n"
     ]
    }
   ],
   "source": [
    "#расстояние до центра города в метрах\n",
    "print(df['cityCenters_nearest'].describe())\n",
    "print(df['cityCenters_nearest'].value_counts().sort_index())"
   ]
  },
  {
   "cell_type": "markdown",
   "metadata": {},
   "source": [
    "Исключаем записи с 0-м расстоянием до центра города"
   ]
  },
  {
   "cell_type": "code",
   "execution_count": 35,
   "metadata": {},
   "outputs": [
    {
     "name": "stdout",
     "output_type": "stream",
     "text": [
      "count    18139.000000\n",
      "mean     14197.404248\n",
      "std       8607.363601\n",
      "min          2.650000\n",
      "25%       9241.000000\n",
      "50%      13105.000000\n",
      "75%      16293.000000\n",
      "max      65968.000000\n",
      "Name: cityCenters_nearest, dtype: float64\n"
     ]
    },
    {
     "data": {
      "image/png": "[encoded data removed]",
      "text/plain": [
       "<Figure size 432x288 with 1 Axes>"
      ]
     },
     "metadata": {
      "needs_background": "light"
     },
     "output_type": "display_data"
    }
   ],
   "source": [
    "df.query('cityCenters_nearest!=0')['cityCenters_nearest'].plot(kind='hist', bins=100, range=(0,66000))\n",
    "plt.xlabel('расстояние до центра')\n",
    "plt.ylabel('количество квартир')\n",
    "plt.title('Расстояние до центра города')\n",
    "print(df.query('cityCenters_nearest!=0')['cityCenters_nearest'].describe())"
   ]
  },
  {
   "cell_type": "markdown",
   "metadata": {},
   "source": [
    "Большая часть продаваемых квартир расположена не далее 20 км от центра города."
   ]
  },
  {
   "cell_type": "code",
   "execution_count": 36,
   "metadata": {
    "scrolled": true
   },
   "outputs": [
    {
     "name": "stdout",
     "output_type": "stream",
     "text": [
      "count    8064.000000\n",
      "mean      490.803404\n",
      "std       342.584540\n",
      "min         1.000000\n",
      "25%       288.000000\n",
      "50%       454.500000\n",
      "75%       612.000000\n",
      "max      3190.000000\n",
      "Name: parks_nearest, dtype: float64\n",
      "1.00       1\n",
      "2.65       1\n",
      "3.00       1\n",
      "4.00       1\n",
      "7.00       1\n",
      "          ..\n",
      "2905.00    1\n",
      "2984.00    1\n",
      "3013.00    1\n",
      "3064.00    1\n",
      "3190.00    2\n",
      "Name: parks_nearest, Length: 995, dtype: int64\n"
     ]
    },
    {
     "data": {
      "text/plain": [
       "Text(0.5, 1.0, 'Расстояние до парка')"
      ]
     },
     "execution_count": 36,
     "metadata": {},
     "output_type": "execute_result"
    },
    {
     "data": {
      "image/png": "[encoded data removed]",
      "text/plain": [
       "<Figure size 432x288 with 1 Axes>"
      ]
     },
     "metadata": {
      "needs_background": "light"
     },
     "output_type": "display_data"
    }
   ],
   "source": [
    "#расстояние до ближайшего парка\n",
    "print(df['parks_nearest'].describe())\n",
    "print(df['parks_nearest'].value_counts().sort_index())\n",
    "df.query('parks_nearest!=0')['parks_nearest'].plot(kind='hist', bins=100, range=(0,3190))\n",
    "plt.xlabel('расстояние до парка')\n",
    "plt.ylabel('количество квартир')\n",
    "plt.title('Расстояние до парка')"
   ]
  },
  {
   "cell_type": "markdown",
   "metadata": {
    "id": "Z8eJek3IAwb-"
   },
   "source": [
    "Большая часть продаваемых квартир расположена не далее 1 км от парка."
   ]
  },
  {
   "cell_type": "markdown",
   "metadata": {
    "id": "V2f0D3kLAwb-"
   },
   "source": [
    "После анализа параметров, изучим, как быстро продавались квартиры:"
   ]
  },
  {
   "cell_type": "code",
   "execution_count": 37,
   "metadata": {},
   "outputs": [
    {
     "name": "stdout",
     "output_type": "stream",
     "text": [
      "Среднее количество дней продажи квартиры: 181.0\n",
      "Медианное количество дней продажи квартиры: 95.0\n"
     ]
    },
    {
     "data": {
      "text/plain": [
       "count    20470.000000\n",
       "mean       180.752401\n",
       "std        219.778533\n",
       "min          1.000000\n",
       "25%         45.000000\n",
       "50%         95.000000\n",
       "75%        231.000000\n",
       "max       1580.000000\n",
       "Name: days_exposition, dtype: float64"
      ]
     },
     "execution_count": 37,
     "metadata": {},
     "output_type": "execute_result"
    },
    {
     "data": {
      "image/png": "[encoded data removed]",
      "text/plain": [
       "<Figure size 432x288 with 1 Axes>"
      ]
     },
     "metadata": {
      "needs_background": "light"
     },
     "output_type": "display_data"
    }
   ],
   "source": [
    "df['days_exposition'].plot(kind='hist', bins=100, range=(0,1600))\n",
    "plt.xlabel('количество дней до продажи')\n",
    "plt.ylabel('количество квартир')\n",
    "plt.title('Количество дней до продажи')\n",
    "print('Среднее количество дней продажи квартиры:', round(df['days_exposition'].mean(),0))\n",
    "print('Медианное количество дней продажи квартиры:', df['days_exposition'].median())\n",
    "df['days_exposition'].describe()"
   ]
  },
  {
   "cell_type": "markdown",
   "metadata": {},
   "source": [
    "Уменьшим размер корзин, чтобы рассмотреть основную часть данных в диапазоне от 0 до 100 дней"
   ]
  },
  {
   "cell_type": "code",
   "execution_count": 38,
   "metadata": {},
   "outputs": [
    {
     "data": {
      "text/plain": [
       "Text(0.5, 1.0, 'Количество дней до продажи')"
      ]
     },
     "execution_count": 38,
     "metadata": {},
     "output_type": "execute_result"
    },
    {
     "data": {
      "image/png": "[encoded data removed]",
      "text/plain": [
       "<Figure size 432x288 with 1 Axes>"
      ]
     },
     "metadata": {
      "needs_background": "light"
     },
     "output_type": "display_data"
    }
   ],
   "source": [
    "df['days_exposition'].plot(kind='hist', bins=100, range=(0,100))\n",
    "plt.xlabel('количество дней до продажи')\n",
    "plt.ylabel('количество квартир')\n",
    "plt.title('Количество дней до продажи')"
   ]
  },
  {
   "cell_type": "markdown",
   "metadata": {},
   "source": [
    "Медианное значение времени продажи квартир в 2 раз превышает среднее арифметическое, что говорит о неравномерности распределения продаж. Часть квартир очень долго \"висит\" в базе на продажу, либо операторы забывают снять квартиру с продажи.\n",
    "Из гистограммы видно, что активные продажи начинаются с 3 дня и примерно стабильны, но со всплесками на 7, 30, 45, 60, 90 дни. После этого начинается спад. Эти сроки приходятся на конец первой недели, первого месяца, полтора месяца, второго месяца, третьего месяца. Возможно, в эти дни в агентстве недвижимости у риэлторов расчет KPI, поэтому они стараются подвести клиента, или в эти дни у агентства скидки!\n",
    "Быстрыми продажами можно считать 1-2 дня, а необычно долгими - более 1 года (>400).\n",
    "\n",
    "Определим влияние параметров квартиры на ее стоимость:\n",
    "- общей площади;\n",
    "- жилой площади;\n",
    "- площади кухни;\n",
    "- количества комнат;\n",
    "- этажа, на котором расположена квартира (первый, последний, другой);\n",
    "- даты размещения (день недели, месяц, год).\n",
    "\n",
    "Для этого сделаем срез данных с нужными столбцами и построим матрицу корреляции параметров:"
   ]
  },
  {
   "cell_type": "code",
   "execution_count": 39,
   "metadata": {
    "scrolled": true
   },
   "outputs": [
    {
     "name": "stdout",
     "output_type": "stream",
     "text": [
      "              last_price  total_area  living_area  kitchen_area\n",
      "last_price      1.000000    0.653797     0.585823      0.440618\n",
      "total_area      0.653797    1.000000     0.945958      0.569801\n",
      "living_area     0.585823    0.945958     1.000000      0.411399\n",
      "kitchen_area    0.440618    0.569801     0.411399      1.000000\n"
     ]
    }
   ],
   "source": [
    "df_corr=df[['last_price','total_area','living_area','kitchen_area']]\n",
    "print(df_corr.sort_values('last_price').corr())"
   ]
  },
  {
   "cell_type": "markdown",
   "metadata": {},
   "source": [
    "Из матрицы видим, что цена (last_price) зависит от (в порядке убывания влияния):\n",
    "- (1) общей площади (total_area) прямая (увеличивается площадь, увеличивается и цена) и сильная (0.653675),\n",
    "- (2) жилой площади (living_area) прямая и средняя (0.566492),\n",
    "- (3) площади кухни (kitchen_area) прямая и средняя (0.519869).\n",
    "\n",
    "Зависимость от расположения на этаже и количества комнат являются в нашем случае категориальными величинами, будем выяснять связь с ними с помощью графика,\n",
    "где на оси X будут наши категории этажа, а на оси Y - стоимость квартиры:"
   ]
  },
  {
   "cell_type": "code",
   "execution_count": 40,
   "metadata": {},
   "outputs": [
    {
     "data": {
      "text/plain": [
       "Text(0.5, 1.0, 'Этажность ? стоимость')"
      ]
     },
     "execution_count": 40,
     "metadata": {},
     "output_type": "execute_result"
    },
    {
     "data": {
      "image/png": "[encoded data removed]",
      "text/plain": [
       "<Figure size 432x288 with 1 Axes>"
      ]
     },
     "metadata": {
      "needs_background": "light"
     },
     "output_type": "display_data"
    }
   ],
   "source": [
    "df.pivot_table(index='floor_cat', values='last_price', aggfunc='sum').plot(style='o-')\n",
    "plt.xlabel('этаж квартиры')\n",
    "plt.ylabel('стоимость квартиры')\n",
    "plt.title('Этажность ? стоимость')"
   ]
  },
  {
   "cell_type": "markdown",
   "metadata": {},
   "source": [
    "Из графика видим, что влияние расположения квартиры на стоимость есть (в порядке убывания влияния):\n",
    "- (1) другой - самые дорогие квартиры,\n",
    "- (2) последний,\n",
    "- (3) первый - самые дешевые квартиры."
   ]
  },
  {
   "cell_type": "code",
   "execution_count": 41,
   "metadata": {},
   "outputs": [
    {
     "data": {
      "text/plain": [
       "Text(0.5, 1.0, 'Количество комнат ? стоимость')"
      ]
     },
     "execution_count": 41,
     "metadata": {},
     "output_type": "execute_result"
    },
    {
     "data": {
      "image/png": "[encoded data removed]",
      "text/plain": [
       "<Figure size 432x288 with 1 Axes>"
      ]
     },
     "metadata": {
      "needs_background": "light"
     },
     "output_type": "display_data"
    }
   ],
   "source": [
    "df.pivot_table(index='rooms', values='last_price').plot(style='o-')\n",
    "plt.xlabel('количество комнат')\n",
    "plt.ylabel('стоимость объекта')\n",
    "plt.title('Количество комнат ? стоимость')"
   ]
  },
  {
   "cell_type": "markdown",
   "metadata": {},
   "source": [
    "График показывает, что есть прямая зависимость стоимости квартиры от количества комнат. Рост не большой, но все же есть. Выброс при количестве комнат от 11 до 14 возможно связан с выкупом комнат в коммуналке для одного хозяина, поэтому цена явно завышена."
   ]
  },
  {
   "cell_type": "markdown",
   "metadata": {},
   "source": [
    "Зависимость от даты размещения квартиры также выясним с помощью графика, где на оси X будут дата, месяц и год, а на оси Y - стоимость квартиры:"
   ]
  },
  {
   "cell_type": "code",
   "execution_count": 42,
   "metadata": {},
   "outputs": [
    {
     "data": {
      "text/plain": [
       "Text(0.5, 1.0, 'Стоимость ? день недели')"
      ]
     },
     "execution_count": 42,
     "metadata": {},
     "output_type": "execute_result"
    },
    {
     "data": {
      "image/png": "[encoded data removed]",
      "text/plain": [
       "<Figure size 432x288 with 1 Axes>"
      ]
     },
     "metadata": {
      "needs_background": "light"
     },
     "output_type": "display_data"
    }
   ],
   "source": [
    "df.pivot_table(index='day', values='last_price').plot(style='o-', ylim=(0, 100000000))\n",
    "plt.xlabel('День недели')\n",
    "plt.ylabel('Стоимость объекта')\n",
    "plt.title('Стоимость ? день недели')"
   ]
  },
  {
   "cell_type": "markdown",
   "metadata": {},
   "source": [
    "Не стоит размещать объявления в среду, середина недели провальна. Сделаем вывод, что сильной связи между днем недели для размещения и стоимостью объекта нет."
   ]
  },
  {
   "cell_type": "code",
   "execution_count": 43,
   "metadata": {},
   "outputs": [
    {
     "data": {
      "text/plain": [
       "Text(0.5, 1.0, 'Стоимость ? месяц')"
      ]
     },
     "execution_count": 43,
     "metadata": {},
     "output_type": "execute_result"
    },
    {
     "data": {
      "image/png": "[encoded data removed]",
      "text/plain": [
       "<Figure size 432x288 with 1 Axes>"
      ]
     },
     "metadata": {
      "needs_background": "light"
     },
     "output_type": "display_data"
    }
   ],
   "source": [
    "df.pivot_table(index='month', values='last_price').plot(style='o-', ylim=(0,100000000))\n",
    "plt.xlabel('Месяц')\n",
    "plt.ylabel('Стоимость объекта')\n",
    "plt.title('Стоимость ? месяц')"
   ]
  },
  {
   "cell_type": "markdown",
   "metadata": {},
   "source": [
    "Стоимость приблизительно одинаковая в течение года, так что можно сказать, что связи между стоимостью объекта и месяцем размещения объявления нет. Единственный выпад наблюдается в конце февраля - начале марта. Видимо виноваты праздники."
   ]
  },
  {
   "cell_type": "code",
   "execution_count": 44,
   "metadata": {},
   "outputs": [
    {
     "data": {
      "text/plain": [
       "Text(0.5, 1.0, 'Стоимость ? год')"
      ]
     },
     "execution_count": 44,
     "metadata": {},
     "output_type": "execute_result"
    },
    {
     "data": {
      "image/png": "[encoded data removed]",
      "text/plain": [
       "<Figure size 432x288 with 1 Axes>"
      ]
     },
     "metadata": {
      "needs_background": "light"
     },
     "output_type": "display_data"
    }
   ],
   "source": [
    "df.pivot_table(index='year', values='last_price').plot(style='o-', xlim=(2013,2020), ylim=(0,100000000))\n",
    "plt.xlabel('Год')\n",
    "plt.ylabel('Стоимость объекта')\n",
    "plt.title('Стоимость ? год')"
   ]
  },
  {
   "cell_type": "markdown",
   "metadata": {},
   "source": [
    "Самая низкая стоимость была в объявлениях, размещаемых в 2018 году."
   ]
  },
  {
   "cell_type": "markdown",
   "metadata": {},
   "source": [
    "Посчитаем среднюю цену одного квадратного метра в 10 населённых пунктах с наибольшим числом объявлений, для этого\n",
    "построим сводную таблицу с количеством объявлений и средней ценой квадратного метра для этих населенных пунктов."
   ]
  },
  {
   "cell_type": "code",
   "execution_count": 45,
   "metadata": {},
   "outputs": [
    {
     "data": {
      "text/html": [
       "<div>\n",
       "<style scoped>\n",
       "    .dataframe tbody tr th:only-of-type {\n",
       "        vertical-align: middle;\n",
       "    }\n",
       "\n",
       "    .dataframe tbody tr th {\n",
       "        vertical-align: top;\n",
       "    }\n",
       "\n",
       "    .dataframe thead th {\n",
       "        text-align: right;\n",
       "    }\n",
       "</style>\n",
       "<table border=\"1\" class=\"dataframe\">\n",
       "  <thead>\n",
       "    <tr style=\"text-align: right;\">\n",
       "      <th></th>\n",
       "      <th>count</th>\n",
       "      <th>mean</th>\n",
       "    </tr>\n",
       "    <tr>\n",
       "      <th>locality_name_new</th>\n",
       "      <th></th>\n",
       "      <th></th>\n",
       "    </tr>\n",
       "  </thead>\n",
       "  <tbody>\n",
       "    <tr>\n",
       "      <th>Санкт-Петербург</th>\n",
       "      <td>15720</td>\n",
       "      <td>114818.146771</td>\n",
       "    </tr>\n",
       "    <tr>\n",
       "      <th>поселок Мурино</th>\n",
       "      <td>556</td>\n",
       "      <td>85681.762572</td>\n",
       "    </tr>\n",
       "    <tr>\n",
       "      <th>поселок Шушары</th>\n",
       "      <td>440</td>\n",
       "      <td>78677.364318</td>\n",
       "    </tr>\n",
       "    <tr>\n",
       "      <th>Всеволожск</th>\n",
       "      <td>398</td>\n",
       "      <td>68654.473970</td>\n",
       "    </tr>\n",
       "    <tr>\n",
       "      <th>Пушкин</th>\n",
       "      <td>369</td>\n",
       "      <td>103125.819377</td>\n",
       "    </tr>\n",
       "    <tr>\n",
       "      <th>Колпино</th>\n",
       "      <td>338</td>\n",
       "      <td>75424.579112</td>\n",
       "    </tr>\n",
       "    <tr>\n",
       "      <th>поселок Парголово</th>\n",
       "      <td>327</td>\n",
       "      <td>90175.913089</td>\n",
       "    </tr>\n",
       "    <tr>\n",
       "      <th>Гатчина</th>\n",
       "      <td>307</td>\n",
       "      <td>68746.146515</td>\n",
       "    </tr>\n",
       "    <tr>\n",
       "      <th>деревня Кудрово</th>\n",
       "      <td>299</td>\n",
       "      <td>92473.547559</td>\n",
       "    </tr>\n",
       "    <tr>\n",
       "      <th>Выборг</th>\n",
       "      <td>237</td>\n",
       "      <td>58141.909325</td>\n",
       "    </tr>\n",
       "  </tbody>\n",
       "</table>\n",
       "</div>"
      ],
      "text/plain": [
       "                   count           mean\n",
       "locality_name_new                      \n",
       "Санкт-Петербург    15720  114818.146771\n",
       "поселок Мурино       556   85681.762572\n",
       "поселок Шушары       440   78677.364318\n",
       "Всеволожск           398   68654.473970\n",
       "Пушкин               369  103125.819377\n",
       "Колпино              338   75424.579112\n",
       "поселок Парголово    327   90175.913089\n",
       "Гатчина              307   68746.146515\n",
       "деревня Кудрово      299   92473.547559\n",
       "Выборг               237   58141.909325"
      ]
     },
     "execution_count": 45,
     "metadata": {},
     "output_type": "execute_result"
    }
   ],
   "source": [
    "(df.pivot_table(index='locality_name_new', values='sq_m_price', aggfunc=('count', 'mean'))\n",
    "  .sort_values(by='count', ascending=False).head(10))"
   ]
  },
  {
   "cell_type": "markdown",
   "metadata": {},
   "source": [
    "Видим, что на первом месте оказался Санкт-Петербург (ожидаемо), на 10-м месте находится Выборг. Стоимость 1 кв.м. 10-го места в 2 раза меньше, чем 1-го."
   ]
  },
  {
   "cell_type": "markdown",
   "metadata": {},
   "source": [
    "Теперь выделим квартиры в Санкт-Петербурге и вычислим их среднюю стоимость на разном удалении от центра."
   ]
  },
  {
   "cell_type": "code",
   "execution_count": 46,
   "metadata": {},
   "outputs": [
    {
     "data": {
      "text/plain": [
       "Text(0.5, 1.0, 'Стоимость объекта ? расстояние до центра')"
      ]
     },
     "execution_count": 46,
     "metadata": {},
     "output_type": "execute_result"
    },
    {
     "data": {
      "image/png": "[encoded data removed]",
      "text/plain": [
       "<Figure size 432x288 with 1 Axes>"
      ]
     },
     "metadata": {
      "needs_background": "light"
     },
     "output_type": "display_data"
    },
    {
     "data": {
      "image/png": "[encoded data removed]",
      "text/plain": [
       "<Figure size 432x288 with 1 Axes>"
      ]
     },
     "metadata": {
      "needs_background": "light"
     },
     "output_type": "display_data"
    }
   ],
   "source": [
    "(df.query('locality_name_new==\"Санкт-Петербург\"')\n",
    "   .pivot_table(index='cityCenters_nearest_km',\n",
    "             values='last_price',\n",
    "             aggfunc=('mean')).sort_index()\n",
    ")\n",
    "(df.query('locality_name_new==\"Санкт-Петербург\"')\n",
    "   .pivot_table(index='cityCenters_nearest_km',\n",
    "             values='last_price',\n",
    "             aggfunc=('mean')).plot()\n",
    ")\n",
    "#укрупним отрезок от 0 до 10, чтобы рассмотреть выброс\n",
    "plt.xlabel('расстояние до центра города')\n",
    "plt.ylabel('стоимость объекта')\n",
    "plt.title('Стоимость объекта ? расстояние до центра')\n",
    "(df.query('locality_name_new==\"Санкт-Петербург\"')\n",
    "   .pivot_table(index='cityCenters_nearest_km',\n",
    "             values='last_price',\n",
    "             aggfunc=('mean')).plot(xlim=(0,10))\n",
    ")\n",
    "plt.xlabel('расстояние до центра города')\n",
    "plt.ylabel('стоимость объекта')\n",
    "plt.title('Стоимость объекта ? расстояние до центра')"
   ]
  },
  {
   "cell_type": "markdown",
   "metadata": {},
   "source": [
    "График подтверждает, что в целом при удалении от центра города стоимость квартир уменьшается. При удаленности квартиры от центра на растояние от 3 до 8 км наблюдается небольшая стагнация стоимости, то есть для людей это уже равноудаленно от центра, а потом падение продолжается. Ситуация повторяется при больших значениях удаленности. То есть расстояние людьми воспринимается не дискретно, а интервалами."
   ]
  },
  {
   "cell_type": "markdown",
   "metadata": {
    "id": "h7VpzkIDAwb-"
   },
   "source": [
    "### Общий вывод"
   ]
  },
  {
   "cell_type": "markdown",
   "metadata": {
    "id": "3H4lnp_KAwb-"
   },
   "source": [
    "В представленных данных обнаружились следующие недостатки:\n",
    "- пропуски в значимых полях, которые влияют на стоимость квартиры: высота потолков, жилая площадь, площадь кухни, стоимость квартиры, этаж;\n",
    "- разные записи в столбце населенных пунктов для одинаковых населенных пунктов и пропущенные значения, что не позволит отобрать квартиру по фильтру на населенный пункт;\n",
    "- ошибочные записи в высоте потолков.\n",
    "\n",
    "Проведенный анализ данных позволил определить следующие факторы влияния на стоимость квартиры:\n",
    "- параметры квартиры: общая площадь, жилая площадь, площадь кухни и количество комнат прямо влияют на стоимость квартиры;\n",
    "- этаж, на котором располагается квартиры (самые дешевые на первом, последнем этажах),\n",
    "- дата размещения объявления о продаже имеет очень слабое влияние на ее стоимость.\n",
    "\n",
    "Самые дорогие квартиры оказались в Санкт-Петербурге, 10-ку самых дорогих мест замыкает Выборг."
   ]
  }
 ],
 "metadata": {
  "ExecuteTimeLog": [
   {
    "duration": 656,
    "start_time": "2024-07-06T09:11:21.253Z"
   },
   {
    "duration": 92,
    "start_time": "2024-07-06T09:13:17.430Z"
   },
   {
    "duration": 2112,
    "start_time": "2024-07-06T09:14:52.822Z"
   },
   {
    "duration": 8,
    "start_time": "2024-07-06T09:27:12.241Z"
   },
   {
    "duration": 772,
    "start_time": "2024-07-06T09:31:43.271Z"
   },
   {
    "duration": 20,
    "start_time": "2024-07-06T09:32:34.723Z"
   },
   {
    "duration": 16,
    "start_time": "2024-07-06T09:38:49.506Z"
   },
   {
    "duration": 33,
    "start_time": "2024-07-06T09:41:46.175Z"
   },
   {
    "duration": 4,
    "start_time": "2024-07-06T09:42:58.958Z"
   },
   {
    "duration": 5,
    "start_time": "2024-07-06T09:46:57.792Z"
   },
   {
    "duration": 6,
    "start_time": "2024-07-06T09:47:15.702Z"
   },
   {
    "duration": 5,
    "start_time": "2024-07-06T09:51:40.579Z"
   },
   {
    "duration": 749,
    "start_time": "2024-07-06T09:53:12.924Z"
   },
   {
    "duration": 10,
    "start_time": "2024-07-06T09:54:13.708Z"
   },
   {
    "duration": 7,
    "start_time": "2024-07-06T09:55:15.341Z"
   },
   {
    "duration": 14,
    "start_time": "2024-07-06T09:55:35.141Z"
   },
   {
    "duration": 78,
    "start_time": "2024-07-06T09:56:57.454Z"
   },
   {
    "duration": 10,
    "start_time": "2024-07-06T09:57:11.551Z"
   },
   {
    "duration": 749,
    "start_time": "2024-07-06T09:57:50.023Z"
   },
   {
    "duration": 685,
    "start_time": "2024-07-06T10:01:39.225Z"
   },
   {
    "duration": 7,
    "start_time": "2024-07-06T10:03:06.508Z"
   },
   {
    "duration": 143,
    "start_time": "2024-07-06T10:04:53.252Z"
   },
   {
    "duration": 8,
    "start_time": "2024-07-06T10:07:46.582Z"
   },
   {
    "duration": 7,
    "start_time": "2024-07-06T10:08:07.630Z"
   },
   {
    "duration": 9,
    "start_time": "2024-07-06T10:10:08.600Z"
   },
   {
    "duration": 5,
    "start_time": "2024-07-06T10:11:43.121Z"
   },
   {
    "duration": 5,
    "start_time": "2024-07-06T10:12:00.345Z"
   },
   {
    "duration": 7,
    "start_time": "2024-07-06T10:12:22.747Z"
   },
   {
    "duration": 66,
    "start_time": "2024-07-06T10:16:06.052Z"
   },
   {
    "duration": 13,
    "start_time": "2024-07-06T10:16:16.365Z"
   },
   {
    "duration": 14,
    "start_time": "2024-07-06T10:16:24.197Z"
   },
   {
    "duration": 19,
    "start_time": "2024-07-06T10:16:35.845Z"
   },
   {
    "duration": 13,
    "start_time": "2024-07-06T10:16:49.973Z"
   },
   {
    "duration": 15,
    "start_time": "2024-07-06T10:17:35.878Z"
   },
   {
    "duration": 28,
    "start_time": "2024-07-06T10:19:02.591Z"
   },
   {
    "duration": 6,
    "start_time": "2024-07-06T11:34:20.846Z"
   },
   {
    "duration": 7,
    "start_time": "2024-07-06T11:36:06.176Z"
   },
   {
    "duration": 16,
    "start_time": "2024-07-06T11:36:22.537Z"
   },
   {
    "duration": 75,
    "start_time": "2024-07-06T11:46:06.135Z"
   },
   {
    "duration": 68,
    "start_time": "2024-07-06T11:46:17.511Z"
   },
   {
    "duration": 16,
    "start_time": "2024-07-06T11:47:03.720Z"
   },
   {
    "duration": 81,
    "start_time": "2024-07-06T11:47:05.904Z"
   },
   {
    "duration": 82,
    "start_time": "2024-07-06T11:48:55.745Z"
   },
   {
    "duration": 80,
    "start_time": "2024-07-06T11:49:10.873Z"
   },
   {
    "duration": 94,
    "start_time": "2024-07-06T11:49:37.073Z"
   },
   {
    "duration": 109,
    "start_time": "2024-07-06T11:51:24.347Z"
   },
   {
    "duration": 115,
    "start_time": "2024-07-06T11:52:34.348Z"
   },
   {
    "duration": 5,
    "start_time": "2024-07-06T11:56:54.879Z"
   },
   {
    "duration": 7,
    "start_time": "2024-07-06T11:57:04.991Z"
   },
   {
    "duration": 7,
    "start_time": "2024-07-06T11:57:42.728Z"
   },
   {
    "duration": 10,
    "start_time": "2024-07-06T11:57:55.071Z"
   },
   {
    "duration": 7,
    "start_time": "2024-07-06T11:59:08.985Z"
   },
   {
    "duration": 98,
    "start_time": "2024-07-06T12:02:06.170Z"
   },
   {
    "duration": 100,
    "start_time": "2024-07-06T12:02:22.083Z"
   },
   {
    "duration": 130,
    "start_time": "2024-07-06T12:03:10.908Z"
   },
   {
    "duration": 791,
    "start_time": "2024-07-06T12:03:48.588Z"
   },
   {
    "duration": 100,
    "start_time": "2024-07-06T12:10:24.475Z"
   },
   {
    "duration": 126,
    "start_time": "2024-07-06T12:10:26.203Z"
   },
   {
    "duration": 115,
    "start_time": "2024-07-06T12:10:26.340Z"
   },
   {
    "duration": 144,
    "start_time": "2024-07-06T12:10:26.478Z"
   },
   {
    "duration": 106,
    "start_time": "2024-07-06T12:10:52.881Z"
   },
   {
    "duration": 1622,
    "start_time": "2024-07-06T12:11:04.865Z"
   },
   {
    "duration": 7,
    "start_time": "2024-07-06T12:11:12.217Z"
   },
   {
    "duration": 20,
    "start_time": "2024-07-06T12:11:15.169Z"
   },
   {
    "duration": 12,
    "start_time": "2024-07-06T12:11:16.969Z"
   },
   {
    "duration": 23,
    "start_time": "2024-07-06T12:11:19.104Z"
   },
   {
    "duration": 17,
    "start_time": "2024-07-06T12:11:20.561Z"
   },
   {
    "duration": 120,
    "start_time": "2024-07-06T12:11:22.001Z"
   },
   {
    "duration": 100,
    "start_time": "2024-07-06T12:11:32.737Z"
   },
   {
    "duration": 119,
    "start_time": "2024-07-06T12:17:22.478Z"
   },
   {
    "duration": 143,
    "start_time": "2024-07-06T12:17:42.494Z"
   },
   {
    "duration": 197,
    "start_time": "2024-07-06T12:17:58.934Z"
   },
   {
    "duration": 194,
    "start_time": "2024-07-06T12:19:04.927Z"
   },
   {
    "duration": 668,
    "start_time": "2024-07-06T12:20:11.592Z"
   },
   {
    "duration": 238,
    "start_time": "2024-07-06T12:20:54.344Z"
   },
   {
    "duration": 227,
    "start_time": "2024-07-06T12:21:07.431Z"
   },
   {
    "duration": 134,
    "start_time": "2024-07-06T12:27:22.109Z"
   },
   {
    "duration": 195,
    "start_time": "2024-07-06T12:29:25.134Z"
   },
   {
    "duration": 7137,
    "start_time": "2024-07-06T12:31:00.490Z"
   },
   {
    "duration": 214,
    "start_time": "2024-07-06T12:31:12.704Z"
   },
   {
    "duration": 34,
    "start_time": "2024-07-06T13:01:35.648Z"
   },
   {
    "duration": 59,
    "start_time": "2024-07-06T13:02:55.905Z"
   },
   {
    "duration": 19,
    "start_time": "2024-07-06T13:03:03.801Z"
   },
   {
    "duration": 18,
    "start_time": "2024-07-06T13:03:08.145Z"
   },
   {
    "duration": 194,
    "start_time": "2024-07-06T13:04:25.033Z"
   },
   {
    "duration": 201,
    "start_time": "2024-07-06T13:04:40.466Z"
   },
   {
    "duration": 202,
    "start_time": "2024-07-06T13:06:26.771Z"
   },
   {
    "duration": 3200,
    "start_time": "2024-07-06T13:07:57.668Z"
   },
   {
    "duration": 209,
    "start_time": "2024-07-06T13:09:53.230Z"
   },
   {
    "duration": 32,
    "start_time": "2024-07-06T13:11:22.720Z"
   },
   {
    "duration": 62,
    "start_time": "2024-07-06T13:11:42.809Z"
   },
   {
    "duration": 284,
    "start_time": "2024-07-06T13:11:47.144Z"
   },
   {
    "duration": 225,
    "start_time": "2024-07-06T13:12:29.297Z"
   },
   {
    "duration": 229,
    "start_time": "2024-07-06T13:12:50.201Z"
   },
   {
    "duration": 320,
    "start_time": "2024-07-06T13:23:31.188Z"
   },
   {
    "duration": 304,
    "start_time": "2024-07-06T13:24:06.372Z"
   },
   {
    "duration": 313,
    "start_time": "2024-07-06T13:24:37.939Z"
   },
   {
    "duration": 321,
    "start_time": "2024-07-06T13:24:54.006Z"
   },
   {
    "duration": 318,
    "start_time": "2024-07-06T13:25:03.086Z"
   },
   {
    "duration": 302,
    "start_time": "2024-07-06T13:25:26.751Z"
   },
   {
    "duration": 303,
    "start_time": "2024-07-06T13:26:54.416Z"
   },
   {
    "duration": 12,
    "start_time": "2024-07-06T13:28:30.473Z"
   },
   {
    "duration": 211,
    "start_time": "2024-07-06T13:28:43.937Z"
   },
   {
    "duration": 200,
    "start_time": "2024-07-06T13:30:48.883Z"
   },
   {
    "duration": 61,
    "start_time": "2024-07-06T13:31:40.660Z"
   },
   {
    "duration": 213,
    "start_time": "2024-07-06T13:31:46.987Z"
   },
   {
    "duration": 192,
    "start_time": "2024-07-06T13:32:01.795Z"
   },
   {
    "duration": 284,
    "start_time": "2024-07-06T14:10:11.703Z"
   },
   {
    "duration": 217,
    "start_time": "2024-07-06T14:10:25.959Z"
   },
   {
    "duration": 713,
    "start_time": "2024-07-06T18:46:54.472Z"
   },
   {
    "duration": 2011,
    "start_time": "2024-07-06T18:46:57.608Z"
   },
   {
    "duration": 7,
    "start_time": "2024-07-06T18:47:00.760Z"
   },
   {
    "duration": 23,
    "start_time": "2024-07-06T18:47:02.808Z"
   },
   {
    "duration": 13,
    "start_time": "2024-07-06T18:47:05.752Z"
   },
   {
    "duration": 23,
    "start_time": "2024-07-06T18:47:07.920Z"
   },
   {
    "duration": 15,
    "start_time": "2024-07-06T18:47:10.752Z"
   },
   {
    "duration": 114,
    "start_time": "2024-07-06T18:47:13.417Z"
   },
   {
    "duration": 186,
    "start_time": "2024-07-06T18:47:18.545Z"
   },
   {
    "duration": 210,
    "start_time": "2024-07-06T18:47:24.682Z"
   },
   {
    "duration": 269,
    "start_time": "2024-07-06T19:03:12.126Z"
   },
   {
    "duration": 204,
    "start_time": "2024-07-06T19:05:12.679Z"
   },
   {
    "duration": 200,
    "start_time": "2024-07-06T19:07:44.593Z"
   },
   {
    "duration": 201,
    "start_time": "2024-07-06T19:09:23.043Z"
   },
   {
    "duration": 66,
    "start_time": "2024-07-06T19:13:07.205Z"
   },
   {
    "duration": 2872,
    "start_time": "2024-07-06T19:13:17.131Z"
   },
   {
    "duration": 327,
    "start_time": "2024-07-06T19:13:35.342Z"
   },
   {
    "duration": 293,
    "start_time": "2024-07-06T19:14:05.446Z"
   },
   {
    "duration": 294,
    "start_time": "2024-07-06T19:14:31.958Z"
   },
   {
    "duration": 289,
    "start_time": "2024-07-06T19:16:08.680Z"
   },
   {
    "duration": 267,
    "start_time": "2024-07-06T19:16:51.592Z"
   },
   {
    "duration": 216,
    "start_time": "2024-07-06T19:18:55.649Z"
   },
   {
    "duration": 68,
    "start_time": "2024-07-06T19:24:00.732Z"
   },
   {
    "duration": 728,
    "start_time": "2024-07-06T19:24:13.546Z"
   },
   {
    "duration": 66,
    "start_time": "2024-07-06T19:25:24.142Z"
   },
   {
    "duration": 805,
    "start_time": "2024-07-06T19:25:41.974Z"
   },
   {
    "duration": 1773,
    "start_time": "2024-07-06T19:26:53.255Z"
   },
   {
    "duration": 984,
    "start_time": "2024-07-06T19:29:02.918Z"
   },
   {
    "duration": 912,
    "start_time": "2024-07-06T19:30:29.745Z"
   },
   {
    "duration": 751,
    "start_time": "2024-07-06T19:30:47.298Z"
   },
   {
    "duration": 198,
    "start_time": "2024-07-06T19:31:15.273Z"
   },
   {
    "duration": 334,
    "start_time": "2024-07-06T19:31:52.425Z"
   },
   {
    "duration": 177,
    "start_time": "2024-07-06T19:33:22.459Z"
   },
   {
    "duration": 195,
    "start_time": "2024-07-06T19:33:31.163Z"
   },
   {
    "duration": 195,
    "start_time": "2024-07-06T19:33:39.235Z"
   },
   {
    "duration": 176,
    "start_time": "2024-07-06T19:33:58.868Z"
   },
   {
    "duration": 102,
    "start_time": "2024-07-06T19:34:06.275Z"
   },
   {
    "duration": 92,
    "start_time": "2024-07-06T19:34:09.804Z"
   },
   {
    "duration": 92,
    "start_time": "2024-07-06T19:34:30.596Z"
   },
   {
    "duration": 178,
    "start_time": "2024-07-06T19:35:33.405Z"
   },
   {
    "duration": 306,
    "start_time": "2024-07-06T19:35:39.732Z"
   },
   {
    "duration": 202,
    "start_time": "2024-07-06T19:36:13.341Z"
   },
   {
    "duration": 184,
    "start_time": "2024-07-06T19:37:21.910Z"
   },
   {
    "duration": 196,
    "start_time": "2024-07-06T19:37:57.311Z"
   },
   {
    "duration": 234,
    "start_time": "2024-07-06T19:38:07.119Z"
   },
   {
    "duration": 206,
    "start_time": "2024-07-06T19:38:18.143Z"
   },
   {
    "duration": 186,
    "start_time": "2024-07-06T19:38:36.102Z"
   },
   {
    "duration": 303,
    "start_time": "2024-07-06T19:38:49.575Z"
   },
   {
    "duration": 192,
    "start_time": "2024-07-06T19:40:45.802Z"
   },
   {
    "duration": 192,
    "start_time": "2024-07-06T19:40:55.201Z"
   },
   {
    "duration": 188,
    "start_time": "2024-07-06T19:41:30.489Z"
   },
   {
    "duration": 199,
    "start_time": "2024-07-06T19:41:55.113Z"
   },
   {
    "duration": 200,
    "start_time": "2024-07-06T19:42:10.489Z"
   },
   {
    "duration": 3128,
    "start_time": "2024-07-06T19:44:38.636Z"
   },
   {
    "duration": 4,
    "start_time": "2024-07-06T19:45:22.962Z"
   },
   {
    "duration": 3117,
    "start_time": "2024-07-06T19:45:30.300Z"
   },
   {
    "duration": 3051,
    "start_time": "2024-07-06T19:45:47.390Z"
   },
   {
    "duration": 223,
    "start_time": "2024-07-06T19:46:00.164Z"
   },
   {
    "duration": 223,
    "start_time": "2024-07-06T19:46:24.790Z"
   },
   {
    "duration": 227,
    "start_time": "2024-07-06T19:46:38.701Z"
   },
   {
    "duration": 243,
    "start_time": "2024-07-06T19:46:45.013Z"
   },
   {
    "duration": 7,
    "start_time": "2024-07-06T19:47:16.973Z"
   },
   {
    "duration": 200,
    "start_time": "2024-07-06T19:47:23.485Z"
   },
   {
    "duration": 6,
    "start_time": "2024-07-06T19:47:53.270Z"
   },
   {
    "duration": 85,
    "start_time": "2024-07-06T19:49:40.958Z"
   },
   {
    "duration": 236,
    "start_time": "2024-07-06T19:49:46.590Z"
   },
   {
    "duration": 10,
    "start_time": "2024-07-06T19:49:55.688Z"
   },
   {
    "duration": 223,
    "start_time": "2024-07-06T19:50:04.471Z"
   },
   {
    "duration": 461,
    "start_time": "2024-07-06T19:50:14.447Z"
   },
   {
    "duration": 13,
    "start_time": "2024-07-06T19:51:19.416Z"
   },
   {
    "duration": 213,
    "start_time": "2024-07-06T19:51:47.136Z"
   },
   {
    "duration": 209,
    "start_time": "2024-07-06T19:52:17.680Z"
   },
   {
    "duration": 210,
    "start_time": "2024-07-06T19:52:42.776Z"
   },
   {
    "duration": 209,
    "start_time": "2024-07-06T19:53:11.128Z"
   },
   {
    "duration": 201,
    "start_time": "2024-07-06T19:53:23.552Z"
   },
   {
    "duration": 205,
    "start_time": "2024-07-06T19:54:04.705Z"
   },
   {
    "duration": 351,
    "start_time": "2024-07-06T20:06:59.610Z"
   },
   {
    "duration": 214,
    "start_time": "2024-07-06T20:07:07.961Z"
   },
   {
    "duration": 237,
    "start_time": "2024-07-06T20:08:23.059Z"
   },
   {
    "duration": 178,
    "start_time": "2024-07-06T20:11:22.701Z"
   },
   {
    "duration": 172,
    "start_time": "2024-07-06T20:11:36.692Z"
   },
   {
    "duration": 214,
    "start_time": "2024-07-06T20:12:05.357Z"
   },
   {
    "duration": 183,
    "start_time": "2024-07-06T20:12:20.566Z"
   },
   {
    "duration": 314,
    "start_time": "2024-07-06T20:12:31.109Z"
   },
   {
    "duration": 187,
    "start_time": "2024-07-06T20:13:11.990Z"
   },
   {
    "duration": 187,
    "start_time": "2024-07-06T20:13:36.342Z"
   },
   {
    "duration": 181,
    "start_time": "2024-07-06T20:14:07.375Z"
   },
   {
    "duration": 193,
    "start_time": "2024-07-06T20:18:18.930Z"
   },
   {
    "duration": 43,
    "start_time": "2024-07-06T20:18:55.746Z"
   },
   {
    "duration": 8,
    "start_time": "2024-07-06T20:22:31.828Z"
   },
   {
    "duration": 8,
    "start_time": "2024-07-06T20:24:15.262Z"
   },
   {
    "duration": 8,
    "start_time": "2024-07-06T20:24:54.359Z"
   },
   {
    "duration": 8,
    "start_time": "2024-07-06T20:25:14.551Z"
   },
   {
    "duration": 85,
    "start_time": "2024-07-06T20:29:32.018Z"
   },
   {
    "duration": 58,
    "start_time": "2024-07-06T20:29:39.826Z"
   },
   {
    "duration": 41,
    "start_time": "2024-07-06T20:29:49.874Z"
   },
   {
    "duration": 634,
    "start_time": "2024-07-06T20:30:02.202Z"
   },
   {
    "duration": 1841,
    "start_time": "2024-07-06T20:30:05.202Z"
   },
   {
    "duration": 7,
    "start_time": "2024-07-06T20:30:07.045Z"
   },
   {
    "duration": 19,
    "start_time": "2024-07-06T20:30:07.898Z"
   },
   {
    "duration": 12,
    "start_time": "2024-07-06T20:30:08.885Z"
   },
   {
    "duration": 22,
    "start_time": "2024-07-06T20:30:09.811Z"
   },
   {
    "duration": 15,
    "start_time": "2024-07-06T20:30:10.779Z"
   },
   {
    "duration": 114,
    "start_time": "2024-07-06T20:30:11.738Z"
   },
   {
    "duration": 192,
    "start_time": "2024-07-06T20:30:13.146Z"
   },
   {
    "duration": 220,
    "start_time": "2024-07-06T20:30:14.051Z"
   },
   {
    "duration": 200,
    "start_time": "2024-07-06T20:30:14.971Z"
   },
   {
    "duration": 233,
    "start_time": "2024-07-06T20:30:16.557Z"
   },
   {
    "duration": 220,
    "start_time": "2024-07-06T20:30:17.148Z"
   },
   {
    "duration": 194,
    "start_time": "2024-07-06T20:30:18.116Z"
   },
   {
    "duration": 200,
    "start_time": "2024-07-06T20:30:23.859Z"
   },
   {
    "duration": 206,
    "start_time": "2024-07-06T20:30:26.123Z"
   },
   {
    "duration": 273,
    "start_time": "2024-07-06T20:30:30.131Z"
   },
   {
    "duration": 217,
    "start_time": "2024-07-06T20:30:34.058Z"
   },
   {
    "duration": 45,
    "start_time": "2024-07-06T20:30:50.923Z"
   },
   {
    "duration": 643,
    "start_time": "2024-07-06T20:32:21.685Z"
   },
   {
    "duration": 1827,
    "start_time": "2024-07-06T20:32:25.060Z"
   },
   {
    "duration": 7,
    "start_time": "2024-07-06T20:32:27.332Z"
   },
   {
    "duration": 19,
    "start_time": "2024-07-06T20:32:27.828Z"
   },
   {
    "duration": 13,
    "start_time": "2024-07-06T20:32:28.172Z"
   },
   {
    "duration": 23,
    "start_time": "2024-07-06T20:32:28.524Z"
   },
   {
    "duration": 26,
    "start_time": "2024-07-06T20:32:28.909Z"
   },
   {
    "duration": 111,
    "start_time": "2024-07-06T20:32:29.269Z"
   },
   {
    "duration": 191,
    "start_time": "2024-07-06T20:32:29.988Z"
   },
   {
    "duration": 215,
    "start_time": "2024-07-06T20:32:30.976Z"
   },
   {
    "duration": 206,
    "start_time": "2024-07-06T20:32:31.365Z"
   },
   {
    "duration": 239,
    "start_time": "2024-07-06T20:32:31.724Z"
   },
   {
    "duration": 197,
    "start_time": "2024-07-06T20:32:32.437Z"
   },
   {
    "duration": 203,
    "start_time": "2024-07-06T20:32:33.005Z"
   },
   {
    "duration": 226,
    "start_time": "2024-07-06T20:32:34.309Z"
   },
   {
    "duration": 206,
    "start_time": "2024-07-06T20:32:37.148Z"
   },
   {
    "duration": 266,
    "start_time": "2024-07-06T20:32:37.789Z"
   },
   {
    "duration": 13,
    "start_time": "2024-07-06T20:32:42.348Z"
   },
   {
    "duration": 15,
    "start_time": "2024-07-06T20:33:12.749Z"
   },
   {
    "duration": 14,
    "start_time": "2024-07-06T20:33:57.030Z"
   },
   {
    "duration": 15,
    "start_time": "2024-07-06T20:34:19.094Z"
   },
   {
    "duration": 16,
    "start_time": "2024-07-06T20:34:41.478Z"
   },
   {
    "duration": 22,
    "start_time": "2024-07-06T20:35:49.368Z"
   },
   {
    "duration": 20,
    "start_time": "2024-07-06T20:36:01.527Z"
   },
   {
    "duration": 22,
    "start_time": "2024-07-06T20:36:15.927Z"
   },
   {
    "duration": 4,
    "start_time": "2024-07-06T20:36:56.296Z"
   },
   {
    "duration": 221,
    "start_time": "2024-07-06T20:37:00.944Z"
   },
   {
    "duration": 211,
    "start_time": "2024-07-06T20:37:45.289Z"
   },
   {
    "duration": 204,
    "start_time": "2024-07-06T20:38:05.425Z"
   },
   {
    "duration": 184,
    "start_time": "2024-07-06T20:39:31.458Z"
   },
   {
    "duration": 188,
    "start_time": "2024-07-06T20:40:19.267Z"
   },
   {
    "duration": 256,
    "start_time": "2024-07-06T20:40:56.923Z"
   },
   {
    "duration": 194,
    "start_time": "2024-07-06T20:41:18.595Z"
   },
   {
    "duration": 192,
    "start_time": "2024-07-06T20:41:26.748Z"
   },
   {
    "duration": 2946,
    "start_time": "2024-07-06T20:41:57.244Z"
   },
   {
    "duration": 323,
    "start_time": "2024-07-06T20:42:13.060Z"
   },
   {
    "duration": 44,
    "start_time": "2024-07-06T20:42:34.438Z"
   },
   {
    "duration": 196,
    "start_time": "2024-07-06T20:42:41.724Z"
   },
   {
    "duration": 593,
    "start_time": "2024-07-07T10:42:24.950Z"
   },
   {
    "duration": 2052,
    "start_time": "2024-07-07T10:42:27.830Z"
   },
   {
    "duration": 8,
    "start_time": "2024-07-07T10:42:30.875Z"
   },
   {
    "duration": 20,
    "start_time": "2024-07-07T10:42:31.854Z"
   },
   {
    "duration": 15,
    "start_time": "2024-07-07T10:42:32.912Z"
   },
   {
    "duration": 23,
    "start_time": "2024-07-07T10:42:34.216Z"
   },
   {
    "duration": 15,
    "start_time": "2024-07-07T10:42:35.846Z"
   },
   {
    "duration": 116,
    "start_time": "2024-07-07T10:42:37.470Z"
   },
   {
    "duration": 194,
    "start_time": "2024-07-07T10:42:40.478Z"
   },
   {
    "duration": 233,
    "start_time": "2024-07-07T10:42:41.846Z"
   },
   {
    "duration": 256,
    "start_time": "2024-07-07T10:42:43.950Z"
   },
   {
    "duration": 207,
    "start_time": "2024-07-07T10:53:45.142Z"
   },
   {
    "duration": 14,
    "start_time": "2024-07-07T10:54:58.398Z"
   },
   {
    "duration": 202,
    "start_time": "2024-07-07T10:55:00.392Z"
   },
   {
    "duration": 3,
    "start_time": "2024-07-07T11:02:15.271Z"
   },
   {
    "duration": 70,
    "start_time": "2024-07-07T11:02:36.862Z"
   },
   {
    "duration": 7,
    "start_time": "2024-07-07T11:02:45.104Z"
   },
   {
    "duration": 19,
    "start_time": "2024-07-07T11:16:43.522Z"
   },
   {
    "duration": 16,
    "start_time": "2024-07-07T11:17:55.468Z"
   },
   {
    "duration": 12,
    "start_time": "2024-07-07T11:18:50.438Z"
   },
   {
    "duration": 16,
    "start_time": "2024-07-07T11:39:58.399Z"
   },
   {
    "duration": 16,
    "start_time": "2024-07-07T11:40:36.698Z"
   },
   {
    "duration": 15,
    "start_time": "2024-07-07T11:40:56.530Z"
   },
   {
    "duration": 14,
    "start_time": "2024-07-07T11:42:42.458Z"
   },
   {
    "duration": 16,
    "start_time": "2024-07-07T11:43:50.597Z"
   },
   {
    "duration": 18,
    "start_time": "2024-07-07T11:45:23.114Z"
   },
   {
    "duration": 10,
    "start_time": "2024-07-07T11:49:44.842Z"
   },
   {
    "duration": 77,
    "start_time": "2024-07-07T11:53:24.227Z"
   },
   {
    "duration": 54,
    "start_time": "2024-07-07T11:53:39.149Z"
   },
   {
    "duration": 21,
    "start_time": "2024-07-07T11:54:00.677Z"
   },
   {
    "duration": 19,
    "start_time": "2024-07-07T11:54:49.981Z"
   },
   {
    "duration": 247,
    "start_time": "2024-07-07T11:56:10.811Z"
   },
   {
    "duration": 11,
    "start_time": "2024-07-07T11:56:31.425Z"
   },
   {
    "duration": 16,
    "start_time": "2024-07-07T11:57:09.336Z"
   },
   {
    "duration": 19,
    "start_time": "2024-07-07T11:58:50.105Z"
   },
   {
    "duration": 152,
    "start_time": "2024-07-07T11:59:09.249Z"
   },
   {
    "duration": 53,
    "start_time": "2024-07-07T12:00:04.466Z"
   },
   {
    "duration": 51,
    "start_time": "2024-07-07T12:00:20.651Z"
   },
   {
    "duration": 322,
    "start_time": "2024-07-07T12:04:25.647Z"
   },
   {
    "duration": 25,
    "start_time": "2024-07-07T12:06:01.527Z"
   },
   {
    "duration": 22,
    "start_time": "2024-07-07T12:06:06.847Z"
   },
   {
    "duration": 17,
    "start_time": "2024-07-07T12:06:08.344Z"
   },
   {
    "duration": 116,
    "start_time": "2024-07-07T12:06:09.218Z"
   },
   {
    "duration": 187,
    "start_time": "2024-07-07T12:06:10.583Z"
   },
   {
    "duration": 211,
    "start_time": "2024-07-07T12:06:12.040Z"
   },
   {
    "duration": 278,
    "start_time": "2024-07-07T12:06:12.895Z"
   },
   {
    "duration": 197,
    "start_time": "2024-07-07T12:06:14.009Z"
   },
   {
    "duration": 204,
    "start_time": "2024-07-07T12:06:14.454Z"
   },
   {
    "duration": 207,
    "start_time": "2024-07-07T12:06:14.967Z"
   },
   {
    "duration": 207,
    "start_time": "2024-07-07T12:06:17.895Z"
   },
   {
    "duration": 285,
    "start_time": "2024-07-07T12:06:20.335Z"
   },
   {
    "duration": 213,
    "start_time": "2024-07-07T12:06:25.872Z"
   },
   {
    "duration": 217,
    "start_time": "2024-07-07T12:06:27.327Z"
   },
   {
    "duration": 58,
    "start_time": "2024-07-07T12:06:29.888Z"
   },
   {
    "duration": 330,
    "start_time": "2024-07-07T12:06:33.440Z"
   },
   {
    "duration": 319,
    "start_time": "2024-07-07T12:07:21.115Z"
   },
   {
    "duration": 185,
    "start_time": "2024-07-07T12:08:09.315Z"
   },
   {
    "duration": 193,
    "start_time": "2024-07-07T12:09:27.586Z"
   },
   {
    "duration": 190,
    "start_time": "2024-07-07T12:10:49.243Z"
   },
   {
    "duration": 57,
    "start_time": "2024-07-07T12:10:54.051Z"
   },
   {
    "duration": 286,
    "start_time": "2024-07-07T12:11:00.603Z"
   },
   {
    "duration": 197,
    "start_time": "2024-07-07T12:11:14.510Z"
   },
   {
    "duration": 195,
    "start_time": "2024-07-07T12:11:30.012Z"
   },
   {
    "duration": 203,
    "start_time": "2024-07-07T12:12:00.109Z"
   },
   {
    "duration": 10,
    "start_time": "2024-07-07T12:12:06.440Z"
   },
   {
    "duration": 200,
    "start_time": "2024-07-07T12:12:07.979Z"
   },
   {
    "duration": 315,
    "start_time": "2024-07-07T12:26:38.889Z"
   },
   {
    "duration": 311,
    "start_time": "2024-07-07T12:28:21.730Z"
   },
   {
    "duration": 311,
    "start_time": "2024-07-07T12:29:19.235Z"
   },
   {
    "duration": 327,
    "start_time": "2024-07-07T12:29:55.859Z"
   },
   {
    "duration": 8,
    "start_time": "2024-07-07T12:30:21.555Z"
   },
   {
    "duration": 320,
    "start_time": "2024-07-07T12:30:30.220Z"
   },
   {
    "duration": 343,
    "start_time": "2024-07-07T12:31:13.661Z"
   },
   {
    "duration": 88,
    "start_time": "2024-07-07T12:36:18.913Z"
   },
   {
    "duration": 6,
    "start_time": "2024-07-07T12:40:04.952Z"
   },
   {
    "duration": 5,
    "start_time": "2024-07-07T12:40:23.050Z"
   },
   {
    "duration": 5,
    "start_time": "2024-07-07T12:40:45.073Z"
   },
   {
    "duration": 7,
    "start_time": "2024-07-07T12:41:38.409Z"
   },
   {
    "duration": 7,
    "start_time": "2024-07-07T12:41:59.568Z"
   },
   {
    "duration": 295,
    "start_time": "2024-07-07T12:42:48.149Z"
   },
   {
    "duration": 316,
    "start_time": "2024-07-07T12:43:09.368Z"
   },
   {
    "duration": 5,
    "start_time": "2024-07-07T12:45:02.438Z"
   },
   {
    "duration": 188,
    "start_time": "2024-07-07T12:47:49.156Z"
   },
   {
    "duration": 202,
    "start_time": "2024-07-07T13:12:48.498Z"
   },
   {
    "duration": 207,
    "start_time": "2024-07-07T13:13:08.793Z"
   },
   {
    "duration": 210,
    "start_time": "2024-07-07T13:13:29.977Z"
   },
   {
    "duration": 211,
    "start_time": "2024-07-07T13:14:17.882Z"
   },
   {
    "duration": 292,
    "start_time": "2024-07-07T13:14:29.985Z"
   },
   {
    "duration": 192,
    "start_time": "2024-07-07T13:15:52.467Z"
   },
   {
    "duration": 193,
    "start_time": "2024-07-07T13:16:17.354Z"
   },
   {
    "duration": 193,
    "start_time": "2024-07-07T13:16:25.882Z"
   },
   {
    "duration": 188,
    "start_time": "2024-07-07T13:16:31.459Z"
   },
   {
    "duration": 190,
    "start_time": "2024-07-07T13:16:38.267Z"
   },
   {
    "duration": 278,
    "start_time": "2024-07-07T13:17:03.028Z"
   },
   {
    "duration": 3933,
    "start_time": "2024-07-07T13:21:28.095Z"
   },
   {
    "duration": 230,
    "start_time": "2024-07-07T13:21:43.472Z"
   },
   {
    "duration": 10,
    "start_time": "2024-07-07T13:22:02.847Z"
   },
   {
    "duration": 209,
    "start_time": "2024-07-07T13:22:47.383Z"
   },
   {
    "duration": 313,
    "start_time": "2024-07-07T13:23:28.535Z"
   },
   {
    "duration": 224,
    "start_time": "2024-07-07T13:24:03.375Z"
   },
   {
    "duration": 533,
    "start_time": "2024-07-07T13:24:12.680Z"
   },
   {
    "duration": 216,
    "start_time": "2024-07-07T13:24:42.487Z"
   },
   {
    "duration": 212,
    "start_time": "2024-07-07T13:25:35.640Z"
   },
   {
    "duration": 194,
    "start_time": "2024-07-07T13:29:47.858Z"
   },
   {
    "duration": 193,
    "start_time": "2024-07-07T13:30:25.770Z"
   },
   {
    "duration": 275,
    "start_time": "2024-07-07T13:30:45.796Z"
   },
   {
    "duration": 198,
    "start_time": "2024-07-07T13:30:55.956Z"
   },
   {
    "duration": 185,
    "start_time": "2024-07-07T13:31:15.739Z"
   },
   {
    "duration": 195,
    "start_time": "2024-07-07T13:31:22.076Z"
   },
   {
    "duration": 206,
    "start_time": "2024-07-07T13:32:07.556Z"
   },
   {
    "duration": 198,
    "start_time": "2024-07-07T13:32:37.629Z"
   },
   {
    "duration": 293,
    "start_time": "2024-07-07T13:32:50.525Z"
   },
   {
    "duration": 119,
    "start_time": "2024-07-07T13:32:54.427Z"
   },
   {
    "duration": 198,
    "start_time": "2024-07-07T13:33:03.636Z"
   },
   {
    "duration": 85,
    "start_time": "2024-07-07T13:33:50.941Z"
   },
   {
    "duration": 218,
    "start_time": "2024-07-07T13:33:57.821Z"
   },
   {
    "duration": 209,
    "start_time": "2024-07-07T13:34:32.542Z"
   },
   {
    "duration": 189,
    "start_time": "2024-07-07T13:35:17.965Z"
   },
   {
    "duration": 287,
    "start_time": "2024-07-07T13:35:50.671Z"
   },
   {
    "duration": 13,
    "start_time": "2024-07-07T13:42:22.050Z"
   },
   {
    "duration": 134,
    "start_time": "2024-07-07T13:42:39.674Z"
   },
   {
    "duration": 13,
    "start_time": "2024-07-07T13:43:15.346Z"
   },
   {
    "duration": 132,
    "start_time": "2024-07-07T13:43:19.675Z"
   },
   {
    "duration": 108,
    "start_time": "2024-07-07T13:44:00.131Z"
   },
   {
    "duration": 65,
    "start_time": "2024-07-07T13:45:56.143Z"
   },
   {
    "duration": 5,
    "start_time": "2024-07-07T13:46:01.524Z"
   },
   {
    "duration": 167,
    "start_time": "2024-07-07T13:48:23.370Z"
   },
   {
    "duration": 168,
    "start_time": "2024-07-07T13:49:02.300Z"
   },
   {
    "duration": 171,
    "start_time": "2024-07-07T13:50:29.333Z"
   },
   {
    "duration": 53,
    "start_time": "2024-07-07T13:56:04.236Z"
   },
   {
    "duration": 2085,
    "start_time": "2024-07-07T13:56:52.221Z"
   },
   {
    "duration": 5803,
    "start_time": "2024-07-07T13:59:26.192Z"
   },
   {
    "duration": 5952,
    "start_time": "2024-07-07T14:00:26.489Z"
   },
   {
    "duration": 5895,
    "start_time": "2024-07-07T14:00:39.057Z"
   },
   {
    "duration": 69,
    "start_time": "2024-07-07T14:02:49.539Z"
   },
   {
    "duration": 15,
    "start_time": "2024-07-07T14:02:57.874Z"
   },
   {
    "duration": 15,
    "start_time": "2024-07-07T14:03:17.859Z"
   },
   {
    "duration": 2138,
    "start_time": "2024-07-07T14:04:05.164Z"
   },
   {
    "duration": 2574,
    "start_time": "2024-07-07T14:05:07.573Z"
   },
   {
    "duration": 22,
    "start_time": "2024-07-07T14:05:42.558Z"
   },
   {
    "duration": 2323,
    "start_time": "2024-07-07T14:05:49.366Z"
   },
   {
    "duration": 6701,
    "start_time": "2024-07-07T16:56:56.528Z"
   },
   {
    "duration": 6613,
    "start_time": "2024-07-07T16:59:46.635Z"
   },
   {
    "duration": 6799,
    "start_time": "2024-07-07T17:03:17.750Z"
   },
   {
    "duration": 6676,
    "start_time": "2024-07-07T17:03:45.129Z"
   },
   {
    "duration": 127,
    "start_time": "2024-07-07T17:04:27.835Z"
   },
   {
    "duration": 1831,
    "start_time": "2024-07-07T17:04:29.446Z"
   },
   {
    "duration": 11,
    "start_time": "2024-07-07T17:04:32.119Z"
   },
   {
    "duration": 27,
    "start_time": "2024-07-07T17:04:33.590Z"
   },
   {
    "duration": 19,
    "start_time": "2024-07-07T17:04:35.224Z"
   },
   {
    "duration": 21,
    "start_time": "2024-07-07T17:04:36.439Z"
   },
   {
    "duration": 20,
    "start_time": "2024-07-07T17:04:37.616Z"
   },
   {
    "duration": 145,
    "start_time": "2024-07-07T17:04:39.023Z"
   },
   {
    "duration": 6,
    "start_time": "2024-07-07T17:04:43.055Z"
   },
   {
    "duration": 356,
    "start_time": "2024-07-07T17:04:46.127Z"
   },
   {
    "duration": 8,
    "start_time": "2024-07-07T17:04:50.529Z"
   },
   {
    "duration": 5,
    "start_time": "2024-07-07T17:04:51.767Z"
   },
   {
    "duration": 6,
    "start_time": "2024-07-07T17:04:53.287Z"
   },
   {
    "duration": 369,
    "start_time": "2024-07-07T17:04:54.495Z"
   },
   {
    "duration": 7,
    "start_time": "2024-07-07T17:04:55.543Z"
   },
   {
    "duration": 205,
    "start_time": "2024-07-07T17:04:59.279Z"
   },
   {
    "duration": 266,
    "start_time": "2024-07-07T17:05:03.094Z"
   },
   {
    "duration": 237,
    "start_time": "2024-07-07T17:05:04.527Z"
   },
   {
    "duration": 584,
    "start_time": "2024-07-07T17:05:05.391Z"
   },
   {
    "duration": 228,
    "start_time": "2024-07-07T17:05:05.977Z"
   },
   {
    "duration": 242,
    "start_time": "2024-07-07T17:05:06.206Z"
   },
   {
    "duration": 248,
    "start_time": "2024-07-07T17:05:07.035Z"
   },
   {
    "duration": 227,
    "start_time": "2024-07-07T17:05:07.784Z"
   },
   {
    "duration": 233,
    "start_time": "2024-07-07T17:05:08.233Z"
   },
   {
    "duration": 240,
    "start_time": "2024-07-07T17:05:09.519Z"
   },
   {
    "duration": 17,
    "start_time": "2024-07-07T17:05:11.208Z"
   },
   {
    "duration": 233,
    "start_time": "2024-07-07T17:05:12.121Z"
   },
   {
    "duration": 215,
    "start_time": "2024-07-07T17:05:14.128Z"
   },
   {
    "duration": 10,
    "start_time": "2024-07-07T17:05:14.951Z"
   },
   {
    "duration": 230,
    "start_time": "2024-07-07T17:05:16.627Z"
   },
   {
    "duration": 227,
    "start_time": "2024-07-07T17:05:17.208Z"
   },
   {
    "duration": 217,
    "start_time": "2024-07-07T17:05:21.360Z"
   },
   {
    "duration": 6605,
    "start_time": "2024-07-07T17:05:36.544Z"
   },
   {
    "duration": 11,
    "start_time": "2024-07-07T17:09:32.028Z"
   },
   {
    "duration": 6602,
    "start_time": "2024-07-07T17:09:37.413Z"
   },
   {
    "duration": 5961,
    "start_time": "2024-07-07T17:11:15.356Z"
   },
   {
    "duration": 17,
    "start_time": "2024-07-07T17:12:33.379Z"
   },
   {
    "duration": 13,
    "start_time": "2024-07-07T17:18:46.827Z"
   },
   {
    "duration": 12,
    "start_time": "2024-07-07T17:19:25.397Z"
   },
   {
    "duration": 24,
    "start_time": "2024-07-07T17:20:07.315Z"
   },
   {
    "duration": 25,
    "start_time": "2024-07-07T17:20:21.363Z"
   },
   {
    "duration": 28,
    "start_time": "2024-07-07T17:20:53.507Z"
   },
   {
    "duration": 28,
    "start_time": "2024-07-07T17:21:04.379Z"
   },
   {
    "duration": 2635,
    "start_time": "2024-07-07T17:26:04.722Z"
   },
   {
    "duration": 17,
    "start_time": "2024-07-07T17:29:39.176Z"
   },
   {
    "duration": 1952,
    "start_time": "2024-07-07T17:29:51.216Z"
   },
   {
    "duration": 2196,
    "start_time": "2024-07-07T17:31:42.289Z"
   },
   {
    "duration": 63465,
    "start_time": "2024-07-07T17:36:51.290Z"
   },
   {
    "duration": 64720,
    "start_time": "2024-07-07T17:37:54.757Z"
   },
   {
    "duration": 30,
    "start_time": "2024-07-07T17:42:35.681Z"
   },
   {
    "duration": 188,
    "start_time": "2024-07-07T17:43:36.273Z"
   },
   {
    "duration": 491,
    "start_time": "2024-07-07T17:43:42.858Z"
   },
   {
    "duration": 221,
    "start_time": "2024-07-07T17:43:59.985Z"
   },
   {
    "duration": 196,
    "start_time": "2024-07-07T17:44:10.898Z"
   },
   {
    "duration": 202,
    "start_time": "2024-07-07T17:44:31.841Z"
   },
   {
    "duration": 220,
    "start_time": "2024-07-07T17:44:51.730Z"
   },
   {
    "duration": 282,
    "start_time": "2024-07-07T17:45:10.906Z"
   },
   {
    "duration": 285,
    "start_time": "2024-07-07T17:45:19.154Z"
   },
   {
    "duration": 231,
    "start_time": "2024-07-07T17:45:30.938Z"
   },
   {
    "duration": 238,
    "start_time": "2024-07-07T17:45:54.397Z"
   },
   {
    "duration": 226,
    "start_time": "2024-07-07T17:46:50.604Z"
   },
   {
    "duration": 14,
    "start_time": "2024-07-07T17:57:37.247Z"
   },
   {
    "duration": 92,
    "start_time": "2024-07-07T17:59:39.649Z"
   },
   {
    "duration": 47,
    "start_time": "2024-07-07T17:59:52.089Z"
   },
   {
    "duration": 51,
    "start_time": "2024-07-07T18:00:06.873Z"
   },
   {
    "duration": 19,
    "start_time": "2024-07-07T18:00:45.889Z"
   },
   {
    "duration": 19,
    "start_time": "2024-07-07T18:01:03.967Z"
   },
   {
    "duration": 20,
    "start_time": "2024-07-07T18:01:47.057Z"
   },
   {
    "duration": 17,
    "start_time": "2024-07-07T18:02:22.962Z"
   },
   {
    "duration": 29,
    "start_time": "2024-07-07T18:09:54.312Z"
   },
   {
    "duration": 27,
    "start_time": "2024-07-07T18:10:20.032Z"
   },
   {
    "duration": 27,
    "start_time": "2024-07-07T18:12:08.817Z"
   },
   {
    "duration": 37,
    "start_time": "2024-07-07T18:13:26.618Z"
   },
   {
    "duration": 29,
    "start_time": "2024-07-07T18:16:06.067Z"
   },
   {
    "duration": 26,
    "start_time": "2024-07-07T18:24:24.718Z"
   },
   {
    "duration": 11,
    "start_time": "2024-07-07T18:24:35.736Z"
   },
   {
    "duration": 3,
    "start_time": "2024-07-07T18:26:01.952Z"
   },
   {
    "duration": 3,
    "start_time": "2024-07-07T18:26:11.688Z"
   },
   {
    "duration": 11,
    "start_time": "2024-07-07T18:26:22.488Z"
   },
   {
    "duration": 19,
    "start_time": "2024-07-07T18:26:30.193Z"
   },
   {
    "duration": 26,
    "start_time": "2024-07-07T18:26:57.934Z"
   },
   {
    "duration": 17,
    "start_time": "2024-07-07T18:27:16.642Z"
   },
   {
    "duration": 26,
    "start_time": "2024-07-07T18:28:03.330Z"
   },
   {
    "duration": 1064,
    "start_time": "2024-07-07T18:28:44.787Z"
   },
   {
    "duration": 27,
    "start_time": "2024-07-07T18:29:13.084Z"
   },
   {
    "duration": 141,
    "start_time": "2024-07-07T18:29:19.684Z"
   },
   {
    "duration": 12,
    "start_time": "2024-07-07T18:36:31.264Z"
   },
   {
    "duration": 15,
    "start_time": "2024-07-07T18:39:41.821Z"
   },
   {
    "duration": 4,
    "start_time": "2024-07-07T18:40:18.182Z"
   },
   {
    "duration": 131,
    "start_time": "2024-07-07T18:40:26.975Z"
   },
   {
    "duration": 131,
    "start_time": "2024-07-07T18:41:06.247Z"
   },
   {
    "duration": 155,
    "start_time": "2024-07-07T18:42:50.280Z"
   },
   {
    "duration": 163,
    "start_time": "2024-07-07T18:43:22.769Z"
   },
   {
    "duration": 189,
    "start_time": "2024-07-07T18:43:42.816Z"
   },
   {
    "duration": 137,
    "start_time": "2024-07-07T18:44:16.658Z"
   },
   {
    "duration": 73,
    "start_time": "2024-07-07T18:44:29.913Z"
   },
   {
    "duration": 69,
    "start_time": "2024-07-07T18:44:35.347Z"
   },
   {
    "duration": 125,
    "start_time": "2024-07-07T18:45:13.436Z"
   },
   {
    "duration": 9,
    "start_time": "2024-07-07T18:46:38.187Z"
   },
   {
    "duration": 113,
    "start_time": "2024-07-07T18:46:53.139Z"
   },
   {
    "duration": 113,
    "start_time": "2024-07-07T18:47:42.620Z"
   },
   {
    "duration": 6,
    "start_time": "2024-07-07T18:48:19.206Z"
   },
   {
    "duration": 116,
    "start_time": "2024-07-07T18:48:30.229Z"
   },
   {
    "duration": 119,
    "start_time": "2024-07-07T18:51:25.279Z"
   },
   {
    "duration": 116,
    "start_time": "2024-07-07T18:51:43.352Z"
   },
   {
    "duration": 117,
    "start_time": "2024-07-07T18:52:17.464Z"
   },
   {
    "duration": 118,
    "start_time": "2024-07-07T18:54:18.579Z"
   },
   {
    "duration": 127,
    "start_time": "2024-07-07T18:55:48.526Z"
   },
   {
    "duration": 134,
    "start_time": "2024-07-07T18:56:12.150Z"
   },
   {
    "duration": 137,
    "start_time": "2024-07-07T18:56:29.102Z"
   },
   {
    "duration": 115,
    "start_time": "2024-07-07T18:56:57.937Z"
   },
   {
    "duration": 354,
    "start_time": "2024-07-07T18:57:45.529Z"
   },
   {
    "duration": 386,
    "start_time": "2024-07-07T18:58:17.057Z"
   },
   {
    "duration": 374,
    "start_time": "2024-07-07T19:01:15.285Z"
   },
   {
    "duration": 379,
    "start_time": "2024-07-07T19:01:25.036Z"
   },
   {
    "duration": 459,
    "start_time": "2024-07-07T19:02:11.358Z"
   },
   {
    "duration": 385,
    "start_time": "2024-07-07T19:02:43.591Z"
   },
   {
    "duration": 392,
    "start_time": "2024-07-07T19:03:38.375Z"
   },
   {
    "duration": 456,
    "start_time": "2024-07-07T19:04:14.456Z"
   },
   {
    "duration": 362,
    "start_time": "2024-07-07T19:04:39.724Z"
   },
   {
    "duration": 403,
    "start_time": "2024-07-07T19:07:02.643Z"
   },
   {
    "duration": 430,
    "start_time": "2024-07-07T19:07:33.596Z"
   },
   {
    "duration": 392,
    "start_time": "2024-07-07T19:07:46.891Z"
   },
   {
    "duration": 371,
    "start_time": "2024-07-07T19:07:57.509Z"
   },
   {
    "duration": 126,
    "start_time": "2024-07-07T19:10:13.818Z"
   },
   {
    "duration": 130,
    "start_time": "2024-07-07T19:10:17.942Z"
   },
   {
    "duration": 122,
    "start_time": "2024-07-07T19:11:38.784Z"
   },
   {
    "duration": 69,
    "start_time": "2024-07-07T19:11:43.344Z"
   },
   {
    "duration": 234,
    "start_time": "2024-07-07T19:22:00.769Z"
   },
   {
    "duration": 221,
    "start_time": "2024-07-07T19:22:15.954Z"
   },
   {
    "duration": 207,
    "start_time": "2024-07-07T19:22:55.622Z"
   },
   {
    "duration": 7,
    "start_time": "2024-07-07T19:23:24.179Z"
   },
   {
    "duration": 198,
    "start_time": "2024-07-07T19:23:36.844Z"
   },
   {
    "duration": 214,
    "start_time": "2024-07-07T19:24:22.253Z"
   },
   {
    "duration": 198,
    "start_time": "2024-07-07T19:36:37.079Z"
   },
   {
    "duration": 193,
    "start_time": "2024-07-07T19:37:46.151Z"
   },
   {
    "duration": 680,
    "start_time": "2024-07-08T18:55:29.686Z"
   },
   {
    "duration": 2521,
    "start_time": "2024-07-08T18:55:30.368Z"
   },
   {
    "duration": 8,
    "start_time": "2024-07-08T18:55:32.891Z"
   },
   {
    "duration": 23,
    "start_time": "2024-07-08T18:55:32.901Z"
   },
   {
    "duration": 20,
    "start_time": "2024-07-08T18:55:32.926Z"
   },
   {
    "duration": 28,
    "start_time": "2024-07-08T18:55:32.960Z"
   },
   {
    "duration": 20,
    "start_time": "2024-07-08T18:55:32.990Z"
   },
   {
    "duration": 154,
    "start_time": "2024-07-08T18:55:33.012Z"
   },
   {
    "duration": 9,
    "start_time": "2024-07-08T18:55:33.168Z"
   },
   {
    "duration": 363,
    "start_time": "2024-07-08T18:55:33.178Z"
   },
   {
    "duration": 12,
    "start_time": "2024-07-08T18:55:33.543Z"
   },
   {
    "duration": 11,
    "start_time": "2024-07-08T18:55:33.558Z"
   },
   {
    "duration": 9,
    "start_time": "2024-07-08T18:55:33.570Z"
   },
   {
    "duration": 397,
    "start_time": "2024-07-08T18:55:33.584Z"
   },
   {
    "duration": 7,
    "start_time": "2024-07-08T18:55:33.982Z"
   },
   {
    "duration": 32,
    "start_time": "2024-07-08T18:55:33.991Z"
   },
   {
    "duration": 287,
    "start_time": "2024-07-08T18:55:34.024Z"
   },
   {
    "duration": 322,
    "start_time": "2024-07-08T18:55:34.313Z"
   },
   {
    "duration": 285,
    "start_time": "2024-07-08T18:55:34.637Z"
   },
   {
    "duration": 343,
    "start_time": "2024-07-08T18:55:34.924Z"
   },
   {
    "duration": 296,
    "start_time": "2024-07-08T18:55:35.268Z"
   },
   {
    "duration": 293,
    "start_time": "2024-07-08T18:55:35.566Z"
   },
   {
    "duration": 306,
    "start_time": "2024-07-08T18:55:35.864Z"
   },
   {
    "duration": 299,
    "start_time": "2024-07-08T18:55:36.171Z"
   },
   {
    "duration": 408,
    "start_time": "2024-07-08T18:55:36.473Z"
   },
   {
    "duration": 304,
    "start_time": "2024-07-08T18:55:36.882Z"
   },
   {
    "duration": 12,
    "start_time": "2024-07-08T18:55:37.188Z"
   },
   {
    "duration": 276,
    "start_time": "2024-07-08T18:55:37.202Z"
   },
   {
    "duration": 309,
    "start_time": "2024-07-08T18:55:37.480Z"
   },
   {
    "duration": 13,
    "start_time": "2024-07-08T18:55:37.790Z"
   },
   {
    "duration": 275,
    "start_time": "2024-07-08T18:55:37.804Z"
   },
   {
    "duration": 251,
    "start_time": "2024-07-08T18:55:38.080Z"
   },
   {
    "duration": 459,
    "start_time": "2024-07-08T18:55:38.332Z"
   },
   {
    "duration": 14,
    "start_time": "2024-07-08T18:55:38.792Z"
   },
   {
    "duration": 181,
    "start_time": "2024-07-08T18:55:38.807Z"
   },
   {
    "duration": 60,
    "start_time": "2024-07-08T18:55:38.990Z"
   },
   {
    "duration": 0,
    "start_time": "2024-07-08T18:55:39.056Z"
   },
   {
    "duration": 0,
    "start_time": "2024-07-08T18:55:39.058Z"
   },
   {
    "duration": 0,
    "start_time": "2024-07-08T18:55:39.060Z"
   },
   {
    "duration": 0,
    "start_time": "2024-07-08T18:55:39.062Z"
   },
   {
    "duration": 0,
    "start_time": "2024-07-08T18:55:39.063Z"
   },
   {
    "duration": 164,
    "start_time": "2024-07-08T18:55:55.862Z"
   },
   {
    "duration": 178,
    "start_time": "2024-07-08T18:55:57.025Z"
   },
   {
    "duration": 160,
    "start_time": "2024-07-08T18:55:58.586Z"
   },
   {
    "duration": 64,
    "start_time": "2024-07-08T18:56:01.321Z"
   },
   {
    "duration": 65,
    "start_time": "2024-07-08T18:56:36.053Z"
   },
   {
    "duration": 61,
    "start_time": "2024-07-08T18:57:44.301Z"
   },
   {
    "duration": 60,
    "start_time": "2024-07-08T18:58:43.778Z"
   },
   {
    "duration": 78,
    "start_time": "2024-07-08T18:59:19.083Z"
   },
   {
    "duration": 65,
    "start_time": "2024-07-08T19:00:15.965Z"
   },
   {
    "duration": 40,
    "start_time": "2024-07-08T19:00:25.722Z"
   },
   {
    "duration": 188,
    "start_time": "2024-07-08T19:00:53.024Z"
   },
   {
    "duration": 2889,
    "start_time": "2024-07-08T19:12:13.051Z"
   },
   {
    "duration": 443,
    "start_time": "2024-07-09T15:40:26.659Z"
   },
   {
    "duration": 270,
    "start_time": "2024-07-09T15:40:35.267Z"
   },
   {
    "duration": 2341,
    "start_time": "2024-07-09T15:50:09.034Z"
   },
   {
    "duration": 29,
    "start_time": "2024-07-09T16:06:51.383Z"
   },
   {
    "duration": 24,
    "start_time": "2024-07-09T16:07:07.172Z"
   },
   {
    "duration": 46,
    "start_time": "2024-07-09T16:08:05.443Z"
   },
   {
    "duration": 1297,
    "start_time": "2024-07-09T16:12:19.293Z"
   },
   {
    "duration": 40,
    "start_time": "2024-07-09T16:20:58.635Z"
   },
   {
    "duration": 145,
    "start_time": "2024-07-09T16:25:40.826Z"
   },
   {
    "duration": 1980,
    "start_time": "2024-07-09T16:25:47.822Z"
   },
   {
    "duration": 9,
    "start_time": "2024-07-09T16:26:01.323Z"
   },
   {
    "duration": 46,
    "start_time": "2024-07-09T16:26:55.125Z"
   },
   {
    "duration": 43,
    "start_time": "2024-07-09T16:27:06.742Z"
   },
   {
    "duration": 37,
    "start_time": "2024-07-09T16:28:00.785Z"
   },
   {
    "duration": 63,
    "start_time": "2024-07-09T16:28:26.813Z"
   },
   {
    "duration": 29,
    "start_time": "2024-07-09T16:30:16.500Z"
   },
   {
    "duration": 9,
    "start_time": "2024-07-09T16:31:30.064Z"
   },
   {
    "duration": 11,
    "start_time": "2024-07-09T16:32:23.823Z"
   },
   {
    "duration": 8,
    "start_time": "2024-07-09T16:32:37.853Z"
   },
   {
    "duration": 19,
    "start_time": "2024-07-09T16:32:52.794Z"
   },
   {
    "duration": 15,
    "start_time": "2024-07-09T16:33:06.529Z"
   },
   {
    "duration": 15,
    "start_time": "2024-07-09T16:34:31.670Z"
   },
   {
    "duration": 25,
    "start_time": "2024-07-09T16:36:26.975Z"
   },
   {
    "duration": 31,
    "start_time": "2024-07-09T16:36:36.546Z"
   },
   {
    "duration": 176,
    "start_time": "2024-07-09T16:36:42.983Z"
   },
   {
    "duration": 4,
    "start_time": "2024-07-09T16:36:51.575Z"
   },
   {
    "duration": 7,
    "start_time": "2024-07-09T16:38:01.745Z"
   },
   {
    "duration": 238,
    "start_time": "2024-07-09T16:43:06.901Z"
   },
   {
    "duration": 261,
    "start_time": "2024-07-09T16:44:31.210Z"
   },
   {
    "duration": 260,
    "start_time": "2024-07-09T16:45:56.317Z"
   },
   {
    "duration": 19,
    "start_time": "2024-07-09T16:47:03.540Z"
   },
   {
    "duration": 2,
    "start_time": "2024-07-09T16:47:18.788Z"
   },
   {
    "duration": 174,
    "start_time": "2024-07-09T16:47:21.190Z"
   },
   {
    "duration": 358,
    "start_time": "2024-07-09T16:47:40.760Z"
   },
   {
    "duration": 252,
    "start_time": "2024-07-09T16:50:48.171Z"
   },
   {
    "duration": 290,
    "start_time": "2024-07-09T16:52:46.340Z"
   },
   {
    "duration": 301,
    "start_time": "2024-07-09T16:53:54.430Z"
   },
   {
    "duration": 249,
    "start_time": "2024-07-09T16:54:34.297Z"
   },
   {
    "duration": 338,
    "start_time": "2024-07-09T16:54:59.988Z"
   },
   {
    "duration": 234,
    "start_time": "2024-07-09T16:55:24.759Z"
   },
   {
    "duration": 222,
    "start_time": "2024-07-09T16:55:40.407Z"
   },
   {
    "duration": 235,
    "start_time": "2024-07-09T16:55:54.470Z"
   },
   {
    "duration": 304,
    "start_time": "2024-07-09T16:56:55.658Z"
   },
   {
    "duration": 121,
    "start_time": "2024-07-09T16:57:14.757Z"
   },
   {
    "duration": 159,
    "start_time": "2024-07-09T16:57:43.109Z"
   },
   {
    "duration": 237,
    "start_time": "2024-07-09T16:58:25.273Z"
   },
   {
    "duration": 135,
    "start_time": "2024-07-09T16:59:27.449Z"
   },
   {
    "duration": 127,
    "start_time": "2024-07-09T17:06:18.620Z"
   },
   {
    "duration": 148,
    "start_time": "2024-07-09T17:08:29.534Z"
   },
   {
    "duration": 125,
    "start_time": "2024-07-09T17:08:54.314Z"
   },
   {
    "duration": 252,
    "start_time": "2024-07-09T17:09:23.331Z"
   },
   {
    "duration": 57,
    "start_time": "2024-07-09T17:10:13.748Z"
   },
   {
    "duration": 253,
    "start_time": "2024-07-09T17:10:21.424Z"
   },
   {
    "duration": 226,
    "start_time": "2024-07-09T17:10:39.594Z"
   },
   {
    "duration": 325,
    "start_time": "2024-07-09T17:11:11.626Z"
   },
   {
    "duration": 225,
    "start_time": "2024-07-09T17:13:06.049Z"
   },
   {
    "duration": 258,
    "start_time": "2024-07-09T17:13:38.005Z"
   },
   {
    "duration": 221,
    "start_time": "2024-07-09T17:14:02.403Z"
   },
   {
    "duration": 243,
    "start_time": "2024-07-09T17:14:13.364Z"
   },
   {
    "duration": 13,
    "start_time": "2024-07-09T17:15:17.583Z"
   },
   {
    "duration": 314,
    "start_time": "2024-07-09T17:16:06.614Z"
   },
   {
    "duration": 224,
    "start_time": "2024-07-09T17:16:23.603Z"
   },
   {
    "duration": 224,
    "start_time": "2024-07-09T17:16:34.802Z"
   },
   {
    "duration": 221,
    "start_time": "2024-07-09T17:17:12.155Z"
   },
   {
    "duration": 247,
    "start_time": "2024-07-09T17:17:57.081Z"
   },
   {
    "duration": 11,
    "start_time": "2024-07-09T17:18:35.340Z"
   },
   {
    "duration": 230,
    "start_time": "2024-07-09T17:18:48.078Z"
   },
   {
    "duration": 327,
    "start_time": "2024-07-09T17:19:19.415Z"
   },
   {
    "duration": 230,
    "start_time": "2024-07-09T17:20:03.560Z"
   },
   {
    "duration": 267,
    "start_time": "2024-07-09T17:20:34.754Z"
   },
   {
    "duration": 277,
    "start_time": "2024-07-09T17:22:37.280Z"
   },
   {
    "duration": 271,
    "start_time": "2024-07-09T17:22:59.704Z"
   },
   {
    "duration": 393,
    "start_time": "2024-07-09T17:23:05.988Z"
   },
   {
    "duration": 269,
    "start_time": "2024-07-09T17:23:18.051Z"
   },
   {
    "duration": 286,
    "start_time": "2024-07-09T17:23:42.947Z"
   },
   {
    "duration": 286,
    "start_time": "2024-07-09T17:23:52.297Z"
   },
   {
    "duration": 283,
    "start_time": "2024-07-09T17:23:59.837Z"
   },
   {
    "duration": 277,
    "start_time": "2024-07-09T17:24:07.824Z"
   },
   {
    "duration": 412,
    "start_time": "2024-07-09T17:24:24.000Z"
   },
   {
    "duration": 257,
    "start_time": "2024-07-09T17:24:32.865Z"
   },
   {
    "duration": 271,
    "start_time": "2024-07-09T17:24:40.240Z"
   },
   {
    "duration": 289,
    "start_time": "2024-07-09T17:24:49.321Z"
   },
   {
    "duration": 319,
    "start_time": "2024-07-09T17:25:03.461Z"
   },
   {
    "duration": 12,
    "start_time": "2024-07-09T17:25:56.450Z"
   },
   {
    "duration": 356,
    "start_time": "2024-07-09T17:26:01.970Z"
   },
   {
    "duration": 223,
    "start_time": "2024-07-09T17:26:15.006Z"
   },
   {
    "duration": 227,
    "start_time": "2024-07-09T17:26:36.223Z"
   },
   {
    "duration": 233,
    "start_time": "2024-07-09T17:26:48.253Z"
   },
   {
    "duration": 115,
    "start_time": "2024-07-09T17:26:56.046Z"
   },
   {
    "duration": 246,
    "start_time": "2024-07-09T17:27:01.503Z"
   },
   {
    "duration": 353,
    "start_time": "2024-07-09T17:27:29.291Z"
   },
   {
    "duration": 259,
    "start_time": "2024-07-09T17:27:36.981Z"
   },
   {
    "duration": 232,
    "start_time": "2024-07-09T17:27:46.392Z"
   },
   {
    "duration": 241,
    "start_time": "2024-07-09T17:27:52.960Z"
   },
   {
    "duration": 228,
    "start_time": "2024-07-09T17:28:02.981Z"
   },
   {
    "duration": 230,
    "start_time": "2024-07-09T17:28:15.202Z"
   },
   {
    "duration": 225,
    "start_time": "2024-07-09T17:28:46.363Z"
   },
   {
    "duration": 235,
    "start_time": "2024-07-09T17:29:19.504Z"
   },
   {
    "duration": 219,
    "start_time": "2024-07-09T17:29:27.877Z"
   },
   {
    "duration": 231,
    "start_time": "2024-07-09T17:30:21.893Z"
   },
   {
    "duration": 235,
    "start_time": "2024-07-09T17:30:51.724Z"
   },
   {
    "duration": 272,
    "start_time": "2024-07-09T17:33:21.069Z"
   },
   {
    "duration": 326,
    "start_time": "2024-07-09T17:33:31.362Z"
   },
   {
    "duration": 231,
    "start_time": "2024-07-09T17:33:47.147Z"
   },
   {
    "duration": 212,
    "start_time": "2024-07-09T17:34:08.775Z"
   },
   {
    "duration": 221,
    "start_time": "2024-07-09T17:34:26.345Z"
   },
   {
    "duration": 228,
    "start_time": "2024-07-09T17:34:32.494Z"
   },
   {
    "duration": 343,
    "start_time": "2024-07-09T17:35:47.090Z"
   },
   {
    "duration": 269,
    "start_time": "2024-07-09T17:36:09.289Z"
   },
   {
    "duration": 279,
    "start_time": "2024-07-09T17:36:29.468Z"
   },
   {
    "duration": 253,
    "start_time": "2024-07-09T17:37:16.180Z"
   },
   {
    "duration": 249,
    "start_time": "2024-07-09T17:37:58.597Z"
   },
   {
    "duration": 228,
    "start_time": "2024-07-09T17:38:12.682Z"
   },
   {
    "duration": 305,
    "start_time": "2024-07-09T17:38:46.165Z"
   },
   {
    "duration": 259,
    "start_time": "2024-07-09T17:39:26.755Z"
   },
   {
    "duration": 277,
    "start_time": "2024-07-09T17:39:57.684Z"
   },
   {
    "duration": 260,
    "start_time": "2024-07-09T17:40:40.555Z"
   },
   {
    "duration": 247,
    "start_time": "2024-07-09T17:41:07.665Z"
   },
   {
    "duration": 5,
    "start_time": "2024-07-09T17:45:40.436Z"
   },
   {
    "duration": 7,
    "start_time": "2024-07-09T17:45:55.577Z"
   },
   {
    "duration": 384,
    "start_time": "2024-07-09T17:46:36.835Z"
   },
   {
    "duration": 982,
    "start_time": "2024-07-09T17:47:58.507Z"
   },
   {
    "duration": 1388,
    "start_time": "2024-07-09T17:48:30.085Z"
   },
   {
    "duration": 996,
    "start_time": "2024-07-09T17:49:21.697Z"
   },
   {
    "duration": 1072,
    "start_time": "2024-07-09T17:49:31.153Z"
   },
   {
    "duration": 1046,
    "start_time": "2024-07-09T17:49:41.257Z"
   },
   {
    "duration": 1027,
    "start_time": "2024-07-09T17:49:51.793Z"
   },
   {
    "duration": 1035,
    "start_time": "2024-07-09T17:50:41.537Z"
   },
   {
    "duration": 8,
    "start_time": "2024-07-09T17:51:09.878Z"
   },
   {
    "duration": 326,
    "start_time": "2024-07-09T17:51:11.277Z"
   },
   {
    "duration": 7,
    "start_time": "2024-07-09T17:51:16.454Z"
   },
   {
    "duration": 10,
    "start_time": "2024-07-09T17:51:18.108Z"
   },
   {
    "duration": 7,
    "start_time": "2024-07-09T17:51:22.388Z"
   },
   {
    "duration": 294,
    "start_time": "2024-07-09T17:51:24.558Z"
   },
   {
    "duration": 6,
    "start_time": "2024-07-09T17:51:27.018Z"
   },
   {
    "duration": 17,
    "start_time": "2024-07-09T17:51:29.235Z"
   },
   {
    "duration": 11,
    "start_time": "2024-07-09T17:51:36.328Z"
   },
   {
    "duration": 215,
    "start_time": "2024-07-09T17:51:39.278Z"
   },
   {
    "duration": 6,
    "start_time": "2024-07-09T17:51:51.727Z"
   },
   {
    "duration": 243,
    "start_time": "2024-07-09T17:52:02.896Z"
   },
   {
    "duration": 256,
    "start_time": "2024-07-09T17:52:30.508Z"
   },
   {
    "duration": 239,
    "start_time": "2024-07-09T17:53:20.277Z"
   },
   {
    "duration": 254,
    "start_time": "2024-07-09T17:53:37.177Z"
   },
   {
    "duration": 362,
    "start_time": "2024-07-09T17:54:28.612Z"
   },
   {
    "duration": 75,
    "start_time": "2024-07-09T17:56:28.775Z"
   },
   {
    "duration": 292,
    "start_time": "2024-07-09T17:57:00.498Z"
   },
   {
    "duration": 65,
    "start_time": "2024-07-09T17:57:24.737Z"
   },
   {
    "duration": 268,
    "start_time": "2024-07-09T17:57:45.265Z"
   },
   {
    "duration": 91,
    "start_time": "2024-07-09T18:01:10.217Z"
   },
   {
    "duration": 73,
    "start_time": "2024-07-09T18:01:25.047Z"
   },
   {
    "duration": 51,
    "start_time": "2024-07-09T18:01:51.207Z"
   },
   {
    "duration": 55,
    "start_time": "2024-07-09T18:02:11.557Z"
   },
   {
    "duration": 61,
    "start_time": "2024-07-09T18:02:38.632Z"
   },
   {
    "duration": 49,
    "start_time": "2024-07-10T17:42:25.685Z"
   },
   {
    "duration": 725,
    "start_time": "2024-07-10T17:42:38.140Z"
   },
   {
    "duration": 319,
    "start_time": "2024-07-10T17:42:39.333Z"
   },
   {
    "duration": 1970,
    "start_time": "2024-07-10T17:42:50.180Z"
   },
   {
    "duration": 8,
    "start_time": "2024-07-10T17:43:04.920Z"
   },
   {
    "duration": 35,
    "start_time": "2024-07-10T17:43:11.779Z"
   },
   {
    "duration": 15,
    "start_time": "2024-07-10T17:43:14.582Z"
   },
   {
    "duration": 24,
    "start_time": "2024-07-10T17:43:16.433Z"
   },
   {
    "duration": 21,
    "start_time": "2024-07-10T17:43:18.260Z"
   },
   {
    "duration": 128,
    "start_time": "2024-07-10T17:43:20.496Z"
   },
   {
    "duration": 7,
    "start_time": "2024-07-10T17:43:28.044Z"
   },
   {
    "duration": 8,
    "start_time": "2024-07-10T17:43:34.925Z"
   },
   {
    "duration": 319,
    "start_time": "2024-07-10T17:43:37.038Z"
   },
   {
    "duration": 9,
    "start_time": "2024-07-10T17:43:39.570Z"
   },
   {
    "duration": 8,
    "start_time": "2024-07-10T17:43:41.579Z"
   },
   {
    "duration": 8,
    "start_time": "2024-07-10T17:43:43.244Z"
   },
   {
    "duration": 322,
    "start_time": "2024-07-10T17:43:48.430Z"
   },
   {
    "duration": 8,
    "start_time": "2024-07-10T17:43:50.863Z"
   },
   {
    "duration": 17,
    "start_time": "2024-07-10T17:43:52.654Z"
   },
   {
    "duration": 11,
    "start_time": "2024-07-10T17:43:57.692Z"
   },
   {
    "duration": 37,
    "start_time": "2024-07-10T17:43:58.877Z"
   },
   {
    "duration": 7,
    "start_time": "2024-07-10T17:44:05.677Z"
   },
   {
    "duration": 235,
    "start_time": "2024-07-10T17:45:03.694Z"
   },
   {
    "duration": 228,
    "start_time": "2024-07-10T17:45:15.229Z"
   },
   {
    "duration": 255,
    "start_time": "2024-07-10T17:47:52.549Z"
   },
   {
    "duration": 329,
    "start_time": "2024-07-10T17:47:58.429Z"
   },
   {
    "duration": 275,
    "start_time": "2024-07-10T17:48:03.890Z"
   },
   {
    "duration": 250,
    "start_time": "2024-07-10T17:48:17.021Z"
   },
   {
    "duration": 294,
    "start_time": "2024-07-10T17:49:09.257Z"
   },
   {
    "duration": 246,
    "start_time": "2024-07-10T17:49:41.405Z"
   },
   {
    "duration": 359,
    "start_time": "2024-07-10T17:50:16.115Z"
   },
   {
    "duration": 255,
    "start_time": "2024-07-10T17:50:44.834Z"
   },
   {
    "duration": 254,
    "start_time": "2024-07-10T17:51:08.541Z"
   },
   {
    "duration": 273,
    "start_time": "2024-07-10T17:51:20.973Z"
   },
   {
    "duration": 277,
    "start_time": "2024-07-10T17:51:55.790Z"
   },
   {
    "duration": 5,
    "start_time": "2024-07-10T17:52:23.899Z"
   },
   {
    "duration": 255,
    "start_time": "2024-07-10T17:52:53.236Z"
   },
   {
    "duration": 87,
    "start_time": "2024-07-10T17:56:06.042Z"
   },
   {
    "duration": 404,
    "start_time": "2024-07-10T17:56:47.582Z"
   },
   {
    "duration": 256,
    "start_time": "2024-07-10T17:57:12.770Z"
   },
   {
    "duration": 260,
    "start_time": "2024-07-10T17:57:37.100Z"
   },
   {
    "duration": 289,
    "start_time": "2024-07-10T18:00:14.446Z"
   },
   {
    "duration": 247,
    "start_time": "2024-07-10T18:18:06.648Z"
   },
   {
    "duration": 323,
    "start_time": "2024-07-10T18:19:41.770Z"
   },
   {
    "duration": 135,
    "start_time": "2024-07-10T18:20:12.070Z"
   },
   {
    "duration": 236,
    "start_time": "2024-07-10T18:22:05.115Z"
   },
   {
    "duration": 251,
    "start_time": "2024-07-10T18:25:55.134Z"
   },
   {
    "duration": 254,
    "start_time": "2024-07-10T18:26:12.990Z"
   },
   {
    "duration": 11,
    "start_time": "2024-07-10T18:26:29.300Z"
   },
   {
    "duration": 121,
    "start_time": "2024-07-10T18:29:25.940Z"
   },
   {
    "duration": 281,
    "start_time": "2024-07-10T18:30:01.221Z"
   },
   {
    "duration": 383,
    "start_time": "2024-07-10T18:31:24.311Z"
   },
   {
    "duration": 256,
    "start_time": "2024-07-10T18:32:59.808Z"
   },
   {
    "duration": 258,
    "start_time": "2024-07-10T18:33:32.884Z"
   },
   {
    "duration": 257,
    "start_time": "2024-07-10T18:34:14.791Z"
   },
   {
    "duration": 233,
    "start_time": "2024-07-10T18:34:27.205Z"
   },
   {
    "duration": 245,
    "start_time": "2024-07-10T18:35:24.498Z"
   },
   {
    "duration": 238,
    "start_time": "2024-07-10T18:36:23.490Z"
   },
   {
    "duration": 419,
    "start_time": "2024-07-10T18:36:31.355Z"
   },
   {
    "duration": 258,
    "start_time": "2024-07-10T18:36:41.543Z"
   },
   {
    "duration": 254,
    "start_time": "2024-07-10T18:37:03.599Z"
   },
   {
    "duration": 244,
    "start_time": "2024-07-10T18:37:17.951Z"
   },
   {
    "duration": 250,
    "start_time": "2024-07-10T18:37:35.552Z"
   },
   {
    "duration": 233,
    "start_time": "2024-07-10T18:37:46.753Z"
   },
   {
    "duration": 385,
    "start_time": "2024-07-10T18:38:27.561Z"
   },
   {
    "duration": 233,
    "start_time": "2024-07-10T18:38:49.062Z"
   },
   {
    "duration": 242,
    "start_time": "2024-07-10T18:38:57.360Z"
   },
   {
    "duration": 255,
    "start_time": "2024-07-10T18:43:33.988Z"
   },
   {
    "duration": 239,
    "start_time": "2024-07-10T18:43:45.516Z"
   },
   {
    "duration": 244,
    "start_time": "2024-07-10T18:45:50.095Z"
   },
   {
    "duration": 239,
    "start_time": "2024-07-10T18:45:58.551Z"
   },
   {
    "duration": 267,
    "start_time": "2024-07-10T18:46:13.014Z"
   },
   {
    "duration": 444,
    "start_time": "2024-07-10T18:49:22.655Z"
   },
   {
    "duration": 11,
    "start_time": "2024-07-10T19:13:27.744Z"
   },
   {
    "duration": 143,
    "start_time": "2024-07-10T19:15:07.913Z"
   },
   {
    "duration": 151,
    "start_time": "2024-07-10T19:16:48.955Z"
   },
   {
    "duration": 166,
    "start_time": "2024-07-10T19:17:02.475Z"
   },
   {
    "duration": 152,
    "start_time": "2024-07-10T19:17:27.102Z"
   },
   {
    "duration": 160,
    "start_time": "2024-07-10T19:27:44.751Z"
   },
   {
    "duration": 76,
    "start_time": "2024-07-10T19:29:44.576Z"
   },
   {
    "duration": 129,
    "start_time": "2024-07-10T19:30:04.835Z"
   },
   {
    "duration": 134,
    "start_time": "2024-07-10T19:30:16.113Z"
   },
   {
    "duration": 133,
    "start_time": "2024-07-10T19:30:23.180Z"
   },
   {
    "duration": 127,
    "start_time": "2024-07-10T19:30:40.343Z"
   },
   {
    "duration": 134,
    "start_time": "2024-07-10T19:30:59.772Z"
   },
   {
    "duration": 146,
    "start_time": "2024-07-10T19:32:23.807Z"
   },
   {
    "duration": 138,
    "start_time": "2024-07-10T19:32:49.283Z"
   },
   {
    "duration": 152,
    "start_time": "2024-07-10T19:32:55.941Z"
   },
   {
    "duration": 144,
    "start_time": "2024-07-10T19:33:14.205Z"
   },
   {
    "duration": 136,
    "start_time": "2024-07-10T19:33:49.973Z"
   },
   {
    "duration": 145,
    "start_time": "2024-07-10T19:33:56.485Z"
   },
   {
    "duration": 147,
    "start_time": "2024-07-10T19:34:04.972Z"
   },
   {
    "duration": 152,
    "start_time": "2024-07-10T19:39:15.669Z"
   },
   {
    "duration": 75,
    "start_time": "2024-07-10T19:40:00.469Z"
   },
   {
    "duration": 125,
    "start_time": "2024-07-10T19:40:31.297Z"
   },
   {
    "duration": 62,
    "start_time": "2024-07-10T19:40:41.553Z"
   },
   {
    "duration": 32,
    "start_time": "2024-07-10T19:40:49.102Z"
   },
   {
    "duration": 20,
    "start_time": "2024-07-10T19:41:44.561Z"
   },
   {
    "duration": 21,
    "start_time": "2024-07-10T19:43:20.180Z"
   },
   {
    "duration": 20,
    "start_time": "2024-07-10T19:44:03.371Z"
   },
   {
    "duration": 152,
    "start_time": "2024-07-10T19:51:02.782Z"
   },
   {
    "duration": 153,
    "start_time": "2024-07-10T19:54:31.270Z"
   },
   {
    "duration": 162,
    "start_time": "2024-07-10T19:54:51.393Z"
   },
   {
    "duration": 169,
    "start_time": "2024-07-10T19:55:20.881Z"
   },
   {
    "duration": 304,
    "start_time": "2024-07-10T19:56:47.135Z"
   },
   {
    "duration": 300,
    "start_time": "2024-07-10T19:57:26.347Z"
   },
   {
    "duration": 322,
    "start_time": "2024-07-10T20:04:20.259Z"
   },
   {
    "duration": 604,
    "start_time": "2024-07-11T19:37:20.219Z"
   },
   {
    "duration": 240,
    "start_time": "2024-07-11T19:37:20.825Z"
   },
   {
    "duration": 1609,
    "start_time": "2024-07-11T19:37:21.067Z"
   },
   {
    "duration": 6,
    "start_time": "2024-07-11T19:37:22.678Z"
   },
   {
    "duration": 28,
    "start_time": "2024-07-11T19:37:22.686Z"
   },
   {
    "duration": 12,
    "start_time": "2024-07-11T19:37:22.715Z"
   },
   {
    "duration": 29,
    "start_time": "2024-07-11T19:37:22.728Z"
   },
   {
    "duration": 16,
    "start_time": "2024-07-11T19:37:22.758Z"
   },
   {
    "duration": 129,
    "start_time": "2024-07-11T19:37:22.775Z"
   },
   {
    "duration": 6,
    "start_time": "2024-07-11T19:37:22.906Z"
   },
   {
    "duration": 9,
    "start_time": "2024-07-11T19:37:22.914Z"
   },
   {
    "duration": 312,
    "start_time": "2024-07-11T19:37:22.924Z"
   },
   {
    "duration": 5,
    "start_time": "2024-07-11T19:37:23.237Z"
   },
   {
    "duration": 26,
    "start_time": "2024-07-11T19:37:23.244Z"
   },
   {
    "duration": 12,
    "start_time": "2024-07-11T19:37:23.271Z"
   },
   {
    "duration": 298,
    "start_time": "2024-07-11T19:37:23.285Z"
   },
   {
    "duration": 5,
    "start_time": "2024-07-11T19:37:23.584Z"
   },
   {
    "duration": 26,
    "start_time": "2024-07-11T19:37:23.590Z"
   },
   {
    "duration": 22,
    "start_time": "2024-07-11T19:37:23.618Z"
   },
   {
    "duration": 204,
    "start_time": "2024-07-11T19:37:23.641Z"
   },
   {
    "duration": 240,
    "start_time": "2024-07-11T19:37:23.847Z"
   },
   {
    "duration": 210,
    "start_time": "2024-07-11T19:37:24.088Z"
   },
   {
    "duration": 279,
    "start_time": "2024-07-11T19:37:24.299Z"
   },
   {
    "duration": 217,
    "start_time": "2024-07-11T19:37:24.580Z"
   },
   {
    "duration": 222,
    "start_time": "2024-07-11T19:37:24.799Z"
   },
   {
    "duration": 219,
    "start_time": "2024-07-11T19:37:25.022Z"
   },
   {
    "duration": 4,
    "start_time": "2024-07-11T19:37:25.242Z"
   },
   {
    "duration": 218,
    "start_time": "2024-07-11T19:37:25.256Z"
   },
   {
    "duration": 330,
    "start_time": "2024-07-11T19:37:25.475Z"
   },
   {
    "duration": 248,
    "start_time": "2024-07-11T19:37:25.807Z"
   },
   {
    "duration": 126,
    "start_time": "2024-07-11T19:37:26.057Z"
   },
   {
    "duration": 207,
    "start_time": "2024-07-11T19:37:26.184Z"
   },
   {
    "duration": 215,
    "start_time": "2024-07-11T19:37:26.392Z"
   },
   {
    "duration": 10,
    "start_time": "2024-07-11T19:37:26.609Z"
   },
   {
    "duration": 297,
    "start_time": "2024-07-11T19:37:26.620Z"
   },
   {
    "duration": 210,
    "start_time": "2024-07-11T19:37:26.918Z"
   },
   {
    "duration": 208,
    "start_time": "2024-07-11T19:37:27.130Z"
   },
   {
    "duration": 205,
    "start_time": "2024-07-11T19:37:27.339Z"
   },
   {
    "duration": 16,
    "start_time": "2024-07-11T19:37:27.545Z"
   },
   {
    "duration": 129,
    "start_time": "2024-07-11T19:37:27.562Z"
   },
   {
    "duration": 135,
    "start_time": "2024-07-11T19:37:27.692Z"
   },
   {
    "duration": 136,
    "start_time": "2024-07-11T19:37:27.828Z"
   },
   {
    "duration": 130,
    "start_time": "2024-07-11T19:37:27.966Z"
   },
   {
    "duration": 230,
    "start_time": "2024-07-11T19:37:28.097Z"
   },
   {
    "duration": 19,
    "start_time": "2024-07-11T19:37:28.328Z"
   },
   {
    "duration": 292,
    "start_time": "2024-07-11T19:37:28.348Z"
   }
  ],
  "colab": {
   "provenance": []
  },
  "kernelspec": {
   "display_name": "Python 3 (ipykernel)",
   "language": "python",
   "name": "python3"
  },
  "language_info": {
   "codemirror_mode": {
    "name": "ipython",
    "version": 3
   },
   "file_extension": ".py",
   "mimetype": "text/x-python",
   "name": "python",
   "nbconvert_exporter": "python",
   "pygments_lexer": "ipython3",
   "version": "3.9.5"
  },
  "toc": {
   "base_numbering": 1,
   "nav_menu": {},
   "number_sections": true,
   "sideBar": true,
   "skip_h1_title": true,
   "title_cell": "Table of Contents",
   "title_sidebar": "Contents",
   "toc_cell": false,
   "toc_position": {},
   "toc_section_display": true,
   "toc_window_display": false
  }
 },
 "nbformat": 4,
 "nbformat_minor": 1
}
