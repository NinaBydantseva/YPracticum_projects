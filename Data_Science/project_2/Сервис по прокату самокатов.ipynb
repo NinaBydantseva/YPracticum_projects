{
 "cells": [
  {
   "cell_type": "markdown",
   "id": "3302b217",
   "metadata": {},
   "source": [
    "##### Проект: Статистический анализ данных сервиса проката самокатов"
   ]
  },
  {
   "cell_type": "markdown",
   "id": "cc2bd429",
   "metadata": {},
   "source": [
    "##### Задача: ответить на вопросы продакт-менеджеров сервиса проката самокатов:  \n",
    "    \n",
    "- Тратят ли пользователи с подпиской больше времени на поездки?\n",
    "- Можно ли сказать, что среднее расстояние, которое проезжают пользователи с подпиской за одну поездку, не превышает 3130 метров?\n",
    "- Будет ли помесячная выручка от пользователей с подпиской по месяцам выше, чем выручка от пользователей без подписки?\n",
    "- Техническая команда сервиса обновила сервера, с которыми взаимодействует мобильное приложение. Она надеется, что из-за этого количество обращений в техподдержку значимо снизилось. Проверить гипотезу."
   ]
  },
  {
   "cell_type": "markdown",
   "id": "3474aa31",
   "metadata": {},
   "source": [
    "##### Состав данных о пользователях сервиса users_go.csv:\n",
    "    \n",
    "-**user_id** - \tуникальный идентификатор пользователя,  \n",
    "-**name**   -\tимя пользователя,  \n",
    "-**age**     -\tвозраст,  \n",
    "-**city**    -\tгород,  \n",
    "-**subscription_type**   -\tтип подписки (free, ultra).\n",
    "    \n",
    "Состав данных о поездках rides_go.csv:\n",
    "    \n",
    "-**user_id**    -\tуникальный идентификатор пользователя,  \n",
    "-**distance**   -\tрасстояние, которое пользователь проехал в текущей сессии (в метрах),  \n",
    "-**duration**   -\tпродолжительность сессии (в минутах),  \n",
    "-**date**       -\tдата совершения поездки.\n",
    "    \n",
    "Состав данных о подписках сервиса subscriptions_go.csv:\n",
    "    \n",
    "-**subscription_type**   -\tтип подписки,  \n",
    "-**minute_price**        -\tстоимость одной минуты поездки по данной подписке,  \n",
    "-**start_ride_price**    -\tстоимость начала поездки,  \n",
    "-**subscription_fee**    -\tстоимость ежемесячного платежа."
   ]
  },
  {
   "cell_type": "code",
   "execution_count": 1,
   "id": "72576667",
   "metadata": {},
   "outputs": [],
   "source": [
    "import pandas as pd\n",
    "import numpy as np\n",
    "from matplotlib import pyplot as plt\n",
    "from scipy import stats as sp"
   ]
  },
  {
   "cell_type": "markdown",
   "id": "c42cbe00",
   "metadata": {},
   "source": [
    "#### Шаг 1. Загрузка данных"
   ]
  },
  {
   "cell_type": "markdown",
   "id": "bf7d9056",
   "metadata": {},
   "source": [
    "Считываем исходные данные в формате CSV, сохраняем их в датафреймы."
   ]
  },
  {
   "cell_type": "code",
   "execution_count": 2,
   "id": "eff9f206",
   "metadata": {},
   "outputs": [
    {
     "data": {
      "text/html": [
       "<div>\n",
       "<style scoped>\n",
       "    .dataframe tbody tr th:only-of-type {\n",
       "        vertical-align: middle;\n",
       "    }\n",
       "\n",
       "    .dataframe tbody tr th {\n",
       "        vertical-align: top;\n",
       "    }\n",
       "\n",
       "    .dataframe thead th {\n",
       "        text-align: right;\n",
       "    }\n",
       "</style>\n",
       "<table border=\"1\" class=\"dataframe\">\n",
       "  <thead>\n",
       "    <tr style=\"text-align: right;\">\n",
       "      <th></th>\n",
       "      <th>user_id</th>\n",
       "      <th>name</th>\n",
       "      <th>age</th>\n",
       "      <th>city</th>\n",
       "      <th>subscription_type</th>\n",
       "    </tr>\n",
       "  </thead>\n",
       "  <tbody>\n",
       "    <tr>\n",
       "      <th>0</th>\n",
       "      <td>1</td>\n",
       "      <td>Кира</td>\n",
       "      <td>22</td>\n",
       "      <td>Тюмень</td>\n",
       "      <td>ultra</td>\n",
       "    </tr>\n",
       "    <tr>\n",
       "      <th>1</th>\n",
       "      <td>2</td>\n",
       "      <td>Станислав</td>\n",
       "      <td>31</td>\n",
       "      <td>Омск</td>\n",
       "      <td>ultra</td>\n",
       "    </tr>\n",
       "    <tr>\n",
       "      <th>2</th>\n",
       "      <td>3</td>\n",
       "      <td>Алексей</td>\n",
       "      <td>20</td>\n",
       "      <td>Москва</td>\n",
       "      <td>ultra</td>\n",
       "    </tr>\n",
       "    <tr>\n",
       "      <th>3</th>\n",
       "      <td>4</td>\n",
       "      <td>Константин</td>\n",
       "      <td>26</td>\n",
       "      <td>Ростов-на-Дону</td>\n",
       "      <td>ultra</td>\n",
       "    </tr>\n",
       "    <tr>\n",
       "      <th>4</th>\n",
       "      <td>5</td>\n",
       "      <td>Адель</td>\n",
       "      <td>28</td>\n",
       "      <td>Омск</td>\n",
       "      <td>ultra</td>\n",
       "    </tr>\n",
       "  </tbody>\n",
       "</table>\n",
       "</div>"
      ],
      "text/plain": [
       "   user_id        name  age            city subscription_type\n",
       "0        1        Кира   22          Тюмень             ultra\n",
       "1        2   Станислав   31            Омск             ultra\n",
       "2        3     Алексей   20          Москва             ultra\n",
       "3        4  Константин   26  Ростов-на-Дону             ultra\n",
       "4        5       Адель   28            Омск             ultra"
      ]
     },
     "metadata": {},
     "output_type": "display_data"
    },
    {
     "data": {
      "text/html": [
       "<div>\n",
       "<style scoped>\n",
       "    .dataframe tbody tr th:only-of-type {\n",
       "        vertical-align: middle;\n",
       "    }\n",
       "\n",
       "    .dataframe tbody tr th {\n",
       "        vertical-align: top;\n",
       "    }\n",
       "\n",
       "    .dataframe thead th {\n",
       "        text-align: right;\n",
       "    }\n",
       "</style>\n",
       "<table border=\"1\" class=\"dataframe\">\n",
       "  <thead>\n",
       "    <tr style=\"text-align: right;\">\n",
       "      <th></th>\n",
       "      <th>user_id</th>\n",
       "      <th>distance</th>\n",
       "      <th>duration</th>\n",
       "      <th>date</th>\n",
       "    </tr>\n",
       "  </thead>\n",
       "  <tbody>\n",
       "    <tr>\n",
       "      <th>0</th>\n",
       "      <td>1</td>\n",
       "      <td>4409.919140</td>\n",
       "      <td>25.599769</td>\n",
       "      <td>2021-01-01</td>\n",
       "    </tr>\n",
       "    <tr>\n",
       "      <th>1</th>\n",
       "      <td>1</td>\n",
       "      <td>2617.592153</td>\n",
       "      <td>15.816871</td>\n",
       "      <td>2021-01-18</td>\n",
       "    </tr>\n",
       "    <tr>\n",
       "      <th>2</th>\n",
       "      <td>1</td>\n",
       "      <td>754.159807</td>\n",
       "      <td>6.232113</td>\n",
       "      <td>2021-04-20</td>\n",
       "    </tr>\n",
       "    <tr>\n",
       "      <th>3</th>\n",
       "      <td>1</td>\n",
       "      <td>2694.783254</td>\n",
       "      <td>18.511000</td>\n",
       "      <td>2021-08-11</td>\n",
       "    </tr>\n",
       "    <tr>\n",
       "      <th>4</th>\n",
       "      <td>1</td>\n",
       "      <td>4028.687306</td>\n",
       "      <td>26.265803</td>\n",
       "      <td>2021-08-28</td>\n",
       "    </tr>\n",
       "  </tbody>\n",
       "</table>\n",
       "</div>"
      ],
      "text/plain": [
       "   user_id     distance   duration        date\n",
       "0        1  4409.919140  25.599769  2021-01-01\n",
       "1        1  2617.592153  15.816871  2021-01-18\n",
       "2        1   754.159807   6.232113  2021-04-20\n",
       "3        1  2694.783254  18.511000  2021-08-11\n",
       "4        1  4028.687306  26.265803  2021-08-28"
      ]
     },
     "metadata": {},
     "output_type": "display_data"
    },
    {
     "data": {
      "text/html": [
       "<div>\n",
       "<style scoped>\n",
       "    .dataframe tbody tr th:only-of-type {\n",
       "        vertical-align: middle;\n",
       "    }\n",
       "\n",
       "    .dataframe tbody tr th {\n",
       "        vertical-align: top;\n",
       "    }\n",
       "\n",
       "    .dataframe thead th {\n",
       "        text-align: right;\n",
       "    }\n",
       "</style>\n",
       "<table border=\"1\" class=\"dataframe\">\n",
       "  <thead>\n",
       "    <tr style=\"text-align: right;\">\n",
       "      <th></th>\n",
       "      <th>subscription_type</th>\n",
       "      <th>minute_price</th>\n",
       "      <th>start_ride_price</th>\n",
       "      <th>subscription_fee</th>\n",
       "    </tr>\n",
       "  </thead>\n",
       "  <tbody>\n",
       "    <tr>\n",
       "      <th>0</th>\n",
       "      <td>free</td>\n",
       "      <td>8</td>\n",
       "      <td>50</td>\n",
       "      <td>0</td>\n",
       "    </tr>\n",
       "    <tr>\n",
       "      <th>1</th>\n",
       "      <td>ultra</td>\n",
       "      <td>6</td>\n",
       "      <td>0</td>\n",
       "      <td>199</td>\n",
       "    </tr>\n",
       "  </tbody>\n",
       "</table>\n",
       "</div>"
      ],
      "text/plain": [
       "  subscription_type  minute_price  start_ride_price  subscription_fee\n",
       "0              free             8                50                 0\n",
       "1             ultra             6                 0               199"
      ]
     },
     "metadata": {},
     "output_type": "display_data"
    }
   ],
   "source": [
    "try:\n",
    "    users = pd.read_csv('C:/Users/bny_7/datasets/users_go.csv', sep=',')\n",
    "except:\n",
    "    users = pd.read_csv('/datasets/users_go.csv', sep=',')\n",
    "display(users.head())\n",
    "try:\n",
    "    rides = pd.read_csv('C:/Users/bny_7/datasets/rides_go.csv', sep=',')\n",
    "except:\n",
    "    rides = pd.read_csv('/datasets/rides_go.csv', sep=',')\n",
    "display(rides.head())\n",
    "try:\n",
    "    subscriptions = pd.read_csv('C:/Users/bny_7/datasets/subscriptions_go.csv',sep=',')\n",
    "except:\n",
    "    subscriptions = pd.read_csv('/datasets/subscriptions_go.csv',sep=',')\n",
    "display(subscriptions.head())"
   ]
  },
  {
   "cell_type": "markdown",
   "id": "6a8ede0f",
   "metadata": {},
   "source": [
    "Отображаем статистику по каждому датафрейму"
   ]
  },
  {
   "cell_type": "code",
   "execution_count": 3,
   "id": "59212a89",
   "metadata": {},
   "outputs": [
    {
     "name": "stdout",
     "output_type": "stream",
     "text": [
      "<class 'pandas.core.frame.DataFrame'>\n",
      "RangeIndex: 1565 entries, 0 to 1564\n",
      "Data columns (total 5 columns):\n",
      " #   Column             Non-Null Count  Dtype \n",
      "---  ------             --------------  ----- \n",
      " 0   user_id            1565 non-null   int64 \n",
      " 1   name               1565 non-null   object\n",
      " 2   age                1565 non-null   int64 \n",
      " 3   city               1565 non-null   object\n",
      " 4   subscription_type  1565 non-null   object\n",
      "dtypes: int64(2), object(3)\n",
      "memory usage: 61.3+ KB\n"
     ]
    },
    {
     "data": {
      "text/plain": [
       "None"
      ]
     },
     "metadata": {},
     "output_type": "display_data"
    },
    {
     "name": "stdout",
     "output_type": "stream",
     "text": [
      "<class 'pandas.core.frame.DataFrame'>\n",
      "RangeIndex: 18068 entries, 0 to 18067\n",
      "Data columns (total 4 columns):\n",
      " #   Column    Non-Null Count  Dtype  \n",
      "---  ------    --------------  -----  \n",
      " 0   user_id   18068 non-null  int64  \n",
      " 1   distance  18068 non-null  float64\n",
      " 2   duration  18068 non-null  float64\n",
      " 3   date      18068 non-null  object \n",
      "dtypes: float64(2), int64(1), object(1)\n",
      "memory usage: 564.8+ KB\n"
     ]
    },
    {
     "data": {
      "text/plain": [
       "None"
      ]
     },
     "metadata": {},
     "output_type": "display_data"
    },
    {
     "name": "stdout",
     "output_type": "stream",
     "text": [
      "<class 'pandas.core.frame.DataFrame'>\n",
      "RangeIndex: 2 entries, 0 to 1\n",
      "Data columns (total 4 columns):\n",
      " #   Column             Non-Null Count  Dtype \n",
      "---  ------             --------------  ----- \n",
      " 0   subscription_type  2 non-null      object\n",
      " 1   minute_price       2 non-null      int64 \n",
      " 2   start_ride_price   2 non-null      int64 \n",
      " 3   subscription_fee   2 non-null      int64 \n",
      "dtypes: int64(3), object(1)\n",
      "memory usage: 192.0+ bytes\n"
     ]
    },
    {
     "data": {
      "text/plain": [
       "None"
      ]
     },
     "metadata": {},
     "output_type": "display_data"
    }
   ],
   "source": [
    "display(users.info())\n",
    "display(rides.info())\n",
    "display(subscriptions.info())"
   ]
  },
  {
   "cell_type": "markdown",
   "id": "f466c113",
   "metadata": {},
   "source": [
    "Анализируя полученную информацию о наборах данных, делаем выводы:\n",
    "- пропущенных значений в наборах нет, общее количество значений по каждому полю внутри наборов одинаковое,\n",
    "- все поля наборов имеют правильный тип данных, кроме поля со временем в наборе rides."
   ]
  },
  {
   "cell_type": "markdown",
   "id": "e95ebca7",
   "metadata": {},
   "source": [
    "#### Шаг 2. Предобработка данных"
   ]
  },
  {
   "cell_type": "markdown",
   "id": "8418dee7",
   "metadata": {},
   "source": [
    "<div style=\"background-color:lavender; color:#black; text-align:center; padding:2%\">\n",
    "    \n",
    "##### **Нина:** Найдем минимальное и максимальное значение дат в данных:"
   ]
  },
  {
   "cell_type": "code",
   "execution_count": 4,
   "id": "abdf39af",
   "metadata": {},
   "outputs": [
    {
     "data": {
      "text/plain": [
       "'2021-12-30'"
      ]
     },
     "metadata": {},
     "output_type": "display_data"
    },
    {
     "data": {
      "text/plain": [
       "'2021-01-01'"
      ]
     },
     "metadata": {},
     "output_type": "display_data"
    }
   ],
   "source": [
    "display(np.max(rides['date']),np.min(rides['date']))"
   ]
  },
  {
   "cell_type": "markdown",
   "id": "7d0e923b",
   "metadata": {},
   "source": [
    "Все данные в наборе относятся к 2021 году, так что можно провести агрегацию данных по месяцам.\n",
    "Приводим тип данных для поля rides.date к типу даты pandas.\n",
    "Добавляем новый столбец с номером месяца на основе столбца rides.date."
   ]
  },
  {
   "cell_type": "code",
   "execution_count": 5,
   "id": "0feb4a00",
   "metadata": {},
   "outputs": [
    {
     "data": {
      "text/html": [
       "<div>\n",
       "<style scoped>\n",
       "    .dataframe tbody tr th:only-of-type {\n",
       "        vertical-align: middle;\n",
       "    }\n",
       "\n",
       "    .dataframe tbody tr th {\n",
       "        vertical-align: top;\n",
       "    }\n",
       "\n",
       "    .dataframe thead th {\n",
       "        text-align: right;\n",
       "    }\n",
       "</style>\n",
       "<table border=\"1\" class=\"dataframe\">\n",
       "  <thead>\n",
       "    <tr style=\"text-align: right;\">\n",
       "      <th></th>\n",
       "      <th>user_id</th>\n",
       "      <th>distance</th>\n",
       "      <th>duration</th>\n",
       "      <th>date</th>\n",
       "      <th>month</th>\n",
       "    </tr>\n",
       "  </thead>\n",
       "  <tbody>\n",
       "    <tr>\n",
       "      <th>0</th>\n",
       "      <td>1</td>\n",
       "      <td>4409.919140</td>\n",
       "      <td>25.599769</td>\n",
       "      <td>2021-01-01</td>\n",
       "      <td>1</td>\n",
       "    </tr>\n",
       "    <tr>\n",
       "      <th>1</th>\n",
       "      <td>1</td>\n",
       "      <td>2617.592153</td>\n",
       "      <td>15.816871</td>\n",
       "      <td>2021-01-18</td>\n",
       "      <td>1</td>\n",
       "    </tr>\n",
       "    <tr>\n",
       "      <th>2</th>\n",
       "      <td>1</td>\n",
       "      <td>754.159807</td>\n",
       "      <td>6.232113</td>\n",
       "      <td>2021-04-20</td>\n",
       "      <td>4</td>\n",
       "    </tr>\n",
       "    <tr>\n",
       "      <th>3</th>\n",
       "      <td>1</td>\n",
       "      <td>2694.783254</td>\n",
       "      <td>18.511000</td>\n",
       "      <td>2021-08-11</td>\n",
       "      <td>8</td>\n",
       "    </tr>\n",
       "    <tr>\n",
       "      <th>4</th>\n",
       "      <td>1</td>\n",
       "      <td>4028.687306</td>\n",
       "      <td>26.265803</td>\n",
       "      <td>2021-08-28</td>\n",
       "      <td>8</td>\n",
       "    </tr>\n",
       "  </tbody>\n",
       "</table>\n",
       "</div>"
      ],
      "text/plain": [
       "   user_id     distance   duration       date  month\n",
       "0        1  4409.919140  25.599769 2021-01-01      1\n",
       "1        1  2617.592153  15.816871 2021-01-18      1\n",
       "2        1   754.159807   6.232113 2021-04-20      4\n",
       "3        1  2694.783254  18.511000 2021-08-11      8\n",
       "4        1  4028.687306  26.265803 2021-08-28      8"
      ]
     },
     "metadata": {},
     "output_type": "display_data"
    }
   ],
   "source": [
    "rides['date'] = pd.to_datetime(rides['date'])\n",
    "rides['month'] = rides['date'].dt.month\n",
    "display(rides.head())"
   ]
  },
  {
   "cell_type": "markdown",
   "id": "57236d25",
   "metadata": {},
   "source": [
    "Проверяем наличие пропущенных значений:"
   ]
  },
  {
   "cell_type": "code",
   "execution_count": 6,
   "id": "9128243a",
   "metadata": {},
   "outputs": [
    {
     "data": {
      "text/plain": [
       "user_id              0\n",
       "name                 0\n",
       "age                  0\n",
       "city                 0\n",
       "subscription_type    0\n",
       "dtype: int64"
      ]
     },
     "metadata": {},
     "output_type": "display_data"
    },
    {
     "data": {
      "text/plain": [
       "user_id     0\n",
       "distance    0\n",
       "duration    0\n",
       "date        0\n",
       "month       0\n",
       "dtype: int64"
      ]
     },
     "metadata": {},
     "output_type": "display_data"
    },
    {
     "data": {
      "text/plain": [
       "subscription_type    0\n",
       "minute_price         0\n",
       "start_ride_price     0\n",
       "subscription_fee     0\n",
       "dtype: int64"
      ]
     },
     "metadata": {},
     "output_type": "display_data"
    }
   ],
   "source": [
    "display(users.isna().sum())\n",
    "display(rides.isna().sum())\n",
    "display(subscriptions.isna().sum())"
   ]
  },
  {
   "cell_type": "markdown",
   "id": "dddce3ee",
   "metadata": {},
   "source": [
    "Отсутствующих значений в наборах нет. Проверяем наличие дубликатов:"
   ]
  },
  {
   "cell_type": "code",
   "execution_count": 7,
   "id": "8589b53a",
   "metadata": {},
   "outputs": [
    {
     "data": {
      "text/plain": [
       "31"
      ]
     },
     "metadata": {},
     "output_type": "display_data"
    },
    {
     "data": {
      "text/plain": [
       "0"
      ]
     },
     "metadata": {},
     "output_type": "display_data"
    },
    {
     "data": {
      "text/plain": [
       "0"
      ]
     },
     "metadata": {},
     "output_type": "display_data"
    }
   ],
   "source": [
    "display(users.duplicated().sum())\n",
    "display(rides.duplicated().sum())\n",
    "display(subscriptions.duplicated().sum())"
   ]
  },
  {
   "cell_type": "markdown",
   "id": "a8b80a57",
   "metadata": {},
   "source": [
    "Дубликаты обнаружились в наборе users. Удаляем их. Выполняем проверку."
   ]
  },
  {
   "cell_type": "code",
   "execution_count": 8,
   "id": "25129324",
   "metadata": {},
   "outputs": [
    {
     "data": {
      "text/plain": [
       "0"
      ]
     },
     "metadata": {},
     "output_type": "display_data"
    }
   ],
   "source": [
    "users = users.drop_duplicates()\n",
    "display(users.duplicated().sum())"
   ]
  },
  {
   "cell_type": "markdown",
   "id": "f43366b6",
   "metadata": {},
   "source": [
    "##### Данные очищены и подготовлены для иследования:\n",
    "    \n",
    "- тип данных приведен к правильному,\n",
    "- дубликаты удалены,\n",
    "- пропуски отсутствуют."
   ]
  },
  {
   "cell_type": "markdown",
   "id": "212593c7",
   "metadata": {},
   "source": [
    "#### Шаг 3. Исследовательский анализ данных"
   ]
  },
  {
   "cell_type": "markdown",
   "id": "3a1ab0e3",
   "metadata": {},
   "source": [
    "Проанализируем данные. Для этого построим график, отображающий количество пользователей сервисом в городах"
   ]
  },
  {
   "cell_type": "code",
   "execution_count": 9,
   "id": "e3a4274c",
   "metadata": {},
   "outputs": [
    {
     "data": {
      "image/png": "[encoded data removed]",
      "text/plain": [
       "<Figure size 432x288 with 1 Axes>"
      ]
     },
     "metadata": {
      "needs_background": "light"
     },
     "output_type": "display_data"
    }
   ],
   "source": [
    "users['city'].value_counts().sort_values(ascending=False).plot(kind='bar', title='Рейтинг городов')\n",
    "plt.xlabel='города'\n",
    "plt.ylabel='Кол-во пользователей'"
   ]
  },
  {
   "cell_type": "markdown",
   "id": "6071c78c",
   "metadata": {},
   "source": [
    "Из графика видно, что Пятигорск лидирует по количеству самокатчиков, а Москва занимает последнее место в этом списке.\n",
    "Продолжаем анализ. Посмотрим на соотношение пользователей с подпиской и без подписки"
   ]
  },
  {
   "cell_type": "code",
   "execution_count": 10,
   "id": "c8f647bc",
   "metadata": {},
   "outputs": [
    {
     "data": {
      "image/png": "[encoded data removed]",
      "text/plain": [
       "<Figure size 432x288 with 1 Axes>"
      ]
     },
     "metadata": {},
     "output_type": "display_data"
    }
   ],
   "source": [
    "(users['subscription_type']\n",
    "     .value_counts()\n",
    "     .sort_values(ascending=False)\n",
    "     .plot(kind='pie', title='Соотношение пользователей с подпиской и без подписки')\n",
    ")\n",
    "plt.xlabel='Тип подписки'\n",
    "plt.ylabel='Кол-во пользователей'"
   ]
  },
  {
   "cell_type": "markdown",
   "id": "aefe3edc",
   "metadata": {},
   "source": [
    "Получается, что любителей кататься без регистрации приблизительно на 100 человек больше, нежели зарегистрировавшихся.\n",
    "Изучим возраст катающихся"
   ]
  },
  {
   "cell_type": "code",
   "execution_count": 11,
   "id": "113d5739",
   "metadata": {},
   "outputs": [
    {
     "data": {
      "text/plain": [
       "count    1534.000000\n",
       "mean       24.903520\n",
       "std         4.572367\n",
       "min        12.000000\n",
       "25%        22.000000\n",
       "50%        25.000000\n",
       "75%        28.000000\n",
       "max        43.000000\n",
       "Name: age, dtype: float64"
      ]
     },
     "execution_count": 11,
     "metadata": {},
     "output_type": "execute_result"
    },
    {
     "data": {
      "image/png": "[encoded data removed]",
      "text/plain": [
       "<Figure size 432x288 with 1 Axes>"
      ]
     },
     "metadata": {
      "needs_background": "light"
     },
     "output_type": "display_data"
    }
   ],
   "source": [
    "(users['age']\n",
    "    .value_counts()\n",
    "    .sort_index()\n",
    "    .plot(kind='bar', title='Распределение пользователей по возрасту')\n",
    ")\n",
    "plt.xlabel='Возраст пользователей'\n",
    "plt.ylabel='Кол-во пользователей'\n",
    "users['age'].describe()"
   ]
  },
  {
   "cell_type": "markdown",
   "id": "15ba0faa",
   "metadata": {},
   "source": [
    "Самым молодым пользователям по 12 лет, а самая взрослым - 43. Распределение по возрастным группам представляет собой график нормального распределения с выраженным центром, подтвержденным медианным значением, - 25 лет.\n",
    "Посмотрим, какое расстояние преодолевает пользователь за одну поездку"
   ]
  },
  {
   "cell_type": "code",
   "execution_count": 12,
   "id": "334d1dc2",
   "metadata": {},
   "outputs": [
    {
     "data": {
      "text/plain": [
       "count    18068.000000\n",
       "mean      3070.659976\n",
       "std       1116.831209\n",
       "min          0.855683\n",
       "25%       2543.226360\n",
       "50%       3133.609994\n",
       "75%       3776.222735\n",
       "max       7211.007745\n",
       "Name: distance, dtype: float64"
      ]
     },
     "execution_count": 12,
     "metadata": {},
     "output_type": "execute_result"
    },
    {
     "data": {
      "image/png": "[encoded data removed]",
      "text/plain": [
       "<Figure size 432x288 with 1 Axes>"
      ]
     },
     "metadata": {
      "needs_background": "light"
     },
     "output_type": "display_data"
    }
   ],
   "source": [
    "rides['distance'].plot(kind='hist', bins=10, title='Распределение поездок по дальности')\n",
    "plt.xlabel='Длина поездки'\n",
    "plt.ylabel='Кол-во поездок'\n",
    "rides['distance'].describe()"
   ]
  },
  {
   "cell_type": "markdown",
   "id": "e0550a72",
   "metadata": {},
   "source": [
    "Видим, что дальность поездок варируется от 0 до 7211 метров, в среднем длительность поездки\n",
    "составляет 3133,6 метра. График распределения длин неравномерный слева.\n",
    "Посмотрим на продолжительность поездок"
   ]
  },
  {
   "cell_type": "code",
   "execution_count": 13,
   "id": "d8219dab",
   "metadata": {},
   "outputs": [
    {
     "data": {
      "text/plain": [
       "count    18068.000000\n",
       "mean        17.805011\n",
       "std          6.091051\n",
       "min          0.500000\n",
       "25%         13.597563\n",
       "50%         17.678395\n",
       "75%         21.724800\n",
       "max         40.823963\n",
       "Name: duration, dtype: float64"
      ]
     },
     "execution_count": 13,
     "metadata": {},
     "output_type": "execute_result"
    },
    {
     "data": {
      "image/png": "[encoded data removed]",
      "text/plain": [
       "<Figure size 432x288 with 1 Axes>"
      ]
     },
     "metadata": {
      "needs_background": "light"
     },
     "output_type": "display_data"
    }
   ],
   "source": [
    "rides['duration'].plot(kind='hist', bins=10, title='Рейтинг поездок по длительности')\n",
    "plt.xlabel='Длительность поездки'\n",
    "plt.ylabel='Кол-во поездок'\n",
    "rides['duration'].describe()"
   ]
  },
  {
   "cell_type": "markdown",
   "id": "38884366",
   "metadata": {},
   "source": [
    "Общая продолжительность поездок варируется от 1 минуты до 41-42 минут, не много.\n",
    "Средняя продолжительность поездки составляет 17,68 минут."
   ]
  },
  {
   "cell_type": "markdown",
   "id": "dc553e34",
   "metadata": {},
   "source": [
    "##### Общие выводы по результатм исследования данных:\n",
    "    \n",
    "- Пятигорск - лидер по количеству пользователей сервиса, Москва - аутсайдер.\n",
    "- Количество пользователей без регистрации больше (+ 100 человек), чем зарегистрированных.\n",
    "- Средний возраст пользователей - 25 лет. Минимальный - 12 лет, максимальный - 43 года.\n",
    "- Средняя дальность поездки составила 3133,6 метра. Минимальная - чуть больше 0, максимальная - 7211 метров.\n",
    "- Средняя длительность поездок составляет 17,68 минут. Минимальная - 1 минута, максимальная - 42 минуты."
   ]
  },
  {
   "cell_type": "markdown",
   "id": "4ef51331",
   "metadata": {},
   "source": [
    "#### Шаг 4. Объединение данных"
   ]
  },
  {
   "cell_type": "markdown",
   "id": "ced5b072",
   "metadata": {},
   "source": [
    "Объединим данные о пользователях, поездках и подписках в один датафрейм"
   ]
  },
  {
   "cell_type": "code",
   "execution_count": 14,
   "id": "6bf288b5",
   "metadata": {},
   "outputs": [
    {
     "data": {
      "text/html": [
       "<div>\n",
       "<style scoped>\n",
       "    .dataframe tbody tr th:only-of-type {\n",
       "        vertical-align: middle;\n",
       "    }\n",
       "\n",
       "    .dataframe tbody tr th {\n",
       "        vertical-align: top;\n",
       "    }\n",
       "\n",
       "    .dataframe thead th {\n",
       "        text-align: right;\n",
       "    }\n",
       "</style>\n",
       "<table border=\"1\" class=\"dataframe\">\n",
       "  <thead>\n",
       "    <tr style=\"text-align: right;\">\n",
       "      <th></th>\n",
       "      <th>user_id</th>\n",
       "      <th>name</th>\n",
       "      <th>age</th>\n",
       "      <th>city</th>\n",
       "      <th>subscription_type</th>\n",
       "      <th>distance</th>\n",
       "      <th>duration</th>\n",
       "      <th>date</th>\n",
       "      <th>month</th>\n",
       "      <th>minute_price</th>\n",
       "      <th>start_ride_price</th>\n",
       "      <th>subscription_fee</th>\n",
       "    </tr>\n",
       "  </thead>\n",
       "  <tbody>\n",
       "    <tr>\n",
       "      <th>0</th>\n",
       "      <td>1</td>\n",
       "      <td>Кира</td>\n",
       "      <td>22</td>\n",
       "      <td>Тюмень</td>\n",
       "      <td>ultra</td>\n",
       "      <td>4409.919140</td>\n",
       "      <td>25.599769</td>\n",
       "      <td>2021-01-01</td>\n",
       "      <td>1</td>\n",
       "      <td>6</td>\n",
       "      <td>0</td>\n",
       "      <td>199</td>\n",
       "    </tr>\n",
       "    <tr>\n",
       "      <th>1</th>\n",
       "      <td>1</td>\n",
       "      <td>Кира</td>\n",
       "      <td>22</td>\n",
       "      <td>Тюмень</td>\n",
       "      <td>ultra</td>\n",
       "      <td>2617.592153</td>\n",
       "      <td>15.816871</td>\n",
       "      <td>2021-01-18</td>\n",
       "      <td>1</td>\n",
       "      <td>6</td>\n",
       "      <td>0</td>\n",
       "      <td>199</td>\n",
       "    </tr>\n",
       "    <tr>\n",
       "      <th>2</th>\n",
       "      <td>1</td>\n",
       "      <td>Кира</td>\n",
       "      <td>22</td>\n",
       "      <td>Тюмень</td>\n",
       "      <td>ultra</td>\n",
       "      <td>754.159807</td>\n",
       "      <td>6.232113</td>\n",
       "      <td>2021-04-20</td>\n",
       "      <td>4</td>\n",
       "      <td>6</td>\n",
       "      <td>0</td>\n",
       "      <td>199</td>\n",
       "    </tr>\n",
       "    <tr>\n",
       "      <th>3</th>\n",
       "      <td>1</td>\n",
       "      <td>Кира</td>\n",
       "      <td>22</td>\n",
       "      <td>Тюмень</td>\n",
       "      <td>ultra</td>\n",
       "      <td>2694.783254</td>\n",
       "      <td>18.511000</td>\n",
       "      <td>2021-08-11</td>\n",
       "      <td>8</td>\n",
       "      <td>6</td>\n",
       "      <td>0</td>\n",
       "      <td>199</td>\n",
       "    </tr>\n",
       "    <tr>\n",
       "      <th>4</th>\n",
       "      <td>1</td>\n",
       "      <td>Кира</td>\n",
       "      <td>22</td>\n",
       "      <td>Тюмень</td>\n",
       "      <td>ultra</td>\n",
       "      <td>4028.687306</td>\n",
       "      <td>26.265803</td>\n",
       "      <td>2021-08-28</td>\n",
       "      <td>8</td>\n",
       "      <td>6</td>\n",
       "      <td>0</td>\n",
       "      <td>199</td>\n",
       "    </tr>\n",
       "    <tr>\n",
       "      <th>...</th>\n",
       "      <td>...</td>\n",
       "      <td>...</td>\n",
       "      <td>...</td>\n",
       "      <td>...</td>\n",
       "      <td>...</td>\n",
       "      <td>...</td>\n",
       "      <td>...</td>\n",
       "      <td>...</td>\n",
       "      <td>...</td>\n",
       "      <td>...</td>\n",
       "      <td>...</td>\n",
       "      <td>...</td>\n",
       "    </tr>\n",
       "    <tr>\n",
       "      <th>18063</th>\n",
       "      <td>1534</td>\n",
       "      <td>Альберт</td>\n",
       "      <td>25</td>\n",
       "      <td>Краснодар</td>\n",
       "      <td>free</td>\n",
       "      <td>3781.098080</td>\n",
       "      <td>19.822962</td>\n",
       "      <td>2021-11-04</td>\n",
       "      <td>11</td>\n",
       "      <td>8</td>\n",
       "      <td>50</td>\n",
       "      <td>0</td>\n",
       "    </tr>\n",
       "    <tr>\n",
       "      <th>18064</th>\n",
       "      <td>1534</td>\n",
       "      <td>Альберт</td>\n",
       "      <td>25</td>\n",
       "      <td>Краснодар</td>\n",
       "      <td>free</td>\n",
       "      <td>2840.423057</td>\n",
       "      <td>21.409799</td>\n",
       "      <td>2021-11-16</td>\n",
       "      <td>11</td>\n",
       "      <td>8</td>\n",
       "      <td>50</td>\n",
       "      <td>0</td>\n",
       "    </tr>\n",
       "    <tr>\n",
       "      <th>18065</th>\n",
       "      <td>1534</td>\n",
       "      <td>Альберт</td>\n",
       "      <td>25</td>\n",
       "      <td>Краснодар</td>\n",
       "      <td>free</td>\n",
       "      <td>3826.185507</td>\n",
       "      <td>18.435051</td>\n",
       "      <td>2021-11-18</td>\n",
       "      <td>11</td>\n",
       "      <td>8</td>\n",
       "      <td>50</td>\n",
       "      <td>0</td>\n",
       "    </tr>\n",
       "    <tr>\n",
       "      <th>18066</th>\n",
       "      <td>1534</td>\n",
       "      <td>Альберт</td>\n",
       "      <td>25</td>\n",
       "      <td>Краснодар</td>\n",
       "      <td>free</td>\n",
       "      <td>2902.308661</td>\n",
       "      <td>16.674362</td>\n",
       "      <td>2021-11-27</td>\n",
       "      <td>11</td>\n",
       "      <td>8</td>\n",
       "      <td>50</td>\n",
       "      <td>0</td>\n",
       "    </tr>\n",
       "    <tr>\n",
       "      <th>18067</th>\n",
       "      <td>1534</td>\n",
       "      <td>Альберт</td>\n",
       "      <td>25</td>\n",
       "      <td>Краснодар</td>\n",
       "      <td>free</td>\n",
       "      <td>2371.711192</td>\n",
       "      <td>15.893917</td>\n",
       "      <td>2021-12-29</td>\n",
       "      <td>12</td>\n",
       "      <td>8</td>\n",
       "      <td>50</td>\n",
       "      <td>0</td>\n",
       "    </tr>\n",
       "  </tbody>\n",
       "</table>\n",
       "<p>18068 rows × 12 columns</p>\n",
       "</div>"
      ],
      "text/plain": [
       "       user_id     name  age       city subscription_type     distance  \\\n",
       "0            1     Кира   22     Тюмень             ultra  4409.919140   \n",
       "1            1     Кира   22     Тюмень             ultra  2617.592153   \n",
       "2            1     Кира   22     Тюмень             ultra   754.159807   \n",
       "3            1     Кира   22     Тюмень             ultra  2694.783254   \n",
       "4            1     Кира   22     Тюмень             ultra  4028.687306   \n",
       "...        ...      ...  ...        ...               ...          ...   \n",
       "18063     1534  Альберт   25  Краснодар              free  3781.098080   \n",
       "18064     1534  Альберт   25  Краснодар              free  2840.423057   \n",
       "18065     1534  Альберт   25  Краснодар              free  3826.185507   \n",
       "18066     1534  Альберт   25  Краснодар              free  2902.308661   \n",
       "18067     1534  Альберт   25  Краснодар              free  2371.711192   \n",
       "\n",
       "        duration       date  month  minute_price  start_ride_price  \\\n",
       "0      25.599769 2021-01-01      1             6                 0   \n",
       "1      15.816871 2021-01-18      1             6                 0   \n",
       "2       6.232113 2021-04-20      4             6                 0   \n",
       "3      18.511000 2021-08-11      8             6                 0   \n",
       "4      26.265803 2021-08-28      8             6                 0   \n",
       "...          ...        ...    ...           ...               ...   \n",
       "18063  19.822962 2021-11-04     11             8                50   \n",
       "18064  21.409799 2021-11-16     11             8                50   \n",
       "18065  18.435051 2021-11-18     11             8                50   \n",
       "18066  16.674362 2021-11-27     11             8                50   \n",
       "18067  15.893917 2021-12-29     12             8                50   \n",
       "\n",
       "       subscription_fee  \n",
       "0                   199  \n",
       "1                   199  \n",
       "2                   199  \n",
       "3                   199  \n",
       "4                   199  \n",
       "...                 ...  \n",
       "18063                 0  \n",
       "18064                 0  \n",
       "18065                 0  \n",
       "18066                 0  \n",
       "18067                 0  \n",
       "\n",
       "[18068 rows x 12 columns]"
      ]
     },
     "metadata": {},
     "output_type": "display_data"
    }
   ],
   "source": [
    "u_r=pd.merge(users, rides, how='left', on='user_id')\n",
    "usr_rds_sbscr=pd.merge(u_r,subscriptions, how='left', on='subscription_type')\n",
    "display(usr_rds_sbscr)"
   ]
  },
  {
   "cell_type": "markdown",
   "id": "8e91abfa",
   "metadata": {},
   "source": [
    "Наборы объединены в один датафрейм usr_rds_sbscr.\n",
    "Разделим данные на 2 датафрейма - пользователи с подпиской и без."
   ]
  },
  {
   "cell_type": "code",
   "execution_count": 15,
   "id": "18e66ed0",
   "metadata": {},
   "outputs": [
    {
     "data": {
      "text/html": [
       "<div>\n",
       "<style scoped>\n",
       "    .dataframe tbody tr th:only-of-type {\n",
       "        vertical-align: middle;\n",
       "    }\n",
       "\n",
       "    .dataframe tbody tr th {\n",
       "        vertical-align: top;\n",
       "    }\n",
       "\n",
       "    .dataframe thead th {\n",
       "        text-align: right;\n",
       "    }\n",
       "</style>\n",
       "<table border=\"1\" class=\"dataframe\">\n",
       "  <thead>\n",
       "    <tr style=\"text-align: right;\">\n",
       "      <th></th>\n",
       "      <th>user_id</th>\n",
       "      <th>name</th>\n",
       "      <th>age</th>\n",
       "      <th>city</th>\n",
       "      <th>subscription_type</th>\n",
       "      <th>distance</th>\n",
       "      <th>duration</th>\n",
       "      <th>date</th>\n",
       "      <th>month</th>\n",
       "      <th>minute_price</th>\n",
       "      <th>start_ride_price</th>\n",
       "      <th>subscription_fee</th>\n",
       "    </tr>\n",
       "  </thead>\n",
       "  <tbody>\n",
       "    <tr>\n",
       "      <th>0</th>\n",
       "      <td>1</td>\n",
       "      <td>Кира</td>\n",
       "      <td>22</td>\n",
       "      <td>Тюмень</td>\n",
       "      <td>ultra</td>\n",
       "      <td>4409.919140</td>\n",
       "      <td>25.599769</td>\n",
       "      <td>2021-01-01</td>\n",
       "      <td>1</td>\n",
       "      <td>6</td>\n",
       "      <td>0</td>\n",
       "      <td>199</td>\n",
       "    </tr>\n",
       "    <tr>\n",
       "      <th>1</th>\n",
       "      <td>1</td>\n",
       "      <td>Кира</td>\n",
       "      <td>22</td>\n",
       "      <td>Тюмень</td>\n",
       "      <td>ultra</td>\n",
       "      <td>2617.592153</td>\n",
       "      <td>15.816871</td>\n",
       "      <td>2021-01-18</td>\n",
       "      <td>1</td>\n",
       "      <td>6</td>\n",
       "      <td>0</td>\n",
       "      <td>199</td>\n",
       "    </tr>\n",
       "    <tr>\n",
       "      <th>2</th>\n",
       "      <td>1</td>\n",
       "      <td>Кира</td>\n",
       "      <td>22</td>\n",
       "      <td>Тюмень</td>\n",
       "      <td>ultra</td>\n",
       "      <td>754.159807</td>\n",
       "      <td>6.232113</td>\n",
       "      <td>2021-04-20</td>\n",
       "      <td>4</td>\n",
       "      <td>6</td>\n",
       "      <td>0</td>\n",
       "      <td>199</td>\n",
       "    </tr>\n",
       "    <tr>\n",
       "      <th>3</th>\n",
       "      <td>1</td>\n",
       "      <td>Кира</td>\n",
       "      <td>22</td>\n",
       "      <td>Тюмень</td>\n",
       "      <td>ultra</td>\n",
       "      <td>2694.783254</td>\n",
       "      <td>18.511000</td>\n",
       "      <td>2021-08-11</td>\n",
       "      <td>8</td>\n",
       "      <td>6</td>\n",
       "      <td>0</td>\n",
       "      <td>199</td>\n",
       "    </tr>\n",
       "    <tr>\n",
       "      <th>4</th>\n",
       "      <td>1</td>\n",
       "      <td>Кира</td>\n",
       "      <td>22</td>\n",
       "      <td>Тюмень</td>\n",
       "      <td>ultra</td>\n",
       "      <td>4028.687306</td>\n",
       "      <td>26.265803</td>\n",
       "      <td>2021-08-28</td>\n",
       "      <td>8</td>\n",
       "      <td>6</td>\n",
       "      <td>0</td>\n",
       "      <td>199</td>\n",
       "    </tr>\n",
       "    <tr>\n",
       "      <th>...</th>\n",
       "      <td>...</td>\n",
       "      <td>...</td>\n",
       "      <td>...</td>\n",
       "      <td>...</td>\n",
       "      <td>...</td>\n",
       "      <td>...</td>\n",
       "      <td>...</td>\n",
       "      <td>...</td>\n",
       "      <td>...</td>\n",
       "      <td>...</td>\n",
       "      <td>...</td>\n",
       "      <td>...</td>\n",
       "    </tr>\n",
       "    <tr>\n",
       "      <th>6495</th>\n",
       "      <td>699</td>\n",
       "      <td>Оксана</td>\n",
       "      <td>22</td>\n",
       "      <td>Москва</td>\n",
       "      <td>ultra</td>\n",
       "      <td>3973.046497</td>\n",
       "      <td>24.671163</td>\n",
       "      <td>2021-08-29</td>\n",
       "      <td>8</td>\n",
       "      <td>6</td>\n",
       "      <td>0</td>\n",
       "      <td>199</td>\n",
       "    </tr>\n",
       "    <tr>\n",
       "      <th>6496</th>\n",
       "      <td>699</td>\n",
       "      <td>Оксана</td>\n",
       "      <td>22</td>\n",
       "      <td>Москва</td>\n",
       "      <td>ultra</td>\n",
       "      <td>3288.702563</td>\n",
       "      <td>15.892886</td>\n",
       "      <td>2021-09-12</td>\n",
       "      <td>9</td>\n",
       "      <td>6</td>\n",
       "      <td>0</td>\n",
       "      <td>199</td>\n",
       "    </tr>\n",
       "    <tr>\n",
       "      <th>6497</th>\n",
       "      <td>699</td>\n",
       "      <td>Оксана</td>\n",
       "      <td>22</td>\n",
       "      <td>Москва</td>\n",
       "      <td>ultra</td>\n",
       "      <td>3076.159348</td>\n",
       "      <td>14.389525</td>\n",
       "      <td>2021-09-26</td>\n",
       "      <td>9</td>\n",
       "      <td>6</td>\n",
       "      <td>0</td>\n",
       "      <td>199</td>\n",
       "    </tr>\n",
       "    <tr>\n",
       "      <th>6498</th>\n",
       "      <td>699</td>\n",
       "      <td>Оксана</td>\n",
       "      <td>22</td>\n",
       "      <td>Москва</td>\n",
       "      <td>ultra</td>\n",
       "      <td>4707.845501</td>\n",
       "      <td>15.839579</td>\n",
       "      <td>2021-10-17</td>\n",
       "      <td>10</td>\n",
       "      <td>6</td>\n",
       "      <td>0</td>\n",
       "      <td>199</td>\n",
       "    </tr>\n",
       "    <tr>\n",
       "      <th>6499</th>\n",
       "      <td>699</td>\n",
       "      <td>Оксана</td>\n",
       "      <td>22</td>\n",
       "      <td>Москва</td>\n",
       "      <td>ultra</td>\n",
       "      <td>3202.890770</td>\n",
       "      <td>25.217345</td>\n",
       "      <td>2021-12-03</td>\n",
       "      <td>12</td>\n",
       "      <td>6</td>\n",
       "      <td>0</td>\n",
       "      <td>199</td>\n",
       "    </tr>\n",
       "  </tbody>\n",
       "</table>\n",
       "<p>6500 rows × 12 columns</p>\n",
       "</div>"
      ],
      "text/plain": [
       "      user_id    name  age    city subscription_type     distance   duration  \\\n",
       "0           1    Кира   22  Тюмень             ultra  4409.919140  25.599769   \n",
       "1           1    Кира   22  Тюмень             ultra  2617.592153  15.816871   \n",
       "2           1    Кира   22  Тюмень             ultra   754.159807   6.232113   \n",
       "3           1    Кира   22  Тюмень             ultra  2694.783254  18.511000   \n",
       "4           1    Кира   22  Тюмень             ultra  4028.687306  26.265803   \n",
       "...       ...     ...  ...     ...               ...          ...        ...   \n",
       "6495      699  Оксана   22  Москва             ultra  3973.046497  24.671163   \n",
       "6496      699  Оксана   22  Москва             ultra  3288.702563  15.892886   \n",
       "6497      699  Оксана   22  Москва             ultra  3076.159348  14.389525   \n",
       "6498      699  Оксана   22  Москва             ultra  4707.845501  15.839579   \n",
       "6499      699  Оксана   22  Москва             ultra  3202.890770  25.217345   \n",
       "\n",
       "           date  month  minute_price  start_ride_price  subscription_fee  \n",
       "0    2021-01-01      1             6                 0               199  \n",
       "1    2021-01-18      1             6                 0               199  \n",
       "2    2021-04-20      4             6                 0               199  \n",
       "3    2021-08-11      8             6                 0               199  \n",
       "4    2021-08-28      8             6                 0               199  \n",
       "...         ...    ...           ...               ...               ...  \n",
       "6495 2021-08-29      8             6                 0               199  \n",
       "6496 2021-09-12      9             6                 0               199  \n",
       "6497 2021-09-26      9             6                 0               199  \n",
       "6498 2021-10-17     10             6                 0               199  \n",
       "6499 2021-12-03     12             6                 0               199  \n",
       "\n",
       "[6500 rows x 12 columns]"
      ]
     },
     "metadata": {},
     "output_type": "display_data"
    },
    {
     "data": {
      "text/html": [
       "<div>\n",
       "<style scoped>\n",
       "    .dataframe tbody tr th:only-of-type {\n",
       "        vertical-align: middle;\n",
       "    }\n",
       "\n",
       "    .dataframe tbody tr th {\n",
       "        vertical-align: top;\n",
       "    }\n",
       "\n",
       "    .dataframe thead th {\n",
       "        text-align: right;\n",
       "    }\n",
       "</style>\n",
       "<table border=\"1\" class=\"dataframe\">\n",
       "  <thead>\n",
       "    <tr style=\"text-align: right;\">\n",
       "      <th></th>\n",
       "      <th>user_id</th>\n",
       "      <th>name</th>\n",
       "      <th>age</th>\n",
       "      <th>city</th>\n",
       "      <th>subscription_type</th>\n",
       "      <th>distance</th>\n",
       "      <th>duration</th>\n",
       "      <th>date</th>\n",
       "      <th>month</th>\n",
       "      <th>minute_price</th>\n",
       "      <th>start_ride_price</th>\n",
       "      <th>subscription_fee</th>\n",
       "    </tr>\n",
       "  </thead>\n",
       "  <tbody>\n",
       "    <tr>\n",
       "      <th>6500</th>\n",
       "      <td>700</td>\n",
       "      <td>Айдар</td>\n",
       "      <td>22</td>\n",
       "      <td>Омск</td>\n",
       "      <td>free</td>\n",
       "      <td>2515.690719</td>\n",
       "      <td>14.944286</td>\n",
       "      <td>2021-01-02</td>\n",
       "      <td>1</td>\n",
       "      <td>8</td>\n",
       "      <td>50</td>\n",
       "      <td>0</td>\n",
       "    </tr>\n",
       "    <tr>\n",
       "      <th>6501</th>\n",
       "      <td>700</td>\n",
       "      <td>Айдар</td>\n",
       "      <td>22</td>\n",
       "      <td>Омск</td>\n",
       "      <td>free</td>\n",
       "      <td>846.932642</td>\n",
       "      <td>16.234663</td>\n",
       "      <td>2021-02-01</td>\n",
       "      <td>2</td>\n",
       "      <td>8</td>\n",
       "      <td>50</td>\n",
       "      <td>0</td>\n",
       "    </tr>\n",
       "    <tr>\n",
       "      <th>6502</th>\n",
       "      <td>700</td>\n",
       "      <td>Айдар</td>\n",
       "      <td>22</td>\n",
       "      <td>Омск</td>\n",
       "      <td>free</td>\n",
       "      <td>4004.434142</td>\n",
       "      <td>20.016628</td>\n",
       "      <td>2021-02-04</td>\n",
       "      <td>2</td>\n",
       "      <td>8</td>\n",
       "      <td>50</td>\n",
       "      <td>0</td>\n",
       "    </tr>\n",
       "    <tr>\n",
       "      <th>6503</th>\n",
       "      <td>700</td>\n",
       "      <td>Айдар</td>\n",
       "      <td>22</td>\n",
       "      <td>Омск</td>\n",
       "      <td>free</td>\n",
       "      <td>1205.911290</td>\n",
       "      <td>9.782872</td>\n",
       "      <td>2021-02-10</td>\n",
       "      <td>2</td>\n",
       "      <td>8</td>\n",
       "      <td>50</td>\n",
       "      <td>0</td>\n",
       "    </tr>\n",
       "    <tr>\n",
       "      <th>6504</th>\n",
       "      <td>700</td>\n",
       "      <td>Айдар</td>\n",
       "      <td>22</td>\n",
       "      <td>Омск</td>\n",
       "      <td>free</td>\n",
       "      <td>3047.379435</td>\n",
       "      <td>17.427673</td>\n",
       "      <td>2021-02-14</td>\n",
       "      <td>2</td>\n",
       "      <td>8</td>\n",
       "      <td>50</td>\n",
       "      <td>0</td>\n",
       "    </tr>\n",
       "    <tr>\n",
       "      <th>...</th>\n",
       "      <td>...</td>\n",
       "      <td>...</td>\n",
       "      <td>...</td>\n",
       "      <td>...</td>\n",
       "      <td>...</td>\n",
       "      <td>...</td>\n",
       "      <td>...</td>\n",
       "      <td>...</td>\n",
       "      <td>...</td>\n",
       "      <td>...</td>\n",
       "      <td>...</td>\n",
       "      <td>...</td>\n",
       "    </tr>\n",
       "    <tr>\n",
       "      <th>18063</th>\n",
       "      <td>1534</td>\n",
       "      <td>Альберт</td>\n",
       "      <td>25</td>\n",
       "      <td>Краснодар</td>\n",
       "      <td>free</td>\n",
       "      <td>3781.098080</td>\n",
       "      <td>19.822962</td>\n",
       "      <td>2021-11-04</td>\n",
       "      <td>11</td>\n",
       "      <td>8</td>\n",
       "      <td>50</td>\n",
       "      <td>0</td>\n",
       "    </tr>\n",
       "    <tr>\n",
       "      <th>18064</th>\n",
       "      <td>1534</td>\n",
       "      <td>Альберт</td>\n",
       "      <td>25</td>\n",
       "      <td>Краснодар</td>\n",
       "      <td>free</td>\n",
       "      <td>2840.423057</td>\n",
       "      <td>21.409799</td>\n",
       "      <td>2021-11-16</td>\n",
       "      <td>11</td>\n",
       "      <td>8</td>\n",
       "      <td>50</td>\n",
       "      <td>0</td>\n",
       "    </tr>\n",
       "    <tr>\n",
       "      <th>18065</th>\n",
       "      <td>1534</td>\n",
       "      <td>Альберт</td>\n",
       "      <td>25</td>\n",
       "      <td>Краснодар</td>\n",
       "      <td>free</td>\n",
       "      <td>3826.185507</td>\n",
       "      <td>18.435051</td>\n",
       "      <td>2021-11-18</td>\n",
       "      <td>11</td>\n",
       "      <td>8</td>\n",
       "      <td>50</td>\n",
       "      <td>0</td>\n",
       "    </tr>\n",
       "    <tr>\n",
       "      <th>18066</th>\n",
       "      <td>1534</td>\n",
       "      <td>Альберт</td>\n",
       "      <td>25</td>\n",
       "      <td>Краснодар</td>\n",
       "      <td>free</td>\n",
       "      <td>2902.308661</td>\n",
       "      <td>16.674362</td>\n",
       "      <td>2021-11-27</td>\n",
       "      <td>11</td>\n",
       "      <td>8</td>\n",
       "      <td>50</td>\n",
       "      <td>0</td>\n",
       "    </tr>\n",
       "    <tr>\n",
       "      <th>18067</th>\n",
       "      <td>1534</td>\n",
       "      <td>Альберт</td>\n",
       "      <td>25</td>\n",
       "      <td>Краснодар</td>\n",
       "      <td>free</td>\n",
       "      <td>2371.711192</td>\n",
       "      <td>15.893917</td>\n",
       "      <td>2021-12-29</td>\n",
       "      <td>12</td>\n",
       "      <td>8</td>\n",
       "      <td>50</td>\n",
       "      <td>0</td>\n",
       "    </tr>\n",
       "  </tbody>\n",
       "</table>\n",
       "<p>11568 rows × 12 columns</p>\n",
       "</div>"
      ],
      "text/plain": [
       "       user_id     name  age       city subscription_type     distance  \\\n",
       "6500       700    Айдар   22       Омск              free  2515.690719   \n",
       "6501       700    Айдар   22       Омск              free   846.932642   \n",
       "6502       700    Айдар   22       Омск              free  4004.434142   \n",
       "6503       700    Айдар   22       Омск              free  1205.911290   \n",
       "6504       700    Айдар   22       Омск              free  3047.379435   \n",
       "...        ...      ...  ...        ...               ...          ...   \n",
       "18063     1534  Альберт   25  Краснодар              free  3781.098080   \n",
       "18064     1534  Альберт   25  Краснодар              free  2840.423057   \n",
       "18065     1534  Альберт   25  Краснодар              free  3826.185507   \n",
       "18066     1534  Альберт   25  Краснодар              free  2902.308661   \n",
       "18067     1534  Альберт   25  Краснодар              free  2371.711192   \n",
       "\n",
       "        duration       date  month  minute_price  start_ride_price  \\\n",
       "6500   14.944286 2021-01-02      1             8                50   \n",
       "6501   16.234663 2021-02-01      2             8                50   \n",
       "6502   20.016628 2021-02-04      2             8                50   \n",
       "6503    9.782872 2021-02-10      2             8                50   \n",
       "6504   17.427673 2021-02-14      2             8                50   \n",
       "...          ...        ...    ...           ...               ...   \n",
       "18063  19.822962 2021-11-04     11             8                50   \n",
       "18064  21.409799 2021-11-16     11             8                50   \n",
       "18065  18.435051 2021-11-18     11             8                50   \n",
       "18066  16.674362 2021-11-27     11             8                50   \n",
       "18067  15.893917 2021-12-29     12             8                50   \n",
       "\n",
       "       subscription_fee  \n",
       "6500                  0  \n",
       "6501                  0  \n",
       "6502                  0  \n",
       "6503                  0  \n",
       "6504                  0  \n",
       "...                 ...  \n",
       "18063                 0  \n",
       "18064                 0  \n",
       "18065                 0  \n",
       "18066                 0  \n",
       "18067                 0  \n",
       "\n",
       "[11568 rows x 12 columns]"
      ]
     },
     "metadata": {},
     "output_type": "display_data"
    }
   ],
   "source": [
    "ultra=usr_rds_sbscr[usr_rds_sbscr['subscription_type']=='ultra']\n",
    "display(ultra)\n",
    "free=usr_rds_sbscr[usr_rds_sbscr['subscription_type']=='free']\n",
    "display(free)"
   ]
  },
  {
   "cell_type": "markdown",
   "id": "7d8f2893",
   "metadata": {},
   "source": [
    "Общее количество строк в двух датафремах совпадает. Разделение прошло успешно.\n",
    "Визуализируем информацию о расстоянии и времени поездок для пользователей обеих категорий."
   ]
  },
  {
   "cell_type": "code",
   "execution_count": 16,
   "id": "469acc45",
   "metadata": {},
   "outputs": [
    {
     "data": {
      "text/plain": [
       "count    6500.000000\n",
       "mean     3115.445388\n",
       "std       836.895330\n",
       "min       244.210438\n",
       "25%      2785.444017\n",
       "50%      3148.637229\n",
       "75%      3560.574425\n",
       "max      5699.769662\n",
       "Name: distance, dtype: float64"
      ]
     },
     "execution_count": 16,
     "metadata": {},
     "output_type": "execute_result"
    },
    {
     "data": {
      "image/png": "[encoded data removed]",
      "text/plain": [
       "<Figure size 432x288 with 1 Axes>"
      ]
     },
     "metadata": {
      "needs_background": "light"
     },
     "output_type": "display_data"
    }
   ],
   "source": [
    "ultra['distance'].plot(kind='hist', title='Рейтинг поездок с подпиской по дальности')\n",
    "plt.xlabel='Дальность поездки с подпиской'\n",
    "plt.ylabel='Кол-во поездок с подпиской'\n",
    "ultra['distance'].describe()"
   ]
  },
  {
   "cell_type": "markdown",
   "id": "98b87ff1",
   "metadata": {},
   "source": [
    "Средняя длительность поездки по подписке составляет 3115,44 метра"
   ]
  },
  {
   "cell_type": "code",
   "execution_count": 17,
   "id": "2c13279e",
   "metadata": {},
   "outputs": [
    {
     "data": {
      "text/plain": [
       "count    11568.000000\n",
       "mean      3045.495282\n",
       "std       1246.173806\n",
       "min          0.855683\n",
       "25%       2366.562689\n",
       "50%       3114.648465\n",
       "75%       3905.697894\n",
       "max       7211.007745\n",
       "Name: distance, dtype: float64"
      ]
     },
     "execution_count": 17,
     "metadata": {},
     "output_type": "execute_result"
    },
    {
     "data": {
      "image/png": "[encoded data removed]",
      "text/plain": [
       "<Figure size 432x288 with 1 Axes>"
      ]
     },
     "metadata": {
      "needs_background": "light"
     },
     "output_type": "display_data"
    }
   ],
   "source": [
    "free['distance'].plot(kind='hist', title='Рейтинг поездок без подписки по дальности')\n",
    "plt.xlabel='Дальность поездки без подписки'\n",
    "plt.ylabel='Кол-во поездок без подписки'\n",
    "free['distance'].describe()"
   ]
  },
  {
   "cell_type": "markdown",
   "id": "db3c8a62",
   "metadata": {},
   "source": [
    "А средняя длительность поездки без подписки составляет 3045,46 метра, что приблизительно на 70 метров\n",
    "меньше, чем средняя длительность поездок по подписке. Разница небольшая."
   ]
  },
  {
   "cell_type": "code",
   "execution_count": 18,
   "id": "d2cf298c",
   "metadata": {},
   "outputs": [
    {
     "data": {
      "text/plain": [
       "count    6500.000000\n",
       "mean       18.541985\n",
       "std         5.572048\n",
       "min         3.760353\n",
       "25%        14.524654\n",
       "50%        18.178153\n",
       "75%        21.884129\n",
       "max        40.823963\n",
       "Name: duration, dtype: float64"
      ]
     },
     "execution_count": 18,
     "metadata": {},
     "output_type": "execute_result"
    },
    {
     "data": {
      "image/png": "[encoded data removed]",
      "text/plain": [
       "<Figure size 432x288 with 1 Axes>"
      ]
     },
     "metadata": {
      "needs_background": "light"
     },
     "output_type": "display_data"
    }
   ],
   "source": [
    "ultra['duration'].plot(kind='hist', title='Рейтинг поездок с подпиской по продолжительность')\n",
    "plt.xlabel='Продолжительность поездки с подпиской'\n",
    "plt.ylabel='Кол-во поездок с подпиской'\n",
    "ultra['duration'].describe()"
   ]
  },
  {
   "cell_type": "markdown",
   "id": "7455fd2c",
   "metadata": {},
   "source": [
    "Средняя продолжительность поездки по подписке составляет 18,54 минуты"
   ]
  },
  {
   "cell_type": "code",
   "execution_count": 19,
   "id": "9916f8dc",
   "metadata": {},
   "outputs": [
    {
     "data": {
      "text/plain": [
       "count    11568.000000\n",
       "mean        17.390909\n",
       "std          6.326803\n",
       "min          0.500000\n",
       "25%         12.958437\n",
       "50%         17.326890\n",
       "75%         21.594071\n",
       "max         34.948498\n",
       "Name: duration, dtype: float64"
      ]
     },
     "execution_count": 19,
     "metadata": {},
     "output_type": "execute_result"
    },
    {
     "data": {
      "image/png": "[encoded data removed]",
      "text/plain": [
       "<Figure size 432x288 with 1 Axes>"
      ]
     },
     "metadata": {
      "needs_background": "light"
     },
     "output_type": "display_data"
    }
   ],
   "source": [
    "(free['duration']\n",
    "    .plot(kind='hist',\n",
    "          xlabel='Продолжительность поездки с подпиской',\n",
    "          ylabel='Кол-во поездок с подпиской',\n",
    "          title='Рейтинг поездок с подпиской по продолжительность')\n",
    ")\n",
    "plt.xlabel='Продолжительность поездки с подпиской'\n",
    "plt.ylabel='Кол-во поездок с подпиской'\n",
    "free['duration'].describe()"
   ]
  },
  {
   "cell_type": "markdown",
   "id": "499c7517",
   "metadata": {},
   "source": [
    "Средняя продолжительность поездки по подписке составляет 17,39 минуты и это на 1,15 минуты меньше, чем с подпиской.\n",
    "Это тоже несущественная разница."
   ]
  },
  {
   "cell_type": "markdown",
   "id": "83d12bad",
   "metadata": {},
   "source": [
    "##### Выводы по результатам объединения наборов исходных данных и проведения дополнительного анализа: \n",
    "- Средняя длительность поездки пользователей с подпиской составила 3115,44 метра.\n",
    "- Средняя длительность поездки пользователей без подписки составила 3045,46 метра.\n",
    "  Это приблизительно на 70 метров меньше, чем средняя длительность поездок по подписке. Разница небольшая.\n",
    "- Средняя продолжительность поездки по подписке составила 18,54 минуты.\n",
    "- Средняя продолжительность поездки по подписке составила 17,39 минуты.\n",
    "  Это на 1,15 минуты меньше, чем с подпиской. Это тоже несущественная разница.\n",
    "    \n",
    "Пользователи с подпиской ездят дольше и дальше!"
   ]
  },
  {
   "cell_type": "markdown",
   "id": "402d620f",
   "metadata": {},
   "source": [
    "#### Шаг 5. Подсчёт выручки"
   ]
  },
  {
   "cell_type": "markdown",
   "id": "63f4656a",
   "metadata": {},
   "source": [
    "Создадим датафрейм с агрегированными данными о поездках на основе датафрейма с объединёнными данными. Рассчитаем:\n",
    "- суммарное расстояние,\n",
    "- количество поездок,\n",
    "- суммарное время для каждого пользователя за каждый месяц.\n",
    "\n",
    "В этот же датафрейм добавим столбец с помесячной выручкой, которую принёс каждый пользователь.\n",
    "Продолжительность каждой поездки в каждой строке исходного датафрейма округляем до следующего целого числа."
   ]
  },
  {
   "cell_type": "code",
   "execution_count": 20,
   "id": "53049e0a",
   "metadata": {},
   "outputs": [
    {
     "data": {
      "text/html": [
       "<div>\n",
       "<style scoped>\n",
       "    .dataframe tbody tr th:only-of-type {\n",
       "        vertical-align: middle;\n",
       "    }\n",
       "\n",
       "    .dataframe tbody tr th {\n",
       "        vertical-align: top;\n",
       "    }\n",
       "\n",
       "    .dataframe thead th {\n",
       "        text-align: right;\n",
       "    }\n",
       "</style>\n",
       "<table border=\"1\" class=\"dataframe\">\n",
       "  <thead>\n",
       "    <tr style=\"text-align: right;\">\n",
       "      <th></th>\n",
       "      <th></th>\n",
       "      <th>distance</th>\n",
       "      <th>duration</th>\n",
       "      <th>minute_price</th>\n",
       "      <th>start_ride_price</th>\n",
       "      <th>subscription_fee</th>\n",
       "      <th>count</th>\n",
       "      <th>profit</th>\n",
       "    </tr>\n",
       "    <tr>\n",
       "      <th>user_id</th>\n",
       "      <th>month</th>\n",
       "      <th></th>\n",
       "      <th></th>\n",
       "      <th></th>\n",
       "      <th></th>\n",
       "      <th></th>\n",
       "      <th></th>\n",
       "      <th></th>\n",
       "    </tr>\n",
       "  </thead>\n",
       "  <tbody>\n",
       "    <tr>\n",
       "      <th rowspan=\"5\" valign=\"top\">1</th>\n",
       "      <th>1</th>\n",
       "      <td>7027.511294</td>\n",
       "      <td>41.416640</td>\n",
       "      <td>6</td>\n",
       "      <td>0</td>\n",
       "      <td>199</td>\n",
       "      <td>2</td>\n",
       "      <td>451.0</td>\n",
       "    </tr>\n",
       "    <tr>\n",
       "      <th>4</th>\n",
       "      <td>754.159807</td>\n",
       "      <td>6.232113</td>\n",
       "      <td>6</td>\n",
       "      <td>0</td>\n",
       "      <td>199</td>\n",
       "      <td>1</td>\n",
       "      <td>241.0</td>\n",
       "    </tr>\n",
       "    <tr>\n",
       "      <th>8</th>\n",
       "      <td>6723.470560</td>\n",
       "      <td>44.776802</td>\n",
       "      <td>6</td>\n",
       "      <td>0</td>\n",
       "      <td>199</td>\n",
       "      <td>2</td>\n",
       "      <td>469.0</td>\n",
       "    </tr>\n",
       "    <tr>\n",
       "      <th>10</th>\n",
       "      <td>5809.911100</td>\n",
       "      <td>31.578017</td>\n",
       "      <td>6</td>\n",
       "      <td>0</td>\n",
       "      <td>199</td>\n",
       "      <td>2</td>\n",
       "      <td>391.0</td>\n",
       "    </tr>\n",
       "    <tr>\n",
       "      <th>11</th>\n",
       "      <td>7003.499363</td>\n",
       "      <td>53.397424</td>\n",
       "      <td>6</td>\n",
       "      <td>0</td>\n",
       "      <td>199</td>\n",
       "      <td>3</td>\n",
       "      <td>523.0</td>\n",
       "    </tr>\n",
       "    <tr>\n",
       "      <th>...</th>\n",
       "      <th>...</th>\n",
       "      <td>...</td>\n",
       "      <td>...</td>\n",
       "      <td>...</td>\n",
       "      <td>...</td>\n",
       "      <td>...</td>\n",
       "      <td>...</td>\n",
       "      <td>...</td>\n",
       "    </tr>\n",
       "    <tr>\n",
       "      <th rowspan=\"5\" valign=\"top\">1534</th>\n",
       "      <th>6</th>\n",
       "      <td>3409.468534</td>\n",
       "      <td>24.812678</td>\n",
       "      <td>8</td>\n",
       "      <td>50</td>\n",
       "      <td>0</td>\n",
       "      <td>2</td>\n",
       "      <td>300.0</td>\n",
       "    </tr>\n",
       "    <tr>\n",
       "      <th>8</th>\n",
       "      <td>7622.453034</td>\n",
       "      <td>47.205960</td>\n",
       "      <td>8</td>\n",
       "      <td>50</td>\n",
       "      <td>0</td>\n",
       "      <td>2</td>\n",
       "      <td>484.0</td>\n",
       "    </tr>\n",
       "    <tr>\n",
       "      <th>9</th>\n",
       "      <td>4928.173852</td>\n",
       "      <td>22.560373</td>\n",
       "      <td>8</td>\n",
       "      <td>50</td>\n",
       "      <td>0</td>\n",
       "      <td>1</td>\n",
       "      <td>234.0</td>\n",
       "    </tr>\n",
       "    <tr>\n",
       "      <th>11</th>\n",
       "      <td>13350.015305</td>\n",
       "      <td>76.342174</td>\n",
       "      <td>8</td>\n",
       "      <td>50</td>\n",
       "      <td>0</td>\n",
       "      <td>4</td>\n",
       "      <td>816.0</td>\n",
       "    </tr>\n",
       "    <tr>\n",
       "      <th>12</th>\n",
       "      <td>2371.711192</td>\n",
       "      <td>15.893917</td>\n",
       "      <td>8</td>\n",
       "      <td>50</td>\n",
       "      <td>0</td>\n",
       "      <td>1</td>\n",
       "      <td>178.0</td>\n",
       "    </tr>\n",
       "  </tbody>\n",
       "</table>\n",
       "<p>11331 rows × 7 columns</p>\n",
       "</div>"
      ],
      "text/plain": [
       "                   distance   duration  minute_price  start_ride_price  \\\n",
       "user_id month                                                            \n",
       "1       1       7027.511294  41.416640             6                 0   \n",
       "        4        754.159807   6.232113             6                 0   \n",
       "        8       6723.470560  44.776802             6                 0   \n",
       "        10      5809.911100  31.578017             6                 0   \n",
       "        11      7003.499363  53.397424             6                 0   \n",
       "...                     ...        ...           ...               ...   \n",
       "1534    6       3409.468534  24.812678             8                50   \n",
       "        8       7622.453034  47.205960             8                50   \n",
       "        9       4928.173852  22.560373             8                50   \n",
       "        11     13350.015305  76.342174             8                50   \n",
       "        12      2371.711192  15.893917             8                50   \n",
       "\n",
       "               subscription_fee  count  profit  \n",
       "user_id month                                   \n",
       "1       1                   199      2   451.0  \n",
       "        4                   199      1   241.0  \n",
       "        8                   199      2   469.0  \n",
       "        10                  199      2   391.0  \n",
       "        11                  199      3   523.0  \n",
       "...                         ...    ...     ...  \n",
       "1534    6                     0      2   300.0  \n",
       "        8                     0      2   484.0  \n",
       "        9                     0      1   234.0  \n",
       "        11                    0      4   816.0  \n",
       "        12                    0      1   178.0  \n",
       "\n",
       "[11331 rows x 7 columns]"
      ]
     },
     "metadata": {},
     "output_type": "display_data"
    }
   ],
   "source": [
    "rides_agg = pd.pivot_table(\n",
    "   usr_rds_sbscr,\n",
    "   index=['user_id','month'], \n",
    "   aggfunc={'distance': np.sum,\n",
    "             'duration': np.sum,\n",
    "             'minute_price': np.mean,\n",
    "             'start_ride_price': np.mean,\n",
    "             'user_id': len,\n",
    "             'subscription_fee': np.average}\n",
    ").rename(columns={'user_id': 'count'})\n",
    "rides_agg['profit'] = (\n",
    "     rides_agg['start_ride_price']*rides_agg['count']+\n",
    "     rides_agg['minute_price']*np.ceil(rides_agg['duration'])+\n",
    "     rides_agg['subscription_fee']\n",
    ")\n",
    "display(rides_agg)"
   ]
  },
  {
   "cell_type": "markdown",
   "id": "41545ac0",
   "metadata": {},
   "source": [
    "#### Шаг 6. Проверка гипотез"
   ]
  },
  {
   "cell_type": "markdown",
   "id": "9f3cb532",
   "metadata": {},
   "source": [
    "Определим, тратят ли пользователи с подпиской больше времени на поездки. Если да, то пользователи с подпиской могут быть «выгоднее» для компании. Проверим эту гипотезу.\n",
    "Используем исходные данные о продолжительности каждой сессии — отдельно для подписчиков и тех, у кого нет подписки."
   ]
  },
  {
   "cell_type": "markdown",
   "id": "9a154894",
   "metadata": {},
   "source": [
    "##### Проверяем гипотезу\n",
    "    \n",
    "Поскольку выборки независимые, то воспользуемся методом **st.ttest_ind** для проверки гипотезы.  \n",
    "Наша **нулевая** гипотеза - **Пользователи с подпиской тратят столько же времени на поездки, как и пользователи без подписки**.  \n",
    "Альтернативная гипотеза - 'Пользователи с подпиской тратят больше времени на поездки'.  \n",
    "Уровень статистической значимости примем 0,05."
   ]
  },
  {
   "cell_type": "code",
   "execution_count": 21,
   "id": "4c40fd8a",
   "metadata": {},
   "outputs": [
    {
     "name": "stdout",
     "output_type": "stream",
     "text": [
      "Среднее выборки с подпиской: 18.54198516280583\n",
      "Среднее выборки без подписки: 17.39090929866399\n",
      "p-значение: 1.2804098316645618e-34\n",
      "Отвергаем нулевую гипотезу\n"
     ]
    }
   ],
   "source": [
    "print('Среднее выборки с подпиской:', ultra['duration'].mean())\n",
    "print('Среднее выборки без подписки:', free['duration'].mean())\n",
    "H0='Пользователи с подпиской тратят столько же времени на поездки, как и пользователи без подписки'\n",
    "H1='Пользователи с подпиской тратят больше времени на поездки'\n",
    "alpha=0.05\n",
    "results=sp.ttest_ind(\n",
    "    ultra['duration'],\n",
    "    free['duration'],\n",
    "    equal_var=True,\n",
    "    alternative='greater'\n",
    ")\n",
    "print('p-значение:', results.pvalue)\n",
    "\n",
    "if results.pvalue<alpha:\n",
    "    print('Отвергаем нулевую гипотезу')\n",
    "else:\n",
    "    print('Не получилось отвергнуть нулевую гипотезу')"
   ]
  },
  {
   "cell_type": "markdown",
   "id": "f444f815",
   "metadata": {},
   "source": [
    "Получается, что наша нулевая гипотеза не подтвердилась, хоть цифры по средним значениям говорят об обратном.  \n",
    "Следовательно, **пользователи с подпиской тратят больше времени на поездки**."
   ]
  },
  {
   "cell_type": "markdown",
   "id": "951f1944",
   "metadata": {},
   "source": [
    "3130 метров — оптимальное с точки зрения износа самоката. Проверим гипотезу, что среднее расстояние, которое проезжают пользователи с подпиской за одну поездку, не превышает 3130 метров.  "
   ]
  },
  {
   "cell_type": "markdown",
   "id": "bb9d6264",
   "metadata": {},
   "source": [
    "##### Проверяем гипотезу\n",
    "    \n",
    "Поскольку мы сравниваем среднее выборки с заданным значением, то воспользуемся методом **np.ttest_1sam**.  \n",
    "\n",
    "Наша **нулевая** гипотеза - **Среднее расстояние, которое проезжают пользователи с подпиской за одну поездку,\n",
    "    равно 3130 метров**.  \n",
    "\n",
    "Альтернативная гипотеза - 'Среднее расстояние, которое проезжают пользователи с подпиской за одну поездку,\n",
    "    больше 3130 метров'.  \n",
    "\n",
    "Уровень статистической значимости примем 0,05."
   ]
  },
  {
   "cell_type": "code",
   "execution_count": 22,
   "id": "0c0aa689",
   "metadata": {},
   "outputs": [
    {
     "name": "stdout",
     "output_type": "stream",
     "text": [
      "Среднее выборки с подпиской: 3115.4453880370247\n",
      "p-значение: 0.9195368847849785\n",
      "Не получилось отвергнуть нулевую гипотезу\n"
     ]
    }
   ],
   "source": [
    "print('Среднее выборки с подпиской:', ultra['distance'].mean())\n",
    "H0='Среднее расстояние, которое проезжают пользователи с подпиской за одну поездку, равно 3130 метров'\n",
    "H1='Среднее расстояние, которое проезжают пользователи с подпиской за одну поездку, больше 3130 метров'\n",
    "alpha=0.05\n",
    "value=3130\n",
    "results=sp.ttest_1samp(\n",
    "    ultra['distance'],\n",
    "    value,\n",
    "    alternative='greater'\n",
    ")\n",
    "print('p-значение:', results.pvalue)\n",
    "\n",
    "if results.pvalue<alpha:\n",
    "    print('Отвергаем нулевую гипотезу')\n",
    "else:\n",
    "    print('Не получилось отвергнуть нулевую гипотезу')"
   ]
  },
  {
   "cell_type": "markdown",
   "id": "a9207724",
   "metadata": {},
   "source": [
    "Наша гипотеза подтвердилась, среднее расстояние, которое проезжает пользователь с подпиской, равно оптимальному в 3130 метров, то есть не превышает его."
   ]
  },
  {
   "cell_type": "markdown",
   "id": "d42f3bc0",
   "metadata": {},
   "source": [
    "Проверим следующую гипотезу: помесячная выручка от пользователей с подпиской по месяцам выше, чем выручка от пользователей без подписки. Для этого рассчитаем суммарную выручку по месяцам для пользователей с подпиской и без двухвыборочным t-тестом для независимых выборок."
   ]
  },
  {
   "cell_type": "markdown",
   "id": "54405ecb",
   "metadata": {},
   "source": [
    "##### Проверяем гипотезу\n",
    "\n",
    "Поскольку выборки независимые, то воспользуемся методом **st.ttest_ind** для проверки гипотезы.\n",
    "\n",
    "Наша **нулевая** гипотеза - **Помесячная выручка от пользователей с подпиской по месяцам равна помесячной выручке от пользователей без подписки**.  \n",
    "\n",
    "Альтернативная гипотеза - 'Помесячная выручка от пользователей с подпиской по месяцам выше, чем помесячная выручка от пользователей без подписки'.  \n",
    "\n",
    "Уровень статистической значимости примем 0,05."
   ]
  },
  {
   "cell_type": "code",
   "execution_count": 23,
   "id": "51fae04d",
   "metadata": {},
   "outputs": [
    {
     "name": "stdout",
     "output_type": "stream",
     "text": [
      "Средняя месячная выручка от проката с подпиской: 361.48180013236265\n",
      "Средняя месячная выручка от проката без подписки: 325.84289496910856\n",
      "p-значение: 2.8130926188487286e-35\n",
      "Отвергаем нулевую гипотезу\n"
     ]
    },
    {
     "data": {
      "image/png": "[encoded data removed]",
      "text/plain": [
       "<Figure size 432x288 with 1 Axes>"
      ]
     },
     "metadata": {
      "needs_background": "light"
     },
     "output_type": "display_data"
    }
   ],
   "source": [
    "profit_ultra=rides_agg.loc[rides_agg['subscription_fee']>0,'profit']\n",
    "profit_free=rides_agg.loc[rides_agg['subscription_fee']==0,'profit']\n",
    "profit_ultra.plot(x=0, marker='o',\n",
    "                  linestyle='', color='r',markerfacecolor='w',\n",
    "                  title='Помесячная выручка', label='с подпиской')\n",
    "profit_free.plot(x=0, marker='o',\n",
    "                 linestyle='',color='g', markerfacecolor='w',\n",
    "                 label='без подписки')\n",
    "plt.legend()\n",
    "print('Средняя месячная выручка от проката с подпиской:', profit_ultra.mean())\n",
    "print('Средняя месячная выручка от проката без подписки:', profit_free.mean())\n",
    "H0='Помесячная выручка от пользователей с подпиской по месяцам равна помесячной выручке от пользователей без подписки'\n",
    "H1='Помесячная выручка от пользователей с подпиской по месяцам выше, чем помесячная выручка от пользователей без подписки'\n",
    "alpha=0.05\n",
    "results=sp.ttest_ind(\n",
    "    profit_ultra,\n",
    "    profit_free,\n",
    "    equal_var=True,    \n",
    "    alternative='greater'\n",
    ")\n",
    "print('p-значение:', results.pvalue)\n",
    "\n",
    "if results.pvalue<alpha:\n",
    "    print('Отвергаем нулевую гипотезу')\n",
    "else:\n",
    "    print('Не получилось отвергнуть нулевую гипотезу')"
   ]
  },
  {
   "cell_type": "markdown",
   "id": "57565e52",
   "metadata": {},
   "source": [
    "Нулевая гипотеза отвергнута, а это значит, что прокат с подпиской более выгоден в сравнении с прокатом без подписки.\n",
    "\n",
    "- Вопрос: Представьте такую ситуацию: техническая команда сервиса обновила сервера, с которыми взаимодействует мобильное приложение. Она надеется, что из-за этого количество обращений в техподдержку значимо снизилось. Некоторый файл содержит для каждого пользователя данные о количестве обращений до обновления и после него. Какой тест вам понадобился бы для проверки этой гипотезы?\n",
    "- Ответ: поскольку данные будут зависимы, так как представляют собой выборку из одной генеральной совокупности до изменения и после, то будем использовать двухвыборочный t-тест для зависимых выборок, чтобы проверить гипотезу.\n",
    "Полагаем, что 0-я гипотеза - количество обращений в техподдержку не изменилось, а альтернативная гипотеза - количество обращений в техподдержку уменьшилось. Измпользуем значение параметра alternative='less'."
   ]
  },
  {
   "cell_type": "markdown",
   "id": "12bf7697",
   "metadata": {},
   "source": [
    "##### Итоговый вывод:\n",
    "    \n",
    "В результате исследовательского анализа предоставленных данных мы подтвердили следующие выводы:\n",
    "- Средняя длительность поездки пользователей с подпиской составила 3115,44 метра.  \n",
    "- Средняя длительность поездки пользователей без подписки составила 3045,46 метра.  \n",
    "    Это приблизительно на 70 метров меньше, чем средняя длительность поездок по подписке. Разница небольшая.  \n",
    "- Средняя продолжительность поездки по подписке составила 18,54 минуты.  \n",
    "- Средняя продолжительность поездки по подписке составила 17,39 минуты.  \n",
    "    Это на 1,15 минуты меньше, чем с подпиской. Это тоже несущественная разница.\n",
    "    \n",
    "**Промежуточный вывод: пользователи с подпиской ездят дольше и дальше!**  \n",
    "    \n",
    "Для ответа на вопросы продакт-менеджеров мы выдвигали гипотезы и получили следующие результаты: \n",
    "    \n",
    "- Тратят ли пользователи с подпиской больше времени на поездки?  \n",
    "    - **Да, пользователи с подпиской тратят больше времени на поездки**. \n",
    "    \n",
    "    \n",
    "- Можно ли сказать, что среднее расстояние, которое проезжают пользователи с подпиской за одну поездку, не превышает 3130 метров?\n",
    "    - **Да, среднее расстояние, которое проезжают пользователи с подпиской за одну поездку, не превышает 3130 метров**.  \n",
    "    \n",
    "    \n",
    "- Будет ли помесячная выручка от пользователей с подпиской по месяцам выше, чем выручка от пользователей без подписки?  \n",
    "    - **Да, помесячная выручка от пользователей с подпиской по месяцам выше, чем выручка от пользователей без подписки**."
   ]
  }
 ],
 "metadata": {
  "ExecuteTimeLog": [
   {
    "duration": 557,
    "start_time": "2024-07-21T17:21:50.373Z"
   },
   {
    "duration": 881,
    "start_time": "2024-07-21T17:22:58.162Z"
   },
   {
    "duration": 295,
    "start_time": "2024-07-21T17:25:51.093Z"
   },
   {
    "duration": 119,
    "start_time": "2024-07-21T17:26:13.705Z"
   },
   {
    "duration": 82,
    "start_time": "2024-07-21T17:26:21.300Z"
   },
   {
    "duration": 99,
    "start_time": "2024-07-21T17:29:25.068Z"
   },
   {
    "duration": 33,
    "start_time": "2024-07-21T17:29:31.319Z"
   },
   {
    "duration": 17,
    "start_time": "2024-07-21T17:37:47.552Z"
   },
   {
    "duration": 21,
    "start_time": "2024-07-21T17:39:16.421Z"
   },
   {
    "duration": 22,
    "start_time": "2024-07-21T17:39:23.605Z"
   },
   {
    "duration": 22,
    "start_time": "2024-07-21T17:41:40.653Z"
   },
   {
    "duration": 18,
    "start_time": "2024-07-21T17:42:57.015Z"
   },
   {
    "duration": 29,
    "start_time": "2024-07-21T17:43:13.062Z"
   },
   {
    "duration": 21,
    "start_time": "2024-07-21T17:44:55.527Z"
   },
   {
    "duration": 20,
    "start_time": "2024-07-21T17:45:49.705Z"
   },
   {
    "duration": 11,
    "start_time": "2024-07-21T17:47:15.656Z"
   },
   {
    "duration": 13,
    "start_time": "2024-07-21T17:48:41.622Z"
   },
   {
    "duration": 6,
    "start_time": "2024-07-21T17:48:56.430Z"
   },
   {
    "duration": 16,
    "start_time": "2024-07-21T17:49:19.398Z"
   },
   {
    "duration": 13,
    "start_time": "2024-07-21T17:49:26.599Z"
   },
   {
    "duration": 11,
    "start_time": "2024-07-21T17:50:27.902Z"
   },
   {
    "duration": 13,
    "start_time": "2024-07-21T17:51:25.343Z"
   },
   {
    "duration": 14,
    "start_time": "2024-07-21T17:52:30.186Z"
   },
   {
    "duration": 13,
    "start_time": "2024-07-21T17:53:14.591Z"
   },
   {
    "duration": 12,
    "start_time": "2024-07-21T17:55:22.311Z"
   },
   {
    "duration": 14,
    "start_time": "2024-07-21T17:56:48.319Z"
   },
   {
    "duration": 521,
    "start_time": "2024-07-21T17:58:48.640Z"
   },
   {
    "duration": 14,
    "start_time": "2024-07-21T17:59:11.112Z"
   },
   {
    "duration": 8,
    "start_time": "2024-07-21T18:00:43.024Z"
   },
   {
    "duration": 12,
    "start_time": "2024-07-21T18:00:58.866Z"
   },
   {
    "duration": 132,
    "start_time": "2024-07-21T19:18:00.678Z"
   },
   {
    "duration": 54,
    "start_time": "2024-07-21T19:18:21.567Z"
   },
   {
    "duration": 107,
    "start_time": "2024-07-21T19:19:07.926Z"
   },
   {
    "duration": 97,
    "start_time": "2024-07-21T19:21:27.239Z"
   },
   {
    "duration": 96,
    "start_time": "2024-07-21T19:21:38.630Z"
   },
   {
    "duration": 132,
    "start_time": "2024-07-21T19:21:59.087Z"
   },
   {
    "duration": 1227,
    "start_time": "2024-07-23T16:14:18.996Z"
   },
   {
    "duration": 310,
    "start_time": "2024-07-23T16:14:24.129Z"
   },
   {
    "duration": 24,
    "start_time": "2024-07-23T16:15:10.554Z"
   },
   {
    "duration": 13,
    "start_time": "2024-07-23T16:15:44.998Z"
   },
   {
    "duration": 16,
    "start_time": "2024-07-23T16:17:05.803Z"
   },
   {
    "duration": 11,
    "start_time": "2024-07-23T16:17:08.785Z"
   },
   {
    "duration": 9,
    "start_time": "2024-07-23T16:17:27.502Z"
   },
   {
    "duration": 11,
    "start_time": "2024-07-23T16:17:38.726Z"
   },
   {
    "duration": 7,
    "start_time": "2024-07-23T16:17:42.310Z"
   },
   {
    "duration": 7,
    "start_time": "2024-07-23T16:18:04.727Z"
   },
   {
    "duration": 310,
    "start_time": "2024-07-23T16:23:23.280Z"
   },
   {
    "duration": 197,
    "start_time": "2024-07-23T16:23:38.302Z"
   },
   {
    "duration": 211,
    "start_time": "2024-07-23T16:23:45.219Z"
   },
   {
    "duration": 175,
    "start_time": "2024-07-23T16:24:46.778Z"
   },
   {
    "duration": 153,
    "start_time": "2024-07-23T16:25:02.448Z"
   },
   {
    "duration": 13,
    "start_time": "2024-07-23T16:25:44.758Z"
   },
   {
    "duration": 170,
    "start_time": "2024-07-23T16:26:41.236Z"
   },
   {
    "duration": 130,
    "start_time": "2024-07-23T16:28:31.810Z"
   },
   {
    "duration": 122,
    "start_time": "2024-07-23T16:28:54.162Z"
   },
   {
    "duration": 105,
    "start_time": "2024-07-23T16:30:00.661Z"
   },
   {
    "duration": 103,
    "start_time": "2024-07-23T16:30:33.021Z"
   },
   {
    "duration": 104,
    "start_time": "2024-07-23T16:31:56.048Z"
   },
   {
    "duration": 85,
    "start_time": "2024-07-23T16:34:04.584Z"
   },
   {
    "duration": 106,
    "start_time": "2024-07-23T16:38:04.776Z"
   },
   {
    "duration": 88,
    "start_time": "2024-07-23T16:38:11.187Z"
   },
   {
    "duration": 84,
    "start_time": "2024-07-23T16:38:21.496Z"
   },
   {
    "duration": 92,
    "start_time": "2024-07-23T16:40:39.492Z"
   },
   {
    "duration": 84,
    "start_time": "2024-07-23T16:40:46.476Z"
   },
   {
    "duration": 177,
    "start_time": "2024-07-23T16:41:50.870Z"
   },
   {
    "duration": 239,
    "start_time": "2024-07-23T16:42:11.778Z"
   },
   {
    "duration": 3,
    "start_time": "2024-07-23T16:43:37.177Z"
   },
   {
    "duration": 73,
    "start_time": "2024-07-23T16:43:41.498Z"
   },
   {
    "duration": 23,
    "start_time": "2024-07-23T16:43:45.137Z"
   },
   {
    "duration": 21,
    "start_time": "2024-07-23T16:43:49.280Z"
   },
   {
    "duration": 10,
    "start_time": "2024-07-23T16:43:51.416Z"
   },
   {
    "duration": 13,
    "start_time": "2024-07-23T16:43:55.155Z"
   },
   {
    "duration": 7,
    "start_time": "2024-07-23T16:43:58.178Z"
   },
   {
    "duration": 108,
    "start_time": "2024-07-23T16:44:01.963Z"
   },
   {
    "duration": 86,
    "start_time": "2024-07-23T16:44:06.408Z"
   },
   {
    "duration": 84,
    "start_time": "2024-07-23T16:44:57.484Z"
   },
   {
    "duration": 195,
    "start_time": "2024-07-23T16:45:07.716Z"
   },
   {
    "duration": 203,
    "start_time": "2024-07-23T16:46:49.127Z"
   },
   {
    "duration": 108,
    "start_time": "2024-07-23T16:49:26.381Z"
   },
   {
    "duration": 180,
    "start_time": "2024-07-23T16:50:22.964Z"
   },
   {
    "duration": 108,
    "start_time": "2024-07-23T16:51:22.956Z"
   },
   {
    "duration": 186,
    "start_time": "2024-07-23T16:51:32.316Z"
   },
   {
    "duration": 104,
    "start_time": "2024-07-23T16:52:25.589Z"
   },
   {
    "duration": 83,
    "start_time": "2024-07-23T16:52:31.326Z"
   },
   {
    "duration": 172,
    "start_time": "2024-07-23T16:52:37.503Z"
   },
   {
    "duration": 102,
    "start_time": "2024-07-23T16:57:14.993Z"
   },
   {
    "duration": 216,
    "start_time": "2024-07-23T16:57:32.032Z"
   },
   {
    "duration": 105,
    "start_time": "2024-07-23T16:57:50.900Z"
   },
   {
    "duration": 115,
    "start_time": "2024-07-23T16:58:15.239Z"
   },
   {
    "duration": 103,
    "start_time": "2024-07-23T16:58:21.937Z"
   },
   {
    "duration": 173,
    "start_time": "2024-07-23T16:58:54.191Z"
   },
   {
    "duration": 106,
    "start_time": "2024-07-23T16:59:10.188Z"
   },
   {
    "duration": 100,
    "start_time": "2024-07-23T17:03:56.860Z"
   },
   {
    "duration": 101,
    "start_time": "2024-07-23T17:05:40.620Z"
   },
   {
    "duration": 116,
    "start_time": "2024-07-23T17:06:13.278Z"
   },
   {
    "duration": 177,
    "start_time": "2024-07-23T17:06:55.413Z"
   },
   {
    "duration": 104,
    "start_time": "2024-07-23T17:07:17.051Z"
   },
   {
    "duration": 81,
    "start_time": "2024-07-23T17:07:19.083Z"
   },
   {
    "duration": 108,
    "start_time": "2024-07-23T17:07:20.482Z"
   },
   {
    "duration": 110,
    "start_time": "2024-07-23T17:07:38.851Z"
   },
   {
    "duration": 23,
    "start_time": "2024-07-23T17:11:24.669Z"
   },
   {
    "duration": 27,
    "start_time": "2024-07-23T17:13:47.156Z"
   },
   {
    "duration": 35,
    "start_time": "2024-07-23T17:17:38.285Z"
   },
   {
    "duration": 14,
    "start_time": "2024-07-23T17:18:23.498Z"
   },
   {
    "duration": 108,
    "start_time": "2024-07-23T17:19:30.909Z"
   },
   {
    "duration": 111,
    "start_time": "2024-07-23T17:20:02.382Z"
   },
   {
    "duration": 256,
    "start_time": "2024-07-23T17:20:35.720Z"
   },
   {
    "duration": 17,
    "start_time": "2024-07-23T17:22:06.581Z"
   },
   {
    "duration": 41,
    "start_time": "2024-07-23T17:22:34.694Z"
   },
   {
    "duration": 96,
    "start_time": "2024-07-23T17:24:39.935Z"
   },
   {
    "duration": 122,
    "start_time": "2024-07-23T17:25:11.966Z"
   },
   {
    "duration": 117,
    "start_time": "2024-07-23T17:25:23.770Z"
   },
   {
    "duration": 101,
    "start_time": "2024-07-23T17:25:37.806Z"
   },
   {
    "duration": 994,
    "start_time": "2024-07-23T17:26:46.957Z"
   },
   {
    "duration": 131,
    "start_time": "2024-07-23T17:27:57.378Z"
   },
   {
    "duration": 100,
    "start_time": "2024-07-23T17:28:38.311Z"
   },
   {
    "duration": 116,
    "start_time": "2024-07-23T17:30:30.941Z"
   },
   {
    "duration": 129,
    "start_time": "2024-07-23T17:32:12.977Z"
   },
   {
    "duration": 119,
    "start_time": "2024-07-23T17:32:50.388Z"
   },
   {
    "duration": 84,
    "start_time": "2024-07-23T17:33:48.940Z"
   },
   {
    "duration": 164,
    "start_time": "2024-07-23T17:34:25.643Z"
   },
   {
    "duration": 97,
    "start_time": "2024-07-23T17:34:40.078Z"
   },
   {
    "duration": 105,
    "start_time": "2024-07-23T17:34:51.335Z"
   },
   {
    "duration": 99,
    "start_time": "2024-07-23T17:37:35.955Z"
   },
   {
    "duration": 1301,
    "start_time": "2024-07-24T15:33:52.244Z"
   },
   {
    "duration": 424,
    "start_time": "2024-07-24T15:33:57.417Z"
   },
   {
    "duration": 32,
    "start_time": "2024-07-24T15:33:59.843Z"
   },
   {
    "duration": 16,
    "start_time": "2024-07-24T15:34:03.361Z"
   },
   {
    "duration": 13,
    "start_time": "2024-07-24T15:34:04.826Z"
   },
   {
    "duration": 14,
    "start_time": "2024-07-24T15:34:06.474Z"
   },
   {
    "duration": 8,
    "start_time": "2024-07-24T15:34:08.150Z"
   },
   {
    "duration": 145,
    "start_time": "2024-07-24T15:34:11.235Z"
   },
   {
    "duration": 114,
    "start_time": "2024-07-24T15:34:13.504Z"
   },
   {
    "duration": 235,
    "start_time": "2024-07-24T15:34:16.323Z"
   },
   {
    "duration": 145,
    "start_time": "2024-07-24T15:34:18.545Z"
   },
   {
    "duration": 143,
    "start_time": "2024-07-24T15:34:20.762Z"
   },
   {
    "duration": 35,
    "start_time": "2024-07-24T15:34:26.035Z"
   },
   {
    "duration": 42,
    "start_time": "2024-07-24T15:34:34.611Z"
   },
   {
    "duration": 146,
    "start_time": "2024-07-24T15:34:36.594Z"
   },
   {
    "duration": 144,
    "start_time": "2024-07-24T15:34:39.395Z"
   },
   {
    "duration": 150,
    "start_time": "2024-07-24T15:34:40.969Z"
   },
   {
    "duration": 207,
    "start_time": "2024-07-24T15:34:42.587Z"
   },
   {
    "duration": 31,
    "start_time": "2024-07-24T15:43:15.983Z"
   },
   {
    "duration": 17,
    "start_time": "2024-07-24T15:43:54.666Z"
   },
   {
    "duration": 4,
    "start_time": "2024-07-24T15:48:16.506Z"
   },
   {
    "duration": 4,
    "start_time": "2024-07-24T15:48:27.793Z"
   },
   {
    "duration": 16,
    "start_time": "2024-07-24T15:48:34.426Z"
   },
   {
    "duration": 93,
    "start_time": "2024-07-24T16:11:26.700Z"
   },
   {
    "duration": 91,
    "start_time": "2024-07-24T16:12:40.936Z"
   },
   {
    "duration": 1392,
    "start_time": "2024-07-25T17:20:37.437Z"
   },
   {
    "duration": 314,
    "start_time": "2024-07-25T17:20:41.288Z"
   },
   {
    "duration": 29,
    "start_time": "2024-07-25T17:20:44.006Z"
   },
   {
    "duration": 22,
    "start_time": "2024-07-25T17:20:46.492Z"
   },
   {
    "duration": 17,
    "start_time": "2024-07-25T17:20:48.003Z"
   },
   {
    "duration": 16,
    "start_time": "2024-07-25T17:20:49.668Z"
   },
   {
    "duration": 8,
    "start_time": "2024-07-25T17:20:51.432Z"
   },
   {
    "duration": 141,
    "start_time": "2024-07-25T17:20:53.510Z"
   },
   {
    "duration": 120,
    "start_time": "2024-07-25T17:20:55.151Z"
   },
   {
    "duration": 252,
    "start_time": "2024-07-25T17:20:56.748Z"
   },
   {
    "duration": 156,
    "start_time": "2024-07-25T17:20:58.720Z"
   },
   {
    "duration": 139,
    "start_time": "2024-07-25T17:21:01.069Z"
   },
   {
    "duration": 30,
    "start_time": "2024-07-25T17:21:04.784Z"
   },
   {
    "duration": 37,
    "start_time": "2024-07-25T17:21:06.294Z"
   },
   {
    "duration": 130,
    "start_time": "2024-07-25T17:21:08.363Z"
   },
   {
    "duration": 154,
    "start_time": "2024-07-25T17:21:10.463Z"
   },
   {
    "duration": 150,
    "start_time": "2024-07-25T17:21:11.724Z"
   },
   {
    "duration": 206,
    "start_time": "2024-07-25T17:21:13.339Z"
   },
   {
    "duration": 189,
    "start_time": "2024-07-25T17:24:29.709Z"
   },
   {
    "duration": 92,
    "start_time": "2024-07-25T17:24:52.616Z"
   },
   {
    "duration": 95,
    "start_time": "2024-07-25T17:25:23.852Z"
   },
   {
    "duration": 120,
    "start_time": "2024-07-25T17:35:36.289Z"
   },
   {
    "duration": 100,
    "start_time": "2024-07-25T17:38:26.397Z"
   },
   {
    "duration": 12,
    "start_time": "2024-07-25T17:40:23.435Z"
   },
   {
    "duration": 362,
    "start_time": "2024-07-25T17:40:53.877Z"
   },
   {
    "duration": 343,
    "start_time": "2024-07-25T17:41:28.009Z"
   },
   {
    "duration": 350,
    "start_time": "2024-07-25T17:43:03.070Z"
   },
   {
    "duration": 375,
    "start_time": "2024-07-25T17:43:25.705Z"
   },
   {
    "duration": 350,
    "start_time": "2024-07-25T17:45:41.178Z"
   },
   {
    "duration": 413,
    "start_time": "2024-07-25T17:46:24.065Z"
   },
   {
    "duration": 389,
    "start_time": "2024-07-25T17:47:03.080Z"
   },
   {
    "duration": 12,
    "start_time": "2024-07-25T18:00:20.194Z"
   },
   {
    "duration": 19,
    "start_time": "2024-07-25T18:00:49.390Z"
   },
   {
    "duration": 21,
    "start_time": "2024-07-25T18:02:45.223Z"
   },
   {
    "duration": 22,
    "start_time": "2024-07-25T18:03:22.339Z"
   },
   {
    "duration": 28,
    "start_time": "2024-07-25T18:04:07.708Z"
   },
   {
    "duration": 36,
    "start_time": "2024-07-25T18:04:31.938Z"
   },
   {
    "duration": 7,
    "start_time": "2024-07-25T18:08:16.773Z"
   },
   {
    "duration": 7,
    "start_time": "2024-07-25T18:08:31.481Z"
   },
   {
    "duration": 8,
    "start_time": "2024-07-25T18:10:15.053Z"
   },
   {
    "duration": 7,
    "start_time": "2024-07-25T18:11:02.839Z"
   },
   {
    "duration": 8,
    "start_time": "2024-07-25T18:11:33.263Z"
   },
   {
    "duration": 9,
    "start_time": "2024-07-25T18:13:06.216Z"
   },
   {
    "duration": 9,
    "start_time": "2024-07-25T18:13:19.758Z"
   },
   {
    "duration": 8,
    "start_time": "2024-07-25T18:14:01.348Z"
   },
   {
    "duration": 10,
    "start_time": "2024-07-25T18:27:54.427Z"
   },
   {
    "duration": 6,
    "start_time": "2024-07-25T18:28:19.142Z"
   },
   {
    "duration": 423,
    "start_time": "2024-07-25T18:37:07.873Z"
   },
   {
    "duration": 22,
    "start_time": "2024-07-25T18:42:56.363Z"
   },
   {
    "duration": 19,
    "start_time": "2024-07-25T18:43:18.360Z"
   },
   {
    "duration": 76,
    "start_time": "2024-07-25T18:43:27.139Z"
   },
   {
    "duration": 67,
    "start_time": "2024-07-25T18:43:32.553Z"
   },
   {
    "duration": 74,
    "start_time": "2024-07-25T18:43:56.827Z"
   },
   {
    "duration": 20,
    "start_time": "2024-07-25T18:46:56.831Z"
   },
   {
    "duration": 18,
    "start_time": "2024-07-25T18:48:03.308Z"
   },
   {
    "duration": 163,
    "start_time": "2024-07-25T18:48:44.208Z"
   },
   {
    "duration": 132,
    "start_time": "2024-07-25T18:48:57.489Z"
   },
   {
    "duration": 129,
    "start_time": "2024-07-25T18:49:24.868Z"
   },
   {
    "duration": 23,
    "start_time": "2024-07-25T18:49:43.785Z"
   },
   {
    "duration": 17,
    "start_time": "2024-07-25T18:49:49.481Z"
   },
   {
    "duration": 28,
    "start_time": "2024-07-25T18:56:30.098Z"
   },
   {
    "duration": 19,
    "start_time": "2024-07-25T18:56:42.306Z"
   },
   {
    "duration": 171,
    "start_time": "2024-07-25T19:12:00.740Z"
   },
   {
    "duration": 160,
    "start_time": "2024-07-25T19:12:16.572Z"
   },
   {
    "duration": 181,
    "start_time": "2024-07-25T19:12:38.596Z"
   },
   {
    "duration": 206,
    "start_time": "2024-07-25T19:13:09.064Z"
   },
   {
    "duration": 244,
    "start_time": "2024-07-25T19:14:09.776Z"
   },
   {
    "duration": 59,
    "start_time": "2024-07-25T19:18:04.636Z"
   },
   {
    "duration": 62,
    "start_time": "2024-07-25T19:18:38.935Z"
   },
   {
    "duration": 25,
    "start_time": "2024-07-25T19:19:02.580Z"
   },
   {
    "duration": 76,
    "start_time": "2024-07-25T19:19:57.709Z"
   },
   {
    "duration": 193,
    "start_time": "2024-07-25T19:20:14.051Z"
   },
   {
    "duration": 147,
    "start_time": "2024-07-25T19:21:06.041Z"
   },
   {
    "duration": 143,
    "start_time": "2024-07-25T19:22:49.473Z"
   },
   {
    "duration": 142,
    "start_time": "2024-07-25T19:23:36.964Z"
   },
   {
    "duration": 145,
    "start_time": "2024-07-25T19:24:12.255Z"
   },
   {
    "duration": 171,
    "start_time": "2024-07-25T19:24:57.050Z"
   },
   {
    "duration": 155,
    "start_time": "2024-07-25T19:26:05.086Z"
   },
   {
    "duration": 164,
    "start_time": "2024-07-25T19:26:22.527Z"
   },
   {
    "duration": 164,
    "start_time": "2024-07-25T19:27:44.757Z"
   },
   {
    "duration": 157,
    "start_time": "2024-07-25T19:28:07.508Z"
   },
   {
    "duration": 212,
    "start_time": "2024-07-25T19:31:30.196Z"
   },
   {
    "duration": 1360,
    "start_time": "2024-07-26T21:02:32.386Z"
   },
   {
    "duration": 313,
    "start_time": "2024-07-26T21:02:34.516Z"
   },
   {
    "duration": 31,
    "start_time": "2024-07-26T21:02:36.354Z"
   },
   {
    "duration": 16,
    "start_time": "2024-07-26T21:02:38.739Z"
   },
   {
    "duration": 20,
    "start_time": "2024-07-26T21:02:40.034Z"
   },
   {
    "duration": 18,
    "start_time": "2024-07-26T21:02:40.746Z"
   },
   {
    "duration": 12,
    "start_time": "2024-07-26T21:02:41.570Z"
   },
   {
    "duration": 158,
    "start_time": "2024-07-26T21:02:42.594Z"
   },
   {
    "duration": 111,
    "start_time": "2024-07-26T21:02:43.403Z"
   },
   {
    "duration": 291,
    "start_time": "2024-07-26T21:02:43.810Z"
   },
   {
    "duration": 184,
    "start_time": "2024-07-26T21:02:45.114Z"
   },
   {
    "duration": 167,
    "start_time": "2024-07-26T21:02:46.098Z"
   },
   {
    "duration": 41,
    "start_time": "2024-07-26T21:02:47.755Z"
   },
   {
    "duration": 47,
    "start_time": "2024-07-26T21:02:49.035Z"
   },
   {
    "duration": 134,
    "start_time": "2024-07-26T21:02:50.291Z"
   },
   {
    "duration": 154,
    "start_time": "2024-07-26T21:03:56.489Z"
   },
   {
    "duration": 137,
    "start_time": "2024-07-26T21:04:46.396Z"
   },
   {
    "duration": 241,
    "start_time": "2024-07-26T21:04:55.220Z"
   },
   {
    "duration": 167,
    "start_time": "2024-07-26T21:06:06.077Z"
   },
   {
    "duration": 157,
    "start_time": "2024-07-26T21:06:06.980Z"
   },
   {
    "duration": 398,
    "start_time": "2024-07-26T21:06:08.333Z"
   },
   {
    "duration": 8,
    "start_time": "2024-07-26T21:06:08.981Z"
   },
   {
    "duration": 6,
    "start_time": "2024-07-26T21:06:09.917Z"
   },
   {
    "duration": 167,
    "start_time": "2024-07-26T21:06:12.013Z"
   },
   {
    "duration": 163,
    "start_time": "2024-07-26T21:08:32.992Z"
   },
   {
    "duration": 144,
    "start_time": "2024-07-26T21:08:51.384Z"
   },
   {
    "duration": 143,
    "start_time": "2024-07-26T21:08:59.152Z"
   },
   {
    "duration": 171,
    "start_time": "2024-07-26T21:09:11.104Z"
   },
   {
    "duration": 143,
    "start_time": "2024-07-26T21:09:24.576Z"
   },
   {
    "duration": 162,
    "start_time": "2024-07-26T21:09:36.065Z"
   },
   {
    "duration": 66,
    "start_time": "2024-07-26T21:10:10.777Z"
   },
   {
    "duration": 169,
    "start_time": "2024-07-26T21:10:19.581Z"
   },
   {
    "duration": 67,
    "start_time": "2024-07-26T21:11:46.115Z"
   },
   {
    "duration": 91,
    "start_time": "2024-07-26T21:12:07.283Z"
   },
   {
    "duration": 235,
    "start_time": "2024-07-26T21:12:13.411Z"
   },
   {
    "duration": 172,
    "start_time": "2024-07-26T21:12:26.163Z"
   },
   {
    "duration": 163,
    "start_time": "2024-07-26T21:13:08.956Z"
   },
   {
    "duration": 152,
    "start_time": "2024-07-26T21:13:12.140Z"
   },
   {
    "duration": 157,
    "start_time": "2024-07-26T21:13:54.028Z"
   },
   {
    "duration": 178,
    "start_time": "2024-07-26T21:14:14.325Z"
   },
   {
    "duration": 263,
    "start_time": "2024-07-26T21:14:56.454Z"
   },
   {
    "duration": 153,
    "start_time": "2024-07-26T21:15:17.796Z"
   },
   {
    "duration": 224,
    "start_time": "2024-07-26T21:19:39.242Z"
   },
   {
    "duration": 312,
    "start_time": "2024-07-26T21:20:06.394Z"
   },
   {
    "duration": 343,
    "start_time": "2024-07-26T21:20:16.459Z"
   },
   {
    "duration": 162,
    "start_time": "2024-07-26T21:20:40.210Z"
   },
   {
    "duration": 155,
    "start_time": "2024-07-26T21:20:56.826Z"
   },
   {
    "duration": 64,
    "start_time": "2024-07-26T21:21:44.540Z"
   },
   {
    "duration": 141,
    "start_time": "2024-07-26T21:21:49.893Z"
   },
   {
    "duration": 268,
    "start_time": "2024-07-26T21:22:05.477Z"
   },
   {
    "duration": 246,
    "start_time": "2024-07-26T21:22:27.276Z"
   },
   {
    "duration": 150,
    "start_time": "2024-07-26T21:22:43.516Z"
   },
   {
    "duration": 169,
    "start_time": "2024-07-26T21:23:34.310Z"
   },
   {
    "duration": 165,
    "start_time": "2024-07-26T21:23:48.933Z"
   },
   {
    "duration": 257,
    "start_time": "2024-07-26T21:23:54.732Z"
   },
   {
    "duration": 161,
    "start_time": "2024-07-26T21:25:09.694Z"
   },
   {
    "duration": 37,
    "start_time": "2024-07-26T21:25:12.277Z"
   },
   {
    "duration": 46,
    "start_time": "2024-07-26T21:25:13.151Z"
   },
   {
    "duration": 147,
    "start_time": "2024-07-26T21:25:13.911Z"
   },
   {
    "duration": 157,
    "start_time": "2024-07-26T21:25:15.967Z"
   },
   {
    "duration": 180,
    "start_time": "2024-07-26T21:25:18.534Z"
   },
   {
    "duration": 165,
    "start_time": "2024-07-26T21:25:20.934Z"
   },
   {
    "duration": 383,
    "start_time": "2024-07-26T21:25:25.079Z"
   },
   {
    "duration": 8,
    "start_time": "2024-07-26T21:25:31.534Z"
   },
   {
    "duration": 6,
    "start_time": "2024-07-26T21:25:33.247Z"
   },
   {
    "duration": 165,
    "start_time": "2024-07-26T21:25:35.159Z"
   },
   {
    "duration": 157,
    "start_time": "2024-07-26T21:25:54.407Z"
   },
   {
    "duration": 161,
    "start_time": "2024-07-26T21:26:04.288Z"
   },
   {
    "duration": 42,
    "start_time": "2024-07-26T21:39:46.234Z"
   },
   {
    "duration": 8,
    "start_time": "2024-07-26T21:40:17.467Z"
   },
   {
    "duration": 13,
    "start_time": "2024-07-26T21:56:02.510Z"
   },
   {
    "duration": 11,
    "start_time": "2024-07-26T21:56:25.477Z"
   },
   {
    "duration": 1620,
    "start_time": "2024-07-26T21:56:32.373Z"
   },
   {
    "duration": 1645,
    "start_time": "2024-07-26T21:56:43.270Z"
   },
   {
    "duration": 1652,
    "start_time": "2024-07-26T22:02:58.083Z"
   },
   {
    "duration": 1708,
    "start_time": "2024-07-26T22:04:17.259Z"
   },
   {
    "duration": 1659,
    "start_time": "2024-07-26T22:06:56.350Z"
   },
   {
    "duration": 1649,
    "start_time": "2024-07-26T22:12:32.986Z"
   },
   {
    "duration": 1669,
    "start_time": "2024-07-26T22:13:03.306Z"
   },
   {
    "duration": 1649,
    "start_time": "2024-07-26T22:13:16.402Z"
   },
   {
    "duration": 1604,
    "start_time": "2024-07-26T22:18:24.438Z"
   },
   {
    "duration": 1645,
    "start_time": "2024-07-26T22:18:43.783Z"
   },
   {
    "duration": 1831,
    "start_time": "2024-07-26T22:18:58.766Z"
   },
   {
    "duration": 1248,
    "start_time": "2024-07-27T08:08:17.297Z"
   },
   {
    "duration": 318,
    "start_time": "2024-07-27T08:08:19.784Z"
   },
   {
    "duration": 26,
    "start_time": "2024-07-27T08:08:21.704Z"
   },
   {
    "duration": 15,
    "start_time": "2024-07-27T08:08:23.703Z"
   },
   {
    "duration": 10,
    "start_time": "2024-07-27T08:08:24.160Z"
   },
   {
    "duration": 14,
    "start_time": "2024-07-27T08:08:24.784Z"
   },
   {
    "duration": 7,
    "start_time": "2024-07-27T08:08:25.184Z"
   },
   {
    "duration": 127,
    "start_time": "2024-07-27T08:08:26.352Z"
   },
   {
    "duration": 103,
    "start_time": "2024-07-27T08:08:27.272Z"
   },
   {
    "duration": 198,
    "start_time": "2024-07-27T08:08:28.216Z"
   },
   {
    "duration": 134,
    "start_time": "2024-07-27T08:08:29.377Z"
   },
   {
    "duration": 126,
    "start_time": "2024-07-27T08:08:30.744Z"
   },
   {
    "duration": 28,
    "start_time": "2024-07-27T08:08:32.529Z"
   },
   {
    "duration": 37,
    "start_time": "2024-07-27T08:08:33.104Z"
   },
   {
    "duration": 116,
    "start_time": "2024-07-27T08:08:33.559Z"
   },
   {
    "duration": 130,
    "start_time": "2024-07-27T08:08:33.984Z"
   },
   {
    "duration": 141,
    "start_time": "2024-07-27T08:08:34.720Z"
   },
   {
    "duration": 175,
    "start_time": "2024-07-27T08:08:35.120Z"
   },
   {
    "duration": 313,
    "start_time": "2024-07-27T08:08:36.592Z"
   },
   {
    "duration": 6,
    "start_time": "2024-07-27T08:08:37.712Z"
   },
   {
    "duration": 6,
    "start_time": "2024-07-27T08:08:38.399Z"
   },
   {
    "duration": 133,
    "start_time": "2024-07-27T08:08:39.792Z"
   },
   {
    "duration": 158,
    "start_time": "2024-07-27T08:08:57.112Z"
   },
   {
    "duration": 272,
    "start_time": "2024-07-27T08:13:19.820Z"
   },
   {
    "duration": 125,
    "start_time": "2024-07-27T08:19:27.379Z"
   },
   {
    "duration": 55,
    "start_time": "2024-07-27T08:30:37.682Z"
   },
   {
    "duration": 66,
    "start_time": "2024-07-27T08:31:33.563Z"
   },
   {
    "duration": 61,
    "start_time": "2024-07-27T08:31:43.595Z"
   },
   {
    "duration": 80,
    "start_time": "2024-07-27T08:32:15.860Z"
   },
   {
    "duration": 63,
    "start_time": "2024-07-27T08:32:33.188Z"
   },
   {
    "duration": 108,
    "start_time": "2024-07-27T08:33:02.454Z"
   },
   {
    "duration": 55,
    "start_time": "2024-07-27T08:33:27.949Z"
   },
   {
    "duration": 57,
    "start_time": "2024-07-27T08:34:30.991Z"
   },
   {
    "duration": 72,
    "start_time": "2024-07-27T08:35:57.609Z"
   },
   {
    "duration": 65,
    "start_time": "2024-07-27T08:36:22.474Z"
   },
   {
    "duration": 52,
    "start_time": "2024-07-27T08:36:47.513Z"
   },
   {
    "duration": 1340,
    "start_time": "2024-07-27T08:36:59.162Z"
   },
   {
    "duration": 10,
    "start_time": "2024-07-27T08:37:16.235Z"
   },
   {
    "duration": 10,
    "start_time": "2024-07-27T08:37:38.994Z"
   },
   {
    "duration": 67,
    "start_time": "2024-07-27T08:38:37.845Z"
   },
   {
    "duration": 54,
    "start_time": "2024-07-27T08:38:47.924Z"
   },
   {
    "duration": 316,
    "start_time": "2024-07-27T08:38:55.301Z"
   },
   {
    "duration": 318,
    "start_time": "2024-07-27T08:39:27.981Z"
   },
   {
    "duration": 323,
    "start_time": "2024-07-27T08:40:12.078Z"
   },
   {
    "duration": 7,
    "start_time": "2024-07-27T08:40:14.781Z"
   },
   {
    "duration": 6,
    "start_time": "2024-07-27T08:42:03.416Z"
   },
   {
    "duration": 6,
    "start_time": "2024-07-27T08:44:14.051Z"
   },
   {
    "duration": 4,
    "start_time": "2024-07-27T08:47:37.639Z"
   },
   {
    "duration": 5,
    "start_time": "2024-07-27T08:49:17.880Z"
   },
   {
    "duration": 130,
    "start_time": "2024-07-27T08:52:01.724Z"
   },
   {
    "duration": 165,
    "start_time": "2024-07-27T08:54:40.926Z"
   },
   {
    "duration": 1086,
    "start_time": "2024-07-27T08:55:53.032Z"
   },
   {
    "duration": 11,
    "start_time": "2024-07-27T08:56:37.009Z"
   },
   {
    "duration": 177,
    "start_time": "2024-07-27T08:57:12.562Z"
   },
   {
    "duration": 164,
    "start_time": "2024-07-27T08:58:08.811Z"
   },
   {
    "duration": 189,
    "start_time": "2024-07-27T08:58:22.050Z"
   },
   {
    "duration": 156,
    "start_time": "2024-07-27T08:59:18.564Z"
   },
   {
    "duration": 220,
    "start_time": "2024-07-27T09:02:55.744Z"
   },
   {
    "duration": 163,
    "start_time": "2024-07-27T09:03:11.664Z"
   },
   {
    "duration": 165,
    "start_time": "2024-07-27T09:03:25.256Z"
   },
   {
    "duration": 157,
    "start_time": "2024-07-27T09:03:35.776Z"
   },
   {
    "duration": 166,
    "start_time": "2024-07-27T09:04:54.746Z"
   },
   {
    "duration": 157,
    "start_time": "2024-07-27T09:05:12.794Z"
   },
   {
    "duration": 217,
    "start_time": "2024-07-27T09:05:47.195Z"
   },
   {
    "duration": 214,
    "start_time": "2024-07-27T09:06:00.674Z"
   },
   {
    "duration": 122,
    "start_time": "2024-07-27T09:06:45.260Z"
   },
   {
    "duration": 118,
    "start_time": "2024-07-27T09:07:11.804Z"
   },
   {
    "duration": 110,
    "start_time": "2024-07-27T09:08:17.573Z"
   },
   {
    "duration": 231,
    "start_time": "2024-07-27T09:09:08.591Z"
   },
   {
    "duration": 251,
    "start_time": "2024-07-27T09:09:57.631Z"
   },
   {
    "duration": 233,
    "start_time": "2024-07-27T09:11:45.809Z"
   },
   {
    "duration": 217,
    "start_time": "2024-07-27T09:12:23.170Z"
   },
   {
    "duration": 1279,
    "start_time": "2024-07-27T16:32:22.271Z"
   },
   {
    "duration": 305,
    "start_time": "2024-07-27T16:32:23.552Z"
   },
   {
    "duration": 29,
    "start_time": "2024-07-27T16:32:23.859Z"
   },
   {
    "duration": 28,
    "start_time": "2024-07-27T16:32:23.890Z"
   },
   {
    "duration": 23,
    "start_time": "2024-07-27T16:32:23.920Z"
   },
   {
    "duration": 11,
    "start_time": "2024-07-27T16:32:23.944Z"
   },
   {
    "duration": 6,
    "start_time": "2024-07-27T16:32:23.957Z"
   },
   {
    "duration": 179,
    "start_time": "2024-07-27T16:32:23.964Z"
   },
   {
    "duration": 113,
    "start_time": "2024-07-27T16:32:24.144Z"
   },
   {
    "duration": 272,
    "start_time": "2024-07-27T16:32:24.259Z"
   },
   {
    "duration": 140,
    "start_time": "2024-07-27T16:32:24.537Z"
   },
   {
    "duration": 137,
    "start_time": "2024-07-27T16:32:24.679Z"
   },
   {
    "duration": 39,
    "start_time": "2024-07-27T16:32:24.818Z"
   },
   {
    "duration": 35,
    "start_time": "2024-07-27T16:32:24.860Z"
   },
   {
    "duration": 146,
    "start_time": "2024-07-27T16:32:24.896Z"
   },
   {
    "duration": 235,
    "start_time": "2024-07-27T16:32:25.044Z"
   },
   {
    "duration": 387,
    "start_time": "2024-07-27T16:32:25.281Z"
   },
   {
    "duration": 479,
    "start_time": "2024-07-27T16:32:25.670Z"
   },
   {
    "duration": 571,
    "start_time": "2024-07-27T16:32:26.151Z"
   },
   {
    "duration": 14,
    "start_time": "2024-07-27T16:32:26.724Z"
   },
   {
    "duration": 5,
    "start_time": "2024-07-27T16:32:26.740Z"
   },
   {
    "duration": 260,
    "start_time": "2024-07-27T16:32:26.747Z"
   },
   {
    "duration": 7,
    "start_time": "2024-07-27T16:37:25.233Z"
   },
   {
    "duration": 6,
    "start_time": "2024-07-27T16:37:50.750Z"
   },
   {
    "duration": 7,
    "start_time": "2024-07-27T16:38:16.834Z"
   },
   {
    "duration": 56,
    "start_time": "2024-07-28T08:44:24.452Z"
   },
   {
    "duration": 10,
    "start_time": "2024-07-28T08:48:06.429Z"
   },
   {
    "duration": 1348,
    "start_time": "2024-07-28T08:48:13.237Z"
   },
   {
    "duration": 402,
    "start_time": "2024-07-28T08:48:17.810Z"
   },
   {
    "duration": 34,
    "start_time": "2024-07-28T08:48:27.029Z"
   },
   {
    "duration": 65,
    "start_time": "2024-07-28T08:48:41.589Z"
   },
   {
    "duration": 10,
    "start_time": "2024-07-28T08:48:57.678Z"
   },
   {
    "duration": 12,
    "start_time": "2024-07-28T08:49:27.790Z"
   },
   {
    "duration": 6,
    "start_time": "2024-07-28T08:50:24.495Z"
   },
   {
    "duration": 9,
    "start_time": "2024-07-28T08:50:35.078Z"
   },
   {
    "duration": 9,
    "start_time": "2024-07-28T08:50:49.159Z"
   },
   {
    "duration": 17,
    "start_time": "2024-07-28T08:54:01.201Z"
   },
   {
    "duration": 15,
    "start_time": "2024-07-28T08:54:02.897Z"
   },
   {
    "duration": 8,
    "start_time": "2024-07-28T08:54:19.346Z"
   },
   {
    "duration": 163,
    "start_time": "2024-07-28T08:56:50.708Z"
   },
   {
    "duration": 126,
    "start_time": "2024-07-28T08:56:56.044Z"
   },
   {
    "duration": 13,
    "start_time": "2024-07-28T08:57:10.250Z"
   },
   {
    "duration": 82,
    "start_time": "2024-07-28T08:57:51.932Z"
   },
   {
    "duration": 251,
    "start_time": "2024-07-28T08:58:42.005Z"
   },
   {
    "duration": 150,
    "start_time": "2024-07-28T08:58:56.045Z"
   },
   {
    "duration": 180,
    "start_time": "2024-07-28T08:59:17.613Z"
   },
   {
    "duration": 32,
    "start_time": "2024-07-28T09:10:48.982Z"
   },
   {
    "duration": 40,
    "start_time": "2024-07-28T09:10:55.184Z"
   },
   {
    "duration": 137,
    "start_time": "2024-07-28T09:11:08.568Z"
   },
   {
    "duration": 163,
    "start_time": "2024-07-28T09:11:11.127Z"
   },
   {
    "duration": 241,
    "start_time": "2024-07-28T09:11:14.080Z"
   },
   {
    "duration": 172,
    "start_time": "2024-07-28T09:11:17.255Z"
   },
   {
    "duration": 18,
    "start_time": "2024-07-28T09:19:40.399Z"
   },
   {
    "duration": 33,
    "start_time": "2024-07-28T09:19:52.276Z"
   },
   {
    "duration": 35,
    "start_time": "2024-07-28T09:19:53.510Z"
   },
   {
    "duration": 148,
    "start_time": "2024-07-28T09:19:53.846Z"
   },
   {
    "duration": 156,
    "start_time": "2024-07-28T09:19:54.366Z"
   },
   {
    "duration": 170,
    "start_time": "2024-07-28T09:19:55.278Z"
   },
   {
    "duration": 140,
    "start_time": "2024-07-28T09:19:55.959Z"
   },
   {
    "duration": 15,
    "start_time": "2024-07-28T09:19:59.775Z"
   },
   {
    "duration": 17,
    "start_time": "2024-07-28T09:21:25.344Z"
   },
   {
    "duration": 12,
    "start_time": "2024-07-28T09:21:29.407Z"
   },
   {
    "duration": 13,
    "start_time": "2024-07-28T09:21:29.768Z"
   },
   {
    "duration": 8,
    "start_time": "2024-07-28T09:21:30.392Z"
   },
   {
    "duration": 140,
    "start_time": "2024-07-28T09:21:31.297Z"
   },
   {
    "duration": 88,
    "start_time": "2024-07-28T09:21:31.890Z"
   },
   {
    "duration": 265,
    "start_time": "2024-07-28T09:21:32.512Z"
   },
   {
    "duration": 154,
    "start_time": "2024-07-28T09:21:33.464Z"
   },
   {
    "duration": 228,
    "start_time": "2024-07-28T09:21:34.680Z"
   },
   {
    "duration": 31,
    "start_time": "2024-07-28T09:21:36.944Z"
   },
   {
    "duration": 39,
    "start_time": "2024-07-28T09:21:38.072Z"
   },
   {
    "duration": 148,
    "start_time": "2024-07-28T09:21:38.432Z"
   },
   {
    "duration": 156,
    "start_time": "2024-07-28T09:21:38.761Z"
   },
   {
    "duration": 179,
    "start_time": "2024-07-28T09:21:39.176Z"
   },
   {
    "duration": 154,
    "start_time": "2024-07-28T09:21:39.656Z"
   },
   {
    "duration": 383,
    "start_time": "2024-07-28T09:21:41.900Z"
   },
   {
    "duration": 7,
    "start_time": "2024-07-28T09:42:51.649Z"
   },
   {
    "duration": 1040,
    "start_time": "2024-07-28T16:59:33.385Z"
   },
   {
    "duration": 513,
    "start_time": "2024-07-28T16:59:34.426Z"
   },
   {
    "duration": 25,
    "start_time": "2024-07-28T16:59:34.941Z"
   },
   {
    "duration": 7,
    "start_time": "2024-07-28T16:59:34.968Z"
   },
   {
    "duration": 14,
    "start_time": "2024-07-28T16:59:34.976Z"
   },
   {
    "duration": 11,
    "start_time": "2024-07-28T16:59:34.991Z"
   },
   {
    "duration": 12,
    "start_time": "2024-07-28T16:59:35.003Z"
   },
   {
    "duration": 7,
    "start_time": "2024-07-28T16:59:35.016Z"
   },
   {
    "duration": 196,
    "start_time": "2024-07-28T16:59:35.025Z"
   },
   {
    "duration": 76,
    "start_time": "2024-07-28T16:59:35.223Z"
   },
   {
    "duration": 306,
    "start_time": "2024-07-28T16:59:35.301Z"
   },
   {
    "duration": 287,
    "start_time": "2024-07-28T16:59:35.609Z"
   },
   {
    "duration": 229,
    "start_time": "2024-07-28T16:59:35.898Z"
   },
   {
    "duration": 80,
    "start_time": "2024-07-28T16:59:36.128Z"
   },
   {
    "duration": 87,
    "start_time": "2024-07-28T16:59:36.210Z"
   },
   {
    "duration": 228,
    "start_time": "2024-07-28T16:59:36.299Z"
   },
   {
    "duration": 277,
    "start_time": "2024-07-28T16:59:36.529Z"
   },
   {
    "duration": 144,
    "start_time": "2024-07-28T16:59:36.808Z"
   },
   {
    "duration": 184,
    "start_time": "2024-07-28T16:59:36.954Z"
   },
   {
    "duration": 311,
    "start_time": "2024-07-28T16:59:37.140Z"
   },
   {
    "duration": 6,
    "start_time": "2024-07-28T16:59:37.453Z"
   },
   {
    "duration": 4,
    "start_time": "2024-07-28T16:59:37.461Z"
   },
   {
    "duration": 230,
    "start_time": "2024-07-28T16:59:37.466Z"
   }
  ],
  "kernelspec": {
   "display_name": "Python 3 (ipykernel)",
   "language": "python",
   "name": "python3"
  },
  "language_info": {
   "codemirror_mode": {
    "name": "ipython",
    "version": 3
   },
   "file_extension": ".py",
   "mimetype": "text/x-python",
   "name": "python",
   "nbconvert_exporter": "python",
   "pygments_lexer": "ipython3",
   "version": "3.9.5"
  },
  "toc": {
   "base_numbering": 1,
   "nav_menu": {},
   "number_sections": true,
   "sideBar": true,
   "skip_h1_title": true,
   "title_cell": "Table of Contents",
   "title_sidebar": "Contents",
   "toc_cell": false,
   "toc_position": {
    "height": "calc(100% - 180px)",
    "left": "10px",
    "top": "150px",
    "width": "402.352936px"
   },
   "toc_section_display": true,
   "toc_window_display": true
  }
 },
 "nbformat": 4,
 "nbformat_minor": 5
}
