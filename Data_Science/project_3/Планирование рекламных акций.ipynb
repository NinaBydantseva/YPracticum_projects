{
 "cells": [
  {
   "cell_type": "markdown",
   "metadata": {},
   "source": [
    "**Сборный проект №1**\n",
    "\n",
    "**Задача**: выявить закономерности, определяющие успешность компьютерной игры, на основе открытых исторических данных за 2016 год о продажах игр, оценках пользователей и экспертов, жанрах и платформах.  \n",
    "Это позволит сделать ставку на потенциально популярный продукт и спланировать рекламные кампании.\n",
    "\n",
    "Поля в исходном наборе данных:  \n",
    "- Name — название игры,  \n",
    "- Platform — платформа,  \n",
    "- Year_of_Release — год выпуска,  \n",
    "- Genre — жанр игры,  \n",
    "- NA_sales — продажи в Северной Америке (миллионы проданных копий),  \n",
    "- EU_sales — продажи в Европе (миллионы проданных копий),  \n",
    "- JP_sales — продажи в Японии (миллионы проданных копий),  \n",
    "- Other_sales — продажи в других странах (миллионы проданных копий),  \n",
    "- Critic_Score — оценка критиков (максимум 100),  \n",
    "- User_Score — оценка пользователей (максимум 10),  \n",
    "- Rating — рейтинг от организации ESRB (англ. Entertainment Software Rating Board).  \n",
    "\n",
    "Значения рейтинга ESRB:\n",
    "- E (Everyone, для всех)\n",
    "- M (Mature, только для взрослых)\n",
    "- T (Teen, подросткам)\n",
    "- E10+ (Everyone 10 and older, всем старше 10 лет)\n",
    "- K-A (раннее детство)\n",
    "- AO (Adults Only 18+, только для взрослых 18+)\n",
    "- EC (Early childhood, для детей младшего возраста)\n",
    "- RP (Rating Pending, рейтинг ожидается)"
   ]
  },
  {
   "cell_type": "markdown",
   "metadata": {},
   "source": [
    "Импортируем все библиотеки, которые нам понадобятся"
   ]
  },
  {
   "cell_type": "code",
   "execution_count": 28,
   "metadata": {},
   "outputs": [],
   "source": [
    "import pandas as pd\n",
    "import numpy as np\n",
    "from matplotlib import pyplot as plt\n",
    "from scipy import stats as sp\n",
    "from datetime import datetime as dt"
   ]
  },
  {
   "cell_type": "markdown",
   "metadata": {},
   "source": [
    "### Открываем файл с данными"
   ]
  },
  {
   "cell_type": "code",
   "execution_count": 3,
   "metadata": {},
   "outputs": [
    {
     "data": {
      "text/html": [
       "<div>\n",
       "<style scoped>\n",
       "    .dataframe tbody tr th:only-of-type {\n",
       "        vertical-align: middle;\n",
       "    }\n",
       "\n",
       "    .dataframe tbody tr th {\n",
       "        vertical-align: top;\n",
       "    }\n",
       "\n",
       "    .dataframe thead th {\n",
       "        text-align: right;\n",
       "    }\n",
       "</style>\n",
       "<table border=\"1\" class=\"dataframe\">\n",
       "  <thead>\n",
       "    <tr style=\"text-align: right;\">\n",
       "      <th></th>\n",
       "      <th>Name</th>\n",
       "      <th>Platform</th>\n",
       "      <th>Year_of_Release</th>\n",
       "      <th>Genre</th>\n",
       "      <th>NA_sales</th>\n",
       "      <th>EU_sales</th>\n",
       "      <th>JP_sales</th>\n",
       "      <th>Other_sales</th>\n",
       "      <th>Critic_Score</th>\n",
       "      <th>User_Score</th>\n",
       "      <th>Rating</th>\n",
       "    </tr>\n",
       "  </thead>\n",
       "  <tbody>\n",
       "    <tr>\n",
       "      <th>0</th>\n",
       "      <td>Wii Sports</td>\n",
       "      <td>Wii</td>\n",
       "      <td>2006.0</td>\n",
       "      <td>Sports</td>\n",
       "      <td>41.36</td>\n",
       "      <td>28.96</td>\n",
       "      <td>3.77</td>\n",
       "      <td>8.45</td>\n",
       "      <td>76.0</td>\n",
       "      <td>8</td>\n",
       "      <td>E</td>\n",
       "    </tr>\n",
       "    <tr>\n",
       "      <th>1</th>\n",
       "      <td>Super Mario Bros.</td>\n",
       "      <td>NES</td>\n",
       "      <td>1985.0</td>\n",
       "      <td>Platform</td>\n",
       "      <td>29.08</td>\n",
       "      <td>3.58</td>\n",
       "      <td>6.81</td>\n",
       "      <td>0.77</td>\n",
       "      <td>NaN</td>\n",
       "      <td>NaN</td>\n",
       "      <td>NaN</td>\n",
       "    </tr>\n",
       "    <tr>\n",
       "      <th>2</th>\n",
       "      <td>Mario Kart Wii</td>\n",
       "      <td>Wii</td>\n",
       "      <td>2008.0</td>\n",
       "      <td>Racing</td>\n",
       "      <td>15.68</td>\n",
       "      <td>12.76</td>\n",
       "      <td>3.79</td>\n",
       "      <td>3.29</td>\n",
       "      <td>82.0</td>\n",
       "      <td>8.3</td>\n",
       "      <td>E</td>\n",
       "    </tr>\n",
       "    <tr>\n",
       "      <th>3</th>\n",
       "      <td>Wii Sports Resort</td>\n",
       "      <td>Wii</td>\n",
       "      <td>2009.0</td>\n",
       "      <td>Sports</td>\n",
       "      <td>15.61</td>\n",
       "      <td>10.93</td>\n",
       "      <td>3.28</td>\n",
       "      <td>2.95</td>\n",
       "      <td>80.0</td>\n",
       "      <td>8</td>\n",
       "      <td>E</td>\n",
       "    </tr>\n",
       "    <tr>\n",
       "      <th>4</th>\n",
       "      <td>Pokemon Red/Pokemon Blue</td>\n",
       "      <td>GB</td>\n",
       "      <td>1996.0</td>\n",
       "      <td>Role-Playing</td>\n",
       "      <td>11.27</td>\n",
       "      <td>8.89</td>\n",
       "      <td>10.22</td>\n",
       "      <td>1.00</td>\n",
       "      <td>NaN</td>\n",
       "      <td>NaN</td>\n",
       "      <td>NaN</td>\n",
       "    </tr>\n",
       "  </tbody>\n",
       "</table>\n",
       "</div>"
      ],
      "text/plain": [
       "                       Name Platform  Year_of_Release         Genre  NA_sales  \\\n",
       "0                Wii Sports      Wii           2006.0        Sports     41.36   \n",
       "1         Super Mario Bros.      NES           1985.0      Platform     29.08   \n",
       "2            Mario Kart Wii      Wii           2008.0        Racing     15.68   \n",
       "3         Wii Sports Resort      Wii           2009.0        Sports     15.61   \n",
       "4  Pokemon Red/Pokemon Blue       GB           1996.0  Role-Playing     11.27   \n",
       "\n",
       "   EU_sales  JP_sales  Other_sales  Critic_Score User_Score Rating  \n",
       "0     28.96      3.77         8.45          76.0          8      E  \n",
       "1      3.58      6.81         0.77           NaN        NaN    NaN  \n",
       "2     12.76      3.79         3.29          82.0        8.3      E  \n",
       "3     10.93      3.28         2.95          80.0          8      E  \n",
       "4      8.89     10.22         1.00           NaN        NaN    NaN  "
      ]
     },
     "metadata": {},
     "output_type": "display_data"
    }
   ],
   "source": [
    "try:\n",
    "    df=pd.read_csv('c:/users/bny_7/datasets/games.csv', sep=',')\n",
    "except:\n",
    "    df=pd.read_csv('/datasets/games.csv', sep=',')\n",
    "display(df.head())    "
   ]
  },
  {
   "cell_type": "code",
   "execution_count": 4,
   "metadata": {},
   "outputs": [
    {
     "name": "stdout",
     "output_type": "stream",
     "text": [
      "<class 'pandas.core.frame.DataFrame'>\n",
      "RangeIndex: 16715 entries, 0 to 16714\n",
      "Data columns (total 11 columns):\n",
      " #   Column           Non-Null Count  Dtype  \n",
      "---  ------           --------------  -----  \n",
      " 0   Name             16713 non-null  object \n",
      " 1   Platform         16715 non-null  object \n",
      " 2   Year_of_Release  16446 non-null  float64\n",
      " 3   Genre            16713 non-null  object \n",
      " 4   NA_sales         16715 non-null  float64\n",
      " 5   EU_sales         16715 non-null  float64\n",
      " 6   JP_sales         16715 non-null  float64\n",
      " 7   Other_sales      16715 non-null  float64\n",
      " 8   Critic_Score     8137 non-null   float64\n",
      " 9   User_Score       10014 non-null  object \n",
      " 10  Rating           9949 non-null   object \n",
      "dtypes: float64(6), object(5)\n",
      "memory usage: 1.4+ MB\n"
     ]
    }
   ],
   "source": [
    "df.info()"
   ]
  },
  {
   "cell_type": "markdown",
   "metadata": {},
   "source": [
    "**Первичные выводы:**\n",
    "Длина набора данных - 16715 записей, 11 колонок.  \n",
    "Типы данных не соответствуют в колонках: Year_of_Release, User_Score.  \n",
    "Пропущенные значения имеются в колонках: Name, Year_of_Release, Genre, Critic_Score, User_Score, Rating.  \n",
    "Исправим их на следующем шаге."
   ]
  },
  {
   "cell_type": "markdown",
   "metadata": {},
   "source": [
    "### Предобрабатываем данные для анализа"
   ]
  },
  {
   "cell_type": "markdown",
   "metadata": {},
   "source": [
    "Подготовим данные для анализа:\n",
    "- заменим названия столбцов (приведем их к нижнему регистру);\n",
    "- преобразуем данные в нужные типы: Year_of_Release(год выпуска) приведем к целочисленному знаяению, поскольку год не может быть дробным, а User_Score(оценка пользователя) - к числовому типу float, поскольку это оценка, выраженная числом с точкой;  \n",
    "- пустые значения заменим на средние значения оценок внутри платформ, а значения 'tbd'=To Be Determined (оценка еще только будет определяться) заполним значениями NaN;\n",
    "- обработаем пропуски."
   ]
  },
  {
   "cell_type": "code",
   "execution_count": 5,
   "metadata": {},
   "outputs": [
    {
     "data": {
      "text/html": [
       "<div>\n",
       "<style scoped>\n",
       "    .dataframe tbody tr th:only-of-type {\n",
       "        vertical-align: middle;\n",
       "    }\n",
       "\n",
       "    .dataframe tbody tr th {\n",
       "        vertical-align: top;\n",
       "    }\n",
       "\n",
       "    .dataframe thead th {\n",
       "        text-align: right;\n",
       "    }\n",
       "</style>\n",
       "<table border=\"1\" class=\"dataframe\">\n",
       "  <thead>\n",
       "    <tr style=\"text-align: right;\">\n",
       "      <th></th>\n",
       "      <th>name</th>\n",
       "      <th>platform</th>\n",
       "      <th>year_of_release</th>\n",
       "      <th>genre</th>\n",
       "      <th>na_sales</th>\n",
       "      <th>eu_sales</th>\n",
       "      <th>jp_sales</th>\n",
       "      <th>other_sales</th>\n",
       "      <th>critic_score</th>\n",
       "      <th>user_score</th>\n",
       "      <th>rating</th>\n",
       "    </tr>\n",
       "  </thead>\n",
       "  <tbody>\n",
       "    <tr>\n",
       "      <th>0</th>\n",
       "      <td>Wii Sports</td>\n",
       "      <td>Wii</td>\n",
       "      <td>2006.0</td>\n",
       "      <td>Sports</td>\n",
       "      <td>41.36</td>\n",
       "      <td>28.96</td>\n",
       "      <td>3.77</td>\n",
       "      <td>8.45</td>\n",
       "      <td>76.0</td>\n",
       "      <td>8</td>\n",
       "      <td>E</td>\n",
       "    </tr>\n",
       "    <tr>\n",
       "      <th>1</th>\n",
       "      <td>Super Mario Bros.</td>\n",
       "      <td>NES</td>\n",
       "      <td>1985.0</td>\n",
       "      <td>Platform</td>\n",
       "      <td>29.08</td>\n",
       "      <td>3.58</td>\n",
       "      <td>6.81</td>\n",
       "      <td>0.77</td>\n",
       "      <td>NaN</td>\n",
       "      <td>NaN</td>\n",
       "      <td>NaN</td>\n",
       "    </tr>\n",
       "    <tr>\n",
       "      <th>2</th>\n",
       "      <td>Mario Kart Wii</td>\n",
       "      <td>Wii</td>\n",
       "      <td>2008.0</td>\n",
       "      <td>Racing</td>\n",
       "      <td>15.68</td>\n",
       "      <td>12.76</td>\n",
       "      <td>3.79</td>\n",
       "      <td>3.29</td>\n",
       "      <td>82.0</td>\n",
       "      <td>8.3</td>\n",
       "      <td>E</td>\n",
       "    </tr>\n",
       "    <tr>\n",
       "      <th>3</th>\n",
       "      <td>Wii Sports Resort</td>\n",
       "      <td>Wii</td>\n",
       "      <td>2009.0</td>\n",
       "      <td>Sports</td>\n",
       "      <td>15.61</td>\n",
       "      <td>10.93</td>\n",
       "      <td>3.28</td>\n",
       "      <td>2.95</td>\n",
       "      <td>80.0</td>\n",
       "      <td>8</td>\n",
       "      <td>E</td>\n",
       "    </tr>\n",
       "    <tr>\n",
       "      <th>4</th>\n",
       "      <td>Pokemon Red/Pokemon Blue</td>\n",
       "      <td>GB</td>\n",
       "      <td>1996.0</td>\n",
       "      <td>Role-Playing</td>\n",
       "      <td>11.27</td>\n",
       "      <td>8.89</td>\n",
       "      <td>10.22</td>\n",
       "      <td>1.00</td>\n",
       "      <td>NaN</td>\n",
       "      <td>NaN</td>\n",
       "      <td>NaN</td>\n",
       "    </tr>\n",
       "  </tbody>\n",
       "</table>\n",
       "</div>"
      ],
      "text/plain": [
       "                       name platform  year_of_release         genre  na_sales  \\\n",
       "0                Wii Sports      Wii           2006.0        Sports     41.36   \n",
       "1         Super Mario Bros.      NES           1985.0      Platform     29.08   \n",
       "2            Mario Kart Wii      Wii           2008.0        Racing     15.68   \n",
       "3         Wii Sports Resort      Wii           2009.0        Sports     15.61   \n",
       "4  Pokemon Red/Pokemon Blue       GB           1996.0  Role-Playing     11.27   \n",
       "\n",
       "   eu_sales  jp_sales  other_sales  critic_score user_score rating  \n",
       "0     28.96      3.77         8.45          76.0          8      E  \n",
       "1      3.58      6.81         0.77           NaN        NaN    NaN  \n",
       "2     12.76      3.79         3.29          82.0        8.3      E  \n",
       "3     10.93      3.28         2.95          80.0          8      E  \n",
       "4      8.89     10.22         1.00           NaN        NaN    NaN  "
      ]
     },
     "metadata": {},
     "output_type": "display_data"
    },
    {
     "data": {
      "text/html": [
       "<div>\n",
       "<style scoped>\n",
       "    .dataframe tbody tr th:only-of-type {\n",
       "        vertical-align: middle;\n",
       "    }\n",
       "\n",
       "    .dataframe tbody tr th {\n",
       "        vertical-align: top;\n",
       "    }\n",
       "\n",
       "    .dataframe thead th {\n",
       "        text-align: right;\n",
       "    }\n",
       "</style>\n",
       "<table border=\"1\" class=\"dataframe\">\n",
       "  <thead>\n",
       "    <tr style=\"text-align: right;\">\n",
       "      <th></th>\n",
       "      <th>year_of_release</th>\n",
       "      <th>na_sales</th>\n",
       "      <th>eu_sales</th>\n",
       "      <th>jp_sales</th>\n",
       "      <th>other_sales</th>\n",
       "      <th>critic_score</th>\n",
       "    </tr>\n",
       "  </thead>\n",
       "  <tbody>\n",
       "    <tr>\n",
       "      <th>count</th>\n",
       "      <td>16446.000000</td>\n",
       "      <td>16715.000000</td>\n",
       "      <td>16715.000000</td>\n",
       "      <td>16715.000000</td>\n",
       "      <td>16715.000000</td>\n",
       "      <td>8137.000000</td>\n",
       "    </tr>\n",
       "    <tr>\n",
       "      <th>mean</th>\n",
       "      <td>2006.484616</td>\n",
       "      <td>0.263377</td>\n",
       "      <td>0.145060</td>\n",
       "      <td>0.077617</td>\n",
       "      <td>0.047342</td>\n",
       "      <td>68.967679</td>\n",
       "    </tr>\n",
       "    <tr>\n",
       "      <th>std</th>\n",
       "      <td>5.877050</td>\n",
       "      <td>0.813604</td>\n",
       "      <td>0.503339</td>\n",
       "      <td>0.308853</td>\n",
       "      <td>0.186731</td>\n",
       "      <td>13.938165</td>\n",
       "    </tr>\n",
       "    <tr>\n",
       "      <th>min</th>\n",
       "      <td>1980.000000</td>\n",
       "      <td>0.000000</td>\n",
       "      <td>0.000000</td>\n",
       "      <td>0.000000</td>\n",
       "      <td>0.000000</td>\n",
       "      <td>13.000000</td>\n",
       "    </tr>\n",
       "    <tr>\n",
       "      <th>25%</th>\n",
       "      <td>2003.000000</td>\n",
       "      <td>0.000000</td>\n",
       "      <td>0.000000</td>\n",
       "      <td>0.000000</td>\n",
       "      <td>0.000000</td>\n",
       "      <td>60.000000</td>\n",
       "    </tr>\n",
       "    <tr>\n",
       "      <th>50%</th>\n",
       "      <td>2007.000000</td>\n",
       "      <td>0.080000</td>\n",
       "      <td>0.020000</td>\n",
       "      <td>0.000000</td>\n",
       "      <td>0.010000</td>\n",
       "      <td>71.000000</td>\n",
       "    </tr>\n",
       "    <tr>\n",
       "      <th>75%</th>\n",
       "      <td>2010.000000</td>\n",
       "      <td>0.240000</td>\n",
       "      <td>0.110000</td>\n",
       "      <td>0.040000</td>\n",
       "      <td>0.030000</td>\n",
       "      <td>79.000000</td>\n",
       "    </tr>\n",
       "    <tr>\n",
       "      <th>max</th>\n",
       "      <td>2016.000000</td>\n",
       "      <td>41.360000</td>\n",
       "      <td>28.960000</td>\n",
       "      <td>10.220000</td>\n",
       "      <td>10.570000</td>\n",
       "      <td>98.000000</td>\n",
       "    </tr>\n",
       "  </tbody>\n",
       "</table>\n",
       "</div>"
      ],
      "text/plain": [
       "       year_of_release      na_sales      eu_sales      jp_sales  \\\n",
       "count     16446.000000  16715.000000  16715.000000  16715.000000   \n",
       "mean       2006.484616      0.263377      0.145060      0.077617   \n",
       "std           5.877050      0.813604      0.503339      0.308853   \n",
       "min        1980.000000      0.000000      0.000000      0.000000   \n",
       "25%        2003.000000      0.000000      0.000000      0.000000   \n",
       "50%        2007.000000      0.080000      0.020000      0.000000   \n",
       "75%        2010.000000      0.240000      0.110000      0.040000   \n",
       "max        2016.000000     41.360000     28.960000     10.220000   \n",
       "\n",
       "        other_sales  critic_score  \n",
       "count  16715.000000   8137.000000  \n",
       "mean       0.047342     68.967679  \n",
       "std        0.186731     13.938165  \n",
       "min        0.000000     13.000000  \n",
       "25%        0.000000     60.000000  \n",
       "50%        0.010000     71.000000  \n",
       "75%        0.030000     79.000000  \n",
       "max       10.570000     98.000000  "
      ]
     },
     "execution_count": 5,
     "metadata": {},
     "output_type": "execute_result"
    }
   ],
   "source": [
    "#df=df.rename(columns={\n",
    "#    'Name':'name',\n",
    "#    'Platform':'platform',\n",
    "#    'Year_of_Release':'year_of_release',\n",
    "#    'Genre':'genre',\n",
    "#    'NA_sales':'na_sales',\n",
    "#   'EU_sales':'eu_sales',\n",
    "#   'JP_sales':'jp_sales',\n",
    "#    'Other_sales':'other_sales',\n",
    "#    'Critic_Score':'critic_score',\n",
    "#    'User_Score':'user_score',\n",
    "#    'Rating':'rating'\n",
    "#})\n",
    "df.columns = df.columns.str.lower()\n",
    "display(df.head())\n",
    "df.describe()"
   ]
  },
  {
   "cell_type": "code",
   "execution_count": 6,
   "metadata": {},
   "outputs": [
    {
     "data": {
      "text/plain": [
       "name                  2\n",
       "platform              0\n",
       "year_of_release     269\n",
       "genre                 2\n",
       "na_sales              0\n",
       "eu_sales              0\n",
       "jp_sales              0\n",
       "other_sales           0\n",
       "critic_score       8578\n",
       "user_score         6701\n",
       "rating             6766\n",
       "dtype: int64"
      ]
     },
     "metadata": {},
     "output_type": "display_data"
    }
   ],
   "source": [
    "display(df.isna().sum())"
   ]
  },
  {
   "cell_type": "markdown",
   "metadata": {},
   "source": [
    "Отсутствующие значения в поле *name* и поле *genre* находятся в одних и тех же строках. Предположим, что наименование игры мало влияет на ее продажи, а вот жанр может оказаться значимым фактором. Поскольку жанр - категориальная переменная, то заполнить его не удастся, поэтому удалим эти 2 строки из набора данных (это всего лишь 0,01% от общего числа записей). Сбросим индекс. \n",
    "Отсутствующие значения:\n",
    "- в поле year_of_release составляет 1,6% (269 из 16715) от общего объема, так что эти данные тоже можно удалить;   \n",
    "- critic_score, user_score, rating могут повлиять на расчет средних оценок и их количество велико (около 30-50%),\n",
    "поэтому изучим, где присутствуют пропуски и есть ли между ними что-то общее.  \n",
    "\n",
    "Наличие пропусков можно объяснить:\n",
    "- отсутствием запроса производителя на сбор данных пользователей, критиков и определения рейтинга,\n",
    "- отсутствием этой информации в открытых источниках,\n",
    "- человеческим фактором.  "
   ]
  },
  {
   "cell_type": "code",
   "execution_count": 7,
   "metadata": {},
   "outputs": [
    {
     "data": {
      "text/html": [
       "<div>\n",
       "<style scoped>\n",
       "    .dataframe tbody tr th:only-of-type {\n",
       "        vertical-align: middle;\n",
       "    }\n",
       "\n",
       "    .dataframe tbody tr th {\n",
       "        vertical-align: top;\n",
       "    }\n",
       "\n",
       "    .dataframe thead th {\n",
       "        text-align: right;\n",
       "    }\n",
       "</style>\n",
       "<table border=\"1\" class=\"dataframe\">\n",
       "  <thead>\n",
       "    <tr style=\"text-align: right;\">\n",
       "      <th></th>\n",
       "      <th>name</th>\n",
       "      <th>platform</th>\n",
       "      <th>year_of_release</th>\n",
       "      <th>genre</th>\n",
       "      <th>na_sales</th>\n",
       "      <th>eu_sales</th>\n",
       "      <th>jp_sales</th>\n",
       "      <th>other_sales</th>\n",
       "      <th>critic_score</th>\n",
       "      <th>user_score</th>\n",
       "      <th>rating</th>\n",
       "    </tr>\n",
       "  </thead>\n",
       "  <tbody>\n",
       "    <tr>\n",
       "      <th>659</th>\n",
       "      <td>NaN</td>\n",
       "      <td>GEN</td>\n",
       "      <td>1993.0</td>\n",
       "      <td>NaN</td>\n",
       "      <td>1.78</td>\n",
       "      <td>0.53</td>\n",
       "      <td>0.00</td>\n",
       "      <td>0.08</td>\n",
       "      <td>NaN</td>\n",
       "      <td>NaN</td>\n",
       "      <td>NaN</td>\n",
       "    </tr>\n",
       "    <tr>\n",
       "      <th>14244</th>\n",
       "      <td>NaN</td>\n",
       "      <td>GEN</td>\n",
       "      <td>1993.0</td>\n",
       "      <td>NaN</td>\n",
       "      <td>0.00</td>\n",
       "      <td>0.00</td>\n",
       "      <td>0.03</td>\n",
       "      <td>0.00</td>\n",
       "      <td>NaN</td>\n",
       "      <td>NaN</td>\n",
       "      <td>NaN</td>\n",
       "    </tr>\n",
       "  </tbody>\n",
       "</table>\n",
       "</div>"
      ],
      "text/plain": [
       "      name platform  year_of_release genre  na_sales  eu_sales  jp_sales  \\\n",
       "659    NaN      GEN           1993.0   NaN      1.78      0.53      0.00   \n",
       "14244  NaN      GEN           1993.0   NaN      0.00      0.00      0.03   \n",
       "\n",
       "       other_sales  critic_score user_score rating  \n",
       "659           0.08           NaN        NaN    NaN  \n",
       "14244         0.00           NaN        NaN    NaN  "
      ]
     },
     "metadata": {},
     "output_type": "display_data"
    },
    {
     "data": {
      "text/plain": [
       "name                  0\n",
       "platform              0\n",
       "year_of_release       0\n",
       "genre                 0\n",
       "na_sales              0\n",
       "eu_sales              0\n",
       "jp_sales              0\n",
       "other_sales           0\n",
       "critic_score       8461\n",
       "user_score         6605\n",
       "rating             6676\n",
       "dtype: int64"
      ]
     },
     "metadata": {},
     "output_type": "display_data"
    }
   ],
   "source": [
    "display(df[df['name'].isna()])\n",
    "df = df.dropna(subset=['name'])\n",
    "df = df.dropna(subset=['year_of_release'])\n",
    "df.reset_index(drop=True, inplace=True)\n",
    "df['year_of_release']=df['year_of_release'].astype(int)\n",
    "display(df.isna().sum())"
   ]
  },
  {
   "cell_type": "code",
   "execution_count": 8,
   "metadata": {},
   "outputs": [
    {
     "data": {
      "text/html": [
       "<div>\n",
       "<style scoped>\n",
       "    .dataframe tbody tr th:only-of-type {\n",
       "        vertical-align: middle;\n",
       "    }\n",
       "\n",
       "    .dataframe tbody tr th {\n",
       "        vertical-align: top;\n",
       "    }\n",
       "\n",
       "    .dataframe thead th {\n",
       "        text-align: right;\n",
       "    }\n",
       "</style>\n",
       "<table border=\"1\" class=\"dataframe\">\n",
       "  <thead>\n",
       "    <tr style=\"text-align: right;\">\n",
       "      <th></th>\n",
       "      <th>year_of_release</th>\n",
       "      <th>na_sales</th>\n",
       "      <th>eu_sales</th>\n",
       "      <th>jp_sales</th>\n",
       "      <th>other_sales</th>\n",
       "      <th>critic_score</th>\n",
       "      <th>user_score</th>\n",
       "    </tr>\n",
       "    <tr>\n",
       "      <th>platform</th>\n",
       "      <th></th>\n",
       "      <th></th>\n",
       "      <th></th>\n",
       "      <th></th>\n",
       "      <th></th>\n",
       "      <th></th>\n",
       "      <th></th>\n",
       "    </tr>\n",
       "  </thead>\n",
       "  <tbody>\n",
       "    <tr>\n",
       "      <th>XOne</th>\n",
       "      <td>2014.951417</td>\n",
       "      <td>0.377004</td>\n",
       "      <td>0.208866</td>\n",
       "      <td>0.001377</td>\n",
       "      <td>0.057773</td>\n",
       "      <td>73.325444</td>\n",
       "      <td>6.521429</td>\n",
       "    </tr>\n",
       "    <tr>\n",
       "      <th>X360</th>\n",
       "      <td>2009.880682</td>\n",
       "      <td>0.483555</td>\n",
       "      <td>0.217792</td>\n",
       "      <td>0.009984</td>\n",
       "      <td>0.068896</td>\n",
       "      <td>68.685682</td>\n",
       "      <td>6.680741</td>\n",
       "    </tr>\n",
       "    <tr>\n",
       "      <th>PS3</th>\n",
       "      <td>2010.840735</td>\n",
       "      <td>0.298721</td>\n",
       "      <td>0.250544</td>\n",
       "      <td>0.060804</td>\n",
       "      <td>0.103055</td>\n",
       "      <td>70.468905</td>\n",
       "      <td>6.719512</td>\n",
       "    </tr>\n",
       "    <tr>\n",
       "      <th>Wii</th>\n",
       "      <td>2008.966563</td>\n",
       "      <td>0.378593</td>\n",
       "      <td>0.200871</td>\n",
       "      <td>0.053095</td>\n",
       "      <td>0.060428</td>\n",
       "      <td>62.778169</td>\n",
       "      <td>6.737956</td>\n",
       "    </tr>\n",
       "    <tr>\n",
       "      <th>PS4</th>\n",
       "      <td>2015.145408</td>\n",
       "      <td>0.277398</td>\n",
       "      <td>0.359923</td>\n",
       "      <td>0.040714</td>\n",
       "      <td>0.123342</td>\n",
       "      <td>72.091270</td>\n",
       "      <td>6.748249</td>\n",
       "    </tr>\n",
       "    <tr>\n",
       "      <th>3DS</th>\n",
       "      <td>2013.126953</td>\n",
       "      <td>0.161426</td>\n",
       "      <td>0.119668</td>\n",
       "      <td>0.196523</td>\n",
       "      <td>0.025918</td>\n",
       "      <td>67.156627</td>\n",
       "      <td>6.852047</td>\n",
       "    </tr>\n",
       "    <tr>\n",
       "      <th>WiiU</th>\n",
       "      <td>2013.659864</td>\n",
       "      <td>0.259184</td>\n",
       "      <td>0.170952</td>\n",
       "      <td>0.088503</td>\n",
       "      <td>0.040476</td>\n",
       "      <td>70.733333</td>\n",
       "      <td>6.904000</td>\n",
       "    </tr>\n",
       "    <tr>\n",
       "      <th>DS</th>\n",
       "      <td>2008.185290</td>\n",
       "      <td>0.179307</td>\n",
       "      <td>0.088831</td>\n",
       "      <td>0.082518</td>\n",
       "      <td>0.027836</td>\n",
       "      <td>63.728814</td>\n",
       "      <td>7.022656</td>\n",
       "    </tr>\n",
       "    <tr>\n",
       "      <th>PC</th>\n",
       "      <td>2008.914316</td>\n",
       "      <td>0.097534</td>\n",
       "      <td>0.146677</td>\n",
       "      <td>0.000178</td>\n",
       "      <td>0.022863</td>\n",
       "      <td>75.927039</td>\n",
       "      <td>7.065960</td>\n",
       "    </tr>\n",
       "    <tr>\n",
       "      <th>PSP</th>\n",
       "      <td>2008.731769</td>\n",
       "      <td>0.089916</td>\n",
       "      <td>0.055004</td>\n",
       "      <td>0.063604</td>\n",
       "      <td>0.034166</td>\n",
       "      <td>67.535088</td>\n",
       "      <td>7.236842</td>\n",
       "    </tr>\n",
       "    <tr>\n",
       "      <th>PSV</th>\n",
       "      <td>2014.132867</td>\n",
       "      <td>0.029068</td>\n",
       "      <td>0.030466</td>\n",
       "      <td>0.050909</td>\n",
       "      <td>0.014988</td>\n",
       "      <td>70.731092</td>\n",
       "      <td>7.334507</td>\n",
       "    </tr>\n",
       "    <tr>\n",
       "      <th>XB</th>\n",
       "      <td>2003.636364</td>\n",
       "      <td>0.226725</td>\n",
       "      <td>0.074284</td>\n",
       "      <td>0.001719</td>\n",
       "      <td>0.010560</td>\n",
       "      <td>69.912181</td>\n",
       "      <td>7.525044</td>\n",
       "    </tr>\n",
       "    <tr>\n",
       "      <th>GC</th>\n",
       "      <td>2003.400369</td>\n",
       "      <td>0.243432</td>\n",
       "      <td>0.070701</td>\n",
       "      <td>0.039373</td>\n",
       "      <td>0.009465</td>\n",
       "      <td>69.601831</td>\n",
       "      <td>7.615686</td>\n",
       "    </tr>\n",
       "    <tr>\n",
       "      <th>PS2</th>\n",
       "      <td>2004.583921</td>\n",
       "      <td>0.269356</td>\n",
       "      <td>0.156385</td>\n",
       "      <td>0.064664</td>\n",
       "      <td>0.089549</td>\n",
       "      <td>68.714510</td>\n",
       "      <td>7.625328</td>\n",
       "    </tr>\n",
       "    <tr>\n",
       "      <th>GBA</th>\n",
       "      <td>2003.210851</td>\n",
       "      <td>0.227028</td>\n",
       "      <td>0.091973</td>\n",
       "      <td>0.057411</td>\n",
       "      <td>0.009383</td>\n",
       "      <td>67.311628</td>\n",
       "      <td>7.669323</td>\n",
       "    </tr>\n",
       "    <tr>\n",
       "      <th>PS</th>\n",
       "      <td>1998.005882</td>\n",
       "      <td>0.281277</td>\n",
       "      <td>0.178479</td>\n",
       "      <td>0.117462</td>\n",
       "      <td>0.034193</td>\n",
       "      <td>71.586735</td>\n",
       "      <td>7.858491</td>\n",
       "    </tr>\n",
       "    <tr>\n",
       "      <th>DC</th>\n",
       "      <td>1999.942308</td>\n",
       "      <td>0.104423</td>\n",
       "      <td>0.032500</td>\n",
       "      <td>0.164615</td>\n",
       "      <td>0.005192</td>\n",
       "      <td>87.357143</td>\n",
       "      <td>8.528571</td>\n",
       "    </tr>\n",
       "    <tr>\n",
       "      <th>2600</th>\n",
       "      <td>1982.137931</td>\n",
       "      <td>0.696379</td>\n",
       "      <td>0.041897</td>\n",
       "      <td>0.000000</td>\n",
       "      <td>0.007241</td>\n",
       "      <td>NaN</td>\n",
       "      <td>NaN</td>\n",
       "    </tr>\n",
       "    <tr>\n",
       "      <th>3DO</th>\n",
       "      <td>1994.666667</td>\n",
       "      <td>0.000000</td>\n",
       "      <td>0.000000</td>\n",
       "      <td>0.033333</td>\n",
       "      <td>0.000000</td>\n",
       "      <td>NaN</td>\n",
       "      <td>NaN</td>\n",
       "    </tr>\n",
       "    <tr>\n",
       "      <th>GB</th>\n",
       "      <td>1995.958763</td>\n",
       "      <td>1.171546</td>\n",
       "      <td>0.489794</td>\n",
       "      <td>0.877526</td>\n",
       "      <td>0.084124</td>\n",
       "      <td>NaN</td>\n",
       "      <td>NaN</td>\n",
       "    </tr>\n",
       "    <tr>\n",
       "      <th>GEN</th>\n",
       "      <td>1993.037037</td>\n",
       "      <td>0.713704</td>\n",
       "      <td>0.204444</td>\n",
       "      <td>0.098889</td>\n",
       "      <td>0.032963</td>\n",
       "      <td>NaN</td>\n",
       "      <td>NaN</td>\n",
       "    </tr>\n",
       "    <tr>\n",
       "      <th>GG</th>\n",
       "      <td>1992.000000</td>\n",
       "      <td>0.000000</td>\n",
       "      <td>0.000000</td>\n",
       "      <td>0.040000</td>\n",
       "      <td>0.000000</td>\n",
       "      <td>NaN</td>\n",
       "      <td>NaN</td>\n",
       "    </tr>\n",
       "    <tr>\n",
       "      <th>N64</th>\n",
       "      <td>1998.531646</td>\n",
       "      <td>0.439589</td>\n",
       "      <td>0.129842</td>\n",
       "      <td>0.106835</td>\n",
       "      <td>0.013639</td>\n",
       "      <td>NaN</td>\n",
       "      <td>NaN</td>\n",
       "    </tr>\n",
       "    <tr>\n",
       "      <th>NES</th>\n",
       "      <td>1987.153061</td>\n",
       "      <td>1.285102</td>\n",
       "      <td>0.215816</td>\n",
       "      <td>1.006633</td>\n",
       "      <td>0.054184</td>\n",
       "      <td>NaN</td>\n",
       "      <td>NaN</td>\n",
       "    </tr>\n",
       "    <tr>\n",
       "      <th>NG</th>\n",
       "      <td>1994.500000</td>\n",
       "      <td>0.000000</td>\n",
       "      <td>0.000000</td>\n",
       "      <td>0.120000</td>\n",
       "      <td>0.000000</td>\n",
       "      <td>NaN</td>\n",
       "      <td>NaN</td>\n",
       "    </tr>\n",
       "    <tr>\n",
       "      <th>PCFX</th>\n",
       "      <td>1996.000000</td>\n",
       "      <td>0.000000</td>\n",
       "      <td>0.000000</td>\n",
       "      <td>0.030000</td>\n",
       "      <td>0.000000</td>\n",
       "      <td>NaN</td>\n",
       "      <td>NaN</td>\n",
       "    </tr>\n",
       "    <tr>\n",
       "      <th>SAT</th>\n",
       "      <td>1996.028902</td>\n",
       "      <td>0.004162</td>\n",
       "      <td>0.003121</td>\n",
       "      <td>0.186474</td>\n",
       "      <td>0.000405</td>\n",
       "      <td>NaN</td>\n",
       "      <td>NaN</td>\n",
       "    </tr>\n",
       "    <tr>\n",
       "      <th>SCD</th>\n",
       "      <td>1993.833333</td>\n",
       "      <td>0.166667</td>\n",
       "      <td>0.060000</td>\n",
       "      <td>0.075000</td>\n",
       "      <td>0.008333</td>\n",
       "      <td>NaN</td>\n",
       "      <td>NaN</td>\n",
       "    </tr>\n",
       "    <tr>\n",
       "      <th>SNES</th>\n",
       "      <td>1993.845188</td>\n",
       "      <td>0.256192</td>\n",
       "      <td>0.079665</td>\n",
       "      <td>0.487657</td>\n",
       "      <td>0.013473</td>\n",
       "      <td>NaN</td>\n",
       "      <td>NaN</td>\n",
       "    </tr>\n",
       "    <tr>\n",
       "      <th>TG16</th>\n",
       "      <td>1995.000000</td>\n",
       "      <td>0.000000</td>\n",
       "      <td>0.000000</td>\n",
       "      <td>0.080000</td>\n",
       "      <td>0.000000</td>\n",
       "      <td>NaN</td>\n",
       "      <td>NaN</td>\n",
       "    </tr>\n",
       "    <tr>\n",
       "      <th>WS</th>\n",
       "      <td>2000.000000</td>\n",
       "      <td>0.000000</td>\n",
       "      <td>0.000000</td>\n",
       "      <td>0.236667</td>\n",
       "      <td>0.000000</td>\n",
       "      <td>NaN</td>\n",
       "      <td>NaN</td>\n",
       "    </tr>\n",
       "  </tbody>\n",
       "</table>\n",
       "</div>"
      ],
      "text/plain": [
       "          year_of_release  na_sales  eu_sales  jp_sales  other_sales  \\\n",
       "platform                                                               \n",
       "XOne          2014.951417  0.377004  0.208866  0.001377     0.057773   \n",
       "X360          2009.880682  0.483555  0.217792  0.009984     0.068896   \n",
       "PS3           2010.840735  0.298721  0.250544  0.060804     0.103055   \n",
       "Wii           2008.966563  0.378593  0.200871  0.053095     0.060428   \n",
       "PS4           2015.145408  0.277398  0.359923  0.040714     0.123342   \n",
       "3DS           2013.126953  0.161426  0.119668  0.196523     0.025918   \n",
       "WiiU          2013.659864  0.259184  0.170952  0.088503     0.040476   \n",
       "DS            2008.185290  0.179307  0.088831  0.082518     0.027836   \n",
       "PC            2008.914316  0.097534  0.146677  0.000178     0.022863   \n",
       "PSP           2008.731769  0.089916  0.055004  0.063604     0.034166   \n",
       "PSV           2014.132867  0.029068  0.030466  0.050909     0.014988   \n",
       "XB            2003.636364  0.226725  0.074284  0.001719     0.010560   \n",
       "GC            2003.400369  0.243432  0.070701  0.039373     0.009465   \n",
       "PS2           2004.583921  0.269356  0.156385  0.064664     0.089549   \n",
       "GBA           2003.210851  0.227028  0.091973  0.057411     0.009383   \n",
       "PS            1998.005882  0.281277  0.178479  0.117462     0.034193   \n",
       "DC            1999.942308  0.104423  0.032500  0.164615     0.005192   \n",
       "2600          1982.137931  0.696379  0.041897  0.000000     0.007241   \n",
       "3DO           1994.666667  0.000000  0.000000  0.033333     0.000000   \n",
       "GB            1995.958763  1.171546  0.489794  0.877526     0.084124   \n",
       "GEN           1993.037037  0.713704  0.204444  0.098889     0.032963   \n",
       "GG            1992.000000  0.000000  0.000000  0.040000     0.000000   \n",
       "N64           1998.531646  0.439589  0.129842  0.106835     0.013639   \n",
       "NES           1987.153061  1.285102  0.215816  1.006633     0.054184   \n",
       "NG            1994.500000  0.000000  0.000000  0.120000     0.000000   \n",
       "PCFX          1996.000000  0.000000  0.000000  0.030000     0.000000   \n",
       "SAT           1996.028902  0.004162  0.003121  0.186474     0.000405   \n",
       "SCD           1993.833333  0.166667  0.060000  0.075000     0.008333   \n",
       "SNES          1993.845188  0.256192  0.079665  0.487657     0.013473   \n",
       "TG16          1995.000000  0.000000  0.000000  0.080000     0.000000   \n",
       "WS            2000.000000  0.000000  0.000000  0.236667     0.000000   \n",
       "\n",
       "          critic_score  user_score  \n",
       "platform                            \n",
       "XOne         73.325444    6.521429  \n",
       "X360         68.685682    6.680741  \n",
       "PS3          70.468905    6.719512  \n",
       "Wii          62.778169    6.737956  \n",
       "PS4          72.091270    6.748249  \n",
       "3DS          67.156627    6.852047  \n",
       "WiiU         70.733333    6.904000  \n",
       "DS           63.728814    7.022656  \n",
       "PC           75.927039    7.065960  \n",
       "PSP          67.535088    7.236842  \n",
       "PSV          70.731092    7.334507  \n",
       "XB           69.912181    7.525044  \n",
       "GC           69.601831    7.615686  \n",
       "PS2          68.714510    7.625328  \n",
       "GBA          67.311628    7.669323  \n",
       "PS           71.586735    7.858491  \n",
       "DC           87.357143    8.528571  \n",
       "2600               NaN         NaN  \n",
       "3DO                NaN         NaN  \n",
       "GB                 NaN         NaN  \n",
       "GEN                NaN         NaN  \n",
       "GG                 NaN         NaN  \n",
       "N64                NaN         NaN  \n",
       "NES                NaN         NaN  \n",
       "NG                 NaN         NaN  \n",
       "PCFX               NaN         NaN  \n",
       "SAT                NaN         NaN  \n",
       "SCD                NaN         NaN  \n",
       "SNES               NaN         NaN  \n",
       "TG16               NaN         NaN  \n",
       "WS                 NaN         NaN  "
      ]
     },
     "execution_count": 8,
     "metadata": {},
     "output_type": "execute_result"
    }
   ],
   "source": [
    "df['user_score'] = df['user_score'].replace('tbd', np.nan)\n",
    "df['user_score']=df['user_score'].astype('float')\n",
    "df.groupby('platform').mean().sort_values('user_score')"
   ]
  },
  {
   "cell_type": "markdown",
   "metadata": {},
   "source": [
    "Отсутствуют оценки пользователей и критиков у одних и тех же платформ. Что объединяет эти платформы? Среднее значение года выпуска игр - старше 2000. Можно предположить, что игры в то время не оценивали. Посмотрим на статистику для этих платформ."
   ]
  },
  {
   "cell_type": "code",
   "execution_count": 9,
   "metadata": {},
   "outputs": [
    {
     "data": {
      "text/html": [
       "<div>\n",
       "<style scoped>\n",
       "    .dataframe tbody tr th:only-of-type {\n",
       "        vertical-align: middle;\n",
       "    }\n",
       "\n",
       "    .dataframe tbody tr th {\n",
       "        vertical-align: top;\n",
       "    }\n",
       "\n",
       "    .dataframe thead th {\n",
       "        text-align: right;\n",
       "    }\n",
       "</style>\n",
       "<table border=\"1\" class=\"dataframe\">\n",
       "  <thead>\n",
       "    <tr style=\"text-align: right;\">\n",
       "      <th></th>\n",
       "      <th>eu_sales</th>\n",
       "      <th>jp_sales</th>\n",
       "      <th>na_sales</th>\n",
       "      <th>other_sales</th>\n",
       "      <th>year_of_release</th>\n",
       "    </tr>\n",
       "    <tr>\n",
       "      <th>platform</th>\n",
       "      <th></th>\n",
       "      <th></th>\n",
       "      <th></th>\n",
       "      <th></th>\n",
       "      <th></th>\n",
       "    </tr>\n",
       "  </thead>\n",
       "  <tbody>\n",
       "    <tr>\n",
       "      <th>3DO</th>\n",
       "      <td>0.000000</td>\n",
       "      <td>0.033333</td>\n",
       "      <td>0.000000</td>\n",
       "      <td>0.000000</td>\n",
       "      <td>1994.666667</td>\n",
       "    </tr>\n",
       "    <tr>\n",
       "      <th>GG</th>\n",
       "      <td>0.000000</td>\n",
       "      <td>0.040000</td>\n",
       "      <td>0.000000</td>\n",
       "      <td>0.000000</td>\n",
       "      <td>1992.000000</td>\n",
       "    </tr>\n",
       "    <tr>\n",
       "      <th>NG</th>\n",
       "      <td>0.000000</td>\n",
       "      <td>0.120000</td>\n",
       "      <td>0.000000</td>\n",
       "      <td>0.000000</td>\n",
       "      <td>1994.500000</td>\n",
       "    </tr>\n",
       "    <tr>\n",
       "      <th>PCFX</th>\n",
       "      <td>0.000000</td>\n",
       "      <td>0.030000</td>\n",
       "      <td>0.000000</td>\n",
       "      <td>0.000000</td>\n",
       "      <td>1996.000000</td>\n",
       "    </tr>\n",
       "    <tr>\n",
       "      <th>TG16</th>\n",
       "      <td>0.000000</td>\n",
       "      <td>0.080000</td>\n",
       "      <td>0.000000</td>\n",
       "      <td>0.000000</td>\n",
       "      <td>1995.000000</td>\n",
       "    </tr>\n",
       "    <tr>\n",
       "      <th>WS</th>\n",
       "      <td>0.000000</td>\n",
       "      <td>0.236667</td>\n",
       "      <td>0.000000</td>\n",
       "      <td>0.000000</td>\n",
       "      <td>2000.000000</td>\n",
       "    </tr>\n",
       "    <tr>\n",
       "      <th>SAT</th>\n",
       "      <td>0.003121</td>\n",
       "      <td>0.186474</td>\n",
       "      <td>0.004162</td>\n",
       "      <td>0.000405</td>\n",
       "      <td>1996.028902</td>\n",
       "    </tr>\n",
       "    <tr>\n",
       "      <th>SCD</th>\n",
       "      <td>0.060000</td>\n",
       "      <td>0.075000</td>\n",
       "      <td>0.166667</td>\n",
       "      <td>0.008333</td>\n",
       "      <td>1993.833333</td>\n",
       "    </tr>\n",
       "    <tr>\n",
       "      <th>SNES</th>\n",
       "      <td>0.079665</td>\n",
       "      <td>0.487657</td>\n",
       "      <td>0.256192</td>\n",
       "      <td>0.013473</td>\n",
       "      <td>1993.845188</td>\n",
       "    </tr>\n",
       "    <tr>\n",
       "      <th>N64</th>\n",
       "      <td>0.129842</td>\n",
       "      <td>0.106835</td>\n",
       "      <td>0.439589</td>\n",
       "      <td>0.013639</td>\n",
       "      <td>1998.531646</td>\n",
       "    </tr>\n",
       "    <tr>\n",
       "      <th>2600</th>\n",
       "      <td>0.041897</td>\n",
       "      <td>0.000000</td>\n",
       "      <td>0.696379</td>\n",
       "      <td>0.007241</td>\n",
       "      <td>1982.137931</td>\n",
       "    </tr>\n",
       "    <tr>\n",
       "      <th>GEN</th>\n",
       "      <td>0.204444</td>\n",
       "      <td>0.098889</td>\n",
       "      <td>0.713704</td>\n",
       "      <td>0.032963</td>\n",
       "      <td>1993.037037</td>\n",
       "    </tr>\n",
       "    <tr>\n",
       "      <th>GB</th>\n",
       "      <td>0.489794</td>\n",
       "      <td>0.877526</td>\n",
       "      <td>1.171546</td>\n",
       "      <td>0.084124</td>\n",
       "      <td>1995.958763</td>\n",
       "    </tr>\n",
       "    <tr>\n",
       "      <th>NES</th>\n",
       "      <td>0.215816</td>\n",
       "      <td>1.006633</td>\n",
       "      <td>1.285102</td>\n",
       "      <td>0.054184</td>\n",
       "      <td>1987.153061</td>\n",
       "    </tr>\n",
       "  </tbody>\n",
       "</table>\n",
       "</div>"
      ],
      "text/plain": [
       "          eu_sales  jp_sales  na_sales  other_sales  year_of_release\n",
       "platform                                                            \n",
       "3DO       0.000000  0.033333  0.000000     0.000000      1994.666667\n",
       "GG        0.000000  0.040000  0.000000     0.000000      1992.000000\n",
       "NG        0.000000  0.120000  0.000000     0.000000      1994.500000\n",
       "PCFX      0.000000  0.030000  0.000000     0.000000      1996.000000\n",
       "TG16      0.000000  0.080000  0.000000     0.000000      1995.000000\n",
       "WS        0.000000  0.236667  0.000000     0.000000      2000.000000\n",
       "SAT       0.003121  0.186474  0.004162     0.000405      1996.028902\n",
       "SCD       0.060000  0.075000  0.166667     0.008333      1993.833333\n",
       "SNES      0.079665  0.487657  0.256192     0.013473      1993.845188\n",
       "N64       0.129842  0.106835  0.439589     0.013639      1998.531646\n",
       "2600      0.041897  0.000000  0.696379     0.007241      1982.137931\n",
       "GEN       0.204444  0.098889  0.713704     0.032963      1993.037037\n",
       "GB        0.489794  0.877526  1.171546     0.084124      1995.958763\n",
       "NES       0.215816  1.006633  1.285102     0.054184      1987.153061"
      ]
     },
     "metadata": {},
     "output_type": "display_data"
    },
    {
     "data": {
      "text/plain": [
       "genre\n",
       "Sports          181\n",
       "Action          129\n",
       "Platform        125\n",
       "Role-Playing    115\n",
       "Fighting        106\n",
       "Shooter          88\n",
       "Racing           86\n",
       "Misc             68\n",
       "Puzzle           68\n",
       "Strategy         53\n",
       "Adventure        45\n",
       "Simulation       33\n",
       "dtype: int64"
      ]
     },
     "metadata": {},
     "output_type": "display_data"
    }
   ],
   "source": [
    "display((pd.pivot_table(\n",
    "    df.query('platform in (\"2600\",\"3DO\",\"GB\",\"GEN\",\"GG\",\"N64\",\"NES\",\"NG\",\"PCFX\",\"SAT\",\"SCD\",\"SNES\",\"TG16\",\"WS\")'),\n",
    "    index=['platform']\n",
    ").sort_values('na_sales')))\n",
    "display(df.query('platform in (\"2600\",\"3DO\",\"GB\",\"GEN\",\"GG\",\"N64\",\"NES\",\"NG\",\"PCFX\",\"SAT\",\"SCD\",\"SNES\",\"TG16\",\"WS\")')\n",
    " .value_counts('genre'))"
   ]
  },
  {
   "cell_type": "markdown",
   "metadata": {},
   "source": [
    "Из полученных данных видим, что первые 6 платформ продавали свои игры только в Японии, поэтому они и не оценивались. Статистика по жанрам тоже не указывает на явную причину отсутствия данных. Примем, что причина отсутствие данных - их старость и локализация некоторых платформ.  \n",
    "Поскольку общее количество записей, для которых отсутствуют значения в полях: critic_score, user_score, rating - 1097 (6,7%),то\n",
    "удалим эти строки, а у оставшихся заменим пропущенные значения на средние внутри их платформ. Сделаем это в цикле для полей critic_score и user_score.  \n",
    "А для поля rating заменим все отсутствующие значения на RP (rating pending)."
   ]
  },
  {
   "cell_type": "code",
   "execution_count": 10,
   "metadata": {},
   "outputs": [
    {
     "data": {
      "text/html": [
       "<div>\n",
       "<style scoped>\n",
       "    .dataframe tbody tr th:only-of-type {\n",
       "        vertical-align: middle;\n",
       "    }\n",
       "\n",
       "    .dataframe tbody tr th {\n",
       "        vertical-align: top;\n",
       "    }\n",
       "\n",
       "    .dataframe thead th {\n",
       "        text-align: right;\n",
       "    }\n",
       "</style>\n",
       "<table border=\"1\" class=\"dataframe\">\n",
       "  <thead>\n",
       "    <tr style=\"text-align: right;\">\n",
       "      <th></th>\n",
       "      <th>year_of_release</th>\n",
       "      <th>na_sales</th>\n",
       "      <th>eu_sales</th>\n",
       "      <th>jp_sales</th>\n",
       "      <th>other_sales</th>\n",
       "      <th>critic_score</th>\n",
       "      <th>user_score</th>\n",
       "    </tr>\n",
       "  </thead>\n",
       "  <tbody>\n",
       "    <tr>\n",
       "      <th>count</th>\n",
       "      <td>15347.000000</td>\n",
       "      <td>15347.000000</td>\n",
       "      <td>15347.000000</td>\n",
       "      <td>15347.000000</td>\n",
       "      <td>15347.000000</td>\n",
       "      <td>15347.000000</td>\n",
       "      <td>15347.000000</td>\n",
       "    </tr>\n",
       "    <tr>\n",
       "      <th>mean</th>\n",
       "      <td>2007.384766</td>\n",
       "      <td>0.247601</td>\n",
       "      <td>0.147239</td>\n",
       "      <td>0.059816</td>\n",
       "      <td>0.049507</td>\n",
       "      <td>68.523032</td>\n",
       "      <td>7.186560</td>\n",
       "    </tr>\n",
       "    <tr>\n",
       "      <th>std</th>\n",
       "      <td>4.767561</td>\n",
       "      <td>0.707768</td>\n",
       "      <td>0.508529</td>\n",
       "      <td>0.253458</td>\n",
       "      <td>0.193099</td>\n",
       "      <td>10.372644</td>\n",
       "      <td>1.088245</td>\n",
       "    </tr>\n",
       "    <tr>\n",
       "      <th>min</th>\n",
       "      <td>1985.000000</td>\n",
       "      <td>0.000000</td>\n",
       "      <td>0.000000</td>\n",
       "      <td>0.000000</td>\n",
       "      <td>0.000000</td>\n",
       "      <td>13.000000</td>\n",
       "      <td>0.000000</td>\n",
       "    </tr>\n",
       "    <tr>\n",
       "      <th>25%</th>\n",
       "      <td>2004.000000</td>\n",
       "      <td>0.000000</td>\n",
       "      <td>0.000000</td>\n",
       "      <td>0.000000</td>\n",
       "      <td>0.000000</td>\n",
       "      <td>63.728814</td>\n",
       "      <td>6.737956</td>\n",
       "    </tr>\n",
       "    <tr>\n",
       "      <th>50%</th>\n",
       "      <td>2008.000000</td>\n",
       "      <td>0.080000</td>\n",
       "      <td>0.020000</td>\n",
       "      <td>0.000000</td>\n",
       "      <td>0.010000</td>\n",
       "      <td>68.714510</td>\n",
       "      <td>7.236842</td>\n",
       "    </tr>\n",
       "    <tr>\n",
       "      <th>75%</th>\n",
       "      <td>2011.000000</td>\n",
       "      <td>0.230000</td>\n",
       "      <td>0.110000</td>\n",
       "      <td>0.030000</td>\n",
       "      <td>0.040000</td>\n",
       "      <td>73.000000</td>\n",
       "      <td>7.858491</td>\n",
       "    </tr>\n",
       "    <tr>\n",
       "      <th>max</th>\n",
       "      <td>2016.000000</td>\n",
       "      <td>41.360000</td>\n",
       "      <td>28.960000</td>\n",
       "      <td>6.500000</td>\n",
       "      <td>10.570000</td>\n",
       "      <td>98.000000</td>\n",
       "      <td>9.700000</td>\n",
       "    </tr>\n",
       "  </tbody>\n",
       "</table>\n",
       "</div>"
      ],
      "text/plain": [
       "       year_of_release      na_sales      eu_sales      jp_sales  \\\n",
       "count     15347.000000  15347.000000  15347.000000  15347.000000   \n",
       "mean       2007.384766      0.247601      0.147239      0.059816   \n",
       "std           4.767561      0.707768      0.508529      0.253458   \n",
       "min        1985.000000      0.000000      0.000000      0.000000   \n",
       "25%        2004.000000      0.000000      0.000000      0.000000   \n",
       "50%        2008.000000      0.080000      0.020000      0.000000   \n",
       "75%        2011.000000      0.230000      0.110000      0.030000   \n",
       "max        2016.000000     41.360000     28.960000      6.500000   \n",
       "\n",
       "        other_sales  critic_score    user_score  \n",
       "count  15347.000000  15347.000000  15347.000000  \n",
       "mean       0.049507     68.523032      7.186560  \n",
       "std        0.193099     10.372644      1.088245  \n",
       "min        0.000000     13.000000      0.000000  \n",
       "25%        0.000000     63.728814      6.737956  \n",
       "50%        0.010000     68.714510      7.236842  \n",
       "75%        0.040000     73.000000      7.858491  \n",
       "max       10.570000     98.000000      9.700000  "
      ]
     },
     "metadata": {},
     "output_type": "display_data"
    }
   ],
   "source": [
    "df=df.query('platform not in (\"2600\",\"3DO\",\"GB\",\"GEN\",\"GG\",\"N64\",\"NES\",\"NG\",\"PCFX\",\"SAT\",\"SCD\",\"SNES\",\"TG16\",\"WS\")')\n",
    "for d in df['platform'].unique():\n",
    "    df.loc[(df['platform'] == d) & (df['user_score'].isna()), 'user_score'] = \\\n",
    "    df.loc[(df['platform'] == d), 'user_score'].mean()\n",
    "    \n",
    "for d in df['platform'].unique():\n",
    "    df.loc[(df['platform'] == d) & (df['critic_score'].isna()), 'critic_score'] = \\\n",
    "    df.loc[(df['platform'] == d), 'critic_score'].mean()\n",
    "      \n",
    "display(df.describe())"
   ]
  },
  {
   "cell_type": "code",
   "execution_count": 11,
   "metadata": {},
   "outputs": [
    {
     "name": "stdout",
     "output_type": "stream",
     "text": [
      "<class 'pandas.core.frame.DataFrame'>\n",
      "Int64Index: 15347 entries, 0 to 16443\n",
      "Data columns (total 11 columns):\n",
      " #   Column           Non-Null Count  Dtype  \n",
      "---  ------           --------------  -----  \n",
      " 0   name             15347 non-null  object \n",
      " 1   platform         15347 non-null  object \n",
      " 2   year_of_release  15347 non-null  int64  \n",
      " 3   genre            15347 non-null  object \n",
      " 4   na_sales         15347 non-null  float64\n",
      " 5   eu_sales         15347 non-null  float64\n",
      " 6   jp_sales         15347 non-null  float64\n",
      " 7   other_sales      15347 non-null  float64\n",
      " 8   critic_score     15347 non-null  float64\n",
      " 9   user_score       15347 non-null  float64\n",
      " 10  rating           15347 non-null  object \n",
      "dtypes: float64(6), int64(1), object(4)\n",
      "memory usage: 1.4+ MB\n"
     ]
    }
   ],
   "source": [
    "df['rating']=df['rating'].fillna('RP')\n",
    "df.info()"
   ]
  },
  {
   "cell_type": "markdown",
   "metadata": {},
   "source": [
    "Добавим столбец с суммарными продажами во всех регионах."
   ]
  },
  {
   "cell_type": "code",
   "execution_count": 13,
   "metadata": {},
   "outputs": [
    {
     "data": {
      "text/html": [
       "<div>\n",
       "<style scoped>\n",
       "    .dataframe tbody tr th:only-of-type {\n",
       "        vertical-align: middle;\n",
       "    }\n",
       "\n",
       "    .dataframe tbody tr th {\n",
       "        vertical-align: top;\n",
       "    }\n",
       "\n",
       "    .dataframe thead th {\n",
       "        text-align: right;\n",
       "    }\n",
       "</style>\n",
       "<table border=\"1\" class=\"dataframe\">\n",
       "  <thead>\n",
       "    <tr style=\"text-align: right;\">\n",
       "      <th></th>\n",
       "      <th>name</th>\n",
       "      <th>platform</th>\n",
       "      <th>year_of_release</th>\n",
       "      <th>genre</th>\n",
       "      <th>na_sales</th>\n",
       "      <th>eu_sales</th>\n",
       "      <th>jp_sales</th>\n",
       "      <th>other_sales</th>\n",
       "      <th>critic_score</th>\n",
       "      <th>user_score</th>\n",
       "      <th>rating</th>\n",
       "      <th>all_sales</th>\n",
       "    </tr>\n",
       "  </thead>\n",
       "  <tbody>\n",
       "    <tr>\n",
       "      <th>0</th>\n",
       "      <td>Wii Sports</td>\n",
       "      <td>Wii</td>\n",
       "      <td>2006</td>\n",
       "      <td>Sports</td>\n",
       "      <td>41.36</td>\n",
       "      <td>28.96</td>\n",
       "      <td>3.77</td>\n",
       "      <td>8.45</td>\n",
       "      <td>76.0</td>\n",
       "      <td>8.0</td>\n",
       "      <td>E</td>\n",
       "      <td>82.54</td>\n",
       "    </tr>\n",
       "    <tr>\n",
       "      <th>2</th>\n",
       "      <td>Mario Kart Wii</td>\n",
       "      <td>Wii</td>\n",
       "      <td>2008</td>\n",
       "      <td>Racing</td>\n",
       "      <td>15.68</td>\n",
       "      <td>12.76</td>\n",
       "      <td>3.79</td>\n",
       "      <td>3.29</td>\n",
       "      <td>82.0</td>\n",
       "      <td>8.3</td>\n",
       "      <td>E</td>\n",
       "      <td>35.52</td>\n",
       "    </tr>\n",
       "    <tr>\n",
       "      <th>3</th>\n",
       "      <td>Wii Sports Resort</td>\n",
       "      <td>Wii</td>\n",
       "      <td>2009</td>\n",
       "      <td>Sports</td>\n",
       "      <td>15.61</td>\n",
       "      <td>10.93</td>\n",
       "      <td>3.28</td>\n",
       "      <td>2.95</td>\n",
       "      <td>80.0</td>\n",
       "      <td>8.0</td>\n",
       "      <td>E</td>\n",
       "      <td>32.77</td>\n",
       "    </tr>\n",
       "    <tr>\n",
       "      <th>6</th>\n",
       "      <td>New Super Mario Bros.</td>\n",
       "      <td>DS</td>\n",
       "      <td>2006</td>\n",
       "      <td>Platform</td>\n",
       "      <td>11.28</td>\n",
       "      <td>9.14</td>\n",
       "      <td>6.50</td>\n",
       "      <td>2.88</td>\n",
       "      <td>89.0</td>\n",
       "      <td>8.5</td>\n",
       "      <td>E</td>\n",
       "      <td>29.80</td>\n",
       "    </tr>\n",
       "    <tr>\n",
       "      <th>7</th>\n",
       "      <td>Wii Play</td>\n",
       "      <td>Wii</td>\n",
       "      <td>2006</td>\n",
       "      <td>Misc</td>\n",
       "      <td>13.96</td>\n",
       "      <td>9.18</td>\n",
       "      <td>2.93</td>\n",
       "      <td>2.84</td>\n",
       "      <td>58.0</td>\n",
       "      <td>6.6</td>\n",
       "      <td>E</td>\n",
       "      <td>28.91</td>\n",
       "    </tr>\n",
       "  </tbody>\n",
       "</table>\n",
       "</div>"
      ],
      "text/plain": [
       "                    name platform  year_of_release     genre  na_sales  \\\n",
       "0             Wii Sports      Wii             2006    Sports     41.36   \n",
       "2         Mario Kart Wii      Wii             2008    Racing     15.68   \n",
       "3      Wii Sports Resort      Wii             2009    Sports     15.61   \n",
       "6  New Super Mario Bros.       DS             2006  Platform     11.28   \n",
       "7               Wii Play      Wii             2006      Misc     13.96   \n",
       "\n",
       "   eu_sales  jp_sales  other_sales  critic_score  user_score rating  all_sales  \n",
       "0     28.96      3.77         8.45          76.0         8.0      E      82.54  \n",
       "2     12.76      3.79         3.29          82.0         8.3      E      35.52  \n",
       "3     10.93      3.28         2.95          80.0         8.0      E      32.77  \n",
       "6      9.14      6.50         2.88          89.0         8.5      E      29.80  \n",
       "7      9.18      2.93         2.84          58.0         6.6      E      28.91  "
      ]
     },
     "metadata": {},
     "output_type": "display_data"
    }
   ],
   "source": [
    "#df['all_sales']=df['na_sales']+df['eu_sales']+df['jp_sales']+df['other_sales']\n",
    "df['all_sales']=df[['na_sales','eu_sales','jp_sales','other_sales']].sum(axis=1)\n",
    "display(df.head())"
   ]
  },
  {
   "cell_type": "markdown",
   "metadata": {},
   "source": [
    "***Вывод***\n",
    "\n",
    "- мы заменили наименования столбцов (привели их к нижнему регистру);\n",
    "- изменили типы данных в полях;\n",
    "- заменили пустые значения на средние значения оценок в разрезе платформ;\n",
    "- отбросили часть данных, в которых невозможно было замеить пропущенные значения;\n",
    "- все наши пропуски носили случайный характер, природа которого явно не выражена, так что предполагаем, что \n",
    "    это можно объяснить одним из следующих обстоятельств:\n",
    "    - локализацией продаж на одной территории,\n",
    "    - отсутствием запроса производителя на сбор данных пользователей, критиков и определения рейтинга,\n",
    "    - отсутствием этой информации в открытых источниках,\n",
    "    - ранним годом выпуска игр (до 2000),\n",
    "    - человеческим фактором."
   ]
  },
  {
   "cell_type": "markdown",
   "metadata": {},
   "source": [
    "### Проводим исследовательский анализ данных"
   ]
  },
  {
   "cell_type": "markdown",
   "metadata": {},
   "source": [
    "Подсчитаем, сколько игр было выпущено по годам, и отобразим это на графике"
   ]
  },
  {
   "cell_type": "code",
   "execution_count": 14,
   "metadata": {},
   "outputs": [
    {
     "data": {
      "text/plain": [
       "<AxesSubplot:title={'center':'Игр по году'}, xlabel='year_of_release'>"
      ]
     },
     "execution_count": 14,
     "metadata": {},
     "output_type": "execute_result"
    },
    {
     "data": {
      "image/png": "[encoded data removed]",
      "text/plain": [
       "<Figure size 432x288 with 1 Axes>"
      ]
     },
     "metadata": {
      "needs_background": "light"
     },
     "output_type": "display_data"
    }
   ],
   "source": [
    "(df['year_of_release']\n",
    "    .value_counts()\n",
    "    .sort_index()\n",
    "    .plot(kind='bar',\n",
    "          title='Игр по году',\n",
    "          xlabel='year_of_release'))"
   ]
  },
  {
   "cell_type": "markdown",
   "metadata": {},
   "source": [
    "Из графика видно, что пик выпуска игр пришелся на 2008-2009 годы. Количество игр за период 1980-1990 годы незначительно, рост начинается с 1991 года. В настоящее время (2016) наблюдается спад выпуска игр.\n",
    "Подсчитаем суммарные продажи игр в разрезе платформ и построим их распределение по годам."
   ]
  },
  {
   "cell_type": "code",
   "execution_count": 15,
   "metadata": {},
   "outputs": [
    {
     "data": {
      "text/plain": [
       "<AxesSubplot:title={'center':'Суммарные продажи от игр'}, xlabel='platform'>"
      ]
     },
     "execution_count": 15,
     "metadata": {},
     "output_type": "execute_result"
    },
    {
     "data": {
      "image/png": "[encoded data removed]",
      "text/plain": [
       "<Figure size 432x288 with 1 Axes>"
      ]
     },
     "metadata": {
      "needs_background": "light"
     },
     "output_type": "display_data"
    }
   ],
   "source": [
    "(pd.pivot_table(\n",
    "    df,\n",
    "    index=['platform'],\n",
    "    aggfunc={'all_sales':np.sum})\n",
    "   .sort_values('all_sales')\n",
    "   .plot(kind='bar', title='Суммарные продажи от игр')\n",
    ")"
   ]
  },
  {
   "cell_type": "markdown",
   "metadata": {},
   "source": [
    "Видно, что наибольший доход у 6 платформ:\n",
    "- PS,  \n",
    "- DS,\n",
    "- PS3,\n",
    "- Wii,\n",
    "- X360,\n",
    "- PS2.  \n",
    "Посмотрим на распределение доходов этих платформ в разрезе по годам."
   ]
  },
  {
   "cell_type": "code",
   "execution_count": 25,
   "metadata": {
    "scrolled": false
   },
   "outputs": [
    {
     "data": {
      "text/plain": [
       "<AxesSubplot:title={'center':'Компания PS3'}, xlabel='year_of_release'>"
      ]
     },
     "execution_count": 25,
     "metadata": {},
     "output_type": "execute_result"
    },
    {
     "data": {
      "image/png": "[encoded data removed]",
      "text/plain": [
       "<Figure size 1152x576 with 3 Axes>"
      ]
     },
     "metadata": {
      "needs_background": "light"
     },
     "output_type": "display_data"
    }
   ],
   "source": [
    "plt.figure(figsize=(16, 8))\n",
    "plt.subplot(1, 3, 1)\n",
    "df.query('platform==\"PS\"').groupby('year_of_release')['all_sales'].sum().plot(kind='bar', title='Компания PS')\n",
    "plt.subplot(1, 3, 2)\n",
    "df.query('platform==\"DS\"').groupby('year_of_release')['all_sales'].sum().plot(kind='bar', title='Компания DS')\n",
    "plt.subplot(1, 3, 3)\n",
    "df.query('platform==\"PS3\"').groupby('year_of_release')['all_sales'].sum().plot(kind='bar', title='Компания PS3')"
   ]
  },
  {
   "cell_type": "code",
   "execution_count": 27,
   "metadata": {},
   "outputs": [
    {
     "data": {
      "text/plain": [
       "<AxesSubplot:title={'center':'Компания PS2'}, xlabel='year_of_release'>"
      ]
     },
     "execution_count": 27,
     "metadata": {},
     "output_type": "execute_result"
    },
    {
     "data": {
      "image/png": "[encoded data removed]",
      "text/plain": [
       "<Figure size 1152x576 with 3 Axes>"
      ]
     },
     "metadata": {
      "needs_background": "light"
     },
     "output_type": "display_data"
    }
   ],
   "source": [
    "plt.figure(figsize=(16, 8))\n",
    "plt.subplot(1, 3, 1)\n",
    "df.query('platform==\"Wii\"').groupby('year_of_release')['all_sales'].sum().plot(kind='bar', title='Компания Wii')\n",
    "plt.subplot(1, 3, 2)\n",
    "df.query('platform==\"X360\"').groupby('year_of_release')['all_sales'].sum().plot(kind='bar', title='Компания X360')\n",
    "plt.subplot(1, 3, 3)\n",
    "df.query('platform==\"PS2\"').groupby('year_of_release')['all_sales'].sum().plot(kind='bar', title='Компания PS2')"
   ]
  },
  {
   "cell_type": "markdown",
   "metadata": {},
   "source": [
    "Из построенных графиков видно, что доходы новых игр растут за 4-5 лет до своего пика продаж, а затем в течение этого же срока  \n",
    "продажи падают.  \n",
    "Поскольку мы планируем продажи на 2017 год, а рост продаж игр происходит за 4-5 лет, то ограничимся выборкой с 2017-5=2012 года до 2016 (максимального в исходных данных).  \n",
    "Построим график распределения прибыли и посмотрим, какие платформы сейчас растут."
   ]
  },
  {
   "cell_type": "code",
   "execution_count": 30,
   "metadata": {},
   "outputs": [
    {
     "data": {
      "text/plain": [
       "<AxesSubplot:title={'center':'Суммарные продажи копий игр 2012-2016'}, xlabel='platform'>"
      ]
     },
     "execution_count": 30,
     "metadata": {},
     "output_type": "execute_result"
    },
    {
     "data": {
      "image/png": "[encoded data removed]",
      "text/plain": [
       "<Figure size 432x288 with 1 Axes>"
      ]
     },
     "metadata": {
      "needs_background": "light"
     },
     "output_type": "display_data"
    }
   ],
   "source": [
    "(pd.pivot_table(\n",
    "    df.query('2012<=year_of_release<=2016'),\n",
    "    index=['platform'],\n",
    "    aggfunc={'all_sales':np.sum})\n",
    "   .sort_values('all_sales')\n",
    "   .plot(kind='bar', title='Суммарные продажи копий игр 2012-2016')\n",
    ")"
   ]
  },
  {
   "cell_type": "markdown",
   "metadata": {},
   "source": [
    "Рассмотрим продажи каждой компании в разрезе по годам отдельно"
   ]
  },
  {
   "cell_type": "code",
   "execution_count": 31,
   "metadata": {},
   "outputs": [
    {
     "data": {
      "text/plain": [
       "<AxesSubplot:title={'center':'Компания X360'}, xlabel='year_of_release'>"
      ]
     },
     "execution_count": 31,
     "metadata": {},
     "output_type": "execute_result"
    },
    {
     "data": {
      "image/png": "[encoded data removed]",
      "text/plain": [
       "<Figure size 1152x576 with 3 Axes>"
      ]
     },
     "metadata": {
      "needs_background": "light"
     },
     "output_type": "display_data"
    }
   ],
   "source": [
    "plt.figure(figsize=(16, 8))\n",
    "plt.subplot(1, 3, 1)\n",
    "(df.query('platform==\"PS4\" and 2012<=year_of_release')\n",
    "    .groupby('year_of_release')['all_sales']\n",
    "    .sum().plot(kind='bar', title='Компания PS4'))\n",
    "plt.subplot(1, 3, 2)\n",
    "(df.query('platform==\"PS3\" and 2012<=year_of_release')\n",
    "    .groupby('year_of_release')['all_sales']\n",
    "    .sum().plot(kind='bar', title='Компания PS3'))\n",
    "plt.subplot(1, 3, 3)\n",
    "(df.query('platform==\"X360\" and 2012<=year_of_release')\n",
    "    .groupby('year_of_release')['all_sales']\n",
    "    .sum().plot(kind='bar', title='Компания X360'))"
   ]
  },
  {
   "cell_type": "code",
   "execution_count": 32,
   "metadata": {},
   "outputs": [
    {
     "data": {
      "text/plain": [
       "<AxesSubplot:title={'center':'Компания WiiU'}, xlabel='year_of_release'>"
      ]
     },
     "execution_count": 32,
     "metadata": {},
     "output_type": "execute_result"
    },
    {
     "data": {
      "image/png": "[encoded data removed]",
      "text/plain": [
       "<Figure size 1152x576 with 3 Axes>"
      ]
     },
     "metadata": {
      "needs_background": "light"
     },
     "output_type": "display_data"
    }
   ],
   "source": [
    "plt.figure(figsize=(16, 8))\n",
    "plt.subplot(1, 3, 1)\n",
    "(df.query('platform==\"3DS\" and 2012<=year_of_release')\n",
    "    .groupby('year_of_release')['all_sales']\n",
    "    .sum().plot(kind='bar', title='Компания 3DS'))\n",
    "plt.subplot(1, 3, 2)\n",
    "(df.query('platform==\"XOne\" and 2012<=year_of_release')\n",
    "    .groupby('year_of_release')['all_sales']\n",
    "    .sum().plot(kind='bar', title='Компания XOne'))\n",
    "plt.subplot(1, 3, 3)\n",
    "(df.query('platform==\"WiiU\" and 2012<=year_of_release')\n",
    "    .groupby('year_of_release')['all_sales']\n",
    "    .sum().plot(kind='bar', title='Компания WiiU'))"
   ]
  },
  {
   "cell_type": "code",
   "execution_count": 41,
   "metadata": {},
   "outputs": [
    {
     "data": {
      "text/plain": [
       "<AxesSubplot:title={'center':'Компания Wii'}, xlabel='year_of_release'>"
      ]
     },
     "execution_count": 41,
     "metadata": {},
     "output_type": "execute_result"
    },
    {
     "data": {
      "image/png": "[encoded data removed]",
      "text/plain": [
       "<Figure size 1152x576 with 3 Axes>"
      ]
     },
     "metadata": {
      "needs_background": "light"
     },
     "output_type": "display_data"
    }
   ],
   "source": [
    "plt.figure(figsize=(16, 8))\n",
    "plt.subplot(1, 3, 1)\n",
    "(df.query('platform==\"PC\" and 2012<=year_of_release')\n",
    "    .groupby('year_of_release')['all_sales']\n",
    "    .sum().plot(kind='bar', title='Компания PC'))\n",
    "plt.subplot(1, 3, 2)\n",
    "(df.query('platform==\"PSV\" and 2012<=year_of_release')\n",
    "    .groupby('year_of_release')['all_sales']\n",
    "    .sum().plot(kind='bar', title='Компания PSV'))\n",
    "plt.subplot(1, 3, 3)\n",
    "(df.query('platform==\"Wii\" and 2012<=year_of_release')\n",
    "    .groupby('year_of_release')['all_sales']\n",
    "    .sum().plot(kind='bar', title='Компания Wii'))"
   ]
  },
  {
   "cell_type": "code",
   "execution_count": 36,
   "metadata": {},
   "outputs": [
    {
     "data": {
      "text/plain": [
       "<AxesSubplot:title={'center':'Компания PSP'}, xlabel='year_of_release'>"
      ]
     },
     "execution_count": 36,
     "metadata": {},
     "output_type": "execute_result"
    },
    {
     "data": {
      "image/png": "[encoded data removed]",
      "text/plain": [
       "<Figure size 1152x576 with 2 Axes>"
      ]
     },
     "metadata": {
      "needs_background": "light"
     },
     "output_type": "display_data"
    }
   ],
   "source": [
    "plt.figure(figsize=(16, 8))\n",
    "plt.subplot(1, 2, 1)\n",
    "(df.query('platform==\"DS\" and 2012<=year_of_release')\n",
    "    .groupby('year_of_release')['all_sales']\n",
    "    .sum().plot(kind='bar', title='Компания DS'))\n",
    "plt.subplot(1, 2, 2)\n",
    "(df.query('platform==\"PSP\" and 2012<=year_of_release')\n",
    "    .groupby('year_of_release')['all_sales']\n",
    "    .sum().plot(kind='bar', title='Компания PSP'))"
   ]
  },
  {
   "cell_type": "markdown",
   "metadata": {},
   "source": [
    "По распределению продаж в разрезе по годам сделаем ставку на следующие платформы:\n",
    "- PS4 (пик - 2015, то есть прогнозируем сильный спад продаж к 2019),\n",
    "- XOne (пик - 2015, то есть прогнозируем сильный спад продаж к 2019),\n",
    "- WiiU (пик - 2014, то есть прогнозируем сильный спад продаж к 2020),\n",
    "- PC (пик - 2011, спад должен был случиться в 2016, но показатели продаж позволяют оставить их хотя бы еще на 1 год),\n",
    "- PSV (пик - 2012, сильный спад продаж ожидается в 2017, но показатели продаж 2016 позволяют оставить их хотя бы еще на 1 год).\n",
    "Остальные компании находятся на спаде продаж.  \n",
    "Далее будем работать только с тремя выбранными платформами."
   ]
  },
  {
   "cell_type": "markdown",
   "metadata": {},
   "source": [
    "Построим график «ящик с усами» по глобальным продажам игр в разбивке по платформам.\n",
    "Из графика видно, что у лидирующих компаний есть существенные выбросы сверху. Отбросим значения продаж с показателями более 1.5, потому что максимальные значения для всех лежат ниже отметки в 1.5."
   ]
  },
  {
   "cell_type": "code",
   "execution_count": 42,
   "metadata": {
    "scrolled": true
   },
   "outputs": [
    {
     "data": {
      "text/plain": [
       "<AxesSubplot:title={'center':'all_sales'}, xlabel='platform'>"
      ]
     },
     "execution_count": 42,
     "metadata": {},
     "output_type": "execute_result"
    },
    {
     "data": {
      "image/png": "[encoded data removed]",
      "text/plain": [
       "<Figure size 1080x216 with 1 Axes>"
      ]
     },
     "metadata": {
      "needs_background": "light"
     },
     "output_type": "display_data"
    }
   ],
   "source": [
    "(df.query('2012<=year_of_release and platform in (\"PS4\",\"XOne\",\"WiiU\",\"PC\",\"PSV\")')\n",
    " .boxplot(\n",
    "     column=['all_sales'],\n",
    "     by='platform',\n",
    "     grid=True,\n",
    "     color='green',\n",
    "     figsize=(15,3)))"
   ]
  },
  {
   "cell_type": "code",
   "execution_count": 44,
   "metadata": {},
   "outputs": [
    {
     "data": {
      "text/plain": [
       "<AxesSubplot:title={'center':'all_sales'}, xlabel='platform'>"
      ]
     },
     "execution_count": 44,
     "metadata": {},
     "output_type": "execute_result"
    },
    {
     "data": {
      "image/png": "[encoded data removed]",
      "text/plain": [
       "<Figure size 1080x216 with 1 Axes>"
      ]
     },
     "metadata": {
      "needs_background": "light"
     },
     "output_type": "display_data"
    }
   ],
   "source": [
    "(df.query('2012<=year_of_release and platform in (\"PS4\",\"XOne\",\"WiiU\",\"PC\",\"PSV\") and all_sales<=1.5')\n",
    " .boxplot(\n",
    "     column=['all_sales'],\n",
    "     by='platform',\n",
    "     grid=True,\n",
    "     color='green',\n",
    "     figsize=(15,3)))"
   ]
  },
  {
   "cell_type": "markdown",
   "metadata": {},
   "source": [
    "Из построенных графиков мы увидили, что в данных много выбросов сверху. Основные значения укладываются в диапазон от 0 до 0,50."
   ]
  },
  {
   "cell_type": "markdown",
   "metadata": {},
   "source": [
    "Проверим, влияют ли на продажи отзывы пользователей и критиков. Для этого построим диаграмму рассеяния и посчитаем корреляцию между отзывами и продажами на примере платформы XOne."
   ]
  },
  {
   "cell_type": "code",
   "execution_count": 45,
   "metadata": {},
   "outputs": [
    {
     "data": {
      "text/html": [
       "<div>\n",
       "<style scoped>\n",
       "    .dataframe tbody tr th:only-of-type {\n",
       "        vertical-align: middle;\n",
       "    }\n",
       "\n",
       "    .dataframe tbody tr th {\n",
       "        vertical-align: top;\n",
       "    }\n",
       "\n",
       "    .dataframe thead th {\n",
       "        text-align: right;\n",
       "    }\n",
       "</style>\n",
       "<table border=\"1\" class=\"dataframe\">\n",
       "  <thead>\n",
       "    <tr style=\"text-align: right;\">\n",
       "      <th></th>\n",
       "      <th>year_of_release</th>\n",
       "      <th>na_sales</th>\n",
       "      <th>eu_sales</th>\n",
       "      <th>jp_sales</th>\n",
       "      <th>other_sales</th>\n",
       "      <th>critic_score</th>\n",
       "      <th>user_score</th>\n",
       "      <th>all_sales</th>\n",
       "    </tr>\n",
       "  </thead>\n",
       "  <tbody>\n",
       "    <tr>\n",
       "      <th>year_of_release</th>\n",
       "      <td>1.000000</td>\n",
       "      <td>-0.242667</td>\n",
       "      <td>-0.194925</td>\n",
       "      <td>-0.127050</td>\n",
       "      <td>-0.243414</td>\n",
       "      <td>0.053627</td>\n",
       "      <td>0.070786</td>\n",
       "      <td>-0.239183</td>\n",
       "    </tr>\n",
       "    <tr>\n",
       "      <th>na_sales</th>\n",
       "      <td>-0.242667</td>\n",
       "      <td>1.000000</td>\n",
       "      <td>0.765367</td>\n",
       "      <td>0.425725</td>\n",
       "      <td>0.988088</td>\n",
       "      <td>0.321088</td>\n",
       "      <td>-0.058520</td>\n",
       "      <td>0.970433</td>\n",
       "    </tr>\n",
       "    <tr>\n",
       "      <th>eu_sales</th>\n",
       "      <td>-0.194925</td>\n",
       "      <td>0.765367</td>\n",
       "      <td>1.000000</td>\n",
       "      <td>0.421071</td>\n",
       "      <td>0.852986</td>\n",
       "      <td>0.331332</td>\n",
       "      <td>-0.049543</td>\n",
       "      <td>0.898045</td>\n",
       "    </tr>\n",
       "    <tr>\n",
       "      <th>jp_sales</th>\n",
       "      <td>-0.127050</td>\n",
       "      <td>0.425725</td>\n",
       "      <td>0.421071</td>\n",
       "      <td>1.000000</td>\n",
       "      <td>0.441717</td>\n",
       "      <td>0.191284</td>\n",
       "      <td>0.065790</td>\n",
       "      <td>0.452701</td>\n",
       "    </tr>\n",
       "    <tr>\n",
       "      <th>other_sales</th>\n",
       "      <td>-0.243414</td>\n",
       "      <td>0.988088</td>\n",
       "      <td>0.852986</td>\n",
       "      <td>0.441717</td>\n",
       "      <td>1.000000</td>\n",
       "      <td>0.339487</td>\n",
       "      <td>-0.058661</td>\n",
       "      <td>0.995238</td>\n",
       "    </tr>\n",
       "    <tr>\n",
       "      <th>critic_score</th>\n",
       "      <td>0.053627</td>\n",
       "      <td>0.321088</td>\n",
       "      <td>0.331332</td>\n",
       "      <td>0.191284</td>\n",
       "      <td>0.339487</td>\n",
       "      <td>1.000000</td>\n",
       "      <td>0.429206</td>\n",
       "      <td>0.344060</td>\n",
       "    </tr>\n",
       "    <tr>\n",
       "      <th>user_score</th>\n",
       "      <td>0.070786</td>\n",
       "      <td>-0.058520</td>\n",
       "      <td>-0.049543</td>\n",
       "      <td>0.065790</td>\n",
       "      <td>-0.058661</td>\n",
       "      <td>0.429206</td>\n",
       "      <td>1.000000</td>\n",
       "      <td>-0.058090</td>\n",
       "    </tr>\n",
       "    <tr>\n",
       "      <th>all_sales</th>\n",
       "      <td>-0.239183</td>\n",
       "      <td>0.970433</td>\n",
       "      <td>0.898045</td>\n",
       "      <td>0.452701</td>\n",
       "      <td>0.995238</td>\n",
       "      <td>0.344060</td>\n",
       "      <td>-0.058090</td>\n",
       "      <td>1.000000</td>\n",
       "    </tr>\n",
       "  </tbody>\n",
       "</table>\n",
       "</div>"
      ],
      "text/plain": [
       "                 year_of_release  na_sales  eu_sales  jp_sales  other_sales  \\\n",
       "year_of_release         1.000000 -0.242667 -0.194925 -0.127050    -0.243414   \n",
       "na_sales               -0.242667  1.000000  0.765367  0.425725     0.988088   \n",
       "eu_sales               -0.194925  0.765367  1.000000  0.421071     0.852986   \n",
       "jp_sales               -0.127050  0.425725  0.421071  1.000000     0.441717   \n",
       "other_sales            -0.243414  0.988088  0.852986  0.441717     1.000000   \n",
       "critic_score            0.053627  0.321088  0.331332  0.191284     0.339487   \n",
       "user_score              0.070786 -0.058520 -0.049543  0.065790    -0.058661   \n",
       "all_sales              -0.239183  0.970433  0.898045  0.452701     0.995238   \n",
       "\n",
       "                 critic_score  user_score  all_sales  \n",
       "year_of_release      0.053627    0.070786  -0.239183  \n",
       "na_sales             0.321088   -0.058520   0.970433  \n",
       "eu_sales             0.331332   -0.049543   0.898045  \n",
       "jp_sales             0.191284    0.065790   0.452701  \n",
       "other_sales          0.339487   -0.058661   0.995238  \n",
       "critic_score         1.000000    0.429206   0.344060  \n",
       "user_score           0.429206    1.000000  -0.058090  \n",
       "all_sales            0.344060   -0.058090   1.000000  "
      ]
     },
     "execution_count": 45,
     "metadata": {},
     "output_type": "execute_result"
    },
    {
     "data": {
      "image/png": "[encoded data removed]",
      "text/plain": [
       "<Figure size 1080x720 with 64 Axes>"
      ]
     },
     "metadata": {
      "needs_background": "light"
     },
     "output_type": "display_data"
    }
   ],
   "source": [
    "pd.plotting.scatter_matrix(df.query('platform==\"XOne\" and 2012<=year_of_release'), figsize=(15,10))\n",
    "df.query('platform==\"XOne\" and 2012<=year_of_release').corr()"
   ]
  },
  {
   "cell_type": "markdown",
   "metadata": {},
   "source": [
    "Из диаграммы рассеяния делаем следующие выводы:  \n",
    "- Связь между оценками критиков и продажами - прямая (положительная) и средняя.\n",
    "- Связь между оценками пользователей и продажами - обратная (отрицательная) и слабая, так что можно сказать, что оценки пользователей вообще не влияют на продажи.\n",
    "- Критики более стабильны в своих оценках до 7,5, а дальше - на вкус и цвет.\n",
    "- Пользователи же нестабильны в своих оценках и ставят чаще от 5 до 7,5.\n",
    "- Оценки критиков влияют на продажи больше, чем оценки пользователей (0,34 против -0,06)."
   ]
  },
  {
   "cell_type": "markdown",
   "metadata": {},
   "source": [
    "Проверим наши выводы по данным других платформ."
   ]
  },
  {
   "cell_type": "code",
   "execution_count": 46,
   "metadata": {},
   "outputs": [
    {
     "data": {
      "text/html": [
       "<div>\n",
       "<style scoped>\n",
       "    .dataframe tbody tr th:only-of-type {\n",
       "        vertical-align: middle;\n",
       "    }\n",
       "\n",
       "    .dataframe tbody tr th {\n",
       "        vertical-align: top;\n",
       "    }\n",
       "\n",
       "    .dataframe thead th {\n",
       "        text-align: right;\n",
       "    }\n",
       "</style>\n",
       "<table border=\"1\" class=\"dataframe\">\n",
       "  <thead>\n",
       "    <tr style=\"text-align: right;\">\n",
       "      <th></th>\n",
       "      <th>year_of_release</th>\n",
       "      <th>na_sales</th>\n",
       "      <th>eu_sales</th>\n",
       "      <th>jp_sales</th>\n",
       "      <th>other_sales</th>\n",
       "      <th>critic_score</th>\n",
       "      <th>user_score</th>\n",
       "      <th>all_sales</th>\n",
       "    </tr>\n",
       "  </thead>\n",
       "  <tbody>\n",
       "    <tr>\n",
       "      <th>year_of_release</th>\n",
       "      <td>1.000000</td>\n",
       "      <td>-0.092848</td>\n",
       "      <td>-0.053163</td>\n",
       "      <td>-0.063587</td>\n",
       "      <td>-0.057375</td>\n",
       "      <td>0.064543</td>\n",
       "      <td>-0.023028</td>\n",
       "      <td>-0.083488</td>\n",
       "    </tr>\n",
       "    <tr>\n",
       "      <th>na_sales</th>\n",
       "      <td>-0.092848</td>\n",
       "      <td>1.000000</td>\n",
       "      <td>0.767484</td>\n",
       "      <td>0.271010</td>\n",
       "      <td>0.792277</td>\n",
       "      <td>0.263757</td>\n",
       "      <td>-0.051185</td>\n",
       "      <td>0.920981</td>\n",
       "    </tr>\n",
       "    <tr>\n",
       "      <th>eu_sales</th>\n",
       "      <td>-0.053163</td>\n",
       "      <td>0.767484</td>\n",
       "      <td>1.000000</td>\n",
       "      <td>0.265134</td>\n",
       "      <td>0.936906</td>\n",
       "      <td>0.267749</td>\n",
       "      <td>-0.055367</td>\n",
       "      <td>0.927487</td>\n",
       "    </tr>\n",
       "    <tr>\n",
       "      <th>jp_sales</th>\n",
       "      <td>-0.063587</td>\n",
       "      <td>0.271010</td>\n",
       "      <td>0.265134</td>\n",
       "      <td>1.000000</td>\n",
       "      <td>0.203078</td>\n",
       "      <td>0.035131</td>\n",
       "      <td>0.097309</td>\n",
       "      <td>0.450363</td>\n",
       "    </tr>\n",
       "    <tr>\n",
       "      <th>other_sales</th>\n",
       "      <td>-0.057375</td>\n",
       "      <td>0.792277</td>\n",
       "      <td>0.936906</td>\n",
       "      <td>0.203078</td>\n",
       "      <td>1.000000</td>\n",
       "      <td>0.263687</td>\n",
       "      <td>-0.044589</td>\n",
       "      <td>0.909525</td>\n",
       "    </tr>\n",
       "    <tr>\n",
       "      <th>critic_score</th>\n",
       "      <td>0.064543</td>\n",
       "      <td>0.263757</td>\n",
       "      <td>0.267749</td>\n",
       "      <td>0.035131</td>\n",
       "      <td>0.263687</td>\n",
       "      <td>1.000000</td>\n",
       "      <td>0.414415</td>\n",
       "      <td>0.269522</td>\n",
       "    </tr>\n",
       "    <tr>\n",
       "      <th>user_score</th>\n",
       "      <td>-0.023028</td>\n",
       "      <td>-0.051185</td>\n",
       "      <td>-0.055367</td>\n",
       "      <td>0.097309</td>\n",
       "      <td>-0.044589</td>\n",
       "      <td>0.414415</td>\n",
       "      <td>1.000000</td>\n",
       "      <td>-0.032677</td>\n",
       "    </tr>\n",
       "    <tr>\n",
       "      <th>all_sales</th>\n",
       "      <td>-0.083488</td>\n",
       "      <td>0.920981</td>\n",
       "      <td>0.927487</td>\n",
       "      <td>0.450363</td>\n",
       "      <td>0.909525</td>\n",
       "      <td>0.269522</td>\n",
       "      <td>-0.032677</td>\n",
       "      <td>1.000000</td>\n",
       "    </tr>\n",
       "  </tbody>\n",
       "</table>\n",
       "</div>"
      ],
      "text/plain": [
       "                 year_of_release  na_sales  eu_sales  jp_sales  other_sales  \\\n",
       "year_of_release         1.000000 -0.092848 -0.053163 -0.063587    -0.057375   \n",
       "na_sales               -0.092848  1.000000  0.767484  0.271010     0.792277   \n",
       "eu_sales               -0.053163  0.767484  1.000000  0.265134     0.936906   \n",
       "jp_sales               -0.063587  0.271010  0.265134  1.000000     0.203078   \n",
       "other_sales            -0.057375  0.792277  0.936906  0.203078     1.000000   \n",
       "critic_score            0.064543  0.263757  0.267749  0.035131     0.263687   \n",
       "user_score             -0.023028 -0.051185 -0.055367  0.097309    -0.044589   \n",
       "all_sales              -0.083488  0.920981  0.927487  0.450363     0.909525   \n",
       "\n",
       "                 critic_score  user_score  all_sales  \n",
       "year_of_release      0.064543   -0.023028  -0.083488  \n",
       "na_sales             0.263757   -0.051185   0.920981  \n",
       "eu_sales             0.267749   -0.055367   0.927487  \n",
       "jp_sales             0.035131    0.097309   0.450363  \n",
       "other_sales          0.263687   -0.044589   0.909525  \n",
       "critic_score         1.000000    0.414415   0.269522  \n",
       "user_score           0.414415    1.000000  -0.032677  \n",
       "all_sales            0.269522   -0.032677   1.000000  "
      ]
     },
     "execution_count": 46,
     "metadata": {},
     "output_type": "execute_result"
    },
    {
     "data": {
      "image/png": "[encoded data removed]",
      "text/plain": [
       "<Figure size 1080x720 with 64 Axes>"
      ]
     },
     "metadata": {
      "needs_background": "light"
     },
     "output_type": "display_data"
    }
   ],
   "source": [
    "pd.plotting.scatter_matrix(df.query('2012<=year_of_release'), figsize=(15,10))\n",
    "df.query('2012<=year_of_release').corr()"
   ]
  },
  {
   "cell_type": "markdown",
   "metadata": {},
   "source": [
    "При построении диаграммы рассеяния на все платформы наши выводы подтверждаются:\n",
    "- Связь между оценками критиков и продажами - прямая (положительная) и средняя.\n",
    "- Связь между оценками пользователей и продажами - обратная (отрицательная) и слабая, так что можно сказать, что оценки пользователей вообще не влияют на продажи.\n",
    "- Критики более стабильны в своих оценках, но уровень стабильности сместился с 7,5 до 6.\n",
    "- Пользователи также нестабильны в своих оценках, верхняя планка диапазона оценок сместилась до 9,5.\n",
    "- Оценки критиков влияют на продажи больше, чем оценки пользователей (0,27 против -0,03)."
   ]
  },
  {
   "cell_type": "markdown",
   "metadata": {},
   "source": [
    "Посмотрим на общее распределение игр по жанрам. Для этого возьмем медианные значения продаж по платформам."
   ]
  },
  {
   "cell_type": "code",
   "execution_count": 48,
   "metadata": {},
   "outputs": [
    {
     "data": {
      "text/plain": [
       "<AxesSubplot:title={'center':'Суммарные продажи игр 2012-2016 в разрезе жанров'}, xlabel='genre'>"
      ]
     },
     "execution_count": 48,
     "metadata": {},
     "output_type": "execute_result"
    },
    {
     "data": {
      "image/png": "[encoded data removed]",
      "text/plain": [
       "<Figure size 432x288 with 1 Axes>"
      ]
     },
     "metadata": {
      "needs_background": "light"
     },
     "output_type": "display_data"
    }
   ],
   "source": [
    "(pd.pivot_table(\n",
    "    df.query('2012<=year_of_release'),\n",
    "    index=['genre'],\n",
    "    aggfunc={'all_sales':np.median})\n",
    "   .sort_values('all_sales')\n",
    "   .plot(kind='bar', title='Суммарные продажи игр 2012-2016 в разрезе жанров')\n",
    ")"
   ]
  },
  {
   "cell_type": "markdown",
   "metadata": {},
   "source": [
    "\n",
    "Из полученного распределения видим:\n",
    "- Shooter - явный лидер: средний объем продаж превышает почти в 2 раза предшественника Sports;\n",
    "- Adventure занял последнюю строчку (средний объем продаж меньше почти в 10 раз, чем Shooter)."
   ]
  },
  {
   "cell_type": "markdown",
   "metadata": {},
   "source": [
    "***Вывод***\n",
    "\n",
    "Пик выпуска игр пришелся на 2008-2009 годы. Количество игр за период 1980-1990 годы незначительно, рост начинается с 1991 года. В настоящее время (2016) наблюдается спад выпуска игр.  \n",
    "Наибольший доход от суммарных продаж оказался у 6 платформ:\n",
    "- PS,\n",
    "- DS,\n",
    "- PS3,\n",
    "- Wii,\n",
    "- X360,\n",
    "- PS2.  \n",
    "Исследование распределений продаж показало, что доходы новых платформ растут за 4-5 лет до своего пика продаж, а затем в течение этого же срока доходы падают.\n",
    "\n",
    "Для дальнейших расчетов мы ограничились выборкой по году старше 2012 года и построили диаграмму размаха, которая показала, что в данных много выбросов сверху. Основные значения укладываются в диапазон от 0 до 1,05.  \n",
    "\n",
    "Проанализировав связи между показателями оценок критиков и пользователей с количеством проданных копий, пришли к выводам:\n",
    "- Наибольшее количество оценок находится в диапазоне от 5 до 9. Причем у пользователей больше оценок от 5 до 7,5, а у критиков - от 7 до 9.\n",
    "- Оценки критиков влияют на продажи больше, чем оценки пользователей (0,23 против 0,07).\n",
    "\n",
    "А самыми популярными и непопулярными жанрами оказались соответственно:  \n",
    "- Shooter - явный лидер: средний объем продаж превышает почти в 2 раза предшественника Sports;\n",
    "- Adventure занял последнюю строчку (средний объем продаж меньше почти в 10 раз, чем Shooter)."
   ]
  },
  {
   "cell_type": "markdown",
   "metadata": {},
   "source": [
    "### Составляем портрет пользователя каждого региона"
   ]
  },
  {
   "cell_type": "markdown",
   "metadata": {},
   "source": [
    "Определим топ-5 предпочтений пользователя каждого региона (NA, EU, JP):"
   ]
  },
  {
   "cell_type": "code",
   "execution_count": 49,
   "metadata": {},
   "outputs": [
    {
     "data": {
      "text/plain": [
       "platform\n",
       "X360    595.74\n",
       "PS2     572.92\n",
       "Wii     486.87\n",
       "PS3     390.13\n",
       "DS      380.31\n",
       "Name: na_sales, dtype: float64"
      ]
     },
     "metadata": {},
     "output_type": "display_data"
    }
   ],
   "source": [
    "display(df.groupby('platform').sum('na_sales').sort_values(by='na_sales', ascending=False)['na_sales'].head())"
   ]
  },
  {
   "cell_type": "code",
   "execution_count": 50,
   "metadata": {},
   "outputs": [
    {
     "data": {
      "text/plain": [
       "platform\n",
       "PS2     332.63\n",
       "PS3     327.21\n",
       "X360    268.32\n",
       "Wii     258.32\n",
       "PS      212.39\n",
       "Name: eu_sales, dtype: float64"
      ]
     },
     "metadata": {},
     "output_type": "display_data"
    }
   ],
   "source": [
    "display(df.groupby('platform').sum('eu_sales').sort_values(by='eu_sales', ascending=False)['eu_sales'].head())"
   ]
  },
  {
   "cell_type": "code",
   "execution_count": 51,
   "metadata": {},
   "outputs": [
    {
     "data": {
      "text/plain": [
       "platform\n",
       "DS     175.02\n",
       "PS     139.78\n",
       "PS2    137.54\n",
       "3DS    100.62\n",
       "PS3     79.41\n",
       "Name: jp_sales, dtype: float64"
      ]
     },
     "metadata": {},
     "output_type": "display_data"
    }
   ],
   "source": [
    "display(df.groupby('platform').sum('jp_sales').sort_values(by='jp_sales', ascending=False)['jp_sales'].head())"
   ]
  },
  {
   "cell_type": "markdown",
   "metadata": {},
   "source": [
    "Анализ объемов продаж показывает, что в Северной Америке покупаю приблизительно в 2 раза больше, чем в Европе, а в Европе в такой же пропорции в сравнении с Японией. В Северной Америке больше всего игроманов. \n",
    "\n",
    "Посмотрим на топ-5 предпочтений регионов по жанрам игр:"
   ]
  },
  {
   "cell_type": "code",
   "execution_count": 52,
   "metadata": {},
   "outputs": [
    {
     "data": {
      "text/plain": [
       "genre\n",
       "Action     793.36\n",
       "Sports     631.09\n",
       "Shooter    517.36\n",
       "Misc       382.45\n",
       "Racing     315.93\n",
       "Name: na_sales, dtype: float64"
      ]
     },
     "metadata": {},
     "output_type": "display_data"
    }
   ],
   "source": [
    "display(df.groupby('genre').sum('na_sales').sort_values(by='na_sales', ascending=False)['na_sales'].head())"
   ]
  },
  {
   "cell_type": "code",
   "execution_count": 53,
   "metadata": {},
   "outputs": [
    {
     "data": {
      "text/plain": [
       "genre\n",
       "Action     495.87\n",
       "Sports     361.49\n",
       "Shooter    306.78\n",
       "Racing     221.87\n",
       "Misc       206.27\n",
       "Name: eu_sales, dtype: float64"
      ]
     },
     "metadata": {},
     "output_type": "display_data"
    }
   ],
   "source": [
    "display(df.groupby('genre').sum('eu_sales').sort_values(by='eu_sales', ascending=False)['eu_sales'].head())"
   ]
  },
  {
   "cell_type": "code",
   "execution_count": 54,
   "metadata": {},
   "outputs": [
    {
     "data": {
      "text/plain": [
       "genre\n",
       "Role-Playing    262.42\n",
       "Action          140.97\n",
       "Sports           91.12\n",
       "Misc             90.97\n",
       "Platform         58.22\n",
       "Name: jp_sales, dtype: float64"
      ]
     },
     "metadata": {},
     "output_type": "display_data"
    }
   ],
   "source": [
    "display(df.groupby('genre').sum('jp_sales').sort_values(by='jp_sales', ascending=False)['jp_sales'].head())"
   ]
  },
  {
   "cell_type": "markdown",
   "metadata": {},
   "source": [
    "Топ-5 в Северной Америке и Европе совпадают, местами поменялись только 4 и 5 места. В Японии же популярными оказались ролевые игры. 3 жанра: Action, Sports, Misc присутствуют во всех рейтингах.  \n",
    "\n",
    "Проверим влияние рейтинга ESRB на продажи внутри каждого региона:"
   ]
  },
  {
   "cell_type": "code",
   "execution_count": 55,
   "metadata": {},
   "outputs": [
    {
     "data": {
      "text/plain": [
       "rating\n",
       "E       1274.24\n",
       "T        747.60\n",
       "M        742.89\n",
       "RP       684.35\n",
       "E10+     345.50\n",
       "Name: na_sales, dtype: float64"
      ]
     },
     "metadata": {},
     "output_type": "display_data"
    }
   ],
   "source": [
    "display(df.groupby('rating').sum('na_sales').sort_values(by='na_sales', ascending=False)['na_sales'].head())"
   ]
  },
  {
   "cell_type": "code",
   "execution_count": 56,
   "metadata": {},
   "outputs": [
    {
     "data": {
      "text/plain": [
       "rating\n",
       "E       703.87\n",
       "M       480.00\n",
       "RP      469.67\n",
       "T       421.79\n",
       "E10+    183.35\n",
       "Name: eu_sales, dtype: float64"
      ]
     },
     "metadata": {},
     "output_type": "display_data"
    }
   ],
   "source": [
    "display(df.groupby('rating').sum('eu_sales').sort_values(by='eu_sales', ascending=False)['eu_sales'].head())"
   ]
  },
  {
   "cell_type": "code",
   "execution_count": 57,
   "metadata": {},
   "outputs": [
    {
     "data": {
      "text/plain": [
       "rating\n",
       "RP      464.09\n",
       "E       197.96\n",
       "T       150.70\n",
       "M        63.58\n",
       "E10+     40.20\n",
       "Name: jp_sales, dtype: float64"
      ]
     },
     "metadata": {},
     "output_type": "display_data"
    }
   ],
   "source": [
    "display(df.groupby('rating').sum('jp_sales').sort_values(by='jp_sales', ascending=False)['jp_sales'].head())"
   ]
  },
  {
   "cell_type": "markdown",
   "metadata": {},
   "source": [
    "И Северная Америка, и Европа, и Япония предпочитают игры для всех, далее меняются местами игры для подростков и для взрослых и 4-е место занимают игры для малышей.  \n",
    "Получается, что выбор пользователей не связан с регионом их проживания, он одинаков для всех людей."
   ]
  },
  {
   "cell_type": "markdown",
   "metadata": {},
   "source": [
    "***Вывод***\n",
    "\n",
    "- в Северной Америке покупают приблизительно в 2 раза больше, чем в Европе, а в Европе - в 2 раза больше, чем в Японии; \n",
    "- 3 жанра попали в топ-5 для всех регионов: Action, Sports, Misc;  \n",
    "- рейтинг ESRB не влияет на выбор пользователей какого-то отдельного региона;\n",
    "- предпочтение игроков: игры для всех, игры для подростков, игры для взрослых, игры для малышей - а это все категории игроков в принципе."
   ]
  },
  {
   "cell_type": "markdown",
   "metadata": {},
   "source": [
    "### Проверяем гипотезы"
   ]
  },
  {
   "cell_type": "markdown",
   "metadata": {},
   "source": [
    "Проверим 2 гипотезы:\n",
    "1. Средние пользовательские рейтинги платформ Xbox One и PC одинаковые;\n",
    "2. Средние пользовательские рейтинги жанров Action (англ. «действие», экшен-игры) и Sports (англ. «спортивные соревнования») разные."
   ]
  },
  {
   "cell_type": "markdown",
   "metadata": {},
   "source": [
    "*Средние пользовательские рейтинги платформ Xbox One и PC одинаковые*\n",
    "\n",
    "Поскольку выборки по XOne и PC независимые, то воспользуемся методом st.ttest_ind для проверки гипотезы.  \n",
    "Наша нулевая гипотеза -  'Средний пользовательский рейтинг платформы Xbox One равен пользовательскому рейтингу платформы PC'.  \n",
    "Альтернативная гипотеза - 'Средний пользовательский рейтинг платформы Xbox One больше пользовательского рейтинга платформы PC'.  \n",
    "Уровень статистической значимости примем 0,05."
   ]
  },
  {
   "cell_type": "code",
   "execution_count": 58,
   "metadata": {},
   "outputs": [
    {
     "name": "stdout",
     "output_type": "stream",
     "text": [
      "Средний пользовательский рейтинг Xbox One: 6.521428571428572\n",
      "Средний пользовательский рейтинг PC: 6.540809006622517\n",
      "p-значение: 0.562655521537095\n",
      "Не получилось отвергнуть нулевую гипотезу\n"
     ]
    }
   ],
   "source": [
    "print('Средний пользовательский рейтинг Xbox One:', df.query('platform==\"XOne\" and 2012<=year_of_release')['user_score'].mean())\n",
    "print('Средний пользовательский рейтинг PC:', df.query('platform==\"PC\" and 2012<=year_of_release')['user_score'].mean())\n",
    "H0='Средний пользовательский рейтинг платформы Xbox One равен пользовательскому рейтингу платформы PC'\n",
    "H1='Средний пользовательский рейтинг платформы Xbox One больше пользовательского рейтинга платформы PC'\n",
    "alpha=0.05\n",
    "results=sp.ttest_ind(\n",
    "    df.query('platform==\"XOne\" and 2012<=year_of_release')['user_score'],\n",
    "    df.query('platform==\"PC\" and 2012<=year_of_release')['user_score'],\n",
    "    equal_var=True,      \n",
    "    alternative='greater'\n",
    ")\n",
    "print('p-значение:', results.pvalue)\n",
    "\n",
    "if results.pvalue<alpha:\n",
    "    print('Отвергаем нулевую гипотезу')\n",
    "else:\n",
    "    print('Не получилось отвергнуть нулевую гипотезу')"
   ]
  },
  {
   "cell_type": "markdown",
   "metadata": {},
   "source": [
    "*Средние пользовательские рейтинги жанров Action (англ. «действие», экшен-игры) и Sports (англ. «спортивные соревнования») разные.*\n",
    "\n",
    "Поскольку выборки по рейтингам жанров Action и Sports независимые, то воспользуемся методом st.ttest_ind для проверки гипотезы.  \n",
    "Наша нулевая гипотеза -  'Средний пользовательский рейтинг жанра Action равен среднему пользовательскому рейтингу жанра Sports'.  \n",
    "Альтернативная гипотеза - 'Средний пользовательский рейтинг жанра Action не равен среднему пользовательскому рейтингу жанра Sports'.  \n",
    "Уровень статистической значимости примем 0,05."
   ]
  },
  {
   "cell_type": "markdown",
   "metadata": {},
   "source": [
    "***Вывод***\n",
    "\n",
    "Проведенные тесты подтвердили, что наши гипотезы\n",
    "- о равенстве средних пользовательских рейтингов платформ Xbox One и PC\n",
    "- о неравенстве средних пользовательских рейтингов жанров Action и Sports  \n",
    "\n",
    "*подтвердились*, что показывают и найденные средние значения пользовательских рейтингов для этих платформ (6,5 и 6,5) и жанров (6,88 и 5,85)."
   ]
  },
  {
   "cell_type": "markdown",
   "metadata": {},
   "source": [
    "### Общий вывод"
   ]
  },
  {
   "cell_type": "markdown",
   "metadata": {},
   "source": [
    "В начале исследования мы поставили перед собой задачу: выявить определяющие успешность игры закономерности, чтобы спланировать рекламные кампании.  \n",
    "Для этого мы:\n",
    "- подготовили исходные данные для анализа, приведя поля к нужным типам данных, заменив названия, избавившись от пропущенных значений удалением или заменой на средние значения;\n",
    "- предположили, что все наши пропуски носят случайный характер и связаны с:  \n",
    "    - локализацией продаж на одной территории,  \n",
    "    - отсутствием запроса производителя на сбор данных пользователей, критиков и определения рейтинга,  \n",
    "    - отсутствием этой информации в открытых источниках, \n",
    "    - ранним годом выпуска игр (до 2000),  \n",
    "    - человеческим фактором;  \n",
    "- проанализировали данные продаж игр по годам и выявили платформы, которые с большим отрывом лидировали по объемам продаж:  \n",
    "    - PS,\n",
    "    - DS,\n",
    "    - PS3,\n",
    "    - Wii,\n",
    "    - X360,\n",
    "    - PS2;\n",
    "- сделали вывод, что период роста и падения продаж равен 4-5 лет, поэтому для дальнейших расчетов мы отфильтровали игры по году выпуска (старше 2012 года), чтобы достичь к 2017 году пика продаж или как минимум роста, а не падения;  \n",
    "- построили диаграмму размаха, которая показала, что в данных много выбросов сверху, а основные значения укладываются в диапазон от 0 до 0,5;  \n",
    "- проанализировали связи между показателями оценок критиков и пользователей с количеством проданных копий и пришли к выводам, что оценки критиков влияют на продажи и влияют больше, чем оценки пользователей (0,23 против 0,07);  \n",
    "- провели анализ популярности жанров и выяснили, что:\n",
    "    - Shooter - явный лидер: средний объем продаж превышает почти в 2 раза предшественника Sports;\n",
    "    - Adventure занял последнюю строчку (средний объем продаж меньше почти в 10 раз, чем Shooter).\n",
    "- проанализировали популярность жанров в разрезе регионов и выяснили, что в Северной Америке покупают приблизительно в 2 раза больше, чем в Европе, а в Европе - в 2 раза больше, чем в Японии;  \n",
    "- определили 3 жанра, которые  попали в топ-5 для всех регионов: Action, Sports, Misc и поняли, что рейтинг ESRB не влияет на выбор пользователей какого-то отдельного региона, а предпочтение игроков: игры для всех, игры для подростков, игры для взрослых, игры для малышей - а это все категории игроков, в принципе;  \n",
    "- выдвинули гипотезы и подтвердили их т-тестами для независимых выборок, получили выводы:  \n",
    "    - равенстве средних пользовательских рейтингов платформ Xbox One и PC (6,5 и 6,5),\n",
    "    - неравенстве средних пользовательских рейтингов жанров Action и Sports (6,88 и 5,85).\n",
    "    \n",
    "Таким образом, успешность игры для 2017 года определяют:\n",
    "- возраст игры,\n",
    "- оценка критиков,\n",
    "- жанр игры."
   ]
  }
 ],
 "metadata": {
  "ExecuteTimeLog": [
   {
    "duration": 1198,
    "start_time": "2024-07-28T18:06:25.547Z"
   },
   {
    "duration": 72,
    "start_time": "2024-07-28T18:06:58.220Z"
   },
   {
    "duration": 66,
    "start_time": "2024-07-28T18:07:06.401Z"
   },
   {
    "duration": 231,
    "start_time": "2024-07-28T18:07:11.268Z"
   },
   {
    "duration": 112,
    "start_time": "2024-07-28T18:07:22.277Z"
   },
   {
    "duration": 96,
    "start_time": "2024-07-28T18:14:26.105Z"
   },
   {
    "duration": 29,
    "start_time": "2024-07-28T18:46:46.651Z"
   },
   {
    "duration": 16,
    "start_time": "2024-07-28T18:47:02.603Z"
   },
   {
    "duration": 89,
    "start_time": "2024-07-28T18:58:54.890Z"
   },
   {
    "duration": 17,
    "start_time": "2024-07-28T18:59:02.764Z"
   },
   {
    "duration": 17,
    "start_time": "2024-07-28T18:59:15.834Z"
   },
   {
    "duration": 96,
    "start_time": "2024-07-28T19:03:12.831Z"
   },
   {
    "duration": 10,
    "start_time": "2024-07-28T19:03:24.472Z"
   },
   {
    "duration": 80,
    "start_time": "2024-07-28T19:03:45.080Z"
   },
   {
    "duration": 3,
    "start_time": "2024-07-28T19:04:00.064Z"
   },
   {
    "duration": 10,
    "start_time": "2024-07-28T19:04:10.297Z"
   },
   {
    "duration": 20,
    "start_time": "2024-07-28T19:04:19.648Z"
   },
   {
    "duration": 12,
    "start_time": "2024-07-28T19:04:40.458Z"
   },
   {
    "duration": 19,
    "start_time": "2024-07-28T19:05:27.586Z"
   },
   {
    "duration": 18,
    "start_time": "2024-07-28T19:05:46.042Z"
   },
   {
    "duration": 27,
    "start_time": "2024-07-28T19:05:55.898Z"
   },
   {
    "duration": 11,
    "start_time": "2024-07-28T19:07:35.803Z"
   },
   {
    "duration": 21,
    "start_time": "2024-07-28T19:08:00.571Z"
   },
   {
    "duration": 17,
    "start_time": "2024-07-28T19:08:29.404Z"
   },
   {
    "duration": 14,
    "start_time": "2024-07-28T19:08:48.772Z"
   },
   {
    "duration": 18,
    "start_time": "2024-07-28T19:14:56.743Z"
   },
   {
    "duration": 19,
    "start_time": "2024-07-28T19:15:37.937Z"
   },
   {
    "duration": 19,
    "start_time": "2024-07-28T19:16:56.578Z"
   },
   {
    "duration": 32,
    "start_time": "2024-07-28T19:18:36.844Z"
   },
   {
    "duration": 9,
    "start_time": "2024-07-28T19:18:57.364Z"
   },
   {
    "duration": 10,
    "start_time": "2024-07-28T19:19:04.043Z"
   },
   {
    "duration": 18,
    "start_time": "2024-07-28T19:19:14.564Z"
   },
   {
    "duration": 20,
    "start_time": "2024-07-28T19:19:35.668Z"
   },
   {
    "duration": 10,
    "start_time": "2024-07-28T19:19:47.301Z"
   },
   {
    "duration": 11,
    "start_time": "2024-07-28T19:24:07.296Z"
   },
   {
    "duration": 23,
    "start_time": "2024-07-28T19:24:38.138Z"
   },
   {
    "duration": 10,
    "start_time": "2024-07-28T19:25:31.633Z"
   },
   {
    "duration": 26,
    "start_time": "2024-07-28T19:25:36.417Z"
   },
   {
    "duration": 15,
    "start_time": "2024-07-28T19:27:10.578Z"
   },
   {
    "duration": 13,
    "start_time": "2024-07-28T19:27:22.515Z"
   },
   {
    "duration": 23,
    "start_time": "2024-07-28T19:29:00.674Z"
   },
   {
    "duration": 20,
    "start_time": "2024-07-28T19:29:30.805Z"
   },
   {
    "duration": 19,
    "start_time": "2024-07-28T19:29:41.541Z"
   },
   {
    "duration": 20,
    "start_time": "2024-07-28T19:29:52.365Z"
   },
   {
    "duration": 35,
    "start_time": "2024-07-28T19:30:09.053Z"
   },
   {
    "duration": 22,
    "start_time": "2024-07-28T19:30:35.453Z"
   },
   {
    "duration": 18,
    "start_time": "2024-07-28T19:30:49.261Z"
   },
   {
    "duration": 33,
    "start_time": "2024-07-28T19:37:37.170Z"
   },
   {
    "duration": 51,
    "start_time": "2024-07-28T19:39:00.029Z"
   },
   {
    "duration": 9,
    "start_time": "2024-07-28T19:51:28.303Z"
   },
   {
    "duration": 56,
    "start_time": "2024-07-28T19:52:28.830Z"
   },
   {
    "duration": 24,
    "start_time": "2024-07-28T19:54:00.370Z"
   },
   {
    "duration": 18,
    "start_time": "2024-07-28T19:54:31.138Z"
   },
   {
    "duration": 20,
    "start_time": "2024-07-28T19:55:00.505Z"
   },
   {
    "duration": 32,
    "start_time": "2024-07-28T19:55:11.010Z"
   },
   {
    "duration": 84,
    "start_time": "2024-07-28T19:55:52.003Z"
   },
   {
    "duration": 17,
    "start_time": "2024-07-28T19:55:54.946Z"
   },
   {
    "duration": 16,
    "start_time": "2024-07-28T19:56:30.012Z"
   },
   {
    "duration": 87,
    "start_time": "2024-07-28T19:56:42.060Z"
   },
   {
    "duration": 14,
    "start_time": "2024-07-28T19:56:42.660Z"
   },
   {
    "duration": 17,
    "start_time": "2024-07-28T19:58:33.564Z"
   },
   {
    "duration": 33,
    "start_time": "2024-07-28T19:58:52.765Z"
   },
   {
    "duration": 19,
    "start_time": "2024-07-28T19:59:08.854Z"
   },
   {
    "duration": 17,
    "start_time": "2024-07-28T19:59:59.366Z"
   },
   {
    "duration": 17,
    "start_time": "2024-07-28T20:00:51.278Z"
   },
   {
    "duration": 92,
    "start_time": "2024-07-28T20:01:03.718Z"
   },
   {
    "duration": 14,
    "start_time": "2024-07-28T20:01:04.182Z"
   },
   {
    "duration": 14,
    "start_time": "2024-07-28T20:01:06.471Z"
   },
   {
    "duration": 18,
    "start_time": "2024-07-28T20:03:10.209Z"
   },
   {
    "duration": 26,
    "start_time": "2024-07-28T20:03:28.665Z"
   },
   {
    "duration": 31,
    "start_time": "2024-07-28T20:05:30.066Z"
   },
   {
    "duration": 29,
    "start_time": "2024-07-28T20:07:50.354Z"
   },
   {
    "duration": 11,
    "start_time": "2024-07-28T20:07:51.554Z"
   },
   {
    "duration": 36,
    "start_time": "2024-07-28T20:07:53.195Z"
   },
   {
    "duration": 1253,
    "start_time": "2024-07-29T15:43:32.699Z"
   },
   {
    "duration": 3,
    "start_time": "2024-07-29T15:43:37.127Z"
   },
   {
    "duration": 272,
    "start_time": "2024-07-29T15:43:38.487Z"
   },
   {
    "duration": 13,
    "start_time": "2024-07-29T15:43:39.788Z"
   },
   {
    "duration": 31,
    "start_time": "2024-07-29T15:43:43.941Z"
   },
   {
    "duration": 9,
    "start_time": "2024-07-29T15:43:46.220Z"
   },
   {
    "duration": 35,
    "start_time": "2024-07-29T15:43:47.170Z"
   },
   {
    "duration": 28,
    "start_time": "2024-07-29T15:55:39.178Z"
   },
   {
    "duration": 17,
    "start_time": "2024-07-29T15:59:25.658Z"
   },
   {
    "duration": 17,
    "start_time": "2024-07-29T15:59:37.366Z"
   },
   {
    "duration": 16,
    "start_time": "2024-07-29T16:01:52.842Z"
   },
   {
    "duration": 15,
    "start_time": "2024-07-29T16:02:13.953Z"
   },
   {
    "duration": 93,
    "start_time": "2024-07-29T16:02:47.669Z"
   },
   {
    "duration": 17,
    "start_time": "2024-07-29T16:02:59.909Z"
   },
   {
    "duration": 13,
    "start_time": "2024-07-29T16:03:20.733Z"
   },
   {
    "duration": 17,
    "start_time": "2024-07-29T16:04:31.189Z"
   },
   {
    "duration": 15,
    "start_time": "2024-07-29T16:04:38.152Z"
   },
   {
    "duration": 15,
    "start_time": "2024-07-29T16:05:24.109Z"
   },
   {
    "duration": 8,
    "start_time": "2024-07-29T16:08:36.099Z"
   },
   {
    "duration": 8,
    "start_time": "2024-07-29T16:10:29.976Z"
   },
   {
    "duration": 7,
    "start_time": "2024-07-29T16:10:41.626Z"
   },
   {
    "duration": 16,
    "start_time": "2024-07-29T16:10:53.747Z"
   },
   {
    "duration": 169,
    "start_time": "2024-07-29T16:11:51.346Z"
   },
   {
    "duration": 160,
    "start_time": "2024-07-29T16:12:20.896Z"
   },
   {
    "duration": 149,
    "start_time": "2024-07-29T16:12:44.367Z"
   },
   {
    "duration": 726,
    "start_time": "2024-07-29T16:13:58.246Z"
   },
   {
    "duration": 138,
    "start_time": "2024-07-29T16:14:14.107Z"
   },
   {
    "duration": 281,
    "start_time": "2024-07-29T16:14:30.529Z"
   },
   {
    "duration": 292,
    "start_time": "2024-07-29T16:14:53.242Z"
   },
   {
    "duration": 9,
    "start_time": "2024-07-29T16:15:20.246Z"
   },
   {
    "duration": 11,
    "start_time": "2024-07-29T16:15:47.596Z"
   },
   {
    "duration": 9,
    "start_time": "2024-07-29T16:16:18.454Z"
   },
   {
    "duration": 11,
    "start_time": "2024-07-29T16:16:27.509Z"
   },
   {
    "duration": 340,
    "start_time": "2024-07-29T16:16:32.886Z"
   },
   {
    "duration": 8,
    "start_time": "2024-07-29T16:18:20.116Z"
   },
   {
    "duration": 12,
    "start_time": "2024-07-29T16:18:33.935Z"
   },
   {
    "duration": 9,
    "start_time": "2024-07-29T16:18:48.616Z"
   },
   {
    "duration": 9,
    "start_time": "2024-07-29T16:18:55.845Z"
   },
   {
    "duration": 274,
    "start_time": "2024-07-29T16:19:03.005Z"
   },
   {
    "duration": 282,
    "start_time": "2024-07-29T16:19:31.932Z"
   },
   {
    "duration": 276,
    "start_time": "2024-07-29T16:20:12.782Z"
   },
   {
    "duration": 83,
    "start_time": "2024-07-29T16:26:56.356Z"
   },
   {
    "duration": 68,
    "start_time": "2024-07-29T16:27:41.716Z"
   },
   {
    "duration": 15,
    "start_time": "2024-07-29T16:28:24.179Z"
   },
   {
    "duration": 67,
    "start_time": "2024-07-29T16:28:44.016Z"
   },
   {
    "duration": 67,
    "start_time": "2024-07-29T16:29:01.985Z"
   },
   {
    "duration": 13,
    "start_time": "2024-07-29T16:29:12.117Z"
   },
   {
    "duration": 20,
    "start_time": "2024-07-29T16:29:27.890Z"
   },
   {
    "duration": 263,
    "start_time": "2024-07-29T16:30:36.826Z"
   },
   {
    "duration": 285,
    "start_time": "2024-07-29T16:31:02.153Z"
   },
   {
    "duration": 12,
    "start_time": "2024-07-29T16:35:47.649Z"
   },
   {
    "duration": 63,
    "start_time": "2024-07-29T16:39:16.866Z"
   },
   {
    "duration": 61,
    "start_time": "2024-07-29T16:39:26.029Z"
   },
   {
    "duration": 9,
    "start_time": "2024-07-29T16:39:39.254Z"
   },
   {
    "duration": 64,
    "start_time": "2024-07-29T16:40:34.327Z"
   },
   {
    "duration": 61,
    "start_time": "2024-07-29T16:41:05.985Z"
   },
   {
    "duration": 83,
    "start_time": "2024-07-29T16:41:27.039Z"
   },
   {
    "duration": 62,
    "start_time": "2024-07-29T16:41:36.089Z"
   },
   {
    "duration": 12,
    "start_time": "2024-07-29T16:41:42.389Z"
   },
   {
    "duration": 7,
    "start_time": "2024-07-29T16:42:02.416Z"
   },
   {
    "duration": 112,
    "start_time": "2024-07-29T16:42:17.117Z"
   },
   {
    "duration": 9,
    "start_time": "2024-07-29T16:42:30.396Z"
   },
   {
    "duration": 78,
    "start_time": "2024-07-29T16:43:21.185Z"
   },
   {
    "duration": 106,
    "start_time": "2024-07-29T16:43:32.819Z"
   },
   {
    "duration": 749,
    "start_time": "2024-07-29T16:44:04.195Z"
   },
   {
    "duration": 18,
    "start_time": "2024-07-29T16:44:25.810Z"
   },
   {
    "duration": 61,
    "start_time": "2024-07-29T16:45:09.176Z"
   },
   {
    "duration": 17,
    "start_time": "2024-07-29T16:45:44.024Z"
   },
   {
    "duration": 166,
    "start_time": "2024-07-29T16:46:42.416Z"
   },
   {
    "duration": 154,
    "start_time": "2024-07-29T16:47:15.976Z"
   },
   {
    "duration": 144,
    "start_time": "2024-07-29T16:48:44.236Z"
   },
   {
    "duration": 148,
    "start_time": "2024-07-29T16:48:54.696Z"
   },
   {
    "duration": 155,
    "start_time": "2024-07-29T16:49:21.044Z"
   },
   {
    "duration": 159,
    "start_time": "2024-07-29T16:50:15.135Z"
   },
   {
    "duration": 204,
    "start_time": "2024-07-29T16:50:48.615Z"
   },
   {
    "duration": 291,
    "start_time": "2024-07-29T16:51:07.987Z"
   },
   {
    "duration": 1058,
    "start_time": "2024-07-29T16:52:34.734Z"
   },
   {
    "duration": 892,
    "start_time": "2024-07-29T16:54:01.370Z"
   },
   {
    "duration": 19,
    "start_time": "2024-07-29T16:54:14.560Z"
   },
   {
    "duration": 891,
    "start_time": "2024-07-29T16:54:21.346Z"
   },
   {
    "duration": 94,
    "start_time": "2024-07-29T16:54:38.324Z"
   },
   {
    "duration": 67,
    "start_time": "2024-07-29T16:54:52.532Z"
   },
   {
    "duration": 72,
    "start_time": "2024-07-29T16:55:14.207Z"
   },
   {
    "duration": 1003,
    "start_time": "2024-07-29T16:55:37.569Z"
   },
   {
    "duration": 901,
    "start_time": "2024-07-29T16:55:51.245Z"
   },
   {
    "duration": 741,
    "start_time": "2024-07-29T16:57:16.620Z"
   },
   {
    "duration": 637,
    "start_time": "2024-07-29T16:58:06.637Z"
   },
   {
    "duration": 850,
    "start_time": "2024-07-29T16:58:34.018Z"
   },
   {
    "duration": 63,
    "start_time": "2024-07-29T17:02:29.468Z"
   },
   {
    "duration": 1380,
    "start_time": "2024-07-30T15:24:42.496Z"
   },
   {
    "duration": 236,
    "start_time": "2024-07-30T15:24:44.451Z"
   },
   {
    "duration": 16,
    "start_time": "2024-07-30T15:24:45.496Z"
   },
   {
    "duration": 34,
    "start_time": "2024-07-30T15:24:55.051Z"
   },
   {
    "duration": 11,
    "start_time": "2024-07-30T15:25:05.531Z"
   },
   {
    "duration": 24,
    "start_time": "2024-07-30T15:25:07.000Z"
   },
   {
    "duration": 17,
    "start_time": "2024-07-30T15:25:10.729Z"
   },
   {
    "duration": 345,
    "start_time": "2024-07-30T15:25:13.060Z"
   },
   {
    "duration": 286,
    "start_time": "2024-07-30T15:25:19.029Z"
   },
   {
    "duration": 1001,
    "start_time": "2024-07-30T15:25:25.989Z"
   },
   {
    "duration": 26,
    "start_time": "2024-07-30T15:36:17.022Z"
   },
   {
    "duration": 55,
    "start_time": "2024-07-30T15:40:15.523Z"
   },
   {
    "duration": 51,
    "start_time": "2024-07-30T15:40:15.579Z"
   },
   {
    "duration": 30,
    "start_time": "2024-07-30T15:40:15.631Z"
   },
   {
    "duration": 16,
    "start_time": "2024-07-30T15:40:15.663Z"
   },
   {
    "duration": 331,
    "start_time": "2024-07-30T15:40:15.681Z"
   },
   {
    "duration": 293,
    "start_time": "2024-07-30T15:40:16.014Z"
   },
   {
    "duration": 1019,
    "start_time": "2024-07-30T15:40:16.309Z"
   },
   {
    "duration": 49,
    "start_time": "2024-07-30T15:41:32.300Z"
   },
   {
    "duration": 141,
    "start_time": "2024-07-30T15:41:32.351Z"
   },
   {
    "duration": 16,
    "start_time": "2024-07-30T15:41:32.493Z"
   },
   {
    "duration": 97,
    "start_time": "2024-07-30T15:41:32.513Z"
   },
   {
    "duration": 11,
    "start_time": "2024-07-30T15:41:32.647Z"
   },
   {
    "duration": 63,
    "start_time": "2024-07-30T15:41:32.660Z"
   },
   {
    "duration": 36,
    "start_time": "2024-07-30T15:41:32.725Z"
   },
   {
    "duration": 335,
    "start_time": "2024-07-30T15:41:32.763Z"
   },
   {
    "duration": 301,
    "start_time": "2024-07-30T15:41:33.100Z"
   },
   {
    "duration": 1019,
    "start_time": "2024-07-30T15:41:33.403Z"
   },
   {
    "duration": 309,
    "start_time": "2024-07-30T15:42:53.581Z"
   },
   {
    "duration": 296,
    "start_time": "2024-07-30T15:49:05.856Z"
   },
   {
    "duration": 101,
    "start_time": "2024-07-30T15:49:06.155Z"
   },
   {
    "duration": 0,
    "start_time": "2024-07-30T15:49:06.259Z"
   },
   {
    "duration": 25,
    "start_time": "2024-07-30T15:52:04.619Z"
   },
   {
    "duration": 342,
    "start_time": "2024-07-30T15:53:25.444Z"
   },
   {
    "duration": 8,
    "start_time": "2024-07-30T15:53:25.788Z"
   },
   {
    "duration": 211,
    "start_time": "2024-07-30T15:53:29.931Z"
   },
   {
    "duration": 200,
    "start_time": "2024-07-30T15:54:30.317Z"
   },
   {
    "duration": 17,
    "start_time": "2024-07-30T15:55:19.292Z"
   },
   {
    "duration": 117,
    "start_time": "2024-07-30T15:55:47.043Z"
   },
   {
    "duration": 108,
    "start_time": "2024-07-30T15:56:58.471Z"
   },
   {
    "duration": 114,
    "start_time": "2024-07-30T15:57:11.400Z"
   },
   {
    "duration": 76836,
    "start_time": "2024-07-30T15:58:59.289Z"
   },
   {
    "duration": 10,
    "start_time": "2024-07-30T16:00:16.127Z"
   },
   {
    "duration": 251,
    "start_time": "2024-07-30T16:00:34.547Z"
   },
   {
    "duration": 1081,
    "start_time": "2024-07-30T16:03:08.206Z"
   },
   {
    "duration": 158,
    "start_time": "2024-07-30T16:03:49.328Z"
   },
   {
    "duration": 16,
    "start_time": "2024-07-30T16:09:30.699Z"
   },
   {
    "duration": 175,
    "start_time": "2024-07-30T16:10:06.573Z"
   },
   {
    "duration": 172,
    "start_time": "2024-07-30T16:10:53.807Z"
   },
   {
    "duration": 10,
    "start_time": "2024-07-30T16:10:57.879Z"
   },
   {
    "duration": 9,
    "start_time": "2024-07-30T16:11:07.375Z"
   },
   {
    "duration": 10,
    "start_time": "2024-07-30T16:12:11.917Z"
   },
   {
    "duration": 199,
    "start_time": "2024-07-30T16:12:54.259Z"
   },
   {
    "duration": 37,
    "start_time": "2024-07-30T16:13:16.947Z"
   },
   {
    "duration": 286,
    "start_time": "2024-07-30T16:13:44.869Z"
   },
   {
    "duration": 187,
    "start_time": "2024-07-30T16:14:13.773Z"
   },
   {
    "duration": 209,
    "start_time": "2024-07-30T16:14:20.828Z"
   },
   {
    "duration": 121,
    "start_time": "2024-07-30T16:14:53.388Z"
   },
   {
    "duration": 119,
    "start_time": "2024-07-30T16:15:11.036Z"
   },
   {
    "duration": 193,
    "start_time": "2024-07-30T16:17:44.824Z"
   },
   {
    "duration": 1420,
    "start_time": "2024-07-30T16:20:06.638Z"
   },
   {
    "duration": 9,
    "start_time": "2024-07-30T16:20:25.439Z"
   },
   {
    "duration": 9,
    "start_time": "2024-07-30T16:20:29.716Z"
   },
   {
    "duration": 1446,
    "start_time": "2024-07-30T16:20:36.458Z"
   },
   {
    "duration": 395,
    "start_time": "2024-07-30T16:20:44.065Z"
   },
   {
    "duration": 24,
    "start_time": "2024-07-30T16:20:58.526Z"
   },
   {
    "duration": 12,
    "start_time": "2024-07-30T16:21:05.514Z"
   },
   {
    "duration": 24,
    "start_time": "2024-07-30T16:21:13.756Z"
   },
   {
    "duration": 54,
    "start_time": "2024-07-30T16:23:02.139Z"
   },
   {
    "duration": 22,
    "start_time": "2024-07-30T16:23:11.265Z"
   },
   {
    "duration": 1373,
    "start_time": "2024-07-30T16:23:22.206Z"
   },
   {
    "duration": 22,
    "start_time": "2024-07-30T16:23:53.786Z"
   },
   {
    "duration": 12,
    "start_time": "2024-07-30T16:25:18.276Z"
   },
   {
    "duration": 27,
    "start_time": "2024-07-30T16:26:45.508Z"
   },
   {
    "duration": 21,
    "start_time": "2024-07-30T16:27:09.846Z"
   },
   {
    "duration": 14,
    "start_time": "2024-07-30T16:27:18.546Z"
   },
   {
    "duration": 28,
    "start_time": "2024-07-30T16:27:30.547Z"
   },
   {
    "duration": 28,
    "start_time": "2024-07-30T16:27:44.244Z"
   },
   {
    "duration": 12,
    "start_time": "2024-07-30T16:27:54.676Z"
   },
   {
    "duration": 13,
    "start_time": "2024-07-30T16:28:25.985Z"
   },
   {
    "duration": 12,
    "start_time": "2024-07-30T16:28:45.499Z"
   },
   {
    "duration": 13,
    "start_time": "2024-07-30T16:29:03.521Z"
   },
   {
    "duration": 13,
    "start_time": "2024-07-30T16:31:38.638Z"
   },
   {
    "duration": 11,
    "start_time": "2024-07-30T16:32:29.978Z"
   },
   {
    "duration": 15,
    "start_time": "2024-07-30T16:32:30.779Z"
   },
   {
    "duration": 12,
    "start_time": "2024-07-30T16:32:31.957Z"
   },
   {
    "duration": 23,
    "start_time": "2024-07-30T16:35:45.590Z"
   },
   {
    "duration": 14,
    "start_time": "2024-07-30T16:36:12.816Z"
   },
   {
    "duration": 13,
    "start_time": "2024-07-30T16:36:50.765Z"
   },
   {
    "duration": 6,
    "start_time": "2024-07-30T16:38:27.916Z"
   },
   {
    "duration": 12,
    "start_time": "2024-07-30T16:47:20.187Z"
   },
   {
    "duration": 156,
    "start_time": "2024-07-30T16:48:01.618Z"
   },
   {
    "duration": 143,
    "start_time": "2024-07-30T16:48:22.336Z"
   },
   {
    "duration": 136,
    "start_time": "2024-07-30T16:48:33.307Z"
   },
   {
    "duration": 131,
    "start_time": "2024-07-30T16:48:39.547Z"
   },
   {
    "duration": 236,
    "start_time": "2024-07-30T16:49:50.648Z"
   },
   {
    "duration": 363,
    "start_time": "2024-07-30T16:51:07.702Z"
   },
   {
    "duration": 251,
    "start_time": "2024-07-30T16:52:10.398Z"
   },
   {
    "duration": 312,
    "start_time": "2024-07-30T16:52:21.078Z"
   },
   {
    "duration": 366,
    "start_time": "2024-07-30T16:52:31.169Z"
   },
   {
    "duration": 316,
    "start_time": "2024-07-30T16:52:54.417Z"
   },
   {
    "duration": 232,
    "start_time": "2024-07-30T16:53:08.236Z"
   },
   {
    "duration": 305,
    "start_time": "2024-07-30T16:53:22.573Z"
   },
   {
    "duration": 303,
    "start_time": "2024-07-30T16:54:33.686Z"
   },
   {
    "duration": 299,
    "start_time": "2024-07-30T16:54:46.034Z"
   },
   {
    "duration": 277,
    "start_time": "2024-07-30T16:55:48.727Z"
   },
   {
    "duration": 77,
    "start_time": "2024-07-30T16:57:17.587Z"
   },
   {
    "duration": 1217,
    "start_time": "2024-07-30T16:57:32.036Z"
   },
   {
    "duration": 223,
    "start_time": "2024-07-30T16:57:33.255Z"
   },
   {
    "duration": 17,
    "start_time": "2024-07-30T16:57:33.480Z"
   },
   {
    "duration": 35,
    "start_time": "2024-07-30T16:57:33.556Z"
   },
   {
    "duration": 11,
    "start_time": "2024-07-30T16:57:33.885Z"
   },
   {
    "duration": 24,
    "start_time": "2024-07-30T16:57:34.053Z"
   },
   {
    "duration": 16,
    "start_time": "2024-07-30T16:57:34.366Z"
   },
   {
    "duration": 325,
    "start_time": "2024-07-30T16:57:34.876Z"
   },
   {
    "duration": 317,
    "start_time": "2024-07-30T16:57:35.206Z"
   },
   {
    "duration": 997,
    "start_time": "2024-07-30T16:57:35.559Z"
   },
   {
    "duration": 290,
    "start_time": "2024-07-30T16:57:36.558Z"
   },
   {
    "duration": 326,
    "start_time": "2024-07-30T16:57:36.850Z"
   },
   {
    "duration": 112,
    "start_time": "2024-07-30T16:57:37.178Z"
   },
   {
    "duration": 61,
    "start_time": "2024-07-30T16:59:17.477Z"
   },
   {
    "duration": 245,
    "start_time": "2024-07-30T16:59:28.798Z"
   },
   {
    "duration": 186,
    "start_time": "2024-07-30T17:00:42.419Z"
   },
   {
    "duration": 13,
    "start_time": "2024-07-30T17:01:11.490Z"
   },
   {
    "duration": 15,
    "start_time": "2024-07-30T17:01:31.685Z"
   },
   {
    "duration": 197,
    "start_time": "2024-07-30T17:03:03.814Z"
   },
   {
    "duration": 3,
    "start_time": "2024-07-30T17:03:18.969Z"
   },
   {
    "duration": 202,
    "start_time": "2024-07-30T17:03:27.037Z"
   },
   {
    "duration": 13,
    "start_time": "2024-07-30T17:04:05.485Z"
   },
   {
    "duration": 241,
    "start_time": "2024-07-30T17:04:18.829Z"
   },
   {
    "duration": 108,
    "start_time": "2024-07-30T17:04:49.249Z"
   },
   {
    "duration": 100,
    "start_time": "2024-07-30T17:06:09.899Z"
   },
   {
    "duration": 192,
    "start_time": "2024-07-30T17:06:23.256Z"
   },
   {
    "duration": 115,
    "start_time": "2024-07-30T17:07:45.697Z"
   },
   {
    "duration": 114,
    "start_time": "2024-07-30T17:07:55.607Z"
   },
   {
    "duration": 9,
    "start_time": "2024-07-30T17:10:07.457Z"
   },
   {
    "duration": 127,
    "start_time": "2024-07-30T17:10:23.587Z"
   },
   {
    "duration": 498,
    "start_time": "2024-07-30T17:11:05.368Z"
   },
   {
    "duration": 127,
    "start_time": "2024-07-30T17:11:31.377Z"
   },
   {
    "duration": 102,
    "start_time": "2024-07-30T17:11:51.654Z"
   },
   {
    "duration": 620,
    "start_time": "2024-07-30T17:11:56.975Z"
   },
   {
    "duration": 506,
    "start_time": "2024-07-30T17:12:51.328Z"
   },
   {
    "duration": 479,
    "start_time": "2024-07-30T17:12:57.727Z"
   },
   {
    "duration": 600,
    "start_time": "2024-07-30T17:13:38.258Z"
   },
   {
    "duration": 504,
    "start_time": "2024-07-30T17:13:47.528Z"
   },
   {
    "duration": 531,
    "start_time": "2024-07-30T17:13:54.257Z"
   },
   {
    "duration": 65,
    "start_time": "2024-07-30T17:14:04.177Z"
   },
   {
    "duration": 622,
    "start_time": "2024-07-30T17:14:08.997Z"
   },
   {
    "duration": 467,
    "start_time": "2024-07-30T17:14:22.119Z"
   },
   {
    "duration": 14,
    "start_time": "2024-07-30T17:23:14.908Z"
   },
   {
    "duration": 606,
    "start_time": "2024-07-30T17:23:28.503Z"
   },
   {
    "duration": 245,
    "start_time": "2024-07-30T17:24:18.350Z"
   },
   {
    "duration": 223,
    "start_time": "2024-07-30T17:25:54.724Z"
   },
   {
    "duration": 269,
    "start_time": "2024-07-30T17:27:21.676Z"
   },
   {
    "duration": 246,
    "start_time": "2024-07-30T17:27:31.465Z"
   },
   {
    "duration": 221,
    "start_time": "2024-07-30T17:27:51.978Z"
   },
   {
    "duration": 338,
    "start_time": "2024-07-30T17:28:13.798Z"
   },
   {
    "duration": 234,
    "start_time": "2024-07-30T17:28:28.619Z"
   },
   {
    "duration": 168,
    "start_time": "2024-07-30T17:31:28.722Z"
   },
   {
    "duration": 177,
    "start_time": "2024-07-30T17:32:07.522Z"
   },
   {
    "duration": 156,
    "start_time": "2024-07-30T17:32:21.567Z"
   },
   {
    "duration": 2390,
    "start_time": "2024-07-30T17:33:17.483Z"
   },
   {
    "duration": 2569,
    "start_time": "2024-07-30T17:34:01.156Z"
   },
   {
    "duration": 17,
    "start_time": "2024-07-30T17:35:16.050Z"
   },
   {
    "duration": 1254,
    "start_time": "2024-07-31T17:24:14.077Z"
   },
   {
    "duration": 3,
    "start_time": "2024-07-31T17:24:17.618Z"
   },
   {
    "duration": 284,
    "start_time": "2024-07-31T17:24:18.420Z"
   },
   {
    "duration": 14,
    "start_time": "2024-07-31T17:24:19.265Z"
   },
   {
    "duration": 29,
    "start_time": "2024-07-31T17:24:23.827Z"
   },
   {
    "duration": 10,
    "start_time": "2024-07-31T17:24:26.041Z"
   },
   {
    "duration": 22,
    "start_time": "2024-07-31T17:24:27.492Z"
   },
   {
    "duration": 15,
    "start_time": "2024-07-31T17:24:29.542Z"
   },
   {
    "duration": 272,
    "start_time": "2024-07-31T17:24:34.743Z"
   },
   {
    "duration": 890,
    "start_time": "2024-07-31T17:25:40.881Z"
   },
   {
    "duration": 183,
    "start_time": "2024-07-31T17:25:42.957Z"
   },
   {
    "duration": 353,
    "start_time": "2024-07-31T17:25:43.604Z"
   },
   {
    "duration": 223,
    "start_time": "2024-07-31T17:25:44.290Z"
   },
   {
    "duration": 2194,
    "start_time": "2024-07-31T17:25:46.304Z"
   },
   {
    "duration": 1489,
    "start_time": "2024-07-31T17:31:24.388Z"
   },
   {
    "duration": 94,
    "start_time": "2024-07-31T17:33:08.008Z"
   },
   {
    "duration": 538,
    "start_time": "2024-07-31T17:33:22.964Z"
   },
   {
    "duration": 1445,
    "start_time": "2024-07-31T17:34:10.353Z"
   },
   {
    "duration": 411,
    "start_time": "2024-07-31T17:34:18.274Z"
   },
   {
    "duration": 457,
    "start_time": "2024-07-31T17:34:24.532Z"
   },
   {
    "duration": 434,
    "start_time": "2024-07-31T17:34:36.369Z"
   },
   {
    "duration": 426,
    "start_time": "2024-07-31T17:36:10.533Z"
   },
   {
    "duration": 404,
    "start_time": "2024-07-31T17:36:24.738Z"
   },
   {
    "duration": 321,
    "start_time": "2024-07-31T17:37:18.479Z"
   },
   {
    "duration": 327,
    "start_time": "2024-07-31T17:38:21.853Z"
   },
   {
    "duration": 308,
    "start_time": "2024-07-31T17:38:34.658Z"
   },
   {
    "duration": 327,
    "start_time": "2024-07-31T17:38:46.446Z"
   },
   {
    "duration": 2161,
    "start_time": "2024-07-31T17:41:18.453Z"
   },
   {
    "duration": 2134,
    "start_time": "2024-07-31T17:41:28.409Z"
   },
   {
    "duration": 229,
    "start_time": "2024-07-31T17:44:19.905Z"
   },
   {
    "duration": 321,
    "start_time": "2024-07-31T17:44:37.505Z"
   },
   {
    "duration": 691,
    "start_time": "2024-07-31T17:44:51.275Z"
   },
   {
    "duration": 76,
    "start_time": "2024-07-31T17:45:04.795Z"
   },
   {
    "duration": 940,
    "start_time": "2024-07-31T17:45:12.746Z"
   },
   {
    "duration": 737,
    "start_time": "2024-07-31T17:45:18.829Z"
   },
   {
    "duration": 892,
    "start_time": "2024-07-31T17:45:23.976Z"
   },
   {
    "duration": 773,
    "start_time": "2024-07-31T17:45:31.073Z"
   },
   {
    "duration": 994,
    "start_time": "2024-07-31T17:46:49.800Z"
   },
   {
    "duration": 793,
    "start_time": "2024-07-31T17:47:08.254Z"
   },
   {
    "duration": 976,
    "start_time": "2024-07-31T17:47:17.681Z"
   },
   {
    "duration": 2262,
    "start_time": "2024-07-31T17:53:36.571Z"
   },
   {
    "duration": 2275,
    "start_time": "2024-07-31T17:54:42.107Z"
   },
   {
    "duration": 2019,
    "start_time": "2024-07-31T17:55:03.585Z"
   },
   {
    "duration": 351,
    "start_time": "2024-07-31T17:56:59.619Z"
   },
   {
    "duration": 111,
    "start_time": "2024-07-31T17:57:14.171Z"
   },
   {
    "duration": 2181,
    "start_time": "2024-07-31T17:57:20.401Z"
   },
   {
    "duration": 605,
    "start_time": "2024-07-31T18:17:55.619Z"
   },
   {
    "duration": 797,
    "start_time": "2024-07-31T18:18:20.289Z"
   },
   {
    "duration": 609,
    "start_time": "2024-07-31T18:18:35.533Z"
   },
   {
    "duration": 872,
    "start_time": "2024-07-31T18:18:52.761Z"
   },
   {
    "duration": 699,
    "start_time": "2024-07-31T18:19:22.963Z"
   },
   {
    "duration": 769,
    "start_time": "2024-07-31T18:20:42.043Z"
   },
   {
    "duration": 970,
    "start_time": "2024-07-31T18:25:52.152Z"
   },
   {
    "duration": 603,
    "start_time": "2024-07-31T18:31:05.789Z"
   },
   {
    "duration": 211,
    "start_time": "2024-07-31T18:34:13.978Z"
   },
   {
    "duration": 208,
    "start_time": "2024-07-31T18:34:47.145Z"
   },
   {
    "duration": 114,
    "start_time": "2024-07-31T18:35:29.746Z"
   },
   {
    "duration": 107,
    "start_time": "2024-07-31T18:36:13.456Z"
   },
   {
    "duration": 209,
    "start_time": "2024-07-31T18:36:34.125Z"
   },
   {
    "duration": 402,
    "start_time": "2024-07-31T18:36:58.890Z"
   },
   {
    "duration": 67,
    "start_time": "2024-07-31T18:37:14.332Z"
   },
   {
    "duration": 62,
    "start_time": "2024-07-31T18:37:33.212Z"
   },
   {
    "duration": 217,
    "start_time": "2024-07-31T18:37:46.882Z"
   },
   {
    "duration": 219,
    "start_time": "2024-07-31T18:37:59.731Z"
   },
   {
    "duration": 214,
    "start_time": "2024-07-31T18:39:18.987Z"
   },
   {
    "duration": 219,
    "start_time": "2024-07-31T18:40:51.174Z"
   },
   {
    "duration": 126,
    "start_time": "2024-07-31T18:42:25.793Z"
   },
   {
    "duration": 2083,
    "start_time": "2024-07-31T18:43:06.956Z"
   },
   {
    "duration": 26,
    "start_time": "2024-07-31T18:43:35.596Z"
   },
   {
    "duration": 1875,
    "start_time": "2024-07-31T18:43:52.638Z"
   },
   {
    "duration": 23,
    "start_time": "2024-07-31T18:45:56.288Z"
   },
   {
    "duration": 18,
    "start_time": "2024-07-31T18:47:06.747Z"
   },
   {
    "duration": 7,
    "start_time": "2024-07-31T18:47:18.422Z"
   },
   {
    "duration": 19,
    "start_time": "2024-07-31T18:47:34.268Z"
   },
   {
    "duration": 9,
    "start_time": "2024-07-31T18:48:42.366Z"
   },
   {
    "duration": 11,
    "start_time": "2024-07-31T18:49:37.864Z"
   },
   {
    "duration": 26,
    "start_time": "2024-07-31T18:58:14.042Z"
   },
   {
    "duration": 25,
    "start_time": "2024-07-31T18:58:24.990Z"
   },
   {
    "duration": 28,
    "start_time": "2024-07-31T18:58:51.037Z"
   },
   {
    "duration": 70,
    "start_time": "2024-07-31T18:59:33.938Z"
   },
   {
    "duration": 37,
    "start_time": "2024-07-31T18:59:38.803Z"
   },
   {
    "duration": 31,
    "start_time": "2024-07-31T18:59:56.575Z"
   },
   {
    "duration": 12,
    "start_time": "2024-07-31T19:00:07.271Z"
   },
   {
    "duration": 27,
    "start_time": "2024-07-31T19:00:29.262Z"
   },
   {
    "duration": 64,
    "start_time": "2024-07-31T19:00:44.623Z"
   },
   {
    "duration": 38,
    "start_time": "2024-07-31T19:00:50.145Z"
   },
   {
    "duration": 17,
    "start_time": "2024-07-31T19:03:55.981Z"
   },
   {
    "duration": 69,
    "start_time": "2024-07-31T19:05:48.981Z"
   },
   {
    "duration": 4,
    "start_time": "2024-07-31T19:06:15.711Z"
   },
   {
    "duration": 7,
    "start_time": "2024-07-31T19:06:23.065Z"
   },
   {
    "duration": 89,
    "start_time": "2024-07-31T19:07:00.838Z"
   },
   {
    "duration": 14,
    "start_time": "2024-07-31T19:07:01.545Z"
   },
   {
    "duration": 30,
    "start_time": "2024-07-31T19:07:04.605Z"
   },
   {
    "duration": 9,
    "start_time": "2024-07-31T19:07:07.274Z"
   },
   {
    "duration": 7,
    "start_time": "2024-07-31T19:07:08.182Z"
   },
   {
    "duration": 9,
    "start_time": "2024-07-31T19:07:29.025Z"
   },
   {
    "duration": 2,
    "start_time": "2024-07-31T19:07:37.601Z"
   },
   {
    "duration": 82,
    "start_time": "2024-07-31T19:07:39.084Z"
   },
   {
    "duration": 13,
    "start_time": "2024-07-31T19:07:40.291Z"
   },
   {
    "duration": 29,
    "start_time": "2024-07-31T19:08:03.366Z"
   },
   {
    "duration": 9,
    "start_time": "2024-07-31T19:08:19.208Z"
   },
   {
    "duration": 9,
    "start_time": "2024-07-31T19:08:21.514Z"
   },
   {
    "duration": 9,
    "start_time": "2024-07-31T19:13:33.554Z"
   },
   {
    "duration": 88,
    "start_time": "2024-07-31T19:13:40.646Z"
   },
   {
    "duration": 15,
    "start_time": "2024-07-31T19:13:41.727Z"
   },
   {
    "duration": 30,
    "start_time": "2024-07-31T19:13:44.132Z"
   },
   {
    "duration": 11,
    "start_time": "2024-07-31T19:13:46.486Z"
   },
   {
    "duration": 9,
    "start_time": "2024-07-31T19:13:47.429Z"
   },
   {
    "duration": 1402,
    "start_time": "2024-08-01T14:50:01.725Z"
   },
   {
    "duration": 235,
    "start_time": "2024-08-01T14:50:03.820Z"
   },
   {
    "duration": 15,
    "start_time": "2024-08-01T14:50:06.605Z"
   },
   {
    "duration": 36,
    "start_time": "2024-08-01T14:50:48.010Z"
   },
   {
    "duration": 39,
    "start_time": "2024-08-01T14:54:00.525Z"
   },
   {
    "duration": 94,
    "start_time": "2024-08-01T14:54:34.072Z"
   },
   {
    "duration": 14,
    "start_time": "2024-08-01T14:54:37.285Z"
   },
   {
    "duration": 41,
    "start_time": "2024-08-01T14:55:03.951Z"
   },
   {
    "duration": 30,
    "start_time": "2024-08-01T15:15:57.227Z"
   },
   {
    "duration": 30,
    "start_time": "2024-08-01T15:16:32.611Z"
   },
   {
    "duration": 34,
    "start_time": "2024-08-01T15:17:18.701Z"
   },
   {
    "duration": 24,
    "start_time": "2024-08-01T15:22:10.951Z"
   },
   {
    "duration": 10,
    "start_time": "2024-08-01T15:23:26.821Z"
   },
   {
    "duration": 10,
    "start_time": "2024-08-01T15:23:59.701Z"
   },
   {
    "duration": 9,
    "start_time": "2024-08-01T15:24:12.611Z"
   },
   {
    "duration": 118,
    "start_time": "2024-08-01T15:24:21.481Z"
   },
   {
    "duration": 19,
    "start_time": "2024-08-01T15:24:48.249Z"
   },
   {
    "duration": 10,
    "start_time": "2024-08-01T15:25:00.101Z"
   },
   {
    "duration": 55,
    "start_time": "2024-08-01T15:25:46.474Z"
   },
   {
    "duration": 11,
    "start_time": "2024-08-01T15:26:02.518Z"
   },
   {
    "duration": 10,
    "start_time": "2024-08-01T15:26:06.886Z"
   },
   {
    "duration": 31,
    "start_time": "2024-08-01T15:26:28.118Z"
   },
   {
    "duration": 29,
    "start_time": "2024-08-01T15:26:45.383Z"
   },
   {
    "duration": 4,
    "start_time": "2024-08-01T15:27:48.885Z"
   },
   {
    "duration": 13,
    "start_time": "2024-08-01T15:27:55.727Z"
   },
   {
    "duration": 9,
    "start_time": "2024-08-01T15:30:36.959Z"
   },
   {
    "duration": 20,
    "start_time": "2024-08-01T15:30:44.649Z"
   },
   {
    "duration": 9,
    "start_time": "2024-08-01T15:33:16.731Z"
   },
   {
    "duration": 8,
    "start_time": "2024-08-01T15:33:24.213Z"
   },
   {
    "duration": 1046,
    "start_time": "2024-08-01T15:33:35.828Z"
   },
   {
    "duration": 69,
    "start_time": "2024-08-01T15:34:26.694Z"
   },
   {
    "duration": 11,
    "start_time": "2024-08-01T15:34:31.949Z"
   },
   {
    "duration": 16,
    "start_time": "2024-08-01T15:35:53.959Z"
   },
   {
    "duration": 16,
    "start_time": "2024-08-01T15:36:27.455Z"
   },
   {
    "duration": 11,
    "start_time": "2024-08-01T15:36:39.769Z"
   },
   {
    "duration": 11,
    "start_time": "2024-08-01T15:37:33.012Z"
   },
   {
    "duration": 17,
    "start_time": "2024-08-01T15:38:25.867Z"
   },
   {
    "duration": 17,
    "start_time": "2024-08-01T15:38:37.534Z"
   },
   {
    "duration": 11,
    "start_time": "2024-08-01T15:38:47.054Z"
   },
   {
    "duration": 16,
    "start_time": "2024-08-01T15:39:11.827Z"
   },
   {
    "duration": 7,
    "start_time": "2024-08-01T15:39:41.531Z"
   },
   {
    "duration": 7,
    "start_time": "2024-08-01T15:40:10.730Z"
   },
   {
    "duration": 22,
    "start_time": "2024-08-01T15:40:49.375Z"
   },
   {
    "duration": 11,
    "start_time": "2024-08-01T15:41:10.481Z"
   },
   {
    "duration": 7,
    "start_time": "2024-08-01T15:41:43.524Z"
   },
   {
    "duration": 12,
    "start_time": "2024-08-01T15:42:02.203Z"
   },
   {
    "duration": 11,
    "start_time": "2024-08-01T15:42:12.889Z"
   },
   {
    "duration": 19,
    "start_time": "2024-08-01T15:42:21.891Z"
   },
   {
    "duration": 17,
    "start_time": "2024-08-01T15:42:48.494Z"
   },
   {
    "duration": 10,
    "start_time": "2024-08-01T15:43:51.651Z"
   },
   {
    "duration": 334,
    "start_time": "2024-08-01T15:43:59.788Z"
   },
   {
    "duration": 11,
    "start_time": "2024-08-01T15:44:26.885Z"
   },
   {
    "duration": 8,
    "start_time": "2024-08-01T15:45:07.186Z"
   },
   {
    "duration": 10,
    "start_time": "2024-08-01T15:45:39.923Z"
   },
   {
    "duration": 62,
    "start_time": "2024-08-01T15:46:13.547Z"
   },
   {
    "duration": 117,
    "start_time": "2024-08-01T15:46:30.587Z"
   },
   {
    "duration": 24,
    "start_time": "2024-08-01T15:46:45.154Z"
   },
   {
    "duration": 15,
    "start_time": "2024-08-01T15:47:33.436Z"
   },
   {
    "duration": 6,
    "start_time": "2024-08-01T15:48:15.877Z"
   },
   {
    "duration": 13,
    "start_time": "2024-08-01T15:50:10.077Z"
   },
   {
    "duration": 27,
    "start_time": "2024-08-01T15:50:31.016Z"
   },
   {
    "duration": 29,
    "start_time": "2024-08-01T15:50:54.865Z"
   },
   {
    "duration": 13,
    "start_time": "2024-08-01T15:51:18.077Z"
   },
   {
    "duration": 23,
    "start_time": "2024-08-01T15:51:36.822Z"
   },
   {
    "duration": 18,
    "start_time": "2024-08-01T15:51:54.845Z"
   },
   {
    "duration": 14,
    "start_time": "2024-08-01T15:52:17.504Z"
   },
   {
    "duration": 19,
    "start_time": "2024-08-01T15:52:36.299Z"
   },
   {
    "duration": 14,
    "start_time": "2024-08-01T15:52:47.760Z"
   },
   {
    "duration": 25,
    "start_time": "2024-08-01T15:54:03.915Z"
   },
   {
    "duration": 26,
    "start_time": "2024-08-01T15:54:24.288Z"
   },
   {
    "duration": 23,
    "start_time": "2024-08-01T15:54:54.579Z"
   },
   {
    "duration": 6,
    "start_time": "2024-08-01T15:55:10.009Z"
   },
   {
    "duration": 9,
    "start_time": "2024-08-01T15:55:28.076Z"
   },
   {
    "duration": 17,
    "start_time": "2024-08-01T15:55:41.179Z"
   },
   {
    "duration": 13,
    "start_time": "2024-08-01T15:56:10.150Z"
   },
   {
    "duration": 12,
    "start_time": "2024-08-01T15:56:24.510Z"
   },
   {
    "duration": 9,
    "start_time": "2024-08-01T15:56:35.180Z"
   },
   {
    "duration": 7,
    "start_time": "2024-08-01T15:56:52.680Z"
   },
   {
    "duration": 18,
    "start_time": "2024-08-01T15:57:11.470Z"
   },
   {
    "duration": 16,
    "start_time": "2024-08-01T15:58:21.941Z"
   },
   {
    "duration": 18,
    "start_time": "2024-08-01T15:58:38.439Z"
   },
   {
    "duration": 743,
    "start_time": "2024-08-01T15:59:04.020Z"
   },
   {
    "duration": 787,
    "start_time": "2024-08-01T15:59:14.940Z"
   },
   {
    "duration": 1040,
    "start_time": "2024-08-01T15:59:43.240Z"
   },
   {
    "duration": 5,
    "start_time": "2024-08-01T16:03:21.430Z"
   },
   {
    "duration": 9,
    "start_time": "2024-08-01T16:03:38.825Z"
   },
   {
    "duration": 8,
    "start_time": "2024-08-01T16:03:56.392Z"
   },
   {
    "duration": 22,
    "start_time": "2024-08-01T16:04:26.512Z"
   },
   {
    "duration": 20,
    "start_time": "2024-08-01T16:05:04.525Z"
   },
   {
    "duration": 21,
    "start_time": "2024-08-01T16:10:23.133Z"
   },
   {
    "duration": 9,
    "start_time": "2024-08-01T16:11:00.072Z"
   },
   {
    "duration": 18,
    "start_time": "2024-08-01T16:11:09.122Z"
   },
   {
    "duration": 24,
    "start_time": "2024-08-01T16:11:27.163Z"
   },
   {
    "duration": 31,
    "start_time": "2024-08-01T16:11:59.434Z"
   },
   {
    "duration": 15,
    "start_time": "2024-08-01T16:15:18.630Z"
   },
   {
    "duration": 13,
    "start_time": "2024-08-01T16:15:42.708Z"
   },
   {
    "duration": 9,
    "start_time": "2024-08-01T16:15:57.833Z"
   },
   {
    "duration": 8,
    "start_time": "2024-08-01T16:16:13.833Z"
   },
   {
    "duration": 15,
    "start_time": "2024-08-01T16:16:40.244Z"
   },
   {
    "duration": 564,
    "start_time": "2024-08-01T16:17:23.788Z"
   },
   {
    "duration": 29,
    "start_time": "2024-08-01T16:17:48.103Z"
   },
   {
    "duration": 56,
    "start_time": "2024-08-01T16:19:06.855Z"
   },
   {
    "duration": 57,
    "start_time": "2024-08-01T16:19:17.862Z"
   },
   {
    "duration": 9,
    "start_time": "2024-08-01T16:19:27.285Z"
   },
   {
    "duration": 12,
    "start_time": "2024-08-01T16:19:34.879Z"
   },
   {
    "duration": 21,
    "start_time": "2024-08-01T16:19:40.454Z"
   },
   {
    "duration": 21,
    "start_time": "2024-08-01T16:21:25.154Z"
   },
   {
    "duration": 21,
    "start_time": "2024-08-01T16:22:09.624Z"
   },
   {
    "duration": 16,
    "start_time": "2024-08-01T16:22:42.226Z"
   },
   {
    "duration": 21,
    "start_time": "2024-08-01T16:22:48.681Z"
   },
   {
    "duration": 89,
    "start_time": "2024-08-01T16:23:35.204Z"
   },
   {
    "duration": 57,
    "start_time": "2024-08-01T16:23:41.924Z"
   },
   {
    "duration": 55,
    "start_time": "2024-08-01T16:24:13.229Z"
   },
   {
    "duration": 17,
    "start_time": "2024-08-01T16:24:34.625Z"
   },
   {
    "duration": 19,
    "start_time": "2024-08-01T16:25:07.494Z"
   },
   {
    "duration": 18,
    "start_time": "2024-08-01T16:25:27.665Z"
   },
   {
    "duration": 23,
    "start_time": "2024-08-01T16:25:55.517Z"
   },
   {
    "duration": 17,
    "start_time": "2024-08-01T16:26:41.365Z"
   },
   {
    "duration": 20,
    "start_time": "2024-08-01T16:27:03.626Z"
   },
   {
    "duration": 29,
    "start_time": "2024-08-01T16:28:26.966Z"
   },
   {
    "duration": 45,
    "start_time": "2024-08-01T16:28:47.727Z"
   },
   {
    "duration": 27,
    "start_time": "2024-08-01T16:30:45.989Z"
   },
   {
    "duration": 27,
    "start_time": "2024-08-01T16:30:57.839Z"
   },
   {
    "duration": 26,
    "start_time": "2024-08-01T16:31:14.376Z"
   },
   {
    "duration": 38,
    "start_time": "2024-08-01T16:33:48.827Z"
   },
   {
    "duration": 27,
    "start_time": "2024-08-01T16:34:18.259Z"
   },
   {
    "duration": 27,
    "start_time": "2024-08-01T16:34:53.410Z"
   },
   {
    "duration": 40,
    "start_time": "2024-08-01T16:35:52.721Z"
   },
   {
    "duration": 32,
    "start_time": "2024-08-01T16:36:12.525Z"
   },
   {
    "duration": 33,
    "start_time": "2024-08-01T16:37:02.842Z"
   },
   {
    "duration": 30,
    "start_time": "2024-08-01T16:37:47.706Z"
   },
   {
    "duration": 35,
    "start_time": "2024-08-01T16:42:40.621Z"
   },
   {
    "duration": 34,
    "start_time": "2024-08-01T16:42:50.180Z"
   },
   {
    "duration": 3,
    "start_time": "2024-08-01T16:47:01.010Z"
   },
   {
    "duration": 36,
    "start_time": "2024-08-01T16:47:08.788Z"
   },
   {
    "duration": 23,
    "start_time": "2024-08-01T16:49:04.238Z"
   },
   {
    "duration": 146,
    "start_time": "2024-08-01T16:53:30.134Z"
   },
   {
    "duration": 20,
    "start_time": "2024-08-01T16:55:31.565Z"
   },
   {
    "duration": 19,
    "start_time": "2024-08-01T16:55:37.138Z"
   },
   {
    "duration": 11,
    "start_time": "2024-08-01T16:55:46.809Z"
   },
   {
    "duration": 16,
    "start_time": "2024-08-01T16:56:01.358Z"
   },
   {
    "duration": 11,
    "start_time": "2024-08-01T16:56:24.984Z"
   },
   {
    "duration": 7,
    "start_time": "2024-08-01T16:57:00.838Z"
   },
   {
    "duration": 143,
    "start_time": "2024-08-01T16:57:38.063Z"
   },
   {
    "duration": 141,
    "start_time": "2024-08-01T16:57:50.088Z"
   },
   {
    "duration": 138,
    "start_time": "2024-08-01T16:58:10.542Z"
   },
   {
    "duration": 5,
    "start_time": "2024-08-01T16:58:26.335Z"
   },
   {
    "duration": 10,
    "start_time": "2024-08-01T16:58:57.954Z"
   },
   {
    "duration": 976,
    "start_time": "2024-08-01T16:59:35.923Z"
   },
   {
    "duration": 9,
    "start_time": "2024-08-01T16:59:50.083Z"
   },
   {
    "duration": 20,
    "start_time": "2024-08-01T17:00:16.362Z"
   },
   {
    "duration": 26,
    "start_time": "2024-08-01T17:00:25.969Z"
   },
   {
    "duration": 18,
    "start_time": "2024-08-01T17:00:57.099Z"
   },
   {
    "duration": 11,
    "start_time": "2024-08-01T17:01:08.407Z"
   },
   {
    "duration": 23,
    "start_time": "2024-08-01T17:01:27.473Z"
   },
   {
    "duration": 20,
    "start_time": "2024-08-01T17:01:43.528Z"
   },
   {
    "duration": 3,
    "start_time": "2024-08-01T17:04:51.720Z"
   },
   {
    "duration": 3,
    "start_time": "2024-08-01T17:04:57.219Z"
   },
   {
    "duration": 9,
    "start_time": "2024-08-01T17:05:03.941Z"
   },
   {
    "duration": 12,
    "start_time": "2024-08-01T17:05:36.467Z"
   },
   {
    "duration": 25,
    "start_time": "2024-08-01T17:07:17.276Z"
   },
   {
    "duration": 20,
    "start_time": "2024-08-01T17:07:25.653Z"
   },
   {
    "duration": 22,
    "start_time": "2024-08-01T17:07:48.665Z"
   },
   {
    "duration": 22,
    "start_time": "2024-08-01T17:08:51.238Z"
   },
   {
    "duration": 23,
    "start_time": "2024-08-01T17:08:56.626Z"
   },
   {
    "duration": 24,
    "start_time": "2024-08-01T17:09:17.989Z"
   },
   {
    "duration": 103,
    "start_time": "2024-08-01T17:09:38.328Z"
   },
   {
    "duration": 21,
    "start_time": "2024-08-01T17:09:57.882Z"
   },
   {
    "duration": 14,
    "start_time": "2024-08-01T17:10:29.438Z"
   },
   {
    "duration": 14,
    "start_time": "2024-08-01T17:11:26.416Z"
   },
   {
    "duration": 9,
    "start_time": "2024-08-01T17:11:33.690Z"
   },
   {
    "duration": 34,
    "start_time": "2024-08-01T17:11:42.713Z"
   },
   {
    "duration": 19,
    "start_time": "2024-08-01T17:12:04.027Z"
   },
   {
    "duration": 21,
    "start_time": "2024-08-01T17:13:50.266Z"
   },
   {
    "duration": 24,
    "start_time": "2024-08-01T17:16:49.446Z"
   },
   {
    "duration": 14,
    "start_time": "2024-08-01T17:16:59.579Z"
   },
   {
    "duration": 14,
    "start_time": "2024-08-01T17:17:13.811Z"
   },
   {
    "duration": 19,
    "start_time": "2024-08-01T17:17:29.146Z"
   },
   {
    "duration": 18,
    "start_time": "2024-08-01T17:18:08.051Z"
   },
   {
    "duration": 102,
    "start_time": "2024-08-01T17:18:40.255Z"
   },
   {
    "duration": 15,
    "start_time": "2024-08-01T17:18:40.965Z"
   },
   {
    "duration": 42,
    "start_time": "2024-08-01T17:18:43.531Z"
   },
   {
    "duration": 9,
    "start_time": "2024-08-01T17:18:43.979Z"
   },
   {
    "duration": 30,
    "start_time": "2024-08-01T17:18:45.144Z"
   },
   {
    "duration": 25,
    "start_time": "2024-08-01T17:18:45.942Z"
   },
   {
    "duration": 29,
    "start_time": "2024-08-01T17:18:46.964Z"
   },
   {
    "duration": 143,
    "start_time": "2024-08-01T17:18:48.141Z"
   },
   {
    "duration": 18,
    "start_time": "2024-08-01T17:18:48.596Z"
   },
   {
    "duration": 38,
    "start_time": "2024-08-01T17:18:52.353Z"
   },
   {
    "duration": 16,
    "start_time": "2024-08-01T17:19:21.224Z"
   },
   {
    "duration": 16,
    "start_time": "2024-08-01T17:20:11.153Z"
   },
   {
    "duration": 22,
    "start_time": "2024-08-01T17:22:15.354Z"
   },
   {
    "duration": 20,
    "start_time": "2024-08-01T17:22:37.752Z"
   },
   {
    "duration": 20,
    "start_time": "2024-08-01T17:22:38.714Z"
   },
   {
    "duration": 144,
    "start_time": "2024-08-01T17:22:39.195Z"
   },
   {
    "duration": 14,
    "start_time": "2024-08-01T17:22:39.424Z"
   },
   {
    "duration": 17,
    "start_time": "2024-08-01T17:22:40.474Z"
   },
   {
    "duration": 21,
    "start_time": "2024-08-01T17:23:26.473Z"
   },
   {
    "duration": 3,
    "start_time": "2024-08-01T17:30:33.135Z"
   },
   {
    "duration": 111,
    "start_time": "2024-08-01T17:30:34.273Z"
   },
   {
    "duration": 14,
    "start_time": "2024-08-01T17:30:35.073Z"
   },
   {
    "duration": 42,
    "start_time": "2024-08-01T17:30:37.565Z"
   },
   {
    "duration": 10,
    "start_time": "2024-08-01T17:30:38.314Z"
   },
   {
    "duration": 29,
    "start_time": "2024-08-01T17:30:39.746Z"
   },
   {
    "duration": 23,
    "start_time": "2024-08-01T17:30:40.715Z"
   },
   {
    "duration": 29,
    "start_time": "2024-08-01T17:30:42.773Z"
   },
   {
    "duration": 132,
    "start_time": "2024-08-01T17:30:45.915Z"
   },
   {
    "duration": 22,
    "start_time": "2024-08-01T17:30:46.764Z"
   },
   {
    "duration": 15,
    "start_time": "2024-08-01T17:30:49.395Z"
   },
   {
    "duration": 244,
    "start_time": "2024-08-01T17:30:58.705Z"
   },
   {
    "duration": 196,
    "start_time": "2024-08-01T17:32:06.114Z"
   },
   {
    "duration": 924,
    "start_time": "2024-08-01T17:32:38.135Z"
   },
   {
    "duration": 179,
    "start_time": "2024-08-01T17:33:18.433Z"
   },
   {
    "duration": 279,
    "start_time": "2024-08-01T17:33:26.856Z"
   },
   {
    "duration": 280,
    "start_time": "2024-08-01T17:34:20.464Z"
   },
   {
    "duration": 289,
    "start_time": "2024-08-01T17:34:39.004Z"
   },
   {
    "duration": 286,
    "start_time": "2024-08-01T17:34:56.938Z"
   },
   {
    "duration": 360,
    "start_time": "2024-08-01T17:35:28.286Z"
   },
   {
    "duration": 367,
    "start_time": "2024-08-01T17:35:42.726Z"
   },
   {
    "duration": 664,
    "start_time": "2024-08-01T17:36:09.814Z"
   },
   {
    "duration": 228,
    "start_time": "2024-08-01T17:36:27.415Z"
   },
   {
    "duration": 327,
    "start_time": "2024-08-01T17:37:58.732Z"
   },
   {
    "duration": 139,
    "start_time": "2024-08-01T17:38:14.685Z"
   },
   {
    "duration": 2564,
    "start_time": "2024-08-01T17:38:17.435Z"
   },
   {
    "duration": 22,
    "start_time": "2024-08-01T17:41:05.168Z"
   },
   {
    "duration": 1468,
    "start_time": "2024-08-02T17:15:29.732Z"
   },
   {
    "duration": 384,
    "start_time": "2024-08-02T17:15:31.202Z"
   },
   {
    "duration": 18,
    "start_time": "2024-08-02T17:15:34.266Z"
   },
   {
    "duration": 55,
    "start_time": "2024-08-02T17:15:36.722Z"
   },
   {
    "duration": 10,
    "start_time": "2024-08-02T17:15:37.434Z"
   },
   {
    "duration": 49,
    "start_time": "2024-08-02T17:15:39.050Z"
   },
   {
    "duration": 26,
    "start_time": "2024-08-02T17:15:40.019Z"
   },
   {
    "duration": 30,
    "start_time": "2024-08-02T17:15:41.603Z"
   },
   {
    "duration": 179,
    "start_time": "2024-08-02T17:15:44.082Z"
   },
   {
    "duration": 17,
    "start_time": "2024-08-02T17:15:44.930Z"
   },
   {
    "duration": 17,
    "start_time": "2024-08-02T17:15:46.410Z"
   },
   {
    "duration": 280,
    "start_time": "2024-08-02T17:15:54.202Z"
   },
   {
    "duration": 211,
    "start_time": "2024-08-02T17:16:22.714Z"
   },
   {
    "duration": 966,
    "start_time": "2024-08-02T17:16:58.619Z"
   },
   {
    "duration": 763,
    "start_time": "2024-08-02T17:17:30.019Z"
   },
   {
    "duration": 1037,
    "start_time": "2024-08-02T17:17:49.037Z"
   },
   {
    "duration": 1350,
    "start_time": "2024-08-02T17:21:32.568Z"
   },
   {
    "duration": 306,
    "start_time": "2024-08-02T17:34:13.698Z"
   },
   {
    "duration": 946,
    "start_time": "2024-08-02T17:34:34.417Z"
   },
   {
    "duration": 313,
    "start_time": "2024-08-02T17:34:44.002Z"
   },
   {
    "duration": 298,
    "start_time": "2024-08-02T17:35:03.113Z"
   },
   {
    "duration": 216,
    "start_time": "2024-08-02T17:35:21.538Z"
   },
   {
    "duration": 431,
    "start_time": "2024-08-02T17:35:23.538Z"
   },
   {
    "duration": 200,
    "start_time": "2024-08-02T17:35:33.145Z"
   },
   {
    "duration": 227,
    "start_time": "2024-08-02T17:37:57.827Z"
   },
   {
    "duration": 2773,
    "start_time": "2024-08-02T17:39:32.434Z"
   },
   {
    "duration": 3013,
    "start_time": "2024-08-02T17:39:42.458Z"
   },
   {
    "duration": 433,
    "start_time": "2024-08-02T17:40:54.455Z"
   },
   {
    "duration": 783,
    "start_time": "2024-08-02T17:41:12.983Z"
   },
   {
    "duration": 32,
    "start_time": "2024-08-02T17:42:21.964Z"
   },
   {
    "duration": 416,
    "start_time": "2024-08-02T17:42:28.412Z"
   },
   {
    "duration": 3,
    "start_time": "2024-08-02T17:46:43.064Z"
   },
   {
    "duration": 124,
    "start_time": "2024-08-02T17:47:16.945Z"
   },
   {
    "duration": 145,
    "start_time": "2024-08-02T17:47:22.058Z"
   },
   {
    "duration": 149,
    "start_time": "2024-08-02T17:49:18.741Z"
   },
   {
    "duration": 187,
    "start_time": "2024-08-02T17:51:15.777Z"
   },
   {
    "duration": 162,
    "start_time": "2024-08-02T17:51:28.377Z"
   },
   {
    "duration": 162,
    "start_time": "2024-08-02T17:51:31.162Z"
   },
   {
    "duration": 286,
    "start_time": "2024-08-02T17:53:43.678Z"
   },
   {
    "duration": 163,
    "start_time": "2024-08-02T17:53:50.365Z"
   },
   {
    "duration": 184,
    "start_time": "2024-08-02T17:53:55.854Z"
   },
   {
    "duration": 157,
    "start_time": "2024-08-02T17:54:18.807Z"
   },
   {
    "duration": 3095,
    "start_time": "2024-08-02T18:03:05.898Z"
   },
   {
    "duration": 3048,
    "start_time": "2024-08-02T18:09:13.314Z"
   },
   {
    "duration": 3512,
    "start_time": "2024-08-02T18:15:31.910Z"
   },
   {
    "duration": 3033,
    "start_time": "2024-08-02T18:17:52.447Z"
   },
   {
    "duration": 3409,
    "start_time": "2024-08-02T18:18:05.880Z"
   },
   {
    "duration": 3639,
    "start_time": "2024-08-02T18:23:19.863Z"
   },
   {
    "duration": 185,
    "start_time": "2024-08-02T18:28:07.623Z"
   },
   {
    "duration": 208,
    "start_time": "2024-08-02T18:28:47.279Z"
   },
   {
    "duration": 192,
    "start_time": "2024-08-02T18:29:19.230Z"
   },
   {
    "duration": 226,
    "start_time": "2024-08-02T18:29:31.783Z"
   },
   {
    "duration": 13,
    "start_time": "2024-08-02T18:38:22.550Z"
   },
   {
    "duration": 11,
    "start_time": "2024-08-02T18:38:35.430Z"
   },
   {
    "duration": 10,
    "start_time": "2024-08-02T18:38:37.575Z"
   },
   {
    "duration": 11,
    "start_time": "2024-08-02T18:44:13.768Z"
   },
   {
    "duration": 12,
    "start_time": "2024-08-02T18:44:14.672Z"
   },
   {
    "duration": 11,
    "start_time": "2024-08-02T18:44:15.351Z"
   },
   {
    "duration": 11,
    "start_time": "2024-08-02T18:45:08.882Z"
   },
   {
    "duration": 12,
    "start_time": "2024-08-02T18:45:09.273Z"
   },
   {
    "duration": 10,
    "start_time": "2024-08-02T18:45:09.569Z"
   },
   {
    "duration": 22,
    "start_time": "2024-08-02T19:03:51.537Z"
   },
   {
    "duration": 21,
    "start_time": "2024-08-02T19:11:59.452Z"
   },
   {
    "duration": 20,
    "start_time": "2024-08-02T19:14:31.727Z"
   },
   {
    "duration": 26,
    "start_time": "2024-08-02T19:15:02.647Z"
   },
   {
    "duration": 21,
    "start_time": "2024-08-02T19:15:07.190Z"
   },
   {
    "duration": 31,
    "start_time": "2024-08-02T19:16:43.937Z"
   },
   {
    "duration": 23,
    "start_time": "2024-08-02T19:16:51.145Z"
   },
   {
    "duration": 32,
    "start_time": "2024-08-02T19:16:59.857Z"
   },
   {
    "duration": 24,
    "start_time": "2024-08-02T19:17:05.193Z"
   },
   {
    "duration": 26,
    "start_time": "2024-08-02T19:17:12.202Z"
   },
   {
    "duration": 20,
    "start_time": "2024-08-02T19:29:38.121Z"
   },
   {
    "duration": 21,
    "start_time": "2024-08-02T19:38:16.255Z"
   },
   {
    "duration": 60,
    "start_time": "2024-08-02T19:40:21.368Z"
   },
   {
    "duration": 21,
    "start_time": "2024-08-02T19:40:29.448Z"
   },
   {
    "duration": 19,
    "start_time": "2024-08-02T19:44:10.666Z"
   },
   {
    "duration": 22,
    "start_time": "2024-08-02T19:46:28.341Z"
   },
   {
    "duration": 18,
    "start_time": "2024-08-02T19:46:33.732Z"
   },
   {
    "duration": 187,
    "start_time": "2024-08-02T20:20:56.183Z"
   },
   {
    "duration": 51,
    "start_time": "2024-08-03T16:13:50.860Z"
   },
   {
    "duration": 1337,
    "start_time": "2024-08-03T16:13:57.428Z"
   },
   {
    "duration": 226,
    "start_time": "2024-08-03T16:13:58.768Z"
   },
   {
    "duration": 16,
    "start_time": "2024-08-03T16:13:58.996Z"
   },
   {
    "duration": 42,
    "start_time": "2024-08-03T16:14:07.485Z"
   },
   {
    "duration": 10,
    "start_time": "2024-08-03T16:17:17.294Z"
   },
   {
    "duration": 33,
    "start_time": "2024-08-03T16:18:40.760Z"
   },
   {
    "duration": 25,
    "start_time": "2024-08-03T16:18:49.503Z"
   },
   {
    "duration": 28,
    "start_time": "2024-08-03T16:18:53.528Z"
   },
   {
    "duration": 141,
    "start_time": "2024-08-03T16:19:15.648Z"
   },
   {
    "duration": 16,
    "start_time": "2024-08-03T16:23:28.347Z"
   },
   {
    "duration": 22,
    "start_time": "2024-08-03T16:23:29.811Z"
   },
   {
    "duration": 18,
    "start_time": "2024-08-03T16:24:47.796Z"
   },
   {
    "duration": 253,
    "start_time": "2024-08-03T16:25:42.309Z"
   },
   {
    "duration": 207,
    "start_time": "2024-08-03T16:25:46.316Z"
   },
   {
    "duration": 452,
    "start_time": "2024-08-03T16:25:50.261Z"
   },
   {
    "duration": 561,
    "start_time": "2024-08-03T16:25:51.092Z"
   },
   {
    "duration": 4,
    "start_time": "2024-08-03T16:27:28.158Z"
   },
   {
    "duration": 172,
    "start_time": "2024-08-03T16:27:40.983Z"
   },
   {
    "duration": 89,
    "start_time": "2024-08-03T16:27:56.128Z"
   },
   {
    "duration": 112,
    "start_time": "2024-08-03T16:28:21.776Z"
   },
   {
    "duration": 3,
    "start_time": "2024-08-03T16:29:14.521Z"
   },
   {
    "duration": 187,
    "start_time": "2024-08-03T16:29:49.706Z"
   },
   {
    "duration": 553,
    "start_time": "2024-08-03T16:31:23.563Z"
   },
   {
    "duration": 471,
    "start_time": "2024-08-03T16:31:40.299Z"
   },
   {
    "duration": 559,
    "start_time": "2024-08-03T16:31:51.788Z"
   },
   {
    "duration": 585,
    "start_time": "2024-08-03T16:31:58.419Z"
   },
   {
    "duration": 3,
    "start_time": "2024-08-03T16:32:21.508Z"
   },
   {
    "duration": 189,
    "start_time": "2024-08-03T16:40:44.347Z"
   },
   {
    "duration": 203,
    "start_time": "2024-08-03T16:45:38.079Z"
   },
   {
    "duration": 450,
    "start_time": "2024-08-03T16:45:41.007Z"
   },
   {
    "duration": 347,
    "start_time": "2024-08-03T16:45:43.944Z"
   },
   {
    "duration": 331,
    "start_time": "2024-08-03T16:45:49.215Z"
   },
   {
    "duration": 272,
    "start_time": "2024-08-03T16:45:55.576Z"
   },
   {
    "duration": 220,
    "start_time": "2024-08-03T16:46:05.415Z"
   },
   {
    "duration": 253,
    "start_time": "2024-08-03T16:46:12.472Z"
   },
   {
    "duration": 158,
    "start_time": "2024-08-03T16:46:46.393Z"
   },
   {
    "duration": 570,
    "start_time": "2024-08-03T16:52:43.751Z"
   },
   {
    "duration": 350,
    "start_time": "2024-08-03T16:52:55.790Z"
   },
   {
    "duration": 366,
    "start_time": "2024-08-03T16:54:16.375Z"
   },
   {
    "duration": 348,
    "start_time": "2024-08-03T16:54:30.959Z"
   },
   {
    "duration": 220,
    "start_time": "2024-08-03T16:55:33.933Z"
   },
   {
    "duration": 168,
    "start_time": "2024-08-03T16:59:29.138Z"
   },
   {
    "duration": 183,
    "start_time": "2024-08-03T16:59:51.419Z"
   },
   {
    "duration": 3197,
    "start_time": "2024-08-03T17:04:15.948Z"
   },
   {
    "duration": 3402,
    "start_time": "2024-08-03T17:04:19.146Z"
   },
   {
    "duration": 185,
    "start_time": "2024-08-03T17:04:33.092Z"
   },
   {
    "duration": 197,
    "start_time": "2024-08-03T17:05:08.582Z"
   },
   {
    "duration": 18,
    "start_time": "2024-08-03T17:15:52.005Z"
   },
   {
    "duration": 11,
    "start_time": "2024-08-03T17:15:52.204Z"
   },
   {
    "duration": 12,
    "start_time": "2024-08-03T17:15:52.733Z"
   },
   {
    "duration": 12,
    "start_time": "2024-08-03T17:15:57.220Z"
   },
   {
    "duration": 15,
    "start_time": "2024-08-03T17:15:57.933Z"
   },
   {
    "duration": 15,
    "start_time": "2024-08-03T17:15:58.430Z"
   },
   {
    "duration": 12,
    "start_time": "2024-08-03T17:16:00.580Z"
   },
   {
    "duration": 13,
    "start_time": "2024-08-03T17:16:00.789Z"
   },
   {
    "duration": 11,
    "start_time": "2024-08-03T17:16:02.006Z"
   },
   {
    "duration": 22,
    "start_time": "2024-08-03T17:16:18.813Z"
   }
  ],
  "kernelspec": {
   "display_name": "Python 3 (ipykernel)",
   "language": "python",
   "name": "python3"
  },
  "language_info": {
   "codemirror_mode": {
    "name": "ipython",
    "version": 3
   },
   "file_extension": ".py",
   "mimetype": "text/x-python",
   "name": "python",
   "nbconvert_exporter": "python",
   "pygments_lexer": "ipython3",
   "version": "3.9.5"
  },
  "toc": {
   "base_numbering": 1,
   "nav_menu": {
    "height": "963px",
    "width": "266.99px"
   },
   "number_sections": true,
   "sideBar": true,
   "skip_h1_title": true,
   "title_cell": "Table of Contents",
   "title_sidebar": "Contents",
   "toc_cell": false,
   "toc_position": {},
   "toc_section_display": true,
   "toc_window_display": false
  }
 },
 "nbformat": 4,
 "nbformat_minor": 2
}
