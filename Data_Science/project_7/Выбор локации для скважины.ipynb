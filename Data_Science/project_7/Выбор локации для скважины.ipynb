{
 "cells": [
  {
   "cell_type": "markdown",
   "metadata": {},
   "source": [
    "# Выбор локации для скважины"
   ]
  },
  {
   "cell_type": "markdown",
   "metadata": {},
   "source": [
    "**Описание задачи:**"
   ]
  },
  {
   "cell_type": "markdown",
   "metadata": {},
   "source": [
    "Допустим, вы работаете в добывающей компании «ГлавРосГосНефть». Нужно решить, где бурить новую скважину.\n",
    "\n",
    "Вам предоставлены пробы нефти в трёх регионах: в каждом 10 000 месторождений, где измерили качество нефти и объём её запасов.    \n",
    "Требуется:\n",
    "1. Постройть модель машинного обучения, которая поможет определить регион, где добыча принесёт наибольшую прибыль.\n",
    "2. Проанализировать возможную прибыль и риски техникой *Bootstrap.*\n",
    "\n",
    "Шаги для выбора локации:\n",
    "\n",
    "- В избранном регионе ищут месторождения, для каждого определяют значения признаков скважин: качество нефти и объём её запасов;\n",
    "- Строят модель и оценивают объём запасов;\n",
    "- Выбирают месторождения с самым высокими оценками значений. Количество месторождений зависит от бюджета компании и стоимости разработки одной скважины;\n",
    "- Прибыль равна суммарной прибыли отобранных месторождений."
   ]
  },
  {
   "cell_type": "markdown",
   "metadata": {},
   "source": [
    "**Дополнительные условия:**    \n",
    "\n",
    "- при разведке региона исследуют 500 точек, из которых с помощью машинного обучения выбирают 200 лучших для разработки;\n",
    "- бюджет на разработку скважин в регионе — 10 млрд рублей;\n",
    "- при нынешних ценах один баррель сырья приносит 450 рублей дохода;\n",
    "- доход с каждой единицы продукта составляет 450 тыс. рублей, поскольку объём указан в тысячах баррелей;\n",
    "- после оценки рисков нужно оставить лишь те регионы, в которых вероятность убытков меньше 2.5%;\n",
    "- среди них выбирают регион с наибольшей средней прибылью."
   ]
  },
  {
   "cell_type": "markdown",
   "metadata": {},
   "source": [
    "**Описание данных:**"
   ]
  },
  {
   "cell_type": "markdown",
   "metadata": {},
   "source": [
    "Данные геологоразведки трёх регионов находятся в файлах: \n",
    "- **/datasets/geo_data_0.csv**;\n",
    "- **/datasets/geo_data_1.csv**;\n",
    "- **/datasets/geo_data_2.csv**.    \n",
    "\n",
    "Атрибуты скважин:\n",
    "- **id** — уникальный идентификатор скважины;\n",
    "- **f0, f1, f2** — три признака точек (неважно, что они означают, но сами признаки значимы);\n",
    "- **product** — объём запасов в скважине (тыс. баррелей)."
   ]
  },
  {
   "cell_type": "code",
   "execution_count": 1,
   "metadata": {
    "scrolled": false
   },
   "outputs": [
    {
     "name": "stdout",
     "output_type": "stream",
     "text": [
      "Requirement already satisfied: scikit-learn==1.4 in /opt/conda/lib/python3.9/site-packages (1.4.0)\n",
      "Requirement already satisfied: scipy>=1.6.0 in /opt/conda/lib/python3.9/site-packages (from scikit-learn==1.4) (1.9.1)\n",
      "Requirement already satisfied: numpy<2.0,>=1.19.5 in /opt/conda/lib/python3.9/site-packages (from scikit-learn==1.4) (1.21.1)\n",
      "Requirement already satisfied: threadpoolctl>=2.0.0 in /opt/conda/lib/python3.9/site-packages (from scikit-learn==1.4) (3.1.0)\n",
      "Requirement already satisfied: joblib>=1.2.0 in /opt/conda/lib/python3.9/site-packages (from scikit-learn==1.4) (1.4.2)\n"
     ]
    }
   ],
   "source": [
    "# устанавливаем нужную версию библиотек\n",
    "!pip install scikit-learn==1.4"
   ]
  },
  {
   "cell_type": "code",
   "execution_count": 2,
   "metadata": {},
   "outputs": [],
   "source": [
    "# импортируем все библиотеки\n",
    "import pandas as pd\n",
    "import numpy as np\n",
    "import seaborn as sns\n",
    "from matplotlib import pyplot as plt\n",
    "\n",
    "from sklearn.linear_model import LinearRegression, LogisticRegression\n",
    "from sklearn.model_selection import train_test_split\n",
    "from sklearn.preprocessing import StandardScaler\n",
    "from sklearn.metrics import (\n",
    "    r2_score,\n",
    "    mean_squared_error\n",
    ")\n",
    "# зададим параметры окна вывода графиков\n",
    "plt.rcParams[\"figure.figsize\"] = (10,7)"
   ]
  },
  {
   "cell_type": "markdown",
   "metadata": {},
   "source": [
    "## Загрузка и подготовка данных"
   ]
  },
  {
   "cell_type": "code",
   "execution_count": 3,
   "metadata": {},
   "outputs": [],
   "source": [
    "# загружаем данные по скважинам\n",
    "#   данные из файла geo_data_0.csv\n",
    "try:\n",
    "    geo_data_0 = pd.read_csv('c:/users/bny_7/datasets/geo_data_0.csv', sep=',', decimal='.')\n",
    "except:\n",
    "    geo_data_0 = pd.read_csv('/datasets/geo_data_0.csv', decimal='.')\n",
    "\n",
    "#   данные из файла geo_data_1.csv\n",
    "try:\n",
    "    geo_data_1 = pd.read_csv('c:/users/bny_7/datasets/geo_data_1.csv', sep=',', decimal='.')\n",
    "except:\n",
    "    geo_data_1 = pd.read_csv('/datasets/geo_data_1.csv', decimal='.')\n",
    "    \n",
    "#   данные из файла geo_data_3.csv    \n",
    "try:\n",
    "    geo_data_2 = pd.read_csv('c:/users/bny_7/datasets/geo_data_2.csv', sep=',', decimal='.')\n",
    "except:\n",
    "    geo_data_2 = pd.read_csv('/datasets/geo_data_2.csv', decimal='.')"
   ]
  },
  {
   "cell_type": "code",
   "execution_count": 4,
   "metadata": {},
   "outputs": [
    {
     "name": "stdout",
     "output_type": "stream",
     "text": [
      "Набор данных geo_data_0\n"
     ]
    },
    {
     "data": {
      "text/html": [
       "<div>\n",
       "<style scoped>\n",
       "    .dataframe tbody tr th:only-of-type {\n",
       "        vertical-align: middle;\n",
       "    }\n",
       "\n",
       "    .dataframe tbody tr th {\n",
       "        vertical-align: top;\n",
       "    }\n",
       "\n",
       "    .dataframe thead th {\n",
       "        text-align: right;\n",
       "    }\n",
       "</style>\n",
       "<table border=\"1\" class=\"dataframe\">\n",
       "  <thead>\n",
       "    <tr style=\"text-align: right;\">\n",
       "      <th></th>\n",
       "      <th>id</th>\n",
       "      <th>f0</th>\n",
       "      <th>f1</th>\n",
       "      <th>f2</th>\n",
       "      <th>product</th>\n",
       "    </tr>\n",
       "  </thead>\n",
       "  <tbody>\n",
       "    <tr>\n",
       "      <th>0</th>\n",
       "      <td>txEyH</td>\n",
       "      <td>0.705745</td>\n",
       "      <td>-0.497823</td>\n",
       "      <td>1.221170</td>\n",
       "      <td>105.280062</td>\n",
       "    </tr>\n",
       "    <tr>\n",
       "      <th>1</th>\n",
       "      <td>2acmU</td>\n",
       "      <td>1.334711</td>\n",
       "      <td>-0.340164</td>\n",
       "      <td>4.365080</td>\n",
       "      <td>73.037750</td>\n",
       "    </tr>\n",
       "    <tr>\n",
       "      <th>2</th>\n",
       "      <td>409Wp</td>\n",
       "      <td>1.022732</td>\n",
       "      <td>0.151990</td>\n",
       "      <td>1.419926</td>\n",
       "      <td>85.265647</td>\n",
       "    </tr>\n",
       "    <tr>\n",
       "      <th>3</th>\n",
       "      <td>iJLyR</td>\n",
       "      <td>-0.032172</td>\n",
       "      <td>0.139033</td>\n",
       "      <td>2.978566</td>\n",
       "      <td>168.620776</td>\n",
       "    </tr>\n",
       "    <tr>\n",
       "      <th>4</th>\n",
       "      <td>Xdl7t</td>\n",
       "      <td>1.988431</td>\n",
       "      <td>0.155413</td>\n",
       "      <td>4.751769</td>\n",
       "      <td>154.036647</td>\n",
       "    </tr>\n",
       "  </tbody>\n",
       "</table>\n",
       "</div>"
      ],
      "text/plain": [
       "      id        f0        f1        f2     product\n",
       "0  txEyH  0.705745 -0.497823  1.221170  105.280062\n",
       "1  2acmU  1.334711 -0.340164  4.365080   73.037750\n",
       "2  409Wp  1.022732  0.151990  1.419926   85.265647\n",
       "3  iJLyR -0.032172  0.139033  2.978566  168.620776\n",
       "4  Xdl7t  1.988431  0.155413  4.751769  154.036647"
      ]
     },
     "metadata": {},
     "output_type": "display_data"
    },
    {
     "name": "stdout",
     "output_type": "stream",
     "text": [
      "Набор данных geo_data_1\n"
     ]
    },
    {
     "data": {
      "text/html": [
       "<div>\n",
       "<style scoped>\n",
       "    .dataframe tbody tr th:only-of-type {\n",
       "        vertical-align: middle;\n",
       "    }\n",
       "\n",
       "    .dataframe tbody tr th {\n",
       "        vertical-align: top;\n",
       "    }\n",
       "\n",
       "    .dataframe thead th {\n",
       "        text-align: right;\n",
       "    }\n",
       "</style>\n",
       "<table border=\"1\" class=\"dataframe\">\n",
       "  <thead>\n",
       "    <tr style=\"text-align: right;\">\n",
       "      <th></th>\n",
       "      <th>id</th>\n",
       "      <th>f0</th>\n",
       "      <th>f1</th>\n",
       "      <th>f2</th>\n",
       "      <th>product</th>\n",
       "    </tr>\n",
       "  </thead>\n",
       "  <tbody>\n",
       "    <tr>\n",
       "      <th>0</th>\n",
       "      <td>kBEdx</td>\n",
       "      <td>-15.001348</td>\n",
       "      <td>-8.276000</td>\n",
       "      <td>-0.005876</td>\n",
       "      <td>3.179103</td>\n",
       "    </tr>\n",
       "    <tr>\n",
       "      <th>1</th>\n",
       "      <td>62mP7</td>\n",
       "      <td>14.272088</td>\n",
       "      <td>-3.475083</td>\n",
       "      <td>0.999183</td>\n",
       "      <td>26.953261</td>\n",
       "    </tr>\n",
       "    <tr>\n",
       "      <th>2</th>\n",
       "      <td>vyE1P</td>\n",
       "      <td>6.263187</td>\n",
       "      <td>-5.948386</td>\n",
       "      <td>5.001160</td>\n",
       "      <td>134.766305</td>\n",
       "    </tr>\n",
       "    <tr>\n",
       "      <th>3</th>\n",
       "      <td>KcrkZ</td>\n",
       "      <td>-13.081196</td>\n",
       "      <td>-11.506057</td>\n",
       "      <td>4.999415</td>\n",
       "      <td>137.945408</td>\n",
       "    </tr>\n",
       "    <tr>\n",
       "      <th>4</th>\n",
       "      <td>AHL4O</td>\n",
       "      <td>12.702195</td>\n",
       "      <td>-8.147433</td>\n",
       "      <td>5.004363</td>\n",
       "      <td>134.766305</td>\n",
       "    </tr>\n",
       "  </tbody>\n",
       "</table>\n",
       "</div>"
      ],
      "text/plain": [
       "      id         f0         f1        f2     product\n",
       "0  kBEdx -15.001348  -8.276000 -0.005876    3.179103\n",
       "1  62mP7  14.272088  -3.475083  0.999183   26.953261\n",
       "2  vyE1P   6.263187  -5.948386  5.001160  134.766305\n",
       "3  KcrkZ -13.081196 -11.506057  4.999415  137.945408\n",
       "4  AHL4O  12.702195  -8.147433  5.004363  134.766305"
      ]
     },
     "metadata": {},
     "output_type": "display_data"
    },
    {
     "name": "stdout",
     "output_type": "stream",
     "text": [
      "Набор данных geo_data_2\n"
     ]
    },
    {
     "data": {
      "text/html": [
       "<div>\n",
       "<style scoped>\n",
       "    .dataframe tbody tr th:only-of-type {\n",
       "        vertical-align: middle;\n",
       "    }\n",
       "\n",
       "    .dataframe tbody tr th {\n",
       "        vertical-align: top;\n",
       "    }\n",
       "\n",
       "    .dataframe thead th {\n",
       "        text-align: right;\n",
       "    }\n",
       "</style>\n",
       "<table border=\"1\" class=\"dataframe\">\n",
       "  <thead>\n",
       "    <tr style=\"text-align: right;\">\n",
       "      <th></th>\n",
       "      <th>id</th>\n",
       "      <th>f0</th>\n",
       "      <th>f1</th>\n",
       "      <th>f2</th>\n",
       "      <th>product</th>\n",
       "    </tr>\n",
       "  </thead>\n",
       "  <tbody>\n",
       "    <tr>\n",
       "      <th>0</th>\n",
       "      <td>fwXo0</td>\n",
       "      <td>-1.146987</td>\n",
       "      <td>0.963328</td>\n",
       "      <td>-0.828965</td>\n",
       "      <td>27.758673</td>\n",
       "    </tr>\n",
       "    <tr>\n",
       "      <th>1</th>\n",
       "      <td>WJtFt</td>\n",
       "      <td>0.262778</td>\n",
       "      <td>0.269839</td>\n",
       "      <td>-2.530187</td>\n",
       "      <td>56.069697</td>\n",
       "    </tr>\n",
       "    <tr>\n",
       "      <th>2</th>\n",
       "      <td>ovLUW</td>\n",
       "      <td>0.194587</td>\n",
       "      <td>0.289035</td>\n",
       "      <td>-5.586433</td>\n",
       "      <td>62.871910</td>\n",
       "    </tr>\n",
       "    <tr>\n",
       "      <th>3</th>\n",
       "      <td>q6cA6</td>\n",
       "      <td>2.236060</td>\n",
       "      <td>-0.553760</td>\n",
       "      <td>0.930038</td>\n",
       "      <td>114.572842</td>\n",
       "    </tr>\n",
       "    <tr>\n",
       "      <th>4</th>\n",
       "      <td>WPMUX</td>\n",
       "      <td>-0.515993</td>\n",
       "      <td>1.716266</td>\n",
       "      <td>5.899011</td>\n",
       "      <td>149.600746</td>\n",
       "    </tr>\n",
       "  </tbody>\n",
       "</table>\n",
       "</div>"
      ],
      "text/plain": [
       "      id        f0        f1        f2     product\n",
       "0  fwXo0 -1.146987  0.963328 -0.828965   27.758673\n",
       "1  WJtFt  0.262778  0.269839 -2.530187   56.069697\n",
       "2  ovLUW  0.194587  0.289035 -5.586433   62.871910\n",
       "3  q6cA6  2.236060 -0.553760  0.930038  114.572842\n",
       "4  WPMUX -0.515993  1.716266  5.899011  149.600746"
      ]
     },
     "metadata": {},
     "output_type": "display_data"
    }
   ],
   "source": [
    "# проверяем загрузку данных, для этого выводим первые 5 строк из каждого набора на экран\n",
    "print('Набор данных geo_data_0')\n",
    "display(geo_data_0.head())\n",
    "print('Набор данных geo_data_1')\n",
    "display(geo_data_1.head())\n",
    "print('Набор данных geo_data_2')\n",
    "display(geo_data_2.head())"
   ]
  },
  {
   "cell_type": "code",
   "execution_count": 5,
   "metadata": {
    "scrolled": true
   },
   "outputs": [
    {
     "name": "stdout",
     "output_type": "stream",
     "text": [
      "<class 'pandas.core.frame.DataFrame'>\n",
      "RangeIndex: 100000 entries, 0 to 99999\n",
      "Data columns (total 5 columns):\n",
      " #   Column   Non-Null Count   Dtype  \n",
      "---  ------   --------------   -----  \n",
      " 0   id       100000 non-null  object \n",
      " 1   f0       100000 non-null  float64\n",
      " 2   f1       100000 non-null  float64\n",
      " 3   f2       100000 non-null  float64\n",
      " 4   product  100000 non-null  float64\n",
      "dtypes: float64(4), object(1)\n",
      "memory usage: 3.8+ MB\n"
     ]
    },
    {
     "data": {
      "text/plain": [
       "None"
      ]
     },
     "metadata": {},
     "output_type": "display_data"
    }
   ],
   "source": [
    "# предобработаем данные для исследовательского анализа\n",
    "# обрабатываем данные набора geo_data_0\n",
    "display(geo_data_0.info())"
   ]
  },
  {
   "cell_type": "code",
   "execution_count": 6,
   "metadata": {},
   "outputs": [
    {
     "name": "stdout",
     "output_type": "stream",
     "text": [
      "<class 'pandas.core.frame.DataFrame'>\n",
      "RangeIndex: 100000 entries, 0 to 99999\n",
      "Data columns (total 5 columns):\n",
      " #   Column   Non-Null Count   Dtype  \n",
      "---  ------   --------------   -----  \n",
      " 0   id       100000 non-null  object \n",
      " 1   f0       100000 non-null  float64\n",
      " 2   f1       100000 non-null  float64\n",
      " 3   f2       100000 non-null  float64\n",
      " 4   product  100000 non-null  float64\n",
      "dtypes: float64(4), object(1)\n",
      "memory usage: 3.8+ MB\n"
     ]
    },
    {
     "data": {
      "text/plain": [
       "None"
      ]
     },
     "metadata": {},
     "output_type": "display_data"
    }
   ],
   "source": [
    "# предобработаем данные для исследовательского анализа\n",
    "# обрабатываем данные набора geo_data_0\n",
    "display(geo_data_1.info())"
   ]
  },
  {
   "cell_type": "code",
   "execution_count": 7,
   "metadata": {},
   "outputs": [
    {
     "name": "stdout",
     "output_type": "stream",
     "text": [
      "<class 'pandas.core.frame.DataFrame'>\n",
      "RangeIndex: 100000 entries, 0 to 99999\n",
      "Data columns (total 5 columns):\n",
      " #   Column   Non-Null Count   Dtype  \n",
      "---  ------   --------------   -----  \n",
      " 0   id       100000 non-null  object \n",
      " 1   f0       100000 non-null  float64\n",
      " 2   f1       100000 non-null  float64\n",
      " 3   f2       100000 non-null  float64\n",
      " 4   product  100000 non-null  float64\n",
      "dtypes: float64(4), object(1)\n",
      "memory usage: 3.8+ MB\n"
     ]
    },
    {
     "data": {
      "text/plain": [
       "None"
      ]
     },
     "metadata": {},
     "output_type": "display_data"
    }
   ],
   "source": [
    "# предобработаем данные для исследовательского анализа\n",
    "# обрабатываем данные набора geo_data_0\n",
    "display(geo_data_2.info())"
   ]
  },
  {
   "cell_type": "markdown",
   "metadata": {},
   "source": [
    "**Выводы по результатам предобработки данных:**     \n",
    "\n",
    "В каждом из наборов **geo_data_0, geo_data_1, geo_data_2**:\n",
    "- 100'000 записей;\n",
    "- пропуски отсутствуют;\n",
    "- 5 полей: 1 поле с идентификатором скважины (id), 4 поля с численными непрерывными значениями характеристик скважин;\n",
    "- формат полей соответствует данным, хранящимся в них.     \n",
    "\n",
    "Дополнительная обработка данных не требуется. Можно переходить к исследовательскому анализу данных."
   ]
  },
  {
   "cell_type": "markdown",
   "metadata": {},
   "source": [
    "**Исследовательский анализ данных**"
   ]
  },
  {
   "cell_type": "code",
   "execution_count": 8,
   "metadata": {},
   "outputs": [
    {
     "data": {
      "text/html": [
       "<div>\n",
       "<style scoped>\n",
       "    .dataframe tbody tr th:only-of-type {\n",
       "        vertical-align: middle;\n",
       "    }\n",
       "\n",
       "    .dataframe tbody tr th {\n",
       "        vertical-align: top;\n",
       "    }\n",
       "\n",
       "    .dataframe thead th {\n",
       "        text-align: right;\n",
       "    }\n",
       "</style>\n",
       "<table border=\"1\" class=\"dataframe\">\n",
       "  <thead>\n",
       "    <tr style=\"text-align: right;\">\n",
       "      <th></th>\n",
       "      <th>f0</th>\n",
       "      <th>f1</th>\n",
       "      <th>f2</th>\n",
       "      <th>product</th>\n",
       "    </tr>\n",
       "  </thead>\n",
       "  <tbody>\n",
       "    <tr>\n",
       "      <th>count</th>\n",
       "      <td>100000.000000</td>\n",
       "      <td>100000.000000</td>\n",
       "      <td>100000.000000</td>\n",
       "      <td>100000.000000</td>\n",
       "    </tr>\n",
       "    <tr>\n",
       "      <th>mean</th>\n",
       "      <td>0.500419</td>\n",
       "      <td>0.250143</td>\n",
       "      <td>2.502647</td>\n",
       "      <td>92.500000</td>\n",
       "    </tr>\n",
       "    <tr>\n",
       "      <th>std</th>\n",
       "      <td>0.871832</td>\n",
       "      <td>0.504433</td>\n",
       "      <td>3.248248</td>\n",
       "      <td>44.288691</td>\n",
       "    </tr>\n",
       "    <tr>\n",
       "      <th>min</th>\n",
       "      <td>-1.408605</td>\n",
       "      <td>-0.848218</td>\n",
       "      <td>-12.088328</td>\n",
       "      <td>0.000000</td>\n",
       "    </tr>\n",
       "    <tr>\n",
       "      <th>25%</th>\n",
       "      <td>-0.072580</td>\n",
       "      <td>-0.200881</td>\n",
       "      <td>0.287748</td>\n",
       "      <td>56.497507</td>\n",
       "    </tr>\n",
       "    <tr>\n",
       "      <th>50%</th>\n",
       "      <td>0.502360</td>\n",
       "      <td>0.250252</td>\n",
       "      <td>2.515969</td>\n",
       "      <td>91.849972</td>\n",
       "    </tr>\n",
       "    <tr>\n",
       "      <th>75%</th>\n",
       "      <td>1.073581</td>\n",
       "      <td>0.700646</td>\n",
       "      <td>4.715088</td>\n",
       "      <td>128.564089</td>\n",
       "    </tr>\n",
       "    <tr>\n",
       "      <th>max</th>\n",
       "      <td>2.362331</td>\n",
       "      <td>1.343769</td>\n",
       "      <td>16.003790</td>\n",
       "      <td>185.364347</td>\n",
       "    </tr>\n",
       "  </tbody>\n",
       "</table>\n",
       "</div>"
      ],
      "text/plain": [
       "                  f0             f1             f2        product\n",
       "count  100000.000000  100000.000000  100000.000000  100000.000000\n",
       "mean        0.500419       0.250143       2.502647      92.500000\n",
       "std         0.871832       0.504433       3.248248      44.288691\n",
       "min        -1.408605      -0.848218     -12.088328       0.000000\n",
       "25%        -0.072580      -0.200881       0.287748      56.497507\n",
       "50%         0.502360       0.250252       2.515969      91.849972\n",
       "75%         1.073581       0.700646       4.715088     128.564089\n",
       "max         2.362331       1.343769      16.003790     185.364347"
      ]
     },
     "metadata": {},
     "output_type": "display_data"
    }
   ],
   "source": [
    "# исследуем данные в наборах на наличие выбросов, а также определим их взаимосвязи\n",
    "display(geo_data_0.describe())"
   ]
  },
  {
   "cell_type": "markdown",
   "metadata": {},
   "source": [
    "На первый взгляд данные в наборах не имеют аномальных значений:    \n",
    "- данные показателя **f0** принимают значения от **-1.408605 до 2.362331**;\n",
    "- данные показателя **f1** принимают значения от **-0.848218 до 1.343769**;\n",
    "- данные показателя **f2** принимают значения от **-12.088328 до 16.003790**;\n",
    "- данные показателя **product** принимают значения от **0.000000 до 185.364347**.    \n",
    "\n",
    "Получается, что в каких-то скважинах объем запасов нефти равен 0, что вполне допустимо.     \n",
    "Построим графики распределения величин, чтобы визуально проверить наличие аномалий."
   ]
  },
  {
   "cell_type": "code",
   "execution_count": 9,
   "metadata": {
    "scrolled": false
   },
   "outputs": [
    {
     "data": {
      "image/png": "[encoded data removed]",
      "text/plain": [
       "<Figure size 720x504 with 1 Axes>"
      ]
     },
     "metadata": {
      "needs_background": "light"
     },
     "output_type": "display_data"
    },
    {
     "data": {
      "image/png": "[encoded data removed]",
      "text/plain": [
       "<Figure size 720x504 with 1 Axes>"
      ]
     },
     "metadata": {
      "needs_background": "light"
     },
     "output_type": "display_data"
    },
    {
     "data": {
      "image/png": "[encoded data removed]",
      "text/plain": [
       "<Figure size 720x504 with 1 Axes>"
      ]
     },
     "metadata": {
      "needs_background": "light"
     },
     "output_type": "display_data"
    },
    {
     "data": {
      "image/png": "[encoded data removed]",
      "text/plain": [
       "<Figure size 720x504 with 1 Axes>"
      ]
     },
     "metadata": {
      "needs_background": "light"
     },
     "output_type": "display_data"
    }
   ],
   "source": [
    "for i in geo_data_0.select_dtypes('float64'):\n",
    "    ax = geo_data_0[i].plot(kind='hist', bins=100)\n",
    "    ax.set_title(f'Распределение характеристики {i} набора geo_data_0')\n",
    "    ax.set_xlabel(f'Значение исследуемой характеристики {i}')\n",
    "    ax.set_ylabel(f'Частота появления исследуемой характеристики  {i}')\n",
    "    plt.show()"
   ]
  },
  {
   "cell_type": "markdown",
   "metadata": {},
   "source": [
    "Из полученных графиков видно:    \n",
    "- только признак **f2** имеет приемлемое нормальное распределение;\n",
    "- признаки **f0** и **f1** изменяются волнообразно (*несколько наборов наблюдений свели в одно?*);\n",
    "- признак **product** скорее имеет нормальное распределение, но с ярко выраженными пиками (*категориальный признак?*)."
   ]
  },
  {
   "cell_type": "code",
   "execution_count": 10,
   "metadata": {
    "scrolled": false
   },
   "outputs": [
    {
     "data": {
      "image/png": "[encoded data removed]",
      "text/plain": [
       "<Figure size 720x504 with 2 Axes>"
      ]
     },
     "metadata": {
      "needs_background": "light"
     },
     "output_type": "display_data"
    }
   ],
   "source": [
    "# построим тепловую карту для оценки степени влияния входных признаков на целевой - product\n",
    "ax = sns.heatmap(geo_data_0.corr(), annot=True, cmap='crest')\n",
    "ax.set_title('Оценка степени влияния входных признаков на целевой - product')\n",
    "ax.set_xlabel('Признаки')\n",
    "ax.set_ylabel('Признаки')\n",
    "plt.show()"
   ]
  },
  {
   "cell_type": "markdown",
   "metadata": {},
   "source": [
    "**Самым значимым** входным признаком для целевого **является f2**, который как раз и имеет нормальное распределение.    \n",
    "Продолжим исследование и определим зависимости на двух других наборах данных."
   ]
  },
  {
   "cell_type": "code",
   "execution_count": 11,
   "metadata": {},
   "outputs": [
    {
     "data": {
      "text/html": [
       "<div>\n",
       "<style scoped>\n",
       "    .dataframe tbody tr th:only-of-type {\n",
       "        vertical-align: middle;\n",
       "    }\n",
       "\n",
       "    .dataframe tbody tr th {\n",
       "        vertical-align: top;\n",
       "    }\n",
       "\n",
       "    .dataframe thead th {\n",
       "        text-align: right;\n",
       "    }\n",
       "</style>\n",
       "<table border=\"1\" class=\"dataframe\">\n",
       "  <thead>\n",
       "    <tr style=\"text-align: right;\">\n",
       "      <th></th>\n",
       "      <th>f0</th>\n",
       "      <th>f1</th>\n",
       "      <th>f2</th>\n",
       "      <th>product</th>\n",
       "    </tr>\n",
       "  </thead>\n",
       "  <tbody>\n",
       "    <tr>\n",
       "      <th>count</th>\n",
       "      <td>100000.000000</td>\n",
       "      <td>100000.000000</td>\n",
       "      <td>100000.000000</td>\n",
       "      <td>100000.000000</td>\n",
       "    </tr>\n",
       "    <tr>\n",
       "      <th>mean</th>\n",
       "      <td>1.141296</td>\n",
       "      <td>-4.796579</td>\n",
       "      <td>2.494541</td>\n",
       "      <td>68.825000</td>\n",
       "    </tr>\n",
       "    <tr>\n",
       "      <th>std</th>\n",
       "      <td>8.965932</td>\n",
       "      <td>5.119872</td>\n",
       "      <td>1.703572</td>\n",
       "      <td>45.944423</td>\n",
       "    </tr>\n",
       "    <tr>\n",
       "      <th>min</th>\n",
       "      <td>-31.609576</td>\n",
       "      <td>-26.358598</td>\n",
       "      <td>-0.018144</td>\n",
       "      <td>0.000000</td>\n",
       "    </tr>\n",
       "    <tr>\n",
       "      <th>25%</th>\n",
       "      <td>-6.298551</td>\n",
       "      <td>-8.267985</td>\n",
       "      <td>1.000021</td>\n",
       "      <td>26.953261</td>\n",
       "    </tr>\n",
       "    <tr>\n",
       "      <th>50%</th>\n",
       "      <td>1.153055</td>\n",
       "      <td>-4.813172</td>\n",
       "      <td>2.011479</td>\n",
       "      <td>57.085625</td>\n",
       "    </tr>\n",
       "    <tr>\n",
       "      <th>75%</th>\n",
       "      <td>8.621015</td>\n",
       "      <td>-1.332816</td>\n",
       "      <td>3.999904</td>\n",
       "      <td>107.813044</td>\n",
       "    </tr>\n",
       "    <tr>\n",
       "      <th>max</th>\n",
       "      <td>29.421755</td>\n",
       "      <td>18.734063</td>\n",
       "      <td>5.019721</td>\n",
       "      <td>137.945408</td>\n",
       "    </tr>\n",
       "  </tbody>\n",
       "</table>\n",
       "</div>"
      ],
      "text/plain": [
       "                  f0             f1             f2        product\n",
       "count  100000.000000  100000.000000  100000.000000  100000.000000\n",
       "mean        1.141296      -4.796579       2.494541      68.825000\n",
       "std         8.965932       5.119872       1.703572      45.944423\n",
       "min       -31.609576     -26.358598      -0.018144       0.000000\n",
       "25%        -6.298551      -8.267985       1.000021      26.953261\n",
       "50%         1.153055      -4.813172       2.011479      57.085625\n",
       "75%         8.621015      -1.332816       3.999904     107.813044\n",
       "max        29.421755      18.734063       5.019721     137.945408"
      ]
     },
     "metadata": {},
     "output_type": "display_data"
    }
   ],
   "source": [
    "# исследуем данные в наборе geo_data_1\n",
    "display(geo_data_1.describe())"
   ]
  },
  {
   "cell_type": "markdown",
   "metadata": {},
   "source": [
    "В наборе **geo_data_1** данные тоже не вызывают вопросов:    \n",
    "- данные показателя **f0** принимают значения от **-31.609576 до 29.421755**;\n",
    "- данные показателя **f1** принимают значения от **-26.358598 до 18.734063**;\n",
    "- данные показателя **f2** принимают значения от **-0.018144 до 5.019721**;\n",
    "- данные показателя **product** принимают значения от **0.000000 до 137.945408**.    \n",
    "\n",
    "Дополнительно можно отметить, что данные набора **geo_data_1** имеют значения в полях **f0** и **f1** в **30 раз превышающие** аналогичные показатели набора **geo_data_0**, а в поле **f2**, который влиял на целевой признак, наоборот - **меньше** аналогичных в **geo_data_0** в **3 раза**.\n",
    "В каких-то скважинах объем запасов нефти также равен 0.     \n",
    "Построим графики распределения величин, чтобы визуально проверить наличие аномалий."
   ]
  },
  {
   "cell_type": "code",
   "execution_count": 12,
   "metadata": {
    "scrolled": false
   },
   "outputs": [
    {
     "data": {
      "image/png": "[encoded data removed]",
      "text/plain": [
       "<Figure size 720x504 with 1 Axes>"
      ]
     },
     "metadata": {
      "needs_background": "light"
     },
     "output_type": "display_data"
    },
    {
     "data": {
      "image/png": "[encoded data removed]",
      "text/plain": [
       "<Figure size 720x504 with 1 Axes>"
      ]
     },
     "metadata": {
      "needs_background": "light"
     },
     "output_type": "display_data"
    },
    {
     "data": {
      "image/png": "[encoded data removed]",
      "text/plain": [
       "<Figure size 720x504 with 1 Axes>"
      ]
     },
     "metadata": {
      "needs_background": "light"
     },
     "output_type": "display_data"
    },
    {
     "data": {
      "image/png": "[encoded data removed]",
      "text/plain": [
       "<Figure size 720x504 with 1 Axes>"
      ]
     },
     "metadata": {
      "needs_background": "light"
     },
     "output_type": "display_data"
    }
   ],
   "source": [
    "for i in geo_data_1.select_dtypes('float64'):\n",
    "    ax = geo_data_1[i].plot(kind='hist', bins=100)\n",
    "    ax.set_title(f'Распределение характеристики {i} набора geo_data_1')\n",
    "    ax.set_xlabel(f'Значение исследуемой характеристики {i}')\n",
    "    ax.set_ylabel(f'Частота появления исследуемой характеристики  {i}')\n",
    "    plt.show()"
   ]
  },
  {
   "cell_type": "markdown",
   "metadata": {},
   "source": [
    "Из полученных графиков видно:    \n",
    "- только признак **f1** имеет приемлемое нормальное распределение;\n",
    "- признаки **f2** и **product** содержат дискретные значения;\n",
    "- признак **f0** имеет волнообразное распределение (*несколько наборов наблюдений свели в один набор?*).\n",
    "\n",
    "Признаки изменили свое распределение, если сравнивать наборы данных geo_data_0 и geo_data_1.\n",
    "Признак f2 набора geo_data_0 заменил признак f1 набора geo_data_1. Но также подтверждается версия, что признак product является категориальным признаком."
   ]
  },
  {
   "cell_type": "code",
   "execution_count": 13,
   "metadata": {},
   "outputs": [
    {
     "data": {
      "image/png": "[encoded data removed]",
      "text/plain": [
       "<Figure size 720x504 with 2 Axes>"
      ]
     },
     "metadata": {
      "needs_background": "light"
     },
     "output_type": "display_data"
    }
   ],
   "source": [
    "# построим тепловую карту для оценки степени влияния входных признаков на целевой - product\n",
    "ax = sns.heatmap(geo_data_1.corr(), annot=True, cmap='crest')\n",
    "ax.set_title('Оценка степени влияния входных признаков на целевой - product')\n",
    "ax.set_xlabel('Признаки')\n",
    "ax.set_ylabel('Признаки')\n",
    "plt.show()"
   ]
  },
  {
   "cell_type": "markdown",
   "metadata": {},
   "source": [
    "Что же мы видим? Что у признаков f2 и product высокая корреляция.  \n",
    "Оставшиеся признаки f0 и f1 вообще не коррелируют с целевым признаком."
   ]
  },
  {
   "cell_type": "code",
   "execution_count": 14,
   "metadata": {
    "scrolled": true
   },
   "outputs": [
    {
     "data": {
      "text/html": [
       "<div>\n",
       "<style scoped>\n",
       "    .dataframe tbody tr th:only-of-type {\n",
       "        vertical-align: middle;\n",
       "    }\n",
       "\n",
       "    .dataframe tbody tr th {\n",
       "        vertical-align: top;\n",
       "    }\n",
       "\n",
       "    .dataframe thead th {\n",
       "        text-align: right;\n",
       "    }\n",
       "</style>\n",
       "<table border=\"1\" class=\"dataframe\">\n",
       "  <thead>\n",
       "    <tr style=\"text-align: right;\">\n",
       "      <th></th>\n",
       "      <th>f0</th>\n",
       "      <th>f1</th>\n",
       "      <th>f2</th>\n",
       "      <th>product</th>\n",
       "    </tr>\n",
       "  </thead>\n",
       "  <tbody>\n",
       "    <tr>\n",
       "      <th>count</th>\n",
       "      <td>100000.000000</td>\n",
       "      <td>100000.000000</td>\n",
       "      <td>100000.000000</td>\n",
       "      <td>100000.000000</td>\n",
       "    </tr>\n",
       "    <tr>\n",
       "      <th>mean</th>\n",
       "      <td>0.002023</td>\n",
       "      <td>-0.002081</td>\n",
       "      <td>2.495128</td>\n",
       "      <td>95.000000</td>\n",
       "    </tr>\n",
       "    <tr>\n",
       "      <th>std</th>\n",
       "      <td>1.732045</td>\n",
       "      <td>1.730417</td>\n",
       "      <td>3.473445</td>\n",
       "      <td>44.749921</td>\n",
       "    </tr>\n",
       "    <tr>\n",
       "      <th>min</th>\n",
       "      <td>-8.760004</td>\n",
       "      <td>-7.084020</td>\n",
       "      <td>-11.970335</td>\n",
       "      <td>0.000000</td>\n",
       "    </tr>\n",
       "    <tr>\n",
       "      <th>25%</th>\n",
       "      <td>-1.162288</td>\n",
       "      <td>-1.174820</td>\n",
       "      <td>0.130359</td>\n",
       "      <td>59.450441</td>\n",
       "    </tr>\n",
       "    <tr>\n",
       "      <th>50%</th>\n",
       "      <td>0.009424</td>\n",
       "      <td>-0.009482</td>\n",
       "      <td>2.484236</td>\n",
       "      <td>94.925613</td>\n",
       "    </tr>\n",
       "    <tr>\n",
       "      <th>75%</th>\n",
       "      <td>1.158535</td>\n",
       "      <td>1.163678</td>\n",
       "      <td>4.858794</td>\n",
       "      <td>130.595027</td>\n",
       "    </tr>\n",
       "    <tr>\n",
       "      <th>max</th>\n",
       "      <td>7.238262</td>\n",
       "      <td>7.844801</td>\n",
       "      <td>16.739402</td>\n",
       "      <td>190.029838</td>\n",
       "    </tr>\n",
       "  </tbody>\n",
       "</table>\n",
       "</div>"
      ],
      "text/plain": [
       "                  f0             f1             f2        product\n",
       "count  100000.000000  100000.000000  100000.000000  100000.000000\n",
       "mean        0.002023      -0.002081       2.495128      95.000000\n",
       "std         1.732045       1.730417       3.473445      44.749921\n",
       "min        -8.760004      -7.084020     -11.970335       0.000000\n",
       "25%        -1.162288      -1.174820       0.130359      59.450441\n",
       "50%         0.009424      -0.009482       2.484236      94.925613\n",
       "75%         1.158535       1.163678       4.858794     130.595027\n",
       "max         7.238262       7.844801      16.739402     190.029838"
      ]
     },
     "metadata": {},
     "output_type": "display_data"
    }
   ],
   "source": [
    "# исследуем данные в наборах на наличие выбросов, а также определим их взаимосвязи\n",
    "display(geo_data_2.describe())"
   ]
  },
  {
   "cell_type": "markdown",
   "metadata": {},
   "source": [
    "Данные в наборе geo_data_2, как и все предыдущие, на первый взгляд не имеют аномалий:    \n",
    "- данные показателя **f0** принимают значения от **-8.760004 до 7.238262**;\n",
    "- данные показателя **f1** принимают значения от **-7.084020 до 7.844801**;\n",
    "- данные показателя **f2** принимают значения от **-11.970335 до 16.739402**;\n",
    "- данные показателя **product** принимают значения от **0.000000 до 190.029838**.    \n",
    "\n",
    "Дополнительно можно отметить, что данные набора **geo_data_1** имеют значения в полях **f0** и **f1** ,**превышающие** аналогичные показатели набора **geo_data_0**, приблизительно **в 4 раза**, а в поле **f2**, который влиял на целевой признак, **все в порядке**, данные соотносятся друг с другом. В каких-то скважинах объем запасов нефти также равен 0.\n",
    "Построим графики распределения величин, чтобы визуально проверить наличие аномалий."
   ]
  },
  {
   "cell_type": "code",
   "execution_count": 15,
   "metadata": {},
   "outputs": [
    {
     "data": {
      "text/html": [
       "<div>\n",
       "<style scoped>\n",
       "    .dataframe tbody tr th:only-of-type {\n",
       "        vertical-align: middle;\n",
       "    }\n",
       "\n",
       "    .dataframe tbody tr th {\n",
       "        vertical-align: top;\n",
       "    }\n",
       "\n",
       "    .dataframe thead th {\n",
       "        text-align: right;\n",
       "    }\n",
       "</style>\n",
       "<table border=\"1\" class=\"dataframe\">\n",
       "  <thead>\n",
       "    <tr style=\"text-align: right;\">\n",
       "      <th></th>\n",
       "      <th>id</th>\n",
       "      <th>f0</th>\n",
       "      <th>f1</th>\n",
       "      <th>f2</th>\n",
       "      <th>product</th>\n",
       "    </tr>\n",
       "  </thead>\n",
       "  <tbody>\n",
       "    <tr>\n",
       "      <th>min</th>\n",
       "      <td>006OJ</td>\n",
       "      <td>-1.408605</td>\n",
       "      <td>-0.848218</td>\n",
       "      <td>-12.088328</td>\n",
       "      <td>0.000000</td>\n",
       "    </tr>\n",
       "    <tr>\n",
       "      <th>max</th>\n",
       "      <td>zzzLH</td>\n",
       "      <td>2.362331</td>\n",
       "      <td>1.343769</td>\n",
       "      <td>16.003790</td>\n",
       "      <td>185.364347</td>\n",
       "    </tr>\n",
       "  </tbody>\n",
       "</table>\n",
       "</div>"
      ],
      "text/plain": [
       "        id        f0        f1         f2     product\n",
       "min  006OJ -1.408605 -0.848218 -12.088328    0.000000\n",
       "max  zzzLH  2.362331  1.343769  16.003790  185.364347"
      ]
     },
     "metadata": {},
     "output_type": "display_data"
    },
    {
     "data": {
      "text/html": [
       "<div>\n",
       "<style scoped>\n",
       "    .dataframe tbody tr th:only-of-type {\n",
       "        vertical-align: middle;\n",
       "    }\n",
       "\n",
       "    .dataframe tbody tr th {\n",
       "        vertical-align: top;\n",
       "    }\n",
       "\n",
       "    .dataframe thead th {\n",
       "        text-align: right;\n",
       "    }\n",
       "</style>\n",
       "<table border=\"1\" class=\"dataframe\">\n",
       "  <thead>\n",
       "    <tr style=\"text-align: right;\">\n",
       "      <th></th>\n",
       "      <th>id</th>\n",
       "      <th>f0</th>\n",
       "      <th>f1</th>\n",
       "      <th>f2</th>\n",
       "      <th>product</th>\n",
       "    </tr>\n",
       "  </thead>\n",
       "  <tbody>\n",
       "    <tr>\n",
       "      <th>min</th>\n",
       "      <td>0022J</td>\n",
       "      <td>-31.609576</td>\n",
       "      <td>-26.358598</td>\n",
       "      <td>-0.018144</td>\n",
       "      <td>0.000000</td>\n",
       "    </tr>\n",
       "    <tr>\n",
       "      <th>max</th>\n",
       "      <td>zzzvI</td>\n",
       "      <td>29.421755</td>\n",
       "      <td>18.734063</td>\n",
       "      <td>5.019721</td>\n",
       "      <td>137.945408</td>\n",
       "    </tr>\n",
       "  </tbody>\n",
       "</table>\n",
       "</div>"
      ],
      "text/plain": [
       "        id         f0         f1        f2     product\n",
       "min  0022J -31.609576 -26.358598 -0.018144    0.000000\n",
       "max  zzzvI  29.421755  18.734063  5.019721  137.945408"
      ]
     },
     "metadata": {},
     "output_type": "display_data"
    },
    {
     "data": {
      "text/html": [
       "<div>\n",
       "<style scoped>\n",
       "    .dataframe tbody tr th:only-of-type {\n",
       "        vertical-align: middle;\n",
       "    }\n",
       "\n",
       "    .dataframe tbody tr th {\n",
       "        vertical-align: top;\n",
       "    }\n",
       "\n",
       "    .dataframe thead th {\n",
       "        text-align: right;\n",
       "    }\n",
       "</style>\n",
       "<table border=\"1\" class=\"dataframe\">\n",
       "  <thead>\n",
       "    <tr style=\"text-align: right;\">\n",
       "      <th></th>\n",
       "      <th>id</th>\n",
       "      <th>f0</th>\n",
       "      <th>f1</th>\n",
       "      <th>f2</th>\n",
       "      <th>product</th>\n",
       "    </tr>\n",
       "  </thead>\n",
       "  <tbody>\n",
       "    <tr>\n",
       "      <th>min</th>\n",
       "      <td>009Gl</td>\n",
       "      <td>-8.760004</td>\n",
       "      <td>-7.084020</td>\n",
       "      <td>-11.970335</td>\n",
       "      <td>0.000000</td>\n",
       "    </tr>\n",
       "    <tr>\n",
       "      <th>max</th>\n",
       "      <td>zzz9h</td>\n",
       "      <td>7.238262</td>\n",
       "      <td>7.844801</td>\n",
       "      <td>16.739402</td>\n",
       "      <td>190.029838</td>\n",
       "    </tr>\n",
       "  </tbody>\n",
       "</table>\n",
       "</div>"
      ],
      "text/plain": [
       "        id        f0        f1         f2     product\n",
       "min  009Gl -8.760004 -7.084020 -11.970335    0.000000\n",
       "max  zzz9h  7.238262  7.844801  16.739402  190.029838"
      ]
     },
     "metadata": {},
     "output_type": "display_data"
    }
   ],
   "source": [
    "display(geo_data_0.agg(['min','max']))\n",
    "display(geo_data_1.agg(['min','max']))\n",
    "display(geo_data_2.agg(['min','max']))"
   ]
  },
  {
   "cell_type": "code",
   "execution_count": 16,
   "metadata": {
    "scrolled": false
   },
   "outputs": [
    {
     "data": {
      "image/png": "[encoded data removed]",
      "text/plain": [
       "<Figure size 720x504 with 1 Axes>"
      ]
     },
     "metadata": {
      "needs_background": "light"
     },
     "output_type": "display_data"
    },
    {
     "data": {
      "image/png": "[encoded data removed]",
      "text/plain": [
       "<Figure size 720x504 with 1 Axes>"
      ]
     },
     "metadata": {
      "needs_background": "light"
     },
     "output_type": "display_data"
    },
    {
     "data": {
      "image/png": "[encoded data removed]",
      "text/plain": [
       "<Figure size 720x504 with 1 Axes>"
      ]
     },
     "metadata": {
      "needs_background": "light"
     },
     "output_type": "display_data"
    },
    {
     "data": {
      "image/png": "[encoded data removed]",
      "text/plain": [
       "<Figure size 720x504 with 1 Axes>"
      ]
     },
     "metadata": {
      "needs_background": "light"
     },
     "output_type": "display_data"
    }
   ],
   "source": [
    "for i in geo_data_2.select_dtypes('float64'):\n",
    "    ax = geo_data_2[i].plot(kind='hist', bins=100)\n",
    "    ax.set_title(f'Распределение характеристики {i} набора geo_data_0')\n",
    "    ax.set_xlabel(f'Значение исследуемой характеристики {i}')\n",
    "    ax.set_ylabel(f'Частота появления исследуемой характеристики  {i}')\n",
    "    plt.show()"
   ]
  },
  {
   "cell_type": "markdown",
   "metadata": {},
   "source": [
    "Из полученных графиков видно:    \n",
    "- признаки **f0**, **f1**, **f2** имеют нормальное распределение;\n",
    "- признак **product** скорее имеет нормальное распределение, но с ярко выраженными пиками, как и в наборе geo_data_2 (*категориальные данные?*)."
   ]
  },
  {
   "cell_type": "code",
   "execution_count": 17,
   "metadata": {
    "scrolled": false
   },
   "outputs": [
    {
     "data": {
      "image/png": "[encoded data removed]",
      "text/plain": [
       "<Figure size 720x504 with 2 Axes>"
      ]
     },
     "metadata": {
      "needs_background": "light"
     },
     "output_type": "display_data"
    }
   ],
   "source": [
    "# построим тепловую карту для оценки степени влияния входных признаков на целевой - product\n",
    "ax = sns.heatmap(geo_data_2.corr(), annot=True, cmap='crest')\n",
    "ax.set_title('Оценка степени влияния входных признаков на целевой - product')\n",
    "ax.set_xlabel('Признаки')\n",
    "ax.set_ylabel('Признаки')\n",
    "plt.show()"
   ]
  },
  {
   "cell_type": "markdown",
   "metadata": {},
   "source": [
    "Самым значимым входным признаком для целевого в наборе geo_data_2 является **f2**.       \n",
    "Эти данные соответствуют выводам по первому набору данных **geo_data_0**."
   ]
  },
  {
   "cell_type": "code",
   "execution_count": 18,
   "metadata": {
    "scrolled": false
   },
   "outputs": [
    {
     "data": {
      "image/png": "[encoded data removed]",
      "text/plain": [
       "<Figure size 720x504 with 1 Axes>"
      ]
     },
     "metadata": {
      "needs_background": "light"
     },
     "output_type": "display_data"
    },
    {
     "data": {
      "image/png": "[encoded data removed]",
      "text/plain": [
       "<Figure size 720x504 with 1 Axes>"
      ]
     },
     "metadata": {
      "needs_background": "light"
     },
     "output_type": "display_data"
    },
    {
     "data": {
      "image/png": "[encoded data removed]",
      "text/plain": [
       "<Figure size 720x504 with 1 Axes>"
      ]
     },
     "metadata": {
      "needs_background": "light"
     },
     "output_type": "display_data"
    },
    {
     "data": {
      "image/png": "[encoded data removed]",
      "text/plain": [
       "<Figure size 720x504 with 1 Axes>"
      ]
     },
     "metadata": {
      "needs_background": "light"
     },
     "output_type": "display_data"
    }
   ],
   "source": [
    "# посмотрим, как одинаковые признаки соотносятся между регионами. Отобразим данные на графике плотности\n",
    "for i in geo_data_0.select_dtypes('float64'):\n",
    "    ax = sns.kdeplot(geo_data_0[i], shade = True, color='red', label = f'geo_data_0')\n",
    "    sns.kdeplot(geo_data_1[i], shade = True, color='blue', label = f'geo_data_1')\n",
    "    sns.kdeplot(geo_data_2[i], shade = True, color='green', label = f'geo_data_2')\n",
    "    ax.set_title(f'График плотности распределения признака {i}')\n",
    "    ax.set_xlabel(f'Значение признака {i}')\n",
    "    ax.set_ylabel(f'Плотность признака {i}')\n",
    "    ax.legend(loc ='upper right')\n",
    "    plt.show()"
   ]
  },
  {
   "cell_type": "markdown",
   "metadata": {},
   "source": [
    "**Вывод по результатам исследовательского анализа данных**:\n",
    "- самый адекватный набор данных - **geo_data_2**, в нем:\n",
    "    - все входные признаки имеют нормальное распределение,\n",
    "    - целевой признак product похож на категориальный,\n",
    "    - самая высокая корреляция между входным и целевым признаком у f2;\n",
    "- следующий по адекватности - **geo_data_1**, в нем:\n",
    "    - только входной признак f1 имеет нормальное распределение;\n",
    "    - входной f2 и целевой product содержат дискретные значения;\n",
    "    - входной признак f2 имееют очень высокую корреляцию (1) с целевым;\n",
    "    - входной признак f0 имеет 2 холма в распределении;\n",
    "- самый странный набор - **geo_data_0**, в нем:\n",
    "    - только входной признак f2 имеет нормальное распределение;\n",
    "    - входной признак f0 имеет 4 холма, f1 - 3 холма в распределении;\n",
    "    - целевой признак product похож на категориальный,;\n",
    "    - самая высокая корреляция между входным и целевым признаком у f2;"
   ]
  },
  {
   "cell_type": "markdown",
   "metadata": {},
   "source": [
    "## Обучение и проверка модели"
   ]
  },
  {
   "cell_type": "markdown",
   "metadata": {},
   "source": [
    "Напишем функцию для подготовки данных для обучения модели"
   ]
  },
  {
   "cell_type": "code",
   "execution_count": 19,
   "metadata": {},
   "outputs": [],
   "source": [
    "# задаем размер валидационной выборки и значение RANDOM_STATE для всех наборов данных\n",
    "TEST_SIZE = 0.25\n",
    "RANDOM_STATE=42"
   ]
  },
  {
   "cell_type": "code",
   "execution_count": 20,
   "metadata": {},
   "outputs": [],
   "source": [
    "# создаем функцию для обучения модели\n",
    "def prep_data(geodata: pd.DataFrame,\n",
    "              target_col_name: str,\n",
    "              drop_col_names: list,\n",
    "              qnt_col_names: list,\n",
    "              RANDOM_STATE: int,\n",
    "              TEST_SIZE: float\n",
    "             ):\n",
    "    # выделяем целевой признак из данных\n",
    "    X_0 = geodata.drop(drop_col_names, axis=1)\n",
    "    y_0 = geodata[target_col_name]\n",
    "\n",
    "    # делим выборку geo_data_0 на обучающую и валидационную\n",
    "    X_train, X_test, y_train, y_test = train_test_split(\n",
    "            X_0, \n",
    "            y_0, \n",
    "            random_state=RANDOM_STATE,\n",
    "            test_size=TEST_SIZE\n",
    "        )\n",
    "\n",
    "    # масштабируем количественные признаки с помощью StandardScaler.\n",
    "    scaler = StandardScaler()\n",
    "    X_train_scaled = scaler.fit_transform(X_train[qnt_col_names])\n",
    "    X_test_scaled = scaler.transform(X_test[qnt_col_names]) \n",
    "    df_train_scaled = pd.DataFrame(X_train_scaled, columns=qnt_col_names)\n",
    "    df_test_scaled = pd.DataFrame(X_test_scaled, columns=qnt_col_names)\n",
    "    \n",
    "    # инициализируем модель линейной регрессии\n",
    "    model_lr  = LinearRegression()\n",
    "\n",
    "    # обучаем модель\n",
    "    model_lr.fit(df_train_scaled, y_train)  \n",
    "\n",
    "    # формируем предсказания на валидационной выборке\n",
    "    y_pred = model_lr.predict(df_test_scaled) \n",
    "\n",
    "    return y_test, y_pred"
   ]
  },
  {
   "cell_type": "code",
   "execution_count": 21,
   "metadata": {},
   "outputs": [],
   "source": [
    "# создаем функцию для расчета характеристик модели\n",
    "def geo_data_metrics(model_geo_data):\n",
    "    # оцениваем качество модели на тестовой выборке, рассчитываем RMSE модели\n",
    "    rmse = round(mean_squared_error(model_geo_data[0], model_geo_data[1])**0.5,3)\n",
    "\n",
    "    # рассчитываем разницу (ошибку) между реальным и предсказанным значением в %\n",
    "    delta_test_pred = round(100*(model_geo_data[1].sum() - model_geo_data[0].sum())/model_geo_data[1].sum(),2)\n",
    "    \n",
    "    # рассчитываем средний запас сырья в одной скважине по предсказаниям модели\n",
    "    raw_material_mean = round(model_geo_data[1].sum()/len(model_geo_data[1]),3)\n",
    "    \n",
    "    return rmse, delta_test_pred, raw_material_mean"
   ]
  },
  {
   "cell_type": "code",
   "execution_count": 22,
   "metadata": {},
   "outputs": [],
   "source": [
    "# обучаем модель на данных 0 региона - geo_data_0\n",
    "model_geo_data_0 = prep_data(\n",
    "    geo_data_0,\n",
    "    'product',\n",
    "    ['id','product'],\n",
    "    ['f0', 'f1', 'f2'],\n",
    "    RANDOM_STATE,\n",
    "    TEST_SIZE    \n",
    ")"
   ]
  },
  {
   "cell_type": "code",
   "execution_count": 23,
   "metadata": {},
   "outputs": [],
   "source": [
    "# обучаем модель на данных 1 региона - geo_data_1\n",
    "model_geo_data_1 = prep_data(\n",
    "    geo_data_1,\n",
    "    'product',\n",
    "    ['id','product'],\n",
    "    ['f0', 'f1', 'f2'],\n",
    "    RANDOM_STATE,\n",
    "    TEST_SIZE    \n",
    ")"
   ]
  },
  {
   "cell_type": "code",
   "execution_count": 24,
   "metadata": {},
   "outputs": [],
   "source": [
    "# обучаем модель на данных 2 региона - geo_data_2\n",
    "model_geo_data_2 = prep_data(\n",
    "    geo_data_2,\n",
    "    'product',\n",
    "    ['id','product'],\n",
    "    ['f0', 'f1', 'f2'],\n",
    "    RANDOM_STATE,\n",
    "    TEST_SIZE    \n",
    ")"
   ]
  },
  {
   "cell_type": "code",
   "execution_count": 25,
   "metadata": {},
   "outputs": [],
   "source": [
    "# проводим оценку построения модели и дополнительные расчеты\n",
    "stat_0 = geo_data_metrics(model_geo_data_0)\n",
    "stat_1 = geo_data_metrics(model_geo_data_1)\n",
    "stat_2 = geo_data_metrics(model_geo_data_2)"
   ]
  },
  {
   "cell_type": "code",
   "execution_count": 26,
   "metadata": {},
   "outputs": [
    {
     "name": "stdout",
     "output_type": "stream",
     "text": [
      "RMSE модели geo_data_0: 37.757, занижение объемов на 0.08%, ср.запас сырья в 1 скважине: 92.399\n",
      "RMSE модели geo_data_1: 0.89, завышение объемов на 0.02%, ср.запас сырья в 1 скважине: 68.713\n",
      "RMSE модели geo_data_2: 40.146, завышение объемов на 0.4%, ср.запас сырья в 1 скважине: 94.771\n"
     ]
    }
   ],
   "source": [
    "# выводим на экран результаты оценки и расчетов\n",
    "print(f'RMSE модели geo_data_0: {stat_0[0]}, занижение объемов на {stat_0[1]}%, ср.запас сырья в 1 скважине: {stat_0[2]}')\n",
    "print(f'RMSE модели geo_data_1: {stat_1[0]}, завышение объемов на {-stat_1[1]}%, ср.запас сырья в 1 скважине: {stat_1[2]}')\n",
    "print(f'RMSE модели geo_data_2: {stat_2[0]}, завышение объемов на {-stat_2[1]}%, ср.запас сырья в 1 скважине: {stat_2[2]}')"
   ]
  },
  {
   "cell_type": "markdown",
   "metadata": {},
   "source": [
    "**Вывод по результатам обучения моделей**:\n",
    "- модель линейной регрессии, обученная на данных для 0-го региона:\n",
    "    - показала ошибку RMSE =  37.757,\n",
    "    - предсказанный объем оказался меньше реального на 0,08%;\n",
    "    - средний запас сырья в 1 скважине = 92,399 тыс.баррелей;\n",
    "- модель линейной регрессии, обученная на данных для 1-го региона:\n",
    "    - показала ошибку RMSE =  0.89,\n",
    "    - предсказанный объем оказался больше реального на 0,02%;\n",
    "    - средний запас сырья в 1 скважине = 68.713 тыс.баррелей;\n",
    "- модель линейной регрессии, обученная на данных для 2-го региона:\n",
    "    - показала ошибку RMSE =  40.146,\n",
    "    - предсказанный объем оказался больше реального на 0,4%;\n",
    "    - средний запас сырья в 1 скважине = 94,771 тыс.баррелей.\n",
    "    \n",
    "По показателям в лидерах оказалась модель, построенная для 0-го региона."
   ]
  },
  {
   "cell_type": "markdown",
   "metadata": {},
   "source": [
    "## Подготовка к расчёту прибыли"
   ]
  },
  {
   "cell_type": "markdown",
   "metadata": {},
   "source": [
    "**Исходные условия:**\n",
    "1. При разведке региона исследуют 500 точек, из которых с помощью машинного обучения выбирают 200 лучших для разработки.    \n",
    "2. Бюджет на разработку скважин в регионе — 10 млрд рублей.    \n",
    "3. При нынешних ценах один баррель сырья приносит 450 рублей дохода. Доход с каждой единицы продукта составляет 450 тыс. рублей, поскольку объём указан в тысячах баррелей."
   ]
  },
  {
   "cell_type": "code",
   "execution_count": 27,
   "metadata": {},
   "outputs": [],
   "source": [
    "# запишем исходные требования к скважинам в переменные\n",
    "BOREHOLES = 500\n",
    "BEST_BOREHOLES = 200\n",
    "BUDGET = 10000000000\n",
    "BUDGET_MLRD = 10\n",
    "PROFIT_RUB_PER_BARREL = 450\n",
    "PROFIT_RUB_PER_1000BARREL = 450000"
   ]
  },
  {
   "cell_type": "code",
   "execution_count": 28,
   "metadata": {},
   "outputs": [
    {
     "name": "stdout",
     "output_type": "stream",
     "text": [
      "Необходимый запас сырья в одной скважине для безубыточной разработки:     111.0 тыс.баррелей\n"
     ]
    }
   ],
   "source": [
    "# рассчитаем запас сырья, который должен быть в одной скважине, чтобы выйти в 0\n",
    "raw_material_per_borehole = (BUDGET/PROFIT_RUB_PER_1000BARREL)/BEST_BOREHOLES\n",
    "\n",
    "print(f'Необходимый запас сырья в одной скважине для безубыточной разработки: \\\n",
    "    {round(raw_material_per_borehole, 0)} тыс.баррелей')"
   ]
  },
  {
   "cell_type": "code",
   "execution_count": 29,
   "metadata": {},
   "outputs": [],
   "source": [
    "# рассчитываем имеющийся запас сырья в регионах\n",
    "raw_material_per_borehole_fact_0 = round(geo_data_0['product'].sum()/len(geo_data_0),2)\n",
    "raw_material_per_borehole_fact_1 = round(geo_data_1['product'].sum()/len(geo_data_1),2)\n",
    "raw_material_per_borehole_fact_2 = round(geo_data_2['product'].sum()/len(geo_data_2),2)"
   ]
  },
  {
   "cell_type": "code",
   "execution_count": 30,
   "metadata": {},
   "outputs": [
    {
     "name": "stdout",
     "output_type": "stream",
     "text": [
      "92.5\n",
      "68.83\n",
      "95.0\n"
     ]
    }
   ],
   "source": [
    "# выводим рассчитанные показатели запасов сырья в регионах\n",
    "print(raw_material_per_borehole_fact_0)\n",
    "print(raw_material_per_borehole_fact_1)\n",
    "print(raw_material_per_borehole_fact_2)"
   ]
  },
  {
   "cell_type": "code",
   "execution_count": 31,
   "metadata": {},
   "outputs": [
    {
     "name": "stdout",
     "output_type": "stream",
     "text": [
      "Разница в запасах сырья для 0-го региона:     -18.61 тыс.баррелей\n",
      "Разница в запасах сырья для 1-го региона:     -42.28 тыс.баррелей\n",
      "Разница в запасах сырья для 2-го региона:     -16.11 тыс.баррелей\n"
     ]
    }
   ],
   "source": [
    "# выводим на экран дельту между требуемым запасом и имеющимся\n",
    "print(f'Разница в запасах сырья для 0-го региона: \\\n",
    "    {round(raw_material_per_borehole_fact_0-raw_material_per_borehole,2)} тыс.баррелей')\n",
    "print(f'Разница в запасах сырья для 1-го региона: \\\n",
    "    {round(raw_material_per_borehole_fact_1-raw_material_per_borehole,2)} тыс.баррелей')\n",
    "print(f'Разница в запасах сырья для 2-го региона: \\\n",
    "    {round(raw_material_per_borehole_fact_2-raw_material_per_borehole,2)} тыс.баррелей')"
   ]
  },
  {
   "cell_type": "code",
   "execution_count": 32,
   "metadata": {},
   "outputs": [],
   "source": [
    "# подсчитаем количество скважин, в которых объем сырья не меньше требуемого для безубыточной добычи\n",
    "good_boreholes_0 = geo_data_0[geo_data_0['product']>=raw_material_per_borehole]['product'].count()\n",
    "good_boreholes_1 = geo_data_1[geo_data_1['product']>=raw_material_per_borehole]['product'].count()\n",
    "good_boreholes_2 = geo_data_2[geo_data_2['product']>=raw_material_per_borehole]['product'].count()"
   ]
  },
  {
   "cell_type": "code",
   "execution_count": 33,
   "metadata": {},
   "outputs": [
    {
     "name": "stdout",
     "output_type": "stream",
     "text": [
      "Хороших скважин в 0-м регионе: 36583 штук\n",
      "Хороших скважин в 1-м регионе: 16537 штук\n",
      "Хороших скважин в 2-м регионе: 38178 штук\n"
     ]
    }
   ],
   "source": [
    "# выведем количество подходящих скважин в каждом регионе\n",
    "print(f'Хороших скважин в 0-м регионе: {good_boreholes_0} штук')\n",
    "print(f'Хороших скважин в 1-м регионе: {good_boreholes_1} штук')\n",
    "print(f'Хороших скважин в 2-м регионе: {good_boreholes_2} штук')"
   ]
  },
  {
   "cell_type": "code",
   "execution_count": 34,
   "metadata": {},
   "outputs": [
    {
     "name": "stdout",
     "output_type": "stream",
     "text": [
      "% хороших скважин в 0-м регионе (более 111 тыс.баррелей) : 36.6\n",
      "% хороших скважин в 1-м регионе (более 111 тыс.баррелей) : 16.5\n",
      "% хороших скважин во 2-м регионе (более 111 тыс.баррелей) : 38.2\n"
     ]
    }
   ],
   "source": [
    "# выведем процент подходящих под заданные условия скважин в каждом регионе\n",
    "print(f'% хороших скважин в 0-м регионе (более 111 тыс.баррелей) : {round(100*good_boreholes_0/len(geo_data_0),1)}')\n",
    "print(f'% хороших скважин в 1-м регионе (более 111 тыс.баррелей) : {round(100*good_boreholes_1/len(geo_data_1),1)}')\n",
    "print(f'% хороших скважин во 2-м регионе (более 111 тыс.баррелей) : {round(100*good_boreholes_2/len(geo_data_2),1)}')"
   ]
  },
  {
   "cell_type": "markdown",
   "metadata": {},
   "source": [
    "**Выводы по результатам подготовки к расчету прибыли**:     \n",
    "\n",
    "Необходимый запас сырья в одной скважине должен составлять 111 тыс.баррелей, чтобы добыча была безубыточной.    \n",
    "По средним показателям все представленные регионы получились убыточными.    \n",
    "Однако по количеству скважин с запасами более требуемого лидирует 2-й регион (38.2%)."
   ]
  },
  {
   "cell_type": "markdown",
   "metadata": {},
   "source": [
    "## Расчёт прибыли и рисков "
   ]
  },
  {
   "cell_type": "code",
   "execution_count": 35,
   "metadata": {},
   "outputs": [],
   "source": [
    "# создаем функцию для расчета прибыли по 200-м скважинам с лучшими запасами сырья\n",
    "def revenue(target, probabilities, count):\n",
    "    probs_sorted = probabilities.sort_values(ascending=False)\n",
    "    selected = target[probs_sorted.index][:count]\n",
    "    return selected.sum() * PROFIT_RUB_PER_1000BARREL/1000000000 - BUDGET_MLRD"
   ]
  },
  {
   "cell_type": "code",
   "execution_count": 36,
   "metadata": {},
   "outputs": [],
   "source": [
    "# создаем функцию для использования техники Bootstrap для 1000 выборок\n",
    "# формируем набор прибылей, рассчитываем границы доверительного интервала и риск убытков в %\n",
    "def make_stats(model_geo_data):\n",
    "    state = np.random.RandomState(12345)\n",
    "    df_true = pd.Series(model_geo_data[0].reset_index(drop=True))\n",
    "    df_pred = pd.Series(model_geo_data[1]).reset_index(drop=True)\n",
    "    values = []\n",
    "    for i in range(1000):  \n",
    "        target_subsample = df_true.sample(n=BOREHOLES, replace = True, random_state = state)\n",
    "        probs_subsample = df_pred.iloc[target_subsample.index]\n",
    "        res = revenue(target_subsample,probs_subsample, BEST_BOREHOLES)\n",
    "        values.append(res)    \n",
    "    values = pd.Series(values)\n",
    "    lower = round(values.quantile(0.025),2)\n",
    "    upper = round(values.quantile(0.975),2)\n",
    "    risk = round(values[values<=0].count()/len(values)*100,3)\n",
    "    return values, lower, upper, risk"
   ]
  },
  {
   "cell_type": "markdown",
   "metadata": {},
   "source": []
  },
  {
   "cell_type": "code",
   "execution_count": 37,
   "metadata": {},
   "outputs": [],
   "source": [
    "# сохраним значения расчетных метрик по скважинам для каждого региона в переменную stats\n",
    "stats_0 = make_stats(model_geo_data_0) \n",
    "stats_1 = make_stats(model_geo_data_1)   \n",
    "stats_2 = make_stats(model_geo_data_2)   "
   ]
  },
  {
   "cell_type": "code",
   "execution_count": 38,
   "metadata": {},
   "outputs": [],
   "source": [
    "# сохраним значения расчетных метрик прибыли по скважинам для каждого региона в переменную values\n",
    "values_0 = stats_0[0] \n",
    "values_1 = stats_1[0] \n",
    "values_2 = stats_2[0] "
   ]
  },
  {
   "cell_type": "code",
   "execution_count": 39,
   "metadata": {},
   "outputs": [],
   "source": [
    "# вычисляем доверительный интервал для каждого региона (95%)\n",
    "lower_0 = stats_0[1] \n",
    "upper_0 = stats_0[2] \n",
    "lower_1 = stats_1[1] \n",
    "upper_1 = stats_1[2] \n",
    "lower_2 = stats_2[1] \n",
    "upper_2 = stats_2[2] "
   ]
  },
  {
   "cell_type": "code",
   "execution_count": 40,
   "metadata": {},
   "outputs": [],
   "source": [
    "# вычисляем риски для каждого региона\n",
    "risk_0 = stats_0[3] \n",
    "risk_1 = stats_1[3] \n",
    "risk_2 = stats_2[3] "
   ]
  },
  {
   "cell_type": "code",
   "execution_count": 41,
   "metadata": {},
   "outputs": [
    {
     "name": "stdout",
     "output_type": "stream",
     "text": [
      "Ср.выручка с месторождений в 0-м регионе: 0.44 млрд.руб. c 95%-ным дов.интервалом: [-0.12 ; 0.97] и риском убытков: 6.1%\n",
      "Ср.выручка с месторождений в 1-м регионе: 0.49 млрд.руб. c 95%-ным дов.интервалом: [0.06 ; 0.91] и риском убытков: 1.1%\n",
      "Ср.выручка с месторождений во 2-м регионе: 0.4 млрд.руб. c 95%-ным дов.интервалом: [-0.15 ; 0.95] и риском убытков: 7.1%\n"
     ]
    }
   ],
   "source": [
    "print(f\"Ср.выручка с месторождений в 0-м регионе: {round(values_0.mean(),2)} млрд.руб. c 95%-ным дов.интервалом: \\\n",
    "[{lower_0} ; {upper_0}] и риском убытков: {risk_0}%\")\n",
    "print(f\"Ср.выручка с месторождений в 1-м регионе: {round(values_1.mean(),2)} млрд.руб. c 95%-ным дов.интервалом: \\\n",
    "[{lower_1} ; {upper_1}] и риском убытков: {risk_1}%\")\n",
    "print(f\"Ср.выручка с месторождений во 2-м регионе: {round(values_2.mean(),2)} млрд.руб. c 95%-ным дов.интервалом: \\\n",
    "[{lower_2} ; {upper_2}] и риском убытков: {risk_2}%\")"
   ]
  },
  {
   "cell_type": "markdown",
   "metadata": {},
   "source": [
    "**Вывод по результатам расчета прибыли и рисков**:\n",
    "- мы применили метод Bootstrap для формирования 1000 различных выборок из 200 скважин для каждого месторождения;\n",
    "- рассчитали размер прибыли и риск убытков в % для каждого месторождения на основе 1000 случайных выборок;   \n",
    "\n",
    "По итогу 1-е место занял 1-й регион со максимальным показателем прибыли месторождения и минимальным риском убытков:\n",
    "- Ср.выручка с месторождений в 1-м регионе: 0.49 млрд.руб. c 95%-ным дов.интервалом: [0.06 ; 0.91] и риском убытков: 1.1%"
   ]
  },
  {
   "cell_type": "markdown",
   "metadata": {},
   "source": [
    "## Заключительные выводы"
   ]
  },
  {
   "cell_type": "markdown",
   "metadata": {},
   "source": [
    "Перед нами стояла задача выбрать наиболее прибыльный регион для разработки месторождений с помощью модели МО.   \n",
    "\n",
    "Для этого мы проделали следующую работу:\n",
    "- проанализировали данные, полученные от заказчика с данными по скважинам из 3-х регионов:\n",
    "    - данные не содержали аномальных значений, отсутствовали пропуски;\n",
    "- провели их предобработку и анализ:\n",
    "    - в наборе 0-го региона входные признаки f0, f1 имеют несколько холмов в распределении,\n",
    "      признак f2 имеет нормальное распределение, самая высокая корреляция с целевым признаком у f2 (0.48);  \n",
    "    - в наборе 1-го региона входной признак имеет 2 холма в распределении, входной признак f1 имеет нормальное распределение,\n",
    "      признаки f2 и product(целевой) содержат дискретные значения, очень высокая корреляция с целевым признаком у f2(1);\n",
    "    - набор 2-го региона был самым адекватным: все выходные признаки меют нормальное распределение, самая высокая корреляция\n",
    "      с целевым признаком у f2 (0.45)\n",
    "    2-й регион должен показать наиболее достоверные результаты.\n",
    "- выбрали для обучения модель линейного регрессии и обучили 3 модели предсказывать запасы сырья в скважинах каждого региона:\n",
    "    - значение метрик в 0-м регионе:\n",
    "        - RMSE = 37.757;\n",
    "        - предсказанный моделью объем оказался меньше реального на 0,08%;\n",
    "        - средний запас сырья в 1 скважине = 92,399 тыс.баррелей;\n",
    "    - значение метрик в 1-м регионе:\n",
    "        - RMSE = 0.89;\n",
    "        - предсказанный моделью объем оказался больше реального на 0,02%;\n",
    "        - средний запас сырья в 1 скважине = 68,713 тыс.баррелей;\n",
    "    - значение метрик в 2-м регионе:\n",
    "        - RMSE = 40.146;\n",
    "        - предсказанный моделью объем оказался больше реального на 0,4%;\n",
    "        - средний запас сырья в 1 скважине = 94,771 тыс.баррелей;     \n",
    "    таким образом, первенство перехватил 0-й регион;\n",
    "- провели предварительные расчеты по данным регионов с использованием построенных моеделй МО:\n",
    "    - рассчитали необходимый запас сырья в каждой скважине, чтобы считать ее безубыточной (111 тыс.баррелей);\n",
    "    - определили количество скважин, в которых запасов больше порогового значения, в лидерах оказался 2-й регион (38.2%);\n",
    "    - подсчитали средний объем запасов на 1 скважину и сделали вывод, что по этому показателю все регионы убыточны;    \n",
    "- с помощью обученных моделей, используя метод Bootstrap для 1000 разных выборок из 200 скважин:\n",
    "    - рассчитали размер прибыли;\n",
    "    - рассчитали размер убытков;\n",
    "    - построили доверительный интервал для прибыли.\n",
    "    \n",
    "**Вывод: первое место у 1-го региона (geo_data_1)**     \n",
    "\n",
    "- максимальный показатель прибыли месторождения (0,49 млрд.рублей с 95%-ным дов.интервалом: [0.06 ; 0.91]);\n",
    "- минимальный риск убытков (1.1%)."
   ]
  }
 ],
 "metadata": {
  "ExecuteTimeLog": [
   {
    "duration": 1195,
    "start_time": "2024-10-12T10:27:04.204Z"
   },
   {
    "duration": 3,
    "start_time": "2024-10-12T10:27:17.207Z"
   },
   {
    "duration": 494,
    "start_time": "2024-10-12T10:30:20.292Z"
   },
   {
    "duration": 1633,
    "start_time": "2024-10-12T10:31:52.854Z"
   },
   {
    "duration": 89,
    "start_time": "2024-10-12T10:33:19.228Z"
   },
   {
    "duration": 4,
    "start_time": "2024-10-12T10:33:59.630Z"
   },
   {
    "duration": 1072,
    "start_time": "2024-10-12T10:34:02.790Z"
   },
   {
    "duration": 26,
    "start_time": "2024-10-12T10:34:04.030Z"
   },
   {
    "duration": 25,
    "start_time": "2024-10-12T10:35:39.454Z"
   },
   {
    "duration": 1023,
    "start_time": "2024-10-12T10:35:44.976Z"
   },
   {
    "duration": 28,
    "start_time": "2024-10-12T10:35:46.001Z"
   },
   {
    "duration": 15,
    "start_time": "2024-10-12T10:36:06.744Z"
   },
   {
    "duration": 26,
    "start_time": "2024-10-12T10:36:12.136Z"
   },
   {
    "duration": 10,
    "start_time": "2024-10-12T10:38:06.538Z"
   },
   {
    "duration": 11,
    "start_time": "2024-10-12T10:38:51.626Z"
   },
   {
    "duration": 3,
    "start_time": "2024-10-12T10:38:56.946Z"
   },
   {
    "duration": 389,
    "start_time": "2024-10-12T10:40:27.108Z"
   },
   {
    "duration": 31,
    "start_time": "2024-10-12T10:40:49.010Z"
   },
   {
    "duration": 999,
    "start_time": "2024-10-12T10:41:37.795Z"
   },
   {
    "duration": 23,
    "start_time": "2024-10-12T10:41:38.798Z"
   },
   {
    "duration": 37,
    "start_time": "2024-10-12T10:41:41.485Z"
   },
   {
    "duration": 35,
    "start_time": "2024-10-12T10:41:44.932Z"
   },
   {
    "duration": 532,
    "start_time": "2024-10-12T10:42:33.877Z"
   },
   {
    "duration": 40,
    "start_time": "2024-10-12T10:42:34.411Z"
   },
   {
    "duration": 17,
    "start_time": "2024-10-12T10:42:35.373Z"
   },
   {
    "duration": 16,
    "start_time": "2024-10-12T10:45:37.904Z"
   },
   {
    "duration": 18,
    "start_time": "2024-10-12T10:45:52.000Z"
   },
   {
    "duration": 37,
    "start_time": "2024-10-12T10:48:31.274Z"
   },
   {
    "duration": 38,
    "start_time": "2024-10-12T10:49:18.802Z"
   },
   {
    "duration": 328,
    "start_time": "2024-10-12T10:59:24.819Z"
   },
   {
    "duration": 38,
    "start_time": "2024-10-12T10:59:56.878Z"
   },
   {
    "duration": 299,
    "start_time": "2024-10-12T11:00:04.467Z"
   },
   {
    "duration": 726,
    "start_time": "2024-10-12T11:00:39.692Z"
   },
   {
    "duration": 797,
    "start_time": "2024-10-12T11:00:52.835Z"
   },
   {
    "duration": 793,
    "start_time": "2024-10-12T11:01:41.620Z"
   },
   {
    "duration": 881,
    "start_time": "2024-10-12T11:02:48.309Z"
   },
   {
    "duration": 752,
    "start_time": "2024-10-12T11:02:54.709Z"
   },
   {
    "duration": 711,
    "start_time": "2024-10-12T11:03:03.733Z"
   },
   {
    "duration": 882,
    "start_time": "2024-10-12T11:03:53.135Z"
   },
   {
    "duration": 461,
    "start_time": "2024-10-12T11:04:47.686Z"
   },
   {
    "duration": 770,
    "start_time": "2024-10-12T11:04:57.496Z"
   },
   {
    "duration": 673,
    "start_time": "2024-10-12T11:05:36.664Z"
   },
   {
    "duration": 426,
    "start_time": "2024-10-12T11:05:43.439Z"
   },
   {
    "duration": 917,
    "start_time": "2024-10-12T11:07:27.865Z"
   },
   {
    "duration": 3,
    "start_time": "2024-10-12T11:08:39.513Z"
   },
   {
    "duration": 843,
    "start_time": "2024-10-12T11:08:45.554Z"
   },
   {
    "duration": 2766,
    "start_time": "2024-10-12T11:13:15.965Z"
   },
   {
    "duration": 255,
    "start_time": "2024-10-12T11:14:23.102Z"
   },
   {
    "duration": 967,
    "start_time": "2024-10-12T11:14:42.477Z"
   },
   {
    "duration": 26,
    "start_time": "2024-10-12T11:22:23.646Z"
   },
   {
    "duration": 16,
    "start_time": "2024-10-12T11:22:33.492Z"
   },
   {
    "duration": 347,
    "start_time": "2024-10-12T11:23:05.149Z"
   },
   {
    "duration": 404,
    "start_time": "2024-10-12T11:24:30.574Z"
   },
   {
    "duration": 454,
    "start_time": "2024-10-12T11:25:07.535Z"
   },
   {
    "duration": 379,
    "start_time": "2024-10-12T11:25:50.488Z"
   },
   {
    "duration": 42,
    "start_time": "2024-10-12T11:31:35.820Z"
   },
   {
    "duration": 39,
    "start_time": "2024-10-12T11:31:55.476Z"
   },
   {
    "duration": 931,
    "start_time": "2024-10-12T11:36:57.373Z"
   },
   {
    "duration": 334,
    "start_time": "2024-10-12T11:41:11.164Z"
   },
   {
    "duration": 384,
    "start_time": "2024-10-12T11:50:29.980Z"
   },
   {
    "duration": 42,
    "start_time": "2024-10-12T11:59:23.378Z"
   },
   {
    "duration": 1013,
    "start_time": "2024-10-12T12:00:29.331Z"
   },
   {
    "duration": 41,
    "start_time": "2024-10-12T12:02:44.860Z"
   },
   {
    "duration": 27,
    "start_time": "2024-10-12T12:05:49.687Z"
   },
   {
    "duration": 93,
    "start_time": "2024-10-12T12:06:49.847Z"
   },
   {
    "duration": 23,
    "start_time": "2024-10-12T12:07:01.760Z"
   },
   {
    "duration": 180,
    "start_time": "2024-10-12T12:07:41.224Z"
   },
   {
    "duration": 51,
    "start_time": "2024-10-12T12:08:25.713Z"
   },
   {
    "duration": 83,
    "start_time": "2024-10-12T12:08:56.257Z"
   },
   {
    "duration": 50,
    "start_time": "2024-10-12T12:09:01.322Z"
   },
   {
    "duration": 36,
    "start_time": "2024-10-12T12:09:30.538Z"
   },
   {
    "duration": 15,
    "start_time": "2024-10-12T12:10:02.769Z"
   },
   {
    "duration": 18,
    "start_time": "2024-10-12T12:10:14.593Z"
   },
   {
    "duration": 11,
    "start_time": "2024-10-12T12:10:22.785Z"
   },
   {
    "duration": 1384,
    "start_time": "2024-10-12T12:13:18.920Z"
   },
   {
    "duration": 1059,
    "start_time": "2024-10-12T12:13:20.306Z"
   },
   {
    "duration": 28,
    "start_time": "2024-10-12T12:13:21.368Z"
   },
   {
    "duration": 17,
    "start_time": "2024-10-12T12:13:21.398Z"
   },
   {
    "duration": 29,
    "start_time": "2024-10-12T12:13:21.416Z"
   },
   {
    "duration": 17,
    "start_time": "2024-10-12T12:13:21.447Z"
   },
   {
    "duration": 124,
    "start_time": "2024-10-12T12:13:21.466Z"
   },
   {
    "duration": 814,
    "start_time": "2024-10-12T12:13:21.593Z"
   },
   {
    "duration": 377,
    "start_time": "2024-10-12T12:13:22.409Z"
   },
   {
    "duration": 36,
    "start_time": "2024-10-12T12:13:22.789Z"
   },
   {
    "duration": 841,
    "start_time": "2024-10-12T12:13:22.842Z"
   },
   {
    "duration": 396,
    "start_time": "2024-10-12T12:13:23.684Z"
   },
   {
    "duration": 34,
    "start_time": "2024-10-12T12:13:24.082Z"
   },
   {
    "duration": 113,
    "start_time": "2024-10-12T12:13:24.118Z"
   },
   {
    "duration": 0,
    "start_time": "2024-10-12T12:13:24.232Z"
   },
   {
    "duration": 0,
    "start_time": "2024-10-12T12:13:24.234Z"
   },
   {
    "duration": 10,
    "start_time": "2024-10-12T12:14:55.645Z"
   },
   {
    "duration": 83,
    "start_time": "2024-10-12T12:15:46.976Z"
   },
   {
    "duration": 79,
    "start_time": "2024-10-12T12:16:14.759Z"
   },
   {
    "duration": 13665,
    "start_time": "2024-10-12T12:16:19.015Z"
   },
   {
    "duration": 15285,
    "start_time": "2024-10-12T12:16:36.624Z"
   },
   {
    "duration": 12,
    "start_time": "2024-10-12T12:17:16.703Z"
   },
   {
    "duration": 77,
    "start_time": "2024-10-12T12:17:39.391Z"
   },
   {
    "duration": 14736,
    "start_time": "2024-10-12T12:17:44.183Z"
   },
   {
    "duration": 12,
    "start_time": "2024-10-12T12:18:01.479Z"
   },
   {
    "duration": 11,
    "start_time": "2024-10-12T12:19:52.482Z"
   },
   {
    "duration": 43,
    "start_time": "2024-10-12T12:20:04.522Z"
   },
   {
    "duration": 36,
    "start_time": "2024-10-12T12:20:14.570Z"
   },
   {
    "duration": 68055,
    "start_time": "2024-10-12T12:20:53.442Z"
   },
   {
    "duration": 17,
    "start_time": "2024-10-12T12:22:03.395Z"
   },
   {
    "duration": 24,
    "start_time": "2024-10-12T12:22:24.468Z"
   },
   {
    "duration": 18,
    "start_time": "2024-10-12T12:22:34.395Z"
   },
   {
    "duration": 92,
    "start_time": "2024-10-12T12:23:29.476Z"
   },
   {
    "duration": 9,
    "start_time": "2024-10-12T12:23:31.524Z"
   },
   {
    "duration": 14,
    "start_time": "2024-10-12T12:23:55.125Z"
   },
   {
    "duration": 17,
    "start_time": "2024-10-12T12:25:14.374Z"
   },
   {
    "duration": 21,
    "start_time": "2024-10-12T12:25:29.877Z"
   },
   {
    "duration": 10,
    "start_time": "2024-10-12T12:26:15.526Z"
   },
   {
    "duration": 30,
    "start_time": "2024-10-12T12:26:47.222Z"
   },
   {
    "duration": 52,
    "start_time": "2024-10-12T12:27:26.287Z"
   },
   {
    "duration": 29,
    "start_time": "2024-10-12T12:28:44.280Z"
   },
   {
    "duration": 91,
    "start_time": "2024-10-12T12:28:52.368Z"
   },
   {
    "duration": 82,
    "start_time": "2024-10-12T12:30:44.122Z"
   },
   {
    "duration": 810,
    "start_time": "2024-10-12T12:30:46.809Z"
   },
   {
    "duration": 335,
    "start_time": "2024-10-12T12:32:29.859Z"
   },
   {
    "duration": 1385,
    "start_time": "2024-10-12T12:35:29.070Z"
   },
   {
    "duration": 1250,
    "start_time": "2024-10-12T12:35:44.917Z"
   },
   {
    "duration": 1315,
    "start_time": "2024-10-12T12:36:10.734Z"
   },
   {
    "duration": 15,
    "start_time": "2024-10-12T13:59:22.711Z"
   },
   {
    "duration": 36,
    "start_time": "2024-10-12T14:00:32.055Z"
   },
   {
    "duration": 36664,
    "start_time": "2024-10-12T14:00:46.797Z"
   },
   {
    "duration": 284,
    "start_time": "2024-10-12T14:01:30.295Z"
   },
   {
    "duration": 618,
    "start_time": "2024-10-12T14:01:59.791Z"
   },
   {
    "duration": 702,
    "start_time": "2024-10-12T14:02:06.151Z"
   },
   {
    "duration": 1691,
    "start_time": "2024-10-12T14:02:38.728Z"
   },
   {
    "duration": 7276,
    "start_time": "2024-10-12T14:03:53.904Z"
   },
   {
    "duration": 6914,
    "start_time": "2024-10-12T14:11:01.265Z"
   },
   {
    "duration": 7134,
    "start_time": "2024-10-12T14:11:18.141Z"
   },
   {
    "duration": 6947,
    "start_time": "2024-10-12T14:12:23.447Z"
   },
   {
    "duration": 7067,
    "start_time": "2024-10-12T14:13:19.471Z"
   },
   {
    "duration": 7183,
    "start_time": "2024-10-12T14:15:46.489Z"
   },
   {
    "duration": 1935,
    "start_time": "2024-10-12T14:17:06.914Z"
   },
   {
    "duration": 1911,
    "start_time": "2024-10-12T14:17:23.331Z"
   },
   {
    "duration": 6890,
    "start_time": "2024-10-12T14:19:52.204Z"
   },
   {
    "duration": 1699,
    "start_time": "2024-10-12T14:20:21.285Z"
   },
   {
    "duration": 7679,
    "start_time": "2024-10-12T14:20:34.628Z"
   },
   {
    "duration": 1918,
    "start_time": "2024-10-12T14:20:57.365Z"
   },
   {
    "duration": 1853,
    "start_time": "2024-10-12T14:22:15.815Z"
   },
   {
    "duration": 7300,
    "start_time": "2024-10-12T14:22:23.703Z"
   },
   {
    "duration": 7272,
    "start_time": "2024-10-12T14:23:23.456Z"
   },
   {
    "duration": 7201,
    "start_time": "2024-10-12T14:23:35.584Z"
   },
   {
    "duration": 293,
    "start_time": "2024-10-12T14:38:47.020Z"
   },
   {
    "duration": 10,
    "start_time": "2024-10-12T14:39:43.996Z"
   },
   {
    "duration": 45,
    "start_time": "2024-10-12T14:39:49.764Z"
   },
   {
    "duration": 3,
    "start_time": "2024-10-12T14:47:35.634Z"
   },
   {
    "duration": 3,
    "start_time": "2024-10-12T14:47:36.194Z"
   },
   {
    "duration": 22,
    "start_time": "2024-10-12T14:47:39.666Z"
   },
   {
    "duration": 24,
    "start_time": "2024-10-12T14:47:47.330Z"
   },
   {
    "duration": 4,
    "start_time": "2024-10-12T14:48:18.668Z"
   },
   {
    "duration": 3,
    "start_time": "2024-10-12T14:48:20.504Z"
   },
   {
    "duration": 33,
    "start_time": "2024-10-12T14:48:20.743Z"
   },
   {
    "duration": 29,
    "start_time": "2024-10-12T14:48:22.845Z"
   },
   {
    "duration": 24,
    "start_time": "2024-10-12T14:48:27.242Z"
   },
   {
    "duration": 15,
    "start_time": "2024-10-12T14:48:45.219Z"
   },
   {
    "duration": 26,
    "start_time": "2024-10-12T14:48:45.610Z"
   },
   {
    "duration": 9,
    "start_time": "2024-10-12T14:48:50.675Z"
   },
   {
    "duration": 3,
    "start_time": "2024-10-12T14:49:40.331Z"
   },
   {
    "duration": 3,
    "start_time": "2024-10-12T14:49:41.358Z"
   },
   {
    "duration": 15,
    "start_time": "2024-10-12T14:49:41.892Z"
   },
   {
    "duration": 19,
    "start_time": "2024-10-12T14:49:42.356Z"
   },
   {
    "duration": 15,
    "start_time": "2024-10-12T14:49:42.563Z"
   },
   {
    "duration": 12,
    "start_time": "2024-10-12T14:49:43.627Z"
   },
   {
    "duration": 22,
    "start_time": "2024-10-12T14:51:21.446Z"
   },
   {
    "duration": 3,
    "start_time": "2024-10-12T14:55:22.720Z"
   },
   {
    "duration": 30,
    "start_time": "2024-10-12T14:55:23.312Z"
   },
   {
    "duration": 5,
    "start_time": "2024-10-12T14:55:25.440Z"
   },
   {
    "duration": 3,
    "start_time": "2024-10-12T14:55:25.696Z"
   },
   {
    "duration": 29,
    "start_time": "2024-10-12T14:55:26.983Z"
   },
   {
    "duration": 3,
    "start_time": "2024-10-12T14:56:40.112Z"
   },
   {
    "duration": 5,
    "start_time": "2024-10-12T14:56:40.865Z"
   },
   {
    "duration": 28,
    "start_time": "2024-10-12T14:56:44.089Z"
   },
   {
    "duration": 21,
    "start_time": "2024-10-12T14:57:03.265Z"
   },
   {
    "duration": 32,
    "start_time": "2024-10-12T14:57:19.833Z"
   },
   {
    "duration": 12,
    "start_time": "2024-10-12T14:57:20.921Z"
   },
   {
    "duration": 12,
    "start_time": "2024-10-12T14:57:22.386Z"
   },
   {
    "duration": 16,
    "start_time": "2024-10-12T14:58:48.860Z"
   },
   {
    "duration": 10,
    "start_time": "2024-10-12T14:58:56.986Z"
   },
   {
    "duration": 5,
    "start_time": "2024-10-12T15:00:25.268Z"
   },
   {
    "duration": 5,
    "start_time": "2024-10-12T15:00:55.804Z"
   },
   {
    "duration": 30,
    "start_time": "2024-10-12T15:02:21.350Z"
   },
   {
    "duration": 3,
    "start_time": "2024-10-12T15:02:22.526Z"
   },
   {
    "duration": 59,
    "start_time": "2024-10-12T15:04:38.319Z"
   },
   {
    "duration": 3,
    "start_time": "2024-10-12T15:04:38.694Z"
   },
   {
    "duration": 7,
    "start_time": "2024-10-12T15:04:39.567Z"
   },
   {
    "duration": 11,
    "start_time": "2024-10-12T15:04:40.023Z"
   },
   {
    "duration": 10,
    "start_time": "2024-10-12T15:04:44.887Z"
   },
   {
    "duration": 17,
    "start_time": "2024-10-12T15:05:33.849Z"
   },
   {
    "duration": 8169,
    "start_time": "2024-10-12T15:06:34.493Z"
   },
   {
    "duration": 17,
    "start_time": "2024-10-12T15:07:25.818Z"
   },
   {
    "duration": 7024,
    "start_time": "2024-10-12T15:09:23.699Z"
   },
   {
    "duration": 16,
    "start_time": "2024-10-12T15:09:38.299Z"
   },
   {
    "duration": 4,
    "start_time": "2024-10-12T15:14:02.286Z"
   },
   {
    "duration": 2864,
    "start_time": "2024-10-12T15:14:13.346Z"
   },
   {
    "duration": 1333,
    "start_time": "2024-10-12T15:14:16.212Z"
   },
   {
    "duration": 636,
    "start_time": "2024-10-12T15:14:17.548Z"
   },
   {
    "duration": 29,
    "start_time": "2024-10-12T15:14:18.186Z"
   },
   {
    "duration": 35,
    "start_time": "2024-10-12T15:14:18.217Z"
   },
   {
    "duration": 24,
    "start_time": "2024-10-12T15:14:18.255Z"
   },
   {
    "duration": 31,
    "start_time": "2024-10-12T15:14:18.281Z"
   },
   {
    "duration": 101,
    "start_time": "2024-10-12T15:14:18.313Z"
   },
   {
    "duration": 1507,
    "start_time": "2024-10-12T15:14:18.416Z"
   },
   {
    "duration": 387,
    "start_time": "2024-10-12T15:14:19.926Z"
   },
   {
    "duration": 45,
    "start_time": "2024-10-12T15:14:20.315Z"
   },
   {
    "duration": 1420,
    "start_time": "2024-10-12T15:14:20.364Z"
   },
   {
    "duration": 452,
    "start_time": "2024-10-12T15:14:21.786Z"
   },
   {
    "duration": 52,
    "start_time": "2024-10-12T15:14:22.240Z"
   },
   {
    "duration": 107,
    "start_time": "2024-10-12T15:14:22.294Z"
   },
   {
    "duration": 1346,
    "start_time": "2024-10-12T15:14:22.403Z"
   },
   {
    "duration": 411,
    "start_time": "2024-10-12T15:14:23.751Z"
   },
   {
    "duration": 7074,
    "start_time": "2024-10-12T15:14:24.165Z"
   },
   {
    "duration": 6,
    "start_time": "2024-10-12T15:14:31.241Z"
   },
   {
    "duration": 36,
    "start_time": "2024-10-12T15:14:31.250Z"
   },
   {
    "duration": 23,
    "start_time": "2024-10-12T15:14:31.288Z"
   },
   {
    "duration": 27,
    "start_time": "2024-10-12T15:14:31.312Z"
   },
   {
    "duration": 5,
    "start_time": "2024-10-12T15:14:31.343Z"
   },
   {
    "duration": 94,
    "start_time": "2024-10-12T15:14:31.350Z"
   },
   {
    "duration": 198,
    "start_time": "2024-10-12T15:14:31.448Z"
   },
   {
    "duration": 5,
    "start_time": "2024-10-12T15:14:49.287Z"
   },
   {
    "duration": 4,
    "start_time": "2024-10-12T15:15:23.679Z"
   },
   {
    "duration": 6,
    "start_time": "2024-10-12T15:16:32.024Z"
   },
   {
    "duration": 3,
    "start_time": "2024-10-12T15:16:41.449Z"
   },
   {
    "duration": 6,
    "start_time": "2024-10-12T15:18:53.490Z"
   },
   {
    "duration": 6,
    "start_time": "2024-10-12T15:19:02.811Z"
   },
   {
    "duration": 7,
    "start_time": "2024-10-12T15:20:34.261Z"
   },
   {
    "duration": 93,
    "start_time": "2024-10-12T15:20:46.515Z"
   },
   {
    "duration": 77,
    "start_time": "2024-10-12T15:20:50.758Z"
   },
   {
    "duration": 6,
    "start_time": "2024-10-12T15:21:03.612Z"
   },
   {
    "duration": 7,
    "start_time": "2024-10-12T15:22:17.421Z"
   },
   {
    "duration": 8,
    "start_time": "2024-10-12T15:23:06.541Z"
   },
   {
    "duration": 2,
    "start_time": "2024-10-12T15:23:15.838Z"
   },
   {
    "duration": 4,
    "start_time": "2024-10-12T15:25:31.870Z"
   },
   {
    "duration": 13,
    "start_time": "2024-10-12T15:25:32.711Z"
   },
   {
    "duration": 14,
    "start_time": "2024-10-12T15:25:33.520Z"
   },
   {
    "duration": 21,
    "start_time": "2024-10-12T15:25:34.839Z"
   },
   {
    "duration": 6,
    "start_time": "2024-10-12T15:25:37.687Z"
   },
   {
    "duration": 6,
    "start_time": "2024-10-12T15:25:44.311Z"
   },
   {
    "duration": 18,
    "start_time": "2024-10-12T17:04:13.627Z"
   },
   {
    "duration": 16,
    "start_time": "2024-10-12T17:04:16.673Z"
   },
   {
    "duration": 17,
    "start_time": "2024-10-12T17:04:17.050Z"
   },
   {
    "duration": 8,
    "start_time": "2024-10-12T17:04:17.550Z"
   },
   {
    "duration": 2,
    "start_time": "2024-10-12T17:04:18.290Z"
   },
   {
    "duration": 13,
    "start_time": "2024-10-12T17:04:59.355Z"
   },
   {
    "duration": 14,
    "start_time": "2024-10-12T17:05:00.194Z"
   },
   {
    "duration": 34,
    "start_time": "2024-10-12T17:05:00.826Z"
   },
   {
    "duration": 8,
    "start_time": "2024-10-12T17:05:01.250Z"
   },
   {
    "duration": 5,
    "start_time": "2024-10-12T17:05:17.555Z"
   },
   {
    "duration": 14,
    "start_time": "2024-10-12T17:05:37.082Z"
   },
   {
    "duration": 13,
    "start_time": "2024-10-12T17:05:37.755Z"
   },
   {
    "duration": 75,
    "start_time": "2024-10-12T17:05:37.969Z"
   },
   {
    "duration": 6,
    "start_time": "2024-10-12T17:05:38.378Z"
   },
   {
    "duration": 15,
    "start_time": "2024-10-12T17:06:00.794Z"
   },
   {
    "duration": 14,
    "start_time": "2024-10-12T17:06:01.163Z"
   },
   {
    "duration": 18,
    "start_time": "2024-10-12T17:06:01.346Z"
   },
   {
    "duration": 10,
    "start_time": "2024-10-12T17:06:01.548Z"
   },
   {
    "duration": 3,
    "start_time": "2024-10-12T17:07:16.611Z"
   },
   {
    "duration": 12,
    "start_time": "2024-10-12T17:07:17.027Z"
   },
   {
    "duration": 24,
    "start_time": "2024-10-12T17:07:17.443Z"
   },
   {
    "duration": 18,
    "start_time": "2024-10-12T17:07:17.844Z"
   },
   {
    "duration": 5,
    "start_time": "2024-10-12T17:07:18.579Z"
   },
   {
    "duration": 4,
    "start_time": "2024-10-12T17:08:44.917Z"
   },
   {
    "duration": 13,
    "start_time": "2024-10-12T17:09:57.678Z"
   },
   {
    "duration": 21,
    "start_time": "2024-10-12T17:10:05.997Z"
   },
   {
    "duration": 11,
    "start_time": "2024-10-12T17:10:21.118Z"
   },
   {
    "duration": 12,
    "start_time": "2024-10-12T17:10:23.798Z"
   },
   {
    "duration": 2,
    "start_time": "2024-10-12T17:10:42.694Z"
   },
   {
    "duration": 12,
    "start_time": "2024-10-12T17:10:43.390Z"
   },
   {
    "duration": 14,
    "start_time": "2024-10-12T17:10:43.958Z"
   },
   {
    "duration": 12,
    "start_time": "2024-10-12T17:10:44.582Z"
   },
   {
    "duration": 6,
    "start_time": "2024-10-12T17:10:45.918Z"
   },
   {
    "duration": 12,
    "start_time": "2024-10-12T17:14:00.664Z"
   },
   {
    "duration": 11,
    "start_time": "2024-10-12T17:14:16.591Z"
   },
   {
    "duration": 19,
    "start_time": "2024-10-12T17:15:13.713Z"
   },
   {
    "duration": 28,
    "start_time": "2024-10-12T17:15:24.367Z"
   },
   {
    "duration": 28,
    "start_time": "2024-10-12T17:16:36.626Z"
   },
   {
    "duration": 23,
    "start_time": "2024-10-12T17:16:41.881Z"
   },
   {
    "duration": 21,
    "start_time": "2024-10-12T17:16:48.794Z"
   },
   {
    "duration": 12,
    "start_time": "2024-10-12T17:18:16.211Z"
   },
   {
    "duration": 16,
    "start_time": "2024-10-12T17:20:30.318Z"
   },
   {
    "duration": 18,
    "start_time": "2024-10-12T17:21:15.742Z"
   },
   {
    "duration": 81,
    "start_time": "2024-10-12T17:21:56.055Z"
   },
   {
    "duration": 9,
    "start_time": "2024-10-12T17:22:21.015Z"
   },
   {
    "duration": 10,
    "start_time": "2024-10-12T17:24:21.127Z"
   },
   {
    "duration": 10,
    "start_time": "2024-10-12T17:24:42.369Z"
   },
   {
    "duration": 10,
    "start_time": "2024-10-12T17:25:07.578Z"
   },
   {
    "duration": 3,
    "start_time": "2024-10-12T17:43:42.887Z"
   },
   {
    "duration": 66,
    "start_time": "2024-10-12T17:43:44.583Z"
   },
   {
    "duration": 13,
    "start_time": "2024-10-12T17:43:52.806Z"
   },
   {
    "duration": 5,
    "start_time": "2024-10-12T17:46:15.945Z"
   },
   {
    "duration": 83,
    "start_time": "2024-10-12T17:46:21.466Z"
   },
   {
    "duration": 37,
    "start_time": "2024-10-12T17:46:48.641Z"
   },
   {
    "duration": 40,
    "start_time": "2024-10-12T17:47:10.002Z"
   },
   {
    "duration": 39,
    "start_time": "2024-10-12T17:50:46.235Z"
   },
   {
    "duration": 86,
    "start_time": "2024-10-12T17:50:47.356Z"
   },
   {
    "duration": 35,
    "start_time": "2024-10-12T17:52:29.045Z"
   },
   {
    "duration": 38,
    "start_time": "2024-10-12T17:53:10.446Z"
   },
   {
    "duration": 31,
    "start_time": "2024-10-12T17:53:17.238Z"
   },
   {
    "duration": 36,
    "start_time": "2024-10-12T17:53:18.525Z"
   },
   {
    "duration": 39,
    "start_time": "2024-10-12T18:06:29.104Z"
   },
   {
    "duration": 29,
    "start_time": "2024-10-12T18:06:51.840Z"
   },
   {
    "duration": 92,
    "start_time": "2024-10-12T18:08:49.074Z"
   },
   {
    "duration": 72,
    "start_time": "2024-10-12T18:09:25.963Z"
   },
   {
    "duration": 93,
    "start_time": "2024-10-12T18:09:37.659Z"
   },
   {
    "duration": 32,
    "start_time": "2024-10-12T18:10:18.027Z"
   },
   {
    "duration": 31,
    "start_time": "2024-10-12T18:10:48.507Z"
   },
   {
    "duration": 94,
    "start_time": "2024-10-12T18:10:53.548Z"
   },
   {
    "duration": 49,
    "start_time": "2024-10-12T18:11:45.724Z"
   },
   {
    "duration": 42,
    "start_time": "2024-10-12T18:12:11.037Z"
   },
   {
    "duration": 50,
    "start_time": "2024-10-12T18:12:53.893Z"
   },
   {
    "duration": 46,
    "start_time": "2024-10-12T18:13:48.398Z"
   },
   {
    "duration": 105,
    "start_time": "2024-10-12T18:14:06.238Z"
   },
   {
    "duration": 38,
    "start_time": "2024-10-12T18:14:25.366Z"
   },
   {
    "duration": 41,
    "start_time": "2024-10-12T18:14:35.526Z"
   },
   {
    "duration": 35,
    "start_time": "2024-10-12T18:15:10.431Z"
   },
   {
    "duration": 43,
    "start_time": "2024-10-12T18:15:33.199Z"
   },
   {
    "duration": 59,
    "start_time": "2024-10-12T18:23:28.086Z"
   },
   {
    "duration": 43,
    "start_time": "2024-10-12T18:23:41.029Z"
   },
   {
    "duration": 37,
    "start_time": "2024-10-12T18:24:30.758Z"
   },
   {
    "duration": 32,
    "start_time": "2024-10-12T18:24:31.374Z"
   },
   {
    "duration": 37,
    "start_time": "2024-10-12T18:24:31.854Z"
   },
   {
    "duration": 40,
    "start_time": "2024-10-12T18:37:49.649Z"
   },
   {
    "duration": 39,
    "start_time": "2024-10-12T18:46:27.360Z"
   },
   {
    "duration": 29,
    "start_time": "2024-10-12T18:46:27.998Z"
   },
   {
    "duration": 33,
    "start_time": "2024-10-12T18:46:28.655Z"
   },
   {
    "duration": 13,
    "start_time": "2024-10-12T18:47:30.167Z"
   },
   {
    "duration": 6,
    "start_time": "2024-10-12T18:47:36.087Z"
   },
   {
    "duration": 4,
    "start_time": "2024-10-12T18:47:36.511Z"
   },
   {
    "duration": 34,
    "start_time": "2024-10-12T18:47:37.215Z"
   },
   {
    "duration": 29,
    "start_time": "2024-10-12T18:47:37.630Z"
   },
   {
    "duration": 38,
    "start_time": "2024-10-12T18:47:38.063Z"
   },
   {
    "duration": 9,
    "start_time": "2024-10-12T18:47:38.614Z"
   },
   {
    "duration": 4,
    "start_time": "2024-10-12T18:48:48.945Z"
   },
   {
    "duration": 8,
    "start_time": "2024-10-12T18:48:52.440Z"
   },
   {
    "duration": 69,
    "start_time": "2024-10-12T18:50:12.378Z"
   },
   {
    "duration": 72,
    "start_time": "2024-10-12T18:50:24.075Z"
   },
   {
    "duration": 77,
    "start_time": "2024-10-12T18:50:24.450Z"
   },
   {
    "duration": 6,
    "start_time": "2024-10-12T18:50:40.969Z"
   },
   {
    "duration": 6,
    "start_time": "2024-10-12T18:53:16.516Z"
   },
   {
    "duration": 4,
    "start_time": "2024-10-12T18:53:16.900Z"
   },
   {
    "duration": 4,
    "start_time": "2024-10-12T18:53:41.804Z"
   },
   {
    "duration": 4,
    "start_time": "2024-10-12T18:54:06.989Z"
   },
   {
    "duration": 3,
    "start_time": "2024-10-12T19:04:30.900Z"
   },
   {
    "duration": 4,
    "start_time": "2024-10-12T19:04:55.284Z"
   },
   {
    "duration": 4,
    "start_time": "2024-10-12T19:05:35.421Z"
   },
   {
    "duration": 3,
    "start_time": "2024-10-12T19:07:02.487Z"
   },
   {
    "duration": 3,
    "start_time": "2024-10-12T19:07:17.383Z"
   },
   {
    "duration": 3,
    "start_time": "2024-10-12T19:08:59.833Z"
   },
   {
    "duration": 3,
    "start_time": "2024-10-12T19:10:02.681Z"
   },
   {
    "duration": 3,
    "start_time": "2024-10-12T19:10:10.977Z"
   },
   {
    "duration": 3,
    "start_time": "2024-10-12T19:10:48.193Z"
   },
   {
    "duration": 3,
    "start_time": "2024-10-12T19:11:28.626Z"
   },
   {
    "duration": 4,
    "start_time": "2024-10-12T19:11:40.473Z"
   },
   {
    "duration": 4,
    "start_time": "2024-10-12T19:11:46.697Z"
   },
   {
    "duration": 3,
    "start_time": "2024-10-12T19:14:32.860Z"
   },
   {
    "duration": 3,
    "start_time": "2024-10-12T19:14:45.213Z"
   },
   {
    "duration": 3,
    "start_time": "2024-10-12T19:14:47.844Z"
   },
   {
    "duration": 4,
    "start_time": "2024-10-12T19:17:49.335Z"
   },
   {
    "duration": 3,
    "start_time": "2024-10-12T19:17:52.110Z"
   },
   {
    "duration": 3,
    "start_time": "2024-10-12T19:18:12.335Z"
   },
   {
    "duration": 6,
    "start_time": "2024-10-12T19:18:42.904Z"
   },
   {
    "duration": 4,
    "start_time": "2024-10-12T19:18:43.239Z"
   },
   {
    "duration": 4,
    "start_time": "2024-10-12T19:19:41.159Z"
   },
   {
    "duration": 4,
    "start_time": "2024-10-12T19:20:09.296Z"
   },
   {
    "duration": 4,
    "start_time": "2024-10-12T19:20:11.224Z"
   },
   {
    "duration": 4,
    "start_time": "2024-10-12T19:20:58.697Z"
   },
   {
    "duration": 4,
    "start_time": "2024-10-12T19:20:59.498Z"
   },
   {
    "duration": 4,
    "start_time": "2024-10-12T19:21:00.106Z"
   },
   {
    "duration": 4,
    "start_time": "2024-10-12T19:21:00.513Z"
   },
   {
    "duration": 3,
    "start_time": "2024-10-12T19:21:02.289Z"
   },
   {
    "duration": 4,
    "start_time": "2024-10-12T19:21:23.138Z"
   },
   {
    "duration": 4,
    "start_time": "2024-10-12T19:21:38.298Z"
   },
   {
    "duration": 15,
    "start_time": "2024-10-12T19:28:47.096Z"
   },
   {
    "duration": 8,
    "start_time": "2024-10-12T19:29:04.751Z"
   },
   {
    "duration": 20,
    "start_time": "2024-10-12T19:29:25.744Z"
   },
   {
    "duration": 15,
    "start_time": "2024-10-12T19:29:53.328Z"
   },
   {
    "duration": 15,
    "start_time": "2024-10-12T19:30:09.665Z"
   },
   {
    "duration": 15,
    "start_time": "2024-10-12T19:31:05.689Z"
   },
   {
    "duration": 5,
    "start_time": "2024-10-12T19:32:52.995Z"
   },
   {
    "duration": 4,
    "start_time": "2024-10-12T19:33:40.306Z"
   },
   {
    "duration": 15,
    "start_time": "2024-10-12T19:33:45.539Z"
   },
   {
    "duration": 3,
    "start_time": "2024-10-12T19:33:46.074Z"
   },
   {
    "duration": 4,
    "start_time": "2024-10-12T19:33:48.195Z"
   },
   {
    "duration": 4,
    "start_time": "2024-10-12T19:33:53.219Z"
   },
   {
    "duration": 4,
    "start_time": "2024-10-12T19:35:18.357Z"
   },
   {
    "duration": 4,
    "start_time": "2024-10-12T19:35:30.812Z"
   },
   {
    "duration": 3,
    "start_time": "2024-10-12T19:36:28.142Z"
   },
   {
    "duration": 3,
    "start_time": "2024-10-12T19:40:31.864Z"
   },
   {
    "duration": 4,
    "start_time": "2024-10-12T19:40:33.048Z"
   },
   {
    "duration": 4,
    "start_time": "2024-10-12T19:40:45.040Z"
   },
   {
    "duration": 4,
    "start_time": "2024-10-12T19:40:45.585Z"
   },
   {
    "duration": 7,
    "start_time": "2024-10-12T19:49:33.632Z"
   },
   {
    "duration": 18,
    "start_time": "2024-10-12T19:51:20.937Z"
   },
   {
    "duration": 11,
    "start_time": "2024-10-12T19:51:27.015Z"
   },
   {
    "duration": 6,
    "start_time": "2024-10-12T19:51:40.120Z"
   },
   {
    "duration": 4,
    "start_time": "2024-10-12T19:51:41.400Z"
   },
   {
    "duration": 64,
    "start_time": "2024-10-12T19:51:42.288Z"
   },
   {
    "duration": 5,
    "start_time": "2024-10-12T19:55:33.956Z"
   },
   {
    "duration": 5,
    "start_time": "2024-10-12T19:55:34.315Z"
   },
   {
    "duration": 197,
    "start_time": "2024-10-12T19:55:34.947Z"
   },
   {
    "duration": 4,
    "start_time": "2024-10-12T19:55:44.620Z"
   },
   {
    "duration": 5,
    "start_time": "2024-10-12T19:55:45.116Z"
   },
   {
    "duration": 34,
    "start_time": "2024-10-12T19:55:45.867Z"
   },
   {
    "duration": 5,
    "start_time": "2024-10-12T19:55:49.924Z"
   },
   {
    "duration": 38,
    "start_time": "2024-10-12T19:55:50.499Z"
   },
   {
    "duration": 33,
    "start_time": "2024-10-12T19:55:50.907Z"
   },
   {
    "duration": 32,
    "start_time": "2024-10-12T19:55:51.144Z"
   },
   {
    "duration": 6,
    "start_time": "2024-10-12T19:55:51.619Z"
   },
   {
    "duration": 11,
    "start_time": "2024-10-12T19:55:52.019Z"
   },
   {
    "duration": 4,
    "start_time": "2024-10-12T19:55:58.395Z"
   },
   {
    "duration": 5,
    "start_time": "2024-10-12T19:55:59.971Z"
   },
   {
    "duration": 3,
    "start_time": "2024-10-12T19:56:00.148Z"
   },
   {
    "duration": 5,
    "start_time": "2024-10-12T19:56:00.755Z"
   },
   {
    "duration": 3,
    "start_time": "2024-10-12T19:56:01.013Z"
   },
   {
    "duration": 4,
    "start_time": "2024-10-12T19:56:01.347Z"
   },
   {
    "duration": 17,
    "start_time": "2024-10-12T19:56:01.563Z"
   },
   {
    "duration": 3,
    "start_time": "2024-10-12T19:56:01.956Z"
   },
   {
    "duration": 4,
    "start_time": "2024-10-12T19:56:02.363Z"
   },
   {
    "duration": 3,
    "start_time": "2024-10-12T19:58:03.405Z"
   },
   {
    "duration": 4,
    "start_time": "2024-10-12T19:58:33.942Z"
   },
   {
    "duration": 14,
    "start_time": "2024-10-12T20:00:03.215Z"
   },
   {
    "duration": 3,
    "start_time": "2024-10-12T20:00:35.391Z"
   },
   {
    "duration": 12,
    "start_time": "2024-10-12T20:00:36.263Z"
   },
   {
    "duration": 3,
    "start_time": "2024-10-12T20:01:28.607Z"
   },
   {
    "duration": 13,
    "start_time": "2024-10-12T20:01:30.528Z"
   },
   {
    "duration": 4,
    "start_time": "2024-10-12T20:01:59.864Z"
   },
   {
    "duration": 9,
    "start_time": "2024-10-12T20:02:15.280Z"
   },
   {
    "duration": 9,
    "start_time": "2024-10-12T20:02:23.161Z"
   },
   {
    "duration": 9,
    "start_time": "2024-10-12T20:02:41.241Z"
   },
   {
    "duration": 4,
    "start_time": "2024-10-12T20:02:54.201Z"
   },
   {
    "duration": 3,
    "start_time": "2024-10-12T20:03:07.990Z"
   },
   {
    "duration": 3,
    "start_time": "2024-10-12T20:03:16.448Z"
   },
   {
    "duration": 9,
    "start_time": "2024-10-12T20:03:24.968Z"
   },
   {
    "duration": 15,
    "start_time": "2024-10-12T20:03:57.633Z"
   },
   {
    "duration": 12,
    "start_time": "2024-10-12T20:04:45.890Z"
   },
   {
    "duration": 7,
    "start_time": "2024-10-12T20:04:58.915Z"
   },
   {
    "duration": 6,
    "start_time": "2024-10-12T20:05:22.715Z"
   },
   {
    "duration": 3,
    "start_time": "2024-10-12T20:05:32.203Z"
   },
   {
    "duration": 16,
    "start_time": "2024-10-12T20:07:14.028Z"
   },
   {
    "duration": 104,
    "start_time": "2024-10-12T20:09:11.101Z"
   },
   {
    "duration": 73,
    "start_time": "2024-10-12T20:09:40.287Z"
   },
   {
    "duration": 10,
    "start_time": "2024-10-12T20:09:47.302Z"
   },
   {
    "duration": 4,
    "start_time": "2024-10-12T20:09:58.686Z"
   },
   {
    "duration": 8,
    "start_time": "2024-10-12T20:10:13.414Z"
   },
   {
    "duration": 14,
    "start_time": "2024-10-12T20:13:48.322Z"
   },
   {
    "duration": 6,
    "start_time": "2024-10-12T20:13:58.465Z"
   },
   {
    "duration": 15,
    "start_time": "2024-10-12T20:14:18.121Z"
   },
   {
    "duration": 20,
    "start_time": "2024-10-12T20:15:16.835Z"
   },
   {
    "duration": 3,
    "start_time": "2024-10-12T20:15:24.099Z"
   },
   {
    "duration": 16,
    "start_time": "2024-10-12T20:15:24.603Z"
   },
   {
    "duration": 21,
    "start_time": "2024-10-12T20:15:33.611Z"
   },
   {
    "duration": 16,
    "start_time": "2024-10-12T20:16:55.316Z"
   },
   {
    "duration": 4,
    "start_time": "2024-10-12T20:17:16.959Z"
   },
   {
    "duration": 15,
    "start_time": "2024-10-12T20:17:17.788Z"
   },
   {
    "duration": 5,
    "start_time": "2024-10-12T20:17:24.868Z"
   },
   {
    "duration": 17,
    "start_time": "2024-10-12T20:17:25.075Z"
   },
   {
    "duration": 4,
    "start_time": "2024-10-12T20:17:49.564Z"
   },
   {
    "duration": 14,
    "start_time": "2024-10-12T20:17:50.388Z"
   },
   {
    "duration": 14,
    "start_time": "2024-10-12T20:18:44.997Z"
   },
   {
    "duration": 13,
    "start_time": "2024-10-12T20:19:08.726Z"
   },
   {
    "duration": 13,
    "start_time": "2024-10-12T20:19:20.422Z"
   },
   {
    "duration": 13,
    "start_time": "2024-10-12T20:19:51.077Z"
   },
   {
    "duration": 13,
    "start_time": "2024-10-12T20:20:03.838Z"
   },
   {
    "duration": 14,
    "start_time": "2024-10-12T20:20:18.694Z"
   },
   {
    "duration": 13,
    "start_time": "2024-10-12T20:20:19.030Z"
   },
   {
    "duration": 4,
    "start_time": "2024-10-12T20:20:51.766Z"
   },
   {
    "duration": 16,
    "start_time": "2024-10-12T20:20:52.207Z"
   },
   {
    "duration": 15,
    "start_time": "2024-10-12T20:20:53.078Z"
   },
   {
    "duration": 13,
    "start_time": "2024-10-12T20:21:15.655Z"
   },
   {
    "duration": 14,
    "start_time": "2024-10-12T20:30:45.095Z"
   },
   {
    "duration": 13,
    "start_time": "2024-10-12T20:31:19.335Z"
   },
   {
    "duration": 13,
    "start_time": "2024-10-12T20:31:27.479Z"
   },
   {
    "duration": 13,
    "start_time": "2024-10-12T20:31:41.598Z"
   },
   {
    "duration": 13,
    "start_time": "2024-10-12T20:31:53.319Z"
   },
   {
    "duration": 13,
    "start_time": "2024-10-12T20:31:57.456Z"
   },
   {
    "duration": 5,
    "start_time": "2024-10-12T20:32:38.967Z"
   },
   {
    "duration": 14,
    "start_time": "2024-10-12T20:32:39.383Z"
   },
   {
    "duration": 4,
    "start_time": "2024-10-12T20:33:13.672Z"
   },
   {
    "duration": 14,
    "start_time": "2024-10-12T20:33:14.176Z"
   },
   {
    "duration": 15,
    "start_time": "2024-10-12T20:33:15.239Z"
   },
   {
    "duration": 4,
    "start_time": "2024-10-12T20:56:13.715Z"
   },
   {
    "duration": 17,
    "start_time": "2024-10-12T20:56:18.770Z"
   },
   {
    "duration": 6842,
    "start_time": "2024-10-13T09:30:53.337Z"
   },
   {
    "duration": 1495,
    "start_time": "2024-10-13T09:31:00.181Z"
   },
   {
    "duration": 1769,
    "start_time": "2024-10-13T09:31:01.678Z"
   },
   {
    "duration": 31,
    "start_time": "2024-10-13T09:31:03.450Z"
   },
   {
    "duration": 18,
    "start_time": "2024-10-13T09:31:03.482Z"
   },
   {
    "duration": 18,
    "start_time": "2024-10-13T09:31:03.501Z"
   },
   {
    "duration": 31,
    "start_time": "2024-10-13T09:31:03.521Z"
   },
   {
    "duration": 61,
    "start_time": "2024-10-13T09:31:03.554Z"
   },
   {
    "duration": 1278,
    "start_time": "2024-10-13T09:31:03.616Z"
   },
   {
    "duration": 408,
    "start_time": "2024-10-13T09:31:04.896Z"
   },
   {
    "duration": 37,
    "start_time": "2024-10-13T09:31:05.306Z"
   },
   {
    "duration": 1189,
    "start_time": "2024-10-13T09:31:05.345Z"
   },
   {
    "duration": 456,
    "start_time": "2024-10-13T09:31:06.536Z"
   },
   {
    "duration": 35,
    "start_time": "2024-10-13T09:31:06.994Z"
   },
   {
    "duration": 106,
    "start_time": "2024-10-13T09:31:07.030Z"
   },
   {
    "duration": 1214,
    "start_time": "2024-10-13T09:31:07.137Z"
   },
   {
    "duration": 348,
    "start_time": "2024-10-13T09:31:08.353Z"
   },
   {
    "duration": 6577,
    "start_time": "2024-10-13T09:31:08.703Z"
   },
   {
    "duration": 3,
    "start_time": "2024-10-13T09:31:15.282Z"
   },
   {
    "duration": 54,
    "start_time": "2024-10-13T09:31:15.286Z"
   },
   {
    "duration": 26,
    "start_time": "2024-10-13T09:31:15.341Z"
   },
   {
    "duration": 113,
    "start_time": "2024-10-13T09:31:15.368Z"
   },
   {
    "duration": 114,
    "start_time": "2024-10-13T09:31:15.484Z"
   },
   {
    "duration": 118,
    "start_time": "2024-10-13T09:31:15.677Z"
   },
   {
    "duration": 76,
    "start_time": "2024-10-13T09:31:15.802Z"
   },
   {
    "duration": 94,
    "start_time": "2024-10-13T09:31:15.884Z"
   },
   {
    "duration": 5,
    "start_time": "2024-10-13T09:31:15.980Z"
   },
   {
    "duration": 4,
    "start_time": "2024-10-13T09:31:15.989Z"
   },
   {
    "duration": 5,
    "start_time": "2024-10-13T09:31:15.995Z"
   },
   {
    "duration": 4,
    "start_time": "2024-10-13T09:31:16.001Z"
   },
   {
    "duration": 5,
    "start_time": "2024-10-13T09:31:16.006Z"
   },
   {
    "duration": 16,
    "start_time": "2024-10-13T09:31:16.012Z"
   },
   {
    "duration": 4,
    "start_time": "2024-10-13T09:31:16.029Z"
   },
   {
    "duration": 4,
    "start_time": "2024-10-13T09:31:16.076Z"
   },
   {
    "duration": 8,
    "start_time": "2024-10-13T09:31:16.081Z"
   },
   {
    "duration": 3,
    "start_time": "2024-10-13T09:31:16.091Z"
   },
   {
    "duration": 22,
    "start_time": "2024-10-13T09:31:16.096Z"
   },
   {
    "duration": 16,
    "start_time": "2024-10-13T09:31:16.120Z"
   },
   {
    "duration": 144,
    "start_time": "2024-10-13T09:31:16.138Z"
   },
   {
    "duration": 13,
    "start_time": "2024-10-13T09:35:39.351Z"
   },
   {
    "duration": 13,
    "start_time": "2024-10-13T09:36:20.335Z"
   },
   {
    "duration": 25,
    "start_time": "2024-10-13T09:36:30.328Z"
   },
   {
    "duration": 3,
    "start_time": "2024-10-13T09:38:25.478Z"
   },
   {
    "duration": 4,
    "start_time": "2024-10-13T09:38:44.302Z"
   },
   {
    "duration": 16,
    "start_time": "2024-10-13T09:38:45.954Z"
   },
   {
    "duration": 4,
    "start_time": "2024-10-13T09:39:37.658Z"
   },
   {
    "duration": 20,
    "start_time": "2024-10-13T09:39:39.714Z"
   },
   {
    "duration": 3,
    "start_time": "2024-10-13T09:40:11.282Z"
   },
   {
    "duration": 18,
    "start_time": "2024-10-13T09:40:14.747Z"
   },
   {
    "duration": 3,
    "start_time": "2024-10-13T09:41:02.499Z"
   },
   {
    "duration": 847,
    "start_time": "2024-10-13T09:41:06.732Z"
   },
   {
    "duration": 799,
    "start_time": "2024-10-13T09:42:08.004Z"
   },
   {
    "duration": 4,
    "start_time": "2024-10-13T09:42:19.908Z"
   },
   {
    "duration": 764,
    "start_time": "2024-10-13T09:42:21.819Z"
   },
   {
    "duration": 933,
    "start_time": "2024-10-13T09:43:32.789Z"
   },
   {
    "duration": 814,
    "start_time": "2024-10-13T09:44:00.069Z"
   },
   {
    "duration": 800,
    "start_time": "2024-10-13T09:44:28.013Z"
   },
   {
    "duration": 806,
    "start_time": "2024-10-13T09:45:01.735Z"
   },
   {
    "duration": 19,
    "start_time": "2024-10-13T09:45:31.247Z"
   },
   {
    "duration": 31,
    "start_time": "2024-10-13T10:27:48.194Z"
   },
   {
    "duration": 18,
    "start_time": "2024-10-13T10:28:23.345Z"
   },
   {
    "duration": 19,
    "start_time": "2024-10-13T10:28:50.009Z"
   },
   {
    "duration": 14,
    "start_time": "2024-10-13T10:30:19.579Z"
   },
   {
    "duration": 17,
    "start_time": "2024-10-13T10:30:43.019Z"
   },
   {
    "duration": 16,
    "start_time": "2024-10-13T10:31:29.572Z"
   },
   {
    "duration": 18,
    "start_time": "2024-10-13T10:32:12.612Z"
   },
   {
    "duration": 17,
    "start_time": "2024-10-13T10:32:40.133Z"
   },
   {
    "duration": 11,
    "start_time": "2024-10-13T10:33:12.421Z"
   },
   {
    "duration": 10,
    "start_time": "2024-10-13T10:35:54.742Z"
   },
   {
    "duration": 1455,
    "start_time": "2024-10-13T10:36:51.352Z"
   },
   {
    "duration": 1431,
    "start_time": "2024-10-13T10:37:41.368Z"
   },
   {
    "duration": 11,
    "start_time": "2024-10-13T10:39:14.713Z"
   },
   {
    "duration": 3,
    "start_time": "2024-10-13T10:39:18.649Z"
   },
   {
    "duration": 11,
    "start_time": "2024-10-13T10:39:19.129Z"
   },
   {
    "duration": 11,
    "start_time": "2024-10-13T10:40:07.449Z"
   },
   {
    "duration": 11,
    "start_time": "2024-10-13T10:40:31.858Z"
   },
   {
    "duration": 1671,
    "start_time": "2024-10-13T10:40:54.761Z"
   },
   {
    "duration": 9,
    "start_time": "2024-10-13T10:42:58.540Z"
   },
   {
    "duration": 3,
    "start_time": "2024-10-13T10:43:01.892Z"
   },
   {
    "duration": 5,
    "start_time": "2024-10-13T10:43:02.187Z"
   },
   {
    "duration": 1137,
    "start_time": "2024-10-13T10:43:02.691Z"
   },
   {
    "duration": 5,
    "start_time": "2024-10-13T10:44:33.475Z"
   },
   {
    "duration": 1120,
    "start_time": "2024-10-13T10:44:33.796Z"
   },
   {
    "duration": 1147,
    "start_time": "2024-10-13T10:45:09.725Z"
   },
   {
    "duration": 3369,
    "start_time": "2024-10-13T10:50:30.481Z"
   },
   {
    "duration": 7,
    "start_time": "2024-10-13T10:50:53.905Z"
   },
   {
    "duration": 4,
    "start_time": "2024-10-13T10:50:55.281Z"
   },
   {
    "duration": 7,
    "start_time": "2024-10-13T10:51:34.026Z"
   },
   {
    "duration": 5,
    "start_time": "2024-10-13T10:51:34.929Z"
   },
   {
    "duration": 4,
    "start_time": "2024-10-13T10:52:20.715Z"
   },
   {
    "duration": 4,
    "start_time": "2024-10-13T10:52:41.611Z"
   },
   {
    "duration": 5,
    "start_time": "2024-10-13T10:55:23.397Z"
   },
   {
    "duration": 7,
    "start_time": "2024-10-13T10:57:50.711Z"
   },
   {
    "duration": 4,
    "start_time": "2024-10-13T10:58:01.678Z"
   },
   {
    "duration": 4,
    "start_time": "2024-10-13T10:58:07.447Z"
   },
   {
    "duration": 5,
    "start_time": "2024-10-13T10:58:11.791Z"
   },
   {
    "duration": 5,
    "start_time": "2024-10-13T10:58:20.799Z"
   },
   {
    "duration": 3,
    "start_time": "2024-10-13T11:01:45.577Z"
   },
   {
    "duration": 5,
    "start_time": "2024-10-13T11:01:54.657Z"
   },
   {
    "duration": 5,
    "start_time": "2024-10-13T11:02:07.138Z"
   },
   {
    "duration": 3,
    "start_time": "2024-10-13T11:03:58.867Z"
   },
   {
    "duration": 5,
    "start_time": "2024-10-13T11:04:00.178Z"
   },
   {
    "duration": 3461,
    "start_time": "2024-10-13T11:04:00.595Z"
   },
   {
    "duration": 5,
    "start_time": "2024-10-13T11:04:07.907Z"
   },
   {
    "duration": 4,
    "start_time": "2024-10-13T11:04:24.283Z"
   },
   {
    "duration": 7,
    "start_time": "2024-10-13T11:04:38.210Z"
   },
   {
    "duration": 4,
    "start_time": "2024-10-13T11:05:45.901Z"
   },
   {
    "duration": 4,
    "start_time": "2024-10-13T11:05:47.396Z"
   },
   {
    "duration": 3463,
    "start_time": "2024-10-13T11:06:07.605Z"
   },
   {
    "duration": 11,
    "start_time": "2024-10-13T11:06:11.070Z"
   },
   {
    "duration": 22,
    "start_time": "2024-10-13T11:06:11.082Z"
   },
   {
    "duration": 6,
    "start_time": "2024-10-13T11:06:11.106Z"
   },
   {
    "duration": 4,
    "start_time": "2024-10-13T11:07:14.861Z"
   },
   {
    "duration": 5,
    "start_time": "2024-10-13T11:07:36.341Z"
   },
   {
    "duration": 5,
    "start_time": "2024-10-13T11:07:36.606Z"
   },
   {
    "duration": 4,
    "start_time": "2024-10-13T11:07:53.152Z"
   },
   {
    "duration": 5,
    "start_time": "2024-10-13T11:08:32.647Z"
   },
   {
    "duration": 4,
    "start_time": "2024-10-13T11:09:28.520Z"
   },
   {
    "duration": 5,
    "start_time": "2024-10-13T11:11:41.931Z"
   },
   {
    "duration": 8,
    "start_time": "2024-10-13T11:11:43.506Z"
   },
   {
    "duration": 5,
    "start_time": "2024-10-13T11:11:43.850Z"
   },
   {
    "duration": 5,
    "start_time": "2024-10-13T11:11:44.242Z"
   },
   {
    "duration": 5,
    "start_time": "2024-10-13T11:12:25.563Z"
   },
   {
    "duration": 5,
    "start_time": "2024-10-13T11:12:27.162Z"
   },
   {
    "duration": 6,
    "start_time": "2024-10-13T11:12:33.410Z"
   },
   {
    "duration": 5,
    "start_time": "2024-10-13T11:12:34.347Z"
   },
   {
    "duration": 5,
    "start_time": "2024-10-13T11:12:56.282Z"
   },
   {
    "duration": 5,
    "start_time": "2024-10-13T11:12:56.619Z"
   },
   {
    "duration": 6,
    "start_time": "2024-10-13T11:13:20.795Z"
   },
   {
    "duration": 5,
    "start_time": "2024-10-13T11:13:21.371Z"
   },
   {
    "duration": 5,
    "start_time": "2024-10-13T11:16:56.068Z"
   },
   {
    "duration": 8,
    "start_time": "2024-10-13T11:22:14.627Z"
   },
   {
    "duration": 5,
    "start_time": "2024-10-13T11:22:17.547Z"
   },
   {
    "duration": 3392,
    "start_time": "2024-10-13T11:22:17.962Z"
   },
   {
    "duration": 3501,
    "start_time": "2024-10-13T11:23:16.699Z"
   },
   {
    "duration": 2,
    "start_time": "2024-10-13T11:24:56.133Z"
   },
   {
    "duration": 3,
    "start_time": "2024-10-13T11:24:56.572Z"
   },
   {
    "duration": 2,
    "start_time": "2024-10-13T11:25:17.981Z"
   },
   {
    "duration": 5,
    "start_time": "2024-10-13T11:25:18.629Z"
   },
   {
    "duration": 2439,
    "start_time": "2024-10-13T11:56:26.876Z"
   },
   {
    "duration": 1202,
    "start_time": "2024-10-13T11:56:29.318Z"
   },
   {
    "duration": 527,
    "start_time": "2024-10-13T11:56:30.521Z"
   },
   {
    "duration": 33,
    "start_time": "2024-10-13T11:56:31.050Z"
   },
   {
    "duration": 17,
    "start_time": "2024-10-13T11:56:31.085Z"
   },
   {
    "duration": 17,
    "start_time": "2024-10-13T11:56:31.104Z"
   },
   {
    "duration": 68,
    "start_time": "2024-10-13T11:56:31.123Z"
   },
   {
    "duration": 40,
    "start_time": "2024-10-13T11:56:31.193Z"
   },
   {
    "duration": 1234,
    "start_time": "2024-10-13T11:56:31.235Z"
   },
   {
    "duration": 362,
    "start_time": "2024-10-13T11:56:32.471Z"
   },
   {
    "duration": 41,
    "start_time": "2024-10-13T11:56:32.835Z"
   },
   {
    "duration": 1114,
    "start_time": "2024-10-13T11:56:32.877Z"
   },
   {
    "duration": 413,
    "start_time": "2024-10-13T11:56:33.993Z"
   },
   {
    "duration": 34,
    "start_time": "2024-10-13T11:56:34.409Z"
   },
   {
    "duration": 91,
    "start_time": "2024-10-13T11:56:34.444Z"
   },
   {
    "duration": 1128,
    "start_time": "2024-10-13T11:56:34.537Z"
   },
   {
    "duration": 336,
    "start_time": "2024-10-13T11:56:35.667Z"
   },
   {
    "duration": 6585,
    "start_time": "2024-10-13T11:56:36.005Z"
   },
   {
    "duration": 3,
    "start_time": "2024-10-13T11:56:42.591Z"
   },
   {
    "duration": 8,
    "start_time": "2024-10-13T11:56:42.595Z"
   },
   {
    "duration": 8,
    "start_time": "2024-10-13T11:56:42.604Z"
   },
   {
    "duration": 50,
    "start_time": "2024-10-13T11:56:42.613Z"
   },
   {
    "duration": 201,
    "start_time": "2024-10-13T11:56:42.677Z"
   },
   {
    "duration": 206,
    "start_time": "2024-10-13T11:56:42.881Z"
   },
   {
    "duration": 87,
    "start_time": "2024-10-13T11:56:43.089Z"
   },
   {
    "duration": 99,
    "start_time": "2024-10-13T11:56:43.179Z"
   },
   {
    "duration": 4,
    "start_time": "2024-10-13T11:56:43.280Z"
   },
   {
    "duration": 118,
    "start_time": "2024-10-13T11:56:43.286Z"
   },
   {
    "duration": 0,
    "start_time": "2024-10-13T11:56:43.406Z"
   },
   {
    "duration": 0,
    "start_time": "2024-10-13T11:56:43.407Z"
   },
   {
    "duration": 0,
    "start_time": "2024-10-13T11:56:43.408Z"
   },
   {
    "duration": 0,
    "start_time": "2024-10-13T11:56:43.409Z"
   },
   {
    "duration": 0,
    "start_time": "2024-10-13T11:56:43.410Z"
   },
   {
    "duration": 0,
    "start_time": "2024-10-13T11:56:43.411Z"
   },
   {
    "duration": 0,
    "start_time": "2024-10-13T11:56:43.411Z"
   },
   {
    "duration": 0,
    "start_time": "2024-10-13T11:56:43.412Z"
   },
   {
    "duration": 1,
    "start_time": "2024-10-13T11:56:43.413Z"
   },
   {
    "duration": 0,
    "start_time": "2024-10-13T11:56:43.415Z"
   },
   {
    "duration": 0,
    "start_time": "2024-10-13T11:56:43.416Z"
   },
   {
    "duration": 0,
    "start_time": "2024-10-13T11:56:43.416Z"
   },
   {
    "duration": 0,
    "start_time": "2024-10-13T11:56:43.417Z"
   },
   {
    "duration": 3,
    "start_time": "2024-10-13T11:57:03.926Z"
   },
   {
    "duration": 3,
    "start_time": "2024-10-13T11:57:37.086Z"
   },
   {
    "duration": 4,
    "start_time": "2024-10-13T11:57:37.510Z"
   },
   {
    "duration": 5,
    "start_time": "2024-10-13T11:57:39.270Z"
   },
   {
    "duration": 2383,
    "start_time": "2024-10-13T11:57:44.261Z"
   },
   {
    "duration": 1267,
    "start_time": "2024-10-13T11:57:46.646Z"
   },
   {
    "duration": 514,
    "start_time": "2024-10-13T11:57:47.915Z"
   },
   {
    "duration": 27,
    "start_time": "2024-10-13T11:57:48.431Z"
   },
   {
    "duration": 16,
    "start_time": "2024-10-13T11:57:48.475Z"
   },
   {
    "duration": 35,
    "start_time": "2024-10-13T11:57:48.493Z"
   },
   {
    "duration": 15,
    "start_time": "2024-10-13T11:57:48.530Z"
   },
   {
    "duration": 52,
    "start_time": "2024-10-13T11:57:48.547Z"
   },
   {
    "duration": 1266,
    "start_time": "2024-10-13T11:57:48.601Z"
   },
   {
    "duration": 347,
    "start_time": "2024-10-13T11:57:49.868Z"
   },
   {
    "duration": 35,
    "start_time": "2024-10-13T11:57:50.217Z"
   },
   {
    "duration": 1146,
    "start_time": "2024-10-13T11:57:50.254Z"
   },
   {
    "duration": 410,
    "start_time": "2024-10-13T11:57:51.401Z"
   },
   {
    "duration": 35,
    "start_time": "2024-10-13T11:57:51.814Z"
   },
   {
    "duration": 94,
    "start_time": "2024-10-13T11:57:51.850Z"
   },
   {
    "duration": 1152,
    "start_time": "2024-10-13T11:57:51.946Z"
   },
   {
    "duration": 324,
    "start_time": "2024-10-13T11:57:53.099Z"
   },
   {
    "duration": 6381,
    "start_time": "2024-10-13T11:57:53.424Z"
   },
   {
    "duration": 3,
    "start_time": "2024-10-13T11:57:59.806Z"
   },
   {
    "duration": 9,
    "start_time": "2024-10-13T11:57:59.810Z"
   },
   {
    "duration": 5,
    "start_time": "2024-10-13T11:57:59.821Z"
   },
   {
    "duration": 33,
    "start_time": "2024-10-13T11:57:59.827Z"
   },
   {
    "duration": 205,
    "start_time": "2024-10-13T11:57:59.877Z"
   },
   {
    "duration": 200,
    "start_time": "2024-10-13T11:58:00.085Z"
   },
   {
    "duration": 88,
    "start_time": "2024-10-13T11:58:00.288Z"
   },
   {
    "duration": 97,
    "start_time": "2024-10-13T11:58:00.379Z"
   },
   {
    "duration": 49,
    "start_time": "2024-10-13T11:58:00.478Z"
   },
   {
    "duration": 14,
    "start_time": "2024-10-13T11:58:00.529Z"
   },
   {
    "duration": 5,
    "start_time": "2024-10-13T11:58:00.544Z"
   },
   {
    "duration": 4,
    "start_time": "2024-10-13T11:58:00.550Z"
   },
   {
    "duration": 4,
    "start_time": "2024-10-13T11:58:00.555Z"
   },
   {
    "duration": 33,
    "start_time": "2024-10-13T11:58:00.560Z"
   },
   {
    "duration": 5,
    "start_time": "2024-10-13T11:58:00.594Z"
   },
   {
    "duration": 8,
    "start_time": "2024-10-13T11:58:00.601Z"
   },
   {
    "duration": 7,
    "start_time": "2024-10-13T11:58:00.611Z"
   },
   {
    "duration": 6,
    "start_time": "2024-10-13T11:58:00.620Z"
   },
   {
    "duration": 3429,
    "start_time": "2024-10-13T11:58:00.628Z"
   },
   {
    "duration": 3,
    "start_time": "2024-10-13T11:58:04.058Z"
   },
   {
    "duration": 16,
    "start_time": "2024-10-13T11:58:04.062Z"
   },
   {
    "duration": 7,
    "start_time": "2024-10-13T11:58:04.080Z"
   },
   {
    "duration": 13,
    "start_time": "2024-10-13T11:58:04.091Z"
   },
   {
    "duration": 8252,
    "start_time": "2024-10-13T16:53:54.058Z"
   },
   {
    "duration": 1387,
    "start_time": "2024-10-13T16:54:02.312Z"
   },
   {
    "duration": 1830,
    "start_time": "2024-10-13T16:54:03.700Z"
   },
   {
    "duration": 28,
    "start_time": "2024-10-13T16:54:05.532Z"
   },
   {
    "duration": 16,
    "start_time": "2024-10-13T16:54:05.562Z"
   },
   {
    "duration": 15,
    "start_time": "2024-10-13T16:54:05.580Z"
   },
   {
    "duration": 61,
    "start_time": "2024-10-13T16:54:05.597Z"
   },
   {
    "duration": 37,
    "start_time": "2024-10-13T16:54:05.660Z"
   },
   {
    "duration": 1326,
    "start_time": "2024-10-13T16:54:05.699Z"
   },
   {
    "duration": 412,
    "start_time": "2024-10-13T16:54:07.027Z"
   },
   {
    "duration": 39,
    "start_time": "2024-10-13T16:54:07.440Z"
   },
   {
    "duration": 1159,
    "start_time": "2024-10-13T16:54:07.480Z"
   },
   {
    "duration": 435,
    "start_time": "2024-10-13T16:54:08.641Z"
   },
   {
    "duration": 34,
    "start_time": "2024-10-13T16:54:09.077Z"
   },
   {
    "duration": 91,
    "start_time": "2024-10-13T16:54:09.113Z"
   },
   {
    "duration": 1138,
    "start_time": "2024-10-13T16:54:09.205Z"
   },
   {
    "duration": 331,
    "start_time": "2024-10-13T16:54:10.351Z"
   },
   {
    "duration": 6906,
    "start_time": "2024-10-13T16:54:10.683Z"
   },
   {
    "duration": 3,
    "start_time": "2024-10-13T16:54:17.590Z"
   },
   {
    "duration": 7,
    "start_time": "2024-10-13T16:54:17.594Z"
   },
   {
    "duration": 6,
    "start_time": "2024-10-13T16:54:17.603Z"
   },
   {
    "duration": 43,
    "start_time": "2024-10-13T16:54:17.610Z"
   },
   {
    "duration": 313,
    "start_time": "2024-10-13T16:54:17.655Z"
   },
   {
    "duration": 0,
    "start_time": "2024-10-13T16:54:17.970Z"
   },
   {
    "duration": 0,
    "start_time": "2024-10-13T16:54:17.971Z"
   },
   {
    "duration": 0,
    "start_time": "2024-10-13T16:54:17.973Z"
   },
   {
    "duration": 0,
    "start_time": "2024-10-13T16:54:17.974Z"
   },
   {
    "duration": 0,
    "start_time": "2024-10-13T16:54:17.976Z"
   },
   {
    "duration": 0,
    "start_time": "2024-10-13T16:54:17.977Z"
   },
   {
    "duration": 0,
    "start_time": "2024-10-13T16:54:17.979Z"
   },
   {
    "duration": 0,
    "start_time": "2024-10-13T16:54:17.981Z"
   },
   {
    "duration": 0,
    "start_time": "2024-10-13T16:54:17.983Z"
   },
   {
    "duration": 0,
    "start_time": "2024-10-13T16:54:17.986Z"
   },
   {
    "duration": 0,
    "start_time": "2024-10-13T16:54:17.987Z"
   },
   {
    "duration": 0,
    "start_time": "2024-10-13T16:54:17.989Z"
   },
   {
    "duration": 0,
    "start_time": "2024-10-13T16:54:17.991Z"
   },
   {
    "duration": 0,
    "start_time": "2024-10-13T16:54:17.992Z"
   },
   {
    "duration": 0,
    "start_time": "2024-10-13T16:54:17.994Z"
   },
   {
    "duration": 0,
    "start_time": "2024-10-13T16:54:17.996Z"
   },
   {
    "duration": 0,
    "start_time": "2024-10-13T16:54:17.997Z"
   },
   {
    "duration": 0,
    "start_time": "2024-10-13T16:54:17.999Z"
   },
   {
    "duration": 2425,
    "start_time": "2024-10-13T16:55:09.499Z"
   },
   {
    "duration": 1292,
    "start_time": "2024-10-13T16:55:11.927Z"
   },
   {
    "duration": 493,
    "start_time": "2024-10-13T16:55:13.221Z"
   },
   {
    "duration": 39,
    "start_time": "2024-10-13T16:55:13.716Z"
   },
   {
    "duration": 50,
    "start_time": "2024-10-13T16:55:13.756Z"
   },
   {
    "duration": 15,
    "start_time": "2024-10-13T16:55:13.808Z"
   },
   {
    "duration": 15,
    "start_time": "2024-10-13T16:55:13.825Z"
   },
   {
    "duration": 50,
    "start_time": "2024-10-13T16:55:13.850Z"
   },
   {
    "duration": 1336,
    "start_time": "2024-10-13T16:55:13.902Z"
   },
   {
    "duration": 347,
    "start_time": "2024-10-13T16:55:15.242Z"
   },
   {
    "duration": 36,
    "start_time": "2024-10-13T16:55:15.591Z"
   },
   {
    "duration": 1185,
    "start_time": "2024-10-13T16:55:15.629Z"
   },
   {
    "duration": 482,
    "start_time": "2024-10-13T16:55:16.815Z"
   },
   {
    "duration": 35,
    "start_time": "2024-10-13T16:55:17.298Z"
   },
   {
    "duration": 97,
    "start_time": "2024-10-13T16:55:17.335Z"
   },
   {
    "duration": 1274,
    "start_time": "2024-10-13T16:55:17.434Z"
   },
   {
    "duration": 405,
    "start_time": "2024-10-13T16:55:18.710Z"
   },
   {
    "duration": 6871,
    "start_time": "2024-10-13T16:55:19.117Z"
   },
   {
    "duration": 3,
    "start_time": "2024-10-13T16:55:25.990Z"
   },
   {
    "duration": 10,
    "start_time": "2024-10-13T16:55:25.994Z"
   },
   {
    "duration": 11,
    "start_time": "2024-10-13T16:55:26.006Z"
   },
   {
    "duration": 34,
    "start_time": "2024-10-13T16:55:26.018Z"
   },
   {
    "duration": 211,
    "start_time": "2024-10-13T16:55:26.054Z"
   },
   {
    "duration": 197,
    "start_time": "2024-10-13T16:55:26.268Z"
   },
   {
    "duration": 86,
    "start_time": "2024-10-13T16:55:26.467Z"
   },
   {
    "duration": 6,
    "start_time": "2024-10-13T16:55:26.555Z"
   },
   {
    "duration": 88,
    "start_time": "2024-10-13T16:55:26.564Z"
   },
   {
    "duration": 3,
    "start_time": "2024-10-13T16:55:26.657Z"
   },
   {
    "duration": 5,
    "start_time": "2024-10-13T16:55:26.662Z"
   },
   {
    "duration": 4,
    "start_time": "2024-10-13T16:55:26.668Z"
   },
   {
    "duration": 7,
    "start_time": "2024-10-13T16:55:26.673Z"
   },
   {
    "duration": 81,
    "start_time": "2024-10-13T16:55:26.682Z"
   },
   {
    "duration": 55,
    "start_time": "2024-10-13T16:55:26.765Z"
   },
   {
    "duration": 5,
    "start_time": "2024-10-13T16:55:26.821Z"
   },
   {
    "duration": 4,
    "start_time": "2024-10-13T16:55:26.827Z"
   },
   {
    "duration": 6,
    "start_time": "2024-10-13T16:55:26.832Z"
   },
   {
    "duration": 3484,
    "start_time": "2024-10-13T16:55:26.839Z"
   },
   {
    "duration": 3,
    "start_time": "2024-10-13T16:55:30.325Z"
   },
   {
    "duration": 29,
    "start_time": "2024-10-13T16:55:30.329Z"
   },
   {
    "duration": 23,
    "start_time": "2024-10-13T16:55:30.359Z"
   },
   {
    "duration": 25,
    "start_time": "2024-10-13T16:55:30.383Z"
   },
   {
    "duration": 3,
    "start_time": "2024-10-13T17:03:13.767Z"
   },
   {
    "duration": 3,
    "start_time": "2024-10-13T17:04:18.621Z"
   },
   {
    "duration": 3,
    "start_time": "2024-10-13T17:04:18.804Z"
   },
   {
    "duration": 5,
    "start_time": "2024-10-13T17:04:19.261Z"
   },
   {
    "duration": 4,
    "start_time": "2024-10-13T17:04:19.989Z"
   },
   {
    "duration": 5,
    "start_time": "2024-10-13T17:04:22.349Z"
   },
   {
    "duration": 16,
    "start_time": "2024-10-13T17:04:23.101Z"
   },
   {
    "duration": 3,
    "start_time": "2024-10-13T17:04:26.205Z"
   },
   {
    "duration": 4,
    "start_time": "2024-10-13T17:04:27.053Z"
   },
   {
    "duration": 4,
    "start_time": "2024-10-13T17:05:33.758Z"
   },
   {
    "duration": 3,
    "start_time": "2024-10-13T17:06:09.637Z"
   },
   {
    "duration": 3,
    "start_time": "2024-10-13T17:06:09.847Z"
   },
   {
    "duration": 4,
    "start_time": "2024-10-13T17:06:09.990Z"
   },
   {
    "duration": 3,
    "start_time": "2024-10-13T17:06:10.310Z"
   },
   {
    "duration": 5,
    "start_time": "2024-10-13T17:06:10.478Z"
   },
   {
    "duration": 13,
    "start_time": "2024-10-13T17:06:10.630Z"
   },
   {
    "duration": 4,
    "start_time": "2024-10-13T17:06:10.782Z"
   },
   {
    "duration": 3,
    "start_time": "2024-10-13T17:06:11.311Z"
   },
   {
    "duration": 5,
    "start_time": "2024-10-13T17:10:26.138Z"
   },
   {
    "duration": 3470,
    "start_time": "2024-10-13T17:10:30.113Z"
   },
   {
    "duration": 2,
    "start_time": "2024-10-13T17:10:33.585Z"
   },
   {
    "duration": 31,
    "start_time": "2024-10-13T17:10:33.588Z"
   },
   {
    "duration": 27,
    "start_time": "2024-10-13T17:10:33.621Z"
   },
   {
    "duration": 5,
    "start_time": "2024-10-13T17:10:36.986Z"
   },
   {
    "duration": 5,
    "start_time": "2024-10-13T17:10:58.106Z"
   },
   {
    "duration": 3463,
    "start_time": "2024-10-13T17:10:59.753Z"
   },
   {
    "duration": 3,
    "start_time": "2024-10-13T17:11:03.218Z"
   },
   {
    "duration": 16,
    "start_time": "2024-10-13T17:11:03.223Z"
   },
   {
    "duration": 9,
    "start_time": "2024-10-13T17:11:03.241Z"
   },
   {
    "duration": 7,
    "start_time": "2024-10-13T17:11:03.252Z"
   },
   {
    "duration": 2456,
    "start_time": "2024-10-13T17:17:01.920Z"
   },
   {
    "duration": 1232,
    "start_time": "2024-10-13T17:17:04.378Z"
   },
   {
    "duration": 594,
    "start_time": "2024-10-13T17:17:05.612Z"
   },
   {
    "duration": 26,
    "start_time": "2024-10-13T17:17:06.208Z"
   },
   {
    "duration": 51,
    "start_time": "2024-10-13T17:17:06.236Z"
   },
   {
    "duration": 29,
    "start_time": "2024-10-13T17:17:06.289Z"
   },
   {
    "duration": 27,
    "start_time": "2024-10-13T17:17:06.319Z"
   },
   {
    "duration": 38,
    "start_time": "2024-10-13T17:17:06.347Z"
   },
   {
    "duration": 1282,
    "start_time": "2024-10-13T17:17:06.387Z"
   },
   {
    "duration": 332,
    "start_time": "2024-10-13T17:17:07.671Z"
   },
   {
    "duration": 34,
    "start_time": "2024-10-13T17:17:08.005Z"
   },
   {
    "duration": 1169,
    "start_time": "2024-10-13T17:17:08.041Z"
   },
   {
    "duration": 432,
    "start_time": "2024-10-13T17:17:09.211Z"
   },
   {
    "duration": 38,
    "start_time": "2024-10-13T17:17:09.644Z"
   },
   {
    "duration": 97,
    "start_time": "2024-10-13T17:17:09.684Z"
   },
   {
    "duration": 1173,
    "start_time": "2024-10-13T17:17:09.783Z"
   },
   {
    "duration": 329,
    "start_time": "2024-10-13T17:17:10.957Z"
   },
   {
    "duration": 6686,
    "start_time": "2024-10-13T17:17:11.287Z"
   },
   {
    "duration": 3,
    "start_time": "2024-10-13T17:17:17.974Z"
   },
   {
    "duration": 16,
    "start_time": "2024-10-13T17:17:17.978Z"
   },
   {
    "duration": 5,
    "start_time": "2024-10-13T17:17:17.996Z"
   },
   {
    "duration": 49,
    "start_time": "2024-10-13T17:17:18.003Z"
   },
   {
    "duration": 202,
    "start_time": "2024-10-13T17:17:18.055Z"
   },
   {
    "duration": 208,
    "start_time": "2024-10-13T17:17:18.259Z"
   },
   {
    "duration": 85,
    "start_time": "2024-10-13T17:17:18.470Z"
   },
   {
    "duration": 96,
    "start_time": "2024-10-13T17:17:18.558Z"
   },
   {
    "duration": 6,
    "start_time": "2024-10-13T17:17:18.655Z"
   },
   {
    "duration": 4,
    "start_time": "2024-10-13T17:17:18.664Z"
   },
   {
    "duration": 5,
    "start_time": "2024-10-13T17:17:18.669Z"
   },
   {
    "duration": 3,
    "start_time": "2024-10-13T17:17:18.676Z"
   },
   {
    "duration": 4,
    "start_time": "2024-10-13T17:17:18.681Z"
   },
   {
    "duration": 15,
    "start_time": "2024-10-13T17:17:18.687Z"
   },
   {
    "duration": 4,
    "start_time": "2024-10-13T17:17:18.704Z"
   },
   {
    "duration": 5,
    "start_time": "2024-10-13T17:17:18.751Z"
   },
   {
    "duration": 59,
    "start_time": "2024-10-13T17:17:18.757Z"
   },
   {
    "duration": 6,
    "start_time": "2024-10-13T17:17:18.818Z"
   },
   {
    "duration": 114,
    "start_time": "2024-10-13T17:17:18.826Z"
   },
   {
    "duration": 0,
    "start_time": "2024-10-13T17:17:18.942Z"
   },
   {
    "duration": 0,
    "start_time": "2024-10-13T17:17:18.943Z"
   },
   {
    "duration": 0,
    "start_time": "2024-10-13T17:17:18.944Z"
   },
   {
    "duration": 0,
    "start_time": "2024-10-13T17:17:18.945Z"
   },
   {
    "duration": 5,
    "start_time": "2024-10-13T17:17:49.310Z"
   },
   {
    "duration": 14,
    "start_time": "2024-10-13T17:17:51.399Z"
   },
   {
    "duration": 6,
    "start_time": "2024-10-13T17:18:05.183Z"
   },
   {
    "duration": 3653,
    "start_time": "2024-10-13T17:18:06.999Z"
   },
   {
    "duration": 3,
    "start_time": "2024-10-13T17:18:10.654Z"
   },
   {
    "duration": 2538,
    "start_time": "2024-10-13T17:18:13.873Z"
   },
   {
    "duration": 1182,
    "start_time": "2024-10-13T17:18:16.413Z"
   },
   {
    "duration": 506,
    "start_time": "2024-10-13T17:18:17.597Z"
   },
   {
    "duration": 28,
    "start_time": "2024-10-13T17:18:18.105Z"
   },
   {
    "duration": 26,
    "start_time": "2024-10-13T17:18:18.135Z"
   },
   {
    "duration": 15,
    "start_time": "2024-10-13T17:18:18.162Z"
   },
   {
    "duration": 14,
    "start_time": "2024-10-13T17:18:18.179Z"
   },
   {
    "duration": 67,
    "start_time": "2024-10-13T17:18:18.194Z"
   },
   {
    "duration": 1315,
    "start_time": "2024-10-13T17:18:18.263Z"
   },
   {
    "duration": 350,
    "start_time": "2024-10-13T17:18:19.580Z"
   },
   {
    "duration": 44,
    "start_time": "2024-10-13T17:18:19.932Z"
   },
   {
    "duration": 1188,
    "start_time": "2024-10-13T17:18:19.977Z"
   },
   {
    "duration": 423,
    "start_time": "2024-10-13T17:18:21.166Z"
   },
   {
    "duration": 35,
    "start_time": "2024-10-13T17:18:21.592Z"
   },
   {
    "duration": 88,
    "start_time": "2024-10-13T17:18:21.628Z"
   },
   {
    "duration": 1199,
    "start_time": "2024-10-13T17:18:21.718Z"
   },
   {
    "duration": 374,
    "start_time": "2024-10-13T17:18:22.919Z"
   },
   {
    "duration": 6361,
    "start_time": "2024-10-13T17:18:23.295Z"
   },
   {
    "duration": 2,
    "start_time": "2024-10-13T17:18:29.658Z"
   },
   {
    "duration": 5,
    "start_time": "2024-10-13T17:18:29.662Z"
   },
   {
    "duration": 11,
    "start_time": "2024-10-13T17:18:29.668Z"
   },
   {
    "duration": 32,
    "start_time": "2024-10-13T17:18:29.680Z"
   },
   {
    "duration": 119,
    "start_time": "2024-10-13T17:18:29.753Z"
   },
   {
    "duration": 193,
    "start_time": "2024-10-13T17:18:29.874Z"
   },
   {
    "duration": 81,
    "start_time": "2024-10-13T17:18:30.077Z"
   },
   {
    "duration": 96,
    "start_time": "2024-10-13T17:18:30.160Z"
   },
   {
    "duration": 74,
    "start_time": "2024-10-13T17:18:30.257Z"
   },
   {
    "duration": 36,
    "start_time": "2024-10-13T17:18:30.333Z"
   },
   {
    "duration": 40,
    "start_time": "2024-10-13T17:18:30.370Z"
   },
   {
    "duration": 31,
    "start_time": "2024-10-13T17:18:30.411Z"
   },
   {
    "duration": 19,
    "start_time": "2024-10-13T17:18:30.444Z"
   },
   {
    "duration": 15,
    "start_time": "2024-10-13T17:18:30.465Z"
   },
   {
    "duration": 3,
    "start_time": "2024-10-13T17:18:30.482Z"
   },
   {
    "duration": 33,
    "start_time": "2024-10-13T17:18:30.486Z"
   },
   {
    "duration": 19,
    "start_time": "2024-10-13T17:18:30.521Z"
   },
   {
    "duration": 13,
    "start_time": "2024-10-13T17:18:30.542Z"
   },
   {
    "duration": 3578,
    "start_time": "2024-10-13T17:18:30.557Z"
   },
   {
    "duration": 3,
    "start_time": "2024-10-13T17:18:34.136Z"
   },
   {
    "duration": 12,
    "start_time": "2024-10-13T17:18:34.141Z"
   },
   {
    "duration": 11,
    "start_time": "2024-10-13T17:18:34.155Z"
   },
   {
    "duration": 5,
    "start_time": "2024-10-13T17:18:34.170Z"
   }
  ],
  "kernelspec": {
   "display_name": "Python 3 (ipykernel)",
   "language": "python",
   "name": "python3"
  },
  "language_info": {
   "codemirror_mode": {
    "name": "ipython",
    "version": 3
   },
   "file_extension": ".py",
   "mimetype": "text/x-python",
   "name": "python",
   "nbconvert_exporter": "python",
   "pygments_lexer": "ipython3",
   "version": "3.9.5"
  },
  "toc": {
   "base_numbering": 1,
   "nav_menu": {},
   "number_sections": true,
   "sideBar": true,
   "skip_h1_title": true,
   "title_cell": "Table of Contents",
   "title_sidebar": "Contents",
   "toc_cell": false,
   "toc_position": {},
   "toc_section_display": true,
   "toc_window_display": false
  }
 },
 "nbformat": 4,
 "nbformat_minor": 2
}
